{
  "nbformat": 4,
  "nbformat_minor": 0,
  "metadata": {
    "colab": {
      "provenance": [],
      "include_colab_link": true
    },
    "kernelspec": {
      "name": "python3",
      "display_name": "Python 3"
    },
    "language_info": {
      "name": "python"
    },
    "accelerator": "GPU",
    "gpuClass": "premium"
  },
  "cells": [
    {
      "cell_type": "markdown",
      "metadata": {
        "id": "view-in-github",
        "colab_type": "text"
      },
      "source": [
        "<a href=\"https://colab.research.google.com/github/ram130849/Deep_Learning_Systems_Assignments/blob/main/TensorFlow/Sushant/DLS_Assignment_4_Part4.ipynb\" target=\"_parent\"><img src=\"https://colab.research.google.com/assets/colab-badge.svg\" alt=\"Open In Colab\"/></a>"
      ]
    },
    {
      "cell_type": "code",
      "execution_count": 1,
      "metadata": {
        "id": "XsnzadLJdznS"
      },
      "outputs": [],
      "source": [
        "import numpy as np\n",
        "import pandas as pd\n",
        "import matplotlib.pyplot as plt\n",
        "import seaborn as sns\n",
        "import tensorflow as tf\n",
        "import timeit\n",
        "from tensorflow.keras.utils import to_categorical\n",
        "import pickle\n",
        "import random\n",
        "import librosa\n",
        "import librosa.display\n",
        "from itertools import combinations,product\n",
        "from tensorflow.keras.layers import Layer\n",
        "from tensorflow import keras\n",
        "from tensorflow.keras import layers\n",
        "from tensorflow.keras.layers import Flatten\n",
        "from keras.models import Model\n",
        "from sklearn.decomposition import PCA\n",
        "from sklearn.manifold import TSNE"
      ]
    },
    {
      "cell_type": "code",
      "source": [
        "device_name = tf.test.gpu_device_name()\n",
        "if device_name != '/device:GPU:0':\n",
        "  raise SystemError('GPU device not found')\n",
        "print('Found GPU at: {}'.format(device_name))"
      ],
      "metadata": {
        "colab": {
          "base_uri": "https://localhost:8080/"
        },
        "id": "nSbJ2FK4ebCF",
        "outputId": "0dc4f152-7a0d-4fdd-a37b-a832a614086a"
      },
      "execution_count": 2,
      "outputs": [
        {
          "output_type": "stream",
          "name": "stdout",
          "text": [
            "Found GPU at: /device:GPU:0\n"
          ]
        }
      ]
    },
    {
      "cell_type": "code",
      "source": [
        "device_name = tf.test.gpu_device_name()\n",
        "if device_name != '/device:GPU:0':\n",
        "  print(\n",
        "      '\\n\\nThis error most likely means that this notebook is not '\n",
        "      'configured to use a GPU.  Change this in Notebook Settings via the '\n",
        "      'command palette (cmd/ctrl-shift-P) or the Edit menu.\\n\\n')\n",
        "  raise SystemError('GPU device not found')\n",
        "\n",
        "def cpu():\n",
        "  with tf.device('/cpu:0'):\n",
        "    random_image_cpu = tf.random.normal((100, 100, 100, 3))\n",
        "    net_cpu = tf.keras.layers.Conv2D(32, 7)(random_image_cpu)\n",
        "    return tf.math.reduce_sum(net_cpu)\n",
        "\n",
        "def gpu():\n",
        "  with tf.device('/device:GPU:0'):\n",
        "    random_image_gpu = tf.random.normal((100, 100, 100, 3))\n",
        "    net_gpu = tf.keras.layers.Conv2D(32, 7)(random_image_gpu)\n",
        "    return tf.math.reduce_sum(net_gpu)\n",
        "  \n",
        "# We run each op once to warm up; see: https://stackoverflow.com/a/45067900\n",
        "cpu()\n",
        "gpu()\n",
        "\n",
        "# Run the op several times.\n",
        "print('Time (s) to convolve 32x7x7x3 filter over random 100x100x100x3 images '\n",
        "      '(batch x height x width x channel). Sum of ten runs.')\n",
        "print('CPU (s):')\n",
        "cpu_time = timeit.timeit('cpu()', number=10, setup=\"from __main__ import cpu\")\n",
        "print(cpu_time)\n",
        "print('GPU (s):')\n",
        "gpu_time = timeit.timeit('gpu()', number=10, setup=\"from __main__ import gpu\")\n",
        "print(gpu_time)\n",
        "print('GPU speedup over CPU: {}x'.format(int(cpu_time/gpu_time)))"
      ],
      "metadata": {
        "colab": {
          "base_uri": "https://localhost:8080/"
        },
        "id": "0rY2KPnnebJD",
        "outputId": "d9774c9f-6eb1-462b-c729-425570c75df9"
      },
      "execution_count": 3,
      "outputs": [
        {
          "output_type": "stream",
          "name": "stdout",
          "text": [
            "Time (s) to convolve 32x7x7x3 filter over random 100x100x100x3 images (batch x height x width x channel). Sum of ten runs.\n",
            "CPU (s):\n",
            "0.411242604999984\n",
            "GPU (s):\n",
            "0.03964345899998989\n",
            "GPU speedup over CPU: 10x\n"
          ]
        }
      ]
    },
    {
      "cell_type": "code",
      "source": [
        "from google.colab import drive\n",
        "drive.mount('/content/drive')"
      ],
      "metadata": {
        "colab": {
          "base_uri": "https://localhost:8080/"
        },
        "id": "P5zXwb9LFYp2",
        "outputId": "d451291d-4370-43d2-aea6-6ee29207c401"
      },
      "execution_count": 4,
      "outputs": [
        {
          "output_type": "stream",
          "name": "stdout",
          "text": [
            "Mounted at /content/drive\n"
          ]
        }
      ]
    },
    {
      "cell_type": "code",
      "source": [
        "train_path = '/content/drive/MyDrive/DLS_Assignments/Assignment4_Files/hw4_trs.pkl'\n",
        "test_path = '/content/drive/MyDrive/DLS_Assignments/Assignment4_Files/hw4_tes.pkl'"
      ],
      "metadata": {
        "id": "YcjFDZMhFece"
      },
      "execution_count": 5,
      "outputs": []
    },
    {
      "cell_type": "code",
      "source": [
        "tr_pickle = open(train_path,'rb')\n",
        "ts_pickle = open(test_path,'rb')\n",
        "x_train = pickle.load(tr_pickle)\n",
        "x_test = pickle.load(ts_pickle)"
      ],
      "metadata": {
        "id": "8AX-SenIFzOW"
      },
      "execution_count": 97,
      "outputs": []
    },
    {
      "cell_type": "code",
      "source": [
        "print(x_train.shape)"
      ],
      "metadata": {
        "colab": {
          "base_uri": "https://localhost:8080/"
        },
        "id": "nq7tvmqZIK-N",
        "outputId": "cffca740-f76c-4239-ce96-095418ba1abf"
      },
      "execution_count": 98,
      "outputs": [
        {
          "output_type": "stream",
          "name": "stdout",
          "text": [
            "(500, 16180)\n"
          ]
        }
      ]
    },
    {
      "cell_type": "code",
      "source": [
        "print(x_test.shape)"
      ],
      "metadata": {
        "colab": {
          "base_uri": "https://localhost:8080/"
        },
        "id": "qR4W58Z0IO13",
        "outputId": "78c60675-522e-442f-c48e-d84aa1d6e004"
      },
      "execution_count": 99,
      "outputs": [
        {
          "output_type": "stream",
          "name": "stdout",
          "text": [
            "(200, 22631)\n"
          ]
        }
      ]
    },
    {
      "cell_type": "markdown",
      "source": [
        "### Creating Positive Samples"
      ],
      "metadata": {
        "id": "IgJLwXv_RXYL"
      }
    },
    {
      "cell_type": "code",
      "source": [
        "positive_pairs_index = random.sample(list(combinations(range(10),2)),45)"
      ],
      "metadata": {
        "id": "SYaJRXS-RVvi"
      },
      "execution_count": 100,
      "outputs": []
    },
    {
      "cell_type": "code",
      "source": [
        "x_train[0][0]"
      ],
      "metadata": {
        "colab": {
          "base_uri": "https://localhost:8080/"
        },
        "id": "Bc1n7DRCVoId",
        "outputId": "b9eeb535-e126-414b-db82-f2cdf2ac40e6"
      },
      "execution_count": 101,
      "outputs": [
        {
          "output_type": "execute_result",
          "data": {
            "text/plain": [
              "4.1278403e-05"
            ]
          },
          "metadata": {},
          "execution_count": 101
        }
      ]
    },
    {
      "cell_type": "code",
      "source": [
        "x_train_stft = np.zeros(shape=(500,45,513))\n",
        "for i in range(x_train.shape[0]):\n",
        "    x = x_train[i,:]\n",
        "    X_complex = librosa.stft(x, n_fft=1024, hop_length=512)\n",
        "    X = np.abs(X_complex).T\n",
        "    x_train_stft[i,:,:] = np.pad(X,((0,13),(0,0)), 'constant')\n",
        "print(x_train_stft.shape)"
      ],
      "metadata": {
        "colab": {
          "base_uri": "https://localhost:8080/"
        },
        "id": "qhVuKYDdXFxe",
        "outputId": "cbcb0bac-e593-425e-d283-185c18b19882"
      },
      "execution_count": 102,
      "outputs": [
        {
          "output_type": "stream",
          "name": "stdout",
          "text": [
            "(500, 45, 513)\n"
          ]
        }
      ]
    },
    {
      "cell_type": "code",
      "source": [
        "y_train = np.zeros((500,1))\n",
        "index=0\n",
        "for i in range(0,50):\n",
        "    for j in range(0,10):\n",
        "        y_train[index]=i\n",
        "        index+=1\n",
        "print(y_train.shape)"
      ],
      "metadata": {
        "colab": {
          "base_uri": "https://localhost:8080/"
        },
        "id": "rPD0PDuYbpbT",
        "outputId": "858f3bde-8dd1-4ecd-82f2-3f2c49d50944"
      },
      "execution_count": 103,
      "outputs": [
        {
          "output_type": "stream",
          "name": "stdout",
          "text": [
            "(500, 1)\n"
          ]
        }
      ]
    },
    {
      "cell_type": "code",
      "source": [
        "x_train_stft[0].shape"
      ],
      "metadata": {
        "colab": {
          "base_uri": "https://localhost:8080/"
        },
        "id": "LT5xp7zPjGsO",
        "outputId": "b2612c7d-216b-47cd-969c-b438522aa7ae"
      },
      "execution_count": 104,
      "outputs": [
        {
          "output_type": "execute_result",
          "data": {
            "text/plain": [
              "(45, 513)"
            ]
          },
          "metadata": {},
          "execution_count": 104
        }
      ]
    },
    {
      "cell_type": "code",
      "source": [
        "x_test_stft = np.zeros(shape=(200,45,513))\n",
        "for i in range(x_test.shape[0]):\n",
        "    x = x_test[i,:]\n",
        "    X_complex = librosa.stft(x, n_fft=1024, hop_length=512)\n",
        "    X = np.abs(X_complex).T\n",
        "    x_test_stft[i,:,:] = X\n",
        "print(x_test_stft.shape)"
      ],
      "metadata": {
        "colab": {
          "base_uri": "https://localhost:8080/"
        },
        "id": "tkNdsOskXRmy",
        "outputId": "c224f4d6-79e4-44c5-c488-ee9aa86d15c9"
      },
      "execution_count": 105,
      "outputs": [
        {
          "output_type": "stream",
          "name": "stdout",
          "text": [
            "(200, 45, 513)\n"
          ]
        }
      ]
    },
    {
      "cell_type": "code",
      "source": [
        "y_test = np.zeros((200,1))\n",
        "idx=0\n",
        "for i in range(0,20):\n",
        "    for j in range(0,10):\n",
        "        y_test[idx]=i\n",
        "        idx+=1\n",
        "print(y_test.shape)"
      ],
      "metadata": {
        "colab": {
          "base_uri": "https://localhost:8080/"
        },
        "id": "ibNvziWTb8Ox",
        "outputId": "59220e84-dd3a-4ddd-d66b-fd00fe5289cc"
      },
      "execution_count": 106,
      "outputs": [
        {
          "output_type": "stream",
          "name": "stdout",
          "text": [
            "(200, 1)\n"
          ]
        }
      ]
    },
    {
      "cell_type": "code",
      "source": [
        "y_train = np.array(y_train)\n",
        "X_index = np.arange(0,len(y_train)).reshape(-1,1)"
      ],
      "metadata": {
        "id": "hbtc4LTnbfcA"
      },
      "execution_count": 107,
      "outputs": []
    },
    {
      "cell_type": "code",
      "source": [
        "num_pairs = 45\n",
        "unique_speaker = np.unique(y_train)"
      ],
      "metadata": {
        "id": "aLM101uN_j-G"
      },
      "execution_count": 108,
      "outputs": []
    },
    {
      "cell_type": "code",
      "source": [
        "def positive_pair(pos_index,pairs,labels,data):\n",
        "  positive_list = list(combinations(pos_index,2))\n",
        "  positive_pairs = random.sample(positive_list,num_pairs)\n",
        "  for pair in positive_pairs:\n",
        "    inst1,inst2 = data[pair[0],:,:], data[pair[1],:,:]\n",
        "    pairs = pairs + [[inst1,inst2]]\n",
        "    labels = labels + [0]\n",
        "  return pairs,labels"
      ],
      "metadata": {
        "id": "AZZoHP37_W_B"
      },
      "execution_count": 109,
      "outputs": []
    },
    {
      "cell_type": "code",
      "source": [
        "def add_negative_pairs(pos_index,neg_index,pairs,label,data):\n",
        "  negative_list = list(product(pos_index,neg_index))\n",
        "  negative_pairs = random.sample(negative_list,num_pairs)\n",
        "  for pair in negative_pairs:\n",
        "    inst1,inst2 = data[pair[0],:,:], data[pair[1],:,:]\n",
        "    pairs = pairs + [[inst1,inst2]]\n",
        "    label = label + [1]\n",
        "  return pairs,label"
      ],
      "metadata": {
        "id": "s4qFQ-Nx_aTD"
      },
      "execution_count": 110,
      "outputs": []
    },
    {
      "cell_type": "code",
      "source": [
        "pair_list = []\n",
        "labels =[]\n",
        "for speaker in unique_speaker:\n",
        "  speaker1_index = X_index[np.where(y_train==speaker)]\n",
        "  speaker2_index = X_index[np.where(y_train!=speaker)]\n",
        "  pair_list,labels = positive_pair(speaker1_index,pair_list,labels,x_train_stft)\n",
        "  #print(len(pair_pos))\n",
        "  pair_list,labels = add_negative_pairs(speaker1_index,speaker2_index,pair_list,labels,x_train_stft)\n",
        "  #pair_list.append(final_pair)\n",
        "  #labels.append(final_labels)\n",
        "  #print(len(final_pair_list)) \n",
        "  #print(len(final_labels))\n",
        "\n",
        "pair_list = np.asarray(pair_list)\n",
        "labels = np.asarray(labels).astype(\"float32\")"
      ],
      "metadata": {
        "id": "MizXeqiFa8o4"
      },
      "execution_count": 111,
      "outputs": []
    },
    {
      "cell_type": "code",
      "source": [
        "y_test = np.array(y_test)\n",
        "x_index = np.arange(0,len(y_test)).reshape(-1,1)\n",
        "unique_speaker = np.unique(y_test)"
      ],
      "metadata": {
        "id": "ua-EBxAXOxtp"
      },
      "execution_count": 112,
      "outputs": []
    },
    {
      "cell_type": "code",
      "source": [
        "test_pair_list = []\n",
        "test_labels =[]\n",
        "for speaker in unique_speaker:\n",
        "  speaker1_index = X_index[np.where(y_test==speaker)]\n",
        "  speaker2_index = X_index[np.where(y_test!=speaker)]\n",
        "  test_pair_list,test_labels = positive_pair(speaker1_index,test_pair_list,test_labels,x_test_stft)\n",
        "  #print(len(pair_pos))\n",
        "  test_pair_list,test_labels = add_negative_pairs(speaker1_index,speaker2_index,test_pair_list,test_labels,x_test_stft)\n",
        "  #pair_list.append(final_pair)\n",
        "  #labels.append(final_labels)\n",
        "  #print(len(final_pair_list)) \n",
        "  #print(len(final_labels))\n",
        "\n",
        "test_pair_list = np.asarray(test_pair_list)\n",
        "test_labels = np.asarray(test_labels).astype(\"float32\")"
      ],
      "metadata": {
        "id": "PgzUbPIzNuY1"
      },
      "execution_count": 113,
      "outputs": []
    },
    {
      "cell_type": "code",
      "source": [
        "pair_list.shape"
      ],
      "metadata": {
        "colab": {
          "base_uri": "https://localhost:8080/"
        },
        "id": "nQ9ujpYXBMkc",
        "outputId": "7256149f-c7da-494a-935f-bb774c3c06a9"
      },
      "execution_count": 114,
      "outputs": [
        {
          "output_type": "execute_result",
          "data": {
            "text/plain": [
              "(4500, 2, 45, 513)"
            ]
          },
          "metadata": {},
          "execution_count": 114
        }
      ]
    },
    {
      "cell_type": "code",
      "source": [
        "len(labels)"
      ],
      "metadata": {
        "colab": {
          "base_uri": "https://localhost:8080/"
        },
        "id": "6HDL-eEyBMnK",
        "outputId": "cabd2d67-45a3-46d1-fb21-1cf75ccf9da2"
      },
      "execution_count": 115,
      "outputs": [
        {
          "output_type": "execute_result",
          "data": {
            "text/plain": [
              "4500"
            ]
          },
          "metadata": {},
          "execution_count": 115
        }
      ]
    },
    {
      "cell_type": "code",
      "source": [
        "test_pair_list.shape"
      ],
      "metadata": {
        "colab": {
          "base_uri": "https://localhost:8080/"
        },
        "id": "1EkTQf_EXBRg",
        "outputId": "941218ed-68bf-408d-ad99-1e10750a0478"
      },
      "execution_count": 116,
      "outputs": [
        {
          "output_type": "execute_result",
          "data": {
            "text/plain": [
              "(1800, 2, 45, 513)"
            ]
          },
          "metadata": {},
          "execution_count": 116
        }
      ]
    },
    {
      "cell_type": "code",
      "source": [
        "len(test_labels)"
      ],
      "metadata": {
        "colab": {
          "base_uri": "https://localhost:8080/"
        },
        "id": "LlVJM9qKXE6q",
        "outputId": "4e0d6759-39fa-416b-ebcf-75e1529f78f8"
      },
      "execution_count": 117,
      "outputs": [
        {
          "output_type": "execute_result",
          "data": {
            "text/plain": [
              "1800"
            ]
          },
          "metadata": {},
          "execution_count": 117
        }
      ]
    },
    {
      "cell_type": "code",
      "source": [
        "# Provided two tensors t1 and t2\n",
        "# Euclidean distance = sqrt(sum(square(t1-t2)))\n",
        "def euclidean_distance(vects):\n",
        "  x, y = vects\n",
        "  sum_square = tf.math.reduce_sum(tf.math.square(x - y), axis=1, keepdims=True)\n",
        "  return tf.math.sqrt(tf.math.maximum(sum_square, tf.keras.backend.epsilon()))"
      ],
      "metadata": {
        "id": "uJgLv8JlBMr5"
      },
      "execution_count": 118,
      "outputs": []
    },
    {
      "cell_type": "code",
      "source": [
        "def loss(margin):\n",
        "    \"\"\"\n",
        "    Returns:\n",
        "        'constrastive_loss' function with data ('margin') attached.\n",
        "    \"\"\"\n",
        "\n",
        "    # Contrastive loss = mean( (1-true_value) * square(prediction) + true_value * square( max(margin-prediction, 0) ))\n",
        "    def contrastive_loss(y_true, y_pred):\n",
        "      square_pred = tf.math.square(y_pred)\n",
        "      margin_square = tf.math.square(tf.math.maximum(margin - (y_pred), 0))\n",
        "      return tf.math.reduce_mean(\n",
        "          (1 - y_true) * square_pred + (y_true) * margin_square\n",
        "      )\n",
        "\n",
        "    return contrastive_loss"
      ],
      "metadata": {
        "id": "subatKSdL-gF"
      },
      "execution_count": 119,
      "outputs": []
    },
    {
      "cell_type": "code",
      "source": [
        "input = layers.Input(shape=(45,513))\n",
        "x = tf.keras.layers.GRU(513, return_sequences=True,dropout=0.2)(input),\n",
        "x = tf.keras.layers.GRU(513, return_sequences=False,dropout=0.2)(x[0]),\n",
        "#x = tf.keras.layers.GRU(513, return_sequences=False,dropout=0.2)(x[1]),\n",
        "x = tf.keras.layers.Dense(128,activation = 'relu')(x[0]),\n",
        "x = tf.keras.layers.Dense(32,activation = 'relu')(x[0])\n",
        "\n",
        "embedding_network = tf.keras.Model(input, x)\n",
        "\n",
        "ip1 = layers.Input((45,513))\n",
        "ip2 = layers.Input((45,513))\n",
        "\n",
        "inst_1 = embedding_network(ip1)\n",
        "inst_2 = embedding_network(ip2)\n",
        "\n",
        "x2 = tf.keras.layers.Lambda(euclidean_distance)([inst_1, inst_2])\n",
        "op = tf.keras.layers.Dense(1, activation=\"sigmoid\")(x2)\n",
        "model_4 = tf.keras.Model(inputs=[ip1, ip2], outputs=op)"
      ],
      "metadata": {
        "id": "YlBaOmpRBMuR"
      },
      "execution_count": 120,
      "outputs": []
    },
    {
      "cell_type": "code",
      "source": [
        "model_4.summary()"
      ],
      "metadata": {
        "id": "HNIx7n_wNvnu",
        "outputId": "827b9118-3ac2-4953-b9b3-8a820b62e266",
        "colab": {
          "base_uri": "https://localhost:8080/"
        }
      },
      "execution_count": 121,
      "outputs": [
        {
          "output_type": "stream",
          "name": "stdout",
          "text": [
            "Model: \"model_23\"\n",
            "__________________________________________________________________________________________________\n",
            " Layer (type)                   Output Shape         Param #     Connected to                     \n",
            "==================================================================================================\n",
            " input_35 (InputLayer)          [(None, 45, 513)]    0           []                               \n",
            "                                                                                                  \n",
            " input_36 (InputLayer)          [(None, 45, 513)]    0           []                               \n",
            "                                                                                                  \n",
            " model_22 (Functional)          (None, 32)           3234104     ['input_35[0][0]',               \n",
            "                                                                  'input_36[0][0]']               \n",
            "                                                                                                  \n",
            " lambda_11 (Lambda)             (None, 1)            0           ['model_22[0][0]',               \n",
            "                                                                  'model_22[1][0]']               \n",
            "                                                                                                  \n",
            " dense_35 (Dense)               (None, 1)            2           ['lambda_11[0][0]']              \n",
            "                                                                                                  \n",
            "==================================================================================================\n",
            "Total params: 3,234,106\n",
            "Trainable params: 3,234,106\n",
            "Non-trainable params: 0\n",
            "__________________________________________________________________________________________________\n"
          ]
        }
      ]
    },
    {
      "cell_type": "code",
      "source": [
        "model_4.compile(loss=loss(margin=1), optimizer=\"adam\", metrics=[\"accuracy\"])"
      ],
      "metadata": {
        "id": "InHC1Kh1MRHM"
      },
      "execution_count": 122,
      "outputs": []
    },
    {
      "cell_type": "code",
      "source": [
        "history = model_4.fit(\n",
        "    [pair_list[:,0], pair_list[:,1]],\n",
        "    labels,\n",
        "    validation_data=([test_pair_list[:,0],test_pair_list[:,1]],test_labels),\n",
        "    batch_size=90,\n",
        "    epochs=40\n",
        ")"
      ],
      "metadata": {
        "id": "pbEV07FGPQx0",
        "outputId": "669ad20a-a754-4cfb-d1bc-03e7768fe5de",
        "colab": {
          "base_uri": "https://localhost:8080/"
        }
      },
      "execution_count": 123,
      "outputs": [
        {
          "output_type": "stream",
          "name": "stdout",
          "text": [
            "Epoch 1/40\n",
            "50/50 [==============================] - 9s 65ms/step - loss: 0.2474 - accuracy: 0.5011 - val_loss: 0.2493 - val_accuracy: 0.4983\n",
            "Epoch 2/40\n",
            "50/50 [==============================] - 2s 31ms/step - loss: 0.2266 - accuracy: 0.5162 - val_loss: 0.2109 - val_accuracy: 0.5239\n",
            "Epoch 3/40\n",
            "50/50 [==============================] - 2s 31ms/step - loss: 0.1989 - accuracy: 0.6240 - val_loss: 0.2099 - val_accuracy: 0.6028\n",
            "Epoch 4/40\n",
            "50/50 [==============================] - 2s 31ms/step - loss: 0.1812 - accuracy: 0.7018 - val_loss: 0.1981 - val_accuracy: 0.6550\n",
            "Epoch 5/40\n",
            "50/50 [==============================] - 2s 32ms/step - loss: 0.1678 - accuracy: 0.7613 - val_loss: 0.1880 - val_accuracy: 0.6906\n",
            "Epoch 6/40\n",
            "50/50 [==============================] - 2s 31ms/step - loss: 0.1556 - accuracy: 0.8064 - val_loss: 0.1845 - val_accuracy: 0.6906\n",
            "Epoch 7/40\n",
            "50/50 [==============================] - 2s 31ms/step - loss: 0.1488 - accuracy: 0.8353 - val_loss: 0.1871 - val_accuracy: 0.7106\n",
            "Epoch 8/40\n",
            "50/50 [==============================] - 2s 31ms/step - loss: 0.1384 - accuracy: 0.8651 - val_loss: 0.1839 - val_accuracy: 0.7078\n",
            "Epoch 9/40\n",
            "50/50 [==============================] - 2s 31ms/step - loss: 0.1309 - accuracy: 0.8829 - val_loss: 0.1736 - val_accuracy: 0.7478\n",
            "Epoch 10/40\n",
            "50/50 [==============================] - 2s 31ms/step - loss: 0.1240 - accuracy: 0.9078 - val_loss: 0.1862 - val_accuracy: 0.7283\n",
            "Epoch 11/40\n",
            "50/50 [==============================] - 2s 31ms/step - loss: 0.1178 - accuracy: 0.9196 - val_loss: 0.1838 - val_accuracy: 0.7289\n",
            "Epoch 12/40\n",
            "50/50 [==============================] - 2s 31ms/step - loss: 0.1130 - accuracy: 0.9173 - val_loss: 0.1913 - val_accuracy: 0.7172\n",
            "Epoch 13/40\n",
            "50/50 [==============================] - 2s 31ms/step - loss: 0.1086 - accuracy: 0.9280 - val_loss: 0.1837 - val_accuracy: 0.7322\n",
            "Epoch 14/40\n",
            "50/50 [==============================] - 2s 31ms/step - loss: 0.1029 - accuracy: 0.9336 - val_loss: 0.1881 - val_accuracy: 0.7256\n",
            "Epoch 15/40\n",
            "50/50 [==============================] - 2s 31ms/step - loss: 0.0963 - accuracy: 0.9402 - val_loss: 0.1899 - val_accuracy: 0.7417\n",
            "Epoch 16/40\n",
            "50/50 [==============================] - 2s 31ms/step - loss: 0.0936 - accuracy: 0.9402 - val_loss: 0.1901 - val_accuracy: 0.7300\n",
            "Epoch 17/40\n",
            "50/50 [==============================] - 2s 32ms/step - loss: 0.0894 - accuracy: 0.9420 - val_loss: 0.1947 - val_accuracy: 0.7283\n",
            "Epoch 18/40\n",
            "50/50 [==============================] - 2s 31ms/step - loss: 0.0841 - accuracy: 0.9520 - val_loss: 0.2070 - val_accuracy: 0.7189\n",
            "Epoch 19/40\n",
            "50/50 [==============================] - 2s 32ms/step - loss: 0.0836 - accuracy: 0.9498 - val_loss: 0.1968 - val_accuracy: 0.7211\n",
            "Epoch 20/40\n",
            "50/50 [==============================] - 2s 31ms/step - loss: 0.1246 - accuracy: 0.8740 - val_loss: 0.2255 - val_accuracy: 0.6483\n",
            "Epoch 21/40\n",
            "50/50 [==============================] - 2s 31ms/step - loss: 0.1377 - accuracy: 0.8316 - val_loss: 0.2371 - val_accuracy: 0.6500\n",
            "Epoch 22/40\n",
            "50/50 [==============================] - 2s 31ms/step - loss: 0.1211 - accuracy: 0.8707 - val_loss: 0.2248 - val_accuracy: 0.6856\n",
            "Epoch 23/40\n",
            "50/50 [==============================] - 2s 31ms/step - loss: 0.1105 - accuracy: 0.8847 - val_loss: 0.2457 - val_accuracy: 0.6472\n",
            "Epoch 24/40\n",
            "50/50 [==============================] - 2s 31ms/step - loss: 0.1049 - accuracy: 0.8982 - val_loss: 0.2410 - val_accuracy: 0.6511\n",
            "Epoch 25/40\n",
            "50/50 [==============================] - 2s 31ms/step - loss: 0.0879 - accuracy: 0.9347 - val_loss: 0.2241 - val_accuracy: 0.6883\n",
            "Epoch 26/40\n",
            "50/50 [==============================] - 2s 31ms/step - loss: 0.0742 - accuracy: 0.9560 - val_loss: 0.2331 - val_accuracy: 0.6683\n",
            "Epoch 27/40\n",
            "50/50 [==============================] - 2s 32ms/step - loss: 0.0707 - accuracy: 0.9542 - val_loss: 0.2251 - val_accuracy: 0.6806\n",
            "Epoch 28/40\n",
            "50/50 [==============================] - 2s 31ms/step - loss: 0.0667 - accuracy: 0.9582 - val_loss: 0.2216 - val_accuracy: 0.6767\n",
            "Epoch 29/40\n",
            "50/50 [==============================] - 2s 32ms/step - loss: 0.0664 - accuracy: 0.9618 - val_loss: 0.2318 - val_accuracy: 0.6750\n",
            "Epoch 30/40\n",
            "50/50 [==============================] - 2s 32ms/step - loss: 0.0608 - accuracy: 0.9613 - val_loss: 0.2379 - val_accuracy: 0.6711\n",
            "Epoch 31/40\n",
            "50/50 [==============================] - 2s 31ms/step - loss: 0.0583 - accuracy: 0.9620 - val_loss: 0.2294 - val_accuracy: 0.6733\n",
            "Epoch 32/40\n",
            "50/50 [==============================] - 2s 32ms/step - loss: 0.0550 - accuracy: 0.9667 - val_loss: 0.2323 - val_accuracy: 0.6789\n",
            "Epoch 33/40\n",
            "50/50 [==============================] - 2s 31ms/step - loss: 0.0532 - accuracy: 0.9684 - val_loss: 0.2417 - val_accuracy: 0.6750\n",
            "Epoch 34/40\n",
            "50/50 [==============================] - 2s 31ms/step - loss: 0.0506 - accuracy: 0.9698 - val_loss: 0.2342 - val_accuracy: 0.6839\n",
            "Epoch 35/40\n",
            "50/50 [==============================] - 2s 31ms/step - loss: 0.0477 - accuracy: 0.9691 - val_loss: 0.2642 - val_accuracy: 0.6472\n",
            "Epoch 36/40\n",
            "50/50 [==============================] - 2s 31ms/step - loss: 0.0445 - accuracy: 0.9744 - val_loss: 0.2603 - val_accuracy: 0.6556\n",
            "Epoch 37/40\n",
            "50/50 [==============================] - 2s 31ms/step - loss: 0.0429 - accuracy: 0.9764 - val_loss: 0.2639 - val_accuracy: 0.6506\n",
            "Epoch 38/40\n",
            "50/50 [==============================] - 2s 31ms/step - loss: 0.0416 - accuracy: 0.9787 - val_loss: 0.2704 - val_accuracy: 0.6406\n",
            "Epoch 39/40\n",
            "50/50 [==============================] - 2s 31ms/step - loss: 0.0425 - accuracy: 0.9742 - val_loss: 0.2573 - val_accuracy: 0.6622\n",
            "Epoch 40/40\n",
            "50/50 [==============================] - 2s 31ms/step - loss: 0.0454 - accuracy: 0.9707 - val_loss: 0.2630 - val_accuracy: 0.6583\n"
          ]
        }
      ]
    },
    {
      "cell_type": "code",
      "source": [
        "history1 = model_4.evaluate([test_pair_list[:,0],test_pair_list[:,1]],test_labels)"
      ],
      "metadata": {
        "id": "f0piBOSgPFqN",
        "colab": {
          "base_uri": "https://localhost:8080/"
        },
        "outputId": "9e97e311-a543-4947-b5fa-bdaa8d3f4165"
      },
      "execution_count": 59,
      "outputs": [
        {
          "output_type": "stream",
          "name": "stdout",
          "text": [
            "57/57 [==============================] - 2s 11ms/step - loss: 0.1953 - accuracy: 0.7256\n"
          ]
        }
      ]
    },
    {
      "cell_type": "code",
      "source": [
        "plt.plot(history.history[\"accuracy\"],color='blue')\n",
        "plt.plot(history.history[\"val_accuracy\"],color='red')\n",
        "plt.legend([\"Train Accuracy\", \"Test Accuracy\"], loc=\"upper right\")\n",
        "plt.title(\"Train Accuracy vs Test Accuracy\")\n",
        "plt.ylabel(\"Accuracy\")\n",
        "plt.xlabel(\"epoch\")\n",
        "plt.show()"
      ],
      "metadata": {
        "id": "h5PIpWKvQi4m",
        "colab": {
          "base_uri": "https://localhost:8080/",
          "height": 295
        },
        "outputId": "2a65e1d8-984a-45ef-b5a3-957469a0eb93"
      },
      "execution_count": 126,
      "outputs": [
        {
          "output_type": "display_data",
          "data": {
            "text/plain": [
              "<Figure size 432x288 with 1 Axes>"
            ],
            "image/png": "[encoded data removed]"
          },
          "metadata": {
            "needs_background": "light"
          }
        }
      ]
    },
    {
      "cell_type": "code",
      "source": [],
      "metadata": {
        "id": "R5Nxa4kLWgEa"
      },
      "execution_count": null,
      "outputs": []
    }
  ]
}