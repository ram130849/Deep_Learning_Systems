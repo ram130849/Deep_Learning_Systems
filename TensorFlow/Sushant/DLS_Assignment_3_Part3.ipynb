{
  "nbformat": 4,
  "nbformat_minor": 0,
  "metadata": {
    "colab": {
      "provenance": [],
      "machine_shape": "hm",
      "authorship_tag": "ABX9TyOd2V8G0xHOXPWMcW+S1xLn",
      "include_colab_link": true
    },
    "kernelspec": {
      "name": "python3",
      "display_name": "Python 3"
    },
    "language_info": {
      "name": "python"
    },
    "accelerator": "GPU",
    "gpuClass": "standard"
  },
  "cells": [
    {
      "cell_type": "markdown",
      "metadata": {
        "id": "view-in-github",
        "colab_type": "text"
      },
      "source": [
        "<a href=\"https://colab.research.google.com/github/ram130849/Deep_Learning_Systems_Assignments/blob/main/TensorFlow/Sushant/DLS_Assignment_3_Part3.ipynb\" target=\"_parent\"><img src=\"https://colab.research.google.com/assets/colab-badge.svg\" alt=\"Open In Colab\"/></a>"
      ]
    },
    {
      "cell_type": "code",
      "source": [
        "!pip install librosa"
      ],
      "metadata": {
        "colab": {
          "base_uri": "https://localhost:8080/"
        },
        "id": "QfQXFylNn1oF",
        "outputId": "66251713-4256-49db-ba81-a1aa6b253e0d"
      },
      "execution_count": 1,
      "outputs": [
        {
          "output_type": "stream",
          "name": "stdout",
          "text": [
            "Looking in indexes: https://pypi.org/simple, https://us-python.pkg.dev/colab-wheels/public/simple/\n",
            "Requirement already satisfied: librosa in /usr/local/lib/python3.7/dist-packages (0.8.1)\n",
            "Requirement already satisfied: decorator>=3.0.0 in /usr/local/lib/python3.7/dist-packages (from librosa) (4.4.2)\n",
            "Requirement already satisfied: scipy>=1.0.0 in /usr/local/lib/python3.7/dist-packages (from librosa) (1.7.3)\n",
            "Requirement already satisfied: audioread>=2.0.0 in /usr/local/lib/python3.7/dist-packages (from librosa) (3.0.0)\n",
            "Requirement already satisfied: joblib>=0.14 in /usr/local/lib/python3.7/dist-packages (from librosa) (1.2.0)\n",
            "Requirement already satisfied: scikit-learn!=0.19.0,>=0.14.0 in /usr/local/lib/python3.7/dist-packages (from librosa) (1.0.2)\n",
            "Requirement already satisfied: soundfile>=0.10.2 in /usr/local/lib/python3.7/dist-packages (from librosa) (0.11.0)\n",
            "Requirement already satisfied: resampy>=0.2.2 in /usr/local/lib/python3.7/dist-packages (from librosa) (0.4.2)\n",
            "Requirement already satisfied: packaging>=20.0 in /usr/local/lib/python3.7/dist-packages (from librosa) (21.3)\n",
            "Requirement already satisfied: numba>=0.43.0 in /usr/local/lib/python3.7/dist-packages (from librosa) (0.56.3)\n",
            "Requirement already satisfied: numpy>=1.15.0 in /usr/local/lib/python3.7/dist-packages (from librosa) (1.21.6)\n",
            "Requirement already satisfied: pooch>=1.0 in /usr/local/lib/python3.7/dist-packages (from librosa) (1.6.0)\n",
            "Requirement already satisfied: importlib-metadata in /usr/local/lib/python3.7/dist-packages (from numba>=0.43.0->librosa) (4.13.0)\n",
            "Requirement already satisfied: setuptools in /usr/local/lib/python3.7/dist-packages (from numba>=0.43.0->librosa) (57.4.0)\n",
            "Requirement already satisfied: llvmlite<0.40,>=0.39.0dev0 in /usr/local/lib/python3.7/dist-packages (from numba>=0.43.0->librosa) (0.39.1)\n",
            "Requirement already satisfied: pyparsing!=3.0.5,>=2.0.2 in /usr/local/lib/python3.7/dist-packages (from packaging>=20.0->librosa) (3.0.9)\n",
            "Requirement already satisfied: requests>=2.19.0 in /usr/local/lib/python3.7/dist-packages (from pooch>=1.0->librosa) (2.23.0)\n",
            "Requirement already satisfied: appdirs>=1.3.0 in /usr/local/lib/python3.7/dist-packages (from pooch>=1.0->librosa) (1.4.4)\n",
            "Requirement already satisfied: idna<3,>=2.5 in /usr/local/lib/python3.7/dist-packages (from requests>=2.19.0->pooch>=1.0->librosa) (2.10)\n",
            "Requirement already satisfied: urllib3!=1.25.0,!=1.25.1,<1.26,>=1.21.1 in /usr/local/lib/python3.7/dist-packages (from requests>=2.19.0->pooch>=1.0->librosa) (1.24.3)\n",
            "Requirement already satisfied: chardet<4,>=3.0.2 in /usr/local/lib/python3.7/dist-packages (from requests>=2.19.0->pooch>=1.0->librosa) (3.0.4)\n",
            "Requirement already satisfied: certifi>=2017.4.17 in /usr/local/lib/python3.7/dist-packages (from requests>=2.19.0->pooch>=1.0->librosa) (2022.9.24)\n",
            "Requirement already satisfied: threadpoolctl>=2.0.0 in /usr/local/lib/python3.7/dist-packages (from scikit-learn!=0.19.0,>=0.14.0->librosa) (3.1.0)\n",
            "Requirement already satisfied: cffi>=1.0 in /usr/local/lib/python3.7/dist-packages (from soundfile>=0.10.2->librosa) (1.15.1)\n",
            "Requirement already satisfied: pycparser in /usr/local/lib/python3.7/dist-packages (from cffi>=1.0->soundfile>=0.10.2->librosa) (2.21)\n",
            "Requirement already satisfied: typing-extensions>=3.6.4 in /usr/local/lib/python3.7/dist-packages (from importlib-metadata->numba>=0.43.0->librosa) (4.1.1)\n",
            "Requirement already satisfied: zipp>=0.5 in /usr/local/lib/python3.7/dist-packages (from importlib-metadata->numba>=0.43.0->librosa) (3.10.0)\n"
          ]
        }
      ]
    },
    {
      "cell_type": "code",
      "source": [
        "!pip install tensorflow-addons"
      ],
      "metadata": {
        "colab": {
          "base_uri": "https://localhost:8080/"
        },
        "id": "vgr8DtU_n4JA",
        "outputId": "a38b5366-55d0-445f-d522-29e8fdf62bcb"
      },
      "execution_count": 2,
      "outputs": [
        {
          "output_type": "stream",
          "name": "stdout",
          "text": [
            "Looking in indexes: https://pypi.org/simple, https://us-python.pkg.dev/colab-wheels/public/simple/\n",
            "Collecting tensorflow-addons\n",
            "  Downloading tensorflow_addons-0.18.0-cp37-cp37m-manylinux_2_17_x86_64.manylinux2014_x86_64.whl (1.1 MB)\n",
            "\u001b[K     |████████████████████████████████| 1.1 MB 4.3 MB/s \n",
            "\u001b[?25hRequirement already satisfied: typeguard>=2.7 in /usr/local/lib/python3.7/dist-packages (from tensorflow-addons) (2.7.1)\n",
            "Requirement already satisfied: packaging in /usr/local/lib/python3.7/dist-packages (from tensorflow-addons) (21.3)\n",
            "Requirement already satisfied: pyparsing!=3.0.5,>=2.0.2 in /usr/local/lib/python3.7/dist-packages (from packaging->tensorflow-addons) (3.0.9)\n",
            "Installing collected packages: tensorflow-addons\n",
            "Successfully installed tensorflow-addons-0.18.0\n"
          ]
        }
      ]
    },
    {
      "cell_type": "code",
      "execution_count": 3,
      "metadata": {
        "id": "C-vl0SVXEvC0"
      },
      "outputs": [],
      "source": [
        "import numpy as np\n",
        "import pandas as pd\n",
        "import matplotlib.pyplot as plt\n",
        "import seaborn as sns\n",
        "import tensorflow as tf\n",
        "import tensorflow_addons as tfa\n",
        "import librosa\n",
        "import librosa.display\n",
        "import timeit\n",
        "import os\n",
        "from IPython.display import Audio\n",
        "from sklearn.model_selection import train_test_split\n",
        "import matplotlib.pyplot as plt\n",
        "import soundfile as sf\n",
        "from tensorflow.keras.layers import Conv1D,Conv2D,MaxPooling1D,MaxPooling2D\n",
        "from tensorflow.keras.utils import to_categorical\n",
        "from tensorflow import keras\n",
        "from tensorflow.keras import layers\n",
        "from tensorflow.keras.layers import Flatten\n",
        "from keras.models import Model\n",
        "import pickle\n",
        "import tarfile"
      ]
    },
    {
      "cell_type": "code",
      "source": [
        "device_name = tf.test.gpu_device_name()\n",
        "if device_name != '/device:GPU:0':\n",
        "  raise SystemError('GPU device not found')\n",
        "print('Found GPU at: {}'.format(device_name))"
      ],
      "metadata": {
        "colab": {
          "base_uri": "https://localhost:8080/"
        },
        "id": "47g0WosLYwzH",
        "outputId": "d9c2a8a7-e100-4bf3-c629-471f667f99d3"
      },
      "execution_count": 4,
      "outputs": [
        {
          "output_type": "stream",
          "name": "stdout",
          "text": [
            "Found GPU at: /device:GPU:0\n"
          ]
        }
      ]
    },
    {
      "cell_type": "code",
      "source": [
        "device_name = tf.test.gpu_device_name()\n",
        "if device_name != '/device:GPU:0':\n",
        "  print(\n",
        "      '\\n\\nThis error most likely means that this notebook is not '\n",
        "      'configured to use a GPU.  Change this in Notebook Settings via the '\n",
        "      'command palette (cmd/ctrl-shift-P) or the Edit menu.\\n\\n')\n",
        "  raise SystemError('GPU device not found')\n",
        "\n",
        "def cpu():\n",
        "  with tf.device('/cpu:0'):\n",
        "    random_image_cpu = tf.random.normal((100, 100, 100, 3))\n",
        "    net_cpu = tf.keras.layers.Conv2D(32, 7)(random_image_cpu)\n",
        "    return tf.math.reduce_sum(net_cpu)\n",
        "\n",
        "def gpu():\n",
        "  with tf.device('/device:GPU:0'):\n",
        "    random_image_gpu = tf.random.normal((100, 100, 100, 3))\n",
        "    net_gpu = tf.keras.layers.Conv2D(32, 7)(random_image_gpu)\n",
        "    return tf.math.reduce_sum(net_gpu)\n",
        "  \n",
        "# We run each op once to warm up; see: https://stackoverflow.com/a/45067900\n",
        "cpu()\n",
        "gpu()\n",
        "\n",
        "# Run the op several times.\n",
        "print('Time (s) to convolve 32x7x7x3 filter over random 100x100x100x3 images '\n",
        "      '(batch x height x width x channel). Sum of ten runs.')\n",
        "print('CPU (s):')\n",
        "cpu_time = timeit.timeit('cpu()', number=10, setup=\"from __main__ import cpu\")\n",
        "print(cpu_time)\n",
        "print('GPU (s):')\n",
        "gpu_time = timeit.timeit('gpu()', number=10, setup=\"from __main__ import gpu\")\n",
        "print(gpu_time)\n",
        "print('GPU speedup over CPU: {}x'.format(int(cpu_time/gpu_time)))"
      ],
      "metadata": {
        "id": "yFs-8y6FYx5I",
        "colab": {
          "base_uri": "https://localhost:8080/"
        },
        "outputId": "c92c11d3-5307-471c-fe3e-d3699fd27f12"
      },
      "execution_count": 5,
      "outputs": [
        {
          "output_type": "stream",
          "name": "stdout",
          "text": [
            "Time (s) to convolve 32x7x7x3 filter over random 100x100x100x3 images (batch x height x width x channel). Sum of ten runs.\n",
            "CPU (s):\n",
            "2.301579206999918\n",
            "GPU (s):\n",
            "0.04047881100007089\n",
            "GPU speedup over CPU: 56x\n"
          ]
        }
      ]
    },
    {
      "cell_type": "markdown",
      "source": [
        "#### 1) 1200 noisy speech signals (from trx0000.wav to trx1199.wav)\n",
        "#### 2) 120 clean speech signals (10sentences per speaker for 12 speakers)\n",
        "#### 3) Original Clean Speech - (from trs0000.wav to trs1199.wav)\n",
        "#### 4) Noise Sources - (from trn0000.wav to trn1199.wav)\n",
        "#### 5) Adding these clean and noise speeches we get trx speeches but since it is given in the folder, there is no need to do it"
      ],
      "metadata": {
        "id": "rlLzcu5dJg0f"
      }
    },
    {
      "cell_type": "code",
      "source": [
        "from google.colab import drive\n",
        "drive.mount('/content/drive')"
      ],
      "metadata": {
        "colab": {
          "base_uri": "https://localhost:8080/"
        },
        "id": "QdLxn17UK00H",
        "outputId": "fc3c848e-dc7c-4e13-ef20-4ea8307d5ed9"
      },
      "execution_count": 6,
      "outputs": [
        {
          "output_type": "stream",
          "name": "stdout",
          "text": [
            "Mounted at /content/drive\n"
          ]
        }
      ]
    },
    {
      "cell_type": "code",
      "source": [
        "path_train = '/content/drive/MyDrive/DLS_Assignments/Assignment3_Data/timit-homework/tr/'\n",
        "path_validation = '/content/drive/MyDrive/DLS_Assignments/Assignment3_Data/timit-homework/v/'\n",
        "path_test = '/content/drive/MyDrive/DLS_Assignments/Assignment3_Data/timit-homework/te/'"
      ],
      "metadata": {
        "id": "CGx--XpZYa-4"
      },
      "execution_count": 7,
      "outputs": []
    },
    {
      "cell_type": "code",
      "source": [
        "!ls /content/drive/MyDrive/DLS_Assignments/Assignment3_Data/"
      ],
      "metadata": {
        "colab": {
          "base_uri": "https://localhost:8080/"
        },
        "id": "n2FQvYb3qEXp",
        "outputId": "ba411e81-d52c-4f2c-97c1-35e83b38baf4"
      },
      "execution_count": 8,
      "outputs": [
        {
          "output_type": "stream",
          "name": "stdout",
          "text": [
            "timit-homework\n"
          ]
        }
      ]
    },
    {
      "cell_type": "code",
      "source": [
        "def load_data(path):\n",
        "  x=[]\n",
        "  clean=[]\n",
        "  noise=[]\n",
        "  for file in os.listdir(path):\n",
        "    if file.startswith('trx') or file.startswith('tex') or file.startswith('vx'):\n",
        "      #if file not in x:\n",
        "        x.append(file)\n",
        "\n",
        "    elif file.startswith('trs') or file.startswith('tes') or file.startswith('vs'):\n",
        "      #if file not in clean:\n",
        "        clean.append(file)\n",
        "\n",
        "    elif file.startswith('trn') or file.startswith('ten') or file.startswith('vn'):\n",
        "      #if file not in noise:\n",
        "        noise.append(file)\n",
        "  \n",
        "  x.sort()\n",
        "  clean.sort()\n",
        "  noise.sort()\n",
        "\n",
        "  return x,clean,noise"
      ],
      "metadata": {
        "id": "K5PmohTtmK6m"
      },
      "execution_count": 9,
      "outputs": []
    },
    {
      "cell_type": "markdown",
      "source": [
        "### Loading the Train Data:"
      ],
      "metadata": {
        "id": "mcxKAWy6sY-p"
      }
    },
    {
      "cell_type": "code",
      "source": [
        "x_train, clean_train, noise_train = load_data(path_train)"
      ],
      "metadata": {
        "id": "0fA5TtD2sdqm"
      },
      "execution_count": 10,
      "outputs": []
    },
    {
      "cell_type": "code",
      "source": [
        "print(\"The size of x_train is : \",len(x_train))\n",
        "print(\"The size of clean_train is : \",len(clean_train))\n",
        "print(\"The size of noise_train is : \",len(noise_train))"
      ],
      "metadata": {
        "colab": {
          "base_uri": "https://localhost:8080/"
        },
        "id": "SsYeIL7-tKB7",
        "outputId": "c1c419e0-e152-4dc0-c864-4d7d229a914c"
      },
      "execution_count": 11,
      "outputs": [
        {
          "output_type": "stream",
          "name": "stdout",
          "text": [
            "The size of x_train is :  1200\n",
            "The size of clean_train is :  1200\n",
            "The size of noise_train is :  1200\n"
          ]
        }
      ]
    },
    {
      "cell_type": "markdown",
      "source": [
        "### Loading the Validation Data:"
      ],
      "metadata": {
        "id": "FRIO-kF2sxfS"
      }
    },
    {
      "cell_type": "code",
      "source": [
        "x_val, clean_val, noise_val = load_data(path_validation)"
      ],
      "metadata": {
        "id": "QdtOS0aEs13O"
      },
      "execution_count": 12,
      "outputs": []
    },
    {
      "cell_type": "code",
      "source": [
        "print(\"The size of x_val is : \",len(x_val))\n",
        "print(\"The size of clean_val is : \",len(clean_val))\n",
        "print(\"The size of noise_val is : \",len(noise_val))"
      ],
      "metadata": {
        "colab": {
          "base_uri": "https://localhost:8080/"
        },
        "id": "bWp3xFZFtpxU",
        "outputId": "aefff05d-7e57-4a89-ea29-2c90318511cb"
      },
      "execution_count": 13,
      "outputs": [
        {
          "output_type": "stream",
          "name": "stdout",
          "text": [
            "The size of x_val is :  1200\n",
            "The size of clean_val is :  1200\n",
            "The size of noise_val is :  1200\n"
          ]
        }
      ]
    },
    {
      "cell_type": "markdown",
      "source": [
        "### Loading the Test Data:"
      ],
      "metadata": {
        "id": "oRWADzIas8y7"
      }
    },
    {
      "cell_type": "code",
      "source": [
        "x_test, clean_test, noise_test = load_data(path_test)"
      ],
      "metadata": {
        "id": "vvxPlIU2tAZ-"
      },
      "execution_count": 14,
      "outputs": []
    },
    {
      "cell_type": "code",
      "source": [
        "print(\"The size of x_test is : \",len(x_test))\n",
        "print(\"The size of clean_test is : \",len(clean_test))\n",
        "print(\"The size of noise_test is : \",len(noise_test))"
      ],
      "metadata": {
        "colab": {
          "base_uri": "https://localhost:8080/"
        },
        "id": "S_eXVv1at5Ap",
        "outputId": "2761f927-7373-4895-d5ce-492a7bb80b78"
      },
      "execution_count": 15,
      "outputs": [
        {
          "output_type": "stream",
          "name": "stdout",
          "text": [
            "The size of x_test is :  400\n",
            "The size of clean_test is :  0\n",
            "The size of noise_test is :  0\n"
          ]
        }
      ]
    },
    {
      "cell_type": "code",
      "source": [
        "def compute_stft(path,input):\n",
        "  data_abs=[]\n",
        "  for i in input:\n",
        "    s, sr = librosa.load(path+i, sr=None)\n",
        "    S = librosa.stft(s, n_fft=1024, hop_length=512)\n",
        "    pad = np.zeros((513, 178))\n",
        "    pad[:, :S.shape[1]] = S\n",
        "    pad=pad.T\n",
        "    pad_abs = np.abs(pad)\n",
        "    data_abs.append(pad_abs)\n",
        "  return data_abs"
      ],
      "metadata": {
        "id": "UKCQ30sYZTKg"
      },
      "execution_count": 16,
      "outputs": []
    },
    {
      "cell_type": "markdown",
      "source": [
        "### Computing STFT for Training Data"
      ],
      "metadata": {
        "id": "dL-8axhe5Xom"
      }
    },
    {
      "cell_type": "code",
      "source": [
        "x_train_stft = compute_stft(path_train,x_train)"
      ],
      "metadata": {
        "colab": {
          "base_uri": "https://localhost:8080/"
        },
        "id": "JczFSiaRv5k4",
        "outputId": "a3f615ef-cec7-414e-f625-5745694c8b5f"
      },
      "execution_count": 17,
      "outputs": [
        {
          "output_type": "stream",
          "name": "stderr",
          "text": [
            "/usr/local/lib/python3.7/dist-packages/ipykernel_launcher.py:7: ComplexWarning: Casting complex values to real discards the imaginary part\n",
            "  import sys\n"
          ]
        }
      ]
    },
    {
      "cell_type": "code",
      "source": [
        "print(\"Shape of x_train_stft is : \",x_train_stft[0].shape)\n",
        "print(len(x_train_stft))"
      ],
      "metadata": {
        "colab": {
          "base_uri": "https://localhost:8080/"
        },
        "id": "a-ibF94NP1oi",
        "outputId": "9bd0e203-0b0a-4f88-859d-54056b079143"
      },
      "execution_count": 18,
      "outputs": [
        {
          "output_type": "stream",
          "name": "stdout",
          "text": [
            "Shape of x_train_stft is :  (178, 513)\n",
            "1200\n"
          ]
        }
      ]
    },
    {
      "cell_type": "code",
      "source": [
        "clean_train_stft = compute_stft(path_train,clean_train)"
      ],
      "metadata": {
        "colab": {
          "base_uri": "https://localhost:8080/"
        },
        "id": "GxCL6LOg5n8-",
        "outputId": "a1290bbd-a561-449c-cf96-9063f8738aa5"
      },
      "execution_count": 19,
      "outputs": [
        {
          "output_type": "stream",
          "name": "stderr",
          "text": [
            "/usr/local/lib/python3.7/dist-packages/ipykernel_launcher.py:7: ComplexWarning: Casting complex values to real discards the imaginary part\n",
            "  import sys\n"
          ]
        }
      ]
    },
    {
      "cell_type": "code",
      "source": [
        "print(len(clean_train_stft))"
      ],
      "metadata": {
        "colab": {
          "base_uri": "https://localhost:8080/"
        },
        "id": "BgbytcyMRR-V",
        "outputId": "f18a1779-36ee-424b-cf15-bfaca8bc1fd8"
      },
      "execution_count": 20,
      "outputs": [
        {
          "output_type": "stream",
          "name": "stdout",
          "text": [
            "1200\n"
          ]
        }
      ]
    },
    {
      "cell_type": "code",
      "source": [
        "noise_train_stft = compute_stft(path_train,noise_train)"
      ],
      "metadata": {
        "colab": {
          "base_uri": "https://localhost:8080/"
        },
        "id": "1GhXBpyQ5oCq",
        "outputId": "98c7e5c3-e4eb-476c-f72c-a6cd8a91af19"
      },
      "execution_count": 21,
      "outputs": [
        {
          "output_type": "stream",
          "name": "stderr",
          "text": [
            "/usr/local/lib/python3.7/dist-packages/ipykernel_launcher.py:7: ComplexWarning: Casting complex values to real discards the imaginary part\n",
            "  import sys\n"
          ]
        }
      ]
    },
    {
      "cell_type": "markdown",
      "source": [
        "### Computing STFT for Validation Data"
      ],
      "metadata": {
        "id": "gPeBltSeFAqT"
      }
    },
    {
      "cell_type": "code",
      "source": [
        "x_val_stft = compute_stft(path_validation,x_val)"
      ],
      "metadata": {
        "colab": {
          "base_uri": "https://localhost:8080/"
        },
        "id": "ArGrVbbZE_4q",
        "outputId": "19ef927e-5f1e-43cc-f844-e470e9f94583"
      },
      "execution_count": 22,
      "outputs": [
        {
          "output_type": "stream",
          "name": "stderr",
          "text": [
            "/usr/local/lib/python3.7/dist-packages/ipykernel_launcher.py:7: ComplexWarning: Casting complex values to real discards the imaginary part\n",
            "  import sys\n"
          ]
        }
      ]
    },
    {
      "cell_type": "code",
      "source": [
        "clean_val_stft = compute_stft(path_validation,clean_val)"
      ],
      "metadata": {
        "colab": {
          "base_uri": "https://localhost:8080/"
        },
        "id": "CLCHNbSaFI2M",
        "outputId": "519d04cc-34b1-4bc5-d595-da1b2a6a9eec"
      },
      "execution_count": 23,
      "outputs": [
        {
          "output_type": "stream",
          "name": "stderr",
          "text": [
            "/usr/local/lib/python3.7/dist-packages/ipykernel_launcher.py:7: ComplexWarning: Casting complex values to real discards the imaginary part\n",
            "  import sys\n"
          ]
        }
      ]
    },
    {
      "cell_type": "code",
      "source": [
        "noise_val_stft = compute_stft(path_validation,noise_val)"
      ],
      "metadata": {
        "colab": {
          "base_uri": "https://localhost:8080/"
        },
        "id": "V26YIoV7FLCe",
        "outputId": "9cc84975-b5aa-497b-ef4e-6ab4c372007c"
      },
      "execution_count": 24,
      "outputs": [
        {
          "output_type": "stream",
          "name": "stderr",
          "text": [
            "/usr/local/lib/python3.7/dist-packages/ipykernel_launcher.py:7: ComplexWarning: Casting complex values to real discards the imaginary part\n",
            "  import sys\n"
          ]
        }
      ]
    },
    {
      "cell_type": "markdown",
      "source": [
        "### Creating IBM Matrix for Training Set"
      ],
      "metadata": {
        "id": "TfGmJ8WO7rp1"
      }
    },
    {
      "cell_type": "code",
      "source": [
        "ibm_train = [(clean_train_stft[i] > noise_train_stft[i]).astype(int) for i in range(len(clean_train_stft))]"
      ],
      "metadata": {
        "id": "eFoKHjRwQ-XW"
      },
      "execution_count": 25,
      "outputs": []
    },
    {
      "cell_type": "code",
      "source": [
        "ibm_train = np.stack(ibm_train)\n",
        "noise_train_new = np.stack(noise_train_stft)"
      ],
      "metadata": {
        "id": "YaXt1feVRvb7"
      },
      "execution_count": 26,
      "outputs": []
    },
    {
      "cell_type": "markdown",
      "source": [
        "### Creating IBM Matrix for Validation Set"
      ],
      "metadata": {
        "id": "PM1xYjKcS6M9"
      }
    },
    {
      "cell_type": "code",
      "source": [
        "ibm_val = [(clean_val_stft[i] > noise_val_stft[i]).astype(int) for i in range(len(clean_val_stft))]"
      ],
      "metadata": {
        "id": "dbC04vQeSmUQ"
      },
      "execution_count": 27,
      "outputs": []
    },
    {
      "cell_type": "code",
      "source": [
        "ibm_val = np.stack(ibm_val)\n",
        "noise_val_new = np.stack(noise_val_stft)"
      ],
      "metadata": {
        "id": "y5yC8IxCTVOA"
      },
      "execution_count": 28,
      "outputs": []
    },
    {
      "cell_type": "code",
      "source": [
        "ibm_val.shape"
      ],
      "metadata": {
        "colab": {
          "base_uri": "https://localhost:8080/"
        },
        "id": "Tq-Cx1kbTwRn",
        "outputId": "c1afa289-c328-4130-d8c5-8df5681fc1f5"
      },
      "execution_count": 29,
      "outputs": [
        {
          "output_type": "execute_result",
          "data": {
            "text/plain": [
              "(1200, 178, 513)"
            ]
          },
          "metadata": {},
          "execution_count": 29
        }
      ]
    },
    {
      "cell_type": "code",
      "source": [
        "model = tf.keras.Sequential();\n",
        "model.add(layers.GRU(513, return_sequences=True))\n",
        "model.add(layers.Dropout(rate = 0.2))\n",
        "model.add(layers.GRU(513, return_sequences=True))\n",
        "model.add(layers.Dropout(rate = 0.2))\n",
        "model.add(layers.Dense(513, activation='sigmoid'))"
      ],
      "metadata": {
        "id": "RSyRMVr-T8PX"
      },
      "execution_count": 30,
      "outputs": []
    },
    {
      "cell_type": "code",
      "source": [
        "model.compile(optimizer = tf.keras.optimizers.Adam(), loss = tf.keras.losses.BinaryCrossentropy())"
      ],
      "metadata": {
        "id": "M_CrmgRyVCHH"
      },
      "execution_count": 31,
      "outputs": []
    },
    {
      "cell_type": "code",
      "source": [
        "history_1 = model.fit(noise_train_new, ibm_train, epochs=20, batch_size=10)"
      ],
      "metadata": {
        "colab": {
          "base_uri": "https://localhost:8080/"
        },
        "id": "osUOuP-vVXth",
        "outputId": "0de53732-339d-4369-d3a0-a88f310a6e31"
      },
      "execution_count": 32,
      "outputs": [
        {
          "output_type": "stream",
          "name": "stdout",
          "text": [
            "Epoch 1/20\n",
            "120/120 [==============================] - 9s 41ms/step - loss: 0.4959\n",
            "Epoch 2/20\n",
            "120/120 [==============================] - 5s 40ms/step - loss: 0.3698\n",
            "Epoch 3/20\n",
            "120/120 [==============================] - 5s 40ms/step - loss: 0.3247\n",
            "Epoch 4/20\n",
            "120/120 [==============================] - 5s 40ms/step - loss: 0.3150\n",
            "Epoch 5/20\n",
            "120/120 [==============================] - 5s 41ms/step - loss: 0.3104\n",
            "Epoch 6/20\n",
            "120/120 [==============================] - 5s 41ms/step - loss: 0.3046\n",
            "Epoch 7/20\n",
            "120/120 [==============================] - 5s 41ms/step - loss: 0.3029\n",
            "Epoch 8/20\n",
            "120/120 [==============================] - 5s 41ms/step - loss: 0.2969\n",
            "Epoch 9/20\n",
            "120/120 [==============================] - 5s 41ms/step - loss: 0.2939\n",
            "Epoch 10/20\n",
            "120/120 [==============================] - 5s 41ms/step - loss: 0.3030\n",
            "Epoch 11/20\n",
            "120/120 [==============================] - 5s 41ms/step - loss: 0.2907\n",
            "Epoch 12/20\n",
            "120/120 [==============================] - 5s 41ms/step - loss: 0.2890\n",
            "Epoch 13/20\n",
            "120/120 [==============================] - 5s 40ms/step - loss: 0.2870\n",
            "Epoch 14/20\n",
            "120/120 [==============================] - 5s 41ms/step - loss: 0.2883\n",
            "Epoch 15/20\n",
            "120/120 [==============================] - 5s 40ms/step - loss: 0.2873\n",
            "Epoch 16/20\n",
            "120/120 [==============================] - 5s 40ms/step - loss: 0.2858\n",
            "Epoch 17/20\n",
            "120/120 [==============================] - 5s 40ms/step - loss: 0.2951\n",
            "Epoch 18/20\n",
            "120/120 [==============================] - 5s 40ms/step - loss: 0.3099\n",
            "Epoch 19/20\n",
            "120/120 [==============================] - 5s 40ms/step - loss: 0.2902\n",
            "Epoch 20/20\n",
            "120/120 [==============================] - 5s 41ms/step - loss: 0.2842\n"
          ]
        }
      ]
    },
    {
      "cell_type": "code",
      "source": [
        "model_path = '/content/gdrive/MyDrive/DLS_Assignments/Models/assign3_part3_model.h5'\n",
        "model.save(model_path)"
      ],
      "metadata": {
        "id": "Op04_ixDVbkW"
      },
      "execution_count": 34,
      "outputs": []
    },
    {
      "cell_type": "markdown",
      "source": [
        "### Checking the model on Validation Data"
      ],
      "metadata": {
        "id": "8cmAxDncfK_S"
      }
    },
    {
      "cell_type": "code",
      "source": [
        "model.evaluate(noise_val_new, ibm_val, batch_size=10)"
      ],
      "metadata": {
        "colab": {
          "base_uri": "https://localhost:8080/"
        },
        "id": "WxSGVP_9eTNh",
        "outputId": "d7fc3648-322d-4d2f-eb8f-69482a862af1"
      },
      "execution_count": 36,
      "outputs": [
        {
          "output_type": "stream",
          "name": "stdout",
          "text": [
            "120/120 [==============================] - 3s 19ms/step - loss: 0.2894\n"
          ]
        },
        {
          "output_type": "execute_result",
          "data": {
            "text/plain": [
              "0.2894189655780792"
            ]
          },
          "metadata": {},
          "execution_count": 36
        }
      ]
    },
    {
      "cell_type": "code",
      "source": [
        "def snr(clean, recon):\n",
        "    print(clean.shape)\n",
        "    recon = recon[:clean.shape[0]]\n",
        "    return 10*np.log10(np.sum(clean**2)/np.sum(clean - recon)**2)"
      ],
      "metadata": {
        "id": "C7o_ilvnicmK"
      },
      "execution_count": 38,
      "outputs": []
    },
    {
      "cell_type": "markdown",
      "source": [
        "### Predicted IBM Mask"
      ],
      "metadata": {
        "id": "Mmmzq4DPirb4"
      }
    },
    {
      "cell_type": "code",
      "source": [
        "model_pred = model.predict(noise_val_new)"
      ],
      "metadata": {
        "colab": {
          "base_uri": "https://localhost:8080/"
        },
        "id": "C9zBLTbyiAYW",
        "outputId": "e0f2e6c2-361c-4efd-e448-84288340debb"
      },
      "execution_count": 37,
      "outputs": [
        {
          "output_type": "stream",
          "name": "stdout",
          "text": [
            "38/38 [==============================] - 2s 28ms/step\n"
          ]
        }
      ]
    },
    {
      "cell_type": "code",
      "source": [
        "def compute_stft_2(path,input):\n",
        "  data_abs=[]\n",
        "  data=[]\n",
        "  for i in input:\n",
        "    s, sr = librosa.load(path+i, sr=None)\n",
        "    S = librosa.stft(s, n_fft=1024, hop_length=512)\n",
        "    pad = np.zeros((513, 178))\n",
        "    pad[:, :S.shape[1]] = S\n",
        "    pad=pad.T\n",
        "    pad_abs = np.abs(pad)\n",
        "    data.append(pad)\n",
        "    data_abs.append(pad_abs)\n",
        "  return data,data_abs"
      ],
      "metadata": {
        "id": "AfPi3DwIpXiW"
      },
      "execution_count": 52,
      "outputs": []
    },
    {
      "cell_type": "code",
      "source": [
        "def compute_stft_3(path,input):\n",
        "  data_abs=[]\n",
        "  data=[]\n",
        "  for i in input:\n",
        "    s, sr = librosa.load(path+i, sr=None)\n",
        "    S = librosa.stft(s, n_fft=1024, hop_length=512)\n",
        "    pad = np.zeros((513, 178))\n",
        "    pad[:, :S.shape[1]] = S\n",
        "    pad=pad.T\n",
        "    pad_abs = np.abs(pad)\n",
        "    data.append(S)\n",
        "    data_abs.append(pad_abs)\n",
        "  return data,data_abs"
      ],
      "metadata": {
        "id": "02SmT6EHrlOA"
      },
      "execution_count": 64,
      "outputs": []
    },
    {
      "cell_type": "markdown",
      "source": [
        "### Generating Recovered Validation Sequence from Predicted IBM Mask"
      ],
      "metadata": {
        "id": "tY5CynW0jiBI"
      }
    },
    {
      "cell_type": "code",
      "source": [
        "noise_val_data,noise_val_new = compute_stft_2(path_validation,noise_val)"
      ],
      "metadata": {
        "colab": {
          "base_uri": "https://localhost:8080/"
        },
        "id": "gNA-iC4Tp8aP",
        "outputId": "ba385186-45b2-43b0-87a3-5c2b674617cf"
      },
      "execution_count": 53,
      "outputs": [
        {
          "output_type": "stream",
          "name": "stderr",
          "text": [
            "/usr/local/lib/python3.7/dist-packages/ipykernel_launcher.py:8: ComplexWarning: Casting complex values to real discards the imaginary part\n",
            "  \n"
          ]
        }
      ]
    },
    {
      "cell_type": "code",
      "source": [
        "clean_val_data,clean_val_new = compute_stft_3(path_validation,clean_val)"
      ],
      "metadata": {
        "colab": {
          "base_uri": "https://localhost:8080/"
        },
        "id": "KNpNBal6rGac",
        "outputId": "b5445952-23b1-4539-f6f4-af356ccb0aea"
      },
      "execution_count": 65,
      "outputs": [
        {
          "output_type": "stream",
          "name": "stderr",
          "text": [
            "/usr/local/lib/python3.7/dist-packages/ipykernel_launcher.py:8: ComplexWarning: Casting complex values to real discards the imaginary part\n",
            "  \n"
          ]
        }
      ]
    },
    {
      "cell_type": "code",
      "source": [
        "noise_val_data = np.stack(noise_val_data)"
      ],
      "metadata": {
        "id": "m4DxaX8MqmG-"
      },
      "execution_count": 57,
      "outputs": []
    },
    {
      "cell_type": "code",
      "source": [
        "clean_pred = np.multiply(model_pred, noise_val_data)"
      ],
      "metadata": {
        "id": "rp3F4bO1junS"
      },
      "execution_count": 58,
      "outputs": []
    },
    {
      "cell_type": "code",
      "source": [
        "noise_val_data.shape"
      ],
      "metadata": {
        "colab": {
          "base_uri": "https://localhost:8080/"
        },
        "id": "-4yAO9RKo4y1",
        "outputId": "afec7601-e2d8-4954-fcc0-641cd20a9dd2"
      },
      "execution_count": 60,
      "outputs": [
        {
          "output_type": "execute_result",
          "data": {
            "text/plain": [
              "(1200, 178, 513)"
            ]
          },
          "metadata": {},
          "execution_count": 60
        }
      ]
    },
    {
      "cell_type": "code",
      "source": [
        "clean_val_stft[0]"
      ],
      "metadata": {
        "colab": {
          "base_uri": "https://localhost:8080/"
        },
        "id": "Z24byUPumLNp",
        "outputId": "edabe6fb-97bd-4217-f678-6f40ecbc699c"
      },
      "execution_count": 44,
      "outputs": [
        {
          "output_type": "execute_result",
          "data": {
            "text/plain": [
              "array([[0.00812184, 0.00592763, 0.00213551, ..., 0.00017014, 0.00010148,\n",
              "        0.00033313],\n",
              "       [0.00248497, 0.00062856, 0.00258446, ..., 0.00020294, 0.00033425,\n",
              "        0.0003165 ],\n",
              "       [0.00805179, 0.00287515, 0.00200844, ..., 0.00023642, 0.00038201,\n",
              "        0.00047942],\n",
              "       ...,\n",
              "       [0.        , 0.        , 0.        , ..., 0.        , 0.        ,\n",
              "        0.        ],\n",
              "       [0.        , 0.        , 0.        , ..., 0.        , 0.        ,\n",
              "        0.        ],\n",
              "       [0.        , 0.        , 0.        , ..., 0.        , 0.        ,\n",
              "        0.        ]])"
            ]
          },
          "metadata": {},
          "execution_count": 44
        }
      ]
    },
    {
      "cell_type": "markdown",
      "source": [
        "### Calculate SNR"
      ],
      "metadata": {
        "id": "eOyhl_m1keSa"
      }
    },
    {
      "cell_type": "code",
      "source": [
        "snr = []\n",
        "for i in range(len(clean_val_data)):\n",
        "    S_test = librosa.istft(clean_val_data[i], hop_length=512)\n",
        "    S_test_2 = librosa.istft(clean_pred[i].T, hop_length=512)\n",
        "    s = sum((S_test)**2)\n",
        "    S_test_2 = S_test_2[:S_test.shape[0]]\n",
        "    #diff_st = sum(np.subtract(S_test,S_test_2)**2)+1e-20\n",
        "    SNR = 10*np.log10(np.sum(S_test**2)/np.sum(S_test - S_test_2)**2)\n",
        "    snr.append(SNR)"
      ],
      "metadata": {
        "id": "9RITxmlIkhK6"
      },
      "execution_count": null,
      "outputs": []
    },
    {
      "cell_type": "code",
      "source": [
        "snr"
      ],
      "metadata": {
        "colab": {
          "base_uri": "https://localhost:8080/"
        },
        "id": "Fs4o4VZwswRo",
        "outputId": "6367a278-0566-42da-f955-880816ddcbfc"
      },
      "execution_count": 75,
      "outputs": [
        {
          "output_type": "execute_result",
          "data": {
            "text/plain": [
              "[16.782650117347103,\n",
              " 16.1891361662982,\n",
              " 14.725329228890555,\n",
              " 25.276139340236558,\n",
              " 19.689281978108273,\n",
              " 18.543341777124343,\n",
              " 15.632838385358383,\n",
              " 19.801606229017178,\n",
              " 17.795254396321155,\n",
              " 15.303827933437603,\n",
              " 16.704754176820554,\n",
              " 19.544130812182193,\n",
              " 45.39099939648832,\n",
              " 19.00786095901294,\n",
              " 25.46713274362549,\n",
              " 16.607771600537127,\n",
              " 14.800519672003071,\n",
              " 18.97363677200171,\n",
              " 13.606522277583753,\n",
              " 16.628648658971002,\n",
              " 25.550738926196356,\n",
              " 21.48994771754627,\n",
              " 30.365906344370668,\n",
              " 19.005067181588938,\n",
              " 19.61049501914607,\n",
              " 19.57718962354352,\n",
              " 18.918193888035646,\n",
              " 18.624274997652286,\n",
              " 30.466353456295426,\n",
              " 21.005311609803098,\n",
              " 23.563011571939718,\n",
              " 24.153917165723733,\n",
              " 38.62746340917844,\n",
              " 25.913125808268212,\n",
              " 25.990455421735735,\n",
              " 25.35929395772222,\n",
              " 19.531761866410346,\n",
              " 23.870265264581818,\n",
              " 31.420453534184617,\n",
              " 26.064767423602753,\n",
              " 23.4325555569936,\n",
              " 22.320797421498362,\n",
              " 16.45563076384118,\n",
              " 20.902609254666974,\n",
              " 15.19209905369949,\n",
              " 20.668614315925453,\n",
              " 24.99966926484687,\n",
              " 20.267335880337896,\n",
              " 22.409065128599607,\n",
              " 18.85107180413412,\n",
              " 10.548730739357548,\n",
              " 10.539501730023106,\n",
              " 15.114443779791415,\n",
              " 11.557183932784243,\n",
              " 10.951002048397138,\n",
              " 10.755889553904293,\n",
              " 10.410463550281293,\n",
              " 10.35481319994676,\n",
              " 7.703035381662309,\n",
              " 9.749131139829295,\n",
              " 11.370309159962348,\n",
              " 10.596752877930468,\n",
              " 14.399945679240505,\n",
              " 11.170813622148676,\n",
              " 8.38045663753176,\n",
              " 11.236096922523126,\n",
              " 12.634364245448207,\n",
              " 8.718170794804106,\n",
              " 12.678887539758765,\n",
              " 9.61766011224469,\n",
              " 20.633883608275788,\n",
              " 24.013459149888682,\n",
              " 10.597385665775247,\n",
              " 20.91068960853855,\n",
              " 17.796326721159502,\n",
              " 20.5040894764176,\n",
              " 19.321211008283523,\n",
              " 19.865632802091763,\n",
              " 16.04120563672684,\n",
              " 23.148832592723817,\n",
              " 22.45718044824491,\n",
              " 26.811586384517803,\n",
              " 36.61102393854697,\n",
              " 22.685605753013114,\n",
              " 24.161772310403016,\n",
              " 28.623690918235205,\n",
              " 27.1763190719231,\n",
              " 26.011168295208954,\n",
              " 23.3551159879425,\n",
              " 19.992816882210874,\n",
              " 11.376785264839759,\n",
              " 11.14261348526936,\n",
              " 8.204483429354422,\n",
              " 11.237279183184468,\n",
              " 11.521865451644189,\n",
              " 10.112498388600859,\n",
              " 10.437527067715635,\n",
              " 12.161819263272696,\n",
              " 11.816304999277383,\n",
              " 11.644128141343604,\n",
              " 17.41354310422994,\n",
              " 14.46390643099016,\n",
              " 11.640074550526627,\n",
              " 15.836767110540377,\n",
              " 12.858845735733675,\n",
              " 13.949065001406957,\n",
              " 16.733666611465964,\n",
              " 14.877539267791441,\n",
              " 15.321902410133214,\n",
              " 12.015758115680732,\n",
              " 11.74689289498464,\n",
              " 12.400236065300662,\n",
              " 7.335740404943197,\n",
              " 11.062677533297038,\n",
              " 16.777623426584498,\n",
              " 11.07423776967154,\n",
              " 11.236174558915945,\n",
              " 14.766270391578438,\n",
              " 13.912308444056734,\n",
              " 13.015242863501923,\n",
              " 18.066732509304252,\n",
              " 16.734977912201682,\n",
              " 11.1700050591681,\n",
              " 20.043043253226344,\n",
              " 16.2785170601895,\n",
              " 17.79884465950152,\n",
              " 25.74424025280177,\n",
              " 15.5332788275382,\n",
              " 17.457489432211283,\n",
              " 26.667425483735265,\n",
              " 40.55472390509117,\n",
              " 52.7854578475217,\n",
              " 17.563179663287215,\n",
              " 37.15243241756442,\n",
              " 58.644851553410675,\n",
              " 16.68519155028048,\n",
              " 27.583979277054965,\n",
              " 36.62732993437212,\n",
              " 20.420967288548066,\n",
              " 37.27381819889856,\n",
              " 31.54085315802824,\n",
              " 28.327669289316617,\n",
              " 21.752456386575517,\n",
              " 41.173106079794046,\n",
              " 37.16184600088873,\n",
              " 49.32952762166559,\n",
              " 28.104233595547747,\n",
              " 26.762449665488717,\n",
              " 19.137798991415263,\n",
              " 43.1964132405539,\n",
              " 28.636267405677884,\n",
              " 34.67132595661446,\n",
              " 13.928761461796865,\n",
              " 29.067099428740605,\n",
              " 18.896594605148994,\n",
              " 28.40189303625192,\n",
              " 27.731790062032257,\n",
              " 33.384271146185874,\n",
              " 22.571525688915543,\n",
              " 27.24114615312619,\n",
              " 14.876312685019787,\n",
              " 14.599559837760339,\n",
              " 13.137569624121983,\n",
              " 14.173445054964546,\n",
              " 12.782523310909713,\n",
              " 19.429248144948467,\n",
              " 14.91458715993575,\n",
              " 16.0655442262322,\n",
              " 14.791828958782979,\n",
              " 16.233052243148894,\n",
              " 26.397860450626958,\n",
              " 22.289737736711338,\n",
              " 13.081718324305092,\n",
              " 37.98962104258398,\n",
              " 19.384446002163976,\n",
              " 30.07017903337217,\n",
              " 18.416430127802254,\n",
              " 20.54608474551571,\n",
              " 18.953144927734044,\n",
              " 29.801492999339064,\n",
              " 27.805985062208944,\n",
              " 30.52464307040657,\n",
              " 23.657426245714653,\n",
              " 32.56533255327981,\n",
              " 21.627921244979813,\n",
              " 18.71361405529086,\n",
              " 30.61274992485858,\n",
              " 26.696785020194383,\n",
              " 32.24571404649792,\n",
              " 22.570215652258145,\n",
              " 27.56417003325566,\n",
              " 55.29439322856038,\n",
              " 13.66618276253636,\n",
              " 22.429928619303958,\n",
              " 34.714331501215156,\n",
              " 24.989805685812318,\n",
              " 44.66008778520455,\n",
              " 34.15462074684329,\n",
              " 12.462436978240916,\n",
              " 27.06123244593798,\n",
              " 21.473728667885617,\n",
              " 24.75372763831,\n",
              " 16.17480768307,\n",
              " 29.17362600920017,\n",
              " 23.5507454297588,\n",
              " 24.506596847269883,\n",
              " 28.67551535853003,\n",
              " 31.462311638876667,\n",
              " 18.01675595826521,\n",
              " 26.28093080251614,\n",
              " 10.306322130650525,\n",
              " 10.076154693267263,\n",
              " 13.111821677402595,\n",
              " 11.219234323654918,\n",
              " 9.161802081759646,\n",
              " 9.920713885584076,\n",
              " 8.54750886157107,\n",
              " 11.104938178763362,\n",
              " 10.429853472696957,\n",
              " 11.484166469073367,\n",
              " 12.560696422028702,\n",
              " 12.331579514313294,\n",
              " 10.224413438622742,\n",
              " 13.438968324993983,\n",
              " 10.398580605227142,\n",
              " 17.040345588339388,\n",
              " 11.706515068159016,\n",
              " 11.92471343394217,\n",
              " 10.514564658666822,\n",
              " 11.583660548129568,\n",
              " 12.902955987781333,\n",
              " 14.183064872469267,\n",
              " 8.614861626162556,\n",
              " 13.388746852153751,\n",
              " 11.344166047969255,\n",
              " 13.543290731097844,\n",
              " 13.975286538815684,\n",
              " 13.745954243479147,\n",
              " 11.100929589297149,\n",
              " 13.414418664056967,\n",
              " 13.865797536377134,\n",
              " 14.374476868547104,\n",
              " 18.36977761325757,\n",
              " 12.696759910622596,\n",
              " 12.55681359054169,\n",
              " 16.418672131596917,\n",
              " 12.569776162174296,\n",
              " 13.177876327033546,\n",
              " 16.35460166942334,\n",
              " 15.475568960081445,\n",
              " 15.357420133489887,\n",
              " 17.847594996178092,\n",
              " 16.629919451985373,\n",
              " 15.272420398380483,\n",
              " 13.185236129649338,\n",
              " 14.885299129708113,\n",
              " 18.08030844768558,\n",
              " 13.652403152252386,\n",
              " 12.491786613915327,\n",
              " 16.971497049974012,\n",
              " 11.521926752089446,\n",
              " 11.14439119107641,\n",
              " 10.561249265893583,\n",
              " 11.522296044987899,\n",
              " 8.237440549877988,\n",
              " 9.492618585890826,\n",
              " 12.340675455303673,\n",
              " 11.463777193762184,\n",
              " 11.382518671550311,\n",
              " 10.749299129146312,\n",
              " 10.469543807544488,\n",
              " 10.195706495870553,\n",
              " 6.401149456143277,\n",
              " 11.640563859904008,\n",
              " 12.045481860033487,\n",
              " 10.795487183053261,\n",
              " 11.793337979873645,\n",
              " 10.540449401248427,\n",
              " 13.908540038791916,\n",
              " 11.0371227298124,\n",
              " 12.279925632929704,\n",
              " 14.452358863803695,\n",
              " 13.764448210324767,\n",
              " 10.644530329689362,\n",
              " 15.011479782366992,\n",
              " 12.525741186588526,\n",
              " 13.329413752602408,\n",
              " 12.587583212863098,\n",
              " 16.15390554377,\n",
              " 13.450268749928396,\n",
              " 12.596349421961943,\n",
              " 10.834036385107641,\n",
              " 10.10925057892373,\n",
              " 10.747251879445965,\n",
              " 12.843748108975717,\n",
              " 12.646745164622219,\n",
              " 14.86288695762607,\n",
              " 11.178440842089621,\n",
              " 8.74455297068648,\n",
              " 12.819471235402194,\n",
              " 23.644733673010123,\n",
              " 23.800221571683224,\n",
              " 20.920644073881082,\n",
              " 24.3070898075008,\n",
              " 44.908103634055266,\n",
              " 26.59969159410872,\n",
              " 26.35806188626701,\n",
              " 23.5333484931202,\n",
              " 30.756425985921602,\n",
              " 26.298309211303426,\n",
              " 12.63448931855573,\n",
              " 12.784616668974332,\n",
              " 10.009069994761086,\n",
              " 12.466944516242046,\n",
              " 8.70230793960676,\n",
              " 15.092329632073533,\n",
              " 10.831264772647806,\n",
              " 12.658779579362063,\n",
              " 12.20978323707024,\n",
              " 16.808109361070642,\n",
              " 35.58965413251062,\n",
              " 38.67772965724799,\n",
              " 26.937542173873812,\n",
              " 40.36504425910002,\n",
              " 24.111484431924968,\n",
              " 41.016786788354615,\n",
              " 35.32829844894716,\n",
              " 45.613004369735506,\n",
              " 29.429002074005453,\n",
              " 28.0466392133502,\n",
              " 33.958505816215634,\n",
              " 33.49432836346312,\n",
              " 28.71461151577392,\n",
              " 27.64137248257796,\n",
              " 25.166120163217393,\n",
              " 28.668903698004968,\n",
              " 25.976732638739257,\n",
              " 36.05800054626534,\n",
              " 33.37565035353156,\n",
              " 32.64359238494168,\n",
              " 20.127540741906607,\n",
              " 17.51483041237986,\n",
              " 28.631646381003062,\n",
              " 19.73316181632525,\n",
              " 26.33376005412146,\n",
              " 18.430983066671004,\n",
              " 15.723869872559632,\n",
              " 19.08617845746658,\n",
              " 22.686788325249573,\n",
              " 16.906374263642277,\n",
              " 30.050321360495865,\n",
              " 24.514714037905314,\n",
              " 17.39635647334047,\n",
              " 32.010319855678915,\n",
              " 25.120737019598074,\n",
              " 19.63060873639493,\n",
              " 42.27132295369917,\n",
              " 27.60024043993415,\n",
              " 20.474705047619032,\n",
              " 38.37625153483968,\n",
              " 20.519758532748877,\n",
              " 29.125198539941103,\n",
              " 19.07972356257203,\n",
              " 35.624929185005186,\n",
              " 27.977785459083634,\n",
              " 21.310886584919217,\n",
              " 41.839537396583175,\n",
              " 19.997983100479505,\n",
              " 17.665633854123914,\n",
              " 21.72122890758129,\n",
              " 15.963881613987859,\n",
              " 17.65682438067258,\n",
              " 30.34585189768284,\n",
              " 18.08161661979952,\n",
              " 17.815592785159726,\n",
              " 17.43942469657452,\n",
              " 16.14798490871109,\n",
              " 16.929124890188156,\n",
              " 19.455425225751636,\n",
              " 15.837718975544025,\n",
              " 24.590027726928987,\n",
              " 38.23350624989457,\n",
              " 19.338065121426318,\n",
              " 32.09368717617367,\n",
              " 27.085005983155888,\n",
              " 32.87355600033065,\n",
              " 27.172956652416445,\n",
              " 31.26939039563097,\n",
              " 32.329537637917895,\n",
              " 23.230882524283707,\n",
              " 12.190296143930999,\n",
              " 10.693685710961773,\n",
              " 15.522323741531672,\n",
              " 10.968666248320847,\n",
              " 11.365133085467418,\n",
              " 10.778450744345285,\n",
              " 11.45450750179588,\n",
              " 11.222630519131771,\n",
              " 11.297100301347797,\n",
              " 10.475529208124668,\n",
              " 15.319328895069923,\n",
              " 16.54019523348438,\n",
              " 17.51302427885931,\n",
              " 15.354502553697477,\n",
              " 13.989056179260723,\n",
              " 15.968463773938282,\n",
              " 14.346405423466015,\n",
              " 15.107181259790067,\n",
              " 13.042623897609356,\n",
              " 15.219464243440605,\n",
              " 17.702548591906343,\n",
              " 18.43577871166058,\n",
              " 31.202903193497757,\n",
              " 19.975413996033105,\n",
              " 13.402132571822673,\n",
              " 21.68053112498022,\n",
              " 19.116358851433684,\n",
              " 13.302264723420151,\n",
              " 15.957808323275323,\n",
              " 19.689784554514272,\n",
              " 13.44482754402162,\n",
              " 16.669366038966523,\n",
              " 16.535448113448197,\n",
              " 14.706789404036853,\n",
              " 18.63336713445257,\n",
              " 16.2461216887876,\n",
              " 15.734679539121345,\n",
              " 13.392283453634127,\n",
              " 9.97932831317031,\n",
              " 14.552255766224,\n",
              " 13.162769414965316,\n",
              " 14.276656795407316,\n",
              " 15.966309354901211,\n",
              " 13.984793883618316,\n",
              " 10.156012381532214,\n",
              " 12.88199467594352,\n",
              " 12.524260297977373,\n",
              " 13.82531786421935,\n",
              " 14.462530066099283,\n",
              " 14.436820031279577,\n",
              " 17.053675831381963,\n",
              " 16.135985885236813,\n",
              " 10.209694187524676,\n",
              " 15.524866258594944,\n",
              " 21.895316610485693,\n",
              " 19.68246217042227,\n",
              " 16.820991387501838,\n",
              " 15.449966458467728,\n",
              " 15.621958185508118,\n",
              " 15.309756653519983,\n",
              " 16.328636820457948,\n",
              " 16.808373726560923,\n",
              " 12.055828102503664,\n",
              " 15.223656931524394,\n",
              " 14.37383808977335,\n",
              " 17.34835851070517,\n",
              " 22.301546885611998,\n",
              " 19.523777357034966,\n",
              " 12.464929544724857,\n",
              " 17.312408822617932,\n",
              " 33.11505927966554,\n",
              " 30.090356818761784,\n",
              " 29.834846515465692,\n",
              " 30.763716626038523,\n",
              " 29.16103570648027,\n",
              " 31.197210172286738,\n",
              " 24.498236174855286,\n",
              " 25.695915479331624,\n",
              " 38.10370233710199,\n",
              " 31.753794852071195,\n",
              " 14.329592948904772,\n",
              " 13.43657032583378,\n",
              " 11.327087411873581,\n",
              " 16.89416412189766,\n",
              " 14.588320056637084,\n",
              " 15.785012828914713,\n",
              " 13.804245484207849,\n",
              " 12.407560027007001,\n",
              " 9.27552275253386,\n",
              " 14.74113110146169,\n",
              " 12.539184728668825,\n",
              " 13.364343973969987,\n",
              " 10.338895641936896,\n",
              " 13.315135386706121,\n",
              " 10.196513102081042,\n",
              " 12.057675466474434,\n",
              " 12.60721555159694,\n",
              " 12.759511072287877,\n",
              " 9.840516152546854,\n",
              " 12.772556626456277,\n",
              " 37.418127565130305,\n",
              " 28.51273774592447,\n",
              " 14.966522994320538,\n",
              " 29.704611084173575,\n",
              " 21.117360121316878,\n",
              " 31.89378807411895,\n",
              " 26.069695123869273,\n",
              " 18.75794553687368,\n",
              " 19.5993110990304,\n",
              " 23.41064884986544,\n",
              " 6.476182625162257,\n",
              " 6.165785757871083,\n",
              " 5.675786287190094,\n",
              " 5.886253274916724,\n",
              " 5.722635224302436,\n",
              " 7.3809392823313065,\n",
              " 8.263651371350736,\n",
              " 6.78985541831546,\n",
              " 7.507923535083751,\n",
              " 6.743895113603551,\n",
              " 8.483893348351243,\n",
              " 9.054502336131364,\n",
              " 6.072769994449859,\n",
              " 7.957863325044972,\n",
              " 8.115527747309939,\n",
              " 7.9690602114659495,\n",
              " 8.195811272340464,\n",
              " 8.241075987767084,\n",
              " 6.479580350584756,\n",
              " 8.848594820754442,\n",
              " 16.65000231547221,\n",
              " 18.412816240300906,\n",
              " 35.81685025051234,\n",
              " 12.909090681485171,\n",
              " 13.265101199495966,\n",
              " 16.364625329415066,\n",
              " 18.1770583580118,\n",
              " 16.433337520554705,\n",
              " 19.289079653053335,\n",
              " 12.420346969444209,\n",
              " 11.534530632387197,\n",
              " 11.305520802126539,\n",
              " 13.821420087120483,\n",
              " 12.056871130455749,\n",
              " 11.298046524529576,\n",
              " 10.596245010686012,\n",
              " 9.969893561770764,\n",
              " 11.645727187295265,\n",
              " 12.86658244846841,\n",
              " 12.678376806569378,\n",
              " 13.280325462584074,\n",
              " 14.803366134449119,\n",
              " 9.985083666246336,\n",
              " 17.08937819087535,\n",
              " 16.616175860284457,\n",
              " 13.929106128663731,\n",
              " 16.28422667434895,\n",
              " 14.211118994903462,\n",
              " 16.52600046474162,\n",
              " 15.625792449160542,\n",
              " 12.640137063067145,\n",
              " 12.104887060627934,\n",
              " 10.506664788182984,\n",
              " 12.80743290082232,\n",
              " 16.464978530218545,\n",
              " 9.63290548741692,\n",
              " 12.619503488387132,\n",
              " 14.20086899542368,\n",
              " 14.412289222174435,\n",
              " 11.650835594230706,\n",
              " 9.267691408796036,\n",
              " 9.44716239247078,\n",
              " 10.988493154802502,\n",
              " 10.320633865263321,\n",
              " 10.665430883964264,\n",
              " 10.18288404849268,\n",
              " 10.20656460650305,\n",
              " 9.985030333888766,\n",
              " 7.208004070920666,\n",
              " 10.83451958570173,\n",
              " 9.888839028284789,\n",
              " 8.771871559953823,\n",
              " 5.988283690395477,\n",
              " 7.373752456545017,\n",
              " 11.432051921167286,\n",
              " 7.122237695381795,\n",
              " 8.602586452470755,\n",
              " 8.56724889239355,\n",
              " 7.130748347825441,\n",
              " 7.739303166228433,\n",
              " 9.585085813907067,\n",
              " 10.56279457814869,\n",
              " 7.170003765453362,\n",
              " 10.448683240222099,\n",
              " 15.116627361759997,\n",
              " 11.431745339875281,\n",
              " 9.28262538547868,\n",
              " 10.892973907247004,\n",
              " 8.577558554580971,\n",
              " 11.892055292928724,\n",
              " 22.842751975171012,\n",
              " 19.335051172464244,\n",
              " 38.20881542358024,\n",
              " 21.062622624562994,\n",
              " 19.099439134791226,\n",
              " 19.992673994905353,\n",
              " 20.043982215399502,\n",
              " 21.874123792462164,\n",
              " 17.910501466791168,\n",
              " 22.852970566468173,\n",
              " 30.464626128281566,\n",
              " 29.644772119708392,\n",
              " 17.66678407803324,\n",
              " 50.155502860579205,\n",
              " 43.85756867354623,\n",
              " 40.98882375476681,\n",
              " 23.097338821756367,\n",
              " 46.28458189831471,\n",
              " 19.70703949430617,\n",
              " 32.51653101362724,\n",
              " 18.923622567641317,\n",
              " 19.304864372905193,\n",
              " 23.685248497983764,\n",
              " 19.156301370199863,\n",
              " 21.145204596036468,\n",
              " 23.519646850930734,\n",
              " 23.922667626065852,\n",
              " 18.604925485246746,\n",
              " 22.447770172762983,\n",
              " 25.740765920994896,\n",
              " 22.182132890508708,\n",
              " 32.99484014283025,\n",
              " 19.488627177062693,\n",
              " 21.935879943311456,\n",
              " 24.143243672357993,\n",
              " 26.572475038405237,\n",
              " 35.58289517386564,\n",
              " 24.929355104517228,\n",
              " 20.107571859249692,\n",
              " 22.76827141604825,\n",
              " 22.61671863329697,\n",
              " 25.92638235743495,\n",
              " 28.534055793161425,\n",
              " 29.811279043341465,\n",
              " 23.89846148906725,\n",
              " 21.586746796881076,\n",
              " 26.06246718512436,\n",
              " 25.41136887071692,\n",
              " 22.468206199537892,\n",
              " 48.059160746307896,\n",
              " 19.540220036099104,\n",
              " 23.036793378411176,\n",
              " 21.35101779663358,\n",
              " 18.209059469009038,\n",
              " 18.810034439713736,\n",
              " 17.496544544463532,\n",
              " 19.219678885867577,\n",
              " 21.342782344245105,\n",
              " 14.600364668800552,\n",
              " 20.600876643137227,\n",
              " 23.644509466692046,\n",
              " 22.155648246548544,\n",
              " 23.1512757750449,\n",
              " 20.703830431275282,\n",
              " 33.56686934856455,\n",
              " 18.61812866163793,\n",
              " 18.84924416921417,\n",
              " 22.138520986973496,\n",
              " 43.369543095967195,\n",
              " 25.919622795738345,\n",
              " 24.15477153964855,\n",
              " 24.506557646098656,\n",
              " 46.2119400234469,\n",
              " 19.540597843126125,\n",
              " 18.984937543391368,\n",
              " 18.77498159389312,\n",
              " 24.064876977088282,\n",
              " 23.26534840775782,\n",
              " 35.82124271222695,\n",
              " 26.876584605330464,\n",
              " 33.488958711448745,\n",
              " 27.3565871093843,\n",
              " 22.94272454143782,\n",
              " 26.631544254771473,\n",
              " 30.06420748296391,\n",
              " 42.65245599578019,\n",
              " 24.677419032962497,\n",
              " 28.170476294550404,\n",
              " 17.386888617528363,\n",
              " 40.728985755131276,\n",
              " 26.898694227671733,\n",
              " 27.157020544011765,\n",
              " 16.817974613639755,\n",
              " 27.47557096382319,\n",
              " 21.41155605970483,\n",
              " 24.803874420745217,\n",
              " 26.111998557638437,\n",
              " 27.226723416503795,\n",
              " 32.85242531010458,\n",
              " 23.32719285253239,\n",
              " 42.110410034896155,\n",
              " 36.21199684470494,\n",
              " 28.773716507546222,\n",
              " 33.2363566035768,\n",
              " 28.023358046171488,\n",
              " 31.71127100738415,\n",
              " 34.98357728757975,\n",
              " 35.221179110719596,\n",
              " 15.532348993222092,\n",
              " 30.721498869753514,\n",
              " 35.56232438311358,\n",
              " 44.44860577335028,\n",
              " 18.16039220721225,\n",
              " 30.669063964664133,\n",
              " 34.98610378185174,\n",
              " 35.05502186765485,\n",
              " 28.622912083700033,\n",
              " 51.16348560836484,\n",
              " 32.34218084135823,\n",
              " 28.837972401069702,\n",
              " 29.200505923415573,\n",
              " 21.992723155237663,\n",
              " 14.49832008162782,\n",
              " 25.169506102872216,\n",
              " 34.70954053280209,\n",
              " 23.877550806434627,\n",
              " 25.245517497848983,\n",
              " 25.00880179677861,\n",
              " 26.24206517381318,\n",
              " 22.028978277575618,\n",
              " 15.79722761729517,\n",
              " 36.24292451650912,\n",
              " 32.44517344786607,\n",
              " 25.771828287355873,\n",
              " 20.7901869765832,\n",
              " 23.602248439321542,\n",
              " 17.490410825814187,\n",
              " 33.120042300936994,\n",
              " 23.18838306427232,\n",
              " 33.33888340636696,\n",
              " 31.590583552891623,\n",
              " 30.413493362689042,\n",
              " 19.714341981242907,\n",
              " 31.209689422349033,\n",
              " 50.13832795088803,\n",
              " 26.231499437986777,\n",
              " 29.429580022786602,\n",
              " 41.78564712864434,\n",
              " 17.66896126141935,\n",
              " 31.59187172273898,\n",
              " 53.48531816670892,\n",
              " 32.57690661594402,\n",
              " 23.844066491456633,\n",
              " 36.03590251218685,\n",
              " 17.87566195561711,\n",
              " 28.34508157579699,\n",
              " 23.829662577175714,\n",
              " 65.3374797857583,\n",
              " 33.67228181530871,\n",
              " 20.629908999112967,\n",
              " 19.716608264233756,\n",
              " 19.281887279258072,\n",
              " 14.076846432079165,\n",
              " 19.277614249365215,\n",
              " 29.45952385681604,\n",
              " 20.632307437354577,\n",
              " 20.621592545504683,\n",
              " 23.016270721635674,\n",
              " 19.63100887972433,\n",
              " 32.1995017948222,\n",
              " 38.25250313169061,\n",
              " 42.276968875366016,\n",
              " 19.647614091878804,\n",
              " 34.643342939935465,\n",
              " 37.28577347729011,\n",
              " 26.840556939992926,\n",
              " 29.71816654584171,\n",
              " 32.10168577798041,\n",
              " 25.319443961970876,\n",
              " 30.48628648849745,\n",
              " 42.54950641385193,\n",
              " 45.81291119675115,\n",
              " 22.731977787157707,\n",
              " 23.937435251276128,\n",
              " 41.434378141197776,\n",
              " 23.061930888423746,\n",
              " 49.204900121019726,\n",
              " 32.526770183229715,\n",
              " 13.47981911686507,\n",
              " 53.10016554501076,\n",
              " 42.66625741442492,\n",
              " 46.87849835755916,\n",
              " 37.30027481568867,\n",
              " 36.05517809071698,\n",
              " 31.998409993057955,\n",
              " 44.62984855200666,\n",
              " 33.91746037459463,\n",
              " 34.50459075768484,\n",
              " 24.517236694462387,\n",
              " 25.337937251833797,\n",
              " 21.62752504593524,\n",
              " 18.969645701920836,\n",
              " 37.06737902964791,\n",
              " 28.489259208722828,\n",
              " 16.963183091806012,\n",
              " 16.197560821738836,\n",
              " 17.944239897877917,\n",
              " 20.56847410707837,\n",
              " 17.269611923683758,\n",
              " 15.664462158869444,\n",
              " 16.84278407087718,\n",
              " 17.301832984029648,\n",
              " 11.875944563843122,\n",
              " 16.981343262906062,\n",
              " 20.71928285524342,\n",
              " 10.029683193918064,\n",
              " 37.19282746168935,\n",
              " 17.897196673976048,\n",
              " 27.222672758509994,\n",
              " 18.33653469057467,\n",
              " 28.556687675345845,\n",
              " 30.02713216648519,\n",
              " 25.567560897193648,\n",
              " 33.94452632212986,\n",
              " 35.43255542414019,\n",
              " 53.81660543964068,\n",
              " 41.50032278482985,\n",
              " 38.81454659384564,\n",
              " 18.881553394784266,\n",
              " 31.63364060309677,\n",
              " 15.876522882574594,\n",
              " 15.24308886349443,\n",
              " 19.664424648773707,\n",
              " 15.28519196634813,\n",
              " 18.926088528693157,\n",
              " 14.070291362376501,\n",
              " 12.621603622173518,\n",
              " 16.28910073685338,\n",
              " 20.0365257427205,\n",
              " 14.79433331364052,\n",
              " 13.22532513120493,\n",
              " 14.220456894907002,\n",
              " 9.501273855141658,\n",
              " 13.730326563127,\n",
              " 15.088050728702665,\n",
              " 10.662751416588936,\n",
              " 10.739937959491625,\n",
              " 15.027646605953615,\n",
              " 13.582901822594893,\n",
              " 14.544498024969599,\n",
              " 15.854393801913929,\n",
              " 12.915349897174648,\n",
              " 33.76886193914047,\n",
              " 14.804812224238617,\n",
              " 15.364472725358599,\n",
              " 17.681648722264228,\n",
              " 16.017424973885962,\n",
              " 14.607562423441225,\n",
              " 12.349455668751258,\n",
              " 13.046701688894888,\n",
              " 12.779325814565663,\n",
              " 16.22057856374799,\n",
              " 11.978551697280109,\n",
              " 18.406946881479925,\n",
              " 18.22358371654228,\n",
              " 21.409425000702566,\n",
              " 14.740571669209636,\n",
              " 17.58366736936975,\n",
              " 17.856931946774676,\n",
              " 19.186448510141002,\n",
              " 15.122981047632567,\n",
              " 16.159046725957992,\n",
              " 29.876503717794147,\n",
              " 20.943239377551173,\n",
              " 13.38719457230103,\n",
              " 14.734798414470323,\n",
              " 17.340638669000157,\n",
              " 16.219463707748638,\n",
              " 18.17893438395156,\n",
              " 16.57722546496354,\n",
              " 12.480253522364702,\n",
              " 13.60628268149748,\n",
              " 7.1522331629095355,\n",
              " 13.521457672421246,\n",
              " 12.121855189133973,\n",
              " 12.322351670578795,\n",
              " 11.882302838872704,\n",
              " 13.414545569711766,\n",
              " 11.981428833376286,\n",
              " 12.117431346100263,\n",
              " 11.535938631716347,\n",
              " 11.945914354020886,\n",
              " 12.668780387926367,\n",
              " 14.170063727644898,\n",
              " 11.679793448667319,\n",
              " 12.80539674766786,\n",
              " 11.67449643703252,\n",
              " 11.438003894588922,\n",
              " 13.670049662463938,\n",
              " 13.052212051585158,\n",
              " 9.144707502968245,\n",
              " 10.876282449222991,\n",
              " 6.14135969715193,\n",
              " 9.578319345275956,\n",
              " 9.423846429514853,\n",
              " 10.960424974759274,\n",
              " 10.37177961149805,\n",
              " 9.610604818489406,\n",
              " 8.709515943659648,\n",
              " 10.391292550598521,\n",
              " 49.1775153252516,\n",
              " 54.05623729805032,\n",
              " 20.686138409286833,\n",
              " 34.50657052815441,\n",
              " 38.15491450331169,\n",
              " 35.222600345471506,\n",
              " 27.901003052805113,\n",
              " 31.578752313026488,\n",
              " 20.216654933268124,\n",
              " 29.072377457724052,\n",
              " 14.013865605354383,\n",
              " 13.382486058279051,\n",
              " 23.56093729635541,\n",
              " 12.606642693707943,\n",
              " 15.821383912327324,\n",
              " 13.429715335586025,\n",
              " 13.224943082347199,\n",
              " 13.593713412563254,\n",
              " 12.546859758186635,\n",
              " 14.004767804022931,\n",
              " 4.246337015359487,\n",
              " 4.057562688885376,\n",
              " 8.01442988283107,\n",
              " 3.68307211140821,\n",
              " 4.1319776886054616,\n",
              " 3.4851304379707897,\n",
              " 4.858646958416994,\n",
              " 4.1713562613982855,\n",
              " 3.4034108397098244,\n",
              " 3.380052911244462,\n",
              " 9.523848540677193,\n",
              " 8.91495900633053,\n",
              " 5.473299243657474,\n",
              " 9.56141640024683,\n",
              " 11.047203483013169,\n",
              " 9.176770994288207,\n",
              " 8.96097090208982,\n",
              " 9.584931304657388,\n",
              " 12.031786811577362,\n",
              " 9.39607748957217,\n",
              " 5.136237655410328,\n",
              " 5.883041745875692,\n",
              " 9.48362325776749,\n",
              " 5.420227945307082,\n",
              " 5.87087712961768,\n",
              " 4.852755529213075,\n",
              " 4.0892131587275955,\n",
              " 5.254357047130687,\n",
              " 5.518460566430187,\n",
              " 4.9895068494363635,\n",
              " 5.122612430202647,\n",
              " 4.778854919081827,\n",
              " 3.6040021659053956,\n",
              " 4.691073579502721,\n",
              " 6.1541279112264755,\n",
              " 4.488382094010671,\n",
              " 4.935682157321423,\n",
              " 4.591163064251087,\n",
              " 4.013896562586076,\n",
              " 4.21563606839006,\n",
              " 4.128100500516799,\n",
              " 3.7253940086001966,\n",
              " 2.5195561896365684,\n",
              " 4.604008093823239,\n",
              " 4.282469574515757,\n",
              " 4.067549443869244,\n",
              " 3.9796079691801802,\n",
              " 4.1965806965533705,\n",
              " 3.9001772816914815,\n",
              " 3.7672962142137125,\n",
              " 21.00660725411131,\n",
              " 20.154198537182108,\n",
              " 13.088281857031003,\n",
              " 20.82019849121334,\n",
              " 19.757372266297274,\n",
              " 21.171809343302712,\n",
              " 25.53067841327827,\n",
              " 21.73630791085726,\n",
              " 22.87875922424259,\n",
              " 13.99512754695933,\n",
              " 15.592168373093147,\n",
              " 16.13471831514493,\n",
              " 27.20608443313587,\n",
              " 14.8343399208091,\n",
              " 15.470031592534667,\n",
              " 19.940328644464532,\n",
              " 15.796401281339566,\n",
              " 15.25221519379976,\n",
              " 15.039768573622698,\n",
              " 18.22880741675877,\n",
              " 27.911548061487615,\n",
              " 27.21606375903878,\n",
              " 24.296079949873107,\n",
              " 23.235967001146673,\n",
              " 19.849471293878086,\n",
              " 35.18903923501763,\n",
              " 34.222139598156815,\n",
              " 15.806110386792671,\n",
              " 32.39889573073971,\n",
              " 17.66743021002231,\n",
              " ...]"
            ]
          },
          "metadata": {},
          "execution_count": 75
        }
      ]
    },
    {
      "cell_type": "code",
      "source": [
        "sum(snr)/1200"
      ],
      "metadata": {
        "colab": {
          "base_uri": "https://localhost:8080/"
        },
        "id": "ExsPAcMPsCct",
        "outputId": "f7b40b72-f380-4d0a-8e46-82f851625134"
      },
      "execution_count": 72,
      "outputs": [
        {
          "output_type": "execute_result",
          "data": {
            "text/plain": [
              "20.726088621911295"
            ]
          },
          "metadata": {},
          "execution_count": 72
        }
      ]
    },
    {
      "cell_type": "code",
      "source": [
        "print(\"Average SNR is : \" ,sum(snr)/1200)"
      ],
      "metadata": {
        "colab": {
          "base_uri": "https://localhost:8080/"
        },
        "id": "YeZwCB8hr9GK",
        "outputId": "7f2faf6e-efb6-4043-b69b-839e0604b486"
      },
      "execution_count": 73,
      "outputs": [
        {
          "output_type": "stream",
          "name": "stdout",
          "text": [
            "Average SNR is :  20.726088621911295\n"
          ]
        }
      ]
    },
    {
      "cell_type": "markdown",
      "source": [
        "### Checking the Test data set"
      ],
      "metadata": {
        "id": "dHB1dqk6vN_f"
      }
    },
    {
      "cell_type": "code",
      "source": [
        "def compute_stft_4(path,input):\n",
        "  data_abs=[]\n",
        "  data=[]\n",
        "  for i in input:\n",
        "    s, sr = librosa.load(path+i, sr=None)\n",
        "    S = librosa.stft(s, n_fft=1024, hop_length=512)\n",
        "    pad = np.zeros((513, 195))\n",
        "    pad[:, :S.shape[1]] = S\n",
        "    pad=pad.T\n",
        "    pad_abs = np.abs(pad)\n",
        "    data.append(pad)\n",
        "    data_abs.append(pad_abs)\n",
        "  return data,data_abs"
      ],
      "metadata": {
        "id": "fb1hqO-NvNdM"
      },
      "execution_count": 89,
      "outputs": []
    },
    {
      "cell_type": "code",
      "source": [
        "noise_test_data,noise_test_new = compute_stft_4(path_test,x_test)"
      ],
      "metadata": {
        "colab": {
          "base_uri": "https://localhost:8080/"
        },
        "id": "NtRwCZppwd58",
        "outputId": "d3d11f21-9018-4bcc-ec9e-b3134323febb"
      },
      "execution_count": 90,
      "outputs": [
        {
          "output_type": "stream",
          "name": "stderr",
          "text": [
            "/usr/local/lib/python3.7/dist-packages/ipykernel_launcher.py:8: ComplexWarning: Casting complex values to real discards the imaginary part\n",
            "  \n"
          ]
        }
      ]
    },
    {
      "cell_type": "code",
      "source": [
        "noise_test_new.shape"
      ],
      "metadata": {
        "colab": {
          "base_uri": "https://localhost:8080/"
        },
        "id": "sZ9BHyzfxMLr",
        "outputId": "dd2cd709-e105-4b61-8397-52a25c40388a"
      },
      "execution_count": 93,
      "outputs": [
        {
          "output_type": "execute_result",
          "data": {
            "text/plain": [
              "(400, 195, 513)"
            ]
          },
          "metadata": {},
          "execution_count": 93
        }
      ]
    },
    {
      "cell_type": "code",
      "source": [
        "noise_test_new = np.stack(noise_test_new)"
      ],
      "metadata": {
        "id": "cJHIUC52wUP1"
      },
      "execution_count": 92,
      "outputs": []
    },
    {
      "cell_type": "code",
      "source": [
        "model_pred_test = model.predict(noise_test_new, batch_size=10)"
      ],
      "metadata": {
        "colab": {
          "base_uri": "https://localhost:8080/"
        },
        "id": "Pcjr3XypxCzr",
        "outputId": "84b9c7b9-1ddd-445f-a153-b2606c4cf60f"
      },
      "execution_count": 94,
      "outputs": [
        {
          "output_type": "stream",
          "name": "stdout",
          "text": [
            "40/40 [==============================] - 2s 21ms/step\n"
          ]
        }
      ]
    },
    {
      "cell_type": "code",
      "source": [
        "noise_test_data = np.stack(noise_test_data)"
      ],
      "metadata": {
        "id": "APNknK0YzaNt"
      },
      "execution_count": 95,
      "outputs": []
    },
    {
      "cell_type": "code",
      "source": [
        "clean_pred_test = np.multiply(model_pred_test, noise_test_data)"
      ],
      "metadata": {
        "id": "j43pa3vEzjqh"
      },
      "execution_count": 96,
      "outputs": []
    },
    {
      "cell_type": "code",
      "source": [
        "# snr = []\n",
        "# for i in range(len(clean_val_data)):\n",
        "#     S_test = librosa.istft(clean_val_data[i], hop_length=512)\n",
        "#     S_test_2 = librosa.istft(clean_pred[i].T, hop_length=512)\n",
        "#     s = sum((S_test)**2)\n",
        "#     S_test_2 = S_test_2[:S_test.shape[0]]\n",
        "#     #diff_st = sum(np.subtract(S_test,S_test_2)**2)+1e-20\n",
        "#     SNR = 10*np.log10(np.sum(S_test**2)/np.sum(S_test - S_test_2)**2)\n",
        "#     snr.append(SNR)\n",
        "\n",
        "out_path = '/content/drive/MyDrive/DLS_Assignments/Assignment3_Data/timit-homework/output/'\n",
        "\n",
        "for i in range(len(x_test)):\n",
        "  test_s , test_sr = librosa.load(path_test+x_test[i], sr=None)\n",
        "  test_out = librosa.istft(model_pred_test[i].T, win_length=1024, hop_length=512)\n",
        "  test_out = test_out[:test_s.shape[0]]\n",
        "  sf.write(out_path+x_test[i]+\"_cleaned.wav\",test_out,test_sr)"
      ],
      "metadata": {
        "id": "ib3BGAxIzuBJ"
      },
      "execution_count": 99,
      "outputs": []
    },
    {
      "cell_type": "code",
      "source": [],
      "metadata": {
        "id": "alSnuyAo3_t3"
      },
      "execution_count": null,
      "outputs": []
    }
  ]
}