{
  "nbformat": 4,
  "nbformat_minor": 0,
  "metadata": {
    "colab": {
      "provenance": [],
      "machine_shape": "hm",
      "authorship_tag": "ABX9TyOKOXe6pwxsGGyZm7Fr5xsy",
      "include_colab_link": true
    },
    "kernelspec": {
      "name": "python3",
      "display_name": "Python 3"
    },
    "language_info": {
      "name": "python"
    },
    "accelerator": "GPU",
    "gpuClass": "standard"
  },
  "cells": [
    {
      "cell_type": "markdown",
      "metadata": {
        "id": "view-in-github",
        "colab_type": "text"
      },
      "source": [
        "<a href=\"https://colab.research.google.com/github/ram130849/Deep_Learning_Systems_Assignments/blob/main/TensorFlow/Sushant/DLS_Assignment_3_Part3.ipynb\" target=\"_parent\"><img src=\"https://colab.research.google.com/assets/colab-badge.svg\" alt=\"Open In Colab\"/></a>"
      ]
    },
    {
      "cell_type": "markdown",
      "source": [
        "## Assignment 3 Part 3\n",
        "### This assignment was discussed with Tejasram Ramesh and Sylvia B\n",
        "### References Used:\n",
        "  #### 1) https://towardsdatascience.com/audio-deep-learning-made-simple-part-1-state-of-the-art-techniques-da1d3dff2504\n",
        "  #### 2) https://towardsdatascience.com/audio-deep-learning-made-simple-part-2-why-mel-spectrograms-perform-better-aad889a93505\n",
        "  #### 3) https://www.youtube.com/watch?v=3gzI4Z2OFgY&t=1172s\n",
        "  #### 4) https://www.youtube.com/watch?v=r6Ijqo5E3I4\n",
        "  #### 5) Deep Learning with Python - by Francois Cholet\n",
        "  #### 6) https://github.com/ShinoharaYuuyoru/NoiseReductionUsingGRU\n"
      ],
      "metadata": {
        "id": "GL7l47q_-iOt"
      }
    },
    {
      "cell_type": "code",
      "source": [
        "!pip install librosa"
      ],
      "metadata": {
        "colab": {
          "base_uri": "https://localhost:8080/"
        },
        "id": "QfQXFylNn1oF",
        "outputId": "8b4fc4a8-ad8d-4d49-c221-13655d7c296c"
      },
      "execution_count": 1,
      "outputs": [
        {
          "output_type": "stream",
          "name": "stdout",
          "text": [
            "Looking in indexes: https://pypi.org/simple, https://us-python.pkg.dev/colab-wheels/public/simple/\n",
            "Requirement already satisfied: librosa in /usr/local/lib/python3.7/dist-packages (0.8.1)\n",
            "Requirement already satisfied: numba>=0.43.0 in /usr/local/lib/python3.7/dist-packages (from librosa) (0.56.3)\n",
            "Requirement already satisfied: audioread>=2.0.0 in /usr/local/lib/python3.7/dist-packages (from librosa) (3.0.0)\n",
            "Requirement already satisfied: soundfile>=0.10.2 in /usr/local/lib/python3.7/dist-packages (from librosa) (0.11.0)\n",
            "Requirement already satisfied: scipy>=1.0.0 in /usr/local/lib/python3.7/dist-packages (from librosa) (1.7.3)\n",
            "Requirement already satisfied: decorator>=3.0.0 in /usr/local/lib/python3.7/dist-packages (from librosa) (4.4.2)\n",
            "Requirement already satisfied: resampy>=0.2.2 in /usr/local/lib/python3.7/dist-packages (from librosa) (0.4.2)\n",
            "Requirement already satisfied: scikit-learn!=0.19.0,>=0.14.0 in /usr/local/lib/python3.7/dist-packages (from librosa) (1.0.2)\n",
            "Requirement already satisfied: numpy>=1.15.0 in /usr/local/lib/python3.7/dist-packages (from librosa) (1.21.6)\n",
            "Requirement already satisfied: joblib>=0.14 in /usr/local/lib/python3.7/dist-packages (from librosa) (1.2.0)\n",
            "Requirement already satisfied: packaging>=20.0 in /usr/local/lib/python3.7/dist-packages (from librosa) (21.3)\n",
            "Requirement already satisfied: pooch>=1.0 in /usr/local/lib/python3.7/dist-packages (from librosa) (1.6.0)\n",
            "Requirement already satisfied: llvmlite<0.40,>=0.39.0dev0 in /usr/local/lib/python3.7/dist-packages (from numba>=0.43.0->librosa) (0.39.1)\n",
            "Requirement already satisfied: setuptools in /usr/local/lib/python3.7/dist-packages (from numba>=0.43.0->librosa) (57.4.0)\n",
            "Requirement already satisfied: importlib-metadata in /usr/local/lib/python3.7/dist-packages (from numba>=0.43.0->librosa) (4.13.0)\n",
            "Requirement already satisfied: pyparsing!=3.0.5,>=2.0.2 in /usr/local/lib/python3.7/dist-packages (from packaging>=20.0->librosa) (3.0.9)\n",
            "Requirement already satisfied: requests>=2.19.0 in /usr/local/lib/python3.7/dist-packages (from pooch>=1.0->librosa) (2.23.0)\n",
            "Requirement already satisfied: appdirs>=1.3.0 in /usr/local/lib/python3.7/dist-packages (from pooch>=1.0->librosa) (1.4.4)\n",
            "Requirement already satisfied: urllib3!=1.25.0,!=1.25.1,<1.26,>=1.21.1 in /usr/local/lib/python3.7/dist-packages (from requests>=2.19.0->pooch>=1.0->librosa) (1.24.3)\n",
            "Requirement already satisfied: idna<3,>=2.5 in /usr/local/lib/python3.7/dist-packages (from requests>=2.19.0->pooch>=1.0->librosa) (2.10)\n",
            "Requirement already satisfied: chardet<4,>=3.0.2 in /usr/local/lib/python3.7/dist-packages (from requests>=2.19.0->pooch>=1.0->librosa) (3.0.4)\n",
            "Requirement already satisfied: certifi>=2017.4.17 in /usr/local/lib/python3.7/dist-packages (from requests>=2.19.0->pooch>=1.0->librosa) (2022.9.24)\n",
            "Requirement already satisfied: threadpoolctl>=2.0.0 in /usr/local/lib/python3.7/dist-packages (from scikit-learn!=0.19.0,>=0.14.0->librosa) (3.1.0)\n",
            "Requirement already satisfied: cffi>=1.0 in /usr/local/lib/python3.7/dist-packages (from soundfile>=0.10.2->librosa) (1.15.1)\n",
            "Requirement already satisfied: pycparser in /usr/local/lib/python3.7/dist-packages (from cffi>=1.0->soundfile>=0.10.2->librosa) (2.21)\n",
            "Requirement already satisfied: zipp>=0.5 in /usr/local/lib/python3.7/dist-packages (from importlib-metadata->numba>=0.43.0->librosa) (3.10.0)\n",
            "Requirement already satisfied: typing-extensions>=3.6.4 in /usr/local/lib/python3.7/dist-packages (from importlib-metadata->numba>=0.43.0->librosa) (4.1.1)\n"
          ]
        }
      ]
    },
    {
      "cell_type": "code",
      "source": [
        "!pip install tensorflow-addons"
      ],
      "metadata": {
        "colab": {
          "base_uri": "https://localhost:8080/"
        },
        "id": "vgr8DtU_n4JA",
        "outputId": "fe5fd63d-d470-4009-aca3-58a5fc4ffd88"
      },
      "execution_count": 2,
      "outputs": [
        {
          "output_type": "stream",
          "name": "stdout",
          "text": [
            "Looking in indexes: https://pypi.org/simple, https://us-python.pkg.dev/colab-wheels/public/simple/\n",
            "Collecting tensorflow-addons\n",
            "  Downloading tensorflow_addons-0.18.0-cp37-cp37m-manylinux_2_17_x86_64.manylinux2014_x86_64.whl (1.1 MB)\n",
            "\u001b[K     |████████████████████████████████| 1.1 MB 4.1 MB/s \n",
            "\u001b[?25hRequirement already satisfied: typeguard>=2.7 in /usr/local/lib/python3.7/dist-packages (from tensorflow-addons) (2.7.1)\n",
            "Requirement already satisfied: packaging in /usr/local/lib/python3.7/dist-packages (from tensorflow-addons) (21.3)\n",
            "Requirement already satisfied: pyparsing!=3.0.5,>=2.0.2 in /usr/local/lib/python3.7/dist-packages (from packaging->tensorflow-addons) (3.0.9)\n",
            "Installing collected packages: tensorflow-addons\n",
            "Successfully installed tensorflow-addons-0.18.0\n"
          ]
        }
      ]
    },
    {
      "cell_type": "code",
      "execution_count": 3,
      "metadata": {
        "id": "C-vl0SVXEvC0"
      },
      "outputs": [],
      "source": [
        "import numpy as np\n",
        "import pandas as pd\n",
        "import matplotlib.pyplot as plt\n",
        "import seaborn as sns\n",
        "import tensorflow as tf\n",
        "import tensorflow_addons as tfa\n",
        "import librosa\n",
        "import librosa.display\n",
        "import timeit\n",
        "import os\n",
        "from IPython.display import Audio\n",
        "from sklearn.model_selection import train_test_split\n",
        "import matplotlib.pyplot as plt\n",
        "import soundfile as sf\n",
        "from tensorflow.keras.layers import Conv1D,Conv2D,MaxPooling1D,MaxPooling2D\n",
        "from tensorflow.keras.utils import to_categorical\n",
        "from tensorflow import keras\n",
        "from tensorflow.keras import layers\n",
        "from tensorflow.keras.layers import Flatten\n",
        "from keras.models import Model\n",
        "import pickle\n",
        "import tarfile"
      ]
    },
    {
      "cell_type": "code",
      "source": [
        "device_name = tf.test.gpu_device_name()\n",
        "if device_name != '/device:GPU:0':\n",
        "  raise SystemError('GPU device not found')\n",
        "print('Found GPU at: {}'.format(device_name))"
      ],
      "metadata": {
        "colab": {
          "base_uri": "https://localhost:8080/"
        },
        "id": "47g0WosLYwzH",
        "outputId": "6171500f-0085-4829-9abd-5e3f06c44efe"
      },
      "execution_count": 4,
      "outputs": [
        {
          "output_type": "stream",
          "name": "stdout",
          "text": [
            "Found GPU at: /device:GPU:0\n"
          ]
        }
      ]
    },
    {
      "cell_type": "code",
      "source": [
        "device_name = tf.test.gpu_device_name()\n",
        "if device_name != '/device:GPU:0':\n",
        "  print(\n",
        "      '\\n\\nThis error most likely means that this notebook is not '\n",
        "      'configured to use a GPU.  Change this in Notebook Settings via the '\n",
        "      'command palette (cmd/ctrl-shift-P) or the Edit menu.\\n\\n')\n",
        "  raise SystemError('GPU device not found')\n",
        "\n",
        "def cpu():\n",
        "  with tf.device('/cpu:0'):\n",
        "    random_image_cpu = tf.random.normal((100, 100, 100, 3))\n",
        "    net_cpu = tf.keras.layers.Conv2D(32, 7)(random_image_cpu)\n",
        "    return tf.math.reduce_sum(net_cpu)\n",
        "\n",
        "def gpu():\n",
        "  with tf.device('/device:GPU:0'):\n",
        "    random_image_gpu = tf.random.normal((100, 100, 100, 3))\n",
        "    net_gpu = tf.keras.layers.Conv2D(32, 7)(random_image_gpu)\n",
        "    return tf.math.reduce_sum(net_gpu)\n",
        "  \n",
        "# We run each op once to warm up; see: https://stackoverflow.com/a/45067900\n",
        "cpu()\n",
        "gpu()\n",
        "\n",
        "# Run the op several times.\n",
        "print('Time (s) to convolve 32x7x7x3 filter over random 100x100x100x3 images '\n",
        "      '(batch x height x width x channel). Sum of ten runs.')\n",
        "print('CPU (s):')\n",
        "cpu_time = timeit.timeit('cpu()', number=10, setup=\"from __main__ import cpu\")\n",
        "print(cpu_time)\n",
        "print('GPU (s):')\n",
        "gpu_time = timeit.timeit('gpu()', number=10, setup=\"from __main__ import gpu\")\n",
        "print(gpu_time)\n",
        "print('GPU speedup over CPU: {}x'.format(int(cpu_time/gpu_time)))"
      ],
      "metadata": {
        "id": "yFs-8y6FYx5I",
        "colab": {
          "base_uri": "https://localhost:8080/"
        },
        "outputId": "32a9a884-7903-4818-ebde-b54918379619"
      },
      "execution_count": 5,
      "outputs": [
        {
          "output_type": "stream",
          "name": "stdout",
          "text": [
            "Time (s) to convolve 32x7x7x3 filter over random 100x100x100x3 images (batch x height x width x channel). Sum of ten runs.\n",
            "CPU (s):\n",
            "1.7454963840000346\n",
            "GPU (s):\n",
            "0.039328717999978835\n",
            "GPU speedup over CPU: 44x\n"
          ]
        }
      ]
    },
    {
      "cell_type": "markdown",
      "source": [
        "#### 1) 1200 noisy speech signals (from trx0000.wav to trx1199.wav)\n",
        "#### 2) 120 clean speech signals (10sentences per speaker for 12 speakers)\n",
        "#### 3) Original Clean Speech - (from trs0000.wav to trs1199.wav)\n",
        "#### 4) Noise Sources - (from trn0000.wav to trn1199.wav)\n",
        "#### 5) Adding these clean and noise speeches we get trx speeches but since it is given in the folder, there is no need to do it"
      ],
      "metadata": {
        "id": "rlLzcu5dJg0f"
      }
    },
    {
      "cell_type": "code",
      "source": [
        "from google.colab import drive\n",
        "drive.mount('/content/drive')"
      ],
      "metadata": {
        "colab": {
          "base_uri": "https://localhost:8080/"
        },
        "id": "QdLxn17UK00H",
        "outputId": "3ec13c9d-6e85-4921-8688-4df4f737fb96"
      },
      "execution_count": 6,
      "outputs": [
        {
          "output_type": "stream",
          "name": "stdout",
          "text": [
            "Mounted at /content/drive\n"
          ]
        }
      ]
    },
    {
      "cell_type": "code",
      "source": [
        "path_train = '/content/drive/MyDrive/DLS_Assignments/Assignment3_Data/timit-homework/tr/'\n",
        "path_validation = '/content/drive/MyDrive/DLS_Assignments/Assignment3_Data/timit-homework/v/'\n",
        "path_test = '/content/drive/MyDrive/DLS_Assignments/Assignment3_Data/timit-homework/te/'"
      ],
      "metadata": {
        "id": "CGx--XpZYa-4"
      },
      "execution_count": 7,
      "outputs": []
    },
    {
      "cell_type": "code",
      "source": [
        "!ls /content/drive/MyDrive/DLS_Assignments/Assignment3_Data/"
      ],
      "metadata": {
        "colab": {
          "base_uri": "https://localhost:8080/"
        },
        "id": "n2FQvYb3qEXp",
        "outputId": "4dde41df-82e9-4f59-fb17-282f2ca5171c"
      },
      "execution_count": 8,
      "outputs": [
        {
          "output_type": "stream",
          "name": "stdout",
          "text": [
            "timit-homework\n"
          ]
        }
      ]
    },
    {
      "cell_type": "code",
      "source": [
        "def load_data(path):\n",
        "  x=[]\n",
        "  clean=[]\n",
        "  noise=[]\n",
        "  for file in os.listdir(path):\n",
        "    if file.startswith('trx') or file.startswith('tex') or file.startswith('vx'):\n",
        "      #if file not in x:\n",
        "        x.append(file)\n",
        "\n",
        "    elif file.startswith('trs') or file.startswith('tes') or file.startswith('vs'):\n",
        "      #if file not in clean:\n",
        "        clean.append(file)\n",
        "\n",
        "    elif file.startswith('trn') or file.startswith('ten') or file.startswith('vn'):\n",
        "      #if file not in noise:\n",
        "        noise.append(file)\n",
        "  \n",
        "  x.sort()\n",
        "  clean.sort()\n",
        "  noise.sort()\n",
        "\n",
        "  return x,clean,noise"
      ],
      "metadata": {
        "id": "K5PmohTtmK6m"
      },
      "execution_count": 9,
      "outputs": []
    },
    {
      "cell_type": "markdown",
      "source": [
        "### Loading the Train Data:"
      ],
      "metadata": {
        "id": "mcxKAWy6sY-p"
      }
    },
    {
      "cell_type": "code",
      "source": [
        "x_train, clean_train, noise_train = load_data(path_train)"
      ],
      "metadata": {
        "id": "0fA5TtD2sdqm"
      },
      "execution_count": 10,
      "outputs": []
    },
    {
      "cell_type": "code",
      "source": [
        "print(\"The size of x_train is : \",len(x_train))\n",
        "print(\"The size of clean_train is : \",len(clean_train))\n",
        "print(\"The size of noise_train is : \",len(noise_train))"
      ],
      "metadata": {
        "colab": {
          "base_uri": "https://localhost:8080/"
        },
        "id": "SsYeIL7-tKB7",
        "outputId": "8ff5bcc1-86c3-4af8-a5eb-89d7c03cc763"
      },
      "execution_count": 11,
      "outputs": [
        {
          "output_type": "stream",
          "name": "stdout",
          "text": [
            "The size of x_train is :  1200\n",
            "The size of clean_train is :  1200\n",
            "The size of noise_train is :  1200\n"
          ]
        }
      ]
    },
    {
      "cell_type": "markdown",
      "source": [
        "### Loading the Validation Data:"
      ],
      "metadata": {
        "id": "FRIO-kF2sxfS"
      }
    },
    {
      "cell_type": "code",
      "source": [
        "x_val, clean_val, noise_val = load_data(path_validation)"
      ],
      "metadata": {
        "id": "QdtOS0aEs13O"
      },
      "execution_count": 12,
      "outputs": []
    },
    {
      "cell_type": "code",
      "source": [
        "print(\"The size of x_val is : \",len(x_val))\n",
        "print(\"The size of clean_val is : \",len(clean_val))\n",
        "print(\"The size of noise_val is : \",len(noise_val))"
      ],
      "metadata": {
        "colab": {
          "base_uri": "https://localhost:8080/"
        },
        "id": "bWp3xFZFtpxU",
        "outputId": "37720517-236d-4692-c7c0-0330faf4353b"
      },
      "execution_count": 13,
      "outputs": [
        {
          "output_type": "stream",
          "name": "stdout",
          "text": [
            "The size of x_val is :  1200\n",
            "The size of clean_val is :  1200\n",
            "The size of noise_val is :  1200\n"
          ]
        }
      ]
    },
    {
      "cell_type": "markdown",
      "source": [
        "### Loading the Test Data:"
      ],
      "metadata": {
        "id": "oRWADzIas8y7"
      }
    },
    {
      "cell_type": "code",
      "source": [
        "x_test, clean_test, noise_test = load_data(path_test)"
      ],
      "metadata": {
        "id": "vvxPlIU2tAZ-"
      },
      "execution_count": 14,
      "outputs": []
    },
    {
      "cell_type": "code",
      "source": [
        "print(\"The size of x_test is : \",len(x_test))\n",
        "print(\"The size of clean_test is : \",len(clean_test))\n",
        "print(\"The size of noise_test is : \",len(noise_test))"
      ],
      "metadata": {
        "colab": {
          "base_uri": "https://localhost:8080/"
        },
        "id": "S_eXVv1at5Ap",
        "outputId": "c58047f8-4fda-4e42-b12b-16da5402ffb3"
      },
      "execution_count": 15,
      "outputs": [
        {
          "output_type": "stream",
          "name": "stdout",
          "text": [
            "The size of x_test is :  400\n",
            "The size of clean_test is :  0\n",
            "The size of noise_test is :  0\n"
          ]
        }
      ]
    },
    {
      "cell_type": "code",
      "source": [
        "def compute_stft(path,input):\n",
        "  data_abs=[]\n",
        "  for i in input:\n",
        "    s, sr = librosa.load(path+i, sr=None)\n",
        "    S = librosa.stft(s, n_fft=1024, hop_length=512)\n",
        "    pad = np.zeros((513, 178))\n",
        "    pad[:, :S.shape[1]] = S\n",
        "    pad=pad.T\n",
        "    pad_abs = np.abs(pad)\n",
        "    data_abs.append(pad_abs)\n",
        "  return data_abs"
      ],
      "metadata": {
        "id": "UKCQ30sYZTKg"
      },
      "execution_count": 16,
      "outputs": []
    },
    {
      "cell_type": "markdown",
      "source": [
        "### Computing STFT for Training Data"
      ],
      "metadata": {
        "id": "dL-8axhe5Xom"
      }
    },
    {
      "cell_type": "code",
      "source": [
        "x_train_stft = compute_stft(path_train,x_train)"
      ],
      "metadata": {
        "colab": {
          "base_uri": "https://localhost:8080/"
        },
        "id": "JczFSiaRv5k4",
        "outputId": "382e766f-2917-4bcf-f5c5-d41eb9f2e1fc"
      },
      "execution_count": null,
      "outputs": [
        {
          "metadata": {
            "tags": null
          },
          "name": "stderr",
          "output_type": "stream",
          "text": [
            "/usr/local/lib/python3.7/dist-packages/ipykernel_launcher.py:7: ComplexWarning: Casting complex values to real discards the imaginary part\n",
            "  import sys\n"
          ]
        }
      ]
    },
    {
      "cell_type": "code",
      "source": [
        "print(\"Shape of x_train_stft is : \",x_train_stft[0].shape)\n",
        "print(len(x_train_stft))"
      ],
      "metadata": {
        "id": "a-ibF94NP1oi"
      },
      "execution_count": null,
      "outputs": []
    },
    {
      "cell_type": "code",
      "source": [
        "clean_train_stft = compute_stft(path_train,clean_train)"
      ],
      "metadata": {
        "colab": {
          "base_uri": "https://localhost:8080/"
        },
        "id": "GxCL6LOg5n8-",
        "outputId": "b64708d2-5224-4e3e-dbf2-3fd19fd2e481"
      },
      "execution_count": 25,
      "outputs": [
        {
          "metadata": {
            "tags": null
          },
          "name": "stderr",
          "output_type": "stream",
          "text": [
            "/usr/local/lib/python3.7/dist-packages/ipykernel_launcher.py:7: ComplexWarning: Casting complex values to real discards the imaginary part\n",
            "  import sys\n"
          ]
        }
      ]
    },
    {
      "cell_type": "code",
      "source": [
        "print(len(clean_train_stft))"
      ],
      "metadata": {
        "colab": {
          "base_uri": "https://localhost:8080/"
        },
        "id": "BgbytcyMRR-V",
        "outputId": "b4c97c84-9526-4de6-bb3a-b42dc5fa8866"
      },
      "execution_count": 26,
      "outputs": [
        {
          "output_type": "stream",
          "name": "stdout",
          "text": [
            "1200\n"
          ]
        }
      ]
    },
    {
      "cell_type": "code",
      "source": [
        "noise_train_stft = compute_stft(path_train,noise_train)"
      ],
      "metadata": {
        "colab": {
          "base_uri": "https://localhost:8080/"
        },
        "id": "1GhXBpyQ5oCq",
        "outputId": "d622daed-c013-49bd-812f-e00ceec1cd64"
      },
      "execution_count": 27,
      "outputs": [
        {
          "output_type": "stream",
          "name": "stderr",
          "text": [
            "/usr/local/lib/python3.7/dist-packages/ipykernel_launcher.py:7: ComplexWarning: Casting complex values to real discards the imaginary part\n",
            "  import sys\n"
          ]
        }
      ]
    },
    {
      "cell_type": "markdown",
      "source": [
        "### Computing STFT for Validation Data"
      ],
      "metadata": {
        "id": "gPeBltSeFAqT"
      }
    },
    {
      "cell_type": "code",
      "source": [
        "x_val_stft = compute_stft(path_validation,x_val)"
      ],
      "metadata": {
        "colab": {
          "base_uri": "https://localhost:8080/"
        },
        "id": "ArGrVbbZE_4q",
        "outputId": "478b2e56-67ab-4309-a7f0-5180cd4bebd1"
      },
      "execution_count": 30,
      "outputs": [
        {
          "output_type": "stream",
          "name": "stderr",
          "text": [
            "/usr/local/lib/python3.7/dist-packages/ipykernel_launcher.py:7: ComplexWarning: Casting complex values to real discards the imaginary part\n",
            "  import sys\n"
          ]
        }
      ]
    },
    {
      "cell_type": "code",
      "source": [
        "clean_val_stft = compute_stft(path_validation,clean_val)"
      ],
      "metadata": {
        "colab": {
          "base_uri": "https://localhost:8080/"
        },
        "id": "CLCHNbSaFI2M",
        "outputId": "e55bea78-ed25-4338-84f2-e56cdf8df9da"
      },
      "execution_count": 31,
      "outputs": [
        {
          "output_type": "stream",
          "name": "stderr",
          "text": [
            "/usr/local/lib/python3.7/dist-packages/ipykernel_launcher.py:7: ComplexWarning: Casting complex values to real discards the imaginary part\n",
            "  import sys\n"
          ]
        }
      ]
    },
    {
      "cell_type": "code",
      "source": [
        "noise_val_stft = compute_stft(path_validation,noise_val)"
      ],
      "metadata": {
        "colab": {
          "base_uri": "https://localhost:8080/"
        },
        "id": "V26YIoV7FLCe",
        "outputId": "745f03a0-ebbc-4542-87fc-be7a405a2bb3"
      },
      "execution_count": 32,
      "outputs": [
        {
          "output_type": "stream",
          "name": "stderr",
          "text": [
            "/usr/local/lib/python3.7/dist-packages/ipykernel_launcher.py:7: ComplexWarning: Casting complex values to real discards the imaginary part\n",
            "  import sys\n"
          ]
        }
      ]
    },
    {
      "cell_type": "markdown",
      "source": [
        "### Creating IBM Matrix for Training Set"
      ],
      "metadata": {
        "id": "TfGmJ8WO7rp1"
      }
    },
    {
      "cell_type": "code",
      "source": [
        "ibm_train = [(clean_train_stft[i] > noise_train_stft[i]).astype(int) for i in range(len(clean_train_stft))]"
      ],
      "metadata": {
        "id": "eFoKHjRwQ-XW"
      },
      "execution_count": 28,
      "outputs": []
    },
    {
      "cell_type": "code",
      "source": [
        "ibm_train = np.stack(ibm_train)\n",
        "noise_train_new = np.stack(noise_train_stft)"
      ],
      "metadata": {
        "id": "YaXt1feVRvb7"
      },
      "execution_count": 29,
      "outputs": []
    },
    {
      "cell_type": "markdown",
      "source": [
        "### Creating IBM Matrix for Validation Set"
      ],
      "metadata": {
        "id": "PM1xYjKcS6M9"
      }
    },
    {
      "cell_type": "code",
      "source": [
        "ibm_val = [(clean_val_stft[i] > noise_val_stft[i]).astype(int) for i in range(len(clean_val_stft))]"
      ],
      "metadata": {
        "id": "dbC04vQeSmUQ"
      },
      "execution_count": 33,
      "outputs": []
    },
    {
      "cell_type": "code",
      "source": [
        "ibm_val = np.stack(ibm_val)\n",
        "noise_val_new = np.stack(noise_val_stft)"
      ],
      "metadata": {
        "id": "y5yC8IxCTVOA"
      },
      "execution_count": 34,
      "outputs": []
    },
    {
      "cell_type": "code",
      "source": [
        "ibm_val.shape"
      ],
      "metadata": {
        "colab": {
          "base_uri": "https://localhost:8080/"
        },
        "id": "Tq-Cx1kbTwRn",
        "outputId": "007742e2-4944-4187-8dc3-c0d16be54788"
      },
      "execution_count": 35,
      "outputs": [
        {
          "output_type": "execute_result",
          "data": {
            "text/plain": [
              "(1200, 178, 513)"
            ]
          },
          "metadata": {},
          "execution_count": 35
        }
      ]
    },
    {
      "cell_type": "code",
      "source": [
        "model = tf.keras.Sequential();\n",
        "model.add(layers.GRU(513, return_sequences=True))\n",
        "model.add(layers.Dropout(rate = 0.2))\n",
        "model.add(layers.GRU(513, return_sequences=True))\n",
        "model.add(layers.Dropout(rate = 0.2))\n",
        "model.add(layers.Dense(513, activation='sigmoid'))"
      ],
      "metadata": {
        "id": "RSyRMVr-T8PX"
      },
      "execution_count": 36,
      "outputs": []
    },
    {
      "cell_type": "code",
      "source": [
        "model.compile(optimizer = tf.keras.optimizers.Adam(), loss = tf.keras.losses.BinaryCrossentropy())"
      ],
      "metadata": {
        "id": "M_CrmgRyVCHH"
      },
      "execution_count": 37,
      "outputs": []
    },
    {
      "cell_type": "code",
      "source": [
        "history_1 = model.fit(noise_train_new, ibm_train, epochs=20, batch_size=10)"
      ],
      "metadata": {
        "colab": {
          "base_uri": "https://localhost:8080/"
        },
        "id": "osUOuP-vVXth",
        "outputId": "9957904a-bb25-4aff-9676-f7db096ed47c"
      },
      "execution_count": 38,
      "outputs": [
        {
          "output_type": "stream",
          "name": "stdout",
          "text": [
            "Epoch 1/20\n",
            "120/120 [==============================] - 9s 38ms/step - loss: 0.4752\n",
            "Epoch 2/20\n",
            "120/120 [==============================] - 4s 37ms/step - loss: 0.3827\n",
            "Epoch 3/20\n",
            "120/120 [==============================] - 4s 37ms/step - loss: 0.3510\n",
            "Epoch 4/20\n",
            "120/120 [==============================] - 5s 38ms/step - loss: 0.3250\n",
            "Epoch 5/20\n",
            "120/120 [==============================] - 5s 38ms/step - loss: 0.3161\n",
            "Epoch 6/20\n",
            "120/120 [==============================] - 5s 38ms/step - loss: 0.3091\n",
            "Epoch 7/20\n",
            "120/120 [==============================] - 5s 38ms/step - loss: 0.3078\n",
            "Epoch 8/20\n",
            "120/120 [==============================] - 5s 38ms/step - loss: 0.3037\n",
            "Epoch 9/20\n",
            "120/120 [==============================] - 5s 38ms/step - loss: 0.3006\n",
            "Epoch 10/20\n",
            "120/120 [==============================] - 5s 39ms/step - loss: 0.2951\n",
            "Epoch 11/20\n",
            "120/120 [==============================] - 5s 39ms/step - loss: 0.2995\n",
            "Epoch 12/20\n",
            "120/120 [==============================] - 5s 39ms/step - loss: 0.2978\n",
            "Epoch 13/20\n",
            "120/120 [==============================] - 5s 38ms/step - loss: 0.2917\n",
            "Epoch 14/20\n",
            "120/120 [==============================] - 5s 38ms/step - loss: 0.2931\n",
            "Epoch 15/20\n",
            "120/120 [==============================] - 5s 39ms/step - loss: 0.2921\n",
            "Epoch 16/20\n",
            "120/120 [==============================] - 5s 39ms/step - loss: 0.2878\n",
            "Epoch 17/20\n",
            "120/120 [==============================] - 5s 39ms/step - loss: 0.2884\n",
            "Epoch 18/20\n",
            "120/120 [==============================] - 5s 39ms/step - loss: 0.2882\n",
            "Epoch 19/20\n",
            "120/120 [==============================] - 5s 40ms/step - loss: 0.2864\n",
            "Epoch 20/20\n",
            "120/120 [==============================] - 5s 39ms/step - loss: 0.3113\n"
          ]
        }
      ]
    },
    {
      "cell_type": "code",
      "source": [
        "model_path = '/content/drive/MyDrive/DLS_Assignments/Models/assign3_part3_model.h5'\n",
        "model.save(model_path)"
      ],
      "metadata": {
        "id": "Op04_ixDVbkW"
      },
      "execution_count": 39,
      "outputs": []
    },
    {
      "cell_type": "markdown",
      "source": [
        "### Checking the model on Validation Data"
      ],
      "metadata": {
        "id": "8cmAxDncfK_S"
      }
    },
    {
      "cell_type": "code",
      "source": [
        "model.evaluate(noise_val_new, ibm_val, batch_size=10)"
      ],
      "metadata": {
        "colab": {
          "base_uri": "https://localhost:8080/"
        },
        "id": "WxSGVP_9eTNh",
        "outputId": "7b130d11-971f-44f9-ba92-48297a7ffde4"
      },
      "execution_count": 40,
      "outputs": [
        {
          "output_type": "stream",
          "name": "stdout",
          "text": [
            "120/120 [==============================] - 3s 18ms/step - loss: 0.3042\n"
          ]
        },
        {
          "output_type": "execute_result",
          "data": {
            "text/plain": [
              "0.3042108416557312"
            ]
          },
          "metadata": {},
          "execution_count": 40
        }
      ]
    },
    {
      "cell_type": "code",
      "source": [
        "def snr(clean, recon):\n",
        "    print(clean.shape)\n",
        "    recon = recon[:clean.shape[0]]\n",
        "    return 10*np.log10(np.sum(clean**2)/np.sum(clean - recon)**2)"
      ],
      "metadata": {
        "id": "C7o_ilvnicmK"
      },
      "execution_count": 41,
      "outputs": []
    },
    {
      "cell_type": "markdown",
      "source": [
        "### Predicted IBM Mask"
      ],
      "metadata": {
        "id": "Mmmzq4DPirb4"
      }
    },
    {
      "cell_type": "code",
      "source": [
        "model_pred = model.predict(noise_val_new)"
      ],
      "metadata": {
        "colab": {
          "base_uri": "https://localhost:8080/"
        },
        "id": "C9zBLTbyiAYW",
        "outputId": "63221a91-3f38-484d-90e8-db6fa126c424"
      },
      "execution_count": 42,
      "outputs": [
        {
          "output_type": "stream",
          "name": "stdout",
          "text": [
            "38/38 [==============================] - 2s 27ms/step\n"
          ]
        }
      ]
    },
    {
      "cell_type": "code",
      "source": [
        "def compute_stft_2(path,input):\n",
        "  data_abs=[]\n",
        "  data=[]\n",
        "  for i in input:\n",
        "    s, sr = librosa.load(path+i, sr=None)\n",
        "    S = librosa.stft(s, n_fft=1024, hop_length=512)\n",
        "    pad = np.zeros((513, 178))\n",
        "    pad[:, :S.shape[1]] = S\n",
        "    pad=pad.T\n",
        "    pad_abs = np.abs(pad)\n",
        "    data.append(pad)\n",
        "    data_abs.append(pad_abs)\n",
        "  return data,data_abs"
      ],
      "metadata": {
        "id": "AfPi3DwIpXiW"
      },
      "execution_count": 43,
      "outputs": []
    },
    {
      "cell_type": "code",
      "source": [
        "def compute_stft_3(path,input):\n",
        "  data_abs=[]\n",
        "  data=[]\n",
        "  for i in input:\n",
        "    s, sr = librosa.load(path+i, sr=None)\n",
        "    S = librosa.stft(s, n_fft=1024, hop_length=512)\n",
        "    pad = np.zeros((513, 178))\n",
        "    pad[:, :S.shape[1]] = S\n",
        "    pad=pad.T\n",
        "    pad_abs = np.abs(pad)\n",
        "    data.append(S)\n",
        "    data_abs.append(pad_abs)\n",
        "  return data,data_abs"
      ],
      "metadata": {
        "id": "02SmT6EHrlOA"
      },
      "execution_count": 44,
      "outputs": []
    },
    {
      "cell_type": "code",
      "source": [
        "noise_val_data,noise_val_new = compute_stft_2(path_validation,noise_val)"
      ],
      "metadata": {
        "colab": {
          "base_uri": "https://localhost:8080/"
        },
        "id": "gNA-iC4Tp8aP",
        "outputId": "4997e36e-c45c-486b-b860-fb152fb8d695"
      },
      "execution_count": 45,
      "outputs": [
        {
          "output_type": "stream",
          "name": "stderr",
          "text": [
            "/usr/local/lib/python3.7/dist-packages/ipykernel_launcher.py:8: ComplexWarning: Casting complex values to real discards the imaginary part\n",
            "  \n"
          ]
        }
      ]
    },
    {
      "cell_type": "code",
      "source": [
        "clean_val_data,clean_val_new = compute_stft_3(path_validation,clean_val)"
      ],
      "metadata": {
        "colab": {
          "base_uri": "https://localhost:8080/"
        },
        "id": "KNpNBal6rGac",
        "outputId": "a54f645b-e459-4636-87e3-6864fe845693"
      },
      "execution_count": 46,
      "outputs": [
        {
          "output_type": "stream",
          "name": "stderr",
          "text": [
            "/usr/local/lib/python3.7/dist-packages/ipykernel_launcher.py:8: ComplexWarning: Casting complex values to real discards the imaginary part\n",
            "  \n"
          ]
        }
      ]
    },
    {
      "cell_type": "code",
      "source": [
        "noise_val_data = np.stack(noise_val_data)"
      ],
      "metadata": {
        "id": "m4DxaX8MqmG-"
      },
      "execution_count": 47,
      "outputs": []
    },
    {
      "cell_type": "markdown",
      "source": [
        "### Generating Recovered Validation Sequence from Predicted IBM Mask"
      ],
      "metadata": {
        "id": "tY5CynW0jiBI"
      }
    },
    {
      "cell_type": "code",
      "source": [
        "clean_pred = np.multiply(model_pred, noise_val_data)"
      ],
      "metadata": {
        "id": "rp3F4bO1junS"
      },
      "execution_count": 48,
      "outputs": []
    },
    {
      "cell_type": "code",
      "source": [
        "noise_val_data.shape"
      ],
      "metadata": {
        "colab": {
          "base_uri": "https://localhost:8080/"
        },
        "id": "-4yAO9RKo4y1",
        "outputId": "1571456c-0feb-4713-f455-c341d3982d58"
      },
      "execution_count": 49,
      "outputs": [
        {
          "output_type": "execute_result",
          "data": {
            "text/plain": [
              "(1200, 178, 513)"
            ]
          },
          "metadata": {},
          "execution_count": 49
        }
      ]
    },
    {
      "cell_type": "code",
      "source": [
        "clean_val_stft[0]"
      ],
      "metadata": {
        "colab": {
          "base_uri": "https://localhost:8080/"
        },
        "id": "Z24byUPumLNp",
        "outputId": "58c645ba-c9d2-4fe0-fa1d-f5461b0492c7"
      },
      "execution_count": 50,
      "outputs": [
        {
          "output_type": "execute_result",
          "data": {
            "text/plain": [
              "array([[0.00812184, 0.00592763, 0.00213551, ..., 0.00017014, 0.00010148,\n",
              "        0.00033313],\n",
              "       [0.00248497, 0.00062856, 0.00258446, ..., 0.00020294, 0.00033425,\n",
              "        0.0003165 ],\n",
              "       [0.00805179, 0.00287515, 0.00200844, ..., 0.00023642, 0.00038201,\n",
              "        0.00047942],\n",
              "       ...,\n",
              "       [0.        , 0.        , 0.        , ..., 0.        , 0.        ,\n",
              "        0.        ],\n",
              "       [0.        , 0.        , 0.        , ..., 0.        , 0.        ,\n",
              "        0.        ],\n",
              "       [0.        , 0.        , 0.        , ..., 0.        , 0.        ,\n",
              "        0.        ]])"
            ]
          },
          "metadata": {},
          "execution_count": 50
        }
      ]
    },
    {
      "cell_type": "markdown",
      "source": [
        "### Calculate SNR"
      ],
      "metadata": {
        "id": "eOyhl_m1keSa"
      }
    },
    {
      "cell_type": "code",
      "source": [
        "snr = []\n",
        "for i in range(len(clean_val_data)):\n",
        "    S_test = librosa.istft(clean_val_data[i], hop_length=512)\n",
        "    S_test_2 = librosa.istft(clean_pred[i].T, hop_length=512)\n",
        "    s = sum((S_test)**2)\n",
        "    S_test_2 = S_test_2[:S_test.shape[0]]\n",
        "    #diff_st = sum(np.subtract(S_test,S_test_2)**2)+1e-20\n",
        "    SNR = 10*np.log10(np.sum(S_test**2)/np.sum(S_test - S_test_2)**2)\n",
        "    snr.append(SNR)"
      ],
      "metadata": {
        "id": "9RITxmlIkhK6"
      },
      "execution_count": 51,
      "outputs": []
    },
    {
      "cell_type": "code",
      "source": [
        "snr"
      ],
      "metadata": {
        "colab": {
          "base_uri": "https://localhost:8080/"
        },
        "id": "Fs4o4VZwswRo",
        "outputId": "82f1ebab-62ef-45c4-b3ef-b31e9cbadcd6"
      },
      "execution_count": 52,
      "outputs": [
        {
          "output_type": "execute_result",
          "data": {
            "text/plain": [
              "[16.946794189640116,\n",
              " 16.05458925064433,\n",
              " 14.310728844947544,\n",
              " 24.729587103531113,\n",
              " 13.535351963547948,\n",
              " 17.4992976388433,\n",
              " 15.426731873722687,\n",
              " 19.64998485811929,\n",
              " 17.84081608685343,\n",
              " 15.122927197673663,\n",
              " 16.127348625874426,\n",
              " 19.334466953271228,\n",
              " 31.274199752945933,\n",
              " 18.87814313386005,\n",
              " 16.346656931042503,\n",
              " 16.372710966740552,\n",
              " 13.490830562041953,\n",
              " 18.942830730663665,\n",
              " 14.81867796667821,\n",
              " 16.336498548198875,\n",
              " 24.523052110078435,\n",
              " 21.763299172528416,\n",
              " 32.48373410069276,\n",
              " 19.348330055150274,\n",
              " 28.118276467101396,\n",
              " 19.238890809325177,\n",
              " 17.287838114810697,\n",
              " 18.987797419008565,\n",
              " 27.202261203975194,\n",
              " 26.579616718692918,\n",
              " 23.375966317901824,\n",
              " 24.51305975345907,\n",
              " 35.18419839228092,\n",
              " 23.90834519147154,\n",
              " 31.71090485748474,\n",
              " 26.630658401102473,\n",
              " 18.377802095106887,\n",
              " 23.88285598669942,\n",
              " 30.825630520595062,\n",
              " 21.106444613954253,\n",
              " 23.997006977651303,\n",
              " 21.633699336737422,\n",
              " 18.10950510618637,\n",
              " 21.220750379679703,\n",
              " 17.672969969586525,\n",
              " 20.959713423243578,\n",
              " 26.12175710437366,\n",
              " 20.687582586181847,\n",
              " 23.17383091008525,\n",
              " 18.047199307834,\n",
              " 10.083647072188889,\n",
              " 10.350325694027884,\n",
              " 13.157323446297344,\n",
              " 11.394286892848594,\n",
              " 10.720488359666176,\n",
              " 10.929883597199058,\n",
              " 10.41124091122759,\n",
              " 10.411539381890073,\n",
              " 7.91575431678123,\n",
              " 8.409173712193294,\n",
              " 11.890234377635945,\n",
              " 10.180054174512987,\n",
              " 15.057888257598883,\n",
              " 11.1095446950965,\n",
              " 5.811326155531349,\n",
              " 11.28928076470137,\n",
              " 13.121244536140097,\n",
              " 9.754803986418345,\n",
              " 12.87252745256334,\n",
              " 10.100335581027108,\n",
              " 21.718118980773266,\n",
              " 23.838676774835996,\n",
              " 12.13682589044163,\n",
              " 21.55667302863987,\n",
              " 17.141118838507126,\n",
              " 19.91438127234388,\n",
              " 20.475885880584144,\n",
              " 19.838769063230355,\n",
              " 17.475161698716676,\n",
              " 22.60658317128646,\n",
              " 23.01492972470328,\n",
              " 27.639398656140305,\n",
              " 31.903788155253938,\n",
              " 22.906995244745538,\n",
              " 23.455789102093757,\n",
              " 36.83966793230286,\n",
              " 28.660874944557616,\n",
              " 24.839349611335223,\n",
              " 23.043049263617764,\n",
              " 19.548618322771006,\n",
              " 11.200925536527212,\n",
              " 11.122095014305195,\n",
              " 8.158745216037307,\n",
              " 11.250847872920382,\n",
              " 12.70366592955648,\n",
              " 10.043626140219931,\n",
              " 9.440594466252232,\n",
              " 12.1543750642229,\n",
              " 11.80882427822205,\n",
              " 11.671492414765435,\n",
              " 20.880437112509263,\n",
              " 14.039385254564102,\n",
              " 11.544138856691484,\n",
              " 16.015253492452945,\n",
              " 14.401876594940553,\n",
              " 13.59988527774319,\n",
              " 17.45282053891195,\n",
              " 14.957352876874861,\n",
              " 14.908094779529167,\n",
              " 9.563621294418468,\n",
              " 11.633259136426375,\n",
              " 12.626991213758325,\n",
              " 7.501323826732326,\n",
              " 11.287806716201597,\n",
              " 14.720367367770034,\n",
              " 11.354460415202707,\n",
              " 10.810190747686008,\n",
              " 13.949248374777577,\n",
              " 14.000723740880707,\n",
              " 11.28405506814899,\n",
              " 17.978815545179664,\n",
              " 16.42270730915384,\n",
              " 11.911506926187245,\n",
              " 19.215607622205223,\n",
              " 14.246818525122203,\n",
              " 17.895853428184278,\n",
              " 23.047008328049166,\n",
              " 16.705845509410697,\n",
              " 17.828160201828286,\n",
              " 23.37280500527996,\n",
              " 31.509249879342505,\n",
              " 54.136428736487865,\n",
              " 18.56625338535719,\n",
              " 36.422320174542385,\n",
              " 35.67442701824759,\n",
              " 21.738343872178604,\n",
              " 22.174411117813694,\n",
              " 39.58247180300884,\n",
              " 22.343580639270733,\n",
              " 31.757601427280584,\n",
              " 30.606390281753647,\n",
              " 28.839526572423146,\n",
              " 23.078292505298922,\n",
              " 38.5899602982981,\n",
              " 27.742238981533582,\n",
              " 41.31039985392442,\n",
              " 27.626451708265876,\n",
              " 27.307676169887387,\n",
              " 20.44791563814624,\n",
              " 26.552283959272565,\n",
              " 27.856629596897136,\n",
              " 33.504594789987095,\n",
              " 17.063294305907142,\n",
              " 32.475634004499696,\n",
              " 16.21841481051642,\n",
              " 28.521545741069545,\n",
              " 31.723427596730588,\n",
              " 34.13123254653377,\n",
              " 23.240049764415737,\n",
              " 27.380448237083186,\n",
              " 14.547867663397264,\n",
              " 14.3765586751433,\n",
              " 13.090171611572295,\n",
              " 14.286541145761442,\n",
              " 12.38593350496646,\n",
              " 19.118997961880314,\n",
              " 14.212156087271781,\n",
              " 16.015692412006867,\n",
              " 14.69756209190203,\n",
              " 17.604721367139426,\n",
              " 25.565791634280075,\n",
              " 21.53410842474782,\n",
              " 14.381629325298226,\n",
              " 31.03370047043564,\n",
              " 16.473572303139687,\n",
              " 27.95118898316342,\n",
              " 20.14957083133212,\n",
              " 20.872429466171635,\n",
              " 20.293616122766043,\n",
              " 26.2794313564495,\n",
              " 32.70422562858949,\n",
              " 30.975871810751187,\n",
              " 22.077359650499147,\n",
              " 35.41900424420529,\n",
              " 28.16832864949554,\n",
              " 19.458809941900704,\n",
              " 28.11139143654058,\n",
              " 26.68339422125909,\n",
              " 46.54501732977128,\n",
              " 17.032271744662463,\n",
              " 26.13473838698754,\n",
              " 45.00963109013262,\n",
              " 13.504353760660022,\n",
              " 21.99951498000447,\n",
              " 48.620078880330425,\n",
              " 24.30941484438396,\n",
              " 50.37820673539456,\n",
              " 33.084483382443494,\n",
              " 12.63568701645864,\n",
              " 26.322889222790508,\n",
              " 22.006286433975383,\n",
              " 24.84108823608537,\n",
              " 12.726881321067857,\n",
              " 29.68929135679167,\n",
              " 21.259718610427008,\n",
              " 39.21140627372911,\n",
              " 24.05414163840648,\n",
              " 31.168745193302897,\n",
              " 16.63691405416641,\n",
              " 20.714526870032888,\n",
              " 9.872655523522766,\n",
              " 10.083353504350395,\n",
              " 13.86439818528684,\n",
              " 11.018589918174557,\n",
              " 9.190686189149865,\n",
              " 10.274119223179687,\n",
              " 7.378281898194113,\n",
              " 11.019230256263883,\n",
              " 11.061296000168962,\n",
              " 12.772953293818981,\n",
              " 13.575337695917298,\n",
              " 12.367612468656406,\n",
              " 9.87369288999562,\n",
              " 13.440622627845688,\n",
              " 9.770575975293102,\n",
              " 16.20867779847957,\n",
              " 11.970527566187027,\n",
              " 11.946194595654717,\n",
              " 10.642621597978925,\n",
              " 10.324441575167524,\n",
              " 13.078670880350094,\n",
              " 13.711634493117993,\n",
              " 9.790265725899443,\n",
              " 13.434307777661123,\n",
              " 11.651876287420894,\n",
              " 13.632294599923549,\n",
              " 13.314980696496772,\n",
              " 13.700147731044165,\n",
              " 11.510931995525414,\n",
              " 13.455023740937937,\n",
              " 14.94337013482036,\n",
              " 13.993337681030031,\n",
              " 20.358914891979882,\n",
              " 12.82871962844689,\n",
              " 13.852708951176496,\n",
              " 17.590964318686193,\n",
              " 11.942679492135051,\n",
              " 13.274795526275224,\n",
              " 15.788760978699399,\n",
              " 15.569753123692244,\n",
              " 15.744559873900632,\n",
              " 18.508850623732684,\n",
              " 15.730825625819609,\n",
              " 15.293098618053511,\n",
              " 13.15187479485652,\n",
              " 14.73934632634267,\n",
              " 20.828153312886045,\n",
              " 14.003635520953463,\n",
              " 12.94145938452943,\n",
              " 16.507492446908415,\n",
              " 12.31684154515407,\n",
              " 11.032106134396289,\n",
              " 10.573807386564715,\n",
              " 11.57309190008338,\n",
              " 9.088074522071315,\n",
              " 9.237467496911917,\n",
              " 13.329569875192808,\n",
              " 11.469020884772977,\n",
              " 11.179956774198097,\n",
              " 10.372152209160532,\n",
              " 10.178483195951063,\n",
              " 10.09220740590824,\n",
              " 6.000234869968045,\n",
              " 11.616842702126904,\n",
              " 11.975465893692803,\n",
              " 11.027018516114488,\n",
              " 11.30610407116853,\n",
              " 10.597286618058252,\n",
              " 15.28153402680396,\n",
              " 10.585179271291619,\n",
              " 11.637687065836918,\n",
              " 13.957319049906406,\n",
              " 14.204849201226303,\n",
              " 11.045927224413603,\n",
              " 15.535684988510965,\n",
              " 13.190339697764617,\n",
              " 12.744294867792814,\n",
              " 12.749091952094712,\n",
              " 15.33951720387684,\n",
              " 15.720427573456178,\n",
              " 12.16713475163473,\n",
              " 10.575631200524217,\n",
              " 9.457960755446077,\n",
              " 10.42927021652346,\n",
              " 15.797869384119219,\n",
              " 12.052921301189848,\n",
              " 17.769664818165396,\n",
              " 11.46001972317415,\n",
              " 8.639936404981958,\n",
              " 13.99758489567404,\n",
              " 23.02803476230963,\n",
              " 23.57927151709218,\n",
              " 21.423311669625576,\n",
              " 24.45353406740714,\n",
              " 24.273148113306945,\n",
              " 37.648049375716546,\n",
              " 24.837531024606445,\n",
              " 24.013666889524202,\n",
              " 34.89557955780586,\n",
              " 23.70432449341405,\n",
              " 12.424530049546043,\n",
              " 12.76146656899003,\n",
              " 9.664581028538514,\n",
              " 12.362888615520225,\n",
              " 8.505078073952571,\n",
              " 13.941465438740543,\n",
              " 12.280997751136084,\n",
              " 12.505615351424876,\n",
              " 12.23807046136433,\n",
              " 17.423645279575986,\n",
              " 32.24971735158955,\n",
              " 40.756182297312044,\n",
              " 28.934248846725097,\n",
              " 55.973428730070566,\n",
              " 22.94909437323424,\n",
              " 41.21857737415511,\n",
              " 33.89220565899115,\n",
              " 42.94199840754108,\n",
              " 28.97541228651172,\n",
              " 23.868021834283397,\n",
              " 36.38818268552604,\n",
              " 34.192472006777564,\n",
              " 31.50076641830049,\n",
              " 27.9558951726517,\n",
              " 23.451157306488646,\n",
              " 26.848027932409867,\n",
              " 21.95818404932314,\n",
              " 34.33865663495328,\n",
              " 35.791007600289205,\n",
              " 41.257342297716626,\n",
              " 20.718109192187484,\n",
              " 17.29303541922418,\n",
              " 74.42961063423067,\n",
              " 19.609710015192622,\n",
              " 20.357666327494748,\n",
              " 19.654620244141864,\n",
              " 16.33542307676492,\n",
              " 18.98634001712954,\n",
              " 25.360799763010352,\n",
              " 11.98962887563668,\n",
              " 28.446371454958733,\n",
              " 24.250148890862377,\n",
              " 18.442760558155598,\n",
              " 37.79258017512816,\n",
              " 32.44907411959443,\n",
              " 20.976646732672286,\n",
              " 47.09127598629116,\n",
              " 27.290323914336177,\n",
              " 21.774952972802247,\n",
              " 30.317232835502782,\n",
              " 16.91096246129728,\n",
              " 26.58645478705859,\n",
              " 18.580661034312463,\n",
              " 41.415966968041204,\n",
              " 24.079293281376266,\n",
              " 21.697094550344964,\n",
              " 32.00644146368815,\n",
              " 20.22568633710939,\n",
              " 23.14926809253841,\n",
              " 20.18809146476405,\n",
              " 16.13646938647181,\n",
              " 17.615288405120403,\n",
              " 27.535598537691147,\n",
              " 17.73402992007263,\n",
              " 17.894307263798186,\n",
              " 19.180433360595543,\n",
              " 15.650043141125902,\n",
              " 16.870780988896303,\n",
              " 19.32451631604112,\n",
              " 14.297160749717674,\n",
              " 21.36313598932243,\n",
              " 43.04451242884315,\n",
              " 21.856411025681552,\n",
              " 33.099046907745816,\n",
              " 24.674986038603237,\n",
              " 35.45490988178574,\n",
              " 27.703553150973306,\n",
              " 31.370114260071414,\n",
              " 33.88662770828527,\n",
              " 27.766642518015495,\n",
              " 12.594811950085589,\n",
              " 10.860850640860031,\n",
              " 14.99697255159036,\n",
              " 11.144940166742682,\n",
              " 11.915924753543896,\n",
              " 10.868719964562,\n",
              " 11.65540305959232,\n",
              " 11.346235386423304,\n",
              " 11.122163872444082,\n",
              " 8.817060488399623,\n",
              " 14.941674593678222,\n",
              " 16.954486980922397,\n",
              " 14.810600366330295,\n",
              " 15.520521067392089,\n",
              " 13.84072598665856,\n",
              " 15.782954062217001,\n",
              " 14.20676853653006,\n",
              " 15.27610256679357,\n",
              " 12.449054907837,\n",
              " 13.835026888539911,\n",
              " 17.49735644796925,\n",
              " 18.923910759867194,\n",
              " 24.36028418994157,\n",
              " 21.050042161157585,\n",
              " 12.48834530500947,\n",
              " 20.636805193899036,\n",
              " 20.315585950826325,\n",
              " 15.185479851202007,\n",
              " 15.875879593234295,\n",
              " 21.848750475990478,\n",
              " 13.155996337025089,\n",
              " 16.325779360202308,\n",
              " 16.33787794903086,\n",
              " 14.550388306987319,\n",
              " 18.28343186898248,\n",
              " 16.202388407986607,\n",
              " 16.60016001849339,\n",
              " 13.554421377870977,\n",
              " 10.075765152111394,\n",
              " 13.841904907662702,\n",
              " 13.554626327632642,\n",
              " 14.397979939964486,\n",
              " 14.980349054908661,\n",
              " 14.023774188069716,\n",
              " 8.610012774720424,\n",
              " 13.012639322817707,\n",
              " 12.243173807276943,\n",
              " 13.729035745403948,\n",
              " 14.935301714653688,\n",
              " 13.92632417007012,\n",
              " 17.123867062513238,\n",
              " 16.10824994531617,\n",
              " 11.707531334558418,\n",
              " 15.156785273234359,\n",
              " 14.700173515919115,\n",
              " 18.705767365195474,\n",
              " 16.8315030606714,\n",
              " 15.53872525775579,\n",
              " 15.755620868120577,\n",
              " 12.935696025750774,\n",
              " 15.790510867485352,\n",
              " 17.716576839829216,\n",
              " 12.128398513812456,\n",
              " 15.088627554194268,\n",
              " 14.705298438310452,\n",
              " 16.976537811869974,\n",
              " 32.13088158166524,\n",
              " 18.816050223949475,\n",
              " 12.324244305389643,\n",
              " 11.778823244714737,\n",
              " 33.8493851876006,\n",
              " 27.86646038723175,\n",
              " 26.191824407556688,\n",
              " 28.36445768678244,\n",
              " 39.24851187234879,\n",
              " 30.577502717891832,\n",
              " 28.81792840771216,\n",
              " 25.965771607364445,\n",
              " 51.96065335350977,\n",
              " 25.32116490317655,\n",
              " 14.104324122355107,\n",
              " 12.959038716364123,\n",
              " 10.855728946041223,\n",
              " 17.09302398814969,\n",
              " 13.970862918992085,\n",
              " 15.734479546084415,\n",
              " 13.080730943310947,\n",
              " 12.129877626391792,\n",
              " 10.505712875875282,\n",
              " 15.348846776973843,\n",
              " 12.890482554609848,\n",
              " 14.032194062876925,\n",
              " 10.481737420398339,\n",
              " 13.024453829513343,\n",
              " 11.452201646466003,\n",
              " 12.713417123884476,\n",
              " 13.03936417127088,\n",
              " 12.933437926973488,\n",
              " 9.927876616751885,\n",
              " 11.715747087539492,\n",
              " 38.91647980887168,\n",
              " 29.569380727548587,\n",
              " 12.017858649421116,\n",
              " 30.50680509564062,\n",
              " 21.422030940159335,\n",
              " 31.83682447509726,\n",
              " 21.70206844455342,\n",
              " 21.716774988563934,\n",
              " 20.182190019998394,\n",
              " 22.433655005388815,\n",
              " 6.6653869943642805,\n",
              " 6.280562682595992,\n",
              " 5.6791185152039905,\n",
              " 6.067161183180438,\n",
              " 5.004688134620421,\n",
              " 6.694254146600914,\n",
              " 8.706357275094444,\n",
              " 6.617209623376548,\n",
              " 7.565617796153692,\n",
              " 7.241149780140576,\n",
              " 8.505071247939451,\n",
              " 9.134471274417063,\n",
              " 6.452157496861951,\n",
              " 7.906181726676906,\n",
              " 8.004184239608197,\n",
              " 7.832918638603859,\n",
              " 8.250086802317881,\n",
              " 8.237542516591564,\n",
              " 6.247095335440379,\n",
              " 8.839078992254999,\n",
              " 16.966569873349254,\n",
              " 18.299332743926172,\n",
              " 23.745940616032712,\n",
              " 13.663107760128664,\n",
              " 13.22281050096203,\n",
              " 15.583133028445822,\n",
              " 17.47513954438864,\n",
              " 16.32272832806906,\n",
              " 18.76284841010613,\n",
              " 10.64677824297445,\n",
              " 11.876124305790167,\n",
              " 10.868657374383764,\n",
              " 14.259760145400712,\n",
              " 12.175659721332483,\n",
              " 9.430100116926521,\n",
              " 11.664064308328202,\n",
              " 7.544756909758032,\n",
              " 11.899595705848924,\n",
              " 12.638228566332192,\n",
              " 14.389563974393615,\n",
              " 12.834505904169797,\n",
              " 15.03925823512699,\n",
              " 10.529073414612785,\n",
              " 16.92941909940367,\n",
              " 16.04764134293981,\n",
              " 14.12477004470623,\n",
              " 16.08464754437993,\n",
              " 14.250551485615011,\n",
              " 16.17759423300246,\n",
              " 17.060990194820754,\n",
              " 12.545005588657983,\n",
              " 13.100452011201183,\n",
              " 10.725938437494731,\n",
              " 12.687107743780626,\n",
              " 19.58609760479222,\n",
              " 10.031394622761356,\n",
              " 13.054846816620696,\n",
              " 13.702071453886864,\n",
              " 14.575948202798774,\n",
              " 11.443816197249312,\n",
              " 8.884196626212773,\n",
              " 9.822759144699853,\n",
              " 11.339511148106684,\n",
              " 10.406848495170246,\n",
              " 11.308614929657185,\n",
              " 10.286466446557036,\n",
              " 10.918380553968962,\n",
              " 9.987160805118073,\n",
              " 7.338997192964846,\n",
              " 12.434841646551352,\n",
              " 10.440947442925026,\n",
              " 9.117332305003647,\n",
              " 5.396593679319718,\n",
              " 7.641935677574852,\n",
              " 14.408723269614134,\n",
              " 7.160319940543726,\n",
              " 8.161417410907456,\n",
              " 8.366893189433815,\n",
              " 7.270280528024131,\n",
              " 7.7337756604522205,\n",
              " 9.310131982884666,\n",
              " 10.6826982473507,\n",
              " 7.504677204059826,\n",
              " 10.61195286321821,\n",
              " 19.621280436275036,\n",
              " 10.770258033095155,\n",
              " 9.136135085138907,\n",
              " 10.887454486192603,\n",
              " 8.535940400099516,\n",
              " 12.41062297585907,\n",
              " 23.237974596846268,\n",
              " 19.42117236881454,\n",
              " 38.27532324335963,\n",
              " 20.54063804773485,\n",
              " 16.82609757693755,\n",
              " 19.41431896855322,\n",
              " 18.52103152155356,\n",
              " 21.627431186932565,\n",
              " 16.972249407992187,\n",
              " 22.392002524799295,\n",
              " 28.016645775335952,\n",
              " 28.791816102222256,\n",
              " 15.765356966325824,\n",
              " 60.08003663135692,\n",
              " 34.32719762394671,\n",
              " 38.70757935705753,\n",
              " 19.446369432567813,\n",
              " 45.19616459064611,\n",
              " 19.267638070488598,\n",
              " 36.351195954907496,\n",
              " 19.34822389713177,\n",
              " 19.337603059645282,\n",
              " 24.330805377998853,\n",
              " 19.22405213889381,\n",
              " 24.101153492112402,\n",
              " 21.973248341543297,\n",
              " 27.940093341788447,\n",
              " 18.90475138305025,\n",
              " 22.349934073223473,\n",
              " 27.96998154154509,\n",
              " 20.569285429442168,\n",
              " 34.60944016141161,\n",
              " 20.348917008585282,\n",
              " 22.452367544984014,\n",
              " 23.270641370083553,\n",
              " 26.271630910290746,\n",
              " 34.896190642462315,\n",
              " 25.07225758315771,\n",
              " 19.807898546395705,\n",
              " 18.56663506115494,\n",
              " 23.063160304468187,\n",
              " 25.287204425352087,\n",
              " 35.04580322404787,\n",
              " 26.53744918317858,\n",
              " 19.571932852697635,\n",
              " 20.942187104018686,\n",
              " 27.112642909083362,\n",
              " 25.084449197592388,\n",
              " 23.084782356929622,\n",
              " 22.804674278633957,\n",
              " 20.64076849130498,\n",
              " 23.87614571883369,\n",
              " 31.416241998485543,\n",
              " 17.945517213662246,\n",
              " 21.46632760306143,\n",
              " 17.367586572607305,\n",
              " 17.152246143023735,\n",
              " 21.097984375542282,\n",
              " 14.063394719894616,\n",
              " 19.441430897892985,\n",
              " 24.4050588035852,\n",
              " 22.404228019849146,\n",
              " 21.93775073813473,\n",
              " 20.519798098921747,\n",
              " 25.031455218965387,\n",
              " 19.54464335587801,\n",
              " 15.583006220236674,\n",
              " 22.24564285518717,\n",
              " 29.6132580577707,\n",
              " 25.576025061697635,\n",
              " 26.421189551994647,\n",
              " 23.62327924740989,\n",
              " 39.16726767716206,\n",
              " 19.57990292326565,\n",
              " 23.749131766945105,\n",
              " 18.026015415135788,\n",
              " 23.875767911827744,\n",
              " 23.244170410254004,\n",
              " 33.694935666366376,\n",
              " 22.6412022276927,\n",
              " 44.5038655316654,\n",
              " 24.99220645664915,\n",
              " 23.072297119250752,\n",
              " 26.3025213052522,\n",
              " 20.75997014220722,\n",
              " 20.30453487767458,\n",
              " 21.905113669437952,\n",
              " 27.78099573769829,\n",
              " 16.10046739763815,\n",
              " 30.55463897637223,\n",
              " 25.821645604231453,\n",
              " 26.45520276351131,\n",
              " 16.250594477271115,\n",
              " 26.096133838905267,\n",
              " 20.460660756990606,\n",
              " 29.332107779544078,\n",
              " 26.174447203484057,\n",
              " 28.095369224227483,\n",
              " 31.862750215067273,\n",
              " 22.971167564692024,\n",
              " 44.89281762625525,\n",
              " 37.56693702551943,\n",
              " 27.506278003692586,\n",
              " 30.117571626723905,\n",
              " 19.982901859934017,\n",
              " 27.761399623924106,\n",
              " 31.646255856288064,\n",
              " 35.10258052278241,\n",
              " 15.643877330592355,\n",
              " 20.602621519531294,\n",
              " 34.42607149909877,\n",
              " 51.067731976904255,\n",
              " 16.953302041632266,\n",
              " 29.937737381207224,\n",
              " 29.92150040796544,\n",
              " 34.60606909548957,\n",
              " 26.124897565005256,\n",
              " 47.706458944104355,\n",
              " 35.01997533934501,\n",
              " 22.482431675685447,\n",
              " 31.965018591255525,\n",
              " 22.017599215328502,\n",
              " 16.549184194380004,\n",
              " 24.95623974501923,\n",
              " 26.694790014143788,\n",
              " 22.219177066587413,\n",
              " 25.2438182027786,\n",
              " 24.969417725327506,\n",
              " 26.81257267337688,\n",
              " 24.655210523903985,\n",
              " 16.400998355351742,\n",
              " 37.99863607337432,\n",
              " 30.839486108475512,\n",
              " 23.66445507432826,\n",
              " 22.18428357732226,\n",
              " 24.389696627912105,\n",
              " 12.254566941679904,\n",
              " 32.40607476738419,\n",
              " 25.496807712190215,\n",
              " 39.97442068418792,\n",
              " 30.62193942461728,\n",
              " 29.33857462129053,\n",
              " 21.01776584351997,\n",
              " 29.10807476327365,\n",
              " 43.938487061033314,\n",
              " 26.53841872191617,\n",
              " 22.986379241215182,\n",
              " 57.5902958447314,\n",
              " 20.996535966090125,\n",
              " 54.746485340151494,\n",
              " 40.00514400951589,\n",
              " 31.63600129856452,\n",
              " 24.903100887845262,\n",
              " 38.6748719976622,\n",
              " 12.59319612147209,\n",
              " 28.018913079046264,\n",
              " 20.572993454946733,\n",
              " 50.30748865202583,\n",
              " 33.02040107433221,\n",
              " 14.58241930646613,\n",
              " 19.54576497549001,\n",
              " 19.63957954409742,\n",
              " 15.315298000602178,\n",
              " 19.109536163671855,\n",
              " 22.843844078056637,\n",
              " 19.074286986936457,\n",
              " 20.008564661517045,\n",
              " 22.411218916167996,\n",
              " 19.2661704472195,\n",
              " 21.264566161995813,\n",
              " 32.95799335671972,\n",
              " 43.93501650651989,\n",
              " 18.884409130660856,\n",
              " 36.97958331680533,\n",
              " 33.160043717246936,\n",
              " 23.524113629732074,\n",
              " 31.381041108061567,\n",
              " 33.950818706870336,\n",
              " 21.359925085156284,\n",
              " 26.33525296962203,\n",
              " 37.4389120931984,\n",
              " 53.673342107012274,\n",
              " 23.281225196144597,\n",
              " 25.137648695339053,\n",
              " 26.558866092539695,\n",
              " 22.563537200663248,\n",
              " 33.094466970513416,\n",
              " 32.858494490633205,\n",
              " 18.26287798106198,\n",
              " 22.67384432576778,\n",
              " 53.72415770039108,\n",
              " 37.496842717768985,\n",
              " 36.505145228518984,\n",
              " 37.1535241999366,\n",
              " 31.890666094590237,\n",
              " 41.24578756106998,\n",
              " 27.427555126534692,\n",
              " 34.396018454986915,\n",
              " 26.266858743792646,\n",
              " 37.12550051978599,\n",
              " 20.44174442496278,\n",
              " 20.229901391969843,\n",
              " 40.73236621350868,\n",
              " 25.781764369104422,\n",
              " 14.565649960032863,\n",
              " 17.047864675733905,\n",
              " 17.709295146325285,\n",
              " 20.4253128837818,\n",
              " 17.772553734131687,\n",
              " 17.715720490906264,\n",
              " 16.857428237954924,\n",
              " 17.223742012710073,\n",
              " 12.033830221314146,\n",
              " 17.284510448826413,\n",
              " 21.459253343517037,\n",
              " 10.105521218581028,\n",
              " 37.74839619589917,\n",
              " 17.55752210972066,\n",
              " 26.647140694741395,\n",
              " 16.66761994259791,\n",
              " 28.260273276872336,\n",
              " 30.308778751818867,\n",
              " 24.964774011809986,\n",
              " 31.829999267428583,\n",
              " 32.902032185998024,\n",
              " 46.640082658159926,\n",
              " 31.52801166245256,\n",
              " 41.354584937866434,\n",
              " 20.085473375766142,\n",
              " 24.61061729919993,\n",
              " 16.278530141234423,\n",
              " 14.936930767132516,\n",
              " 19.32527911027034,\n",
              " 15.668273891726399,\n",
              " 20.31030782856169,\n",
              " 14.318867048356118,\n",
              " 12.141576093016154,\n",
              " 16.04126666648987,\n",
              " 24.008525102374474,\n",
              " 14.721351209518334,\n",
              " 12.944074038473651,\n",
              " 14.505254029827675,\n",
              " 10.594830664594772,\n",
              " 14.689766818609119,\n",
              " 16.81672725697626,\n",
              " 12.02144252093031,\n",
              " 9.010836992165117,\n",
              " 15.02465548711232,\n",
              " 13.404471208946415,\n",
              " 13.969530342711389,\n",
              " 16.335500528905463,\n",
              " 12.908680063885,\n",
              " 29.10641446798025,\n",
              " 14.886052344766842,\n",
              " 10.245838403716006,\n",
              " 16.08333762447408,\n",
              " 17.19223961385605,\n",
              " 14.619736356376913,\n",
              " 12.400936173860764,\n",
              " 14.11822109653533,\n",
              " 12.938773791514759,\n",
              " 16.252219809759815,\n",
              " 12.100552797972696,\n",
              " 18.171811578049308,\n",
              " 18.65853173818843,\n",
              " 19.392134145687688,\n",
              " 14.620759498165562,\n",
              " 17.443815184473472,\n",
              " 18.210751186669057,\n",
              " 14.587985657744442,\n",
              " 13.663911725711298,\n",
              " 16.011475502933614,\n",
              " 48.38193899956622,\n",
              " 20.49170885681057,\n",
              " 14.79919763210229,\n",
              " 14.951522539384626,\n",
              " 17.92708171571107,\n",
              " 16.240021678540714,\n",
              " 17.652541600973105,\n",
              " 15.236901091511012,\n",
              " 12.05740561344564,\n",
              " 13.293382128027968,\n",
              " 7.804566459670623,\n",
              " 13.33386273416056,\n",
              " 11.20287386700838,\n",
              " 12.459105665448039,\n",
              " 12.0693132019309,\n",
              " 13.388861667951,\n",
              " 11.806537919610713,\n",
              " 11.111075000297522,\n",
              " 11.939107988844576,\n",
              " 12.120050594257492,\n",
              " 13.204155583988431,\n",
              " 13.461238886112405,\n",
              " 11.659842684752842,\n",
              " 13.201769487761306,\n",
              " 11.368097934706993,\n",
              " 11.538293925357799,\n",
              " 14.061474778146613,\n",
              " 12.723688205501558,\n",
              " 8.370631351123075,\n",
              " 10.925228987520132,\n",
              " 5.953988147255293,\n",
              " 9.494382613752892,\n",
              " 8.931427778807816,\n",
              " 11.33151978669762,\n",
              " 10.6305268253181,\n",
              " 9.611345818163269,\n",
              " 9.237016291092123,\n",
              " 10.683527738723772,\n",
              " 47.42534661268104,\n",
              " 35.1961673458593,\n",
              " 18.229144125510796,\n",
              " 34.200142984256225,\n",
              " 21.28180074078537,\n",
              " 34.04176459947888,\n",
              " 17.192057179392457,\n",
              " 31.5387874320464,\n",
              " 17.649067673072707,\n",
              " 24.18232694740326,\n",
              " 13.712816074888813,\n",
              " 13.422569718647704,\n",
              " 24.259973027710814,\n",
              " 12.440397408684163,\n",
              " 20.357081317781216,\n",
              " 13.791519200341869,\n",
              " 13.492123821065478,\n",
              " 13.594335048066705,\n",
              " 12.663163640298617,\n",
              " 13.783970761262347,\n",
              " 4.643168576955033,\n",
              " 4.020999751484236,\n",
              " 8.317666189478093,\n",
              " 3.669740986953393,\n",
              " 3.2793194601041225,\n",
              " 3.4141683353657646,\n",
              " 4.730443231009983,\n",
              " 4.184029602241391,\n",
              " 3.3412810106944257,\n",
              " 2.956917615918471,\n",
              " 9.473455411270388,\n",
              " 8.823245674519303,\n",
              " 5.794626075554756,\n",
              " 9.561966087841643,\n",
              " 12.26535696714101,\n",
              " 9.15606771626062,\n",
              " 9.131679866089769,\n",
              " 9.541722017877465,\n",
              " 11.732360089098242,\n",
              " 10.75618858481489,\n",
              " 5.261897869766647,\n",
              " 6.019321182338859,\n",
              " 10.034693056802595,\n",
              " 5.432172433762227,\n",
              " 5.802085393118234,\n",
              " 5.2088612226356155,\n",
              " 3.641794237549399,\n",
              " 5.216796369201118,\n",
              " 5.240353866053474,\n",
              " 5.058026409567811,\n",
              " 5.102605360680644,\n",
              " 4.852560973922405,\n",
              " 3.6890154868758263,\n",
              " 4.658392824471963,\n",
              " 7.014266037442894,\n",
              " 4.545773113368617,\n",
              " 5.016323268921395,\n",
              " 4.610554902529761,\n",
              " 4.139035568125566,\n",
              " 4.743424898649612,\n",
              " 4.0899552268777235,\n",
              " 3.6733372339371484,\n",
              " 2.6915071041308125,\n",
              " 4.269698486967533,\n",
              " 3.345123765855549,\n",
              " 4.046748173935525,\n",
              " 4.08762577987256,\n",
              " 4.173624253476246,\n",
              " 3.6533901613867537,\n",
              " 3.459297599139899,\n",
              " 21.37435748036216,\n",
              " 20.12073003150588,\n",
              " 13.074891068450178,\n",
              " 20.74053489298112,\n",
              " 19.42855776028705,\n",
              " 19.861859367769664,\n",
              " 23.115903795904025,\n",
              " 21.84244112138119,\n",
              " 21.623783444714817,\n",
              " 16.063628026417682,\n",
              " 15.206023246021132,\n",
              " 16.17912615742868,\n",
              " 34.78493910405189,\n",
              " 15.613788517012912,\n",
              " 16.811075691326252,\n",
              " 21.76341095462616,\n",
              " 16.05921461510921,\n",
              " 15.526840787573793,\n",
              " 14.761275666317868,\n",
              " 18.07030533209279,\n",
              " 27.068611929491006,\n",
              " 28.144361506660125,\n",
              " 22.53997331447538,\n",
              " 23.289136857912645,\n",
              " 22.714028168953885,\n",
              " 29.87471836792498,\n",
              " 35.686219064173365,\n",
              " 22.475707686858094,\n",
              " 39.54453330785479,\n",
              " 13.149435097455404,\n",
              " ...]"
            ]
          },
          "metadata": {},
          "execution_count": 52
        }
      ]
    },
    {
      "cell_type": "code",
      "source": [
        "sum(snr)/1200"
      ],
      "metadata": {
        "colab": {
          "base_uri": "https://localhost:8080/"
        },
        "id": "ExsPAcMPsCct",
        "outputId": "3db36abf-6123-45c4-8b28-e7529420bcfc"
      },
      "execution_count": 53,
      "outputs": [
        {
          "output_type": "execute_result",
          "data": {
            "text/plain": [
              "20.511831676371767"
            ]
          },
          "metadata": {},
          "execution_count": 53
        }
      ]
    },
    {
      "cell_type": "code",
      "source": [
        "print(\"Average SNR is : \" ,sum(snr)/1200)"
      ],
      "metadata": {
        "colab": {
          "base_uri": "https://localhost:8080/"
        },
        "id": "YeZwCB8hr9GK",
        "outputId": "f74069f7-5ae4-4a10-a86e-1d033c55f2fb"
      },
      "execution_count": 54,
      "outputs": [
        {
          "output_type": "stream",
          "name": "stdout",
          "text": [
            "Average SNR is :  20.511831676371767\n"
          ]
        }
      ]
    },
    {
      "cell_type": "markdown",
      "source": [
        "### Checking for the Test data set"
      ],
      "metadata": {
        "id": "dHB1dqk6vN_f"
      }
    },
    {
      "cell_type": "code",
      "source": [
        "def compute_stft_4(path,input):\n",
        "  data_abs=[]\n",
        "  data=[]\n",
        "  for i in input:\n",
        "    s, sr = librosa.load(path+i, sr=None)\n",
        "    S = librosa.stft(s, n_fft=1024, hop_length=512)\n",
        "    pad = np.zeros((513, 195))\n",
        "    pad[:, :S.shape[1]] = S\n",
        "    pad=pad.T\n",
        "    pad_abs = np.abs(pad)\n",
        "    data.append(pad)\n",
        "    data_abs.append(pad_abs)\n",
        "  return data,data_abs"
      ],
      "metadata": {
        "id": "fb1hqO-NvNdM"
      },
      "execution_count": 55,
      "outputs": []
    },
    {
      "cell_type": "code",
      "source": [
        "noise_test_data,noise_test_new = compute_stft_4(path_test,x_test)"
      ],
      "metadata": {
        "colab": {
          "base_uri": "https://localhost:8080/"
        },
        "id": "NtRwCZppwd58",
        "outputId": "adb0d41a-112c-4773-8a14-3237db3914a0"
      },
      "execution_count": 56,
      "outputs": [
        {
          "output_type": "stream",
          "name": "stderr",
          "text": [
            "/usr/local/lib/python3.7/dist-packages/ipykernel_launcher.py:8: ComplexWarning: Casting complex values to real discards the imaginary part\n",
            "  \n"
          ]
        }
      ]
    },
    {
      "cell_type": "code",
      "source": [
        "noise_test_new = np.stack(noise_test_new)"
      ],
      "metadata": {
        "id": "cJHIUC52wUP1"
      },
      "execution_count": 57,
      "outputs": []
    },
    {
      "cell_type": "code",
      "source": [
        "model_2 = keras.models.load_model('/content/drive/MyDrive/DLS_Assignments/Models/assign3_part3_model.h5')"
      ],
      "metadata": {
        "id": "WHfeM1wFpwon"
      },
      "execution_count": 60,
      "outputs": []
    },
    {
      "cell_type": "markdown",
      "source": [
        "### Predicted IBM Mask for the Test Set"
      ],
      "metadata": {
        "id": "bZVXsD4Y9gmq"
      }
    },
    {
      "cell_type": "code",
      "source": [
        "model_pred_test = model.predict(noise_test_new, batch_size=10)"
      ],
      "metadata": {
        "colab": {
          "base_uri": "https://localhost:8080/"
        },
        "id": "Pcjr3XypxCzr",
        "outputId": "f8031ec4-3407-4150-efd7-c0ee998bb51c"
      },
      "execution_count": 61,
      "outputs": [
        {
          "output_type": "stream",
          "name": "stdout",
          "text": [
            "40/40 [==============================] - 2s 21ms/step\n"
          ]
        }
      ]
    },
    {
      "cell_type": "code",
      "source": [
        "noise_test_data = np.stack(noise_test_data)"
      ],
      "metadata": {
        "id": "APNknK0YzaNt"
      },
      "execution_count": 62,
      "outputs": []
    },
    {
      "cell_type": "markdown",
      "source": [
        "### Generating Clean Test Sequence from Predicted IBM Mask"
      ],
      "metadata": {
        "id": "LM8Zymiw9-Bh"
      }
    },
    {
      "cell_type": "code",
      "source": [
        "clean_pred_test = np.multiply(model_pred_test, noise_test_data)"
      ],
      "metadata": {
        "id": "j43pa3vEzjqh"
      },
      "execution_count": 63,
      "outputs": []
    },
    {
      "cell_type": "markdown",
      "source": [
        "### Loading the Reconstructed Signals on the given path"
      ],
      "metadata": {
        "id": "Ui8VuIkK-Fid"
      }
    },
    {
      "cell_type": "code",
      "source": [
        "# snr = []\n",
        "# for i in range(len(clean_val_data)):\n",
        "#     S_test = librosa.istft(clean_val_data[i], hop_length=512)\n",
        "#     S_test_2 = librosa.istft(clean_pred[i].T, hop_length=512)\n",
        "#     s = sum((S_test)**2)\n",
        "#     S_test_2 = S_test_2[:S_test.shape[0]]\n",
        "#     #diff_st = sum(np.subtract(S_test,S_test_2)**2)+1e-20\n",
        "#     SNR = 10*np.log10(np.sum(S_test**2)/np.sum(S_test - S_test_2)**2)\n",
        "#     snr.append(SNR)\n",
        "\n",
        "out_path = '/content/drive/MyDrive/DLS_Assignments/Assignment3_Data/timit-homework/output/'\n",
        "\n",
        "for i in range(len(x_test)):\n",
        "  test_s , test_sr = librosa.load(path_test+x_test[i], sr=None)\n",
        "  test_out = librosa.istft(clean_pred_test[i].T, win_length=1024, hop_length=512)\n",
        "  test_out = test_out[:test_s.shape[0]]\n",
        "  sf.write(out_path+x_test[i]+\"_cleaned.wav\",test_out,test_sr)"
      ],
      "metadata": {
        "id": "ib3BGAxIzuBJ"
      },
      "execution_count": 65,
      "outputs": []
    },
    {
      "cell_type": "code",
      "source": [],
      "metadata": {
        "id": "alSnuyAo3_t3"
      },
      "execution_count": null,
      "outputs": []
    }
  ]
}