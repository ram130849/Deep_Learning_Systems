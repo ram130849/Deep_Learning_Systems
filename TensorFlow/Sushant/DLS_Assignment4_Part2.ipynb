{
  "nbformat": 4,
  "nbformat_minor": 0,
  "metadata": {
    "colab": {
      "provenance": [],
      "include_colab_link": true
    },
    "kernelspec": {
      "name": "python3",
      "display_name": "Python 3"
    },
    "language_info": {
      "name": "python"
    },
    "gpuClass": "standard",
    "accelerator": "GPU"
  },
  "cells": [
    {
      "cell_type": "markdown",
      "metadata": {
        "id": "view-in-github",
        "colab_type": "text"
      },
      "source": [
        "<a href=\"https://colab.research.google.com/github/ram130849/Deep_Learning_Systems_Assignments/blob/main/TensorFlow/Sushant/DLS_Assignment4_Part2.ipynb\" target=\"_parent\"><img src=\"https://colab.research.google.com/assets/colab-badge.svg\" alt=\"Open In Colab\"/></a>"
      ]
    },
    {
      "cell_type": "code",
      "execution_count": null,
      "metadata": {
        "id": "Ql_DGMhCSNAs"
      },
      "outputs": [],
      "source": [
        "import numpy as np\n",
        "import pandas as pd\n",
        "import matplotlib.pyplot as plt\n",
        "import seaborn as sns\n",
        "import tensorflow as tf\n",
        "import timeit\n",
        "from tensorflow.keras.utils import to_categorical\n",
        "from tensorflow import keras\n",
        "from tensorflow.keras import layers\n",
        "from tensorflow.keras.layers import Flatten\n",
        "from keras.models import Model\n",
        "from sklearn.decomposition import PCA\n",
        "from sklearn.manifold import TSNE"
      ]
    },
    {
      "cell_type": "code",
      "source": [
        "device_name = tf.test.gpu_device_name()\n",
        "if device_name != '/device:GPU:0':\n",
        "  raise SystemError('GPU device not found')\n",
        "print('Found GPU at: {}'.format(device_name))"
      ],
      "metadata": {
        "colab": {
          "base_uri": "https://localhost:8080/"
        },
        "id": "mrSyXMLiScWX",
        "outputId": "73bc87d9-969d-489f-e168-9dfc7c951b81"
      },
      "execution_count": null,
      "outputs": [
        {
          "output_type": "stream",
          "name": "stdout",
          "text": [
            "Found GPU at: /device:GPU:0\n"
          ]
        }
      ]
    },
    {
      "cell_type": "code",
      "source": [
        "device_name = tf.test.gpu_device_name()\n",
        "if device_name != '/device:GPU:0':\n",
        "  print(\n",
        "      '\\n\\nThis error most likely means that this notebook is not '\n",
        "      'configured to use a GPU.  Change this in Notebook Settings via the '\n",
        "      'command palette (cmd/ctrl-shift-P) or the Edit menu.\\n\\n')\n",
        "  raise SystemError('GPU device not found')\n",
        "\n",
        "def cpu():\n",
        "  with tf.device('/cpu:0'):\n",
        "    random_image_cpu = tf.random.normal((100, 100, 100, 3))\n",
        "    net_cpu = tf.keras.layers.Conv2D(32, 7)(random_image_cpu)\n",
        "    return tf.math.reduce_sum(net_cpu)\n",
        "\n",
        "def gpu():\n",
        "  with tf.device('/device:GPU:0'):\n",
        "    random_image_gpu = tf.random.normal((100, 100, 100, 3))\n",
        "    net_gpu = tf.keras.layers.Conv2D(32, 7)(random_image_gpu)\n",
        "    return tf.math.reduce_sum(net_gpu)\n",
        "  \n",
        "# We run each op once to warm up; see: https://stackoverflow.com/a/45067900\n",
        "cpu()\n",
        "gpu()\n",
        "\n",
        "# Run the op several times.\n",
        "print('Time (s) to convolve 32x7x7x3 filter over random 100x100x100x3 images '\n",
        "      '(batch x height x width x channel). Sum of ten runs.')\n",
        "print('CPU (s):')\n",
        "cpu_time = timeit.timeit('cpu()', number=10, setup=\"from __main__ import cpu\")\n",
        "print(cpu_time)\n",
        "print('GPU (s):')\n",
        "gpu_time = timeit.timeit('gpu()', number=10, setup=\"from __main__ import gpu\")\n",
        "print(gpu_time)\n",
        "print('GPU speedup over CPU: {}x'.format(int(cpu_time/gpu_time)))"
      ],
      "metadata": {
        "colab": {
          "base_uri": "https://localhost:8080/"
        },
        "id": "P1ADXoW5Sedi",
        "outputId": "67c0c60c-7ee0-4231-9892-0fc0af859132"
      },
      "execution_count": null,
      "outputs": [
        {
          "output_type": "stream",
          "name": "stdout",
          "text": [
            "Time (s) to convolve 32x7x7x3 filter over random 100x100x100x3 images (batch x height x width x channel). Sum of ten runs.\n",
            "CPU (s):\n",
            "3.2185214090000045\n",
            "GPU (s):\n",
            "0.040366400999999996\n",
            "GPU speedup over CPU: 79x\n"
          ]
        }
      ]
    },
    {
      "cell_type": "markdown",
      "source": [
        "### Loading the MNIST Dataset"
      ],
      "metadata": {
        "id": "fIRXFRYKSlpo"
      }
    },
    {
      "cell_type": "code",
      "source": [
        "mnist = tf.keras.datasets.mnist"
      ],
      "metadata": {
        "id": "0B_0dZ7sSgvd"
      },
      "execution_count": null,
      "outputs": []
    },
    {
      "cell_type": "code",
      "source": [
        "(train_images, train_labels) , (test_images, test_labels) = mnist.load_data()"
      ],
      "metadata": {
        "colab": {
          "base_uri": "https://localhost:8080/"
        },
        "id": "qsXcO5R3SoZL",
        "outputId": "e5bb3e53-654c-4b05-a02e-cd18c106dfb1"
      },
      "execution_count": null,
      "outputs": [
        {
          "output_type": "stream",
          "name": "stdout",
          "text": [
            "Downloading data from https://storage.googleapis.com/tensorflow/tf-keras-datasets/mnist.npz\n",
            "11490434/11490434 [==============================] - 2s 0us/step\n"
          ]
        }
      ]
    },
    {
      "cell_type": "code",
      "source": [
        "#Lets look at the training data\n",
        "print(\"Training Images Shape: \",train_images.shape)\n",
        "print(\"Training Labels: \",train_labels)\n",
        "\n",
        "\n",
        "#Lets look at the testing data\n",
        "print(\"Testing Images Shape: \",test_images.shape)\n",
        "print(\"Testing Labels: \",test_labels)"
      ],
      "metadata": {
        "colab": {
          "base_uri": "https://localhost:8080/"
        },
        "id": "F9i9LNU0SqYZ",
        "outputId": "92d32a0f-d854-49a1-d990-0b62ef9e3d44"
      },
      "execution_count": null,
      "outputs": [
        {
          "output_type": "stream",
          "name": "stdout",
          "text": [
            "Training Images Shape:  (60000, 28, 28)\n",
            "Training Labels:  [5 0 4 ... 5 6 8]\n",
            "Testing Images Shape:  (10000, 28, 28)\n",
            "Testing Labels:  [7 2 1 ... 4 5 6]\n"
          ]
        }
      ]
    },
    {
      "cell_type": "markdown",
      "source": [
        "### Normalizing the Images"
      ],
      "metadata": {
        "id": "Bv69yxF-SwvW"
      }
    },
    {
      "cell_type": "code",
      "source": [
        "train_images = train_images.astype('float32')\n",
        "test_images = test_images.astype('float32')\n",
        "train_images/=255\n",
        "test_images/=255"
      ],
      "metadata": {
        "id": "yUmSRwW8SxOT"
      },
      "execution_count": null,
      "outputs": []
    },
    {
      "cell_type": "markdown",
      "source": [
        "### Loading the Model from Part 1"
      ],
      "metadata": {
        "id": "gOY65ew4Szs7"
      }
    },
    {
      "cell_type": "code",
      "source": [],
      "metadata": {
        "id": "_wPeQmggjIb7"
      },
      "execution_count": null,
      "outputs": []
    },
    {
      "cell_type": "code",
      "source": [
        "from google.colab import drive\n",
        "drive.mount('/content/drive')"
      ],
      "metadata": {
        "colab": {
          "base_uri": "https://localhost:8080/"
        },
        "id": "uLoVjb21S20I",
        "outputId": "27732cb1-21da-4c8f-8cd5-0a7bef30189a"
      },
      "execution_count": null,
      "outputs": [
        {
          "output_type": "stream",
          "name": "stdout",
          "text": [
            "Mounted at /content/drive\n"
          ]
        }
      ]
    },
    {
      "cell_type": "code",
      "source": [
        "model_path = '/content/drive/MyDrive/DLS_Assignments/Models/assign4_part1_baseline.h5'"
      ],
      "metadata": {
        "id": "nHRZ-00vTOhI"
      },
      "execution_count": null,
      "outputs": []
    },
    {
      "cell_type": "code",
      "source": [
        "baseline = keras.models.load_model(model_path)"
      ],
      "metadata": {
        "id": "XcZmKs6pS51I"
      },
      "execution_count": null,
      "outputs": []
    },
    {
      "cell_type": "code",
      "source": [
        "evaluation = baseline.evaluate(test_images , test_labels)"
      ],
      "metadata": {
        "colab": {
          "base_uri": "https://localhost:8080/"
        },
        "id": "LYNfTdGSTLuu",
        "outputId": "ebdd6284-0a52-490b-9d1e-a7866154ae1f"
      },
      "execution_count": null,
      "outputs": [
        {
          "output_type": "stream",
          "name": "stdout",
          "text": [
            "313/313 [==============================] - 1s 3ms/step - loss: 0.1257 - sparse_categorical_accuracy: 0.9856\n"
          ]
        }
      ]
    },
    {
      "cell_type": "markdown",
      "source": [
        "### Performing Low Rank Approximation on the above model for D=20"
      ],
      "metadata": {
        "id": "wrrd9bphTW1n"
      }
    },
    {
      "cell_type": "code",
      "source": [
        "s_1 , U_1, V_1 = tf.linalg.svd(baseline.get_layer(index=1).get_weights()[0])\n",
        "s_2 , U_2, V_2 = tf.linalg.svd(baseline.get_layer(index=2).get_weights()[0])\n",
        "s_3 , U_3, V_3 = tf.linalg.svd(baseline.get_layer(index=3).get_weights()[0])\n",
        "s_4 , U_4, V_4 = tf.linalg.svd(baseline.get_layer(index=4).get_weights()[0])\n",
        "s_5 , U_5, V_5 = tf.linalg.svd(baseline.get_layer(index=5).get_weights()[0])\n",
        "\n",
        "\n",
        "\n",
        "S_1 = tf.linalg.diag(s_1)\n",
        "S_2 = tf.linalg.diag(s_2)\n",
        "S_3 = tf.linalg.diag(s_3)\n",
        "S_4 = tf.linalg.diag(s_4)\n",
        "S_5 = tf.linalg.diag(s_5)\n",
        "\n",
        "\n",
        "\n",
        "V_1T = tf.transpose(V_1)\n",
        "V_2T = tf.transpose(V_2)\n",
        "V_3T = tf.transpose(V_3)\n",
        "V_4T = tf.transpose(V_4)\n",
        "V_5T = tf.transpose(V_5)\n",
        "\n",
        "\n",
        "bias1 = baseline.get_layer(index=1).get_weights()[1]\n",
        "bias2 = baseline.get_layer(index=2).get_weights()[1]\n",
        "bias3 = baseline.get_layer(index=3).get_weights()[1]\n",
        "bias4 = baseline.get_layer(index=4).get_weights()[1]\n",
        "bias5 = baseline.get_layer(index=5).get_weights()[1]"
      ],
      "metadata": {
        "id": "bvh1DOqZg6_G"
      },
      "execution_count": null,
      "outputs": []
    },
    {
      "cell_type": "code",
      "source": [
        "r=20\n",
        "W1 = tf.matmul(U_1[:, :r], tf.matmul(S_1[:r, :r], V_1T[:r, :]))\n",
        "W2 = tf.matmul(U_2[:, :r], tf.matmul(S_2[:r, :r], V_2T[:r, :]))\n",
        "W3 = tf.matmul(U_3[:, :r], tf.matmul(S_3[:r, :r], V_3T[:r, :]))\n",
        "W4 = tf.matmul(U_4[:, :r], tf.matmul(S_4[:r, :r], V_4T[:r, :]))\n",
        "W5 = tf.matmul(U_5[:, :r], tf.matmul(S_5[:r, :r], V_5T[:r, :]))\n",
        "\n",
        "\n",
        "# baseline.get_layer(index=1).set_weights([W1,bias1])\n",
        "# baseline.get_layer(index=2).set_weights([W2,bias2])\n",
        "# baseline.get_layer(index=3).set_weights([W3,bias3])\n",
        "# baseline.get_layer(index=4).set_weights([W4,bias4])\n",
        "# baseline.get_layer(index=5).set_weights([W5,bias5])"
      ],
      "metadata": {
        "id": "GnPd8fEHg_sG"
      },
      "execution_count": null,
      "outputs": []
    },
    {
      "cell_type": "code",
      "source": [
        "new_model = keras.Sequential([\n",
        "    layers.Flatten(input_shape=(28, 28)),\n",
        "    layers.Dense(1024, activation='relu', name='first_layer',),\n",
        "    layers.Dense(1024, activation='relu', name='second_layer'),\n",
        "    layers.Dense(1024, activation='relu', name='third_layer',),\n",
        "    layers.Dense(1024, activation='relu', name='fourth_layer',),\n",
        "    layers.Dense(1024, activation='relu', name=\"fifth_layser\",),\n",
        "    layers.Dense(10, name='output' ,activation='softmax')\n",
        "])\n",
        "print(new_model.summary())"
      ],
      "metadata": {
        "colab": {
          "base_uri": "https://localhost:8080/"
        },
        "id": "_bJh7lb6jJeX",
        "outputId": "99bd0e2a-a663-44f6-acb7-bffd7b357c29"
      },
      "execution_count": null,
      "outputs": [
        {
          "output_type": "stream",
          "name": "stdout",
          "text": [
            "Model: \"sequential_1\"\n",
            "_________________________________________________________________\n",
            " Layer (type)                Output Shape              Param #   \n",
            "=================================================================\n",
            " flatten_1 (Flatten)         (None, 784)               0         \n",
            "                                                                 \n",
            " first_layer (Dense)         (None, 1024)              803840    \n",
            "                                                                 \n",
            " second_layer (Dense)        (None, 1024)              1049600   \n",
            "                                                                 \n",
            " third_layer (Dense)         (None, 1024)              1049600   \n",
            "                                                                 \n",
            " fourth_layer (Dense)        (None, 1024)              1049600   \n",
            "                                                                 \n",
            " fifth_layser (Dense)        (None, 1024)              1049600   \n",
            "                                                                 \n",
            " output (Dense)              (None, 10)                10250     \n",
            "                                                                 \n",
            "=================================================================\n",
            "Total params: 5,012,490\n",
            "Trainable params: 5,012,490\n",
            "Non-trainable params: 0\n",
            "_________________________________________________________________\n",
            "None\n"
          ]
        }
      ]
    },
    {
      "cell_type": "code",
      "source": [
        "new_model.get_layer(index=1).set_weights([W1,bias1])\n",
        "new_model.get_layer(index=2).set_weights([W2,bias2])\n",
        "new_model.get_layer(index=3).set_weights([W3,bias3])\n",
        "new_model.get_layer(index=4).set_weights([W4,bias4])\n",
        "new_model.get_layer(index=5).set_weights([W5,bias5])"
      ],
      "metadata": {
        "id": "np8FkaqNkM8t"
      },
      "execution_count": null,
      "outputs": []
    },
    {
      "cell_type": "code",
      "source": [
        "new_model.compile(\n",
        "    optimizer=tf.keras.optimizers.Adam(learning_rate=0.001),\n",
        "    loss=tf.keras.losses.SparseCategoricalCrossentropy(from_logits=False),\n",
        "    metrics=['acc'],\n",
        ")"
      ],
      "metadata": {
        "id": "vX09W-HIkX48"
      },
      "execution_count": null,
      "outputs": []
    },
    {
      "cell_type": "code",
      "source": [
        "history_new = new_model.fit(train_images , train_labels ,epochs = 30, batch_size = 256)"
      ],
      "metadata": {
        "colab": {
          "base_uri": "https://localhost:8080/"
        },
        "id": "JQ1VMh55kclG",
        "outputId": "d5e4c548-b517-429f-a373-33d071c71446"
      },
      "execution_count": null,
      "outputs": [
        {
          "output_type": "stream",
          "name": "stdout",
          "text": [
            "Epoch 1/30\n",
            "235/235 [==============================] - 2s 6ms/step - loss: 0.2264 - acc: 0.9423\n",
            "Epoch 2/30\n",
            "235/235 [==============================] - 1s 5ms/step - loss: 0.0392 - acc: 0.9889\n",
            "Epoch 3/30\n",
            "235/235 [==============================] - 1s 5ms/step - loss: 0.0239 - acc: 0.9929\n",
            "Epoch 4/30\n",
            "235/235 [==============================] - 1s 5ms/step - loss: 0.0206 - acc: 0.9940\n",
            "Epoch 5/30\n",
            "235/235 [==============================] - 1s 5ms/step - loss: 0.0157 - acc: 0.9954\n",
            "Epoch 6/30\n",
            "235/235 [==============================] - 1s 5ms/step - loss: 0.0144 - acc: 0.9956\n",
            "Epoch 7/30\n",
            "235/235 [==============================] - 1s 5ms/step - loss: 0.0126 - acc: 0.9965\n",
            "Epoch 8/30\n",
            "235/235 [==============================] - 1s 5ms/step - loss: 0.0115 - acc: 0.9969\n",
            "Epoch 9/30\n",
            "235/235 [==============================] - 1s 5ms/step - loss: 0.0087 - acc: 0.9975\n",
            "Epoch 10/30\n",
            "235/235 [==============================] - 1s 5ms/step - loss: 0.0071 - acc: 0.9982\n",
            "Epoch 11/30\n",
            "235/235 [==============================] - 1s 5ms/step - loss: 0.0090 - acc: 0.9978\n",
            "Epoch 12/30\n",
            "235/235 [==============================] - 1s 5ms/step - loss: 0.0088 - acc: 0.9975\n",
            "Epoch 13/30\n",
            "235/235 [==============================] - 1s 5ms/step - loss: 0.0104 - acc: 0.9975\n",
            "Epoch 14/30\n",
            "235/235 [==============================] - 1s 5ms/step - loss: 0.0093 - acc: 0.9976\n",
            "Epoch 15/30\n",
            "235/235 [==============================] - 1s 5ms/step - loss: 0.0058 - acc: 0.9985\n",
            "Epoch 16/30\n",
            "235/235 [==============================] - 1s 5ms/step - loss: 0.0072 - acc: 0.9982\n",
            "Epoch 17/30\n",
            "235/235 [==============================] - 1s 5ms/step - loss: 0.0046 - acc: 0.9988\n",
            "Epoch 18/30\n",
            "235/235 [==============================] - 1s 5ms/step - loss: 0.0068 - acc: 0.9983\n",
            "Epoch 19/30\n",
            "235/235 [==============================] - 1s 5ms/step - loss: 0.0083 - acc: 0.9983\n",
            "Epoch 20/30\n",
            "235/235 [==============================] - 2s 6ms/step - loss: 0.0088 - acc: 0.9979\n",
            "Epoch 21/30\n",
            "235/235 [==============================] - 2s 7ms/step - loss: 0.0071 - acc: 0.9983\n",
            "Epoch 22/30\n",
            "235/235 [==============================] - 1s 6ms/step - loss: 0.0047 - acc: 0.9987\n",
            "Epoch 23/30\n",
            "235/235 [==============================] - 1s 5ms/step - loss: 0.0071 - acc: 0.9982\n",
            "Epoch 24/30\n",
            "235/235 [==============================] - 1s 5ms/step - loss: 0.0075 - acc: 0.9984\n",
            "Epoch 25/30\n",
            "235/235 [==============================] - 1s 6ms/step - loss: 0.0039 - acc: 0.9990\n",
            "Epoch 26/30\n",
            "235/235 [==============================] - 2s 7ms/step - loss: 0.0062 - acc: 0.9989\n",
            "Epoch 27/30\n",
            "235/235 [==============================] - 2s 7ms/step - loss: 0.0069 - acc: 0.9985\n",
            "Epoch 28/30\n",
            "235/235 [==============================] - 1s 5ms/step - loss: 0.0090 - acc: 0.9980\n",
            "Epoch 29/30\n",
            "235/235 [==============================] - 1s 5ms/step - loss: 0.0040 - acc: 0.9991\n",
            "Epoch 30/30\n",
            "235/235 [==============================] - 1s 5ms/step - loss: 0.0054 - acc: 0.9986\n"
          ]
        }
      ]
    },
    {
      "cell_type": "code",
      "source": [
        "print(\"The average training accuracy is :\",np.mean(history_new.history['acc']))"
      ],
      "metadata": {
        "colab": {
          "base_uri": "https://localhost:8080/"
        },
        "id": "EKO1uWk_nKS4",
        "outputId": "f473c701-a974-400f-cebd-ae5fade996f5"
      },
      "execution_count": null,
      "outputs": [
        {
          "output_type": "stream",
          "name": "stdout",
          "text": [
            "The average training accuracy is : 0.9954722205797831\n"
          ]
        }
      ]
    },
    {
      "cell_type": "code",
      "source": [
        "evaluation = new_model.evaluate(test_images , test_labels)"
      ],
      "metadata": {
        "colab": {
          "base_uri": "https://localhost:8080/"
        },
        "id": "ZaWJyGw2kyri",
        "outputId": "504d7a9e-252b-42b5-d9df-4eb2ac0f7ced"
      },
      "execution_count": null,
      "outputs": [
        {
          "output_type": "stream",
          "name": "stdout",
          "text": [
            "313/313 [==============================] - 1s 3ms/step - loss: 0.1218 - acc: 0.9843\n"
          ]
        }
      ]
    },
    {
      "cell_type": "code",
      "source": [
        "print(\"The test accuracy is :\",evaluation[1])"
      ],
      "metadata": {
        "colab": {
          "base_uri": "https://localhost:8080/"
        },
        "id": "sMoAznwAqy6b",
        "outputId": "b1409c07-c162-4c9b-940f-9c94654f0c4e"
      },
      "execution_count": null,
      "outputs": [
        {
          "output_type": "stream",
          "name": "stdout",
          "text": [
            "The test accuracy is : 0.9843000173568726\n"
          ]
        }
      ]
    },
    {
      "cell_type": "code",
      "source": [],
      "metadata": {
        "id": "QhiKUoPBU8q8"
      },
      "execution_count": null,
      "outputs": []
    }
  ]
}