{
  "nbformat": 4,
  "nbformat_minor": 0,
  "metadata": {
    "colab": {
      "provenance": [],
      "authorship_tag": "ABX9TyMqpH7PIwrzGoUUSptaXnlI",
      "include_colab_link": true
    },
    "kernelspec": {
      "name": "python3",
      "display_name": "Python 3"
    },
    "language_info": {
      "name": "python"
    },
    "gpuClass": "premium"
  },
  "cells": [
    {
      "cell_type": "markdown",
      "metadata": {
        "id": "view-in-github",
        "colab_type": "text"
      },
      "source": [
        "<a href=\"https://colab.research.google.com/github/ram130849/Deep_Learning_Systems_Assignments/blob/main/TensorFlow/Sushant/DLS_Assignment4_Part1.ipynb\" target=\"_parent\"><img src=\"https://colab.research.google.com/assets/colab-badge.svg\" alt=\"Open In Colab\"/></a>"
      ]
    },
    {
      "cell_type": "code",
      "execution_count": 1,
      "metadata": {
        "id": "BUXU75MIGK9p"
      },
      "outputs": [],
      "source": [
        "import numpy as np\n",
        "import pandas as pd\n",
        "import matplotlib.pyplot as plt\n",
        "import seaborn as sns\n",
        "import tensorflow as tf\n",
        "import timeit\n",
        "from tensorflow.keras.utils import to_categorical\n",
        "from tensorflow import keras\n",
        "from tensorflow.keras import layers\n",
        "from tensorflow.keras.layers import Flatten\n",
        "from keras.models import Model\n",
        "from sklearn.decomposition import PCA\n",
        "from sklearn.manifold import TSNE"
      ]
    },
    {
      "cell_type": "markdown",
      "source": [
        "### Allocating and Checking the GPU"
      ],
      "metadata": {
        "id": "GhWpSE07Hzjb"
      }
    },
    {
      "cell_type": "code",
      "source": [
        "device_name = tf.test.gpu_device_name()\n",
        "if device_name != '/device:GPU:0':\n",
        "  raise SystemError('GPU device not found')\n",
        "print('Found GPU at: {}'.format(device_name))"
      ],
      "metadata": {
        "colab": {
          "base_uri": "https://localhost:8080/"
        },
        "id": "fFHLm5r3Gc3F",
        "outputId": "7cd0de11-6f1d-4b2b-8bc8-2ef757d0716b"
      },
      "execution_count": 2,
      "outputs": [
        {
          "output_type": "stream",
          "name": "stdout",
          "text": [
            "Found GPU at: /device:GPU:0\n"
          ]
        }
      ]
    },
    {
      "cell_type": "code",
      "source": [
        "device_name = tf.test.gpu_device_name()\n",
        "if device_name != '/device:GPU:0':\n",
        "  print(\n",
        "      '\\n\\nThis error most likely means that this notebook is not '\n",
        "      'configured to use a GPU.  Change this in Notebook Settings via the '\n",
        "      'command palette (cmd/ctrl-shift-P) or the Edit menu.\\n\\n')\n",
        "  raise SystemError('GPU device not found')\n",
        "\n",
        "def cpu():\n",
        "  with tf.device('/cpu:0'):\n",
        "    random_image_cpu = tf.random.normal((100, 100, 100, 3))\n",
        "    net_cpu = tf.keras.layers.Conv2D(32, 7)(random_image_cpu)\n",
        "    return tf.math.reduce_sum(net_cpu)\n",
        "\n",
        "def gpu():\n",
        "  with tf.device('/device:GPU:0'):\n",
        "    random_image_gpu = tf.random.normal((100, 100, 100, 3))\n",
        "    net_gpu = tf.keras.layers.Conv2D(32, 7)(random_image_gpu)\n",
        "    return tf.math.reduce_sum(net_gpu)\n",
        "  \n",
        "# We run each op once to warm up; see: https://stackoverflow.com/a/45067900\n",
        "cpu()\n",
        "gpu()\n",
        "\n",
        "# Run the op several times.\n",
        "print('Time (s) to convolve 32x7x7x3 filter over random 100x100x100x3 images '\n",
        "      '(batch x height x width x channel). Sum of ten runs.')\n",
        "print('CPU (s):')\n",
        "cpu_time = timeit.timeit('cpu()', number=10, setup=\"from __main__ import cpu\")\n",
        "print(cpu_time)\n",
        "print('GPU (s):')\n",
        "gpu_time = timeit.timeit('gpu()', number=10, setup=\"from __main__ import gpu\")\n",
        "print(gpu_time)\n",
        "print('GPU speedup over CPU: {}x'.format(int(cpu_time/gpu_time)))"
      ],
      "metadata": {
        "colab": {
          "base_uri": "https://localhost:8080/"
        },
        "id": "7AJLylEvGfko",
        "outputId": "c452a07c-f261-4e75-c705-621253ad8ba8"
      },
      "execution_count": 3,
      "outputs": [
        {
          "output_type": "stream",
          "name": "stdout",
          "text": [
            "Time (s) to convolve 32x7x7x3 filter over random 100x100x100x3 images (batch x height x width x channel). Sum of ten runs.\n",
            "CPU (s):\n",
            "0.3988690119999774\n",
            "GPU (s):\n",
            "0.03919492199997876\n",
            "GPU speedup over CPU: 10x\n"
          ]
        }
      ]
    },
    {
      "cell_type": "markdown",
      "source": [
        "### Loading the MNIST Dataset"
      ],
      "metadata": {
        "id": "PuzLBkzoHhVF"
      }
    },
    {
      "cell_type": "code",
      "source": [
        "mnist = tf.keras.datasets.mnist"
      ],
      "metadata": {
        "id": "UldLrmesGuRS"
      },
      "execution_count": 4,
      "outputs": []
    },
    {
      "cell_type": "code",
      "source": [
        "(train_images, train_labels) , (test_images, test_labels) = mnist.load_data()"
      ],
      "metadata": {
        "colab": {
          "base_uri": "https://localhost:8080/"
        },
        "id": "T2-wVimQGx2p",
        "outputId": "fa403b8f-d793-4ca1-ddd7-1d15e6c5beff"
      },
      "execution_count": 5,
      "outputs": [
        {
          "output_type": "stream",
          "name": "stdout",
          "text": [
            "Downloading data from https://storage.googleapis.com/tensorflow/tf-keras-datasets/mnist.npz\n",
            "11490434/11490434 [==============================] - 0s 0us/step\n"
          ]
        }
      ]
    },
    {
      "cell_type": "code",
      "source": [
        "#Lets look at the training data\n",
        "print(\"Training Images Shape: \",train_images.shape)\n",
        "print(\"Training Labels: \",train_labels)\n",
        "\n",
        "\n",
        "#Lets look at the testing data\n",
        "print(\"Testing Images Shape: \",test_images.shape)\n",
        "print(\"Testing Labels: \",test_labels)"
      ],
      "metadata": {
        "colab": {
          "base_uri": "https://localhost:8080/"
        },
        "id": "swgsIHK7G0Xc",
        "outputId": "5cbc326b-68b7-42a5-90db-5d46fc636693"
      },
      "execution_count": 6,
      "outputs": [
        {
          "output_type": "stream",
          "name": "stdout",
          "text": [
            "Training Images Shape:  (60000, 28, 28)\n",
            "Training Labels:  [5 0 4 ... 5 6 8]\n",
            "Testing Images Shape:  (10000, 28, 28)\n",
            "Testing Labels:  [7 2 1 ... 4 5 6]\n"
          ]
        }
      ]
    },
    {
      "cell_type": "markdown",
      "source": [
        "### Normalizing the Images"
      ],
      "metadata": {
        "id": "Mbfouc7kazyD"
      }
    },
    {
      "cell_type": "code",
      "source": [
        "train_images = train_images.astype('float32')\n",
        "test_images = test_images.astype('float32')\n",
        "train_images/=255\n",
        "test_images/=255"
      ],
      "metadata": {
        "id": "hyZVysYbaIYS"
      },
      "execution_count": 7,
      "outputs": []
    },
    {
      "cell_type": "markdown",
      "source": [
        "### Creating the Baseline Model"
      ],
      "metadata": {
        "id": "3fgM5Y6KHlez"
      }
    },
    {
      "cell_type": "code",
      "source": [
        "baseline = keras.Sequential([\n",
        "    layers.Flatten(input_shape=(28, 28)),\n",
        "    layers.Dense(1024, activation='relu', name='first_layer'),\n",
        "    layers.Dense(1024, activation='relu', name='second_layer'),\n",
        "    layers.Dense(1024, activation='relu', name='third_layer'),\n",
        "    layers.Dense(1024, activation='relu', name='fourth_layer'),\n",
        "    layers.Dense(1024, activation='relu', name=\"fifth_layser\"),\n",
        "    layers.Dense(10, name='output' ,activation='softmax')\n",
        "])\n",
        "print(baseline.summary())"
      ],
      "metadata": {
        "colab": {
          "base_uri": "https://localhost:8080/"
        },
        "id": "efR2rbkqG2l4",
        "outputId": "fe5aa8f5-e645-4280-b9d7-f4713a2e33c1"
      },
      "execution_count": 85,
      "outputs": [
        {
          "output_type": "stream",
          "name": "stdout",
          "text": [
            "Model: \"sequential_12\"\n",
            "_________________________________________________________________\n",
            " Layer (type)                Output Shape              Param #   \n",
            "=================================================================\n",
            " flatten_12 (Flatten)        (None, 784)               0         \n",
            "                                                                 \n",
            " first_layer (Dense)         (None, 1024)              803840    \n",
            "                                                                 \n",
            " second_layer (Dense)        (None, 1024)              1049600   \n",
            "                                                                 \n",
            " third_layer (Dense)         (None, 1024)              1049600   \n",
            "                                                                 \n",
            " fourth_layer (Dense)        (None, 1024)              1049600   \n",
            "                                                                 \n",
            " fifth_layser (Dense)        (None, 1024)              1049600   \n",
            "                                                                 \n",
            " output (Dense)              (None, 10)                10250     \n",
            "                                                                 \n",
            "=================================================================\n",
            "Total params: 5,012,490\n",
            "Trainable params: 5,012,490\n",
            "Non-trainable params: 0\n",
            "_________________________________________________________________\n",
            "None\n"
          ]
        }
      ]
    },
    {
      "cell_type": "code",
      "source": [
        "baseline.compile(\n",
        "    optimizer=tf.keras.optimizers.Adam(),\n",
        "    loss=tf.keras.losses.SparseCategoricalCrossentropy(from_logits=True),\n",
        "    metrics=[tf.keras.metrics.SparseCategoricalAccuracy()],\n",
        ")"
      ],
      "metadata": {
        "id": "lne2vbXKG8r2"
      },
      "execution_count": 86,
      "outputs": []
    },
    {
      "cell_type": "code",
      "source": [
        "history_baseline = baseline.fit(train_images , train_labels ,epochs = 30, batch_size = 256)"
      ],
      "metadata": {
        "colab": {
          "base_uri": "https://localhost:8080/"
        },
        "id": "QyM_ULAlHAtn",
        "outputId": "7cd0cbeb-6486-48b1-966a-b9540fafa087"
      },
      "execution_count": 87,
      "outputs": [
        {
          "output_type": "stream",
          "name": "stdout",
          "text": [
            "Epoch 1/30\n",
            "235/235 [==============================] - 1s 3ms/step - loss: 0.2445 - sparse_categorical_accuracy: 0.9242\n",
            "Epoch 2/30\n",
            "235/235 [==============================] - 1s 3ms/step - loss: 0.0897 - sparse_categorical_accuracy: 0.9734\n",
            "Epoch 3/30\n",
            "235/235 [==============================] - 1s 3ms/step - loss: 0.0623 - sparse_categorical_accuracy: 0.9810\n",
            "Epoch 4/30\n",
            "235/235 [==============================] - 1s 3ms/step - loss: 0.0493 - sparse_categorical_accuracy: 0.9846\n",
            "Epoch 5/30\n",
            "235/235 [==============================] - 1s 3ms/step - loss: 0.0395 - sparse_categorical_accuracy: 0.9883\n",
            "Epoch 6/30\n",
            "235/235 [==============================] - 1s 3ms/step - loss: 0.0347 - sparse_categorical_accuracy: 0.9900\n",
            "Epoch 7/30\n",
            "235/235 [==============================] - 1s 3ms/step - loss: 0.0311 - sparse_categorical_accuracy: 0.9910\n",
            "Epoch 8/30\n",
            "235/235 [==============================] - 1s 3ms/step - loss: 0.0260 - sparse_categorical_accuracy: 0.9925\n",
            "Epoch 9/30\n",
            "235/235 [==============================] - 1s 3ms/step - loss: 0.0252 - sparse_categorical_accuracy: 0.9931\n",
            "Epoch 10/30\n",
            "235/235 [==============================] - 1s 3ms/step - loss: 0.0196 - sparse_categorical_accuracy: 0.9944\n",
            "Epoch 11/30\n",
            "235/235 [==============================] - 1s 3ms/step - loss: 0.0200 - sparse_categorical_accuracy: 0.9939\n",
            "Epoch 12/30\n",
            "235/235 [==============================] - 1s 3ms/step - loss: 0.0217 - sparse_categorical_accuracy: 0.9941\n",
            "Epoch 13/30\n",
            "235/235 [==============================] - 1s 3ms/step - loss: 0.0144 - sparse_categorical_accuracy: 0.9960\n",
            "Epoch 14/30\n",
            "235/235 [==============================] - 1s 3ms/step - loss: 0.0156 - sparse_categorical_accuracy: 0.9953\n",
            "Epoch 15/30\n",
            "235/235 [==============================] - 1s 3ms/step - loss: 0.0149 - sparse_categorical_accuracy: 0.9959\n",
            "Epoch 16/30\n",
            "235/235 [==============================] - 1s 3ms/step - loss: 0.0127 - sparse_categorical_accuracy: 0.9964\n",
            "Epoch 17/30\n",
            "235/235 [==============================] - 1s 3ms/step - loss: 0.0140 - sparse_categorical_accuracy: 0.9959\n",
            "Epoch 18/30\n",
            "235/235 [==============================] - 1s 3ms/step - loss: 0.0186 - sparse_categorical_accuracy: 0.9951\n",
            "Epoch 19/30\n",
            "235/235 [==============================] - 1s 3ms/step - loss: 0.0172 - sparse_categorical_accuracy: 0.9959\n",
            "Epoch 20/30\n",
            "235/235 [==============================] - 1s 3ms/step - loss: 0.0149 - sparse_categorical_accuracy: 0.9964\n",
            "Epoch 21/30\n",
            "235/235 [==============================] - 1s 3ms/step - loss: 0.0100 - sparse_categorical_accuracy: 0.9975\n",
            "Epoch 22/30\n",
            "235/235 [==============================] - 1s 3ms/step - loss: 0.0096 - sparse_categorical_accuracy: 0.9975\n",
            "Epoch 23/30\n",
            "235/235 [==============================] - 1s 3ms/step - loss: 0.0088 - sparse_categorical_accuracy: 0.9976\n",
            "Epoch 24/30\n",
            "235/235 [==============================] - 1s 3ms/step - loss: 0.0120 - sparse_categorical_accuracy: 0.9972\n",
            "Epoch 25/30\n",
            "235/235 [==============================] - 1s 3ms/step - loss: 0.0160 - sparse_categorical_accuracy: 0.9961\n",
            "Epoch 26/30\n",
            "235/235 [==============================] - 1s 3ms/step - loss: 0.0089 - sparse_categorical_accuracy: 0.9979\n",
            "Epoch 27/30\n",
            "235/235 [==============================] - 1s 3ms/step - loss: 0.0100 - sparse_categorical_accuracy: 0.9974\n",
            "Epoch 28/30\n",
            "235/235 [==============================] - 1s 3ms/step - loss: 0.0126 - sparse_categorical_accuracy: 0.9971\n",
            "Epoch 29/30\n",
            "235/235 [==============================] - 1s 3ms/step - loss: 0.0074 - sparse_categorical_accuracy: 0.9981\n",
            "Epoch 30/30\n",
            "235/235 [==============================] - 1s 3ms/step - loss: 0.0096 - sparse_categorical_accuracy: 0.9979\n"
          ]
        }
      ]
    },
    {
      "cell_type": "code",
      "source": [
        "evaluation = baseline.evaluate(test_images , test_labels)"
      ],
      "metadata": {
        "id": "X07wMxppWBXh",
        "outputId": "3bc6fb05-b98f-4760-aaf1-32faa905773a",
        "colab": {
          "base_uri": "https://localhost:8080/"
        }
      },
      "execution_count": 88,
      "outputs": [
        {
          "output_type": "stream",
          "name": "stdout",
          "text": [
            "313/313 [==============================] - 1s 2ms/step - loss: 0.1086 - sparse_categorical_accuracy: 0.9840\n"
          ]
        }
      ]
    },
    {
      "cell_type": "markdown",
      "source": [
        "### Saving the Baseline Model"
      ],
      "metadata": {
        "id": "-BogEabQRsA8"
      }
    },
    {
      "cell_type": "code",
      "source": [
        "from google.colab import drive\n",
        "drive.mount('/content/drive')"
      ],
      "metadata": {
        "colab": {
          "base_uri": "https://localhost:8080/"
        },
        "id": "MXE69lNoQUUj",
        "outputId": "c6006548-db2e-47d5-d1fc-fd0cd2c8a353"
      },
      "execution_count": 10,
      "outputs": [
        {
          "output_type": "stream",
          "name": "stdout",
          "text": [
            "Mounted at /content/drive\n"
          ]
        }
      ]
    },
    {
      "cell_type": "code",
      "source": [
        "model_path = '/content/drive/MyDrive/DLS_Assignments/Models/assign4_part1_baseline.h5'"
      ],
      "metadata": {
        "id": "7ZisusrQRtZj"
      },
      "execution_count": 8,
      "outputs": []
    },
    {
      "cell_type": "code",
      "source": [
        "#model_path = '/content/drive/MyDrive/DLS_Assignments/Models/assign4_part1_baseline.h5'\n",
        "baseline.save(model_path)"
      ],
      "metadata": {
        "id": "HPPay2CPRvC1"
      },
      "execution_count": 91,
      "outputs": []
    },
    {
      "cell_type": "markdown",
      "source": [
        "### Loading the saved model"
      ],
      "metadata": {
        "id": "2aj4HgwWRLsv"
      }
    },
    {
      "cell_type": "code",
      "source": [
        "baseline = keras.models.load_model(model_path)"
      ],
      "metadata": {
        "id": "algx72uyROpT"
      },
      "execution_count": 11,
      "outputs": []
    },
    {
      "cell_type": "markdown",
      "source": [
        "### Applying SVD on weight matrices of every layer"
      ],
      "metadata": {
        "id": "MMsrngPqQpQX"
      }
    },
    {
      "cell_type": "code",
      "source": [
        "layer_1 = baseline.get_layer('output')"
      ],
      "metadata": {
        "id": "y-YOaavtR_4Z"
      },
      "execution_count": 12,
      "outputs": []
    },
    {
      "cell_type": "code",
      "source": [
        "layer_1.get_weights()[0].shape"
      ],
      "metadata": {
        "id": "dTOftyDeUMNz",
        "outputId": "026d83e7-018d-4299-a1cc-56abe6102162",
        "colab": {
          "base_uri": "https://localhost:8080/"
        }
      },
      "execution_count": 13,
      "outputs": [
        {
          "output_type": "execute_result",
          "data": {
            "text/plain": [
              "(1024, 10)"
            ]
          },
          "metadata": {},
          "execution_count": 13
        }
      ]
    },
    {
      "cell_type": "code",
      "source": [
        "len(baseline.layers)"
      ],
      "metadata": {
        "id": "O6Qze3sKbH_R",
        "outputId": "5b41e671-8dc3-4762-ba82-eb1d6d1fcaf2",
        "colab": {
          "base_uri": "https://localhost:8080/"
        }
      },
      "execution_count": 14,
      "outputs": [
        {
          "output_type": "execute_result",
          "data": {
            "text/plain": [
              "7"
            ]
          },
          "metadata": {},
          "execution_count": 14
        }
      ]
    },
    {
      "cell_type": "code",
      "source": [
        "baseline.layers[2].get_weights()"
      ],
      "metadata": {
        "id": "sxz9pHx5UqOU",
        "outputId": "1a534be2-949e-425c-d085-4cd15a2ef8af",
        "colab": {
          "base_uri": "https://localhost:8080/"
        }
      },
      "execution_count": 15,
      "outputs": [
        {
          "output_type": "execute_result",
          "data": {
            "text/plain": [
              "[array([[ 0.04147477, -0.04297014,  0.01650734, ..., -0.00344087,\n",
              "         -0.00032141,  0.04433878],\n",
              "        [-0.00768789,  0.00075719,  0.04130481, ..., -0.01158604,\n",
              "          0.06521795, -0.03428532],\n",
              "        [ 0.03143325, -0.03816259, -0.0555243 , ..., -0.00832305,\n",
              "          0.03612668, -0.03685714],\n",
              "        ...,\n",
              "        [-0.09021768,  0.01226015, -0.09118644, ..., -0.08706104,\n",
              "          0.11366595, -0.02852068],\n",
              "        [-0.09176303, -0.01390115, -0.04507038, ..., -0.04366718,\n",
              "          0.00597748, -0.06752308],\n",
              "        [-0.05622025, -0.03835107,  0.01046084, ...,  0.07575639,\n",
              "          0.00369204, -0.02010996]], dtype=float32),\n",
              " array([-0.07401229, -0.07578075, -0.04443052, ..., -0.04017141,\n",
              "        -0.02489184, -0.03327626], dtype=float32)]"
            ]
          },
          "metadata": {},
          "execution_count": 15
        }
      ]
    },
    {
      "cell_type": "code",
      "source": [
        "s, U, V = tf.linalg.svd(baseline.layers[2].get_weights()[0])\n",
        "S = tf.linalg.diag(s)\n",
        "V_T = tf.transpose(V)"
      ],
      "metadata": {
        "id": "6IXdC4-fdayy"
      },
      "execution_count": 16,
      "outputs": []
    },
    {
      "cell_type": "code",
      "source": [
        "S.shape"
      ],
      "metadata": {
        "id": "7vJVpV5pwcEp",
        "outputId": "741f1f70-f035-49d7-a282-a2979861b46e",
        "colab": {
          "base_uri": "https://localhost:8080/"
        }
      },
      "execution_count": 17,
      "outputs": [
        {
          "output_type": "execute_result",
          "data": {
            "text/plain": [
              "TensorShape([1024, 1024])"
            ]
          },
          "metadata": {},
          "execution_count": 17
        }
      ]
    },
    {
      "cell_type": "code",
      "source": [
        "s.shape"
      ],
      "metadata": {
        "id": "EiDTpMcudg-q",
        "outputId": "d8055c39-2bcd-4972-cc20-c6ea5abc543e",
        "colab": {
          "base_uri": "https://localhost:8080/"
        }
      },
      "execution_count": 18,
      "outputs": [
        {
          "output_type": "execute_result",
          "data": {
            "text/plain": [
              "TensorShape([1024])"
            ]
          },
          "metadata": {},
          "execution_count": 18
        }
      ]
    },
    {
      "cell_type": "code",
      "source": [
        "V_T.shape"
      ],
      "metadata": {
        "id": "n3jtL9a1wgYT",
        "outputId": "d5e685f8-2bc3-4be5-e6d4-915185ea35d6",
        "colab": {
          "base_uri": "https://localhost:8080/"
        }
      },
      "execution_count": 19,
      "outputs": [
        {
          "output_type": "execute_result",
          "data": {
            "text/plain": [
              "TensorShape([1024, 1024])"
            ]
          },
          "metadata": {},
          "execution_count": 19
        }
      ]
    },
    {
      "cell_type": "code",
      "source": [
        "V.shape"
      ],
      "metadata": {
        "id": "xl6jj_nCvm3q",
        "outputId": "1a69ef70-82fb-42c2-8d0c-78d6dd7886cf",
        "colab": {
          "base_uri": "https://localhost:8080/"
        }
      },
      "execution_count": 20,
      "outputs": [
        {
          "output_type": "execute_result",
          "data": {
            "text/plain": [
              "TensorShape([1024, 1024])"
            ]
          },
          "metadata": {},
          "execution_count": 20
        }
      ]
    },
    {
      "cell_type": "markdown",
      "source": [
        "Performing matrix multiplication for SVD:\n"
      ],
      "metadata": {
        "id": "bzJGwikvuTYp"
      }
    },
    {
      "cell_type": "code",
      "source": [
        "A_svd = U@S@V_T"
      ],
      "metadata": {
        "id": "89rEooG-tyZb"
      },
      "execution_count": 21,
      "outputs": []
    },
    {
      "cell_type": "code",
      "source": [
        "A_svd"
      ],
      "metadata": {
        "id": "i8fclNgXtzup",
        "outputId": "c1b6b713-3874-4dfa-bef7-825a89012256",
        "colab": {
          "base_uri": "https://localhost:8080/"
        }
      },
      "execution_count": 22,
      "outputs": [
        {
          "output_type": "execute_result",
          "data": {
            "text/plain": [
              "<tf.Tensor: shape=(1024, 1024), dtype=float32, numpy=\n",
              "array([[ 0.0414734 , -0.04295873,  0.0165107 , ..., -0.00341044,\n",
              "        -0.00030622,  0.04435263],\n",
              "       [-0.0076798 ,  0.00076753,  0.04131874, ..., -0.01157343,\n",
              "         0.06523549, -0.03425943],\n",
              "       [ 0.03143236, -0.03815509, -0.05552064, ..., -0.00831379,\n",
              "         0.03612494, -0.03687633],\n",
              "       ...,\n",
              "       [-0.09020642,  0.01229865, -0.09121983, ..., -0.0870466 ,\n",
              "         0.11367158, -0.02854278],\n",
              "       [-0.09170499, -0.01388217, -0.04507461, ..., -0.04368113,\n",
              "         0.00597113, -0.06751347],\n",
              "       [-0.05619104, -0.03833483,  0.01044659, ...,  0.07578545,\n",
              "         0.00372933, -0.02013971]], dtype=float32)>"
            ]
          },
          "metadata": {},
          "execution_count": 22
        }
      ]
    },
    {
      "cell_type": "code",
      "source": [
        "A_svd.shape"
      ],
      "metadata": {
        "id": "Krw0v8kT17tQ",
        "outputId": "bcf73fc1-3f44-4551-f5d4-5740587f5dda",
        "colab": {
          "base_uri": "https://localhost:8080/"
        }
      },
      "execution_count": 23,
      "outputs": [
        {
          "output_type": "execute_result",
          "data": {
            "text/plain": [
              "TensorShape([1024, 1024])"
            ]
          },
          "metadata": {},
          "execution_count": 23
        }
      ]
    },
    {
      "cell_type": "code",
      "source": [
        "bias = baseline.layers[2].get_weights()[1]"
      ],
      "metadata": {
        "id": "DdcDxZ650pCG"
      },
      "execution_count": 24,
      "outputs": []
    },
    {
      "cell_type": "code",
      "source": [
        "bias"
      ],
      "metadata": {
        "id": "drX64pka0upc",
        "outputId": "b119144c-2bc6-4274-c90e-3fcc193e55ca",
        "colab": {
          "base_uri": "https://localhost:8080/"
        }
      },
      "execution_count": 25,
      "outputs": [
        {
          "output_type": "execute_result",
          "data": {
            "text/plain": [
              "array([-0.07401229, -0.07578075, -0.04443052, ..., -0.04017141,\n",
              "       -0.02489184, -0.03327626], dtype=float32)"
            ]
          },
          "metadata": {},
          "execution_count": 25
        }
      ]
    },
    {
      "cell_type": "code",
      "source": [
        "#baseline.layers[2].set_weights([A_svd,bias])"
      ],
      "metadata": {
        "id": "AHyUEtmBy57E"
      },
      "execution_count": 26,
      "outputs": []
    },
    {
      "cell_type": "code",
      "source": [
        "#baseline.layers[2].get_weights()"
      ],
      "metadata": {
        "id": "cWmXM1aO094u"
      },
      "execution_count": 27,
      "outputs": []
    },
    {
      "cell_type": "code",
      "source": [
        "A_svd.shape"
      ],
      "metadata": {
        "id": "uQjLIybpulyR",
        "outputId": "d5627808-cba6-4d61-a78c-f915898f0549",
        "colab": {
          "base_uri": "https://localhost:8080/"
        }
      },
      "execution_count": 28,
      "outputs": [
        {
          "output_type": "execute_result",
          "data": {
            "text/plain": [
              "TensorShape([1024, 1024])"
            ]
          },
          "metadata": {},
          "execution_count": 28
        }
      ]
    },
    {
      "cell_type": "code",
      "source": [
        "baseline_full = keras.models.clone_model(baseline)"
      ],
      "metadata": {
        "id": "F6hCjYufwtIy"
      },
      "execution_count": 71,
      "outputs": []
    },
    {
      "cell_type": "code",
      "source": [
        "for i in range(1,len(baseline_full.layers)-1):\n",
        "  weights = baseline_full.layers[i].get_weights()[0]\n",
        "  bias = baseline_full.layers[i].get_weights()[1]\n",
        "  s, U, V = tf.linalg.svd(weights)\n",
        "  S = tf.linalg.diag(s)\n",
        "  V_T = tf.transpose(V)\n",
        "  weights_svd = U@S@V_T\n",
        "  baseline_full.layers[i].set_weights([weights_svd,bias])"
      ],
      "metadata": {
        "id": "LMRoeohpSKIl"
      },
      "execution_count": 72,
      "outputs": []
    },
    {
      "cell_type": "markdown",
      "source": [
        "### Performing Low Rank Approximation for different values of D"
      ],
      "metadata": {
        "id": "KpdgoDEI2gvR"
      }
    },
    {
      "cell_type": "code",
      "source": [
        "baseline_10 = keras.models.clone_model(baseline)\n",
        "baseline_20 = keras.models.clone_model(baseline)\n",
        "baseline_50 = keras.models.clone_model(baseline)\n",
        "baseline_100 = keras.models.clone_model(baseline)\n",
        "baseline_200 = keras.models.clone_model(baseline)"
      ],
      "metadata": {
        "id": "bvqEVNco1rG6"
      },
      "execution_count": 73,
      "outputs": []
    },
    {
      "cell_type": "code",
      "source": [
        "def rank_r_approx(s, U, V, r, verbose=False):\n",
        "  # Compute the matrices necessary for a rank-r approximation\n",
        "  s_r, U_r, V_r = s[..., :r], U[..., :, :r], V[..., :, :r] # ... implies any number of extra batch axes\n",
        "  # Compute the low-rank approximation and its size\n",
        "  A_r = tf.einsum('...s,...us,...vs->...uv',s_r,U_r,V_r)\n",
        "  A_r_size = tf.size(U_r) + tf.size(s_r) + tf.size(V_r)\n",
        "  if verbose:\n",
        "    print(f\"Approximation Size: {A_r_size}\")\n",
        "  return A_r"
      ],
      "metadata": {
        "id": "Km1-bBeQ28mx"
      },
      "execution_count": 74,
      "outputs": []
    },
    {
      "cell_type": "code",
      "source": [
        "def change_weights(model,r):\n",
        "  for i in range(1,len(model.layers)-1):\n",
        "    weights = model.layers[i].get_weights()[0]\n",
        "    bias = model.layers[i].get_weights()[1]\n",
        "    s, U, V = tf.linalg.svd(weights)\n",
        "    weights_approx = rank_r_approx(s, U, V, r, verbose = False)\n",
        "    model.layers[i].set_weights([weights_approx,bias])\n",
        "  return model"
      ],
      "metadata": {
        "id": "6NF7CgDr62-N"
      },
      "execution_count": 75,
      "outputs": []
    },
    {
      "cell_type": "markdown",
      "source": [
        "#### For D=10"
      ],
      "metadata": {
        "id": "XDJ8GaDF3DhV"
      }
    },
    {
      "cell_type": "code",
      "source": [
        "baseline_10 = change_weights(baseline_10,10)"
      ],
      "metadata": {
        "id": "eNXYoQrw73Do"
      },
      "execution_count": 76,
      "outputs": []
    },
    {
      "cell_type": "markdown",
      "source": [
        "#### For D=20"
      ],
      "metadata": {
        "id": "s1B5EZ0o8a1Q"
      }
    },
    {
      "cell_type": "code",
      "source": [
        "baseline_20 = change_weights(baseline_20,20)"
      ],
      "metadata": {
        "id": "N50miHpi8dWQ"
      },
      "execution_count": 77,
      "outputs": []
    },
    {
      "cell_type": "markdown",
      "source": [
        "#### For D=50"
      ],
      "metadata": {
        "id": "CRmf7KOI8iVF"
      }
    },
    {
      "cell_type": "code",
      "source": [
        "baseline_50 = change_weights(baseline_50,50)"
      ],
      "metadata": {
        "id": "7juDyqus8lla"
      },
      "execution_count": 78,
      "outputs": []
    },
    {
      "cell_type": "markdown",
      "source": [
        "#### For D=100"
      ],
      "metadata": {
        "id": "ZKeYQXpE8tW4"
      }
    },
    {
      "cell_type": "code",
      "source": [
        "baseline_100 = change_weights(baseline_100,100)"
      ],
      "metadata": {
        "id": "Z-U1J0xv8vlS"
      },
      "execution_count": 79,
      "outputs": []
    },
    {
      "cell_type": "markdown",
      "source": [
        "#### For D=200"
      ],
      "metadata": {
        "id": "GR_oI5Y-81-N"
      }
    },
    {
      "cell_type": "code",
      "source": [
        "baseline_200 = change_weights(baseline_200,200)"
      ],
      "metadata": {
        "id": "oKAeyYZ484Ui"
      },
      "execution_count": 80,
      "outputs": []
    },
    {
      "cell_type": "markdown",
      "source": [
        "## Training all the 6 models"
      ],
      "metadata": {
        "id": "i1c8-DcJ89CH"
      }
    },
    {
      "cell_type": "markdown",
      "source": [
        "#### Baseline Full"
      ],
      "metadata": {
        "id": "DC3LwipM-Mej"
      }
    },
    {
      "cell_type": "code",
      "source": [
        "baseline_full.compile(\n",
        "    optimizer=tf.keras.optimizers.Adam(),\n",
        "    loss=tf.keras.losses.SparseCategoricalCrossentropy(from_logits=True),\n",
        "    metrics=[tf.keras.metrics.SparseCategoricalAccuracy()],\n",
        ")"
      ],
      "metadata": {
        "id": "GKC7EsID-HyX"
      },
      "execution_count": 81,
      "outputs": []
    },
    {
      "cell_type": "code",
      "source": [
        "history_baseline_full = baseline_full.fit(train_images , train_labels ,epochs = 30, batch_size = 256)"
      ],
      "metadata": {
        "id": "tZY6VeOv9Lzm",
        "outputId": "3b025b3f-17ac-4755-e137-599cabf3ca9c",
        "colab": {
          "base_uri": "https://localhost:8080/"
        }
      },
      "execution_count": 82,
      "outputs": [
        {
          "output_type": "stream",
          "name": "stdout",
          "text": [
            "Epoch 1/30\n",
            "235/235 [==============================] - 1s 3ms/step - loss: 0.2407 - sparse_categorical_accuracy: 0.9240\n",
            "Epoch 2/30\n",
            "235/235 [==============================] - 1s 3ms/step - loss: 0.0908 - sparse_categorical_accuracy: 0.9729\n",
            "Epoch 3/30\n",
            "235/235 [==============================] - 1s 3ms/step - loss: 0.0611 - sparse_categorical_accuracy: 0.9814\n",
            "Epoch 4/30\n",
            "235/235 [==============================] - 1s 3ms/step - loss: 0.0481 - sparse_categorical_accuracy: 0.9855\n",
            "Epoch 5/30\n",
            "235/235 [==============================] - 1s 3ms/step - loss: 0.0432 - sparse_categorical_accuracy: 0.9868\n",
            "Epoch 6/30\n",
            "235/235 [==============================] - 1s 3ms/step - loss: 0.0317 - sparse_categorical_accuracy: 0.9904\n",
            "Epoch 7/30\n",
            "235/235 [==============================] - 1s 3ms/step - loss: 0.0308 - sparse_categorical_accuracy: 0.9905\n",
            "Epoch 8/30\n",
            "235/235 [==============================] - 1s 3ms/step - loss: 0.0233 - sparse_categorical_accuracy: 0.9934\n",
            "Epoch 9/30\n",
            "235/235 [==============================] - 1s 3ms/step - loss: 0.0202 - sparse_categorical_accuracy: 0.9939\n",
            "Epoch 10/30\n",
            "235/235 [==============================] - 1s 3ms/step - loss: 0.0227 - sparse_categorical_accuracy: 0.9934\n",
            "Epoch 11/30\n",
            "235/235 [==============================] - 1s 3ms/step - loss: 0.0226 - sparse_categorical_accuracy: 0.9936\n",
            "Epoch 12/30\n",
            "235/235 [==============================] - 1s 3ms/step - loss: 0.0181 - sparse_categorical_accuracy: 0.9947\n",
            "Epoch 13/30\n",
            "235/235 [==============================] - 1s 3ms/step - loss: 0.0173 - sparse_categorical_accuracy: 0.9947\n",
            "Epoch 14/30\n",
            "235/235 [==============================] - 1s 3ms/step - loss: 0.0152 - sparse_categorical_accuracy: 0.9955\n",
            "Epoch 15/30\n",
            "235/235 [==============================] - 1s 3ms/step - loss: 0.0139 - sparse_categorical_accuracy: 0.9960\n",
            "Epoch 16/30\n",
            "235/235 [==============================] - 1s 3ms/step - loss: 0.0147 - sparse_categorical_accuracy: 0.9962\n",
            "Epoch 17/30\n",
            "235/235 [==============================] - 1s 3ms/step - loss: 0.0153 - sparse_categorical_accuracy: 0.9964\n",
            "Epoch 18/30\n",
            "235/235 [==============================] - 1s 3ms/step - loss: 0.0170 - sparse_categorical_accuracy: 0.9958\n",
            "Epoch 19/30\n",
            "235/235 [==============================] - 1s 3ms/step - loss: 0.0198 - sparse_categorical_accuracy: 0.9949\n",
            "Epoch 20/30\n",
            "235/235 [==============================] - 1s 3ms/step - loss: 0.0159 - sparse_categorical_accuracy: 0.9958\n",
            "Epoch 21/30\n",
            "235/235 [==============================] - 1s 3ms/step - loss: 0.0139 - sparse_categorical_accuracy: 0.9968\n",
            "Epoch 22/30\n",
            "235/235 [==============================] - 1s 3ms/step - loss: 0.0117 - sparse_categorical_accuracy: 0.9969\n",
            "Epoch 23/30\n",
            "235/235 [==============================] - 1s 3ms/step - loss: 0.0082 - sparse_categorical_accuracy: 0.9978\n",
            "Epoch 24/30\n",
            "235/235 [==============================] - 1s 3ms/step - loss: 0.0086 - sparse_categorical_accuracy: 0.9980\n",
            "Epoch 25/30\n",
            "235/235 [==============================] - 1s 3ms/step - loss: 0.0129 - sparse_categorical_accuracy: 0.9971\n",
            "Epoch 26/30\n",
            "235/235 [==============================] - 1s 3ms/step - loss: 0.0123 - sparse_categorical_accuracy: 0.9973\n",
            "Epoch 27/30\n",
            "235/235 [==============================] - 1s 3ms/step - loss: 0.0101 - sparse_categorical_accuracy: 0.9977\n",
            "Epoch 28/30\n",
            "235/235 [==============================] - 1s 3ms/step - loss: 0.0120 - sparse_categorical_accuracy: 0.9972\n",
            "Epoch 29/30\n",
            "235/235 [==============================] - 1s 3ms/step - loss: 0.0096 - sparse_categorical_accuracy: 0.9972\n",
            "Epoch 30/30\n",
            "235/235 [==============================] - 1s 3ms/step - loss: 0.0070 - sparse_categorical_accuracy: 0.9982\n"
          ]
        }
      ]
    },
    {
      "cell_type": "code",
      "source": [
        "test_full = baseline_full.evaluate(test_images , test_labels)"
      ],
      "metadata": {
        "id": "XkLs_9K4BHFo",
        "outputId": "85240ac4-2cf4-4ae8-ddf4-02bcb08fb584",
        "colab": {
          "base_uri": "https://localhost:8080/"
        }
      },
      "execution_count": 65,
      "outputs": [
        {
          "output_type": "stream",
          "name": "stdout",
          "text": [
            " 46/313 [===>..........................] - ETA: 0s - loss: 0.1537 - sparse_categorical_accuracy: 0.9762"
          ]
        },
        {
          "output_type": "stream",
          "name": "stderr",
          "text": [
            "/usr/local/lib/python3.7/dist-packages/tensorflow/python/util/dispatch.py:1082: UserWarning: \"`sparse_categorical_crossentropy` received `from_logits=True`, but the `output` argument was produced by a sigmoid or softmax activation and thus does not represent logits. Was this intended?\"\n",
            "  return dispatch_target(*args, **kwargs)\n"
          ]
        },
        {
          "output_type": "stream",
          "name": "stdout",
          "text": [
            "313/313 [==============================] - 1s 2ms/step - loss: 0.1248 - sparse_categorical_accuracy: 0.9788\n"
          ]
        }
      ]
    },
    {
      "cell_type": "markdown",
      "source": [
        "#### Baseline 10"
      ],
      "metadata": {
        "id": "Yid9g_To-Qdy"
      }
    },
    {
      "cell_type": "code",
      "source": [
        "baseline_10.compile(\n",
        "    optimizer=tf.keras.optimizers.Adam(),\n",
        "    loss=tf.keras.losses.SparseCategoricalCrossentropy(from_logits=True),\n",
        "    metrics=[tf.keras.metrics.SparseCategoricalAccuracy()],\n",
        ")"
      ],
      "metadata": {
        "id": "bwctNYKV-c3v"
      },
      "execution_count": 55,
      "outputs": []
    },
    {
      "cell_type": "code",
      "source": [
        "history_baseline_10 = baseline_10.fit(train_images , train_labels ,epochs = 30, batch_size = 256)"
      ],
      "metadata": {
        "id": "r3ykIE7u9NO6",
        "outputId": "37c57b8c-1c34-45a1-80da-09e873b9f288",
        "colab": {
          "base_uri": "https://localhost:8080/"
        }
      },
      "execution_count": 56,
      "outputs": [
        {
          "output_type": "stream",
          "name": "stdout",
          "text": [
            "Epoch 1/30\n"
          ]
        },
        {
          "output_type": "stream",
          "name": "stderr",
          "text": [
            "/usr/local/lib/python3.7/dist-packages/tensorflow/python/util/dispatch.py:1082: UserWarning: \"`sparse_categorical_crossentropy` received `from_logits=True`, but the `output` argument was produced by a sigmoid or softmax activation and thus does not represent logits. Was this intended?\"\n",
            "  return dispatch_target(*args, **kwargs)\n"
          ]
        },
        {
          "output_type": "stream",
          "name": "stdout",
          "text": [
            "235/235 [==============================] - 1s 3ms/step - loss: 0.2444 - sparse_categorical_accuracy: 0.9244\n",
            "Epoch 2/30\n",
            "235/235 [==============================] - 1s 3ms/step - loss: 0.0869 - sparse_categorical_accuracy: 0.9743\n",
            "Epoch 3/30\n",
            "235/235 [==============================] - 1s 3ms/step - loss: 0.0674 - sparse_categorical_accuracy: 0.9801\n",
            "Epoch 4/30\n",
            "235/235 [==============================] - 1s 3ms/step - loss: 0.0481 - sparse_categorical_accuracy: 0.9857\n",
            "Epoch 5/30\n",
            "235/235 [==============================] - 1s 3ms/step - loss: 0.0389 - sparse_categorical_accuracy: 0.9885\n",
            "Epoch 6/30\n",
            "235/235 [==============================] - 1s 3ms/step - loss: 0.0346 - sparse_categorical_accuracy: 0.9897\n",
            "Epoch 7/30\n",
            "235/235 [==============================] - 1s 3ms/step - loss: 0.0300 - sparse_categorical_accuracy: 0.9910\n",
            "Epoch 8/30\n",
            "235/235 [==============================] - 1s 3ms/step - loss: 0.0274 - sparse_categorical_accuracy: 0.9919\n",
            "Epoch 9/30\n",
            "235/235 [==============================] - 1s 3ms/step - loss: 0.0231 - sparse_categorical_accuracy: 0.9929\n",
            "Epoch 10/30\n",
            "235/235 [==============================] - 1s 3ms/step - loss: 0.0201 - sparse_categorical_accuracy: 0.9940\n",
            "Epoch 11/30\n",
            "235/235 [==============================] - 1s 3ms/step - loss: 0.0226 - sparse_categorical_accuracy: 0.9937\n",
            "Epoch 12/30\n",
            "235/235 [==============================] - 1s 3ms/step - loss: 0.0161 - sparse_categorical_accuracy: 0.9955\n",
            "Epoch 13/30\n",
            "235/235 [==============================] - 1s 3ms/step - loss: 0.0146 - sparse_categorical_accuracy: 0.9959\n",
            "Epoch 14/30\n",
            "235/235 [==============================] - 1s 3ms/step - loss: 0.0176 - sparse_categorical_accuracy: 0.9951\n",
            "Epoch 15/30\n",
            "235/235 [==============================] - 1s 3ms/step - loss: 0.0172 - sparse_categorical_accuracy: 0.9947\n",
            "Epoch 16/30\n",
            "235/235 [==============================] - 1s 3ms/step - loss: 0.0204 - sparse_categorical_accuracy: 0.9945\n",
            "Epoch 17/30\n",
            "235/235 [==============================] - 1s 3ms/step - loss: 0.0154 - sparse_categorical_accuracy: 0.9962\n",
            "Epoch 18/30\n",
            "235/235 [==============================] - 1s 3ms/step - loss: 0.0122 - sparse_categorical_accuracy: 0.9970\n",
            "Epoch 19/30\n",
            "235/235 [==============================] - 1s 3ms/step - loss: 0.0156 - sparse_categorical_accuracy: 0.9963\n",
            "Epoch 20/30\n",
            "235/235 [==============================] - 1s 3ms/step - loss: 0.0100 - sparse_categorical_accuracy: 0.9973\n",
            "Epoch 21/30\n",
            "235/235 [==============================] - 1s 3ms/step - loss: 0.0165 - sparse_categorical_accuracy: 0.9959\n",
            "Epoch 22/30\n",
            "235/235 [==============================] - 1s 3ms/step - loss: 0.0102 - sparse_categorical_accuracy: 0.9974\n",
            "Epoch 23/30\n",
            "235/235 [==============================] - 1s 3ms/step - loss: 0.0130 - sparse_categorical_accuracy: 0.9965\n",
            "Epoch 24/30\n",
            "235/235 [==============================] - 1s 3ms/step - loss: 0.0116 - sparse_categorical_accuracy: 0.9970\n",
            "Epoch 25/30\n",
            "235/235 [==============================] - 1s 3ms/step - loss: 0.0101 - sparse_categorical_accuracy: 0.9975\n",
            "Epoch 26/30\n",
            "235/235 [==============================] - 1s 3ms/step - loss: 0.0056 - sparse_categorical_accuracy: 0.9985\n",
            "Epoch 27/30\n",
            "235/235 [==============================] - 1s 3ms/step - loss: 0.0156 - sparse_categorical_accuracy: 0.9966\n",
            "Epoch 28/30\n",
            "235/235 [==============================] - 1s 3ms/step - loss: 0.0095 - sparse_categorical_accuracy: 0.9979\n",
            "Epoch 29/30\n",
            "235/235 [==============================] - 1s 3ms/step - loss: 0.0105 - sparse_categorical_accuracy: 0.9971\n",
            "Epoch 30/30\n",
            "235/235 [==============================] - 1s 3ms/step - loss: 0.0120 - sparse_categorical_accuracy: 0.9970\n"
          ]
        }
      ]
    },
    {
      "cell_type": "code",
      "source": [
        "test_10 = baseline_10.evaluate(test_images , test_labels)"
      ],
      "metadata": {
        "id": "TcSxIGacBT9c",
        "outputId": "3ed281a5-509d-46c0-d04b-765bf908be28",
        "colab": {
          "base_uri": "https://localhost:8080/"
        }
      },
      "execution_count": 66,
      "outputs": [
        {
          "output_type": "stream",
          "name": "stdout",
          "text": [
            " 24/313 [=>............................] - ETA: 0s - loss: 0.0985 - sparse_categorical_accuracy: 0.9896 "
          ]
        },
        {
          "output_type": "stream",
          "name": "stderr",
          "text": [
            "/usr/local/lib/python3.7/dist-packages/tensorflow/python/util/dispatch.py:1082: UserWarning: \"`sparse_categorical_crossentropy` received `from_logits=True`, but the `output` argument was produced by a sigmoid or softmax activation and thus does not represent logits. Was this intended?\"\n",
            "  return dispatch_target(*args, **kwargs)\n"
          ]
        },
        {
          "output_type": "stream",
          "name": "stdout",
          "text": [
            "313/313 [==============================] - 1s 2ms/step - loss: 0.1034 - sparse_categorical_accuracy: 0.9840\n"
          ]
        }
      ]
    },
    {
      "cell_type": "markdown",
      "source": [
        "#### Baseline 20"
      ],
      "metadata": {
        "id": "jA6lxzsO-TAC"
      }
    },
    {
      "cell_type": "code",
      "source": [
        "baseline_20.compile(\n",
        "    optimizer=tf.keras.optimizers.Adam(),\n",
        "    loss=tf.keras.losses.SparseCategoricalCrossentropy(from_logits=True),\n",
        "    metrics=[tf.keras.metrics.SparseCategoricalAccuracy()],\n",
        ")"
      ],
      "metadata": {
        "id": "sdzgpfhU-gzV"
      },
      "execution_count": 57,
      "outputs": []
    },
    {
      "cell_type": "code",
      "source": [
        "history_baseline_20 = baseline_20.fit(train_images , train_labels ,epochs = 30, batch_size = 256)"
      ],
      "metadata": {
        "id": "lLU7tPnl9ONl",
        "outputId": "ca702e00-60d5-4ec4-ec85-ae135cff247c",
        "colab": {
          "base_uri": "https://localhost:8080/"
        }
      },
      "execution_count": 58,
      "outputs": [
        {
          "output_type": "stream",
          "name": "stdout",
          "text": [
            "Epoch 1/30\n",
            "235/235 [==============================] - 1s 3ms/step - loss: 0.2399 - sparse_categorical_accuracy: 0.9238\n",
            "Epoch 2/30\n",
            "235/235 [==============================] - 1s 3ms/step - loss: 0.0920 - sparse_categorical_accuracy: 0.9717\n",
            "Epoch 3/30\n",
            "235/235 [==============================] - 1s 3ms/step - loss: 0.0637 - sparse_categorical_accuracy: 0.9817\n",
            "Epoch 4/30\n",
            "235/235 [==============================] - 1s 3ms/step - loss: 0.0487 - sparse_categorical_accuracy: 0.9853\n",
            "Epoch 5/30\n",
            "235/235 [==============================] - 1s 3ms/step - loss: 0.0377 - sparse_categorical_accuracy: 0.9883\n",
            "Epoch 6/30\n",
            "235/235 [==============================] - 1s 3ms/step - loss: 0.0325 - sparse_categorical_accuracy: 0.9901\n",
            "Epoch 7/30\n",
            "235/235 [==============================] - 1s 3ms/step - loss: 0.0292 - sparse_categorical_accuracy: 0.9915\n",
            "Epoch 8/30\n",
            "235/235 [==============================] - 1s 3ms/step - loss: 0.0253 - sparse_categorical_accuracy: 0.9927\n",
            "Epoch 9/30\n",
            "235/235 [==============================] - 1s 3ms/step - loss: 0.0242 - sparse_categorical_accuracy: 0.9929\n",
            "Epoch 10/30\n",
            "235/235 [==============================] - 1s 3ms/step - loss: 0.0237 - sparse_categorical_accuracy: 0.9929\n",
            "Epoch 11/30\n",
            "235/235 [==============================] - 1s 3ms/step - loss: 0.0193 - sparse_categorical_accuracy: 0.9943\n",
            "Epoch 12/30\n",
            "235/235 [==============================] - 1s 3ms/step - loss: 0.0171 - sparse_categorical_accuracy: 0.9949\n",
            "Epoch 13/30\n",
            "235/235 [==============================] - 1s 3ms/step - loss: 0.0198 - sparse_categorical_accuracy: 0.9947\n",
            "Epoch 14/30\n",
            "235/235 [==============================] - 1s 3ms/step - loss: 0.0220 - sparse_categorical_accuracy: 0.9943\n",
            "Epoch 15/30\n",
            "235/235 [==============================] - 1s 3ms/step - loss: 0.0153 - sparse_categorical_accuracy: 0.9959\n",
            "Epoch 16/30\n",
            "235/235 [==============================] - 1s 3ms/step - loss: 0.0167 - sparse_categorical_accuracy: 0.9952\n",
            "Epoch 17/30\n",
            "235/235 [==============================] - 1s 3ms/step - loss: 0.0115 - sparse_categorical_accuracy: 0.9969\n",
            "Epoch 18/30\n",
            "235/235 [==============================] - 1s 3ms/step - loss: 0.0179 - sparse_categorical_accuracy: 0.9954\n",
            "Epoch 19/30\n",
            "235/235 [==============================] - 1s 3ms/step - loss: 0.0166 - sparse_categorical_accuracy: 0.9959\n",
            "Epoch 20/30\n",
            "235/235 [==============================] - 1s 3ms/step - loss: 0.0104 - sparse_categorical_accuracy: 0.9970\n",
            "Epoch 21/30\n",
            "235/235 [==============================] - 1s 3ms/step - loss: 0.0121 - sparse_categorical_accuracy: 0.9969\n",
            "Epoch 22/30\n",
            "235/235 [==============================] - 1s 3ms/step - loss: 0.0121 - sparse_categorical_accuracy: 0.9968\n",
            "Epoch 23/30\n",
            "235/235 [==============================] - 1s 3ms/step - loss: 0.0106 - sparse_categorical_accuracy: 0.9974\n",
            "Epoch 24/30\n",
            "235/235 [==============================] - 1s 3ms/step - loss: 0.0102 - sparse_categorical_accuracy: 0.9976\n",
            "Epoch 25/30\n",
            "235/235 [==============================] - 1s 3ms/step - loss: 0.0151 - sparse_categorical_accuracy: 0.9961\n",
            "Epoch 26/30\n",
            "235/235 [==============================] - 1s 3ms/step - loss: 0.0121 - sparse_categorical_accuracy: 0.9968\n",
            "Epoch 27/30\n",
            "235/235 [==============================] - 1s 3ms/step - loss: 0.0082 - sparse_categorical_accuracy: 0.9979\n",
            "Epoch 28/30\n",
            "235/235 [==============================] - 1s 3ms/step - loss: 0.0094 - sparse_categorical_accuracy: 0.9976\n",
            "Epoch 29/30\n",
            "235/235 [==============================] - 1s 3ms/step - loss: 0.0103 - sparse_categorical_accuracy: 0.9977\n",
            "Epoch 30/30\n",
            "235/235 [==============================] - 1s 3ms/step - loss: 0.0117 - sparse_categorical_accuracy: 0.9975\n"
          ]
        }
      ]
    },
    {
      "cell_type": "code",
      "source": [
        "test_20 = baseline_20.evaluate(test_images , test_labels)"
      ],
      "metadata": {
        "id": "n-e35VInBaN9",
        "outputId": "ccf6d3de-a823-429b-92a0-604f3e857b1e",
        "colab": {
          "base_uri": "https://localhost:8080/"
        }
      },
      "execution_count": 67,
      "outputs": [
        {
          "output_type": "stream",
          "name": "stdout",
          "text": [
            " 42/313 [===>..........................] - ETA: 0s - loss: 0.1591 - sparse_categorical_accuracy: 0.9762"
          ]
        },
        {
          "output_type": "stream",
          "name": "stderr",
          "text": [
            "/usr/local/lib/python3.7/dist-packages/tensorflow/python/util/dispatch.py:1082: UserWarning: \"`sparse_categorical_crossentropy` received `from_logits=True`, but the `output` argument was produced by a sigmoid or softmax activation and thus does not represent logits. Was this intended?\"\n",
            "  return dispatch_target(*args, **kwargs)\n"
          ]
        },
        {
          "output_type": "stream",
          "name": "stdout",
          "text": [
            "313/313 [==============================] - 1s 2ms/step - loss: 0.0952 - sparse_categorical_accuracy: 0.9832\n"
          ]
        }
      ]
    },
    {
      "cell_type": "markdown",
      "source": [
        "#### Baseline 50"
      ],
      "metadata": {
        "id": "bCfbOyvc-Wps"
      }
    },
    {
      "cell_type": "code",
      "source": [
        "baseline_50.compile(\n",
        "    optimizer=tf.keras.optimizers.Adam(),\n",
        "    loss=tf.keras.losses.SparseCategoricalCrossentropy(from_logits=True),\n",
        "    metrics=[tf.keras.metrics.SparseCategoricalAccuracy()],\n",
        ")"
      ],
      "metadata": {
        "id": "jSkzmQJj-jRw"
      },
      "execution_count": 59,
      "outputs": []
    },
    {
      "cell_type": "code",
      "source": [
        "history_baseline_50 = baseline_50.fit(train_images , train_labels ,epochs = 30, batch_size = 256)"
      ],
      "metadata": {
        "id": "dsulIicb9OlW",
        "outputId": "22b9cf50-8774-4b4b-fea0-9fa19ab8a8aa",
        "colab": {
          "base_uri": "https://localhost:8080/"
        }
      },
      "execution_count": 60,
      "outputs": [
        {
          "output_type": "stream",
          "name": "stdout",
          "text": [
            "Epoch 1/30\n",
            "235/235 [==============================] - 1s 3ms/step - loss: 0.2511 - sparse_categorical_accuracy: 0.9216\n",
            "Epoch 2/30\n",
            "235/235 [==============================] - 1s 3ms/step - loss: 0.0911 - sparse_categorical_accuracy: 0.9729\n",
            "Epoch 3/30\n",
            "235/235 [==============================] - 1s 3ms/step - loss: 0.0624 - sparse_categorical_accuracy: 0.9812\n",
            "Epoch 4/30\n",
            "235/235 [==============================] - 1s 3ms/step - loss: 0.0502 - sparse_categorical_accuracy: 0.9851\n",
            "Epoch 5/30\n",
            "235/235 [==============================] - 1s 3ms/step - loss: 0.0376 - sparse_categorical_accuracy: 0.9885\n",
            "Epoch 6/30\n",
            "235/235 [==============================] - 1s 3ms/step - loss: 0.0342 - sparse_categorical_accuracy: 0.9900\n",
            "Epoch 7/30\n",
            "235/235 [==============================] - 1s 3ms/step - loss: 0.0283 - sparse_categorical_accuracy: 0.9916\n",
            "Epoch 8/30\n",
            "235/235 [==============================] - 1s 3ms/step - loss: 0.0282 - sparse_categorical_accuracy: 0.9920\n",
            "Epoch 9/30\n",
            "235/235 [==============================] - 1s 3ms/step - loss: 0.0209 - sparse_categorical_accuracy: 0.9938\n",
            "Epoch 10/30\n",
            "235/235 [==============================] - 1s 3ms/step - loss: 0.0226 - sparse_categorical_accuracy: 0.9930\n",
            "Epoch 11/30\n",
            "235/235 [==============================] - 1s 3ms/step - loss: 0.0190 - sparse_categorical_accuracy: 0.9946\n",
            "Epoch 12/30\n",
            "235/235 [==============================] - 1s 3ms/step - loss: 0.0185 - sparse_categorical_accuracy: 0.9945\n",
            "Epoch 13/30\n",
            "235/235 [==============================] - 1s 3ms/step - loss: 0.0197 - sparse_categorical_accuracy: 0.9946\n",
            "Epoch 14/30\n",
            "235/235 [==============================] - 1s 3ms/step - loss: 0.0157 - sparse_categorical_accuracy: 0.9957\n",
            "Epoch 15/30\n",
            "235/235 [==============================] - 1s 3ms/step - loss: 0.0124 - sparse_categorical_accuracy: 0.9965\n",
            "Epoch 16/30\n",
            "235/235 [==============================] - 1s 3ms/step - loss: 0.0159 - sparse_categorical_accuracy: 0.9957\n",
            "Epoch 17/30\n",
            "235/235 [==============================] - 1s 3ms/step - loss: 0.0146 - sparse_categorical_accuracy: 0.9960\n",
            "Epoch 18/30\n",
            "235/235 [==============================] - 1s 3ms/step - loss: 0.0146 - sparse_categorical_accuracy: 0.9960\n",
            "Epoch 19/30\n",
            "235/235 [==============================] - 1s 3ms/step - loss: 0.0145 - sparse_categorical_accuracy: 0.9961\n",
            "Epoch 20/30\n",
            "235/235 [==============================] - 1s 3ms/step - loss: 0.0119 - sparse_categorical_accuracy: 0.9967\n",
            "Epoch 21/30\n",
            "235/235 [==============================] - 1s 3ms/step - loss: 0.0092 - sparse_categorical_accuracy: 0.9974\n",
            "Epoch 22/30\n",
            "235/235 [==============================] - 1s 3ms/step - loss: 0.0149 - sparse_categorical_accuracy: 0.9966\n",
            "Epoch 23/30\n",
            "235/235 [==============================] - 1s 3ms/step - loss: 0.0102 - sparse_categorical_accuracy: 0.9971\n",
            "Epoch 24/30\n",
            "235/235 [==============================] - 1s 3ms/step - loss: 0.0122 - sparse_categorical_accuracy: 0.9971\n",
            "Epoch 25/30\n",
            "235/235 [==============================] - 1s 3ms/step - loss: 0.0118 - sparse_categorical_accuracy: 0.9970\n",
            "Epoch 26/30\n",
            "235/235 [==============================] - 1s 3ms/step - loss: 0.0148 - sparse_categorical_accuracy: 0.9965\n",
            "Epoch 27/30\n",
            "235/235 [==============================] - 1s 3ms/step - loss: 0.0118 - sparse_categorical_accuracy: 0.9969\n",
            "Epoch 28/30\n",
            "235/235 [==============================] - 1s 3ms/step - loss: 0.0133 - sparse_categorical_accuracy: 0.9969\n",
            "Epoch 29/30\n",
            "235/235 [==============================] - 1s 3ms/step - loss: 0.0097 - sparse_categorical_accuracy: 0.9979\n",
            "Epoch 30/30\n",
            "235/235 [==============================] - 1s 3ms/step - loss: 0.0132 - sparse_categorical_accuracy: 0.9973\n"
          ]
        }
      ]
    },
    {
      "cell_type": "code",
      "source": [
        "test_50 = baseline_50.evaluate(test_images , test_labels)"
      ],
      "metadata": {
        "id": "9xjM5EX2Bfni",
        "outputId": "ffc9f7fc-3a12-47f1-b9d0-d8f66187ea01",
        "colab": {
          "base_uri": "https://localhost:8080/"
        }
      },
      "execution_count": 68,
      "outputs": [
        {
          "output_type": "stream",
          "name": "stdout",
          "text": [
            " 46/313 [===>..........................] - ETA: 0s - loss: 0.1465 - sparse_categorical_accuracy: 0.9769"
          ]
        },
        {
          "output_type": "stream",
          "name": "stderr",
          "text": [
            "/usr/local/lib/python3.7/dist-packages/tensorflow/python/util/dispatch.py:1082: UserWarning: \"`sparse_categorical_crossentropy` received `from_logits=True`, but the `output` argument was produced by a sigmoid or softmax activation and thus does not represent logits. Was this intended?\"\n",
            "  return dispatch_target(*args, **kwargs)\n"
          ]
        },
        {
          "output_type": "stream",
          "name": "stdout",
          "text": [
            "313/313 [==============================] - 1s 2ms/step - loss: 0.0967 - sparse_categorical_accuracy: 0.9833\n"
          ]
        }
      ]
    },
    {
      "cell_type": "markdown",
      "source": [
        "#### Baseline 100"
      ],
      "metadata": {
        "id": "zoGdE6KR-Yf4"
      }
    },
    {
      "cell_type": "code",
      "source": [
        "baseline_100.compile(\n",
        "    optimizer=tf.keras.optimizers.Adam(),\n",
        "    loss=tf.keras.losses.SparseCategoricalCrossentropy(from_logits=True),\n",
        "    metrics=[tf.keras.metrics.SparseCategoricalAccuracy()],\n",
        ")"
      ],
      "metadata": {
        "id": "VVmSyH_D-k-c"
      },
      "execution_count": 61,
      "outputs": []
    },
    {
      "cell_type": "code",
      "source": [
        "history_baseline_100 = baseline_100.fit(train_images , train_labels ,epochs = 30, batch_size = 256)"
      ],
      "metadata": {
        "id": "hfZOMzFk9O4-",
        "outputId": "e22e9192-6439-41e2-8497-705accdeac23",
        "colab": {
          "base_uri": "https://localhost:8080/"
        }
      },
      "execution_count": 62,
      "outputs": [
        {
          "output_type": "stream",
          "name": "stdout",
          "text": [
            "Epoch 1/30\n",
            "235/235 [==============================] - 1s 3ms/step - loss: 0.2481 - sparse_categorical_accuracy: 0.9229\n",
            "Epoch 2/30\n",
            "235/235 [==============================] - 1s 3ms/step - loss: 0.0943 - sparse_categorical_accuracy: 0.9714\n",
            "Epoch 3/30\n",
            "235/235 [==============================] - 1s 3ms/step - loss: 0.0614 - sparse_categorical_accuracy: 0.9816\n",
            "Epoch 4/30\n",
            "235/235 [==============================] - 1s 3ms/step - loss: 0.0451 - sparse_categorical_accuracy: 0.9864\n",
            "Epoch 5/30\n",
            "235/235 [==============================] - 1s 3ms/step - loss: 0.0389 - sparse_categorical_accuracy: 0.9884\n",
            "Epoch 6/30\n",
            "235/235 [==============================] - 1s 3ms/step - loss: 0.0329 - sparse_categorical_accuracy: 0.9905\n",
            "Epoch 7/30\n",
            "235/235 [==============================] - 1s 3ms/step - loss: 0.0291 - sparse_categorical_accuracy: 0.9915\n",
            "Epoch 8/30\n",
            "235/235 [==============================] - 1s 3ms/step - loss: 0.0273 - sparse_categorical_accuracy: 0.9925\n",
            "Epoch 9/30\n",
            "235/235 [==============================] - 1s 3ms/step - loss: 0.0234 - sparse_categorical_accuracy: 0.9929\n",
            "Epoch 10/30\n",
            "235/235 [==============================] - 1s 3ms/step - loss: 0.0206 - sparse_categorical_accuracy: 0.9937\n",
            "Epoch 11/30\n",
            "235/235 [==============================] - 1s 3ms/step - loss: 0.0216 - sparse_categorical_accuracy: 0.9937\n",
            "Epoch 12/30\n",
            "235/235 [==============================] - 1s 3ms/step - loss: 0.0164 - sparse_categorical_accuracy: 0.9948\n",
            "Epoch 13/30\n",
            "235/235 [==============================] - 1s 3ms/step - loss: 0.0158 - sparse_categorical_accuracy: 0.9957\n",
            "Epoch 14/30\n",
            "235/235 [==============================] - 1s 3ms/step - loss: 0.0179 - sparse_categorical_accuracy: 0.9950\n",
            "Epoch 15/30\n",
            "235/235 [==============================] - 1s 3ms/step - loss: 0.0174 - sparse_categorical_accuracy: 0.9955\n",
            "Epoch 16/30\n",
            "235/235 [==============================] - 1s 3ms/step - loss: 0.0137 - sparse_categorical_accuracy: 0.9959\n",
            "Epoch 17/30\n",
            "235/235 [==============================] - 1s 3ms/step - loss: 0.0163 - sparse_categorical_accuracy: 0.9956\n",
            "Epoch 18/30\n",
            "235/235 [==============================] - 1s 3ms/step - loss: 0.0121 - sparse_categorical_accuracy: 0.9966\n",
            "Epoch 19/30\n",
            "235/235 [==============================] - 1s 3ms/step - loss: 0.0146 - sparse_categorical_accuracy: 0.9961\n",
            "Epoch 20/30\n",
            "235/235 [==============================] - 1s 3ms/step - loss: 0.0127 - sparse_categorical_accuracy: 0.9966\n",
            "Epoch 21/30\n",
            "235/235 [==============================] - 1s 3ms/step - loss: 0.0118 - sparse_categorical_accuracy: 0.9970\n",
            "Epoch 22/30\n",
            "235/235 [==============================] - 1s 3ms/step - loss: 0.0101 - sparse_categorical_accuracy: 0.9975\n",
            "Epoch 23/30\n",
            "235/235 [==============================] - 1s 3ms/step - loss: 0.0107 - sparse_categorical_accuracy: 0.9971\n",
            "Epoch 24/30\n",
            "235/235 [==============================] - 1s 3ms/step - loss: 0.0097 - sparse_categorical_accuracy: 0.9976\n",
            "Epoch 25/30\n",
            "235/235 [==============================] - 1s 3ms/step - loss: 0.0163 - sparse_categorical_accuracy: 0.9965\n",
            "Epoch 26/30\n",
            "235/235 [==============================] - 1s 3ms/step - loss: 0.0134 - sparse_categorical_accuracy: 0.9969\n",
            "Epoch 27/30\n",
            "235/235 [==============================] - 1s 3ms/step - loss: 0.0091 - sparse_categorical_accuracy: 0.9975\n",
            "Epoch 28/30\n",
            "235/235 [==============================] - 1s 3ms/step - loss: 0.0129 - sparse_categorical_accuracy: 0.9969\n",
            "Epoch 29/30\n",
            "235/235 [==============================] - 1s 3ms/step - loss: 0.0103 - sparse_categorical_accuracy: 0.9979\n",
            "Epoch 30/30\n",
            "235/235 [==============================] - 1s 3ms/step - loss: 0.0102 - sparse_categorical_accuracy: 0.9977\n"
          ]
        }
      ]
    },
    {
      "cell_type": "code",
      "source": [
        "test_100 = baseline_100.evaluate(test_images , test_labels)"
      ],
      "metadata": {
        "id": "1v0WbrfyBkbh",
        "outputId": "835ad7df-865b-421b-9cd1-2235c14ddd98",
        "colab": {
          "base_uri": "https://localhost:8080/"
        }
      },
      "execution_count": 69,
      "outputs": [
        {
          "output_type": "stream",
          "name": "stdout",
          "text": [
            " 43/313 [===>..........................] - ETA: 0s - loss: 0.1733 - sparse_categorical_accuracy: 0.9789"
          ]
        },
        {
          "output_type": "stream",
          "name": "stderr",
          "text": [
            "/usr/local/lib/python3.7/dist-packages/tensorflow/python/util/dispatch.py:1082: UserWarning: \"`sparse_categorical_crossentropy` received `from_logits=True`, but the `output` argument was produced by a sigmoid or softmax activation and thus does not represent logits. Was this intended?\"\n",
            "  return dispatch_target(*args, **kwargs)\n"
          ]
        },
        {
          "output_type": "stream",
          "name": "stdout",
          "text": [
            "313/313 [==============================] - 1s 2ms/step - loss: 0.1324 - sparse_categorical_accuracy: 0.9816\n"
          ]
        }
      ]
    },
    {
      "cell_type": "markdown",
      "source": [
        "#### Baseline 200"
      ],
      "metadata": {
        "id": "UKRh9nmg-aLx"
      }
    },
    {
      "cell_type": "code",
      "source": [
        "baseline_200.compile(\n",
        "    optimizer=tf.keras.optimizers.Adam(),\n",
        "    loss=tf.keras.losses.SparseCategoricalCrossentropy(from_logits=True),\n",
        "    metrics=[tf.keras.metrics.SparseCategoricalAccuracy()],\n",
        ")"
      ],
      "metadata": {
        "id": "XfQ-B0ri-nAI"
      },
      "execution_count": 63,
      "outputs": []
    },
    {
      "cell_type": "code",
      "source": [
        "history_baseline_200 = baseline_200.fit(train_images , train_labels ,epochs = 30, batch_size = 256)"
      ],
      "metadata": {
        "id": "s_b9BqNG9PJH",
        "outputId": "5b780d1c-71d8-406f-d3b3-47826339b45d",
        "colab": {
          "base_uri": "https://localhost:8080/"
        }
      },
      "execution_count": 64,
      "outputs": [
        {
          "output_type": "stream",
          "name": "stdout",
          "text": [
            "Epoch 1/30\n",
            "235/235 [==============================] - 1s 3ms/step - loss: 0.2470 - sparse_categorical_accuracy: 0.9231\n",
            "Epoch 2/30\n",
            "235/235 [==============================] - 1s 3ms/step - loss: 0.0899 - sparse_categorical_accuracy: 0.9731\n",
            "Epoch 3/30\n",
            "235/235 [==============================] - 1s 3ms/step - loss: 0.0615 - sparse_categorical_accuracy: 0.9810\n",
            "Epoch 4/30\n",
            "235/235 [==============================] - 1s 3ms/step - loss: 0.0431 - sparse_categorical_accuracy: 0.9870\n",
            "Epoch 5/30\n",
            "235/235 [==============================] - 1s 3ms/step - loss: 0.0398 - sparse_categorical_accuracy: 0.9883\n",
            "Epoch 6/30\n",
            "235/235 [==============================] - 1s 3ms/step - loss: 0.0327 - sparse_categorical_accuracy: 0.9898\n",
            "Epoch 7/30\n",
            "235/235 [==============================] - 1s 3ms/step - loss: 0.0268 - sparse_categorical_accuracy: 0.9924\n",
            "Epoch 8/30\n",
            "235/235 [==============================] - 1s 3ms/step - loss: 0.0296 - sparse_categorical_accuracy: 0.9911\n",
            "Epoch 9/30\n",
            "235/235 [==============================] - 1s 3ms/step - loss: 0.0241 - sparse_categorical_accuracy: 0.9928\n",
            "Epoch 10/30\n",
            "235/235 [==============================] - 1s 3ms/step - loss: 0.0230 - sparse_categorical_accuracy: 0.9933\n",
            "Epoch 11/30\n",
            "235/235 [==============================] - 1s 3ms/step - loss: 0.0167 - sparse_categorical_accuracy: 0.9951\n",
            "Epoch 12/30\n",
            "235/235 [==============================] - 1s 3ms/step - loss: 0.0173 - sparse_categorical_accuracy: 0.9949\n",
            "Epoch 13/30\n",
            "235/235 [==============================] - 1s 3ms/step - loss: 0.0176 - sparse_categorical_accuracy: 0.9952\n",
            "Epoch 14/30\n",
            "235/235 [==============================] - 1s 3ms/step - loss: 0.0196 - sparse_categorical_accuracy: 0.9948\n",
            "Epoch 15/30\n",
            "235/235 [==============================] - 1s 3ms/step - loss: 0.0196 - sparse_categorical_accuracy: 0.9953\n",
            "Epoch 16/30\n",
            "235/235 [==============================] - 1s 3ms/step - loss: 0.0148 - sparse_categorical_accuracy: 0.9961\n",
            "Epoch 17/30\n",
            "235/235 [==============================] - 1s 3ms/step - loss: 0.0141 - sparse_categorical_accuracy: 0.9963\n",
            "Epoch 18/30\n",
            "235/235 [==============================] - 1s 3ms/step - loss: 0.0164 - sparse_categorical_accuracy: 0.9959\n",
            "Epoch 19/30\n",
            "235/235 [==============================] - 1s 3ms/step - loss: 0.0169 - sparse_categorical_accuracy: 0.9957\n",
            "Epoch 20/30\n",
            "235/235 [==============================] - 1s 3ms/step - loss: 0.0104 - sparse_categorical_accuracy: 0.9974\n",
            "Epoch 21/30\n",
            "235/235 [==============================] - 1s 3ms/step - loss: 0.0129 - sparse_categorical_accuracy: 0.9969\n",
            "Epoch 22/30\n",
            "235/235 [==============================] - 1s 3ms/step - loss: 0.0150 - sparse_categorical_accuracy: 0.9961\n",
            "Epoch 23/30\n",
            "235/235 [==============================] - 1s 3ms/step - loss: 0.0168 - sparse_categorical_accuracy: 0.9956\n",
            "Epoch 24/30\n",
            "235/235 [==============================] - 1s 3ms/step - loss: 0.0103 - sparse_categorical_accuracy: 0.9976\n",
            "Epoch 25/30\n",
            "235/235 [==============================] - 1s 3ms/step - loss: 0.0091 - sparse_categorical_accuracy: 0.9980\n",
            "Epoch 26/30\n",
            "235/235 [==============================] - 1s 3ms/step - loss: 0.0096 - sparse_categorical_accuracy: 0.9975\n",
            "Epoch 27/30\n",
            "235/235 [==============================] - 1s 3ms/step - loss: 0.0108 - sparse_categorical_accuracy: 0.9973\n",
            "Epoch 28/30\n",
            "235/235 [==============================] - 1s 3ms/step - loss: 0.0094 - sparse_categorical_accuracy: 0.9980\n",
            "Epoch 29/30\n",
            "235/235 [==============================] - 1s 3ms/step - loss: 0.0130 - sparse_categorical_accuracy: 0.9969\n",
            "Epoch 30/30\n",
            "235/235 [==============================] - 1s 3ms/step - loss: 0.0119 - sparse_categorical_accuracy: 0.9972\n"
          ]
        }
      ]
    },
    {
      "cell_type": "code",
      "source": [
        "test_200 = baseline_200.evaluate(test_images , test_labels)"
      ],
      "metadata": {
        "id": "zvfI3oo4Bo7o",
        "outputId": "dcc70832-ae96-4338-fc1c-3d8b64a869bc",
        "colab": {
          "base_uri": "https://localhost:8080/"
        }
      },
      "execution_count": 70,
      "outputs": [
        {
          "output_type": "stream",
          "name": "stdout",
          "text": [
            " 23/313 [=>............................] - ETA: 0s - loss: 0.1030 - sparse_categorical_accuracy: 0.9837     "
          ]
        },
        {
          "output_type": "stream",
          "name": "stderr",
          "text": [
            "/usr/local/lib/python3.7/dist-packages/tensorflow/python/util/dispatch.py:1082: UserWarning: \"`sparse_categorical_crossentropy` received `from_logits=True`, but the `output` argument was produced by a sigmoid or softmax activation and thus does not represent logits. Was this intended?\"\n",
            "  return dispatch_target(*args, **kwargs)\n"
          ]
        },
        {
          "output_type": "stream",
          "name": "stdout",
          "text": [
            "313/313 [==============================] - 1s 2ms/step - loss: 0.1099 - sparse_categorical_accuracy: 0.9832\n"
          ]
        }
      ]
    },
    {
      "cell_type": "code",
      "source": [],
      "metadata": {
        "id": "wnSdfWuk9Pg0"
      },
      "execution_count": null,
      "outputs": []
    },
    {
      "cell_type": "code",
      "source": [],
      "metadata": {
        "id": "tZylpSKG9Pjp"
      },
      "execution_count": null,
      "outputs": []
    },
    {
      "cell_type": "code",
      "source": [],
      "metadata": {
        "id": "uP7f74r79PmJ"
      },
      "execution_count": null,
      "outputs": []
    },
    {
      "cell_type": "code",
      "source": [],
      "metadata": {
        "id": "GTIX-Ydo9Pok"
      },
      "execution_count": null,
      "outputs": []
    },
    {
      "cell_type": "code",
      "source": [],
      "metadata": {
        "id": "JiGS8etT9PrC"
      },
      "execution_count": null,
      "outputs": []
    },
    {
      "cell_type": "code",
      "source": [
        "s, U, V = tf.linalg.svd(baseline.layers[2].get_weights()[0])"
      ],
      "metadata": {
        "id": "QgD0EDOK3lrs"
      },
      "execution_count": 107,
      "outputs": []
    },
    {
      "cell_type": "code",
      "source": [
        "tf.size(baseline.layers[2].get_weights()[0])"
      ],
      "metadata": {
        "id": "dOXXA6eP337u",
        "outputId": "7fcf0951-19ca-4c0f-9098-18653deba9ce",
        "colab": {
          "base_uri": "https://localhost:8080/"
        }
      },
      "execution_count": 108,
      "outputs": [
        {
          "output_type": "execute_result",
          "data": {
            "text/plain": [
              "<tf.Tensor: shape=(), dtype=int32, numpy=1048576>"
            ]
          },
          "metadata": {},
          "execution_count": 108
        }
      ]
    },
    {
      "cell_type": "code",
      "source": [
        "A_10, A_10_size  = rank_r_approx(s, U, V, 10, verbose = True)"
      ],
      "metadata": {
        "id": "3eNtQrIu3de8",
        "outputId": "4d9ad71b-56ce-46d2-ec8b-77316787dda8",
        "colab": {
          "base_uri": "https://localhost:8080/"
        }
      },
      "execution_count": 109,
      "outputs": [
        {
          "output_type": "stream",
          "name": "stdout",
          "text": [
            "Approximation Size: 20490\n"
          ]
        }
      ]
    },
    {
      "cell_type": "code",
      "source": [
        "A_10.shape"
      ],
      "metadata": {
        "id": "xNWnhUzV3_A1",
        "outputId": "2c5b6e27-277d-406b-9717-1e7eaef02f77",
        "colab": {
          "base_uri": "https://localhost:8080/"
        }
      },
      "execution_count": 110,
      "outputs": [
        {
          "output_type": "execute_result",
          "data": {
            "text/plain": [
              "TensorShape([1024, 1024])"
            ]
          },
          "metadata": {},
          "execution_count": 110
        }
      ]
    },
    {
      "cell_type": "code",
      "source": [
        "A_10"
      ],
      "metadata": {
        "id": "yLMTUR9J6CUa",
        "outputId": "776fca65-2436-4cda-f37e-7586b5915999",
        "colab": {
          "base_uri": "https://localhost:8080/"
        }
      },
      "execution_count": 111,
      "outputs": [
        {
          "output_type": "execute_result",
          "data": {
            "text/plain": [
              "<tf.Tensor: shape=(1024, 1024), dtype=float32, numpy=\n",
              "array([[ 8.58276710e-03, -1.46560371e-02, -1.68197062e-02, ...,\n",
              "         2.82411948e-02,  1.07880663e-02,  1.45007642e-02],\n",
              "       [-1.31638860e-02, -1.20625915e-02, -2.33423319e-02, ...,\n",
              "        -2.35342290e-02, -1.10373730e-02, -1.59793894e-03],\n",
              "       [-8.47995543e-05, -7.53484294e-03, -1.41212456e-02, ...,\n",
              "         3.09202168e-03, -2.77012750e-03, -9.30951163e-03],\n",
              "       ...,\n",
              "       [-2.05020532e-02,  1.59101635e-02, -2.70265192e-02, ...,\n",
              "        -7.23445565e-02,  2.10185628e-02,  4.11602715e-03],\n",
              "       [-5.37080280e-02, -2.66314633e-02,  7.24346889e-03, ...,\n",
              "        -7.23579451e-02,  1.36814709e-03, -2.36150771e-02],\n",
              "       [-2.12653838e-02, -1.22296214e-02,  4.48545180e-02, ...,\n",
              "         2.44082510e-03, -3.73425148e-02, -2.47329334e-03]], dtype=float32)>"
            ]
          },
          "metadata": {},
          "execution_count": 111
        }
      ]
    },
    {
      "cell_type": "code",
      "source": [
        "baseline.layers[2].get_weights()[0]"
      ],
      "metadata": {
        "id": "xk-31CoC6ts-",
        "outputId": "e297aa58-fd3a-4c10-ff6f-48b745756722",
        "colab": {
          "base_uri": "https://localhost:8080/"
        }
      },
      "execution_count": 112,
      "outputs": [
        {
          "output_type": "execute_result",
          "data": {
            "text/plain": [
              "array([[ 0.04147477, -0.04297014,  0.01650734, ..., -0.00344087,\n",
              "        -0.00032141,  0.04433878],\n",
              "       [-0.00768789,  0.00075719,  0.04130481, ..., -0.01158604,\n",
              "         0.06521795, -0.03428532],\n",
              "       [ 0.03143325, -0.03816259, -0.0555243 , ..., -0.00832305,\n",
              "         0.03612668, -0.03685714],\n",
              "       ...,\n",
              "       [-0.09021768,  0.01226015, -0.09118644, ..., -0.08706104,\n",
              "         0.11366595, -0.02852068],\n",
              "       [-0.09176303, -0.01390115, -0.04507038, ..., -0.04366718,\n",
              "         0.00597748, -0.06752308],\n",
              "       [-0.05622025, -0.03835107,  0.01046084, ...,  0.07575639,\n",
              "         0.00369204, -0.02010996]], dtype=float32)"
            ]
          },
          "metadata": {},
          "execution_count": 112
        }
      ]
    },
    {
      "cell_type": "code",
      "source": [],
      "metadata": {
        "id": "X_ka1C3J6pgw"
      },
      "execution_count": null,
      "outputs": []
    }
  ]
}