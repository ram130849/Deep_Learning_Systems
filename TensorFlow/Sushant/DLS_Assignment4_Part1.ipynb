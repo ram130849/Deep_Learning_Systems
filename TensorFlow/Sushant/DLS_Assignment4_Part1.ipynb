{
  "nbformat": 4,
  "nbformat_minor": 0,
  "metadata": {
    "colab": {
      "provenance": [],
      "authorship_tag": "ABX9TyO8h/AwvnzfYbews8F9KIex",
      "include_colab_link": true
    },
    "kernelspec": {
      "name": "python3",
      "display_name": "Python 3"
    },
    "language_info": {
      "name": "python"
    },
    "gpuClass": "premium",
    "accelerator": "GPU"
  },
  "cells": [
    {
      "cell_type": "markdown",
      "metadata": {
        "id": "view-in-github",
        "colab_type": "text"
      },
      "source": [
        "<a href=\"https://colab.research.google.com/github/ram130849/Deep_Learning_Systems_Assignments/blob/main/TensorFlow/Sushant/DLS_Assignment4_Part1.ipynb\" target=\"_parent\"><img src=\"https://colab.research.google.com/assets/colab-badge.svg\" alt=\"Open In Colab\"/></a>"
      ]
    },
    {
      "cell_type": "code",
      "execution_count": 1,
      "metadata": {
        "id": "BUXU75MIGK9p"
      },
      "outputs": [],
      "source": [
        "import numpy as np\n",
        "import pandas as pd\n",
        "import matplotlib.pyplot as plt\n",
        "import seaborn as sns\n",
        "import tensorflow as tf\n",
        "import timeit\n",
        "from tensorflow.keras.utils import to_categorical\n",
        "from tensorflow import keras\n",
        "from tensorflow.keras import layers\n",
        "from tensorflow.keras.layers import Flatten\n",
        "from keras.models import Model\n",
        "from sklearn.decomposition import PCA\n",
        "from sklearn.manifold import TSNE"
      ]
    },
    {
      "cell_type": "markdown",
      "source": [
        "### Allocating and Checking the GPU"
      ],
      "metadata": {
        "id": "GhWpSE07Hzjb"
      }
    },
    {
      "cell_type": "code",
      "source": [
        "device_name = tf.test.gpu_device_name()\n",
        "if device_name != '/device:GPU:0':\n",
        "  raise SystemError('GPU device not found')\n",
        "print('Found GPU at: {}'.format(device_name))"
      ],
      "metadata": {
        "colab": {
          "base_uri": "https://localhost:8080/"
        },
        "id": "fFHLm5r3Gc3F",
        "outputId": "07a2bc6c-d8aa-4263-ea96-3507d168eee7"
      },
      "execution_count": 2,
      "outputs": [
        {
          "output_type": "stream",
          "name": "stdout",
          "text": [
            "Found GPU at: /device:GPU:0\n"
          ]
        }
      ]
    },
    {
      "cell_type": "code",
      "source": [
        "device_name = tf.test.gpu_device_name()\n",
        "if device_name != '/device:GPU:0':\n",
        "  print(\n",
        "      '\\n\\nThis error most likely means that this notebook is not '\n",
        "      'configured to use a GPU.  Change this in Notebook Settings via the '\n",
        "      'command palette (cmd/ctrl-shift-P) or the Edit menu.\\n\\n')\n",
        "  raise SystemError('GPU device not found')\n",
        "\n",
        "def cpu():\n",
        "  with tf.device('/cpu:0'):\n",
        "    random_image_cpu = tf.random.normal((100, 100, 100, 3))\n",
        "    net_cpu = tf.keras.layers.Conv2D(32, 7)(random_image_cpu)\n",
        "    return tf.math.reduce_sum(net_cpu)\n",
        "\n",
        "def gpu():\n",
        "  with tf.device('/device:GPU:0'):\n",
        "    random_image_gpu = tf.random.normal((100, 100, 100, 3))\n",
        "    net_gpu = tf.keras.layers.Conv2D(32, 7)(random_image_gpu)\n",
        "    return tf.math.reduce_sum(net_gpu)\n",
        "  \n",
        "# We run each op once to warm up; see: https://stackoverflow.com/a/45067900\n",
        "cpu()\n",
        "gpu()\n",
        "\n",
        "# Run the op several times.\n",
        "print('Time (s) to convolve 32x7x7x3 filter over random 100x100x100x3 images '\n",
        "      '(batch x height x width x channel). Sum of ten runs.')\n",
        "print('CPU (s):')\n",
        "cpu_time = timeit.timeit('cpu()', number=10, setup=\"from __main__ import cpu\")\n",
        "print(cpu_time)\n",
        "print('GPU (s):')\n",
        "gpu_time = timeit.timeit('gpu()', number=10, setup=\"from __main__ import gpu\")\n",
        "print(gpu_time)\n",
        "print('GPU speedup over CPU: {}x'.format(int(cpu_time/gpu_time)))"
      ],
      "metadata": {
        "colab": {
          "base_uri": "https://localhost:8080/"
        },
        "id": "7AJLylEvGfko",
        "outputId": "c0da7e07-3f76-402b-be42-3c5c088fffae"
      },
      "execution_count": 3,
      "outputs": [
        {
          "output_type": "stream",
          "name": "stdout",
          "text": [
            "Time (s) to convolve 32x7x7x3 filter over random 100x100x100x3 images (batch x height x width x channel). Sum of ten runs.\n",
            "CPU (s):\n",
            "0.41343161400001804\n",
            "GPU (s):\n",
            "0.039932116000017004\n",
            "GPU speedup over CPU: 10x\n"
          ]
        }
      ]
    },
    {
      "cell_type": "markdown",
      "source": [
        "### Loading the MNIST Dataset"
      ],
      "metadata": {
        "id": "PuzLBkzoHhVF"
      }
    },
    {
      "cell_type": "code",
      "source": [
        "mnist = tf.keras.datasets.mnist"
      ],
      "metadata": {
        "id": "UldLrmesGuRS"
      },
      "execution_count": 4,
      "outputs": []
    },
    {
      "cell_type": "code",
      "source": [
        "(train_images, train_labels) , (test_images, test_labels) = mnist.load_data()"
      ],
      "metadata": {
        "colab": {
          "base_uri": "https://localhost:8080/"
        },
        "id": "T2-wVimQGx2p",
        "outputId": "a34e7cf8-f364-4e31-e46c-8bd97467672f"
      },
      "execution_count": 5,
      "outputs": [
        {
          "output_type": "stream",
          "name": "stdout",
          "text": [
            "Downloading data from https://storage.googleapis.com/tensorflow/tf-keras-datasets/mnist.npz\n",
            "11490434/11490434 [==============================] - 0s 0us/step\n"
          ]
        }
      ]
    },
    {
      "cell_type": "code",
      "source": [
        "#Lets look at the training data\n",
        "print(\"Training Images Shape: \",train_images.shape)\n",
        "print(\"Training Labels: \",train_labels)\n",
        "\n",
        "#Lets look at the testing data\n",
        "print(\"Testing Images Shape: \",test_images.shape)\n",
        "print(\"Testing Labels: \",test_labels)"
      ],
      "metadata": {
        "colab": {
          "base_uri": "https://localhost:8080/"
        },
        "id": "swgsIHK7G0Xc",
        "outputId": "6cb6a97e-9ed6-4522-d06a-608588c0972a"
      },
      "execution_count": 6,
      "outputs": [
        {
          "output_type": "stream",
          "name": "stdout",
          "text": [
            "Training Images Shape:  (60000, 28, 28)\n",
            "Training Labels:  [5 0 4 ... 5 6 8]\n",
            "Testing Images Shape:  (10000, 28, 28)\n",
            "Testing Labels:  [7 2 1 ... 4 5 6]\n"
          ]
        }
      ]
    },
    {
      "cell_type": "markdown",
      "source": [
        "### Creating the Baseline Model"
      ],
      "metadata": {
        "id": "3fgM5Y6KHlez"
      }
    },
    {
      "cell_type": "code",
      "source": [
        "baseline = keras.Sequential([\n",
        "    layers.Flatten(input_shape=(28, 28)),\n",
        "    layers.Dense(1024, activation='relu', name='first_layer',kernel_initializer=keras.initializers.GlorotNormal()),\n",
        "    layers.Dense(1024, activation='relu', name='second_layer',kernel_initializer=keras.initializers.GlorotNormal()),\n",
        "    layers.Dense(1024, activation='relu', name='third_layer',kernel_initializer=keras.initializers.GlorotNormal()),\n",
        "    layers.Dense(1024, activation='relu', name='fourth_layer',kernel_initializer=keras.initializers.GlorotNormal()),\n",
        "    layers.Dense(1024, activation='relu', name=\"fifth_layser\",kernel_initializer=keras.initializers.GlorotNormal()),\n",
        "    layers.Dense(10, activation='softmax')\n",
        "])\n",
        "print(baseline.summary())"
      ],
      "metadata": {
        "colab": {
          "base_uri": "https://localhost:8080/"
        },
        "id": "efR2rbkqG2l4",
        "outputId": "9582ab21-67b0-4953-d193-18d15d3fc862"
      },
      "execution_count": 17,
      "outputs": [
        {
          "output_type": "stream",
          "name": "stdout",
          "text": [
            "Model: \"sequential_2\"\n",
            "_________________________________________________________________\n",
            " Layer (type)                Output Shape              Param #   \n",
            "=================================================================\n",
            " flatten_2 (Flatten)         (None, 784)               0         \n",
            "                                                                 \n",
            " first_layer (Dense)         (None, 1024)              803840    \n",
            "                                                                 \n",
            " second_layer (Dense)        (None, 1024)              1049600   \n",
            "                                                                 \n",
            " third_layer (Dense)         (None, 1024)              1049600   \n",
            "                                                                 \n",
            " fourth_layer (Dense)        (None, 1024)              1049600   \n",
            "                                                                 \n",
            " fifth_layser (Dense)        (None, 1024)              1049600   \n",
            "                                                                 \n",
            " dense_2 (Dense)             (None, 10)                10250     \n",
            "                                                                 \n",
            "=================================================================\n",
            "Total params: 5,012,490\n",
            "Trainable params: 5,012,490\n",
            "Non-trainable params: 0\n",
            "_________________________________________________________________\n",
            "None\n"
          ]
        }
      ]
    },
    {
      "cell_type": "code",
      "source": [
        "baseline.compile(\n",
        "    optimizer=tf.keras.optimizers.Adam(),\n",
        "    loss=tf.keras.losses.SparseCategoricalCrossentropy(from_logits=True),\n",
        "    metrics=[tf.keras.metrics.SparseCategoricalAccuracy()],\n",
        ")"
      ],
      "metadata": {
        "id": "lne2vbXKG8r2"
      },
      "execution_count": 18,
      "outputs": []
    },
    {
      "cell_type": "markdown",
      "source": [
        "### Training the Baseline Model"
      ],
      "metadata": {
        "id": "DHaXVclPHqtr"
      }
    },
    {
      "cell_type": "code",
      "source": [
        "history_baseline = baseline.fit(train_images , train_labels ,epochs = 30, batch_size = 256)"
      ],
      "metadata": {
        "colab": {
          "base_uri": "https://localhost:8080/"
        },
        "id": "QyM_ULAlHAtn",
        "outputId": "bad18088-5516-4e6a-a1a5-0fb44e379ec9"
      },
      "execution_count": 19,
      "outputs": [
        {
          "output_type": "stream",
          "name": "stdout",
          "text": [
            "Epoch 1/30\n"
          ]
        },
        {
          "output_type": "stream",
          "name": "stderr",
          "text": [
            "/usr/local/lib/python3.7/dist-packages/tensorflow/python/util/dispatch.py:1082: UserWarning: \"`sparse_categorical_crossentropy` received `from_logits=True`, but the `output` argument was produced by a sigmoid or softmax activation and thus does not represent logits. Was this intended?\"\n",
            "  return dispatch_target(*args, **kwargs)\n"
          ]
        },
        {
          "output_type": "stream",
          "name": "stdout",
          "text": [
            "235/235 [==============================] - 1s 3ms/step - loss: 3.3367 - sparse_categorical_accuracy: 0.8655\n",
            "Epoch 2/30\n",
            "235/235 [==============================] - 1s 3ms/step - loss: 0.1149 - sparse_categorical_accuracy: 0.9647\n",
            "Epoch 3/30\n",
            "235/235 [==============================] - 1s 3ms/step - loss: 0.0728 - sparse_categorical_accuracy: 0.9768\n",
            "Epoch 4/30\n",
            "235/235 [==============================] - 1s 3ms/step - loss: 0.0583 - sparse_categorical_accuracy: 0.9811\n",
            "Epoch 5/30\n",
            "235/235 [==============================] - 1s 3ms/step - loss: 0.0528 - sparse_categorical_accuracy: 0.9835\n",
            "Epoch 6/30\n",
            "235/235 [==============================] - 1s 3ms/step - loss: 0.0459 - sparse_categorical_accuracy: 0.9848\n",
            "Epoch 7/30\n",
            "235/235 [==============================] - 1s 3ms/step - loss: 0.0408 - sparse_categorical_accuracy: 0.9872\n",
            "Epoch 8/30\n",
            "235/235 [==============================] - 1s 3ms/step - loss: 0.0325 - sparse_categorical_accuracy: 0.9893\n",
            "Epoch 9/30\n",
            "235/235 [==============================] - 1s 3ms/step - loss: 0.0374 - sparse_categorical_accuracy: 0.9885\n",
            "Epoch 10/30\n",
            "235/235 [==============================] - 1s 3ms/step - loss: 0.0330 - sparse_categorical_accuracy: 0.9893\n",
            "Epoch 11/30\n",
            "235/235 [==============================] - 1s 3ms/step - loss: 0.0330 - sparse_categorical_accuracy: 0.9900\n",
            "Epoch 12/30\n",
            "235/235 [==============================] - 1s 3ms/step - loss: 0.0229 - sparse_categorical_accuracy: 0.9931\n",
            "Epoch 13/30\n",
            "235/235 [==============================] - 1s 3ms/step - loss: 0.0307 - sparse_categorical_accuracy: 0.9910\n",
            "Epoch 14/30\n",
            "235/235 [==============================] - 1s 3ms/step - loss: 0.0319 - sparse_categorical_accuracy: 0.9907\n",
            "Epoch 15/30\n",
            "235/235 [==============================] - 1s 3ms/step - loss: 0.0294 - sparse_categorical_accuracy: 0.9916\n",
            "Epoch 16/30\n",
            "235/235 [==============================] - 1s 3ms/step - loss: 0.0268 - sparse_categorical_accuracy: 0.9919\n",
            "Epoch 17/30\n",
            "235/235 [==============================] - 1s 3ms/step - loss: 0.0299 - sparse_categorical_accuracy: 0.9912\n",
            "Epoch 18/30\n",
            "235/235 [==============================] - 1s 3ms/step - loss: 0.0332 - sparse_categorical_accuracy: 0.9903\n",
            "Epoch 19/30\n",
            "235/235 [==============================] - 1s 3ms/step - loss: 0.0285 - sparse_categorical_accuracy: 0.9915\n",
            "Epoch 20/30\n",
            "235/235 [==============================] - 1s 3ms/step - loss: 0.0224 - sparse_categorical_accuracy: 0.9937\n",
            "Epoch 21/30\n",
            "235/235 [==============================] - 1s 3ms/step - loss: 0.0293 - sparse_categorical_accuracy: 0.9923\n",
            "Epoch 22/30\n",
            "235/235 [==============================] - 1s 3ms/step - loss: 0.0177 - sparse_categorical_accuracy: 0.9950\n",
            "Epoch 23/30\n",
            "235/235 [==============================] - 1s 3ms/step - loss: 0.0222 - sparse_categorical_accuracy: 0.9937\n",
            "Epoch 24/30\n",
            "235/235 [==============================] - 1s 3ms/step - loss: 0.0189 - sparse_categorical_accuracy: 0.9944\n",
            "Epoch 25/30\n",
            "235/235 [==============================] - 1s 3ms/step - loss: 0.0232 - sparse_categorical_accuracy: 0.9937\n",
            "Epoch 26/30\n",
            "235/235 [==============================] - 1s 3ms/step - loss: 0.0294 - sparse_categorical_accuracy: 0.9921\n",
            "Epoch 27/30\n",
            "235/235 [==============================] - 1s 3ms/step - loss: 0.0195 - sparse_categorical_accuracy: 0.9948\n",
            "Epoch 28/30\n",
            "235/235 [==============================] - 1s 3ms/step - loss: 0.0200 - sparse_categorical_accuracy: 0.9946\n",
            "Epoch 29/30\n",
            "235/235 [==============================] - 1s 3ms/step - loss: 0.0217 - sparse_categorical_accuracy: 0.9945\n",
            "Epoch 30/30\n",
            "235/235 [==============================] - 1s 3ms/step - loss: 0.0200 - sparse_categorical_accuracy: 0.9947\n"
          ]
        }
      ]
    },
    {
      "cell_type": "code",
      "source": [
        "evaluation = baseline.evaluate(test_images , test_labels)"
      ],
      "metadata": {
        "colab": {
          "base_uri": "https://localhost:8080/"
        },
        "id": "Ywq5P6gVHUbB",
        "outputId": "b16ac0b0-5142-4b7e-8b27-261dfedf6161"
      },
      "execution_count": 20,
      "outputs": [
        {
          "output_type": "stream",
          "name": "stdout",
          "text": [
            "313/313 [==============================] - 1s 2ms/step - loss: 0.1063 - sparse_categorical_accuracy: 0.9805\n"
          ]
        }
      ]
    },
    {
      "cell_type": "markdown",
      "source": [
        "### Saving the Baseline Model"
      ],
      "metadata": {
        "id": "-BogEabQRsA8"
      }
    },
    {
      "cell_type": "code",
      "source": [
        "from google.colab import drive\n",
        "drive.mount('/content/drive')"
      ],
      "metadata": {
        "id": "MXE69lNoQUUj",
        "outputId": "f9129069-f024-4a4c-f30d-44efab5561b1",
        "colab": {
          "base_uri": "https://localhost:8080/"
        }
      },
      "execution_count": 22,
      "outputs": [
        {
          "output_type": "stream",
          "name": "stdout",
          "text": [
            "Mounted at /content/drive\n"
          ]
        }
      ]
    },
    {
      "cell_type": "code",
      "source": [
        "model_path = '/content/drive/MyDrive/DLS_Assignments/Models/assign4_part1_baseline.h5'\n",
        "baseline.save(model_path)"
      ],
      "metadata": {
        "id": "HPPay2CPRvC1"
      },
      "execution_count": 25,
      "outputs": []
    },
    {
      "cell_type": "code",
      "source": [],
      "metadata": {
        "id": "LMRoeohpSKIl"
      },
      "execution_count": null,
      "outputs": []
    }
  ]
}