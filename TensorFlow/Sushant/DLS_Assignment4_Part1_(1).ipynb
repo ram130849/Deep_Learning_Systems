{
  "nbformat": 4,
  "nbformat_minor": 0,
  "metadata": {
    "colab": {
      "provenance": [],
      "toc_visible": true,
      "include_colab_link": true
    },
    "kernelspec": {
      "name": "python3",
      "display_name": "Python 3"
    },
    "language_info": {
      "name": "python"
    },
    "gpuClass": "premium",
    "accelerator": "GPU"
  },
  "cells": [
    {
      "cell_type": "markdown",
      "metadata": {
        "id": "view-in-github",
        "colab_type": "text"
      },
      "source": [
        "<a href=\"https://colab.research.google.com/github/ram130849/Deep_Learning_Systems_Assignments/blob/main/TensorFlow/Sushant/DLS_Assignment4_Part1_(1).ipynb\" target=\"_parent\"><img src=\"https://colab.research.google.com/assets/colab-badge.svg\" alt=\"Open In Colab\"/></a>"
      ]
    },
    {
      "cell_type": "code",
      "execution_count": null,
      "metadata": {
        "id": "BUXU75MIGK9p"
      },
      "outputs": [],
      "source": [
        "import numpy as np\n",
        "import pandas as pd\n",
        "import matplotlib.pyplot as plt\n",
        "import seaborn as sns\n",
        "import tensorflow as tf\n",
        "import timeit\n",
        "from tensorflow.keras.utils import to_categorical\n",
        "from tensorflow import keras\n",
        "from tensorflow.keras import layers\n",
        "from tensorflow.keras.layers import Flatten\n",
        "from keras.models import Model\n",
        "from sklearn.decomposition import PCA\n",
        "from sklearn.manifold import TSNE"
      ]
    },
    {
      "cell_type": "markdown",
      "source": [
        "### Allocating and Checking the GPU"
      ],
      "metadata": {
        "id": "GhWpSE07Hzjb"
      }
    },
    {
      "cell_type": "code",
      "source": [
        "device_name = tf.test.gpu_device_name()\n",
        "if device_name != '/device:GPU:0':\n",
        "  raise SystemError('GPU device not found')\n",
        "print('Found GPU at: {}'.format(device_name))"
      ],
      "metadata": {
        "colab": {
          "base_uri": "https://localhost:8080/"
        },
        "id": "fFHLm5r3Gc3F",
        "outputId": "102764ae-6e10-4a99-8383-7305b7cd8334"
      },
      "execution_count": null,
      "outputs": [
        {
          "output_type": "stream",
          "name": "stdout",
          "text": [
            "Found GPU at: /device:GPU:0\n"
          ]
        }
      ]
    },
    {
      "cell_type": "code",
      "source": [
        "device_name = tf.test.gpu_device_name()\n",
        "if device_name != '/device:GPU:0':\n",
        "  print(\n",
        "      '\\n\\nThis error most likely means that this notebook is not '\n",
        "      'configured to use a GPU.  Change this in Notebook Settings via the '\n",
        "      'command palette (cmd/ctrl-shift-P) or the Edit menu.\\n\\n')\n",
        "  raise SystemError('GPU device not found')\n",
        "\n",
        "def cpu():\n",
        "  with tf.device('/cpu:0'):\n",
        "    random_image_cpu = tf.random.normal((100, 100, 100, 3))\n",
        "    net_cpu = tf.keras.layers.Conv2D(32, 7)(random_image_cpu)\n",
        "    return tf.math.reduce_sum(net_cpu)\n",
        "\n",
        "def gpu():\n",
        "  with tf.device('/device:GPU:0'):\n",
        "    random_image_gpu = tf.random.normal((100, 100, 100, 3))\n",
        "    net_gpu = tf.keras.layers.Conv2D(32, 7)(random_image_gpu)\n",
        "    return tf.math.reduce_sum(net_gpu)\n",
        "  \n",
        "# We run each op once to warm up; see: https://stackoverflow.com/a/45067900\n",
        "cpu()\n",
        "gpu()\n",
        "\n",
        "# Run the op several times.\n",
        "print('Time (s) to convolve 32x7x7x3 filter over random 100x100x100x3 images '\n",
        "      '(batch x height x width x channel). Sum of ten runs.')\n",
        "print('CPU (s):')\n",
        "cpu_time = timeit.timeit('cpu()', number=10, setup=\"from __main__ import cpu\")\n",
        "print(cpu_time)\n",
        "print('GPU (s):')\n",
        "gpu_time = timeit.timeit('gpu()', number=10, setup=\"from __main__ import gpu\")\n",
        "print(gpu_time)\n",
        "print('GPU speedup over CPU: {}x'.format(int(cpu_time/gpu_time)))"
      ],
      "metadata": {
        "colab": {
          "base_uri": "https://localhost:8080/"
        },
        "id": "7AJLylEvGfko",
        "outputId": "0e34d2a0-dc18-4eab-e042-2ba66130935a"
      },
      "execution_count": null,
      "outputs": [
        {
          "output_type": "stream",
          "name": "stdout",
          "text": [
            "Time (s) to convolve 32x7x7x3 filter over random 100x100x100x3 images (batch x height x width x channel). Sum of ten runs.\n",
            "CPU (s):\n",
            "3.1674734650000005\n",
            "GPU (s):\n",
            "0.039785835000003544\n",
            "GPU speedup over CPU: 79x\n"
          ]
        }
      ]
    },
    {
      "cell_type": "markdown",
      "source": [
        "### Loading the MNIST Dataset"
      ],
      "metadata": {
        "id": "PuzLBkzoHhVF"
      }
    },
    {
      "cell_type": "code",
      "source": [
        "mnist = tf.keras.datasets.mnist"
      ],
      "metadata": {
        "id": "UldLrmesGuRS"
      },
      "execution_count": null,
      "outputs": []
    },
    {
      "cell_type": "code",
      "source": [
        "(train_images, train_labels) , (test_images, test_labels) = mnist.load_data()"
      ],
      "metadata": {
        "colab": {
          "base_uri": "https://localhost:8080/"
        },
        "id": "T2-wVimQGx2p",
        "outputId": "abdce3a7-eef7-4508-f6b4-32a37c83c128"
      },
      "execution_count": null,
      "outputs": [
        {
          "output_type": "stream",
          "name": "stdout",
          "text": [
            "Downloading data from https://storage.googleapis.com/tensorflow/tf-keras-datasets/mnist.npz\n",
            "11490434/11490434 [==============================] - 1s 0us/step\n"
          ]
        }
      ]
    },
    {
      "cell_type": "code",
      "source": [
        "#Lets look at the training data\n",
        "print(\"Training Images Shape: \",train_images.shape)\n",
        "print(\"Training Labels: \",train_labels)\n",
        "\n",
        "\n",
        "#Lets look at the testing data\n",
        "print(\"Testing Images Shape: \",test_images.shape)\n",
        "print(\"Testing Labels: \",test_labels)"
      ],
      "metadata": {
        "colab": {
          "base_uri": "https://localhost:8080/"
        },
        "id": "swgsIHK7G0Xc",
        "outputId": "58336732-18ed-4e2b-b404-df3215c00075"
      },
      "execution_count": null,
      "outputs": [
        {
          "output_type": "stream",
          "name": "stdout",
          "text": [
            "Training Images Shape:  (60000, 28, 28)\n",
            "Training Labels:  [5 0 4 ... 5 6 8]\n",
            "Testing Images Shape:  (10000, 28, 28)\n",
            "Testing Labels:  [7 2 1 ... 4 5 6]\n"
          ]
        }
      ]
    },
    {
      "cell_type": "markdown",
      "source": [
        "### Normalizing the Images"
      ],
      "metadata": {
        "id": "Mbfouc7kazyD"
      }
    },
    {
      "cell_type": "code",
      "source": [
        "train_images = train_images.astype('float32')\n",
        "test_images = test_images.astype('float32')\n",
        "train_images/=255\n",
        "test_images/=255"
      ],
      "metadata": {
        "id": "hyZVysYbaIYS"
      },
      "execution_count": null,
      "outputs": []
    },
    {
      "cell_type": "markdown",
      "source": [
        "### Creating the Baseline Model"
      ],
      "metadata": {
        "id": "3fgM5Y6KHlez"
      }
    },
    {
      "cell_type": "code",
      "source": [
        "baseline = keras.Sequential([\n",
        "    layers.Flatten(input_shape=(28, 28)),\n",
        "    layers.Dense(1024, activation='relu', name='first_layer',kernel_initializer=keras.initializers.GlorotNormal()),\n",
        "    layers.Dense(1024, activation='relu', name='second_layer',kernel_initializer=keras.initializers.GlorotNormal()),\n",
        "    layers.Dense(1024, activation='relu', name='third_layer',kernel_initializer=keras.initializers.GlorotNormal()),\n",
        "    layers.Dense(1024, activation='relu', name='fourth_layer',kernel_initializer=keras.initializers.GlorotNormal()),\n",
        "    layers.Dense(1024, activation='relu', name=\"fifth_layser\",kernel_initializer=keras.initializers.GlorotNormal()),\n",
        "    layers.Dense(10, name='output' ,activation='softmax',kernel_initializer=keras.initializers.GlorotNormal())\n",
        "])\n",
        "print(baseline.summary())"
      ],
      "metadata": {
        "colab": {
          "base_uri": "https://localhost:8080/"
        },
        "id": "efR2rbkqG2l4",
        "outputId": "526dae06-29da-4883-c2dc-bd77e68715c2"
      },
      "execution_count": null,
      "outputs": [
        {
          "output_type": "stream",
          "name": "stdout",
          "text": [
            "Model: \"sequential_2\"\n",
            "_________________________________________________________________\n",
            " Layer (type)                Output Shape              Param #   \n",
            "=================================================================\n",
            " flatten_2 (Flatten)         (None, 784)               0         \n",
            "                                                                 \n",
            " first_layer (Dense)         (None, 1024)              803840    \n",
            "                                                                 \n",
            " second_layer (Dense)        (None, 1024)              1049600   \n",
            "                                                                 \n",
            " third_layer (Dense)         (None, 1024)              1049600   \n",
            "                                                                 \n",
            " fourth_layer (Dense)        (None, 1024)              1049600   \n",
            "                                                                 \n",
            " fifth_layser (Dense)        (None, 1024)              1049600   \n",
            "                                                                 \n",
            " output (Dense)              (None, 10)                10250     \n",
            "                                                                 \n",
            "=================================================================\n",
            "Total params: 5,012,490\n",
            "Trainable params: 5,012,490\n",
            "Non-trainable params: 0\n",
            "_________________________________________________________________\n",
            "None\n"
          ]
        }
      ]
    },
    {
      "cell_type": "code",
      "source": [
        "baseline.compile(\n",
        "    optimizer=tf.keras.optimizers.Adam(),\n",
        "    loss=tf.keras.losses.SparseCategoricalCrossentropy(from_logits=False),\n",
        "    metrics=[tf.keras.metrics.SparseCategoricalAccuracy()],\n",
        ")"
      ],
      "metadata": {
        "id": "lne2vbXKG8r2"
      },
      "execution_count": null,
      "outputs": []
    },
    {
      "cell_type": "code",
      "source": [
        "history_baseline = baseline.fit(train_images , train_labels ,epochs = 30, batch_size = 256)"
      ],
      "metadata": {
        "colab": {
          "base_uri": "https://localhost:8080/"
        },
        "id": "QyM_ULAlHAtn",
        "outputId": "51e0a87b-621a-4749-ea5b-1d1fab7ca5a9"
      },
      "execution_count": null,
      "outputs": [
        {
          "output_type": "stream",
          "name": "stdout",
          "text": [
            "Epoch 1/30\n",
            "235/235 [==============================] - 2s 6ms/step - loss: 0.2322 - sparse_categorical_accuracy: 0.9290\n",
            "Epoch 2/30\n",
            "235/235 [==============================] - 1s 5ms/step - loss: 0.0889 - sparse_categorical_accuracy: 0.9736\n",
            "Epoch 3/30\n",
            "235/235 [==============================] - 1s 5ms/step - loss: 0.0611 - sparse_categorical_accuracy: 0.9818\n",
            "Epoch 4/30\n",
            "235/235 [==============================] - 1s 5ms/step - loss: 0.0473 - sparse_categorical_accuracy: 0.9856\n",
            "Epoch 5/30\n",
            "235/235 [==============================] - 1s 5ms/step - loss: 0.0371 - sparse_categorical_accuracy: 0.9890\n",
            "Epoch 6/30\n",
            "235/235 [==============================] - 1s 5ms/step - loss: 0.0334 - sparse_categorical_accuracy: 0.9897\n",
            "Epoch 7/30\n",
            "235/235 [==============================] - 1s 5ms/step - loss: 0.0300 - sparse_categorical_accuracy: 0.9911\n",
            "Epoch 8/30\n",
            "235/235 [==============================] - 1s 5ms/step - loss: 0.0245 - sparse_categorical_accuracy: 0.9929\n",
            "Epoch 9/30\n",
            "235/235 [==============================] - 1s 5ms/step - loss: 0.0219 - sparse_categorical_accuracy: 0.9936\n",
            "Epoch 10/30\n",
            "235/235 [==============================] - 1s 5ms/step - loss: 0.0239 - sparse_categorical_accuracy: 0.9926\n",
            "Epoch 11/30\n",
            "235/235 [==============================] - 1s 5ms/step - loss: 0.0199 - sparse_categorical_accuracy: 0.9942\n",
            "Epoch 12/30\n",
            "235/235 [==============================] - 1s 5ms/step - loss: 0.0189 - sparse_categorical_accuracy: 0.9948\n",
            "Epoch 13/30\n",
            "235/235 [==============================] - 1s 5ms/step - loss: 0.0171 - sparse_categorical_accuracy: 0.9953\n",
            "Epoch 14/30\n",
            "235/235 [==============================] - 1s 5ms/step - loss: 0.0131 - sparse_categorical_accuracy: 0.9965\n",
            "Epoch 15/30\n",
            "235/235 [==============================] - 1s 5ms/step - loss: 0.0166 - sparse_categorical_accuracy: 0.9954\n",
            "Epoch 16/30\n",
            "235/235 [==============================] - 1s 5ms/step - loss: 0.0170 - sparse_categorical_accuracy: 0.9954\n",
            "Epoch 17/30\n",
            "235/235 [==============================] - 1s 5ms/step - loss: 0.0133 - sparse_categorical_accuracy: 0.9965\n",
            "Epoch 18/30\n",
            "235/235 [==============================] - 1s 5ms/step - loss: 0.0119 - sparse_categorical_accuracy: 0.9967\n",
            "Epoch 19/30\n",
            "235/235 [==============================] - 1s 5ms/step - loss: 0.0138 - sparse_categorical_accuracy: 0.9963\n",
            "Epoch 20/30\n",
            "235/235 [==============================] - 1s 5ms/step - loss: 0.0144 - sparse_categorical_accuracy: 0.9962\n",
            "Epoch 21/30\n",
            "235/235 [==============================] - 1s 5ms/step - loss: 0.0114 - sparse_categorical_accuracy: 0.9967\n",
            "Epoch 22/30\n",
            "235/235 [==============================] - 1s 5ms/step - loss: 0.0144 - sparse_categorical_accuracy: 0.9963\n",
            "Epoch 23/30\n",
            "235/235 [==============================] - 1s 5ms/step - loss: 0.0134 - sparse_categorical_accuracy: 0.9967\n",
            "Epoch 24/30\n",
            "235/235 [==============================] - 1s 5ms/step - loss: 0.0114 - sparse_categorical_accuracy: 0.9974\n",
            "Epoch 25/30\n",
            "235/235 [==============================] - 1s 5ms/step - loss: 0.0110 - sparse_categorical_accuracy: 0.9976\n",
            "Epoch 26/30\n",
            "235/235 [==============================] - 1s 5ms/step - loss: 0.0121 - sparse_categorical_accuracy: 0.9975\n",
            "Epoch 27/30\n",
            "235/235 [==============================] - 1s 5ms/step - loss: 0.0081 - sparse_categorical_accuracy: 0.9978\n",
            "Epoch 28/30\n",
            "235/235 [==============================] - 1s 5ms/step - loss: 0.0111 - sparse_categorical_accuracy: 0.9977\n",
            "Epoch 29/30\n",
            "235/235 [==============================] - 1s 5ms/step - loss: 0.0100 - sparse_categorical_accuracy: 0.9976\n",
            "Epoch 30/30\n",
            "235/235 [==============================] - 1s 5ms/step - loss: 0.0111 - sparse_categorical_accuracy: 0.9973\n"
          ]
        }
      ]
    },
    {
      "cell_type": "code",
      "source": [
        "evaluation = baseline.evaluate(test_images , test_labels)"
      ],
      "metadata": {
        "colab": {
          "base_uri": "https://localhost:8080/"
        },
        "id": "X07wMxppWBXh",
        "outputId": "218be0f5-f4ef-431e-d8d6-c71722e22350"
      },
      "execution_count": null,
      "outputs": [
        {
          "output_type": "stream",
          "name": "stdout",
          "text": [
            "313/313 [==============================] - 1s 3ms/step - loss: 0.1151 - sparse_categorical_accuracy: 0.9809\n"
          ]
        }
      ]
    },
    {
      "cell_type": "markdown",
      "source": [
        "### Saving the Baseline Model"
      ],
      "metadata": {
        "id": "-BogEabQRsA8"
      }
    },
    {
      "cell_type": "code",
      "source": [
        "from google.colab import drive\n",
        "drive.mount('/content/drive')"
      ],
      "metadata": {
        "colab": {
          "base_uri": "https://localhost:8080/"
        },
        "id": "MXE69lNoQUUj",
        "outputId": "eb744872-0cd3-4e9c-f1c5-32171e84af26"
      },
      "execution_count": null,
      "outputs": [
        {
          "output_type": "stream",
          "name": "stdout",
          "text": [
            "Drive already mounted at /content/drive; to attempt to forcibly remount, call drive.mount(\"/content/drive\", force_remount=True).\n"
          ]
        }
      ]
    },
    {
      "cell_type": "code",
      "source": [
        "model_path = '/content/drive/MyDrive/DLS_Assignments/Models/assign4_part1_baseline.h5'"
      ],
      "metadata": {
        "id": "7ZisusrQRtZj"
      },
      "execution_count": null,
      "outputs": []
    },
    {
      "cell_type": "code",
      "source": [
        "#model_path = '/content/drive/MyDrive/DLS_Assignments/Models/assign4_part1_baseline.h5'\n",
        "baseline.save(model_path)"
      ],
      "metadata": {
        "id": "HPPay2CPRvC1"
      },
      "execution_count": null,
      "outputs": []
    },
    {
      "cell_type": "markdown",
      "source": [
        "### Loading the saved model"
      ],
      "metadata": {
        "id": "2aj4HgwWRLsv"
      }
    },
    {
      "cell_type": "code",
      "source": [
        "baseline = keras.models.load_model(model_path)"
      ],
      "metadata": {
        "id": "algx72uyROpT"
      },
      "execution_count": null,
      "outputs": []
    },
    {
      "cell_type": "markdown",
      "source": [
        "### Applying SVD on weight matrices of every layer"
      ],
      "metadata": {
        "id": "MMsrngPqQpQX"
      }
    },
    {
      "cell_type": "code",
      "source": [
        "D_list = [10,20,50,100,200,784]"
      ],
      "metadata": {
        "id": "We9zbdlIEADl"
      },
      "execution_count": null,
      "outputs": []
    },
    {
      "cell_type": "code",
      "source": [
        "accuracies=[]"
      ],
      "metadata": {
        "id": "1upYJSYvDWz5"
      },
      "execution_count": null,
      "outputs": []
    },
    {
      "cell_type": "code",
      "source": [
        "def rank_r_approx(s, U, V, r, verbose=False):\n",
        "  # Compute the matrices necessary for a rank-r approximation\n",
        "  #s_r, U_r, V_r = s[:r, :r], U[:, :r], V[:, :r] # ... implies any number of extra batch axes\n",
        "  # Compute the low-rank approximation and its size\n",
        "  S_r = tf.linalg.diag(s)\n",
        "  V_rT = tf.transpose(V)\n",
        "  # print(\"S_r\")\n",
        "  # print(S_r)\n",
        "  # print(S_r[:r, :r])\n",
        "  # print(\"U_r\")\n",
        "  # print(U)\n",
        "  # print(U[:, :r])\n",
        "  # print(\"V_rT\")\n",
        "  # print(V_rT)\n",
        "  # print(S_r[:r, :])\n",
        "  A_r = tf.matmul(tf.matmul(U[:, :r], S_r[:r, :r]), V_rT[:r, :])\n",
        "  #print(S_r.shape)\n",
        "  #print(U.shape)\n",
        "  #print(V_rT.shape)\n",
        "  #A_r = U_r@S_r@V_rT\n",
        "  #A_r = tf.einsum('...s,...us,...vs->...uv',s_r,U_r,V_r)\n",
        "  A_r_size = tf.size(U) + tf.size(S_r) + tf.size(V_rT)\n",
        "  if verbose:\n",
        "    print(f\"Approximation Size: {A_r_size}\")\n",
        "  return A_r"
      ],
      "metadata": {
        "id": "Km1-bBeQ28mx"
      },
      "execution_count": null,
      "outputs": []
    },
    {
      "cell_type": "markdown",
      "source": [
        "#### For D=10"
      ],
      "metadata": {
        "id": "wE6uOchKElRv"
      }
    },
    {
      "cell_type": "code",
      "source": [
        "for i in range(1,len(baseline.layers)-1):\n",
        "    weights = baseline.get_layer(index=i).get_weights()[0]\n",
        "    bias = baseline.get_layer(index=i).get_weights()[1]\n",
        "    s, U, V = tf.linalg.svd(weights)\n",
        "    weights_approx = rank_r_approx(s, U, V, 10, verbose = False)\n",
        "    baseline.get_layer(index=i).set_weights([weights_approx,bias])"
      ],
      "metadata": {
        "id": "LQlK135A8j_P"
      },
      "execution_count": null,
      "outputs": []
    },
    {
      "cell_type": "code",
      "source": [
        "test_10 = baseline.evaluate(test_images , test_labels)"
      ],
      "metadata": {
        "colab": {
          "base_uri": "https://localhost:8080/"
        },
        "id": "TcSxIGacBT9c",
        "outputId": "255a6add-f977-40cd-ee2b-b9d4156df3db"
      },
      "execution_count": null,
      "outputs": [
        {
          "output_type": "stream",
          "name": "stdout",
          "text": [
            "313/313 [==============================] - 1s 3ms/step - loss: 1.9864 - sparse_categorical_accuracy: 0.6622\n"
          ]
        }
      ]
    },
    {
      "cell_type": "code",
      "source": [
        "accuracies.append(test_10[1])"
      ],
      "metadata": {
        "id": "PJLhwAJGE3gj"
      },
      "execution_count": null,
      "outputs": []
    },
    {
      "cell_type": "markdown",
      "source": [
        "#### For D=20"
      ],
      "metadata": {
        "id": "Xq1b9gEsErcv"
      }
    },
    {
      "cell_type": "code",
      "source": [
        "baseline = keras.models.load_model(model_path)"
      ],
      "metadata": {
        "id": "CB0XeZUVHQ3Q"
      },
      "execution_count": null,
      "outputs": []
    },
    {
      "cell_type": "code",
      "source": [
        "for i in range(1,len(baseline.layers)-1):\n",
        "    weights = baseline.get_layer(index=i).get_weights()[0]\n",
        "    bias = baseline.get_layer(index=i).get_weights()[1]\n",
        "    s, U, V = tf.linalg.svd(weights)\n",
        "    weights_approx = rank_r_approx(s, U, V, 20, verbose = False)\n",
        "    baseline.get_layer(index=i).set_weights([weights_approx,bias])"
      ],
      "metadata": {
        "id": "wn9W-dPfD7qE"
      },
      "execution_count": null,
      "outputs": []
    },
    {
      "cell_type": "code",
      "source": [
        "test_20 = baseline.evaluate(test_images , test_labels)"
      ],
      "metadata": {
        "colab": {
          "base_uri": "https://localhost:8080/"
        },
        "id": "t7vre5I1E1CD",
        "outputId": "fae58906-5377-446c-a9d1-b213423d4a8b"
      },
      "execution_count": null,
      "outputs": [
        {
          "output_type": "stream",
          "name": "stdout",
          "text": [
            "313/313 [==============================] - 1s 3ms/step - loss: 0.2847 - sparse_categorical_accuracy: 0.9294\n"
          ]
        }
      ]
    },
    {
      "cell_type": "code",
      "source": [
        "accuracies.append(test_20[1])"
      ],
      "metadata": {
        "id": "dy2GtAyhHYqh"
      },
      "execution_count": null,
      "outputs": []
    },
    {
      "cell_type": "markdown",
      "source": [
        "#### For D=50"
      ],
      "metadata": {
        "id": "WZ8-xh6uHb5h"
      }
    },
    {
      "cell_type": "code",
      "source": [
        "baseline = keras.models.load_model(model_path)"
      ],
      "metadata": {
        "id": "rakeLhL2HeVq"
      },
      "execution_count": null,
      "outputs": []
    },
    {
      "cell_type": "code",
      "source": [
        "for i in range(1,len(baseline.layers)-1):\n",
        "    weights = baseline.get_layer(index=i).get_weights()[0]\n",
        "    bias = baseline.get_layer(index=i).get_weights()[1]\n",
        "    s, U, V = tf.linalg.svd(weights)\n",
        "    weights_approx = rank_r_approx(s, U, V, 50, verbose = False)\n",
        "    baseline.get_layer(index=i).set_weights([weights_approx,bias])"
      ],
      "metadata": {
        "id": "TeCxAxGuHhdq"
      },
      "execution_count": null,
      "outputs": []
    },
    {
      "cell_type": "code",
      "source": [
        "test_50 = baseline.evaluate(test_images , test_labels)"
      ],
      "metadata": {
        "colab": {
          "base_uri": "https://localhost:8080/"
        },
        "id": "jFXF48IOHlJp",
        "outputId": "3fefbbfc-3065-4e3b-a0bf-6ff00e252643"
      },
      "execution_count": null,
      "outputs": [
        {
          "output_type": "stream",
          "name": "stdout",
          "text": [
            "313/313 [==============================] - 1s 3ms/step - loss: 0.1284 - sparse_categorical_accuracy: 0.9775\n"
          ]
        }
      ]
    },
    {
      "cell_type": "code",
      "source": [
        "accuracies.append(test_50[1])"
      ],
      "metadata": {
        "id": "JvyRdgliHnog"
      },
      "execution_count": null,
      "outputs": []
    },
    {
      "cell_type": "markdown",
      "source": [
        "#### For D=100"
      ],
      "metadata": {
        "id": "g8gdirrnHtqA"
      }
    },
    {
      "cell_type": "code",
      "source": [
        "baseline = keras.models.load_model(model_path)"
      ],
      "metadata": {
        "id": "ibCi3RpKHv7Z"
      },
      "execution_count": null,
      "outputs": []
    },
    {
      "cell_type": "code",
      "source": [
        "for i in range(1,len(baseline.layers)-1):\n",
        "    weights = baseline.get_layer(index=i).get_weights()[0]\n",
        "    bias = baseline.get_layer(index=i).get_weights()[1]\n",
        "    s, U, V = tf.linalg.svd(weights)\n",
        "    weights_approx = rank_r_approx(s, U, V, 100, verbose = False)\n",
        "    baseline.get_layer(index=i).set_weights([weights_approx,bias])"
      ],
      "metadata": {
        "id": "MQfD6FpWHxtb"
      },
      "execution_count": null,
      "outputs": []
    },
    {
      "cell_type": "code",
      "source": [
        "test_100 = baseline.evaluate(test_images , test_labels)"
      ],
      "metadata": {
        "colab": {
          "base_uri": "https://localhost:8080/"
        },
        "id": "0rkK3e0aHx4p",
        "outputId": "b925e65f-b1ee-4790-97af-5196208fc1d5"
      },
      "execution_count": null,
      "outputs": [
        {
          "output_type": "stream",
          "name": "stdout",
          "text": [
            "313/313 [==============================] - 1s 3ms/step - loss: 0.1116 - sparse_categorical_accuracy: 0.9809\n"
          ]
        }
      ]
    },
    {
      "cell_type": "code",
      "source": [
        "accuracies.append(test_100[1])"
      ],
      "metadata": {
        "id": "kl69UDWrHx8-"
      },
      "execution_count": null,
      "outputs": []
    },
    {
      "cell_type": "markdown",
      "source": [
        "#### For D=200"
      ],
      "metadata": {
        "id": "qQ3bI8OMH4uY"
      }
    },
    {
      "cell_type": "code",
      "source": [
        "baseline = keras.models.load_model(model_path)"
      ],
      "metadata": {
        "id": "gjF4rr7QH8cU"
      },
      "execution_count": null,
      "outputs": []
    },
    {
      "cell_type": "code",
      "source": [
        "for i in range(1,len(baseline.layers)-1):\n",
        "    weights = baseline.get_layer(index=i).get_weights()[0]\n",
        "    bias = baseline.get_layer(index=i).get_weights()[1]\n",
        "    s, U, V = tf.linalg.svd(weights)\n",
        "    weights_approx = rank_r_approx(s, U, V, 200, verbose = False)\n",
        "    baseline.get_layer(index=i).set_weights([weights_approx,bias])"
      ],
      "metadata": {
        "id": "CbB7PhsFH8fU"
      },
      "execution_count": null,
      "outputs": []
    },
    {
      "cell_type": "code",
      "source": [
        "test_200 = baseline.evaluate(test_images , test_labels)"
      ],
      "metadata": {
        "colab": {
          "base_uri": "https://localhost:8080/"
        },
        "id": "gpy_JySUH8iE",
        "outputId": "07273be9-71bd-486a-eb8f-6d35b8925fd4"
      },
      "execution_count": null,
      "outputs": [
        {
          "output_type": "stream",
          "name": "stdout",
          "text": [
            "313/313 [==============================] - 1s 3ms/step - loss: 0.1132 - sparse_categorical_accuracy: 0.9813\n"
          ]
        }
      ]
    },
    {
      "cell_type": "code",
      "source": [
        "accuracies.append(test_200[1])"
      ],
      "metadata": {
        "id": "A2ghlI33H8ks"
      },
      "execution_count": null,
      "outputs": []
    },
    {
      "cell_type": "markdown",
      "source": [
        "#### For D=784"
      ],
      "metadata": {
        "id": "knTTaEG2IDQY"
      }
    },
    {
      "cell_type": "code",
      "source": [
        "baseline = keras.models.load_model(model_path)"
      ],
      "metadata": {
        "id": "IQUPz5PJIJ4E"
      },
      "execution_count": null,
      "outputs": []
    },
    {
      "cell_type": "code",
      "source": [
        "for i in range(1,len(baseline.layers)-1):\n",
        "    weights = baseline.get_layer(index=i).get_weights()[0]\n",
        "    bias = baseline.get_layer(index=i).get_weights()[1]\n",
        "    s, U, V = tf.linalg.svd(weights)\n",
        "    S = tf.linalg.diag(s)\n",
        "    V_T = tf.transpose(V)\n",
        "    weights_approx = A_r = tf.matmul(tf.matmul(U, S), V_T)\n",
        "    baseline.get_layer(index=i).set_weights([weights_approx,bias])"
      ],
      "metadata": {
        "id": "0S6FjXxxINU-"
      },
      "execution_count": null,
      "outputs": []
    },
    {
      "cell_type": "code",
      "source": [
        "test_full = baseline.evaluate(test_images , test_labels)"
      ],
      "metadata": {
        "colab": {
          "base_uri": "https://localhost:8080/"
        },
        "id": "7jNvb7rkIi-I",
        "outputId": "af809156-6ef8-47d3-8274-176afcebc5ad"
      },
      "execution_count": null,
      "outputs": [
        {
          "output_type": "stream",
          "name": "stdout",
          "text": [
            "313/313 [==============================] - 1s 3ms/step - loss: 0.1151 - sparse_categorical_accuracy: 0.9809\n"
          ]
        }
      ]
    },
    {
      "cell_type": "code",
      "source": [
        "accuracies.append(test_full[1])"
      ],
      "metadata": {
        "id": "1TaAdFSnIlso"
      },
      "execution_count": null,
      "outputs": []
    },
    {
      "cell_type": "code",
      "source": [
        "for i in range(1,len(baseline.layers)-1):\n",
        "  weights = baseline.get_layer(index=i).get_weights()[0]\n",
        "  bias = baseline.get_layer(index=i).get_weights()[1]\n",
        "  s, U, V = tf.linalg.svd(weights)\n",
        "  S = tf.linalg.diag(s)\n",
        "  V_T = tf.transpose(V)\n",
        "  weights_svd = tf.matmul(tf.matmul(U, S), V_T)\n",
        "  #weights_svd = U@S@V_T\n",
        "  baseline.get_layer(index=i).set_weights([weights_svd,bias])"
      ],
      "metadata": {
        "id": "LMRoeohpSKIl"
      },
      "execution_count": null,
      "outputs": []
    },
    {
      "cell_type": "markdown",
      "source": [
        "### Comparing the test accuracies for different values of D"
      ],
      "metadata": {
        "id": "M1-hPLa1DqN4"
      }
    },
    {
      "cell_type": "code",
      "source": [
        "fig, ax = plt.subplots()\n",
        "ax.plot(accuracies)\n",
        "ax.set_ylabel(\"Accuracy\")\n",
        "ax.set_xlabel(\"D\")\n",
        "x_axis = [0,10,20,50,100,200,784]\n",
        "ax.set_xticklabels(x_axis)\n",
        "plt.show()"
      ],
      "metadata": {
        "colab": {
          "base_uri": "https://localhost:8080/",
          "height": 279
        },
        "id": "e_Ym9Uy_QqHR",
        "outputId": "8b8384b9-c2b8-4c27-bbe6-19a2e8423135"
      },
      "execution_count": null,
      "outputs": [
        {
          "output_type": "display_data",
          "data": {
            "text/plain": [
              "<Figure size 432x288 with 1 Axes>"
            ],
            "image/png": "[encoded data removed]"
          },
          "metadata": {
            "needs_background": "light"
          }
        }
      ]
    },
    {
      "cell_type": "code",
      "source": [
        "baseline.save(model_path)"
      ],
      "metadata": {
        "id": "pOvY7QgURdQa"
      },
      "execution_count": null,
      "outputs": []
    }
  ]
}