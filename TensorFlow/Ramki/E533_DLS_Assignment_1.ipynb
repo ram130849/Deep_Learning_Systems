{
  "nbformat": 4,
  "nbformat_minor": 0,
  "metadata": {
    "colab": {
      "provenance": [],
      "authorship_tag": "ABX9TyPlvkWzhVRNIdBTXXT6Emsr",
      "include_colab_link": true
    },
    "kernelspec": {
      "name": "python3",
      "display_name": "Python 3"
    },
    "language_info": {
      "name": "python"
    },
    "accelerator": "GPU"
  },
  "cells": [
    {
      "cell_type": "markdown",
      "metadata": {
        "id": "view-in-github",
        "colab_type": "text"
      },
      "source": [
        "<a href=\"https://colab.research.google.com/github/ram130849/Deep_Learning_Systems_Assignments/blob/main/TensorFlow/Ramki/E533_DLS_Assignment_1.ipynb\" target=\"_parent\"><img src=\"https://colab.research.google.com/assets/colab-badge.svg\" alt=\"Open In Colab\"/></a>"
      ]
    },
    {
      "cell_type": "code",
      "execution_count": 1,
      "metadata": {
        "id": "ZKBYIJhxWPso"
      },
      "outputs": [],
      "source": [
        "import tensorflow as tf\n",
        "import pandas as pd\n",
        "import numpy as np\n",
        "import matplotlib.pyplot as plt\n",
        "from sklearn.decomposition import PCA\n",
        "from sklearn.manifold import TSNE"
      ]
    },
    {
      "cell_type": "code",
      "source": [
        "print(\"TensorFlow version:\", tf.__version__)"
      ],
      "metadata": {
        "colab": {
          "base_uri": "https://localhost:8080/"
        },
        "id": "OSk15UyflS-n",
        "outputId": "09c7463a-9a44-41c6-ead8-d46e10a01c65"
      },
      "execution_count": 12,
      "outputs": [
        {
          "output_type": "stream",
          "name": "stdout",
          "text": [
            "TensorFlow version: 2.8.2\n"
          ]
        }
      ]
    },
    {
      "cell_type": "code",
      "source": [
        "mnist = tf.keras.datasets.mnist"
      ],
      "metadata": {
        "id": "ZqCY47IvWeI2"
      },
      "execution_count": 2,
      "outputs": []
    },
    {
      "cell_type": "code",
      "source": [
        "gpus = tf.config.list_physical_devices('GPU')\n",
        "print(gpus)"
      ],
      "metadata": {
        "colab": {
          "base_uri": "https://localhost:8080/"
        },
        "id": "eOjP5ENIfG3E",
        "outputId": "89702e02-58b1-4385-e80b-c3ddaca84a25"
      },
      "execution_count": 3,
      "outputs": [
        {
          "output_type": "stream",
          "name": "stdout",
          "text": [
            "[PhysicalDevice(name='/physical_device:GPU:0', device_type='GPU')]\n"
          ]
        }
      ]
    },
    {
      "cell_type": "code",
      "source": [
        "(x_train, y_train), (x_test, y_test) = mnist.load_data()"
      ],
      "metadata": {
        "colab": {
          "base_uri": "https://localhost:8080/"
        },
        "id": "pmMpuuPKWeOg",
        "outputId": "b3d6735c-8452-42a4-beaa-3f33bd309844"
      },
      "execution_count": 6,
      "outputs": [
        {
          "output_type": "stream",
          "name": "stdout",
          "text": [
            "Downloading data from https://storage.googleapis.com/tensorflow/tf-keras-datasets/mnist.npz\n",
            "11493376/11490434 [==============================] - 0s 0us/step\n",
            "11501568/11490434 [==============================] - 0s 0us/step\n"
          ]
        }
      ]
    },
    {
      "cell_type": "code",
      "source": [
        "print(\"Training Data:\",x_train.shape)\n",
        "print(\"Training Label Data:\",y_train.shape)\n",
        "print(\"Testing Data:\",x_test.shape)\n",
        "print(\"Testing Label Data:\",y_test.shape)"
      ],
      "metadata": {
        "colab": {
          "base_uri": "https://localhost:8080/"
        },
        "id": "gxrgJf3RWeUq",
        "outputId": "aaeb1c67-1d90-4567-b03c-e351acae5153"
      },
      "execution_count": 7,
      "outputs": [
        {
          "output_type": "stream",
          "name": "stdout",
          "text": [
            "Training Data: (60000, 28, 28)\n",
            "Training Label Data: (60000,)\n",
            "Testing Data: (10000, 28, 28)\n",
            "Testing Label Data: (10000,)\n"
          ]
        }
      ]
    },
    {
      "cell_type": "code",
      "source": [
        "model = tf.keras.models.Sequential([\n",
        "  tf.keras.layers.Flatten(input_shape=(28, 28)),\n",
        "  tf.keras.layers.Dense(1024, activation='relu'),\n",
        "  tf.keras.layers.Dense(1024,activation='relu'),\n",
        "  tf.keras.layers.Dense(1024,activation='relu'),\n",
        "  tf.keras.layers.Dense(1024,activation='relu'),\n",
        "  tf.keras.layers.Dense(10)\n",
        "])"
      ],
      "metadata": {
        "id": "m_rQUK7fWeZe"
      },
      "execution_count": 36,
      "outputs": []
    },
    {
      "cell_type": "code",
      "source": [
        "print(model.summary())"
      ],
      "metadata": {
        "colab": {
          "base_uri": "https://localhost:8080/"
        },
        "id": "Dqk76LrbnCP6",
        "outputId": "0bed9322-b5d0-4487-c8a5-702293d8344d"
      },
      "execution_count": 37,
      "outputs": [
        {
          "output_type": "stream",
          "name": "stdout",
          "text": [
            "Model: \"sequential_10\"\n",
            "_________________________________________________________________\n",
            " Layer (type)                Output Shape              Param #   \n",
            "=================================================================\n",
            " flatten_7 (Flatten)         (None, 784)               0         \n",
            "                                                                 \n",
            " dense_38 (Dense)            (None, 1024)              803840    \n",
            "                                                                 \n",
            " dense_39 (Dense)            (None, 1024)              1049600   \n",
            "                                                                 \n",
            " dense_40 (Dense)            (None, 1024)              1049600   \n",
            "                                                                 \n",
            " dense_41 (Dense)            (None, 1024)              1049600   \n",
            "                                                                 \n",
            " dense_42 (Dense)            (None, 10)                10250     \n",
            "                                                                 \n",
            "=================================================================\n",
            "Total params: 3,962,890\n",
            "Trainable params: 3,962,890\n",
            "Non-trainable params: 0\n",
            "_________________________________________________________________\n",
            "None\n"
          ]
        }
      ]
    },
    {
      "cell_type": "code",
      "source": [
        "predictions = model(x_train[:1]).numpy()\n",
        "predictions"
      ],
      "metadata": {
        "colab": {
          "base_uri": "https://localhost:8080/"
        },
        "id": "HN-6mRREqLHr",
        "outputId": "3a9ff2d9-9df4-4712-f452-b00e3325e811"
      },
      "execution_count": 38,
      "outputs": [
        {
          "output_type": "execute_result",
          "data": {
            "text/plain": [
              "array([[-24.081867 ,  38.52824  ,  17.87317  ,  -1.6701584, -34.114605 ,\n",
              "        -47.558186 ,  28.321388 ,   2.378645 ,  10.651752 ,  -5.494565 ]],\n",
              "      dtype=float32)"
            ]
          },
          "metadata": {},
          "execution_count": 38
        }
      ]
    },
    {
      "cell_type": "code",
      "source": [
        "tf.nn.softmax(predictions).numpy()"
      ],
      "metadata": {
        "colab": {
          "base_uri": "https://localhost:8080/"
        },
        "id": "hJMFW6O6qMYh",
        "outputId": "62add8a2-9cab-40ef-9fc1-893c6f618bc9"
      },
      "execution_count": 39,
      "outputs": [
        {
          "output_type": "execute_result",
          "data": {
            "text/plain": [
              "array([[6.4381310e-28, 9.9996305e-01, 1.0705361e-09, 3.4837042e-18,\n",
              "        2.8287666e-32, 4.1032149e-38, 3.6915135e-05, 1.9971622e-16,\n",
              "        7.8231052e-13, 7.6054165e-20]], dtype=float32)"
            ]
          },
          "metadata": {},
          "execution_count": 39
        }
      ]
    },
    {
      "cell_type": "code",
      "source": [
        "model.compile(optimizer=\"adam\", loss=tf.keras.losses.SparseCategoricalCrossentropy(from_logits=True), metrics=\"acc\")"
      ],
      "metadata": {
        "id": "nRSkFsKcm14k"
      },
      "execution_count": 40,
      "outputs": []
    },
    {
      "cell_type": "code",
      "source": [
        "history = model.fit(\n",
        "    x_train,\n",
        "    y_train,\n",
        "    epochs=50,\n",
        "    batch_size=128)"
      ],
      "metadata": {
        "id": "wvD8DY_GWeia",
        "colab": {
          "base_uri": "https://localhost:8080/"
        },
        "outputId": "04196f3c-57b4-418c-bf4f-515c96ef6412"
      },
      "execution_count": 41,
      "outputs": [
        {
          "output_type": "stream",
          "name": "stdout",
          "text": [
            "Epoch 1/50\n",
            "469/469 [==============================] - 2s 4ms/step - loss: 2.6161 - acc: 0.9022\n",
            "Epoch 2/50\n",
            "469/469 [==============================] - 2s 3ms/step - loss: 0.1161 - acc: 0.9638\n",
            "Epoch 3/50\n",
            "469/469 [==============================] - 2s 3ms/step - loss: 0.0883 - acc: 0.9735\n",
            "Epoch 4/50\n",
            "469/469 [==============================] - 2s 3ms/step - loss: 0.0810 - acc: 0.9754\n",
            "Epoch 5/50\n",
            "469/469 [==============================] - 2s 3ms/step - loss: 0.0723 - acc: 0.9785\n",
            "Epoch 6/50\n",
            "469/469 [==============================] - 2s 3ms/step - loss: 0.0659 - acc: 0.9805\n",
            "Epoch 7/50\n",
            "469/469 [==============================] - 2s 3ms/step - loss: 0.0708 - acc: 0.9797\n",
            "Epoch 8/50\n",
            "469/469 [==============================] - 2s 3ms/step - loss: 0.0573 - acc: 0.9831\n",
            "Epoch 9/50\n",
            "469/469 [==============================] - 2s 3ms/step - loss: 0.0543 - acc: 0.9845\n",
            "Epoch 10/50\n",
            "469/469 [==============================] - 2s 3ms/step - loss: 0.0543 - acc: 0.9845\n",
            "Epoch 11/50\n",
            "469/469 [==============================] - 2s 3ms/step - loss: 0.0561 - acc: 0.9850\n",
            "Epoch 12/50\n",
            "469/469 [==============================] - 2s 3ms/step - loss: 0.0439 - acc: 0.9879\n",
            "Epoch 13/50\n",
            "469/469 [==============================] - 2s 3ms/step - loss: 0.0460 - acc: 0.9877\n",
            "Epoch 14/50\n",
            "469/469 [==============================] - 2s 4ms/step - loss: 0.0497 - acc: 0.9862\n",
            "Epoch 15/50\n",
            "469/469 [==============================] - 2s 3ms/step - loss: 0.0405 - acc: 0.9889\n",
            "Epoch 16/50\n",
            "469/469 [==============================] - 2s 3ms/step - loss: 0.0420 - acc: 0.9894\n",
            "Epoch 17/50\n",
            "469/469 [==============================] - 2s 3ms/step - loss: 0.0524 - acc: 0.9873\n",
            "Epoch 18/50\n",
            "469/469 [==============================] - 2s 4ms/step - loss: 0.0482 - acc: 0.9897\n",
            "Epoch 19/50\n",
            "469/469 [==============================] - 2s 3ms/step - loss: 0.0483 - acc: 0.9884\n",
            "Epoch 20/50\n",
            "469/469 [==============================] - 2s 3ms/step - loss: 0.0366 - acc: 0.9913\n",
            "Epoch 21/50\n",
            "469/469 [==============================] - 2s 3ms/step - loss: 0.0436 - acc: 0.9901\n",
            "Epoch 22/50\n",
            "469/469 [==============================] - 2s 3ms/step - loss: 0.0260 - acc: 0.9934\n",
            "Epoch 23/50\n",
            "469/469 [==============================] - 2s 4ms/step - loss: 0.0269 - acc: 0.9931\n",
            "Epoch 24/50\n",
            "469/469 [==============================] - 2s 5ms/step - loss: 0.0385 - acc: 0.9918\n",
            "Epoch 25/50\n",
            "469/469 [==============================] - 2s 4ms/step - loss: 0.0337 - acc: 0.9924\n",
            "Epoch 26/50\n",
            "469/469 [==============================] - 2s 4ms/step - loss: 0.0369 - acc: 0.9923\n",
            "Epoch 27/50\n",
            "469/469 [==============================] - 2s 4ms/step - loss: 0.0371 - acc: 0.9923\n",
            "Epoch 28/50\n",
            "469/469 [==============================] - 2s 4ms/step - loss: 0.0263 - acc: 0.9942\n",
            "Epoch 29/50\n",
            "469/469 [==============================] - 2s 4ms/step - loss: 0.0389 - acc: 0.9920\n",
            "Epoch 30/50\n",
            "469/469 [==============================] - 2s 4ms/step - loss: 0.0265 - acc: 0.9941\n",
            "Epoch 31/50\n",
            "469/469 [==============================] - 2s 4ms/step - loss: 0.0224 - acc: 0.9951\n",
            "Epoch 32/50\n",
            "469/469 [==============================] - 2s 4ms/step - loss: 0.0186 - acc: 0.9955\n",
            "Epoch 33/50\n",
            "469/469 [==============================] - 2s 3ms/step - loss: 0.0326 - acc: 0.9937\n",
            "Epoch 34/50\n",
            "469/469 [==============================] - 2s 3ms/step - loss: 0.0262 - acc: 0.9949\n",
            "Epoch 35/50\n",
            "469/469 [==============================] - 2s 3ms/step - loss: 0.0168 - acc: 0.9965\n",
            "Epoch 36/50\n",
            "469/469 [==============================] - 2s 3ms/step - loss: 0.0302 - acc: 0.9941\n",
            "Epoch 37/50\n",
            "469/469 [==============================] - 2s 3ms/step - loss: 0.0171 - acc: 0.9962\n",
            "Epoch 38/50\n",
            "469/469 [==============================] - 2s 3ms/step - loss: 0.0216 - acc: 0.9957\n",
            "Epoch 39/50\n",
            "469/469 [==============================] - 2s 3ms/step - loss: 0.0173 - acc: 0.9968\n",
            "Epoch 40/50\n",
            "469/469 [==============================] - 2s 3ms/step - loss: 0.0303 - acc: 0.9943\n",
            "Epoch 41/50\n",
            "469/469 [==============================] - 2s 3ms/step - loss: 0.0209 - acc: 0.9963\n",
            "Epoch 42/50\n",
            "469/469 [==============================] - 2s 3ms/step - loss: 0.0157 - acc: 0.9969\n",
            "Epoch 43/50\n",
            "469/469 [==============================] - 2s 3ms/step - loss: 0.0267 - acc: 0.9953\n",
            "Epoch 44/50\n",
            "469/469 [==============================] - 2s 3ms/step - loss: 0.0103 - acc: 0.9980\n",
            "Epoch 45/50\n",
            "469/469 [==============================] - 2s 3ms/step - loss: 0.0235 - acc: 0.9954\n",
            "Epoch 46/50\n",
            "469/469 [==============================] - 2s 3ms/step - loss: 0.0243 - acc: 0.9960\n",
            "Epoch 47/50\n",
            "469/469 [==============================] - 2s 3ms/step - loss: 0.0169 - acc: 0.9970\n",
            "Epoch 48/50\n",
            "469/469 [==============================] - 2s 3ms/step - loss: 0.0156 - acc: 0.9971\n",
            "Epoch 49/50\n",
            "469/469 [==============================] - 2s 3ms/step - loss: 0.0134 - acc: 0.9974\n",
            "Epoch 50/50\n",
            "469/469 [==============================] - 2s 3ms/step - loss: 0.0142 - acc: 0.9974\n"
          ]
        }
      ]
    },
    {
      "cell_type": "code",
      "source": [
        "history.history"
      ],
      "metadata": {
        "id": "OIJQ2KIeWem2",
        "colab": {
          "base_uri": "https://localhost:8080/"
        },
        "outputId": "fa911fa6-7142-4b9f-8ef6-97abcbfce02a"
      },
      "execution_count": 42,
      "outputs": [
        {
          "output_type": "execute_result",
          "data": {
            "text/plain": [
              "{'loss': [2.6161437034606934,\n",
              "  0.11605745553970337,\n",
              "  0.08831074088811874,\n",
              "  0.08097068220376968,\n",
              "  0.07229015976190567,\n",
              "  0.06591670215129852,\n",
              "  0.07081177085638046,\n",
              "  0.05730738118290901,\n",
              "  0.0543314628303051,\n",
              "  0.05429691821336746,\n",
              "  0.056102462112903595,\n",
              "  0.043921757489442825,\n",
              "  0.04599126800894737,\n",
              "  0.04968707635998726,\n",
              "  0.040532372891902924,\n",
              "  0.04202229157090187,\n",
              "  0.05237483233213425,\n",
              "  0.048211466521024704,\n",
              "  0.04825753718614578,\n",
              "  0.036577485501766205,\n",
              "  0.0436117947101593,\n",
              "  0.026042144745588303,\n",
              "  0.026892583817243576,\n",
              "  0.03847084939479828,\n",
              "  0.03365126997232437,\n",
              "  0.03692740574479103,\n",
              "  0.03705816715955734,\n",
              "  0.026347355917096138,\n",
              "  0.038858357816934586,\n",
              "  0.026480942964553833,\n",
              "  0.022428199648857117,\n",
              "  0.01864204742014408,\n",
              "  0.03257453441619873,\n",
              "  0.02615515887737274,\n",
              "  0.016751611605286598,\n",
              "  0.030209708958864212,\n",
              "  0.017079604789614677,\n",
              "  0.021623525768518448,\n",
              "  0.017348984256386757,\n",
              "  0.030314944684505463,\n",
              "  0.02094881795346737,\n",
              "  0.015699980780482292,\n",
              "  0.026694048196077347,\n",
              "  0.010256917215883732,\n",
              "  0.023475296795368195,\n",
              "  0.02427205629646778,\n",
              "  0.016894612461328506,\n",
              "  0.015633083879947662,\n",
              "  0.013370731845498085,\n",
              "  0.014225536026060581],\n",
              " 'acc': [0.9021666646003723,\n",
              "  0.9638166427612305,\n",
              "  0.9734833240509033,\n",
              "  0.9753833413124084,\n",
              "  0.9784500002861023,\n",
              "  0.98048335313797,\n",
              "  0.9796500205993652,\n",
              "  0.9830999970436096,\n",
              "  0.9844666719436646,\n",
              "  0.984499990940094,\n",
              "  0.9849833250045776,\n",
              "  0.9879000186920166,\n",
              "  0.9876999855041504,\n",
              "  0.9862333536148071,\n",
              "  0.9889000058174133,\n",
              "  0.989383339881897,\n",
              "  0.9872833490371704,\n",
              "  0.9896500110626221,\n",
              "  0.9884499907493591,\n",
              "  0.9912999868392944,\n",
              "  0.990149974822998,\n",
              "  0.9933833479881287,\n",
              "  0.993066668510437,\n",
              "  0.9917500019073486,\n",
              "  0.9923666715621948,\n",
              "  0.9923166632652283,\n",
              "  0.9923166632652283,\n",
              "  0.9941666722297668,\n",
              "  0.9920166730880737,\n",
              "  0.9940500259399414,\n",
              "  0.9950500130653381,\n",
              "  0.9955333471298218,\n",
              "  0.9937166571617126,\n",
              "  0.9948833584785461,\n",
              "  0.9964666962623596,\n",
              "  0.9941166639328003,\n",
              "  0.9961666464805603,\n",
              "  0.9957000017166138,\n",
              "  0.9968166947364807,\n",
              "  0.9943166375160217,\n",
              "  0.9963333606719971,\n",
              "  0.9968833327293396,\n",
              "  0.9953166842460632,\n",
              "  0.99795001745224,\n",
              "  0.9953666925430298,\n",
              "  0.9959666728973389,\n",
              "  0.9970333576202393,\n",
              "  0.9970666766166687,\n",
              "  0.9974166750907898,\n",
              "  0.9973833560943604]}"
            ]
          },
          "metadata": {},
          "execution_count": 42
        }
      ]
    },
    {
      "cell_type": "code",
      "source": [],
      "metadata": {
        "id": "g8pLYC8yWere"
      },
      "execution_count": null,
      "outputs": []
    },
    {
      "cell_type": "code",
      "source": [],
      "metadata": {
        "id": "39SIRTDRWevl"
      },
      "execution_count": null,
      "outputs": []
    },
    {
      "cell_type": "code",
      "source": [],
      "metadata": {
        "id": "drieSxosWezj"
      },
      "execution_count": null,
      "outputs": []
    },
    {
      "cell_type": "code",
      "source": [],
      "metadata": {
        "id": "6NVRy7uFWe4m"
      },
      "execution_count": null,
      "outputs": []
    },
    {
      "cell_type": "code",
      "source": [],
      "metadata": {
        "id": "oey3bCQQWe8H"
      },
      "execution_count": null,
      "outputs": []
    },
    {
      "cell_type": "code",
      "source": [],
      "metadata": {
        "id": "GzW2BgJ5WfAW"
      },
      "execution_count": null,
      "outputs": []
    },
    {
      "cell_type": "code",
      "source": [],
      "metadata": {
        "id": "PIpZ87KVWfEY"
      },
      "execution_count": null,
      "outputs": []
    },
    {
      "cell_type": "code",
      "source": [],
      "metadata": {
        "id": "liWKgsL4WfIe"
      },
      "execution_count": null,
      "outputs": []
    },
    {
      "cell_type": "code",
      "source": [],
      "metadata": {
        "id": "lmKV1W-vWfMl"
      },
      "execution_count": null,
      "outputs": []
    },
    {
      "cell_type": "code",
      "source": [],
      "metadata": {
        "id": "iem1VqW7WfQT"
      },
      "execution_count": null,
      "outputs": []
    },
    {
      "cell_type": "code",
      "source": [],
      "metadata": {
        "id": "dctVhqqBWfUa"
      },
      "execution_count": null,
      "outputs": []
    },
    {
      "cell_type": "code",
      "source": [],
      "metadata": {
        "id": "7p4Urz3nWfYg"
      },
      "execution_count": null,
      "outputs": []
    },
    {
      "cell_type": "code",
      "source": [
        "b"
      ],
      "metadata": {
        "id": "a7mIGNhqWfcM"
      },
      "execution_count": null,
      "outputs": []
    },
    {
      "cell_type": "code",
      "source": [],
      "metadata": {
        "id": "6Xr86cAYWfku"
      },
      "execution_count": null,
      "outputs": []
    },
    {
      "cell_type": "code",
      "source": [],
      "metadata": {
        "id": "cy_Pg9OPWfpD"
      },
      "execution_count": null,
      "outputs": []
    },
    {
      "cell_type": "code",
      "source": [],
      "metadata": {
        "id": "4pjcbk3mWftj"
      },
      "execution_count": null,
      "outputs": []
    },
    {
      "cell_type": "code",
      "source": [],
      "metadata": {
        "id": "K-hikZUkWfx_"
      },
      "execution_count": null,
      "outputs": []
    },
    {
      "cell_type": "code",
      "source": [],
      "metadata": {
        "id": "ggSw_9p-Wf2A"
      },
      "execution_count": null,
      "outputs": []
    },
    {
      "cell_type": "code",
      "source": [],
      "metadata": {
        "id": "wjPFntRAWf5z"
      },
      "execution_count": null,
      "outputs": []
    },
    {
      "cell_type": "code",
      "source": [],
      "metadata": {
        "id": "yLh_M0sLWf9n"
      },
      "execution_count": null,
      "outputs": []
    },
    {
      "cell_type": "code",
      "source": [],
      "metadata": {
        "id": "qodgz_TWWgBk"
      },
      "execution_count": null,
      "outputs": []
    },
    {
      "cell_type": "code",
      "source": [],
      "metadata": {
        "id": "mS1WKEP8WgFS"
      },
      "execution_count": null,
      "outputs": []
    },
    {
      "cell_type": "code",
      "source": [],
      "metadata": {
        "id": "qN9_i97gWgJK"
      },
      "execution_count": null,
      "outputs": []
    },
    {
      "cell_type": "code",
      "source": [],
      "metadata": {
        "id": "JhTDL_vUWgMp"
      },
      "execution_count": null,
      "outputs": []
    },
    {
      "cell_type": "code",
      "source": [],
      "metadata": {
        "id": "mAEPogbWWgQu"
      },
      "execution_count": null,
      "outputs": []
    },
    {
      "cell_type": "code",
      "source": [],
      "metadata": {
        "id": "gH6oox_sWgUw"
      },
      "execution_count": null,
      "outputs": []
    },
    {
      "cell_type": "code",
      "source": [],
      "metadata": {
        "id": "k-N-VJXiWgYU"
      },
      "execution_count": null,
      "outputs": []
    },
    {
      "cell_type": "code",
      "source": [],
      "metadata": {
        "id": "sx5TWHP-Wgcm"
      },
      "execution_count": null,
      "outputs": []
    },
    {
      "cell_type": "code",
      "source": [],
      "metadata": {
        "id": "wBUhR9TBWggt"
      },
      "execution_count": null,
      "outputs": []
    },
    {
      "cell_type": "code",
      "source": [],
      "metadata": {
        "id": "QCo1Mk_iWgkY"
      },
      "execution_count": null,
      "outputs": []
    },
    {
      "cell_type": "code",
      "source": [],
      "metadata": {
        "id": "F-raKckcWgoj"
      },
      "execution_count": null,
      "outputs": []
    },
    {
      "cell_type": "code",
      "source": [],
      "metadata": {
        "id": "xoRPlhu8Wgs8"
      },
      "execution_count": null,
      "outputs": []
    },
    {
      "cell_type": "code",
      "source": [
        "b"
      ],
      "metadata": {
        "id": "Hd5oUNZvWgxU"
      },
      "execution_count": null,
      "outputs": []
    },
    {
      "cell_type": "code",
      "source": [],
      "metadata": {
        "id": "FUncNWJwWg52"
      },
      "execution_count": null,
      "outputs": []
    },
    {
      "cell_type": "code",
      "source": [],
      "metadata": {
        "id": "l3KIKx8AWg-u"
      },
      "execution_count": null,
      "outputs": []
    }
  ]
}