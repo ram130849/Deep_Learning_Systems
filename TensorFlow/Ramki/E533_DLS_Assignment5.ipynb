{
  "nbformat": 4,
  "nbformat_minor": 0,
  "metadata": {
    "colab": {
      "provenance": [],
      "authorship_tag": "ABX9TyNOTL6MrOjT+KoTkbLxgmQc",
      "include_colab_link": true
    },
    "kernelspec": {
      "name": "python3",
      "display_name": "Python 3"
    },
    "language_info": {
      "name": "python"
    }
  },
  "cells": [
    {
      "cell_type": "markdown",
      "metadata": {
        "id": "view-in-github",
        "colab_type": "text"
      },
      "source": [
        "<a href=\"https://colab.research.google.com/github/ram130849/Deep_Learning_Systems_Assignments/blob/main/TensorFlow/Ramki/E533_DLS_Assignment5.ipynb\" target=\"_parent\"><img src=\"https://colab.research.google.com/assets/colab-badge.svg\" alt=\"Open In Colab\"/></a>"
      ]
    },
    {
      "cell_type": "markdown",
      "source": [
        "P2: Variational Autoencoders on Poor Sevens "
      ],
      "metadata": {
        "id": "lpHQpsbhRhfF"
      }
    },
    {
      "cell_type": "code",
      "source": [
        "# Reference: \n",
        "# https://www.tensorflow.org/tutorials/generative/cvae\n",
        "# https://keras.io/examples/generative/vae/\n",
        "# https://www.tensorflow.org/guide/keras/custom_layers_and_models#putting_it_all_together_an_end-to-end_example"
      ],
      "metadata": {
        "id": "NgpkWjoLf1WE"
      },
      "execution_count": 1,
      "outputs": []
    },
    {
      "cell_type": "code",
      "execution_count": 23,
      "metadata": {
        "id": "JRfmwYc2Qa8Y"
      },
      "outputs": [],
      "source": [
        "import numpy as np\n",
        "import tensorflow as tf\n",
        "from tensorflow import keras\n",
        "from tensorflow.keras import layers,Model\n",
        "import matplotlib.pyplot as plt\n",
        "import librosa\n",
        "import os\n",
        "from tensorflow.keras.layers import BatchNormalization\n",
        "import seaborn as sns\n",
        "from sklearn.metrics import confusion_matrix\n",
        "import gzip\n",
        "import time\n",
        "import pickle\n",
        "import random\n",
        "from IPython import display"
      ]
    },
    {
      "cell_type": "code",
      "source": [
        "from google.colab import drive\n",
        "drive.mount('/content/drive')"
      ],
      "metadata": {
        "colab": {
          "base_uri": "https://localhost:8080/"
        },
        "id": "ey86O5B3QnEl",
        "outputId": "2b1e851e-2a8a-48e4-d543-29eaf6d2fda9"
      },
      "execution_count": 3,
      "outputs": [
        {
          "output_type": "stream",
          "name": "stdout",
          "text": [
            "Mounted at /content/drive\n"
          ]
        }
      ]
    },
    {
      "cell_type": "code",
      "source": [
        "train_path = '/content/drive/MyDrive/DLS_DATA/assign_5/hw5_tr7.pkl'\n",
        "test_path = '/content/drive/MyDrive/DLS_DATA/assign_5/hw5_te7.pkl'"
      ],
      "metadata": {
        "id": "OsrOwT14QnMo"
      },
      "execution_count": null,
      "outputs": []
    },
    {
      "cell_type": "code",
      "source": [
        "with open(train_path, 'rb') as f:\n",
        "    x_train = pickle.load(f)"
      ],
      "metadata": {
        "id": "ZaYraog_QnVM"
      },
      "execution_count": null,
      "outputs": []
    },
    {
      "cell_type": "code",
      "source": [
        "with open(test_path, 'rb') as f:\n",
        "    x_test = pickle.load(f)"
      ],
      "metadata": {
        "id": "A_lQhx-CQna3"
      },
      "execution_count": null,
      "outputs": []
    },
    {
      "cell_type": "code",
      "source": [
        "print(\"Training Data Shape:\",x_train.shape)\n",
        "print(\"Testing Data Shape:\",x_test.shape)"
      ],
      "metadata": {
        "colab": {
          "base_uri": "https://localhost:8080/"
        },
        "id": "VsKVW3pcQngi",
        "outputId": "7fbbd4e4-1773-43f1-c128-394b608d84f5"
      },
      "execution_count": null,
      "outputs": [
        {
          "output_type": "stream",
          "name": "stdout",
          "text": [
            "Training Data Shape: (6265, 28, 28)\n",
            "Testing Data Shape: (1028, 28, 28)\n"
          ]
        }
      ]
    },
    {
      "cell_type": "code",
      "source": [
        "x_train = x_train\n",
        "x_test = x_test"
      ],
      "metadata": {
        "id": "76J9z0L_euRg"
      },
      "execution_count": null,
      "outputs": []
    },
    {
      "cell_type": "code",
      "source": [
        "train_size = 6265\n",
        "batch_size = 32\n",
        "test_size = 1028"
      ],
      "metadata": {
        "id": "djm6EXDZQnlQ"
      },
      "execution_count": null,
      "outputs": []
    },
    {
      "cell_type": "code",
      "source": [
        "class parameterize(layers.Layer):\n",
        "    \"\"\"Uses (z_mean, z_log_var) to sample z, the vector encoding a digit.\"\"\"\n",
        "\n",
        "    def call(self, inputs):\n",
        "        z_mean, z_log_var = inputs\n",
        "        batch = tf.shape(z_mean)[0]\n",
        "        dim = tf.shape(z_mean)[1]\n",
        "        epsilon = tf.keras.backend.random_normal(shape=(batch,dim))\n",
        "        return z_mean + tf.exp(0.5 * z_log_var) * epsilon"
      ],
      "metadata": {
        "id": "IwobD7IiMsf8"
      },
      "execution_count": null,
      "outputs": []
    },
    {
      "cell_type": "code",
      "source": [
        "latent_dim = 4\n",
        "\n",
        "encoder_inputs = keras.Input(shape=(28, 28, 1))\n",
        "x = layers.Flatten()(encoder_inputs)\n",
        "x = layers.Dense(1024, activation=\"gelu\")(x),\n",
        "x = layers.Dense(1024, activation=\"gelu\")(x[0]),\n",
        "x = layers.Dense(1024, activation=\"gelu\")(x[0]),\n",
        "x = layers.Dense(1024, activation=\"gelu\")(x[0]),\n",
        "z_mean = layers.Dense(latent_dim, name=\"z_mean\")(x[0])\n",
        "z_log_var = layers.Dense(latent_dim, name=\"z_log_var\")(x[0])\n",
        "z = parameterize()([z_mean, z_log_var])\n",
        "encoder = keras.Model(encoder_inputs, [z_mean, z_log_var, z], name=\"encoder\")\n",
        "encoder.summary()"
      ],
      "metadata": {
        "colab": {
          "base_uri": "https://localhost:8080/"
        },
        "id": "yp24ozXHLaUp",
        "outputId": "cdf2b38b-2683-48a2-a844-e9b88ab4543a"
      },
      "execution_count": null,
      "outputs": [
        {
          "output_type": "stream",
          "name": "stdout",
          "text": [
            "Model: \"encoder\"\n",
            "__________________________________________________________________________________________________\n",
            " Layer (type)                   Output Shape         Param #     Connected to                     \n",
            "==================================================================================================\n",
            " input_34 (InputLayer)          [(None, 28, 28, 1)]  0           []                               \n",
            "                                                                                                  \n",
            " flatten_22 (Flatten)           (None, 784)          0           ['input_34[0][0]']               \n",
            "                                                                                                  \n",
            " dense_151 (Dense)              (None, 1024)         803840      ['flatten_22[0][0]']             \n",
            "                                                                                                  \n",
            " dense_152 (Dense)              (None, 1024)         1049600     ['dense_151[0][0]']              \n",
            "                                                                                                  \n",
            " dense_153 (Dense)              (None, 1024)         1049600     ['dense_152[0][0]']              \n",
            "                                                                                                  \n",
            " dense_154 (Dense)              (None, 1024)         1049600     ['dense_153[0][0]']              \n",
            "                                                                                                  \n",
            " z_mean (Dense)                 (None, 4)            4100        ['dense_154[0][0]']              \n",
            "                                                                                                  \n",
            " z_log_var (Dense)              (None, 4)            4100        ['dense_154[0][0]']              \n",
            "                                                                                                  \n",
            " parameterize_16 (parameterize)  (None, 4)           0           ['z_mean[0][0]',                 \n",
            "                                                                  'z_log_var[0][0]']              \n",
            "                                                                                                  \n",
            "==================================================================================================\n",
            "Total params: 3,960,840\n",
            "Trainable params: 3,960,840\n",
            "Non-trainable params: 0\n",
            "__________________________________________________________________________________________________\n"
          ]
        }
      ]
    },
    {
      "cell_type": "code",
      "source": [
        "latent_inputs = keras.Input(shape=(latent_dim,))\n",
        "x = layers.Dense(1024, activation=\"gelu\")(latent_inputs),\n",
        "x = layers.Dense(1024, activation=\"gelu\")(x[0]),\n",
        "x = layers.Dense(1024, activation=\"gelu\")(x[0]),\n",
        "x = layers.Dense(1024, activation=\"gelu\")(x[0]),\n",
        "decoder_outputs = layers.Dense(784, activation=\"sigmoid\")(x[0])\n",
        "outputs = keras.layers.Reshape(target_shape=(28,28,1),input_shape=(784,))(decoder_outputs)\n",
        "decoder = keras.Model(latent_inputs, outputs, name=\"decoder\")\n",
        "decoder.summary()"
      ],
      "metadata": {
        "colab": {
          "base_uri": "https://localhost:8080/"
        },
        "id": "oy1cc96jLafm",
        "outputId": "c3251599-0e70-468c-de61-fb51ed9f6e0e"
      },
      "execution_count": null,
      "outputs": [
        {
          "output_type": "stream",
          "name": "stdout",
          "text": [
            "Model: \"decoder\"\n",
            "_________________________________________________________________\n",
            " Layer (type)                Output Shape              Param #   \n",
            "=================================================================\n",
            " input_35 (InputLayer)       [(None, 4)]               0         \n",
            "                                                                 \n",
            " dense_155 (Dense)           (None, 1024)              5120      \n",
            "                                                                 \n",
            " dense_156 (Dense)           (None, 1024)              1049600   \n",
            "                                                                 \n",
            " dense_157 (Dense)           (None, 1024)              1049600   \n",
            "                                                                 \n",
            " dense_158 (Dense)           (None, 1024)              1049600   \n",
            "                                                                 \n",
            " dense_159 (Dense)           (None, 784)               803600    \n",
            "                                                                 \n",
            " reshape_9 (Reshape)         (None, 28, 28, 1)         0         \n",
            "                                                                 \n",
            "=================================================================\n",
            "Total params: 3,957,520\n",
            "Trainable params: 3,957,520\n",
            "Non-trainable params: 0\n",
            "_________________________________________________________________\n"
          ]
        }
      ]
    },
    {
      "cell_type": "code",
      "source": [
        "class VAE(tf.keras.Model):\n",
        "    def __init__(self, encoder,decoder, **kwargs):\n",
        "        super(VAE, self).__init__(**kwargs)\n",
        "        self.encoder = encoder\n",
        "        self.decoder = decoder\n",
        "        self.total_loss_tracker = keras.metrics.Mean(name=\"total_loss\")\n",
        "        self.reconstruction_loss_tracker = keras.metrics.Mean(\n",
        "            name=\"reconstruction_loss\"\n",
        "        )\n",
        "        self.kl_loss_tracker = keras.metrics.Mean(name=\"kl_loss\")\n",
        "        self.val_total_loss_tracker = keras.metrics.Mean(name=\"val_total_loss\")\n",
        "        self.val_reconstruction_loss_tracker = keras.metrics.Mean(\n",
        "            name=\"val_reconstruction_loss\"\n",
        "        )\n",
        "        self.val_kl_loss_tracker = keras.metrics.Mean(name=\"val_kl_loss\")\n",
        "\n",
        "    @property\n",
        "    def metrics(self):\n",
        "        return [\n",
        "            self.total_loss_tracker,\n",
        "            self.reconstruction_loss_tracker,\n",
        "            self.kl_loss_tracker,\n",
        "            self.val_total_loss_tracker,\n",
        "            self.val_reconstruction_loss_tracker,\n",
        "            self.val_kl_loss_tracker\n",
        "        ]\n",
        "    \n",
        "    def compute_loss(self, x):\n",
        "        mean,logvar,z = self.encoder(x)\n",
        "        x_logit = self.decoder(z)\n",
        "        reconstruction_loss = tf.reduce_mean(\n",
        "                tf.reduce_sum(\n",
        "                    keras.losses.binary_crossentropy(x, x_logit), axis=(1, 2)\n",
        "                )\n",
        "            )\n",
        "        kl_loss = -0.5 * (1 + logvar - tf.square(mean) - tf.exp(logvar))\n",
        "        kl_loss = tf.reduce_mean(tf.reduce_sum(kl_loss, axis=1))\n",
        "        total_loss = reconstruction_loss + kl_loss\n",
        "\n",
        "        return reconstruction_loss,kl_loss,total_loss\n",
        "      \n",
        "    def test_step(self,x):\n",
        "        reconstruction_loss,kl_loss,loss = self.compute_loss(x)\n",
        "        self.val_kl_loss_tracker.update_state(kl_loss)\n",
        "        self.val_reconstruction_loss_tracker.update_state(reconstruction_loss)\n",
        "        self.val_total_loss_tracker.update_state(loss)\n",
        "\n",
        "        return {\n",
        "              \"val_loss\": self.total_loss_tracker.result(),\n",
        "              \"val_reconstruction_loss\": self.reconstruction_loss_tracker.result(),\n",
        "              \"val_kl_loss\": self.kl_loss_tracker.result(),\n",
        "          }\n",
        "\n",
        "    def train_step(self,x):\n",
        "        with tf.GradientTape() as tape:\n",
        "            reconstruction_loss,kl_loss,loss = self.compute_loss(x)\n",
        "        gradients = tape.gradient(loss, self.trainable_variables)\n",
        "        self.optimizer.apply_gradients(zip(gradients, self.trainable_variables))\n",
        "\n",
        "        self.kl_loss_tracker.update_state(kl_loss)\n",
        "        self.reconstruction_loss_tracker.update_state(reconstruction_loss)\n",
        "        self.total_loss_tracker.update_state(loss)\n",
        "\n",
        "        return {\n",
        "              \"loss\": self.total_loss_tracker.result(),\n",
        "              \"reconstruction_loss\": self.reconstruction_loss_tracker.result(),\n",
        "              \"kl_loss\": self.kl_loss_tracker.result(),\n",
        "          }"
      ],
      "metadata": {
        "id": "_ijZBsjAQnv0"
      },
      "execution_count": null,
      "outputs": []
    },
    {
      "cell_type": "code",
      "source": [
        "epochs = 10\n",
        "latent_dim = 4"
      ],
      "metadata": {
        "id": "jjBSKwXAQn7S"
      },
      "execution_count": null,
      "outputs": []
    },
    {
      "cell_type": "code",
      "source": [
        "mnist_digits = np.concatenate([x_train, x_test], axis=0)\n",
        "mnist_digits = np.expand_dims(mnist_digits, -1).astype(\"float32\")"
      ],
      "metadata": {
        "id": "JrU7sQhHI079"
      },
      "execution_count": null,
      "outputs": []
    },
    {
      "cell_type": "code",
      "source": [
        "vae = VAE(encoder,decoder)\n",
        "vae.compile(optimizer=keras.optimizers.Adam())\n",
        "history = vae.fit(\n",
        "    mnist_digits,\n",
        "    batch_size=32,\n",
        "    epochs=epochs\n",
        ")"
      ],
      "metadata": {
        "colab": {
          "base_uri": "https://localhost:8080/"
        },
        "id": "ECXjq_9dQn1B",
        "outputId": "fa64a163-4e9e-417c-f2aa-7a30cbd7bbcb"
      },
      "execution_count": null,
      "outputs": [
        {
          "output_type": "stream",
          "name": "stdout",
          "text": [
            "Epoch 1/10\n",
            "228/228 [==============================] - 30s 123ms/step - loss: 240.1464 - reconstruction_loss: 185.5958 - kl_loss: 5.0578\n",
            "Epoch 2/10\n",
            "228/228 [==============================] - 26s 116ms/step - loss: 148.2927 - reconstruction_loss: 140.7891 - kl_loss: 4.7733\n",
            "Epoch 3/10\n",
            "228/228 [==============================] - 27s 119ms/step - loss: 136.5457 - reconstruction_loss: 126.4817 - kl_loss: 6.3112\n",
            "Epoch 4/10\n",
            "228/228 [==============================] - 27s 118ms/step - loss: 127.5612 - reconstruction_loss: 118.9410 - kl_loss: 6.9804\n",
            "Epoch 5/10\n",
            "228/228 [==============================] - 27s 117ms/step - loss: 122.3450 - reconstruction_loss: 115.9191 - kl_loss: 7.1916\n",
            "Epoch 6/10\n",
            "228/228 [==============================] - 30s 132ms/step - loss: 121.5907 - reconstruction_loss: 113.9596 - kl_loss: 7.3140\n",
            "Epoch 7/10\n",
            "228/228 [==============================] - 27s 119ms/step - loss: 120.4253 - reconstruction_loss: 112.6810 - kl_loss: 7.3843\n",
            "Epoch 8/10\n",
            "228/228 [==============================] - 28s 123ms/step - loss: 118.6636 - reconstruction_loss: 111.3230 - kl_loss: 7.4950\n",
            "Epoch 9/10\n",
            "228/228 [==============================] - 27s 118ms/step - loss: 117.8203 - reconstruction_loss: 110.6382 - kl_loss: 7.5629\n",
            "Epoch 10/10\n",
            "228/228 [==============================] - 26s 116ms/step - loss: 118.0726 - reconstruction_loss: 110.4028 - kl_loss: 7.5962\n"
          ]
        }
      ]
    },
    {
      "cell_type": "code",
      "source": [
        "n = 10 # Number of images to reconstruct\n",
        "K = 4 # Latent Vector Dimension"
      ],
      "metadata": {
        "id": "euM3ayxIQoKJ"
      },
      "execution_count": null,
      "outputs": []
    },
    {
      "cell_type": "code",
      "source": [
        "z_rand = tf.constant(np.random.normal(0,1,size=(n,K)),dtype=tf.float32)"
      ],
      "metadata": {
        "id": "C2WpFrUPQoP2"
      },
      "execution_count": null,
      "outputs": []
    },
    {
      "cell_type": "code",
      "source": [
        "x_rand_recon = vae.decoder(z_rand)\n",
        "x_rand_recon = tf.reshape(x_rand_recon,shape=(-1,28,28)).numpy()\n",
        "fig, axes = plt.subplots(1,n, figsize=(20,20),sharex=True, sharey=True,subplot_kw=dict(aspect='equal'))\n",
        "\n",
        "for idx in range(0,n):\n",
        "    ax = axes[idx]\n",
        "    img = x_rand_recon[idx,:,:]\n",
        "    ax.imshow(img, cmap='gray_r')\n",
        "    ax.set_title(\"Image index:\"+str(idx))"
      ],
      "metadata": {
        "colab": {
          "base_uri": "https://localhost:8080/",
          "height": 158
        },
        "id": "90ZOPHOFQoTQ",
        "outputId": "2353cf70-dac0-4644-c07f-672af75acd38"
      },
      "execution_count": null,
      "outputs": [
        {
          "output_type": "display_data",
          "data": {
            "text/plain": [
              "<Figure size 1440x1440 with 10 Axes>"
            ],
            "image/png": "[encoded data removed]"
          },
          "metadata": {
            "needs_background": "light"
          }
        }
      ]
    },
    {
      "cell_type": "code",
      "source": [
        "val_rand = [-2,-1.5,-1,-0.5,0,0.5,1,1.5,2,2.5]\n",
        "x_rand_recon_overall = np.zeros((K,n,28,28))\n",
        "s = np.array([np.random.normal(0, 1, 3)]*n).reshape(n,K-1)\n",
        "for i in range(0,K):\n",
        "  z_rand = np.zeros((n,K))\n",
        "  for j in range(0,K):\n",
        "    if(j==i):\n",
        "      z_rand[:,i]= val_rand\n",
        "    else:\n",
        "      z_rand[:,j]= s[:,j-1]\n",
        "  \n",
        "  x_rand_recon = vae.decoder(z_rand)\n",
        "  x_rand_recon_overall[i,:,:,:] = tf.reshape(x_rand_recon,shape=(-1,28,28)).numpy()\n",
        "  \n",
        "fig, axes = plt.subplots(K,n, \n",
        "                        figsize=(25,10),\n",
        "                        sharex=True, sharey=True)\n",
        "for i in range(0,K):\n",
        "  for idx in range(0,n):\n",
        "    ax = axes[i,idx]\n",
        "    # plot image on subplot\n",
        "    img = x_rand_recon_overall[i,idx,:,:]\n",
        "    ax.imshow(img, cmap='gray_r')\n",
        "    ax.set_title(\"i=\"+str(i)+\"|idx=\"+str(idx))"
      ],
      "metadata": {
        "colab": {
          "base_uri": "https://localhost:8080/",
          "height": 496
        },
        "id": "fxWDJTl9QoXq",
        "outputId": "75307f0a-536d-41ef-fd1a-f46cfd73772c"
      },
      "execution_count": null,
      "outputs": [
        {
          "output_type": "display_data",
          "data": {
            "text/plain": [
              "<Figure size 1800x720 with 40 Axes>"
            ],
            "image/png": "[encoded data removed]"
          },
          "metadata": {
            "needs_background": "light"
          }
        }
      ]
    },
    {
      "cell_type": "markdown",
      "source": [
        "P3: Conditional GAN"
      ],
      "metadata": {
        "id": "izE0x4v4yiqm"
      }
    },
    {
      "cell_type": "code",
      "source": [
        "# Reference:\n",
        "# https://keras.io/examples/generative/conditional_gan/\n",
        "# https://towardsdatascience.com/cgan-conditional-generative-adversarial-network-how-to-gain-control-over-gan-outputs-b30620bd0cc8#:~:text=Conditional%20GAN%20(cGAN)%20allows%20us,learn%20the%20difference%20between%20them."
      ],
      "metadata": {
        "id": "Gb8iRQRhQocX"
      },
      "execution_count": null,
      "outputs": []
    },
    {
      "cell_type": "code",
      "source": [
        "batch_size = 100\n",
        "num_classes = 10\n",
        "latent_dim = 100\n",
        "total_size = 784"
      ],
      "metadata": {
        "id": "Iy0LwgIJQoli"
      },
      "execution_count": 4,
      "outputs": []
    },
    {
      "cell_type": "code",
      "source": [
        "(x_train, y_train), (x_test, y_test) = keras.datasets.mnist.load_data()\n",
        "all_digits = np.concatenate([x_train, x_test])\n",
        "all_labels = np.concatenate([y_train, y_test])\n",
        "\n",
        "all_digits = (all_digits.astype(\"float32\") - 127.5) / 127.5\n",
        "all_digits = np.reshape(all_digits, (-1, total_size))\n",
        "all_labels = keras.utils.to_categorical(all_labels, num_classes)\n",
        "# all_labels = tf.where(tf.equal(all_labels, 0), -1, all_labels)\n",
        "\n",
        "# Create tf.data.Dataset.\n",
        "dataset = tf.data.Dataset.from_tensor_slices((all_digits, all_labels))\n",
        "dataset = dataset.shuffle(buffer_size=1024).batch(batch_size)\n",
        "\n",
        "print(f\"Shape of training images: {all_digits.shape}\")\n",
        "print(f\"Shape of training labels: {all_labels.shape}\")"
      ],
      "metadata": {
        "id": "G3aRBeQkQorv",
        "outputId": "7c1df3a7-6e31-425f-ca24-1ffb9db7224e",
        "colab": {
          "base_uri": "https://localhost:8080/"
        }
      },
      "execution_count": 5,
      "outputs": [
        {
          "output_type": "stream",
          "name": "stdout",
          "text": [
            "Downloading data from https://storage.googleapis.com/tensorflow/tf-keras-datasets/mnist.npz\n",
            "11490434/11490434 [==============================] - 0s 0us/step\n",
            "Shape of training images: (70000, 784)\n",
            "Shape of training labels: (70000, 10)\n"
          ]
        }
      ]
    },
    {
      "cell_type": "code",
      "source": [
        "gen_input = latent_dim + num_classes\n",
        "dis_input = total_size + num_classes\n",
        "print(\"Generator Input Size:\",gen_input)\n",
        "print(\"Discriminator Input Size:\",dis_input)"
      ],
      "metadata": {
        "id": "Ip0DdNKNQoum",
        "outputId": "ba2e0e2b-0962-4734-8189-335d3f9959a9",
        "colab": {
          "base_uri": "https://localhost:8080/"
        }
      },
      "execution_count": 6,
      "outputs": [
        {
          "output_type": "stream",
          "name": "stdout",
          "text": [
            "Generator Input Size: 110\n",
            "Discriminator Input Size: 794\n"
          ]
        }
      ]
    },
    {
      "cell_type": "code",
      "source": [
        "he_initializer = tf.keras.initializers.HeNormal()"
      ],
      "metadata": {
        "id": "JhT4NHkZCs_s"
      },
      "execution_count": 7,
      "outputs": []
    },
    {
      "cell_type": "code",
      "source": [
        "# Create the discriminator.\n",
        "discriminator = keras.Sequential(\n",
        "    [   \n",
        "        keras.layers.InputLayer((dis_input,)),\n",
        "        layers.Dense(400,kernel_initializer = he_initializer),\n",
        "        layers.LeakyReLU(alpha=0.2),\n",
        "        layers.Dropout(0.2),\n",
        "        layers.Dense(200,kernel_initializer = he_initializer),\n",
        "        layers.LeakyReLU(alpha=0.2),\n",
        "        layers.Dropout(0.1),\n",
        "        layers.Dense(100,kernel_initializer = he_initializer),\n",
        "        layers.LeakyReLU(alpha=0.2),\n",
        "        layers.Dropout(0.1),\n",
        "        layers.Dense(1,kernel_initializer = he_initializer)\n",
        "    ],\n",
        "    name=\"discriminator\",\n",
        ")\n",
        "\n",
        "# Create the generator.\n",
        "generator = keras.Sequential(\n",
        "    [\n",
        "        keras.layers.InputLayer((gen_input,)),\n",
        "        layers.Dense(200,kernel_initializer = he_initializer),\n",
        "        layers.LeakyReLU(alpha=0.2),\n",
        "        layers.BatchNormalization(momentum=0.5),\n",
        "        layers.Dense(400,kernel_initializer = he_initializer),\n",
        "        layers.LeakyReLU(alpha=0.2),\n",
        "        layers.BatchNormalization(momentum=0.5),\n",
        "        layers.Dense(784,kernel_initializer = he_initializer,activation='tanh')\n",
        "    ],\n",
        "    name=\"generator\",\n",
        ")"
      ],
      "metadata": {
        "id": "ZCiN7zHiQoy2"
      },
      "execution_count": 24,
      "outputs": []
    },
    {
      "cell_type": "code",
      "source": [
        "class C_GAN(keras.Model):\n",
        "    def __init__(self, discriminator, generator, latent_dim):\n",
        "        super(C_GAN, self).__init__()\n",
        "        self.discriminator = discriminator\n",
        "        self.generator = generator\n",
        "        self.latent_dim = latent_dim\n",
        "        self.gen_loss_tracker = keras.metrics.Mean(name=\"generator_loss\")\n",
        "        self.disc_loss_tracker = keras.metrics.Mean(name=\"discriminator_loss\")\n",
        "        self.real_acc_tracker = tf.keras.metrics.BinaryAccuracy(name=\"real_acc\")\n",
        "        self.fake_acc_tracker = tf.keras.metrics.BinaryAccuracy(name=\"fake_acc\")\n",
        "    \n",
        "    def create_labels(self):\n",
        "        c_labels = []\n",
        "        for i in range(100):\n",
        "            if(i%10==0):\n",
        "              labels = [0,0,0,0,0,0,0,0,0,0]\n",
        "              labels[i//10] = 1\n",
        "            c_labels.append(labels)\n",
        "        c_labels = np.array(c_labels)\n",
        "        return c_labels\n",
        "\n",
        "    @property\n",
        "    def metrics(self):\n",
        "        return [self.gen_loss_tracker, self.disc_loss_tracker,self.real_acc_tracker,self.fake_acc_tracker]\n",
        "\n",
        "    def compile(self, d_optimizer, g_optimizer, loss_fn):\n",
        "        super(C_GAN, self).compile()\n",
        "        self.d_optimizer = d_optimizer\n",
        "        self.g_optimizer = g_optimizer\n",
        "        self.loss_fn = loss_fn\n",
        "    \n",
        "    def train_step(self, data):\n",
        "        real_images, one_hot_labels = data\n",
        "\n",
        "        one_hot_labels = tf.cast(one_hot_labels, tf.float32)\n",
        "\n",
        "        batch_size = tf.shape(real_images)[0]\n",
        "        random_latent_vectors = tf.random.normal(shape=(batch_size, self.latent_dim))\n",
        "        random_vector_labels = tf.concat([random_latent_vectors, one_hot_labels], axis=1)\n",
        "\n",
        "        generated_images = self.generator(random_vector_labels)\n",
        "        \n",
        "        fake_image_and_labels = tf.concat([generated_images, one_hot_labels], -1)\n",
        "        real_image_and_labels = tf.concat([real_images, one_hot_labels], -1)\n",
        "        combined_images = tf.concat([fake_image_and_labels, real_image_and_labels], axis=0)\n",
        "\n",
        "        labels = tf.concat([tf.ones((batch_size, 1)), tf.zeros((batch_size, 1))], axis=0)\n",
        "\n",
        "        with tf.GradientTape() as tape:\n",
        "            predictions = self.discriminator(combined_images)\n",
        "            d_loss = self.loss_fn(labels, predictions)\n",
        "        grads = tape.gradient(d_loss, self.discriminator.trainable_weights)\n",
        "        self.d_optimizer.apply_gradients(zip(grads, self.discriminator.trainable_weights))\n",
        "        \n",
        "        self.fake_acc_tracker.update_state(labels[:batch_size,:],predictions[:batch_size,:])\n",
        "        self.real_acc_tracker.update_state(labels[batch_size:,:],predictions[batch_size:,:])\n",
        "\n",
        "        c_labels = self.create_labels()\n",
        "\n",
        "        random_latent_vectors = tf.random.normal(shape=(batch_size, self.latent_dim))\n",
        "        random_vector_labels = tf.concat([random_latent_vectors, c_labels], axis=1)\n",
        "\n",
        "        misleading_labels = tf.zeros((batch_size, 1))\n",
        "\n",
        "        with tf.GradientTape() as tape:\n",
        "            fake_images = self.generator(random_vector_labels)\n",
        "            fake_image_and_labels = tf.concat([fake_images, c_labels], -1)\n",
        "            predictions1 = self.discriminator(fake_image_and_labels)\n",
        "            g_loss = self.loss_fn(misleading_labels, predictions1)\n",
        "        grads = tape.gradient(g_loss, self.generator.trainable_weights)\n",
        "        self.g_optimizer.apply_gradients(zip(grads, self.generator.trainable_weights))\n",
        "\n",
        "        self.gen_loss_tracker.update_state(g_loss)\n",
        "        self.disc_loss_tracker.update_state(d_loss)\n",
        "        return {\n",
        "            \"g_loss\": self.gen_loss_tracker.result(),\n",
        "            \"d_loss\": self.disc_loss_tracker.result(),\n",
        "            \"real_acc\": self.real_acc_tracker.result(),\n",
        "            \"fake_acc\": self.fake_acc_tracker.result()\n",
        "        }"
      ],
      "metadata": {
        "id": "04sQ58XTQo8i"
      },
      "execution_count": 25,
      "outputs": []
    },
    {
      "cell_type": "code",
      "source": [
        "cond_gan = C_GAN(\n",
        "    discriminator=discriminator, generator=generator, latent_dim=latent_dim\n",
        ")\n",
        "cond_gan.compile(\n",
        "    d_optimizer=keras.optimizers.Adam(learning_rate=0.0003),\n",
        "    g_optimizer=keras.optimizers.Adam(learning_rate=0.0003),\n",
        "    loss_fn=keras.losses.BinaryCrossentropy(from_logits=True),\n",
        ")\n",
        "\n",
        "history = cond_gan.fit(dataset, epochs=50)"
      ],
      "metadata": {
        "id": "x43gzjCYQpAy",
        "outputId": "990e6c26-54c6-4450-d2df-f85f488046bf",
        "colab": {
          "base_uri": "https://localhost:8080/"
        }
      },
      "execution_count": null,
      "outputs": [
        {
          "output_type": "stream",
          "name": "stdout",
          "text": [
            "Epoch 1/50\n",
            "700/700 [==============================] - 25s 34ms/step - g_loss: 6.9350 - d_loss: 0.0324 - real_acc: 0.9994 - fake_acc: 0.9945\n",
            "Epoch 2/50\n",
            "700/700 [==============================] - 26s 37ms/step - g_loss: 12.6770 - d_loss: 0.0150 - real_acc: 0.9963 - fake_acc: 0.9882\n",
            "Epoch 3/50\n",
            "700/700 [==============================] - 26s 38ms/step - g_loss: 10.4644 - d_loss: 0.0722 - real_acc: 0.9721 - fake_acc: 0.9445\n",
            "Epoch 4/50\n",
            "700/700 [==============================] - 24s 34ms/step - g_loss: 6.9134 - d_loss: 0.1882 - real_acc: 0.9480 - fake_acc: 0.8950\n",
            "Epoch 5/50\n",
            "700/700 [==============================] - 24s 35ms/step - g_loss: 4.9673 - d_loss: 0.2011 - real_acc: 0.9340 - fake_acc: 0.8677\n"
          ]
        }
      ]
    },
    {
      "cell_type": "code",
      "source": [
        "# print(history.history)\n",
        "plt.plot(history.history['real_acc'],label='Real Images Accuracy')\n",
        "plt.plot(history.history['fake_acc'],label='Fake Images Accuracy')\n",
        "plt.title(\"Discriminator Real and Fake Accuracies\")"
      ],
      "metadata": {
        "id": "mUcW6OynQpFc"
      },
      "execution_count": null,
      "outputs": []
    },
    {
      "cell_type": "code",
      "source": [
        "m, n = 10,10\n",
        "noise = np.random.normal(0,1,(m*n, latent_dim))\n",
        "\n",
        "labels=[]\n",
        "for x in np.eye(10):\n",
        "  for i in range(10):\n",
        "    labels.append(x.tolist())\n",
        "labels = np.array(labels)\n",
        "\n",
        "image = cond_gan.generator.predict(np.concatenate([noise,labels],axis=1))\n",
        "image = 0.5 * image + 0.5\n",
        "fig, ax = plt.subplots(m,n, figsize = (10,10))\n",
        "cnt = 0\n",
        "for i in range(m):\n",
        "    for j in range(n):\n",
        "        ax[i,j].imshow(image[cnt,:].reshape((28,28)),cmap = 'gray')\n",
        "        ax[i,j].axis('off')\n",
        "        cnt+=1"
      ],
      "metadata": {
        "id": "jYYTYmIfQpKU"
      },
      "execution_count": null,
      "outputs": []
    },
    {
      "cell_type": "code",
      "source": [],
      "metadata": {
        "id": "pAUPhosrQpO9"
      },
      "execution_count": null,
      "outputs": []
    },
    {
      "cell_type": "code",
      "source": [],
      "metadata": {
        "id": "zPfSuFneQpTh"
      },
      "execution_count": null,
      "outputs": []
    },
    {
      "cell_type": "code",
      "source": [],
      "metadata": {
        "id": "b_zXCGSbQpYe"
      },
      "execution_count": null,
      "outputs": []
    },
    {
      "cell_type": "code",
      "source": [],
      "metadata": {
        "id": "1k9Yt6BUQpcb"
      },
      "execution_count": null,
      "outputs": []
    },
    {
      "cell_type": "code",
      "source": [],
      "metadata": {
        "id": "jILZ3FtgQpgI"
      },
      "execution_count": null,
      "outputs": []
    },
    {
      "cell_type": "code",
      "source": [],
      "metadata": {
        "id": "_V59xMeLQpk7"
      },
      "execution_count": null,
      "outputs": []
    },
    {
      "cell_type": "code",
      "source": [],
      "metadata": {
        "id": "cVwn705jQpqa"
      },
      "execution_count": null,
      "outputs": []
    },
    {
      "cell_type": "code",
      "source": [],
      "metadata": {
        "id": "SYlCJNLyQpuD"
      },
      "execution_count": null,
      "outputs": []
    },
    {
      "cell_type": "code",
      "source": [],
      "metadata": {
        "id": "kNXLggeeQpyJ"
      },
      "execution_count": null,
      "outputs": []
    },
    {
      "cell_type": "code",
      "source": [],
      "metadata": {
        "id": "XLCq_CVfQbsC"
      },
      "execution_count": null,
      "outputs": []
    },
    {
      "cell_type": "code",
      "source": [],
      "metadata": {
        "id": "BmmGi1GeQbzJ"
      },
      "execution_count": null,
      "outputs": []
    },
    {
      "cell_type": "code",
      "source": [],
      "metadata": {
        "id": "sIYbNDN6Qb6n"
      },
      "execution_count": null,
      "outputs": []
    },
    {
      "cell_type": "code",
      "source": [],
      "metadata": {
        "id": "t-PoK3KcQcBI"
      },
      "execution_count": null,
      "outputs": []
    },
    {
      "cell_type": "code",
      "source": [],
      "metadata": {
        "id": "du0Ohow9QcIH"
      },
      "execution_count": null,
      "outputs": []
    },
    {
      "cell_type": "code",
      "source": [],
      "metadata": {
        "id": "rbq_WUWYQcQj"
      },
      "execution_count": null,
      "outputs": []
    },
    {
      "cell_type": "code",
      "source": [],
      "metadata": {
        "id": "Cmwh-V9PQcX3"
      },
      "execution_count": null,
      "outputs": []
    },
    {
      "cell_type": "code",
      "source": [],
      "metadata": {
        "id": "6by_JSRdQced"
      },
      "execution_count": null,
      "outputs": []
    },
    {
      "cell_type": "code",
      "source": [],
      "metadata": {
        "id": "M0Ab1SBoQcnJ"
      },
      "execution_count": null,
      "outputs": []
    },
    {
      "cell_type": "code",
      "source": [],
      "metadata": {
        "id": "hfL7cyx2QcuI"
      },
      "execution_count": null,
      "outputs": []
    },
    {
      "cell_type": "code",
      "source": [],
      "metadata": {
        "id": "mprfM7XcQc0a"
      },
      "execution_count": null,
      "outputs": []
    },
    {
      "cell_type": "code",
      "source": [],
      "metadata": {
        "id": "TW-JDg_2Qc6E"
      },
      "execution_count": null,
      "outputs": []
    },
    {
      "cell_type": "code",
      "source": [],
      "metadata": {
        "id": "Zyj2KTFfQdAO"
      },
      "execution_count": null,
      "outputs": []
    },
    {
      "cell_type": "code",
      "source": [],
      "metadata": {
        "id": "Nlzc2BJsQdGy"
      },
      "execution_count": null,
      "outputs": []
    },
    {
      "cell_type": "code",
      "source": [],
      "metadata": {
        "id": "6jPSk0TpQdMr"
      },
      "execution_count": null,
      "outputs": []
    },
    {
      "cell_type": "code",
      "source": [],
      "metadata": {
        "id": "LN151IOzQdT6"
      },
      "execution_count": null,
      "outputs": []
    },
    {
      "cell_type": "code",
      "source": [],
      "metadata": {
        "id": "5zsonsWjQdZw"
      },
      "execution_count": null,
      "outputs": []
    },
    {
      "cell_type": "code",
      "source": [],
      "metadata": {
        "id": "RsNg3RcHQdfd"
      },
      "execution_count": null,
      "outputs": []
    },
    {
      "cell_type": "code",
      "source": [],
      "metadata": {
        "id": "HLIa8YagQdlP"
      },
      "execution_count": null,
      "outputs": []
    },
    {
      "cell_type": "code",
      "source": [],
      "metadata": {
        "id": "QE7E6sqkQdqn"
      },
      "execution_count": null,
      "outputs": []
    },
    {
      "cell_type": "code",
      "source": [],
      "metadata": {
        "id": "9yoblBghQdvt"
      },
      "execution_count": null,
      "outputs": []
    },
    {
      "cell_type": "code",
      "source": [],
      "metadata": {
        "id": "s6YbU84XQd1H"
      },
      "execution_count": null,
      "outputs": []
    },
    {
      "cell_type": "code",
      "source": [],
      "metadata": {
        "id": "c_Qs0-4OQd5t"
      },
      "execution_count": null,
      "outputs": []
    },
    {
      "cell_type": "code",
      "source": [],
      "metadata": {
        "id": "3wCyyd2yQd_F"
      },
      "execution_count": null,
      "outputs": []
    },
    {
      "cell_type": "code",
      "source": [],
      "metadata": {
        "id": "DeT6EpKRQeDd"
      },
      "execution_count": null,
      "outputs": []
    },
    {
      "cell_type": "code",
      "source": [],
      "metadata": {
        "id": "k0NQGO02QeII"
      },
      "execution_count": null,
      "outputs": []
    },
    {
      "cell_type": "code",
      "source": [],
      "metadata": {
        "id": "wqPIfq6IQeNV"
      },
      "execution_count": null,
      "outputs": []
    },
    {
      "cell_type": "code",
      "source": [],
      "metadata": {
        "id": "VFS_Kl2YQeRi"
      },
      "execution_count": null,
      "outputs": []
    },
    {
      "cell_type": "code",
      "source": [],
      "metadata": {
        "id": "3Pwv0wGLQeWY"
      },
      "execution_count": null,
      "outputs": []
    },
    {
      "cell_type": "code",
      "source": [],
      "metadata": {
        "id": "o6kuZ3SAQehL"
      },
      "execution_count": null,
      "outputs": []
    },
    {
      "cell_type": "code",
      "source": [],
      "metadata": {
        "id": "tV_frOv_Qemq"
      },
      "execution_count": null,
      "outputs": []
    },
    {
      "cell_type": "code",
      "source": [],
      "metadata": {
        "id": "dzXaoSy4Qerk"
      },
      "execution_count": null,
      "outputs": []
    },
    {
      "cell_type": "code",
      "source": [],
      "metadata": {
        "id": "OIgByK7VQexZ"
      },
      "execution_count": null,
      "outputs": []
    },
    {
      "cell_type": "code",
      "source": [],
      "metadata": {
        "id": "5xo_XnGeQe2u"
      },
      "execution_count": null,
      "outputs": []
    },
    {
      "cell_type": "code",
      "source": [],
      "metadata": {
        "id": "cml1NA2hQe7m"
      },
      "execution_count": null,
      "outputs": []
    },
    {
      "cell_type": "code",
      "source": [],
      "metadata": {
        "id": "AfoQ6XmHQfDe"
      },
      "execution_count": null,
      "outputs": []
    },
    {
      "cell_type": "code",
      "source": [],
      "metadata": {
        "id": "QxYW_fPpQfJl"
      },
      "execution_count": null,
      "outputs": []
    },
    {
      "cell_type": "code",
      "source": [],
      "metadata": {
        "id": "zbNvD2nUQfPS"
      },
      "execution_count": null,
      "outputs": []
    },
    {
      "cell_type": "code",
      "source": [],
      "metadata": {
        "id": "1rysQcqAQfUX"
      },
      "execution_count": null,
      "outputs": []
    },
    {
      "cell_type": "code",
      "source": [],
      "metadata": {
        "id": "Qyg-Xk9ZQfaX"
      },
      "execution_count": null,
      "outputs": []
    },
    {
      "cell_type": "code",
      "source": [],
      "metadata": {
        "id": "GRNWz65AQfgE"
      },
      "execution_count": null,
      "outputs": []
    },
    {
      "cell_type": "code",
      "source": [],
      "metadata": {
        "id": "2yLlfPoMQflr"
      },
      "execution_count": null,
      "outputs": []
    },
    {
      "cell_type": "code",
      "source": [],
      "metadata": {
        "id": "7vbYu27iQfrc"
      },
      "execution_count": null,
      "outputs": []
    },
    {
      "cell_type": "code",
      "source": [],
      "metadata": {
        "id": "jkzv7Yj9Qfwo"
      },
      "execution_count": null,
      "outputs": []
    },
    {
      "cell_type": "code",
      "source": [],
      "metadata": {
        "id": "udS15g0AQf2p"
      },
      "execution_count": null,
      "outputs": []
    },
    {
      "cell_type": "code",
      "source": [],
      "metadata": {
        "id": "00BBUhWkQf8L"
      },
      "execution_count": null,
      "outputs": []
    },
    {
      "cell_type": "code",
      "source": [],
      "metadata": {
        "id": "stmSwWC_QgBP"
      },
      "execution_count": null,
      "outputs": []
    },
    {
      "cell_type": "code",
      "source": [],
      "metadata": {
        "id": "7G0i7QgBQgHY"
      },
      "execution_count": null,
      "outputs": []
    },
    {
      "cell_type": "code",
      "source": [],
      "metadata": {
        "id": "KmBPc4wgQgM1"
      },
      "execution_count": null,
      "outputs": []
    },
    {
      "cell_type": "code",
      "source": [],
      "metadata": {
        "id": "6ci7OEORQgRq"
      },
      "execution_count": null,
      "outputs": []
    },
    {
      "cell_type": "code",
      "source": [],
      "metadata": {
        "id": "s7mH9vUAQgWt"
      },
      "execution_count": null,
      "outputs": []
    },
    {
      "cell_type": "code",
      "source": [],
      "metadata": {
        "id": "d-6OGqohQgbr"
      },
      "execution_count": null,
      "outputs": []
    },
    {
      "cell_type": "code",
      "source": [],
      "metadata": {
        "id": "ElEgj2OaQgg2"
      },
      "execution_count": null,
      "outputs": []
    },
    {
      "cell_type": "code",
      "source": [],
      "metadata": {
        "id": "00cbZo_8Qgmi"
      },
      "execution_count": null,
      "outputs": []
    },
    {
      "cell_type": "code",
      "source": [],
      "metadata": {
        "id": "Rszia88-Qgra"
      },
      "execution_count": null,
      "outputs": []
    },
    {
      "cell_type": "code",
      "source": [],
      "metadata": {
        "id": "oN9e1sbWQgws"
      },
      "execution_count": null,
      "outputs": []
    },
    {
      "cell_type": "code",
      "source": [],
      "metadata": {
        "id": "2-A2C6D-Qg11"
      },
      "execution_count": null,
      "outputs": []
    },
    {
      "cell_type": "code",
      "source": [],
      "metadata": {
        "id": "6bj-V54LQg7Q"
      },
      "execution_count": null,
      "outputs": []
    },
    {
      "cell_type": "code",
      "source": [],
      "metadata": {
        "id": "UmD7s58tQhAk"
      },
      "execution_count": null,
      "outputs": []
    },
    {
      "cell_type": "code",
      "source": [],
      "metadata": {
        "id": "MgYQErpsQhFw"
      },
      "execution_count": null,
      "outputs": []
    },
    {
      "cell_type": "code",
      "source": [],
      "metadata": {
        "id": "dI-oaykMQhKb"
      },
      "execution_count": null,
      "outputs": []
    },
    {
      "cell_type": "code",
      "source": [],
      "metadata": {
        "id": "UUsCa7p0QhQH"
      },
      "execution_count": null,
      "outputs": []
    },
    {
      "cell_type": "code",
      "source": [],
      "metadata": {
        "id": "RvuW8GukQhVf"
      },
      "execution_count": null,
      "outputs": []
    },
    {
      "cell_type": "code",
      "source": [],
      "metadata": {
        "id": "QpdKPAHUQha3"
      },
      "execution_count": null,
      "outputs": []
    },
    {
      "cell_type": "code",
      "source": [],
      "metadata": {
        "id": "0Vgjw-fRQhe3"
      },
      "execution_count": null,
      "outputs": []
    },
    {
      "cell_type": "code",
      "source": [],
      "metadata": {
        "id": "8nFDIxy6QhkP"
      },
      "execution_count": null,
      "outputs": []
    },
    {
      "cell_type": "code",
      "source": [],
      "metadata": {
        "id": "C3b7I21vQhp9"
      },
      "execution_count": null,
      "outputs": []
    },
    {
      "cell_type": "code",
      "source": [],
      "metadata": {
        "id": "S3-wP_XhQhui"
      },
      "execution_count": null,
      "outputs": []
    },
    {
      "cell_type": "code",
      "source": [],
      "metadata": {
        "id": "gY05I01IQh0g"
      },
      "execution_count": null,
      "outputs": []
    },
    {
      "cell_type": "code",
      "source": [],
      "metadata": {
        "id": "vxNsAnmAQh5D"
      },
      "execution_count": null,
      "outputs": []
    },
    {
      "cell_type": "code",
      "source": [],
      "metadata": {
        "id": "HWfRNzzHQh9x"
      },
      "execution_count": null,
      "outputs": []
    },
    {
      "cell_type": "code",
      "source": [],
      "metadata": {
        "id": "Ia2XEmMjQiCZ"
      },
      "execution_count": null,
      "outputs": []
    },
    {
      "cell_type": "code",
      "source": [],
      "metadata": {
        "id": "ljmhNELzQiNM"
      },
      "execution_count": null,
      "outputs": []
    },
    {
      "cell_type": "code",
      "source": [],
      "metadata": {
        "id": "nzkxCKpbQiTJ"
      },
      "execution_count": null,
      "outputs": []
    },
    {
      "cell_type": "code",
      "source": [],
      "metadata": {
        "id": "uZKIek3CQiYE"
      },
      "execution_count": null,
      "outputs": []
    },
    {
      "cell_type": "code",
      "source": [],
      "metadata": {
        "id": "d8cx2HrnQicz"
      },
      "execution_count": null,
      "outputs": []
    },
    {
      "cell_type": "code",
      "source": [],
      "metadata": {
        "id": "J1XkTNlhQihP"
      },
      "execution_count": null,
      "outputs": []
    },
    {
      "cell_type": "code",
      "source": [],
      "metadata": {
        "id": "CPAl1vM_Qimb"
      },
      "execution_count": null,
      "outputs": []
    },
    {
      "cell_type": "code",
      "source": [],
      "metadata": {
        "id": "S9qNzp17Qisx"
      },
      "execution_count": null,
      "outputs": []
    },
    {
      "cell_type": "code",
      "source": [],
      "metadata": {
        "id": "4sk94jeBQix-"
      },
      "execution_count": null,
      "outputs": []
    },
    {
      "cell_type": "code",
      "source": [],
      "metadata": {
        "id": "VDMExQTiQi36"
      },
      "execution_count": null,
      "outputs": []
    }
  ]
}