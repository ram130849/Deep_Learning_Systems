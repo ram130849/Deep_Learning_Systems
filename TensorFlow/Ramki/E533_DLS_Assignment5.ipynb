{
  "nbformat": 4,
  "nbformat_minor": 0,
  "metadata": {
    "colab": {
      "provenance": [],
      "authorship_tag": "ABX9TyM8GYv9oJmbylc4Im5pOXws",
      "include_colab_link": true
    },
    "kernelspec": {
      "name": "python3",
      "display_name": "Python 3"
    },
    "language_info": {
      "name": "python"
    }
  },
  "cells": [
    {
      "cell_type": "markdown",
      "metadata": {
        "id": "view-in-github",
        "colab_type": "text"
      },
      "source": [
        "<a href=\"https://colab.research.google.com/github/ram130849/Deep_Learning_Systems_Assignments/blob/main/TensorFlow/Ramki/E533_DLS_Assignment5.ipynb\" target=\"_parent\"><img src=\"https://colab.research.google.com/assets/colab-badge.svg\" alt=\"Open In Colab\"/></a>"
      ]
    },
    {
      "cell_type": "markdown",
      "source": [
        "P2: Variational Autoencoders on Poor Sevens "
      ],
      "metadata": {
        "id": "lpHQpsbhRhfF"
      }
    },
    {
      "cell_type": "code",
      "source": [
        "# Reference: \n",
        "# https://www.tensorflow.org/tutorials/generative/cvae\n",
        "# https://keras.io/examples/generative/vae/\n",
        "# https://www.tensorflow.org/guide/keras/custom_layers_and_models#putting_it_all_together_an_end-to-end_example"
      ],
      "metadata": {
        "id": "NgpkWjoLf1WE"
      },
      "execution_count": 1,
      "outputs": []
    },
    {
      "cell_type": "code",
      "execution_count": 66,
      "metadata": {
        "id": "JRfmwYc2Qa8Y"
      },
      "outputs": [],
      "source": [
        "import numpy as np\n",
        "import tensorflow as tf\n",
        "from tensorflow import keras\n",
        "from tensorflow.keras import layers,Model\n",
        "import matplotlib.pyplot as plt\n",
        "import librosa\n",
        "import os\n",
        "import seaborn as sns\n",
        "from sklearn.metrics import confusion_matrix\n",
        "import gzip\n",
        "import time\n",
        "import pickle\n",
        "import random\n",
        "from IPython import display"
      ]
    },
    {
      "cell_type": "code",
      "source": [
        "from google.colab import drive\n",
        "drive.mount('/content/drive')"
      ],
      "metadata": {
        "colab": {
          "base_uri": "https://localhost:8080/"
        },
        "id": "ey86O5B3QnEl",
        "outputId": "7db3c795-e2dc-44c3-ee6f-11866b389d8a"
      },
      "execution_count": 67,
      "outputs": [
        {
          "output_type": "stream",
          "name": "stdout",
          "text": [
            "Drive already mounted at /content/drive; to attempt to forcibly remount, call drive.mount(\"/content/drive\", force_remount=True).\n"
          ]
        }
      ]
    },
    {
      "cell_type": "code",
      "source": [
        "train_path = '/content/drive/MyDrive/DLS_DATA/assign_5/hw5_tr7.pkl'\n",
        "test_path = '/content/drive/MyDrive/DLS_DATA/assign_5/hw5_te7.pkl'"
      ],
      "metadata": {
        "id": "OsrOwT14QnMo"
      },
      "execution_count": 68,
      "outputs": []
    },
    {
      "cell_type": "code",
      "source": [
        "with open(train_path, 'rb') as f:\n",
        "    x_train = pickle.load(f)"
      ],
      "metadata": {
        "id": "ZaYraog_QnVM"
      },
      "execution_count": 113,
      "outputs": []
    },
    {
      "cell_type": "code",
      "source": [
        "with open(test_path, 'rb') as f:\n",
        "    x_test = pickle.load(f)"
      ],
      "metadata": {
        "id": "A_lQhx-CQna3"
      },
      "execution_count": 114,
      "outputs": []
    },
    {
      "cell_type": "code",
      "source": [
        "print(\"Training Data Shape:\",x_train.shape)\n",
        "print(\"Testing Data Shape:\",x_test.shape)"
      ],
      "metadata": {
        "colab": {
          "base_uri": "https://localhost:8080/"
        },
        "id": "VsKVW3pcQngi",
        "outputId": "7fbbd4e4-1773-43f1-c128-394b608d84f5"
      },
      "execution_count": 115,
      "outputs": [
        {
          "output_type": "stream",
          "name": "stdout",
          "text": [
            "Training Data Shape: (6265, 28, 28)\n",
            "Testing Data Shape: (1028, 28, 28)\n"
          ]
        }
      ]
    },
    {
      "cell_type": "code",
      "source": [
        "x_train = x_train\n",
        "x_test = x_test"
      ],
      "metadata": {
        "id": "76J9z0L_euRg"
      },
      "execution_count": 116,
      "outputs": []
    },
    {
      "cell_type": "code",
      "source": [
        "train_size = 6265\n",
        "batch_size = 32\n",
        "test_size = 1028"
      ],
      "metadata": {
        "id": "djm6EXDZQnlQ"
      },
      "execution_count": 117,
      "outputs": []
    },
    {
      "cell_type": "code",
      "source": [
        "class parameterize(layers.Layer):\n",
        "    \"\"\"Uses (z_mean, z_log_var) to sample z, the vector encoding a digit.\"\"\"\n",
        "\n",
        "    def call(self, inputs):\n",
        "        z_mean, z_log_var = inputs\n",
        "        batch = tf.shape(z_mean)[0]\n",
        "        dim = tf.shape(z_mean)[1]\n",
        "        epsilon = tf.keras.backend.random_normal(shape=(batch,dim))\n",
        "        return z_mean + tf.exp(0.5 * z_log_var) * epsilon"
      ],
      "metadata": {
        "id": "IwobD7IiMsf8"
      },
      "execution_count": 118,
      "outputs": []
    },
    {
      "cell_type": "code",
      "source": [
        "latent_dim = 4\n",
        "\n",
        "encoder_inputs = keras.Input(shape=(28, 28, 1))\n",
        "x = layers.Flatten()(encoder_inputs)\n",
        "x = layers.Dense(1024, activation=\"gelu\")(x),\n",
        "x = layers.Dense(1024, activation=\"gelu\")(x[0]),\n",
        "x = layers.Dense(1024, activation=\"gelu\")(x[0]),\n",
        "x = layers.Dense(1024, activation=\"gelu\")(x[0]),\n",
        "z_mean = layers.Dense(latent_dim, name=\"z_mean\")(x[0])\n",
        "z_log_var = layers.Dense(latent_dim, name=\"z_log_var\")(x[0])\n",
        "z = parameterize()([z_mean, z_log_var])\n",
        "encoder = keras.Model(encoder_inputs, [z_mean, z_log_var, z], name=\"encoder\")\n",
        "encoder.summary()"
      ],
      "metadata": {
        "colab": {
          "base_uri": "https://localhost:8080/"
        },
        "id": "yp24ozXHLaUp",
        "outputId": "cdf2b38b-2683-48a2-a844-e9b88ab4543a"
      },
      "execution_count": 119,
      "outputs": [
        {
          "output_type": "stream",
          "name": "stdout",
          "text": [
            "Model: \"encoder\"\n",
            "__________________________________________________________________________________________________\n",
            " Layer (type)                   Output Shape         Param #     Connected to                     \n",
            "==================================================================================================\n",
            " input_34 (InputLayer)          [(None, 28, 28, 1)]  0           []                               \n",
            "                                                                                                  \n",
            " flatten_22 (Flatten)           (None, 784)          0           ['input_34[0][0]']               \n",
            "                                                                                                  \n",
            " dense_151 (Dense)              (None, 1024)         803840      ['flatten_22[0][0]']             \n",
            "                                                                                                  \n",
            " dense_152 (Dense)              (None, 1024)         1049600     ['dense_151[0][0]']              \n",
            "                                                                                                  \n",
            " dense_153 (Dense)              (None, 1024)         1049600     ['dense_152[0][0]']              \n",
            "                                                                                                  \n",
            " dense_154 (Dense)              (None, 1024)         1049600     ['dense_153[0][0]']              \n",
            "                                                                                                  \n",
            " z_mean (Dense)                 (None, 4)            4100        ['dense_154[0][0]']              \n",
            "                                                                                                  \n",
            " z_log_var (Dense)              (None, 4)            4100        ['dense_154[0][0]']              \n",
            "                                                                                                  \n",
            " parameterize_16 (parameterize)  (None, 4)           0           ['z_mean[0][0]',                 \n",
            "                                                                  'z_log_var[0][0]']              \n",
            "                                                                                                  \n",
            "==================================================================================================\n",
            "Total params: 3,960,840\n",
            "Trainable params: 3,960,840\n",
            "Non-trainable params: 0\n",
            "__________________________________________________________________________________________________\n"
          ]
        }
      ]
    },
    {
      "cell_type": "code",
      "source": [
        "latent_inputs = keras.Input(shape=(latent_dim,))\n",
        "x = layers.Dense(1024, activation=\"gelu\")(latent_inputs),\n",
        "x = layers.Dense(1024, activation=\"gelu\")(x[0]),\n",
        "x = layers.Dense(1024, activation=\"gelu\")(x[0]),\n",
        "x = layers.Dense(1024, activation=\"gelu\")(x[0]),\n",
        "decoder_outputs = layers.Dense(784, activation=\"sigmoid\")(x[0])\n",
        "outputs = keras.layers.Reshape(target_shape=(28,28,1),input_shape=(784,))(decoder_outputs)\n",
        "decoder = keras.Model(latent_inputs, outputs, name=\"decoder\")\n",
        "decoder.summary()"
      ],
      "metadata": {
        "colab": {
          "base_uri": "https://localhost:8080/"
        },
        "id": "oy1cc96jLafm",
        "outputId": "c3251599-0e70-468c-de61-fb51ed9f6e0e"
      },
      "execution_count": 120,
      "outputs": [
        {
          "output_type": "stream",
          "name": "stdout",
          "text": [
            "Model: \"decoder\"\n",
            "_________________________________________________________________\n",
            " Layer (type)                Output Shape              Param #   \n",
            "=================================================================\n",
            " input_35 (InputLayer)       [(None, 4)]               0         \n",
            "                                                                 \n",
            " dense_155 (Dense)           (None, 1024)              5120      \n",
            "                                                                 \n",
            " dense_156 (Dense)           (None, 1024)              1049600   \n",
            "                                                                 \n",
            " dense_157 (Dense)           (None, 1024)              1049600   \n",
            "                                                                 \n",
            " dense_158 (Dense)           (None, 1024)              1049600   \n",
            "                                                                 \n",
            " dense_159 (Dense)           (None, 784)               803600    \n",
            "                                                                 \n",
            " reshape_9 (Reshape)         (None, 28, 28, 1)         0         \n",
            "                                                                 \n",
            "=================================================================\n",
            "Total params: 3,957,520\n",
            "Trainable params: 3,957,520\n",
            "Non-trainable params: 0\n",
            "_________________________________________________________________\n"
          ]
        }
      ]
    },
    {
      "cell_type": "code",
      "source": [
        "class VAE(tf.keras.Model):\n",
        "    def __init__(self, encoder,decoder, **kwargs):\n",
        "        super(VAE, self).__init__(**kwargs)\n",
        "        self.encoder = encoder\n",
        "        self.decoder = decoder\n",
        "        self.total_loss_tracker = keras.metrics.Mean(name=\"total_loss\")\n",
        "        self.reconstruction_loss_tracker = keras.metrics.Mean(\n",
        "            name=\"reconstruction_loss\"\n",
        "        )\n",
        "        self.kl_loss_tracker = keras.metrics.Mean(name=\"kl_loss\")\n",
        "        self.val_total_loss_tracker = keras.metrics.Mean(name=\"val_total_loss\")\n",
        "        self.val_reconstruction_loss_tracker = keras.metrics.Mean(\n",
        "            name=\"val_reconstruction_loss\"\n",
        "        )\n",
        "        self.val_kl_loss_tracker = keras.metrics.Mean(name=\"val_kl_loss\")\n",
        "\n",
        "    @property\n",
        "    def metrics(self):\n",
        "        return [\n",
        "            self.total_loss_tracker,\n",
        "            self.reconstruction_loss_tracker,\n",
        "            self.kl_loss_tracker,\n",
        "            self.val_total_loss_tracker,\n",
        "            self.val_reconstruction_loss_tracker,\n",
        "            self.val_kl_loss_tracker\n",
        "        ]\n",
        "    \n",
        "    def compute_loss(self, x):\n",
        "        mean,logvar,z = self.encoder(x)\n",
        "        x_logit = self.decoder(z)\n",
        "        reconstruction_loss = tf.reduce_mean(\n",
        "                tf.reduce_sum(\n",
        "                    keras.losses.binary_crossentropy(x, x_logit), axis=(1, 2)\n",
        "                )\n",
        "            )\n",
        "        kl_loss = -0.5 * (1 + logvar - tf.square(mean) - tf.exp(logvar))\n",
        "        kl_loss = tf.reduce_mean(tf.reduce_sum(kl_loss, axis=1))\n",
        "        total_loss = reconstruction_loss + kl_loss\n",
        "\n",
        "        return reconstruction_loss,kl_loss,total_loss\n",
        "      \n",
        "    def test_step(self,x):\n",
        "        reconstruction_loss,kl_loss,loss = self.compute_loss(x)\n",
        "        self.val_kl_loss_tracker.update_state(kl_loss)\n",
        "        self.val_reconstruction_loss_tracker.update_state(reconstruction_loss)\n",
        "        self.val_total_loss_tracker.update_state(loss)\n",
        "\n",
        "        return {\n",
        "              \"val_loss\": self.total_loss_tracker.result(),\n",
        "              \"val_reconstruction_loss\": self.reconstruction_loss_tracker.result(),\n",
        "              \"val_kl_loss\": self.kl_loss_tracker.result(),\n",
        "          }\n",
        "\n",
        "    def train_step(self,x):\n",
        "        with tf.GradientTape() as tape:\n",
        "            reconstruction_loss,kl_loss,loss = self.compute_loss(x)\n",
        "        gradients = tape.gradient(loss, self.trainable_variables)\n",
        "        self.optimizer.apply_gradients(zip(gradients, self.trainable_variables))\n",
        "\n",
        "        self.kl_loss_tracker.update_state(kl_loss)\n",
        "        self.reconstruction_loss_tracker.update_state(reconstruction_loss)\n",
        "        self.total_loss_tracker.update_state(loss)\n",
        "\n",
        "        return {\n",
        "              \"loss\": self.total_loss_tracker.result(),\n",
        "              \"reconstruction_loss\": self.reconstruction_loss_tracker.result(),\n",
        "              \"kl_loss\": self.kl_loss_tracker.result(),\n",
        "          }"
      ],
      "metadata": {
        "id": "_ijZBsjAQnv0"
      },
      "execution_count": 121,
      "outputs": []
    },
    {
      "cell_type": "code",
      "source": [
        "epochs = 10\n",
        "latent_dim = 4"
      ],
      "metadata": {
        "id": "jjBSKwXAQn7S"
      },
      "execution_count": 122,
      "outputs": []
    },
    {
      "cell_type": "code",
      "source": [
        "mnist_digits = np.concatenate([x_train, x_test], axis=0)\n",
        "mnist_digits = np.expand_dims(mnist_digits, -1).astype(\"float32\")"
      ],
      "metadata": {
        "id": "JrU7sQhHI079"
      },
      "execution_count": 123,
      "outputs": []
    },
    {
      "cell_type": "code",
      "source": [
        "vae = VAE(encoder,decoder)\n",
        "vae.compile(optimizer=keras.optimizers.Adam())\n",
        "history = vae.fit(\n",
        "    mnist_digits,\n",
        "    batch_size=32,\n",
        "    epochs=epochs\n",
        ")"
      ],
      "metadata": {
        "colab": {
          "base_uri": "https://localhost:8080/"
        },
        "id": "ECXjq_9dQn1B",
        "outputId": "fa64a163-4e9e-417c-f2aa-7a30cbd7bbcb"
      },
      "execution_count": 124,
      "outputs": [
        {
          "output_type": "stream",
          "name": "stdout",
          "text": [
            "Epoch 1/10\n",
            "228/228 [==============================] - 30s 123ms/step - loss: 240.1464 - reconstruction_loss: 185.5958 - kl_loss: 5.0578\n",
            "Epoch 2/10\n",
            "228/228 [==============================] - 26s 116ms/step - loss: 148.2927 - reconstruction_loss: 140.7891 - kl_loss: 4.7733\n",
            "Epoch 3/10\n",
            "228/228 [==============================] - 27s 119ms/step - loss: 136.5457 - reconstruction_loss: 126.4817 - kl_loss: 6.3112\n",
            "Epoch 4/10\n",
            "228/228 [==============================] - 27s 118ms/step - loss: 127.5612 - reconstruction_loss: 118.9410 - kl_loss: 6.9804\n",
            "Epoch 5/10\n",
            "228/228 [==============================] - 27s 117ms/step - loss: 122.3450 - reconstruction_loss: 115.9191 - kl_loss: 7.1916\n",
            "Epoch 6/10\n",
            "228/228 [==============================] - 30s 132ms/step - loss: 121.5907 - reconstruction_loss: 113.9596 - kl_loss: 7.3140\n",
            "Epoch 7/10\n",
            "228/228 [==============================] - 27s 119ms/step - loss: 120.4253 - reconstruction_loss: 112.6810 - kl_loss: 7.3843\n",
            "Epoch 8/10\n",
            "228/228 [==============================] - 28s 123ms/step - loss: 118.6636 - reconstruction_loss: 111.3230 - kl_loss: 7.4950\n",
            "Epoch 9/10\n",
            "228/228 [==============================] - 27s 118ms/step - loss: 117.8203 - reconstruction_loss: 110.6382 - kl_loss: 7.5629\n",
            "Epoch 10/10\n",
            "228/228 [==============================] - 26s 116ms/step - loss: 118.0726 - reconstruction_loss: 110.4028 - kl_loss: 7.5962\n"
          ]
        }
      ]
    },
    {
      "cell_type": "code",
      "source": [
        "n = 10 # Number of images to reconstruct\n",
        "K = 4 # Latent Vector Dimension"
      ],
      "metadata": {
        "id": "euM3ayxIQoKJ"
      },
      "execution_count": 125,
      "outputs": []
    },
    {
      "cell_type": "code",
      "source": [
        "z_rand = tf.constant(np.random.normal(0,1,size=(n,K)),dtype=tf.float32)"
      ],
      "metadata": {
        "id": "C2WpFrUPQoP2"
      },
      "execution_count": 126,
      "outputs": []
    },
    {
      "cell_type": "code",
      "source": [
        "x_rand_recon = vae.decoder(z_rand)\n",
        "x_rand_recon = tf.reshape(x_rand_recon,shape=(-1,28,28)).numpy()\n",
        "fig, axes = plt.subplots(1,n, figsize=(20,20),sharex=True, sharey=True,subplot_kw=dict(aspect='equal'))\n",
        "\n",
        "for idx in range(0,n):\n",
        "    ax = axes[idx]\n",
        "    img = x_rand_recon[idx,:,:]\n",
        "    ax.imshow(img, cmap='gray_r')\n",
        "    ax.set_title(\"Image index:\"+str(idx))"
      ],
      "metadata": {
        "colab": {
          "base_uri": "https://localhost:8080/",
          "height": 158
        },
        "id": "90ZOPHOFQoTQ",
        "outputId": "2353cf70-dac0-4644-c07f-672af75acd38"
      },
      "execution_count": 127,
      "outputs": [
        {
          "output_type": "display_data",
          "data": {
            "text/plain": [
              "<Figure size 1440x1440 with 10 Axes>"
            ],
            "image/png": "[encoded data removed]"
          },
          "metadata": {
            "needs_background": "light"
          }
        }
      ]
    },
    {
      "cell_type": "code",
      "source": [
        "val_rand = np.random.normal(0,1,size=(n,))\n",
        "x_rand_recon_overall = np.zeros((K,n,28,28))\n",
        "s = np.array([np.random.normal(0, 1, 1)]*n).reshape(n,)\n",
        "for i in range(0,K):\n",
        "  z_rand = np.zeros((n,K))\n",
        "  for j in range(0,K):\n",
        "    if(j==i):\n",
        "      z_rand[:,i]= val_rand\n",
        "    else:\n",
        "      z_rand[:,j]= s\n",
        "  \n",
        "  x_rand_recon = vae.decoder(z_rand)\n",
        "  x_rand_recon_overall[i,:,:,:] = tf.reshape(x_rand_recon,shape=(-1,28,28)).numpy()\n",
        "  \n",
        "fig, axes = plt.subplots(K,n, \n",
        "                        figsize=(25,10),\n",
        "                        sharex=True, sharey=True)\n",
        "for i in range(0,K):\n",
        "  for idx in range(0,n):\n",
        "    ax = axes[i,idx]\n",
        "    # plot image on subplot\n",
        "    img = x_rand_recon_overall[i,idx,:,:]\n",
        "    ax.imshow(img, cmap='gray_r')\n",
        "    ax.set_title(\"i=\"+str(i)+\"|idx=\"+str(idx))"
      ],
      "metadata": {
        "colab": {
          "base_uri": "https://localhost:8080/",
          "height": 496
        },
        "id": "fxWDJTl9QoXq",
        "outputId": "13b5d616-85fc-4e27-b628-19aaaba92bdd"
      },
      "execution_count": 148,
      "outputs": [
        {
          "output_type": "display_data",
          "data": {
            "text/plain": [
              "<Figure size 1800x720 with 40 Axes>"
            ],
            "image/png": "[encoded data removed]"
          },
          "metadata": {
            "needs_background": "light"
          }
        }
      ]
    },
    {
      "cell_type": "code",
      "source": [],
      "metadata": {
        "id": "Gb8iRQRhQocX"
      },
      "execution_count": null,
      "outputs": []
    },
    {
      "cell_type": "code",
      "source": [],
      "metadata": {
        "id": "Iy0LwgIJQoli"
      },
      "execution_count": null,
      "outputs": []
    },
    {
      "cell_type": "code",
      "source": [],
      "metadata": {
        "id": "G3aRBeQkQorv"
      },
      "execution_count": null,
      "outputs": []
    },
    {
      "cell_type": "code",
      "source": [],
      "metadata": {
        "id": "Ip0DdNKNQoum"
      },
      "execution_count": null,
      "outputs": []
    },
    {
      "cell_type": "code",
      "source": [],
      "metadata": {
        "id": "ZCiN7zHiQoy2"
      },
      "execution_count": null,
      "outputs": []
    },
    {
      "cell_type": "code",
      "source": [],
      "metadata": {
        "id": "DomsNPxrQo34"
      },
      "execution_count": null,
      "outputs": []
    },
    {
      "cell_type": "code",
      "source": [],
      "metadata": {
        "id": "04sQ58XTQo8i"
      },
      "execution_count": null,
      "outputs": []
    },
    {
      "cell_type": "code",
      "source": [],
      "metadata": {
        "id": "x43gzjCYQpAy"
      },
      "execution_count": null,
      "outputs": []
    },
    {
      "cell_type": "code",
      "source": [],
      "metadata": {
        "id": "mUcW6OynQpFc"
      },
      "execution_count": null,
      "outputs": []
    },
    {
      "cell_type": "code",
      "source": [],
      "metadata": {
        "id": "jYYTYmIfQpKU"
      },
      "execution_count": null,
      "outputs": []
    },
    {
      "cell_type": "code",
      "source": [],
      "metadata": {
        "id": "pAUPhosrQpO9"
      },
      "execution_count": null,
      "outputs": []
    },
    {
      "cell_type": "code",
      "source": [],
      "metadata": {
        "id": "zPfSuFneQpTh"
      },
      "execution_count": null,
      "outputs": []
    },
    {
      "cell_type": "code",
      "source": [],
      "metadata": {
        "id": "b_zXCGSbQpYe"
      },
      "execution_count": null,
      "outputs": []
    },
    {
      "cell_type": "code",
      "source": [],
      "metadata": {
        "id": "1k9Yt6BUQpcb"
      },
      "execution_count": null,
      "outputs": []
    },
    {
      "cell_type": "code",
      "source": [],
      "metadata": {
        "id": "jILZ3FtgQpgI"
      },
      "execution_count": null,
      "outputs": []
    },
    {
      "cell_type": "code",
      "source": [],
      "metadata": {
        "id": "_V59xMeLQpk7"
      },
      "execution_count": null,
      "outputs": []
    },
    {
      "cell_type": "code",
      "source": [],
      "metadata": {
        "id": "cVwn705jQpqa"
      },
      "execution_count": null,
      "outputs": []
    },
    {
      "cell_type": "code",
      "source": [],
      "metadata": {
        "id": "SYlCJNLyQpuD"
      },
      "execution_count": null,
      "outputs": []
    },
    {
      "cell_type": "code",
      "source": [],
      "metadata": {
        "id": "kNXLggeeQpyJ"
      },
      "execution_count": null,
      "outputs": []
    },
    {
      "cell_type": "code",
      "source": [],
      "metadata": {
        "id": "XLCq_CVfQbsC"
      },
      "execution_count": null,
      "outputs": []
    },
    {
      "cell_type": "code",
      "source": [],
      "metadata": {
        "id": "BmmGi1GeQbzJ"
      },
      "execution_count": null,
      "outputs": []
    },
    {
      "cell_type": "code",
      "source": [],
      "metadata": {
        "id": "sIYbNDN6Qb6n"
      },
      "execution_count": null,
      "outputs": []
    },
    {
      "cell_type": "code",
      "source": [],
      "metadata": {
        "id": "t-PoK3KcQcBI"
      },
      "execution_count": null,
      "outputs": []
    },
    {
      "cell_type": "code",
      "source": [],
      "metadata": {
        "id": "du0Ohow9QcIH"
      },
      "execution_count": null,
      "outputs": []
    },
    {
      "cell_type": "code",
      "source": [],
      "metadata": {
        "id": "rbq_WUWYQcQj"
      },
      "execution_count": null,
      "outputs": []
    },
    {
      "cell_type": "code",
      "source": [],
      "metadata": {
        "id": "Cmwh-V9PQcX3"
      },
      "execution_count": null,
      "outputs": []
    },
    {
      "cell_type": "code",
      "source": [],
      "metadata": {
        "id": "6by_JSRdQced"
      },
      "execution_count": null,
      "outputs": []
    },
    {
      "cell_type": "code",
      "source": [],
      "metadata": {
        "id": "M0Ab1SBoQcnJ"
      },
      "execution_count": null,
      "outputs": []
    },
    {
      "cell_type": "code",
      "source": [],
      "metadata": {
        "id": "hfL7cyx2QcuI"
      },
      "execution_count": null,
      "outputs": []
    },
    {
      "cell_type": "code",
      "source": [],
      "metadata": {
        "id": "mprfM7XcQc0a"
      },
      "execution_count": null,
      "outputs": []
    },
    {
      "cell_type": "code",
      "source": [],
      "metadata": {
        "id": "TW-JDg_2Qc6E"
      },
      "execution_count": null,
      "outputs": []
    },
    {
      "cell_type": "code",
      "source": [],
      "metadata": {
        "id": "Zyj2KTFfQdAO"
      },
      "execution_count": null,
      "outputs": []
    },
    {
      "cell_type": "code",
      "source": [],
      "metadata": {
        "id": "Nlzc2BJsQdGy"
      },
      "execution_count": null,
      "outputs": []
    },
    {
      "cell_type": "code",
      "source": [],
      "metadata": {
        "id": "6jPSk0TpQdMr"
      },
      "execution_count": null,
      "outputs": []
    },
    {
      "cell_type": "code",
      "source": [],
      "metadata": {
        "id": "LN151IOzQdT6"
      },
      "execution_count": null,
      "outputs": []
    },
    {
      "cell_type": "code",
      "source": [],
      "metadata": {
        "id": "5zsonsWjQdZw"
      },
      "execution_count": null,
      "outputs": []
    },
    {
      "cell_type": "code",
      "source": [],
      "metadata": {
        "id": "RsNg3RcHQdfd"
      },
      "execution_count": null,
      "outputs": []
    },
    {
      "cell_type": "code",
      "source": [],
      "metadata": {
        "id": "HLIa8YagQdlP"
      },
      "execution_count": null,
      "outputs": []
    },
    {
      "cell_type": "code",
      "source": [],
      "metadata": {
        "id": "QE7E6sqkQdqn"
      },
      "execution_count": null,
      "outputs": []
    },
    {
      "cell_type": "code",
      "source": [],
      "metadata": {
        "id": "9yoblBghQdvt"
      },
      "execution_count": null,
      "outputs": []
    },
    {
      "cell_type": "code",
      "source": [],
      "metadata": {
        "id": "s6YbU84XQd1H"
      },
      "execution_count": null,
      "outputs": []
    },
    {
      "cell_type": "code",
      "source": [],
      "metadata": {
        "id": "c_Qs0-4OQd5t"
      },
      "execution_count": null,
      "outputs": []
    },
    {
      "cell_type": "code",
      "source": [],
      "metadata": {
        "id": "3wCyyd2yQd_F"
      },
      "execution_count": null,
      "outputs": []
    },
    {
      "cell_type": "code",
      "source": [],
      "metadata": {
        "id": "DeT6EpKRQeDd"
      },
      "execution_count": null,
      "outputs": []
    },
    {
      "cell_type": "code",
      "source": [],
      "metadata": {
        "id": "k0NQGO02QeII"
      },
      "execution_count": null,
      "outputs": []
    },
    {
      "cell_type": "code",
      "source": [],
      "metadata": {
        "id": "wqPIfq6IQeNV"
      },
      "execution_count": null,
      "outputs": []
    },
    {
      "cell_type": "code",
      "source": [],
      "metadata": {
        "id": "VFS_Kl2YQeRi"
      },
      "execution_count": null,
      "outputs": []
    },
    {
      "cell_type": "code",
      "source": [],
      "metadata": {
        "id": "3Pwv0wGLQeWY"
      },
      "execution_count": null,
      "outputs": []
    },
    {
      "cell_type": "code",
      "source": [],
      "metadata": {
        "id": "o6kuZ3SAQehL"
      },
      "execution_count": null,
      "outputs": []
    },
    {
      "cell_type": "code",
      "source": [],
      "metadata": {
        "id": "tV_frOv_Qemq"
      },
      "execution_count": null,
      "outputs": []
    },
    {
      "cell_type": "code",
      "source": [],
      "metadata": {
        "id": "dzXaoSy4Qerk"
      },
      "execution_count": null,
      "outputs": []
    },
    {
      "cell_type": "code",
      "source": [],
      "metadata": {
        "id": "OIgByK7VQexZ"
      },
      "execution_count": null,
      "outputs": []
    },
    {
      "cell_type": "code",
      "source": [],
      "metadata": {
        "id": "5xo_XnGeQe2u"
      },
      "execution_count": null,
      "outputs": []
    },
    {
      "cell_type": "code",
      "source": [],
      "metadata": {
        "id": "cml1NA2hQe7m"
      },
      "execution_count": null,
      "outputs": []
    },
    {
      "cell_type": "code",
      "source": [],
      "metadata": {
        "id": "AfoQ6XmHQfDe"
      },
      "execution_count": null,
      "outputs": []
    },
    {
      "cell_type": "code",
      "source": [],
      "metadata": {
        "id": "QxYW_fPpQfJl"
      },
      "execution_count": null,
      "outputs": []
    },
    {
      "cell_type": "code",
      "source": [],
      "metadata": {
        "id": "zbNvD2nUQfPS"
      },
      "execution_count": null,
      "outputs": []
    },
    {
      "cell_type": "code",
      "source": [],
      "metadata": {
        "id": "1rysQcqAQfUX"
      },
      "execution_count": null,
      "outputs": []
    },
    {
      "cell_type": "code",
      "source": [],
      "metadata": {
        "id": "Qyg-Xk9ZQfaX"
      },
      "execution_count": null,
      "outputs": []
    },
    {
      "cell_type": "code",
      "source": [],
      "metadata": {
        "id": "GRNWz65AQfgE"
      },
      "execution_count": null,
      "outputs": []
    },
    {
      "cell_type": "code",
      "source": [],
      "metadata": {
        "id": "2yLlfPoMQflr"
      },
      "execution_count": null,
      "outputs": []
    },
    {
      "cell_type": "code",
      "source": [],
      "metadata": {
        "id": "7vbYu27iQfrc"
      },
      "execution_count": null,
      "outputs": []
    },
    {
      "cell_type": "code",
      "source": [],
      "metadata": {
        "id": "jkzv7Yj9Qfwo"
      },
      "execution_count": null,
      "outputs": []
    },
    {
      "cell_type": "code",
      "source": [],
      "metadata": {
        "id": "udS15g0AQf2p"
      },
      "execution_count": null,
      "outputs": []
    },
    {
      "cell_type": "code",
      "source": [],
      "metadata": {
        "id": "00BBUhWkQf8L"
      },
      "execution_count": null,
      "outputs": []
    },
    {
      "cell_type": "code",
      "source": [],
      "metadata": {
        "id": "stmSwWC_QgBP"
      },
      "execution_count": null,
      "outputs": []
    },
    {
      "cell_type": "code",
      "source": [],
      "metadata": {
        "id": "7G0i7QgBQgHY"
      },
      "execution_count": null,
      "outputs": []
    },
    {
      "cell_type": "code",
      "source": [],
      "metadata": {
        "id": "KmBPc4wgQgM1"
      },
      "execution_count": null,
      "outputs": []
    },
    {
      "cell_type": "code",
      "source": [],
      "metadata": {
        "id": "6ci7OEORQgRq"
      },
      "execution_count": null,
      "outputs": []
    },
    {
      "cell_type": "code",
      "source": [],
      "metadata": {
        "id": "s7mH9vUAQgWt"
      },
      "execution_count": null,
      "outputs": []
    },
    {
      "cell_type": "code",
      "source": [],
      "metadata": {
        "id": "d-6OGqohQgbr"
      },
      "execution_count": null,
      "outputs": []
    },
    {
      "cell_type": "code",
      "source": [],
      "metadata": {
        "id": "ElEgj2OaQgg2"
      },
      "execution_count": null,
      "outputs": []
    },
    {
      "cell_type": "code",
      "source": [],
      "metadata": {
        "id": "00cbZo_8Qgmi"
      },
      "execution_count": null,
      "outputs": []
    },
    {
      "cell_type": "code",
      "source": [],
      "metadata": {
        "id": "Rszia88-Qgra"
      },
      "execution_count": null,
      "outputs": []
    },
    {
      "cell_type": "code",
      "source": [],
      "metadata": {
        "id": "oN9e1sbWQgws"
      },
      "execution_count": null,
      "outputs": []
    },
    {
      "cell_type": "code",
      "source": [],
      "metadata": {
        "id": "2-A2C6D-Qg11"
      },
      "execution_count": null,
      "outputs": []
    },
    {
      "cell_type": "code",
      "source": [],
      "metadata": {
        "id": "6bj-V54LQg7Q"
      },
      "execution_count": null,
      "outputs": []
    },
    {
      "cell_type": "code",
      "source": [],
      "metadata": {
        "id": "UmD7s58tQhAk"
      },
      "execution_count": null,
      "outputs": []
    },
    {
      "cell_type": "code",
      "source": [],
      "metadata": {
        "id": "MgYQErpsQhFw"
      },
      "execution_count": null,
      "outputs": []
    },
    {
      "cell_type": "code",
      "source": [],
      "metadata": {
        "id": "dI-oaykMQhKb"
      },
      "execution_count": null,
      "outputs": []
    },
    {
      "cell_type": "code",
      "source": [],
      "metadata": {
        "id": "UUsCa7p0QhQH"
      },
      "execution_count": null,
      "outputs": []
    },
    {
      "cell_type": "code",
      "source": [],
      "metadata": {
        "id": "RvuW8GukQhVf"
      },
      "execution_count": null,
      "outputs": []
    },
    {
      "cell_type": "code",
      "source": [],
      "metadata": {
        "id": "QpdKPAHUQha3"
      },
      "execution_count": null,
      "outputs": []
    },
    {
      "cell_type": "code",
      "source": [],
      "metadata": {
        "id": "0Vgjw-fRQhe3"
      },
      "execution_count": null,
      "outputs": []
    },
    {
      "cell_type": "code",
      "source": [],
      "metadata": {
        "id": "8nFDIxy6QhkP"
      },
      "execution_count": null,
      "outputs": []
    },
    {
      "cell_type": "code",
      "source": [],
      "metadata": {
        "id": "C3b7I21vQhp9"
      },
      "execution_count": null,
      "outputs": []
    },
    {
      "cell_type": "code",
      "source": [],
      "metadata": {
        "id": "S3-wP_XhQhui"
      },
      "execution_count": null,
      "outputs": []
    },
    {
      "cell_type": "code",
      "source": [],
      "metadata": {
        "id": "gY05I01IQh0g"
      },
      "execution_count": null,
      "outputs": []
    },
    {
      "cell_type": "code",
      "source": [],
      "metadata": {
        "id": "vxNsAnmAQh5D"
      },
      "execution_count": null,
      "outputs": []
    },
    {
      "cell_type": "code",
      "source": [],
      "metadata": {
        "id": "HWfRNzzHQh9x"
      },
      "execution_count": null,
      "outputs": []
    },
    {
      "cell_type": "code",
      "source": [],
      "metadata": {
        "id": "Ia2XEmMjQiCZ"
      },
      "execution_count": null,
      "outputs": []
    },
    {
      "cell_type": "code",
      "source": [],
      "metadata": {
        "id": "ljmhNELzQiNM"
      },
      "execution_count": null,
      "outputs": []
    },
    {
      "cell_type": "code",
      "source": [],
      "metadata": {
        "id": "nzkxCKpbQiTJ"
      },
      "execution_count": null,
      "outputs": []
    },
    {
      "cell_type": "code",
      "source": [],
      "metadata": {
        "id": "uZKIek3CQiYE"
      },
      "execution_count": null,
      "outputs": []
    },
    {
      "cell_type": "code",
      "source": [],
      "metadata": {
        "id": "d8cx2HrnQicz"
      },
      "execution_count": null,
      "outputs": []
    },
    {
      "cell_type": "code",
      "source": [],
      "metadata": {
        "id": "J1XkTNlhQihP"
      },
      "execution_count": null,
      "outputs": []
    },
    {
      "cell_type": "code",
      "source": [],
      "metadata": {
        "id": "CPAl1vM_Qimb"
      },
      "execution_count": null,
      "outputs": []
    },
    {
      "cell_type": "code",
      "source": [],
      "metadata": {
        "id": "S9qNzp17Qisx"
      },
      "execution_count": null,
      "outputs": []
    },
    {
      "cell_type": "code",
      "source": [],
      "metadata": {
        "id": "4sk94jeBQix-"
      },
      "execution_count": null,
      "outputs": []
    },
    {
      "cell_type": "code",
      "source": [],
      "metadata": {
        "id": "VDMExQTiQi36"
      },
      "execution_count": null,
      "outputs": []
    }
  ]
}