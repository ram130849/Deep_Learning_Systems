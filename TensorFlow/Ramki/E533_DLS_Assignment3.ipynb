{
  "nbformat": 4,
  "nbformat_minor": 0,
  "metadata": {
    "colab": {
      "provenance": [],
      "collapsed_sections": [],
      "authorship_tag": "ABX9TyMJEzuglsC2b4uZZHg//aaw",
      "include_colab_link": true
    },
    "kernelspec": {
      "name": "python3",
      "display_name": "Python 3"
    },
    "language_info": {
      "name": "python"
    }
  },
  "cells": [
    {
      "cell_type": "markdown",
      "metadata": {
        "id": "view-in-github",
        "colab_type": "text"
      },
      "source": [
        "<a href=\"https://colab.research.google.com/github/ram130849/Deep_Learning_Systems_Assignments/blob/main/TensorFlow/Ramki/E533_DLS_Assignment3.ipynb\" target=\"_parent\"><img src=\"https://colab.research.google.com/assets/colab-badge.svg\" alt=\"Open In Colab\"/></a>"
      ]
    },
    {
      "cell_type": "code",
      "source": [
        "!pip install IPython\n",
        "!pip install librosa"
      ],
      "metadata": {
        "colab": {
          "base_uri": "https://localhost:8080/"
        },
        "id": "IN4WsmbMUmTr",
        "outputId": "eebda899-4219-4aa7-ae32-5cbf6ea8cc0f"
      },
      "execution_count": 1,
      "outputs": [
        {
          "output_type": "stream",
          "name": "stdout",
          "text": [
            "Looking in indexes: https://pypi.org/simple, https://us-python.pkg.dev/colab-wheels/public/simple/\n",
            "Requirement already satisfied: IPython in /usr/local/lib/python3.7/dist-packages (7.9.0)\n",
            "Requirement already satisfied: pexpect in /usr/local/lib/python3.7/dist-packages (from IPython) (4.8.0)\n",
            "Requirement already satisfied: traitlets>=4.2 in /usr/local/lib/python3.7/dist-packages (from IPython) (5.1.1)\n",
            "Requirement already satisfied: backcall in /usr/local/lib/python3.7/dist-packages (from IPython) (0.2.0)\n",
            "Requirement already satisfied: prompt-toolkit<2.1.0,>=2.0.0 in /usr/local/lib/python3.7/dist-packages (from IPython) (2.0.10)\n",
            "Requirement already satisfied: decorator in /usr/local/lib/python3.7/dist-packages (from IPython) (4.4.2)\n",
            "Requirement already satisfied: pygments in /usr/local/lib/python3.7/dist-packages (from IPython) (2.6.1)\n",
            "Requirement already satisfied: setuptools>=18.5 in /usr/local/lib/python3.7/dist-packages (from IPython) (57.4.0)\n",
            "Requirement already satisfied: pickleshare in /usr/local/lib/python3.7/dist-packages (from IPython) (0.7.5)\n",
            "Collecting jedi>=0.10\n",
            "  Downloading jedi-0.18.1-py2.py3-none-any.whl (1.6 MB)\n",
            "\u001b[K     |████████████████████████████████| 1.6 MB 12.1 MB/s \n",
            "\u001b[?25hRequirement already satisfied: parso<0.9.0,>=0.8.0 in /usr/local/lib/python3.7/dist-packages (from jedi>=0.10->IPython) (0.8.3)\n",
            "Requirement already satisfied: six>=1.9.0 in /usr/local/lib/python3.7/dist-packages (from prompt-toolkit<2.1.0,>=2.0.0->IPython) (1.15.0)\n",
            "Requirement already satisfied: wcwidth in /usr/local/lib/python3.7/dist-packages (from prompt-toolkit<2.1.0,>=2.0.0->IPython) (0.2.5)\n",
            "Requirement already satisfied: ptyprocess>=0.5 in /usr/local/lib/python3.7/dist-packages (from pexpect->IPython) (0.7.0)\n",
            "Installing collected packages: jedi\n",
            "Successfully installed jedi-0.18.1\n",
            "Looking in indexes: https://pypi.org/simple, https://us-python.pkg.dev/colab-wheels/public/simple/\n",
            "Requirement already satisfied: librosa in /usr/local/lib/python3.7/dist-packages (0.8.1)\n",
            "Requirement already satisfied: audioread>=2.0.0 in /usr/local/lib/python3.7/dist-packages (from librosa) (3.0.0)\n",
            "Requirement already satisfied: scipy>=1.0.0 in /usr/local/lib/python3.7/dist-packages (from librosa) (1.7.3)\n",
            "Requirement already satisfied: numba>=0.43.0 in /usr/local/lib/python3.7/dist-packages (from librosa) (0.56.3)\n",
            "Requirement already satisfied: joblib>=0.14 in /usr/local/lib/python3.7/dist-packages (from librosa) (1.2.0)\n",
            "Requirement already satisfied: numpy>=1.15.0 in /usr/local/lib/python3.7/dist-packages (from librosa) (1.21.6)\n",
            "Requirement already satisfied: decorator>=3.0.0 in /usr/local/lib/python3.7/dist-packages (from librosa) (4.4.2)\n",
            "Requirement already satisfied: resampy>=0.2.2 in /usr/local/lib/python3.7/dist-packages (from librosa) (0.4.2)\n",
            "Requirement already satisfied: scikit-learn!=0.19.0,>=0.14.0 in /usr/local/lib/python3.7/dist-packages (from librosa) (1.0.2)\n",
            "Requirement already satisfied: pooch>=1.0 in /usr/local/lib/python3.7/dist-packages (from librosa) (1.6.0)\n",
            "Requirement already satisfied: soundfile>=0.10.2 in /usr/local/lib/python3.7/dist-packages (from librosa) (0.11.0)\n",
            "Requirement already satisfied: packaging>=20.0 in /usr/local/lib/python3.7/dist-packages (from librosa) (21.3)\n",
            "Requirement already satisfied: llvmlite<0.40,>=0.39.0dev0 in /usr/local/lib/python3.7/dist-packages (from numba>=0.43.0->librosa) (0.39.1)\n",
            "Requirement already satisfied: importlib-metadata in /usr/local/lib/python3.7/dist-packages (from numba>=0.43.0->librosa) (4.13.0)\n",
            "Requirement already satisfied: setuptools in /usr/local/lib/python3.7/dist-packages (from numba>=0.43.0->librosa) (57.4.0)\n",
            "Requirement already satisfied: pyparsing!=3.0.5,>=2.0.2 in /usr/local/lib/python3.7/dist-packages (from packaging>=20.0->librosa) (3.0.9)\n",
            "Requirement already satisfied: appdirs>=1.3.0 in /usr/local/lib/python3.7/dist-packages (from pooch>=1.0->librosa) (1.4.4)\n",
            "Requirement already satisfied: requests>=2.19.0 in /usr/local/lib/python3.7/dist-packages (from pooch>=1.0->librosa) (2.23.0)\n",
            "Requirement already satisfied: urllib3!=1.25.0,!=1.25.1,<1.26,>=1.21.1 in /usr/local/lib/python3.7/dist-packages (from requests>=2.19.0->pooch>=1.0->librosa) (1.24.3)\n",
            "Requirement already satisfied: idna<3,>=2.5 in /usr/local/lib/python3.7/dist-packages (from requests>=2.19.0->pooch>=1.0->librosa) (2.10)\n",
            "Requirement already satisfied: chardet<4,>=3.0.2 in /usr/local/lib/python3.7/dist-packages (from requests>=2.19.0->pooch>=1.0->librosa) (3.0.4)\n",
            "Requirement already satisfied: certifi>=2017.4.17 in /usr/local/lib/python3.7/dist-packages (from requests>=2.19.0->pooch>=1.0->librosa) (2022.9.24)\n",
            "Requirement already satisfied: threadpoolctl>=2.0.0 in /usr/local/lib/python3.7/dist-packages (from scikit-learn!=0.19.0,>=0.14.0->librosa) (3.1.0)\n",
            "Requirement already satisfied: cffi>=1.0 in /usr/local/lib/python3.7/dist-packages (from soundfile>=0.10.2->librosa) (1.15.1)\n",
            "Requirement already satisfied: pycparser in /usr/local/lib/python3.7/dist-packages (from cffi>=1.0->soundfile>=0.10.2->librosa) (2.21)\n",
            "Requirement already satisfied: zipp>=0.5 in /usr/local/lib/python3.7/dist-packages (from importlib-metadata->numba>=0.43.0->librosa) (3.9.0)\n",
            "Requirement already satisfied: typing-extensions>=3.6.4 in /usr/local/lib/python3.7/dist-packages (from importlib-metadata->numba>=0.43.0->librosa) (4.1.1)\n"
          ]
        }
      ]
    },
    {
      "cell_type": "code",
      "execution_count": 52,
      "metadata": {
        "colab": {
          "base_uri": "https://localhost:8080/"
        },
        "id": "nWR2IVz5E9lH",
        "outputId": "3c0655e1-dad1-4368-b1d9-cc09ac9b6f44"
      },
      "outputs": [
        {
          "output_type": "stream",
          "name": "stdout",
          "text": [
            "Drive already mounted at /content/drive/; to attempt to forcibly remount, call drive.mount(\"/content/drive/\", force_remount=True).\n"
          ]
        }
      ],
      "source": [
        "import numpy as np\n",
        "from IPython.display import Audio\n",
        "import librosa\n",
        "from google.colab import drive\n",
        "import tensorflow as tf\n",
        "from tensorflow.keras import backend as K\n",
        "from librosa.core import stft,istft\n",
        "from tensorflow.keras.layers import GRU,Dropout\n",
        "from tensorflow.keras.layers import Conv1D,Conv2D,MaxPooling2D,Dropout,Dense,Flatten,BatchNormalization\n",
        "from sklearn.cross_validation import train_test_split\n",
        "import matplotlib.pyplot as plt\n",
        "import os\n",
        "import soundfile as sf\n",
        "drive.mount('/content/drive/')"
      ]
    },
    {
      "cell_type": "markdown",
      "source": [
        "Q1: Data Augmentation"
      ],
      "metadata": {
        "id": "vFIobnUYYaVf"
      }
    },
    {
      "cell_type": "code",
      "source": [
        "cifar10 = tf.keras.datasets.cifar10"
      ],
      "metadata": {
        "id": "W1XFUrl3YVSd"
      },
      "execution_count": null,
      "outputs": []
    },
    {
      "cell_type": "code",
      "source": [
        "(x_train, y_train), (x_test, y_test) = cifar10.load_data()"
      ],
      "metadata": {
        "id": "_anP3TMgYVeZ"
      },
      "execution_count": null,
      "outputs": []
    },
    {
      "cell_type": "code",
      "source": [
        " X_train, X_val, Y_train, Y_val = train_test_split(x_train, y_train, test_size=0.1, random_state=1)"
      ],
      "metadata": {
        "id": "u7C4salRYVlL"
      },
      "execution_count": null,
      "outputs": []
    },
    {
      "cell_type": "code",
      "source": [
        "X_train, X_val = X_train/255.0, X_val/ 255.0\n",
        "Y_train, Y_val = Y_train.flatten(), Y_val.flatten()``"
      ],
      "metadata": {
        "id": "7O6TTOFrYV42"
      },
      "execution_count": null,
      "outputs": []
    },
    {
      "cell_type": "code",
      "source": [
        "he_initializer = tf.keras.initializers.HeUniform(seed=None)"
      ],
      "metadata": {
        "id": "SCMUEh7dvYq5"
      },
      "execution_count": null,
      "outputs": []
    },
    {
      "cell_type": "code",
      "source": [
        "model = models.Sequential()\n",
        "model.add(Conv2D(10, (5, 5), strides=(1,1), activation='relu', input_shape=(32, 32, 3),kernel_initializer=he_initializer))\n",
        "model.add(MaxPooling2D((2, 2),strides=(2,2))\n",
        "model.add(Conv2D(10, (5, 5), activation='relu',kernel_initializer=he_initializer))\n",
        "model.add(MaxPooling2D((2, 2),strides=2))\n",
        "model.add(Flatten())\n",
        "model.add(Dense(units=20,activation='relu',kernel_initializer=he_initializer))\n",
        "model.add(Dense(units=10,activation='softmax',kernel_initializer=he_initializer))"
      ],
      "metadata": {
        "id": "zqaeA4fOYV_J"
      },
      "execution_count": null,
      "outputs": []
    },
    {
      "cell_type": "code",
      "source": [
        "adam = tf.keras.optimizers.Adam(learning_rate=0.001)\n",
        "model.compile(optimizer=adam,loss='sparse_categorical_crossentropy',metrics=['accuracy'])"
      ],
      "metadata": {
        "id": "hizhzXcyYWEP"
      },
      "execution_count": null,
      "outputs": []
    },
    {
      "cell_type": "code",
      "source": [
        "r = model.fit(X_train, Y_train, validation_data=(X_val, Y_val), epochs=200)"
      ],
      "metadata": {
        "id": "H_uuXREjYWI3"
      },
      "execution_count": null,
      "outputs": []
    },
    {
      "cell_type": "code",
      "source": [],
      "metadata": {
        "id": "KtMysyxMYWNO"
      },
      "execution_count": null,
      "outputs": []
    },
    {
      "cell_type": "code",
      "source": [],
      "metadata": {
        "id": "6DDpadcBYWRh"
      },
      "execution_count": null,
      "outputs": []
    },
    {
      "cell_type": "code",
      "source": [],
      "metadata": {
        "id": "1TE5CVn0YWWJ"
      },
      "execution_count": null,
      "outputs": []
    },
    {
      "cell_type": "code",
      "source": [],
      "metadata": {
        "id": "VKcdUHV5YWar"
      },
      "execution_count": null,
      "outputs": []
    },
    {
      "cell_type": "code",
      "source": [],
      "metadata": {
        "id": "IC29qzSzYWfR"
      },
      "execution_count": null,
      "outputs": []
    },
    {
      "cell_type": "code",
      "source": [],
      "metadata": {
        "id": "yTixx6PKYWj2"
      },
      "execution_count": null,
      "outputs": []
    },
    {
      "cell_type": "code",
      "source": [],
      "metadata": {
        "id": "urGe6K0sYWoX"
      },
      "execution_count": null,
      "outputs": []
    },
    {
      "cell_type": "code",
      "source": [],
      "metadata": {
        "id": "tiyaXw0qYWsj"
      },
      "execution_count": null,
      "outputs": []
    },
    {
      "cell_type": "code",
      "source": [],
      "metadata": {
        "id": "2Ei36wU-YWxE"
      },
      "execution_count": null,
      "outputs": []
    },
    {
      "cell_type": "code",
      "source": [],
      "metadata": {
        "id": "68LRZcGUYW1i"
      },
      "execution_count": null,
      "outputs": []
    },
    {
      "cell_type": "code",
      "source": [],
      "metadata": {
        "id": "19rVPsDqYW6G"
      },
      "execution_count": null,
      "outputs": []
    },
    {
      "cell_type": "code",
      "source": [],
      "metadata": {
        "id": "GyVw9cRyYW-Z"
      },
      "execution_count": null,
      "outputs": []
    },
    {
      "cell_type": "code",
      "source": [],
      "metadata": {
        "id": "Mk7FRyMsYXDA"
      },
      "execution_count": null,
      "outputs": []
    },
    {
      "cell_type": "code",
      "source": [],
      "metadata": {
        "id": "CIAv03T4YXHH"
      },
      "execution_count": null,
      "outputs": []
    },
    {
      "cell_type": "code",
      "source": [],
      "metadata": {
        "id": "wzBXU_PZYXLh"
      },
      "execution_count": null,
      "outputs": []
    },
    {
      "cell_type": "code",
      "source": [],
      "metadata": {
        "id": "AiyzDUqEYXPr"
      },
      "execution_count": null,
      "outputs": []
    },
    {
      "cell_type": "code",
      "source": [],
      "metadata": {
        "id": "cxqBrVFCYXT6"
      },
      "execution_count": null,
      "outputs": []
    },
    {
      "cell_type": "code",
      "source": [],
      "metadata": {
        "id": "1wVwUzpzYXX4"
      },
      "execution_count": null,
      "outputs": []
    },
    {
      "cell_type": "code",
      "source": [],
      "metadata": {
        "id": "gpY5sX1LYXcB"
      },
      "execution_count": null,
      "outputs": []
    },
    {
      "cell_type": "code",
      "source": [],
      "metadata": {
        "id": "MbUwR2h0YXgO"
      },
      "execution_count": null,
      "outputs": []
    },
    {
      "cell_type": "code",
      "source": [
        "# !unzip '/content/drive/MyDrive/DLS_DATA/homework3.zip' -d '/content/drive/MyDrive/DLS_DATA/timit-hw3'"
      ],
      "metadata": {
        "id": "fe8b-HYUFT3K"
      },
      "execution_count": 6,
      "outputs": []
    },
    {
      "cell_type": "code",
      "source": [
        "path = '/content/drive/MyDrive/DLS_DATA/timit-hw3/timit-homework/tr'\n",
        "\n",
        "X = []\n",
        "S = []\n",
        "N = []\n",
        "\n",
        "for f in os.listdir(path):\n",
        "    if(os.path.isfile(os.path.join(path,f))):\n",
        "        if(f[:3]=='trn'):\n",
        "          s, sr = librosa.load(os.path.join(path,f),sr=None)\n",
        "          trn_stft=librosa.stft(s, n_fft=1024, hop_length=512)\n",
        "          N.append(abs(trn_stft))\n",
        "        elif(f[:3]=='trs'):\n",
        "          s, sr = librosa.load(os.path.join(path,f),sr=None)\n",
        "          trs_stft=librosa.stft(s, n_fft=1024, hop_length=512)\n",
        "          S.append(abs(trs_stft))\n",
        "        else:\n",
        "          s, sr = librosa.load(os.path.join(path,f),sr=None)\n",
        "          trx_stft=librosa.stft(s, n_fft=1024, hop_length=512)\n",
        "          X.append(abs(trx_stft))"
      ],
      "metadata": {
        "id": "8_-XlVP2FTqb"
      },
      "execution_count": 65,
      "outputs": []
    },
    {
      "cell_type": "code",
      "source": [
        "print(N[-1].shape)\n",
        "print(S[-1].shape)\n",
        "print(X[-1].shape)"
      ],
      "metadata": {
        "colab": {
          "base_uri": "https://localhost:8080/"
        },
        "id": "UTtHHE4xFRm_",
        "outputId": "a226dc4c-9065-4f11-8e46-105e185f081c"
      },
      "execution_count": 66,
      "outputs": [
        {
          "output_type": "stream",
          "name": "stdout",
          "text": [
            "(513, 105)\n",
            "(513, 95)\n",
            "(513, 111)\n"
          ]
        }
      ]
    },
    {
      "cell_type": "code",
      "source": [
        "max_len = X[0].shape[1]\n",
        "for k in range(1,len(X)):\n",
        "    if(X[k].shape[1]>max_len):\n",
        "        max_len = X[k].shape[1]\n",
        "print(max_len)"
      ],
      "metadata": {
        "colab": {
          "base_uri": "https://localhost:8080/"
        },
        "id": "_D3FWTq7Serl",
        "outputId": "0fff7408-dc9e-4238-b9d2-d365503b8e40"
      },
      "execution_count": 67,
      "outputs": [
        {
          "output_type": "stream",
          "name": "stdout",
          "text": [
            "178\n"
          ]
        }
      ]
    },
    {
      "cell_type": "code",
      "source": [
        "M_arr = []\n",
        "for i in range(len(N)):\n",
        "    # print(\"Before:\",S[i].shape,N[i].shape)\n",
        "    if(S[i].shape[1]<N[i].shape[1]):\n",
        "        S[i] = np.pad(S[i],((0,0),(0,N[i].shape[1]-S[i].shape[1])),mode='constant')\n",
        "    elif(S[i].shape[1]>N[i].shape[1]):\n",
        "        N[i] = np.pad(N[i],((0,0),(0,S[i].shape[1]-N[i].shape[1])),mode='constant')\n",
        "    # print(\"After:\",S[i].shape,N[i].shape)\n",
        "    M = np.where((S[i]>N[i]),1,0)\n",
        "    M_arr.append(M)"
      ],
      "metadata": {
        "id": "1RFGLGOoFRdA"
      },
      "execution_count": 68,
      "outputs": []
    },
    {
      "cell_type": "code",
      "source": [
        "for i in range(len(X)):\n",
        "    X[i] = np.pad(X[i],((0,0),(0,max_len-X[i].shape[1])),mode='constant')\n",
        "    X[i] = X[i].T\n",
        "    M_arr[i] = np.pad(M_arr[i],((0,0),(0,max_len-M_arr[i].shape[1])),mode='constant')\n",
        "    M_arr[i] = M_arr[i].T"
      ],
      "metadata": {
        "id": "FZfEqvIZNnJ3"
      },
      "execution_count": 69,
      "outputs": []
    },
    {
      "cell_type": "code",
      "source": [
        "print(M_arr[0].shape)\n",
        "print(M_arr[1].shape)\n",
        "print(M_arr[2].shape)\n",
        "print(M_arr[3].shape)"
      ],
      "metadata": {
        "colab": {
          "base_uri": "https://localhost:8080/"
        },
        "id": "ZnPUDEcgFCgh",
        "outputId": "90cef3ad-079d-496f-8c37-86b13ad59b8b"
      },
      "execution_count": 70,
      "outputs": [
        {
          "output_type": "stream",
          "name": "stdout",
          "text": [
            "(178, 513)\n",
            "(178, 513)\n",
            "(178, 513)\n",
            "(178, 513)\n"
          ]
        }
      ]
    },
    {
      "cell_type": "code",
      "source": [
        "X = np.dstack(X)\n",
        "X = np.rollaxis(X,-1)\n",
        "M_arr = np.dstack(M_arr)\n",
        "M_arr = np.rollaxis(M_arr,-1)\n",
        "print(X.shape)\n",
        "print(M_arr.shape)"
      ],
      "metadata": {
        "colab": {
          "base_uri": "https://localhost:8080/"
        },
        "id": "HFeL3bVfNcHB",
        "outputId": "e80563d5-448a-4815-983b-859603327cea"
      },
      "execution_count": 71,
      "outputs": [
        {
          "output_type": "stream",
          "name": "stdout",
          "text": [
            "(1200, 178, 513)\n",
            "(1200, 178, 513)\n"
          ]
        }
      ]
    },
    {
      "cell_type": "code",
      "source": [
        "X = tf.convert_to_tensor(X, dtype=tf.float32)\n",
        "M_arr = tf.convert_to_tensor(M_arr, dtype=tf.float32)\n",
        "print(X.shape)\n",
        "print(M_arr.shape)"
      ],
      "metadata": {
        "colab": {
          "base_uri": "https://localhost:8080/"
        },
        "id": "Bn97jYsoLkQq",
        "outputId": "3e097182-541b-4e81-9669-c12b5dd9c8f5"
      },
      "execution_count": 72,
      "outputs": [
        {
          "output_type": "stream",
          "name": "stdout",
          "text": [
            "(1200, 178, 513)\n",
            "(1200, 178, 513)\n"
          ]
        }
      ]
    },
    {
      "cell_type": "code",
      "source": [
        "model = tf.keras.Sequential()\n",
        "model.add(tf.keras.Input(shape=(max_len,513),batch_size=10))\n",
        "model.add(tf.keras.layers.GRU(513, return_sequences=True, input_shape =(max_len,513), dropout=0.3))\n",
        "model.add(tf.keras.layers.GRU(513, return_sequences=True, dropout=0.3))\n",
        "model.add(Dropout(0.3))\n",
        "model.add(Dense(units=1024,activation='relu'))\n",
        "model.add(Dropout(0.3))\n",
        "model.add(Dense(units=513,activation='relu'))\n",
        "model.compile(optimizer='adam',loss = 'mean_squared_error')"
      ],
      "metadata": {
        "id": "qJhf4v7OFCpD"
      },
      "execution_count": 73,
      "outputs": []
    },
    {
      "cell_type": "code",
      "source": [
        "model.summary()"
      ],
      "metadata": {
        "colab": {
          "base_uri": "https://localhost:8080/"
        },
        "id": "aMfguG3GKwkp",
        "outputId": "82aa4495-76c2-4b03-bdb9-5cc440b30c1d"
      },
      "execution_count": 74,
      "outputs": [
        {
          "output_type": "stream",
          "name": "stdout",
          "text": [
            "Model: \"sequential_5\"\n",
            "_________________________________________________________________\n",
            " Layer (type)                Output Shape              Param #   \n",
            "=================================================================\n",
            " gru_31 (GRU)                (10, 178, 513)            1582092   \n",
            "                                                                 \n",
            " gru_32 (GRU)                (10, 178, 513)            1582092   \n",
            "                                                                 \n",
            " dropout_23 (Dropout)        (10, 178, 513)            0         \n",
            "                                                                 \n",
            " dense_25 (Dense)            (10, 178, 1024)           526336    \n",
            "                                                                 \n",
            " dropout_24 (Dropout)        (10, 178, 1024)           0         \n",
            "                                                                 \n",
            " dense_26 (Dense)            (10, 178, 513)            525825    \n",
            "                                                                 \n",
            "=================================================================\n",
            "Total params: 4,216,345\n",
            "Trainable params: 4,216,345\n",
            "Non-trainable params: 0\n",
            "_________________________________________________________________\n"
          ]
        }
      ]
    },
    {
      "cell_type": "code",
      "source": [
        "model.fit(X,M_arr,batch_size=10,epochs=100)"
      ],
      "metadata": {
        "colab": {
          "base_uri": "https://localhost:8080/"
        },
        "id": "7Em4vMJBFCvu",
        "outputId": "30b8609e-2967-443e-e93f-3bb9a0716414"
      },
      "execution_count": null,
      "outputs": [
        {
          "output_type": "stream",
          "name": "stdout",
          "text": [
            "Epoch 1/100\n",
            "120/120 [==============================] - 264s 2s/step - loss: 0.2025\n",
            "Epoch 2/100\n",
            "120/120 [==============================] - 268s 2s/step - loss: 0.1915\n",
            "Epoch 3/100\n",
            "120/120 [==============================] - 263s 2s/step - loss: 0.1894\n",
            "Epoch 4/100\n",
            "120/120 [==============================] - 268s 2s/step - loss: 0.1866\n",
            "Epoch 5/100\n",
            "120/120 [==============================] - 257s 2s/step - loss: 0.1857\n",
            "Epoch 6/100\n",
            "120/120 [==============================] - 270s 2s/step - loss: 0.1827\n",
            "Epoch 7/100\n",
            "120/120 [==============================] - 257s 2s/step - loss: 0.1811\n",
            "Epoch 8/100\n",
            "120/120 [==============================] - 250s 2s/step - loss: 0.1806\n",
            "Epoch 9/100\n",
            "120/120 [==============================] - 252s 2s/step - loss: 0.1793\n",
            "Epoch 10/100\n",
            "120/120 [==============================] - 251s 2s/step - loss: 0.1773\n",
            "Epoch 11/100\n",
            "120/120 [==============================] - 248s 2s/step - loss: 0.1753\n",
            "Epoch 12/100\n",
            "120/120 [==============================] - 252s 2s/step - loss: 0.1756\n",
            "Epoch 13/100\n",
            "120/120 [==============================] - 251s 2s/step - loss: 0.1749\n",
            "Epoch 14/100\n",
            "120/120 [==============================] - 253s 2s/step - loss: 0.1704\n",
            "Epoch 15/100\n",
            "120/120 [==============================] - 252s 2s/step - loss: 0.1680\n",
            "Epoch 16/100\n",
            "120/120 [==============================] - 252s 2s/step - loss: 0.1661\n",
            "Epoch 17/100\n",
            "120/120 [==============================] - 255s 2s/step - loss: 0.1642\n",
            "Epoch 18/100\n",
            "120/120 [==============================] - 253s 2s/step - loss: 0.1598\n",
            "Epoch 19/100\n",
            "120/120 [==============================] - 252s 2s/step - loss: 0.1564\n",
            "Epoch 20/100\n",
            "120/120 [==============================] - 254s 2s/step - loss: 0.1528\n",
            "Epoch 21/100\n",
            "120/120 [==============================] - 251s 2s/step - loss: 0.1513\n",
            "Epoch 22/100\n",
            "120/120 [==============================] - 248s 2s/step - loss: 0.1473\n",
            "Epoch 23/100\n",
            "120/120 [==============================] - 248s 2s/step - loss: 0.1479\n",
            "Epoch 24/100\n",
            "120/120 [==============================] - 249s 2s/step - loss: 0.1425\n",
            "Epoch 25/100\n",
            "120/120 [==============================] - 250s 2s/step - loss: 0.1400\n",
            "Epoch 26/100\n",
            "120/120 [==============================] - 249s 2s/step - loss: 0.1373\n",
            "Epoch 27/100\n",
            "120/120 [==============================] - 250s 2s/step - loss: 0.1339\n",
            "Epoch 28/100\n",
            "120/120 [==============================] - 251s 2s/step - loss: 0.1319\n",
            "Epoch 29/100\n",
            "120/120 [==============================] - 249s 2s/step - loss: 0.1281\n",
            "Epoch 30/100\n",
            "120/120 [==============================] - 247s 2s/step - loss: 0.1285\n",
            "Epoch 31/100\n",
            "120/120 [==============================] - 246s 2s/step - loss: 0.1264\n",
            "Epoch 32/100\n",
            "120/120 [==============================] - 248s 2s/step - loss: 0.1231\n",
            "Epoch 33/100\n",
            "120/120 [==============================] - 249s 2s/step - loss: 0.1244\n",
            "Epoch 34/100\n",
            "120/120 [==============================] - 249s 2s/step - loss: 0.1204\n",
            "Epoch 35/100\n",
            "120/120 [==============================] - 249s 2s/step - loss: 0.1189\n",
            "Epoch 36/100\n",
            "120/120 [==============================] - 251s 2s/step - loss: 0.1172\n",
            "Epoch 37/100\n",
            "120/120 [==============================] - 249s 2s/step - loss: 0.1181\n",
            "Epoch 38/100\n",
            "120/120 [==============================] - 250s 2s/step - loss: 0.1153\n",
            "Epoch 39/100\n",
            "120/120 [==============================] - 251s 2s/step - loss: 0.1114\n",
            "Epoch 40/100\n",
            "120/120 [==============================] - 254s 2s/step - loss: 0.1116\n",
            "120/120 [==============================] - 254s 2s/step - loss: 0.1116\n",
            "Epoch 41/100\n",
            "Epoch 41/100\n",
            " 79/120 [==================>...........] - ETA: 1:25 - loss: 0.1099"
          ]
        }
      ]
    },
    {
      "cell_type": "code",
      "source": [],
      "metadata": {
        "id": "edzc3tnyFC1N"
      },
      "execution_count": null,
      "outputs": []
    },
    {
      "cell_type": "code",
      "source": [],
      "metadata": {
        "id": "YPWs5deCFC6p"
      },
      "execution_count": null,
      "outputs": []
    },
    {
      "cell_type": "code",
      "source": [],
      "metadata": {
        "id": "9_OM_L7zFDC-"
      },
      "execution_count": null,
      "outputs": []
    },
    {
      "cell_type": "code",
      "source": [],
      "metadata": {
        "id": "KS0yNnFmFDHg"
      },
      "execution_count": null,
      "outputs": []
    },
    {
      "cell_type": "code",
      "source": [],
      "metadata": {
        "id": "tczbMRTQFDMH"
      },
      "execution_count": null,
      "outputs": []
    },
    {
      "cell_type": "code",
      "source": [],
      "metadata": {
        "id": "pLgkT4P6FDQc"
      },
      "execution_count": null,
      "outputs": []
    },
    {
      "cell_type": "code",
      "source": [],
      "metadata": {
        "id": "EA-3W0f-FG7E"
      },
      "execution_count": null,
      "outputs": []
    },
    {
      "cell_type": "code",
      "source": [],
      "metadata": {
        "id": "yiNmdelAFHAW"
      },
      "execution_count": null,
      "outputs": []
    },
    {
      "cell_type": "code",
      "source": [],
      "metadata": {
        "id": "wsn7ya0qFHEP"
      },
      "execution_count": null,
      "outputs": []
    },
    {
      "cell_type": "code",
      "source": [],
      "metadata": {
        "id": "eIC58pqjFHIL"
      },
      "execution_count": null,
      "outputs": []
    },
    {
      "cell_type": "code",
      "source": [],
      "metadata": {
        "id": "9UFKbulEFHL8"
      },
      "execution_count": null,
      "outputs": []
    },
    {
      "cell_type": "code",
      "source": [],
      "metadata": {
        "id": "L-qVH74xFHQG"
      },
      "execution_count": null,
      "outputs": []
    },
    {
      "cell_type": "code",
      "source": [],
      "metadata": {
        "id": "vm9fvMymFHTw"
      },
      "execution_count": null,
      "outputs": []
    },
    {
      "cell_type": "code",
      "source": [],
      "metadata": {
        "id": "W6zSsETtFHXs"
      },
      "execution_count": null,
      "outputs": []
    },
    {
      "cell_type": "code",
      "source": [],
      "metadata": {
        "id": "99Ypd8YYFHb-"
      },
      "execution_count": null,
      "outputs": []
    },
    {
      "cell_type": "code",
      "source": [],
      "metadata": {
        "id": "5TyGLNpHFHfp"
      },
      "execution_count": null,
      "outputs": []
    },
    {
      "cell_type": "code",
      "source": [],
      "metadata": {
        "id": "sQH7GLAIFHjj"
      },
      "execution_count": null,
      "outputs": []
    },
    {
      "cell_type": "code",
      "source": [],
      "metadata": {
        "id": "YVFFjCfUFHnr"
      },
      "execution_count": null,
      "outputs": []
    },
    {
      "cell_type": "code",
      "source": [],
      "metadata": {
        "id": "96J55uoiFHrw"
      },
      "execution_count": null,
      "outputs": []
    },
    {
      "cell_type": "code",
      "source": [],
      "metadata": {
        "id": "YhOfhcWlFHv0"
      },
      "execution_count": null,
      "outputs": []
    },
    {
      "cell_type": "code",
      "source": [],
      "metadata": {
        "id": "_BuKSPlWFH0M"
      },
      "execution_count": null,
      "outputs": []
    },
    {
      "cell_type": "code",
      "source": [],
      "metadata": {
        "id": "Iey9YMSjFH39"
      },
      "execution_count": null,
      "outputs": []
    },
    {
      "cell_type": "code",
      "source": [],
      "metadata": {
        "id": "xYn1dYH9FH8a"
      },
      "execution_count": null,
      "outputs": []
    },
    {
      "cell_type": "code",
      "source": [],
      "metadata": {
        "id": "57nPZtRNFIAB"
      },
      "execution_count": null,
      "outputs": []
    },
    {
      "cell_type": "code",
      "source": [],
      "metadata": {
        "id": "AbxRX_l4FIDi"
      },
      "execution_count": null,
      "outputs": []
    },
    {
      "cell_type": "code",
      "source": [],
      "metadata": {
        "id": "s7YeRbddFIHN"
      },
      "execution_count": null,
      "outputs": []
    },
    {
      "cell_type": "code",
      "source": [],
      "metadata": {
        "id": "7E5CZlXVFILS"
      },
      "execution_count": null,
      "outputs": []
    },
    {
      "cell_type": "code",
      "source": [],
      "metadata": {
        "id": "Nm8FpT-4FIO1"
      },
      "execution_count": null,
      "outputs": []
    },
    {
      "cell_type": "code",
      "source": [],
      "metadata": {
        "id": "njmZj_MIFITW"
      },
      "execution_count": null,
      "outputs": []
    },
    {
      "cell_type": "code",
      "source": [],
      "metadata": {
        "id": "YqOjAGNiFIXR"
      },
      "execution_count": null,
      "outputs": []
    },
    {
      "cell_type": "code",
      "source": [],
      "metadata": {
        "id": "3Ue61RgCFIbJ"
      },
      "execution_count": null,
      "outputs": []
    },
    {
      "cell_type": "code",
      "source": [],
      "metadata": {
        "id": "03RdePq_FIew"
      },
      "execution_count": null,
      "outputs": []
    },
    {
      "cell_type": "code",
      "source": [],
      "metadata": {
        "id": "c95_wjMAFIig"
      },
      "execution_count": null,
      "outputs": []
    },
    {
      "cell_type": "code",
      "source": [],
      "metadata": {
        "id": "wMiIkZbRFImH"
      },
      "execution_count": null,
      "outputs": []
    }
  ]
}