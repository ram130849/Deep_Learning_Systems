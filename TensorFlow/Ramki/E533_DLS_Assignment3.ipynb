{
  "nbformat": 4,
  "nbformat_minor": 0,
  "metadata": {
    "colab": {
      "private_outputs": true,
      "provenance": [],
      "collapsed_sections": [],
      "authorship_tag": "ABX9TyNnvQYTQESndK7ye+wUVhJv",
      "include_colab_link": true
    },
    "kernelspec": {
      "name": "python3",
      "display_name": "Python 3"
    },
    "language_info": {
      "name": "python"
    },
    "accelerator": "GPU",
    "gpuClass": "standard"
  },
  "cells": [
    {
      "cell_type": "markdown",
      "metadata": {
        "id": "view-in-github",
        "colab_type": "text"
      },
      "source": [
        "<a href=\"https://colab.research.google.com/github/ram130849/Deep_Learning_Systems_Assignments/blob/main/TensorFlow/Ramki/E533_DLS_Assignment3.ipynb\" target=\"_parent\"><img src=\"https://colab.research.google.com/assets/colab-badge.svg\" alt=\"Open In Colab\"/></a>"
      ]
    },
    {
      "cell_type": "code",
      "source": [
        "!pip install IPython\n",
        "!pip install librosa"
      ],
      "metadata": {
        "id": "IN4WsmbMUmTr"
      },
      "execution_count": null,
      "outputs": []
    },
    {
      "cell_type": "code",
      "execution_count": null,
      "metadata": {
        "id": "nWR2IVz5E9lH"
      },
      "outputs": [],
      "source": [
        "import numpy as np\n",
        "from IPython.display import Audio\n",
        "import librosa\n",
        "from google.colab import drive\n",
        "import tensorflow as tf\n",
        "from tensorflow.keras import backend as K\n",
        "from librosa.core import stft,istft\n",
        "from tensorflow.keras.layers import GRU,Dropout\n",
        "from tensorflow.keras.layers import Conv1D,Conv2D,MaxPooling2D,Dropout,Dense,Flatten,BatchNormalization\n",
        "from sklearn.model_selection import train_test_split\n",
        "from sklearn.preprocessing import MinMaxScaler\n",
        "import matplotlib.pyplot as plt\n",
        "import os\n",
        "import soundfile as sf\n",
        "drive.mount('/content/drive/')"
      ]
    },
    {
      "cell_type": "markdown",
      "source": [
        "Q1: Data Augmentation"
      ],
      "metadata": {
        "id": "vFIobnUYYaVf"
      }
    },
    {
      "cell_type": "code",
      "source": [
        "cifar10 = tf.keras.datasets.cifar10"
      ],
      "metadata": {
        "id": "W1XFUrl3YVSd"
      },
      "execution_count": null,
      "outputs": []
    },
    {
      "cell_type": "code",
      "source": [
        "(x_train, y_train), (x_test, y_test) = cifar10.load_data()"
      ],
      "metadata": {
        "id": "_anP3TMgYVeZ"
      },
      "execution_count": null,
      "outputs": []
    },
    {
      "cell_type": "code",
      "source": [
        " X_train, X_val, Y_train, Y_val = train_test_split(x_train, y_train, test_size=0.1, random_state=1)\n",
        " print(X_train.shape)\n",
        " print(X_val.shape)\n",
        " print(Y_train.shape)\n",
        " print(Y_val.shape)"
      ],
      "metadata": {
        "id": "u7C4salRYVlL"
      },
      "execution_count": null,
      "outputs": []
    },
    {
      "cell_type": "code",
      "source": [
        "def normalize_tensor(tensor): \n",
        "    tensor = tf.math.divide(\n",
        "          tf.subtract(\n",
        "              tensor, \n",
        "              tf.reduce_min(tensor)\n",
        "          ), \n",
        "          tf.subtract(\n",
        "              tf.reduce_max(tensor), \n",
        "              tf.reduce_min(tensor)\n",
        "          )\n",
        "        )\n",
        "    return 2*tensor-1"
      ],
      "metadata": {
        "id": "oZ7-Jn95kVE7"
      },
      "execution_count": null,
      "outputs": []
    },
    {
      "cell_type": "code",
      "source": [
        "X_train_n2, X_val_n2 = X_train/255.0, X_val/ 255.0"
      ],
      "metadata": {
        "id": "7O6TTOFrYV42"
      },
      "execution_count": null,
      "outputs": []
    },
    {
      "cell_type": "code",
      "source": [
        "Y_train, Y_val = Y_train.flatten(), Y_val.flatten()\n",
        "layer = tf.keras.layers.Normalization(mean=0, variance=1)\n",
        "X_train_n1 = normalize_tensor(X_train)\n",
        "X_val_n1 = normalize_tensor(X_val)"
      ],
      "metadata": {
        "id": "arVje6TDeKA9"
      },
      "execution_count": null,
      "outputs": []
    },
    {
      "cell_type": "code",
      "source": [
        "he_initializer = tf.keras.initializers.HeUniform(seed=None)"
      ],
      "metadata": {
        "id": "SCMUEh7dvYq5"
      },
      "execution_count": null,
      "outputs": []
    },
    {
      "cell_type": "code",
      "source": [
        "model = tf.keras.Sequential()\n",
        "model.add(Conv2D(10, (5, 5), strides=(1,1), activation='relu', input_shape=(32, 32, 3),kernel_initializer=he_initializer))\n",
        "model.add(MaxPooling2D((2, 2),strides=(2,2)))\n",
        "model.add(Conv2D(10, (5, 5), activation='relu',kernel_initializer=he_initializer))\n",
        "model.add(MaxPooling2D((2, 2),strides=2))\n",
        "model.add(Flatten())\n",
        "model.add(Dense(units=20,activation='relu',kernel_initializer=he_initializer))\n",
        "model.add(Dense(units=10,activation='softmax',kernel_initializer=he_initializer))"
      ],
      "metadata": {
        "id": "zqaeA4fOYV_J"
      },
      "execution_count": null,
      "outputs": []
    },
    {
      "cell_type": "code",
      "source": [
        "adam = tf.keras.optimizers.Adam(learning_rate=0.001)\n",
        "model.compile(optimizer=adam,loss='sparse_categorical_crossentropy',metrics=['accuracy'])"
      ],
      "metadata": {
        "id": "hizhzXcyYWEP"
      },
      "execution_count": null,
      "outputs": []
    },
    {
      "cell_type": "code",
      "source": [
        "r = model.fit(X_train_n1, Y_train, validation_data=(X_val_n1, Y_val), batch_size=256, epochs=150)"
      ],
      "metadata": {
        "id": "H_uuXREjYWI3"
      },
      "execution_count": null,
      "outputs": []
    },
    {
      "cell_type": "code",
      "source": [
        "aug_x_train1 = np.minimum(1.1*X_train_n2, 1)\n",
        "aug_x_train1 = normalize_tensor(aug_x_train1)\n",
        "aug_x_train2 = 0.9*X_train_n2\n",
        "aug_x_train2 = normalize_tensor(aug_x_train2)\n",
        "aug_x_train3 = tf.image.flip_left_right(X_train_n2)\n",
        "aug_x_train3 = normalize_tensor(aug_x_train3)\n",
        "aug_x_train4 = X_train_n2\n",
        "aug_x_train4 = normalize_tensor(aug_x_train4)"
      ],
      "metadata": {
        "id": "KtMysyxMYWNO"
      },
      "execution_count": null,
      "outputs": []
    },
    {
      "cell_type": "code",
      "source": [
        "X_train_aug = tf.concat([aug_x_train1,aug_x_train2,aug_x_train3,aug_x_train4],0)"
      ],
      "metadata": {
        "id": "6DDpadcBYWRh"
      },
      "execution_count": null,
      "outputs": []
    },
    {
      "cell_type": "code",
      "source": [
        "X_train_aug.shape"
      ],
      "metadata": {
        "id": "WTu2bJcayWta"
      },
      "execution_count": null,
      "outputs": []
    },
    {
      "cell_type": "code",
      "source": [
        "Y_train_aug = tf.concat([Y_train,Y_train,Y_train,Y_train],0)"
      ],
      "metadata": {
        "id": "1TE5CVn0YWWJ"
      },
      "execution_count": null,
      "outputs": []
    },
    {
      "cell_type": "code",
      "source": [
        "X_train_n1 = X_train_aug\n",
        "X_val_n1 = normalize_tensor(X_val)"
      ],
      "metadata": {
        "id": "VKcdUHV5YWar"
      },
      "execution_count": null,
      "outputs": []
    },
    {
      "cell_type": "code",
      "source": [
        "model1 = tf.keras.Sequential()\n",
        "model1.add(Conv2D(10, (5, 5), strides=(1,1), activation='relu', input_shape=(32, 32, 3),kernel_initializer=he_initializer))\n",
        "model1.add(MaxPooling2D((2, 2),strides=(2,2)))\n",
        "model1.add(Conv2D(10, (5, 5), activation='relu',kernel_initializer=he_initializer))\n",
        "model1.add(MaxPooling2D((2, 2),strides=2))\n",
        "model1.add(Flatten())\n",
        "model1.add(Dense(units=20,activation='relu',kernel_initializer=he_initializer))\n",
        "model1.add(Dense(units=10,activation='softmax',kernel_initializer=he_initializer))"
      ],
      "metadata": {
        "id": "IC29qzSzYWfR"
      },
      "execution_count": null,
      "outputs": []
    },
    {
      "cell_type": "code",
      "source": [
        "adam = tf.keras.optimizers.Adam(learning_rate=0.001)\n",
        "model1.compile(optimizer=adam,loss='sparse_categorical_crossentropy',metrics=['accuracy'])"
      ],
      "metadata": {
        "id": "yTixx6PKYWj2"
      },
      "execution_count": null,
      "outputs": []
    },
    {
      "cell_type": "code",
      "source": [
        "r1 = model1.fit(X_train_n1, Y_train_aug, validation_data=(X_val_n1, Y_val), batch_size=512, epochs=150)"
      ],
      "metadata": {
        "id": "urGe6K0sYWoX"
      },
      "execution_count": null,
      "outputs": []
    },
    {
      "cell_type": "code",
      "source": [
        "val_acc1 = r.history['val_accuracy']\n",
        "val_acc2 = r1.history['val_accuracy']"
      ],
      "metadata": {
        "id": "tiyaXw0qYWsj"
      },
      "execution_count": null,
      "outputs": []
    },
    {
      "cell_type": "code",
      "source": [
        "epochs = range(1, 151)\n",
        "\n",
        "plt.figure()\n",
        "plt.plot(epochs, val_acc1, 'bo', label='Validation accuracy for Normal Data')\n",
        "plt.plot(epochs, val_acc2, 'b', label='Validation accuracy for Augmented Data')\n",
        "plt.title('Validation accuracy for both Normal and Augmented Dataset')\n",
        "plt.legend()\n",
        "\n",
        "plt.show()"
      ],
      "metadata": {
        "id": "2Ei36wU-YWxE"
      },
      "execution_count": null,
      "outputs": []
    },
    {
      "cell_type": "code",
      "source": [],
      "metadata": {
        "id": "68LRZcGUYW1i"
      },
      "execution_count": null,
      "outputs": []
    },
    {
      "cell_type": "code",
      "source": [],
      "metadata": {
        "id": "19rVPsDqYW6G"
      },
      "execution_count": null,
      "outputs": []
    },
    {
      "cell_type": "code",
      "source": [],
      "metadata": {
        "id": "GyVw9cRyYW-Z"
      },
      "execution_count": null,
      "outputs": []
    },
    {
      "cell_type": "code",
      "source": [],
      "metadata": {
        "id": "Mk7FRyMsYXDA"
      },
      "execution_count": null,
      "outputs": []
    },
    {
      "cell_type": "code",
      "source": [],
      "metadata": {
        "id": "CIAv03T4YXHH"
      },
      "execution_count": null,
      "outputs": []
    },
    {
      "cell_type": "code",
      "source": [],
      "metadata": {
        "id": "wzBXU_PZYXLh"
      },
      "execution_count": null,
      "outputs": []
    },
    {
      "cell_type": "code",
      "source": [],
      "metadata": {
        "id": "AiyzDUqEYXPr"
      },
      "execution_count": null,
      "outputs": []
    },
    {
      "cell_type": "code",
      "source": [],
      "metadata": {
        "id": "cxqBrVFCYXT6"
      },
      "execution_count": null,
      "outputs": []
    },
    {
      "cell_type": "code",
      "source": [],
      "metadata": {
        "id": "1wVwUzpzYXX4"
      },
      "execution_count": null,
      "outputs": []
    },
    {
      "cell_type": "code",
      "source": [],
      "metadata": {
        "id": "gpY5sX1LYXcB"
      },
      "execution_count": null,
      "outputs": []
    },
    {
      "cell_type": "code",
      "source": [],
      "metadata": {
        "id": "MbUwR2h0YXgO"
      },
      "execution_count": null,
      "outputs": []
    },
    {
      "cell_type": "code",
      "source": [
        "# !unzip '/content/drive/MyDrive/DLS_DATA/homework3.zip' -d '/content/drive/MyDrive/DLS_DATA/timit-hw3'"
      ],
      "metadata": {
        "id": "fe8b-HYUFT3K"
      },
      "execution_count": null,
      "outputs": []
    },
    {
      "cell_type": "code",
      "source": [
        "path = '/content/drive/MyDrive/DLS_DATA/timit-hw3/timit-homework/tr'\n",
        "\n",
        "X = []\n",
        "S = []\n",
        "N = []\n",
        "\n",
        "for f in os.listdir(path):\n",
        "    if(os.path.isfile(os.path.join(path,f))):\n",
        "        if(f[:3]=='trn'):\n",
        "          s, sr = librosa.load(os.path.join(path,f),sr=None)\n",
        "          trn_stft=librosa.stft(s, n_fft=1024, hop_length=512)\n",
        "          N.append(abs(trn_stft))\n",
        "        elif(f[:3]=='trs'):\n",
        "          s, sr = librosa.load(os.path.join(path,f),sr=None)\n",
        "          trs_stft=librosa.stft(s, n_fft=1024, hop_length=512)\n",
        "          S.append(abs(trs_stft))\n",
        "        else:\n",
        "          s, sr = librosa.load(os.path.join(path,f),sr=None)\n",
        "          trx_stft=librosa.stft(s, n_fft=1024, hop_length=512)\n",
        "          X.append(abs(trx_stft))"
      ],
      "metadata": {
        "id": "8_-XlVP2FTqb"
      },
      "execution_count": null,
      "outputs": []
    },
    {
      "cell_type": "code",
      "source": [
        "print(N[-1].shape)\n",
        "print(S[-1].shape)\n",
        "print(X[-1].shape)"
      ],
      "metadata": {
        "id": "UTtHHE4xFRm_"
      },
      "execution_count": null,
      "outputs": []
    },
    {
      "cell_type": "code",
      "source": [
        "max_len = X[0].shape[1]\n",
        "for k in range(1,len(X)):\n",
        "    if(X[k].shape[1]>max_len):\n",
        "        max_len = X[k].shape[1]\n",
        "print(max_len)"
      ],
      "metadata": {
        "id": "_D3FWTq7Serl"
      },
      "execution_count": null,
      "outputs": []
    },
    {
      "cell_type": "code",
      "source": [
        "M_arr = []\n",
        "for i in range(len(N)):\n",
        "    # print(\"Before:\",S[i].shape,N[i].shape)\n",
        "    if(S[i].shape[1]<N[i].shape[1]):\n",
        "        S[i] = np.pad(S[i],((0,0),(0,N[i].shape[1]-S[i].shape[1])),mode='constant')\n",
        "    elif(S[i].shape[1]>N[i].shape[1]):\n",
        "        N[i] = np.pad(N[i],((0,0),(0,S[i].shape[1]-N[i].shape[1])),mode='constant')\n",
        "    # print(\"After:\",S[i].shape,N[i].shape)\n",
        "    M = np.where((S[i]>N[i]),1,0)\n",
        "    M_arr.append(M)"
      ],
      "metadata": {
        "id": "1RFGLGOoFRdA"
      },
      "execution_count": null,
      "outputs": []
    },
    {
      "cell_type": "code",
      "source": [
        "for i in range(len(X)):\n",
        "    X[i] = np.pad(X[i],((0,0),(0,max_len-X[i].shape[1])),mode='constant')\n",
        "    X[i] = X[i].T\n",
        "    M_arr[i] = np.pad(M_arr[i],((0,0),(0,max_len-M_arr[i].shape[1])),mode='constant')\n",
        "    M_arr[i] = M_arr[i].T"
      ],
      "metadata": {
        "id": "FZfEqvIZNnJ3"
      },
      "execution_count": null,
      "outputs": []
    },
    {
      "cell_type": "code",
      "source": [
        "print(M_arr[0].shape)\n",
        "print(M_arr[1].shape)\n",
        "print(M_arr[2].shape)\n",
        "print(M_arr[3].shape)"
      ],
      "metadata": {
        "id": "ZnPUDEcgFCgh"
      },
      "execution_count": null,
      "outputs": []
    },
    {
      "cell_type": "code",
      "source": [
        "X = np.dstack(X)\n",
        "X = np.rollaxis(X,-1)\n",
        "M_arr = np.dstack(M_arr)\n",
        "M_arr = np.rollaxis(M_arr,-1)\n",
        "print(X.shape)\n",
        "print(M_arr.shape)"
      ],
      "metadata": {
        "id": "HFeL3bVfNcHB"
      },
      "execution_count": null,
      "outputs": []
    },
    {
      "cell_type": "code",
      "source": [
        "X = tf.convert_to_tensor(X, dtype=tf.float32)\n",
        "M_arr = tf.convert_to_tensor(M_arr, dtype=tf.float32)\n",
        "print(X.shape)\n",
        "print(M_arr.shape)"
      ],
      "metadata": {
        "id": "Bn97jYsoLkQq"
      },
      "execution_count": null,
      "outputs": []
    },
    {
      "cell_type": "code",
      "source": [
        "model = tf.keras.Sequential()\n",
        "model.add(tf.keras.Input(shape=(max_len,513),batch_size=10))\n",
        "model.add(tf.keras.layers.GRU(513, return_sequences=True, input_shape =(max_len,513), dropout=0.3))\n",
        "model.add(tf.keras.layers.GRU(513, return_sequences=True, dropout=0.3))\n",
        "model.add(Dropout(0.3))\n",
        "model.add(Dense(units=1024,activation='relu'))\n",
        "model.add(Dropout(0.3))\n",
        "model.add(Dense(units=513,activation='relu'))\n",
        "model.compile(optimizer='adam',loss = 'mean_squared_error')"
      ],
      "metadata": {
        "id": "qJhf4v7OFCpD"
      },
      "execution_count": null,
      "outputs": []
    },
    {
      "cell_type": "code",
      "source": [
        "model.summary()"
      ],
      "metadata": {
        "id": "aMfguG3GKwkp"
      },
      "execution_count": null,
      "outputs": []
    },
    {
      "cell_type": "code",
      "source": [
        "model.fit(X,M_arr,batch_size=10,epochs=100)"
      ],
      "metadata": {
        "id": "7Em4vMJBFCvu"
      },
      "execution_count": null,
      "outputs": []
    },
    {
      "cell_type": "code",
      "source": [],
      "metadata": {
        "id": "edzc3tnyFC1N"
      },
      "execution_count": null,
      "outputs": []
    },
    {
      "cell_type": "code",
      "source": [],
      "metadata": {
        "id": "YPWs5deCFC6p"
      },
      "execution_count": null,
      "outputs": []
    },
    {
      "cell_type": "code",
      "source": [],
      "metadata": {
        "id": "9_OM_L7zFDC-"
      },
      "execution_count": null,
      "outputs": []
    },
    {
      "cell_type": "code",
      "source": [],
      "metadata": {
        "id": "KS0yNnFmFDHg"
      },
      "execution_count": null,
      "outputs": []
    },
    {
      "cell_type": "code",
      "source": [],
      "metadata": {
        "id": "tczbMRTQFDMH"
      },
      "execution_count": null,
      "outputs": []
    },
    {
      "cell_type": "code",
      "source": [],
      "metadata": {
        "id": "pLgkT4P6FDQc"
      },
      "execution_count": null,
      "outputs": []
    },
    {
      "cell_type": "code",
      "source": [],
      "metadata": {
        "id": "EA-3W0f-FG7E"
      },
      "execution_count": null,
      "outputs": []
    },
    {
      "cell_type": "code",
      "source": [],
      "metadata": {
        "id": "yiNmdelAFHAW"
      },
      "execution_count": null,
      "outputs": []
    },
    {
      "cell_type": "code",
      "source": [],
      "metadata": {
        "id": "wsn7ya0qFHEP"
      },
      "execution_count": null,
      "outputs": []
    },
    {
      "cell_type": "code",
      "source": [],
      "metadata": {
        "id": "eIC58pqjFHIL"
      },
      "execution_count": null,
      "outputs": []
    },
    {
      "cell_type": "code",
      "source": [],
      "metadata": {
        "id": "9UFKbulEFHL8"
      },
      "execution_count": null,
      "outputs": []
    },
    {
      "cell_type": "code",
      "source": [],
      "metadata": {
        "id": "L-qVH74xFHQG"
      },
      "execution_count": null,
      "outputs": []
    },
    {
      "cell_type": "code",
      "source": [],
      "metadata": {
        "id": "vm9fvMymFHTw"
      },
      "execution_count": null,
      "outputs": []
    },
    {
      "cell_type": "code",
      "source": [],
      "metadata": {
        "id": "W6zSsETtFHXs"
      },
      "execution_count": null,
      "outputs": []
    },
    {
      "cell_type": "code",
      "source": [],
      "metadata": {
        "id": "99Ypd8YYFHb-"
      },
      "execution_count": null,
      "outputs": []
    },
    {
      "cell_type": "code",
      "source": [],
      "metadata": {
        "id": "5TyGLNpHFHfp"
      },
      "execution_count": null,
      "outputs": []
    },
    {
      "cell_type": "code",
      "source": [],
      "metadata": {
        "id": "sQH7GLAIFHjj"
      },
      "execution_count": null,
      "outputs": []
    },
    {
      "cell_type": "code",
      "source": [],
      "metadata": {
        "id": "YVFFjCfUFHnr"
      },
      "execution_count": null,
      "outputs": []
    },
    {
      "cell_type": "code",
      "source": [],
      "metadata": {
        "id": "96J55uoiFHrw"
      },
      "execution_count": null,
      "outputs": []
    },
    {
      "cell_type": "code",
      "source": [],
      "metadata": {
        "id": "YhOfhcWlFHv0"
      },
      "execution_count": null,
      "outputs": []
    },
    {
      "cell_type": "code",
      "source": [],
      "metadata": {
        "id": "_BuKSPlWFH0M"
      },
      "execution_count": null,
      "outputs": []
    },
    {
      "cell_type": "code",
      "source": [],
      "metadata": {
        "id": "Iey9YMSjFH39"
      },
      "execution_count": null,
      "outputs": []
    },
    {
      "cell_type": "code",
      "source": [],
      "metadata": {
        "id": "xYn1dYH9FH8a"
      },
      "execution_count": null,
      "outputs": []
    },
    {
      "cell_type": "code",
      "source": [],
      "metadata": {
        "id": "57nPZtRNFIAB"
      },
      "execution_count": null,
      "outputs": []
    },
    {
      "cell_type": "code",
      "source": [],
      "metadata": {
        "id": "AbxRX_l4FIDi"
      },
      "execution_count": null,
      "outputs": []
    },
    {
      "cell_type": "code",
      "source": [],
      "metadata": {
        "id": "s7YeRbddFIHN"
      },
      "execution_count": null,
      "outputs": []
    },
    {
      "cell_type": "code",
      "source": [],
      "metadata": {
        "id": "7E5CZlXVFILS"
      },
      "execution_count": null,
      "outputs": []
    },
    {
      "cell_type": "code",
      "source": [],
      "metadata": {
        "id": "Nm8FpT-4FIO1"
      },
      "execution_count": null,
      "outputs": []
    },
    {
      "cell_type": "code",
      "source": [],
      "metadata": {
        "id": "njmZj_MIFITW"
      },
      "execution_count": null,
      "outputs": []
    },
    {
      "cell_type": "code",
      "source": [],
      "metadata": {
        "id": "YqOjAGNiFIXR"
      },
      "execution_count": null,
      "outputs": []
    },
    {
      "cell_type": "code",
      "source": [],
      "metadata": {
        "id": "3Ue61RgCFIbJ"
      },
      "execution_count": null,
      "outputs": []
    },
    {
      "cell_type": "code",
      "source": [],
      "metadata": {
        "id": "03RdePq_FIew"
      },
      "execution_count": null,
      "outputs": []
    },
    {
      "cell_type": "code",
      "source": [],
      "metadata": {
        "id": "c95_wjMAFIig"
      },
      "execution_count": null,
      "outputs": []
    },
    {
      "cell_type": "code",
      "source": [],
      "metadata": {
        "id": "wMiIkZbRFImH"
      },
      "execution_count": null,
      "outputs": []
    }
  ]
}