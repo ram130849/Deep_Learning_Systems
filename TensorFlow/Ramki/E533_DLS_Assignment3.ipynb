{
  "nbformat": 4,
  "nbformat_minor": 0,
  "metadata": {
    "colab": {
      "provenance": [],
      "collapsed_sections": [],
      "authorship_tag": "ABX9TyOmGPk2WsNxObYSoBGBOF6v",
      "include_colab_link": true
    },
    "kernelspec": {
      "name": "python3",
      "display_name": "Python 3"
    },
    "language_info": {
      "name": "python"
    },
    "accelerator": "GPU",
    "gpuClass": "standard"
  },
  "cells": [
    {
      "cell_type": "markdown",
      "metadata": {
        "id": "view-in-github",
        "colab_type": "text"
      },
      "source": [
        "<a href=\"https://colab.research.google.com/github/ram130849/Deep_Learning_Systems_Assignments/blob/main/TensorFlow/Ramki/E533_DLS_Assignment3.ipynb\" target=\"_parent\"><img src=\"https://colab.research.google.com/assets/colab-badge.svg\" alt=\"Open In Colab\"/></a>"
      ]
    },
    {
      "cell_type": "code",
      "source": [
        "!pip install IPython\n",
        "!pip install librosa"
      ],
      "metadata": {
        "id": "IN4WsmbMUmTr",
        "colab": {
          "base_uri": "https://localhost:8080/"
        },
        "outputId": "2433ae8e-0978-4dc3-8c4c-ddccc48e1954"
      },
      "execution_count": 1,
      "outputs": [
        {
          "output_type": "stream",
          "name": "stdout",
          "text": [
            "Looking in indexes: https://pypi.org/simple, https://us-python.pkg.dev/colab-wheels/public/simple/\n",
            "Requirement already satisfied: IPython in /usr/local/lib/python3.7/dist-packages (7.9.0)\n",
            "Requirement already satisfied: pickleshare in /usr/local/lib/python3.7/dist-packages (from IPython) (0.7.5)\n",
            "Requirement already satisfied: traitlets>=4.2 in /usr/local/lib/python3.7/dist-packages (from IPython) (5.1.1)\n",
            "Requirement already satisfied: pexpect in /usr/local/lib/python3.7/dist-packages (from IPython) (4.8.0)\n",
            "Requirement already satisfied: decorator in /usr/local/lib/python3.7/dist-packages (from IPython) (4.4.2)\n",
            "Requirement already satisfied: prompt-toolkit<2.1.0,>=2.0.0 in /usr/local/lib/python3.7/dist-packages (from IPython) (2.0.10)\n",
            "Requirement already satisfied: pygments in /usr/local/lib/python3.7/dist-packages (from IPython) (2.6.1)\n",
            "Requirement already satisfied: backcall in /usr/local/lib/python3.7/dist-packages (from IPython) (0.2.0)\n",
            "Requirement already satisfied: setuptools>=18.5 in /usr/local/lib/python3.7/dist-packages (from IPython) (57.4.0)\n",
            "Collecting jedi>=0.10\n",
            "  Downloading jedi-0.18.1-py2.py3-none-any.whl (1.6 MB)\n",
            "\u001b[K     |████████████████████████████████| 1.6 MB 20.2 MB/s \n",
            "\u001b[?25hRequirement already satisfied: parso<0.9.0,>=0.8.0 in /usr/local/lib/python3.7/dist-packages (from jedi>=0.10->IPython) (0.8.3)\n",
            "Requirement already satisfied: six>=1.9.0 in /usr/local/lib/python3.7/dist-packages (from prompt-toolkit<2.1.0,>=2.0.0->IPython) (1.15.0)\n",
            "Requirement already satisfied: wcwidth in /usr/local/lib/python3.7/dist-packages (from prompt-toolkit<2.1.0,>=2.0.0->IPython) (0.2.5)\n",
            "Requirement already satisfied: ptyprocess>=0.5 in /usr/local/lib/python3.7/dist-packages (from pexpect->IPython) (0.7.0)\n",
            "Installing collected packages: jedi\n",
            "Successfully installed jedi-0.18.1\n",
            "Looking in indexes: https://pypi.org/simple, https://us-python.pkg.dev/colab-wheels/public/simple/\n",
            "Requirement already satisfied: librosa in /usr/local/lib/python3.7/dist-packages (0.8.1)\n",
            "Requirement already satisfied: resampy>=0.2.2 in /usr/local/lib/python3.7/dist-packages (from librosa) (0.4.2)\n",
            "Requirement already satisfied: audioread>=2.0.0 in /usr/local/lib/python3.7/dist-packages (from librosa) (3.0.0)\n",
            "Requirement already satisfied: joblib>=0.14 in /usr/local/lib/python3.7/dist-packages (from librosa) (1.2.0)\n",
            "Requirement already satisfied: pooch>=1.0 in /usr/local/lib/python3.7/dist-packages (from librosa) (1.6.0)\n",
            "Requirement already satisfied: numba>=0.43.0 in /usr/local/lib/python3.7/dist-packages (from librosa) (0.56.3)\n",
            "Requirement already satisfied: soundfile>=0.10.2 in /usr/local/lib/python3.7/dist-packages (from librosa) (0.11.0)\n",
            "Requirement already satisfied: packaging>=20.0 in /usr/local/lib/python3.7/dist-packages (from librosa) (21.3)\n",
            "Requirement already satisfied: scipy>=1.0.0 in /usr/local/lib/python3.7/dist-packages (from librosa) (1.7.3)\n",
            "Requirement already satisfied: numpy>=1.15.0 in /usr/local/lib/python3.7/dist-packages (from librosa) (1.21.6)\n",
            "Requirement already satisfied: scikit-learn!=0.19.0,>=0.14.0 in /usr/local/lib/python3.7/dist-packages (from librosa) (1.0.2)\n",
            "Requirement already satisfied: decorator>=3.0.0 in /usr/local/lib/python3.7/dist-packages (from librosa) (4.4.2)\n",
            "Requirement already satisfied: llvmlite<0.40,>=0.39.0dev0 in /usr/local/lib/python3.7/dist-packages (from numba>=0.43.0->librosa) (0.39.1)\n",
            "Requirement already satisfied: importlib-metadata in /usr/local/lib/python3.7/dist-packages (from numba>=0.43.0->librosa) (4.13.0)\n",
            "Requirement already satisfied: setuptools in /usr/local/lib/python3.7/dist-packages (from numba>=0.43.0->librosa) (57.4.0)\n",
            "Requirement already satisfied: pyparsing!=3.0.5,>=2.0.2 in /usr/local/lib/python3.7/dist-packages (from packaging>=20.0->librosa) (3.0.9)\n",
            "Requirement already satisfied: requests>=2.19.0 in /usr/local/lib/python3.7/dist-packages (from pooch>=1.0->librosa) (2.23.0)\n",
            "Requirement already satisfied: appdirs>=1.3.0 in /usr/local/lib/python3.7/dist-packages (from pooch>=1.0->librosa) (1.4.4)\n",
            "Requirement already satisfied: certifi>=2017.4.17 in /usr/local/lib/python3.7/dist-packages (from requests>=2.19.0->pooch>=1.0->librosa) (2022.9.24)\n",
            "Requirement already satisfied: chardet<4,>=3.0.2 in /usr/local/lib/python3.7/dist-packages (from requests>=2.19.0->pooch>=1.0->librosa) (3.0.4)\n",
            "Requirement already satisfied: urllib3!=1.25.0,!=1.25.1,<1.26,>=1.21.1 in /usr/local/lib/python3.7/dist-packages (from requests>=2.19.0->pooch>=1.0->librosa) (1.24.3)\n",
            "Requirement already satisfied: idna<3,>=2.5 in /usr/local/lib/python3.7/dist-packages (from requests>=2.19.0->pooch>=1.0->librosa) (2.10)\n",
            "Requirement already satisfied: threadpoolctl>=2.0.0 in /usr/local/lib/python3.7/dist-packages (from scikit-learn!=0.19.0,>=0.14.0->librosa) (3.1.0)\n",
            "Requirement already satisfied: cffi>=1.0 in /usr/local/lib/python3.7/dist-packages (from soundfile>=0.10.2->librosa) (1.15.1)\n",
            "Requirement already satisfied: pycparser in /usr/local/lib/python3.7/dist-packages (from cffi>=1.0->soundfile>=0.10.2->librosa) (2.21)\n",
            "Requirement already satisfied: typing-extensions>=3.6.4 in /usr/local/lib/python3.7/dist-packages (from importlib-metadata->numba>=0.43.0->librosa) (4.1.1)\n",
            "Requirement already satisfied: zipp>=0.5 in /usr/local/lib/python3.7/dist-packages (from importlib-metadata->numba>=0.43.0->librosa) (3.9.0)\n"
          ]
        }
      ]
    },
    {
      "cell_type": "code",
      "execution_count": 1,
      "metadata": {
        "id": "nWR2IVz5E9lH",
        "colab": {
          "base_uri": "https://localhost:8080/"
        },
        "outputId": "292fc82b-a69c-49b4-deba-fbc00a51c2fa"
      },
      "outputs": [
        {
          "output_type": "stream",
          "name": "stdout",
          "text": [
            "Mounted at /content/drive/\n"
          ]
        }
      ],
      "source": [
        "import numpy as np\n",
        "from IPython.display import Audio\n",
        "import librosa\n",
        "from google.colab import drive\n",
        "import tensorflow as tf\n",
        "from tensorflow.keras import backend as K\n",
        "from librosa.core import stft,istft\n",
        "from tensorflow.keras.layers import GRU,Dropout\n",
        "from tensorflow.keras.layers import Conv1D,Conv2D,MaxPooling2D,Dropout,Dense,Flatten,BatchNormalization\n",
        "from sklearn.model_selection import train_test_split\n",
        "from sklearn.preprocessing import MinMaxScaler\n",
        "import matplotlib.pyplot as plt\n",
        "import os\n",
        "import soundfile as sf\n",
        "drive.mount('/content/drive/')"
      ]
    },
    {
      "cell_type": "markdown",
      "source": [
        "Q1: Data Augmentation"
      ],
      "metadata": {
        "id": "vFIobnUYYaVf"
      }
    },
    {
      "cell_type": "code",
      "source": [
        "cifar10 = tf.keras.datasets.cifar10"
      ],
      "metadata": {
        "id": "W1XFUrl3YVSd"
      },
      "execution_count": 3,
      "outputs": []
    },
    {
      "cell_type": "code",
      "source": [
        "(x_train, y_train), (x_test, y_test) = cifar10.load_data()"
      ],
      "metadata": {
        "id": "_anP3TMgYVeZ",
        "colab": {
          "base_uri": "https://localhost:8080/"
        },
        "outputId": "14cadee2-3fdc-4dbb-d55c-8d636f9bc5ac"
      },
      "execution_count": 4,
      "outputs": [
        {
          "output_type": "stream",
          "name": "stdout",
          "text": [
            "Downloading data from https://www.cs.toronto.edu/~kriz/cifar-10-python.tar.gz\n",
            "170498071/170498071 [==============================] - 4s 0us/step\n"
          ]
        }
      ]
    },
    {
      "cell_type": "code",
      "source": [
        " X_train, X_val, Y_train, Y_val = train_test_split(x_train, y_train, test_size=0.1, random_state=1)\n",
        " print(X_train.shape)\n",
        " print(X_val.shape)\n",
        " print(Y_train.shape)\n",
        " print(Y_val.shape)"
      ],
      "metadata": {
        "id": "u7C4salRYVlL",
        "colab": {
          "base_uri": "https://localhost:8080/"
        },
        "outputId": "84b20fd6-ad8b-4b39-db7b-35b11a2527af"
      },
      "execution_count": 5,
      "outputs": [
        {
          "output_type": "stream",
          "name": "stdout",
          "text": [
            "(45000, 32, 32, 3)\n",
            "(5000, 32, 32, 3)\n",
            "(45000, 1)\n",
            "(5000, 1)\n"
          ]
        }
      ]
    },
    {
      "cell_type": "code",
      "source": [
        "def normalize_tensor(tensor): \n",
        "    tensor = tf.math.divide(\n",
        "          tf.subtract(\n",
        "              tensor, \n",
        "              tf.reduce_min(tensor)\n",
        "          ), \n",
        "          tf.subtract(\n",
        "              tf.reduce_max(tensor), \n",
        "              tf.reduce_min(tensor)\n",
        "          )\n",
        "        )\n",
        "    return 2*tensor-1"
      ],
      "metadata": {
        "id": "oZ7-Jn95kVE7"
      },
      "execution_count": 6,
      "outputs": []
    },
    {
      "cell_type": "code",
      "source": [
        "X_train_n2, X_val_n2 = X_train/255.0, X_val/ 255.0"
      ],
      "metadata": {
        "id": "7O6TTOFrYV42"
      },
      "execution_count": 7,
      "outputs": []
    },
    {
      "cell_type": "code",
      "source": [
        "Y_train, Y_val = Y_train.flatten(), Y_val.flatten()\n",
        "layer = tf.keras.layers.Normalization(mean=0, variance=1)\n",
        "X_train_n1 = normalize_tensor(X_train)\n",
        "X_val_n1 = normalize_tensor(X_val)"
      ],
      "metadata": {
        "id": "arVje6TDeKA9"
      },
      "execution_count": 18,
      "outputs": []
    },
    {
      "cell_type": "code",
      "source": [
        "he_initializer = tf.keras.initializers.HeUniform(seed=None)"
      ],
      "metadata": {
        "id": "SCMUEh7dvYq5"
      },
      "execution_count": 14,
      "outputs": []
    },
    {
      "cell_type": "code",
      "source": [
        "model = tf.keras.Sequential()\n",
        "model.add(Conv2D(10, (5, 5), strides=(1,1), activation='relu', input_shape=(32, 32, 3),kernel_initializer=he_initializer))\n",
        "model.add(MaxPooling2D((2, 2),strides=(2,2)))\n",
        "model.add(Conv2D(10, (5, 5), activation='relu',kernel_initializer=he_initializer))\n",
        "model.add(MaxPooling2D((2, 2),strides=2))\n",
        "model.add(Flatten())\n",
        "model.add(Dense(units=20,activation='relu',kernel_initializer=he_initializer))\n",
        "model.add(Dense(units=10,activation='softmax',kernel_initializer=he_initializer))"
      ],
      "metadata": {
        "id": "zqaeA4fOYV_J"
      },
      "execution_count": 19,
      "outputs": []
    },
    {
      "cell_type": "code",
      "source": [
        "adam = tf.keras.optimizers.Adam(learning_rate=0.001)\n",
        "model.compile(optimizer=adam,loss='sparse_categorical_crossentropy',metrics=['accuracy'])"
      ],
      "metadata": {
        "id": "hizhzXcyYWEP"
      },
      "execution_count": 20,
      "outputs": []
    },
    {
      "cell_type": "code",
      "source": [
        "r = model.fit(X_train_n1, Y_train, validation_data=(X_val_n1, Y_val), batch_size=256, epochs=150)"
      ],
      "metadata": {
        "id": "H_uuXREjYWI3",
        "colab": {
          "base_uri": "https://localhost:8080/"
        },
        "outputId": "91d109a7-f1d3-4d9a-8878-74660d94d88d"
      },
      "execution_count": 21,
      "outputs": [
        {
          "output_type": "stream",
          "name": "stdout",
          "text": [
            "Epoch 1/150\n",
            "176/176 [==============================] - 2s 9ms/step - loss: 2.0114 - accuracy: 0.2582 - val_loss: 1.6965 - val_accuracy: 0.3752\n",
            "Epoch 2/150\n",
            "176/176 [==============================] - 1s 7ms/step - loss: 1.5875 - accuracy: 0.4270 - val_loss: 1.5260 - val_accuracy: 0.4444\n",
            "Epoch 3/150\n",
            "176/176 [==============================] - 1s 7ms/step - loss: 1.4446 - accuracy: 0.4827 - val_loss: 1.4128 - val_accuracy: 0.4954\n",
            "Epoch 4/150\n",
            "176/176 [==============================] - 1s 8ms/step - loss: 1.3785 - accuracy: 0.5065 - val_loss: 1.3608 - val_accuracy: 0.5102\n",
            "Epoch 5/150\n",
            "176/176 [==============================] - 1s 7ms/step - loss: 1.3321 - accuracy: 0.5268 - val_loss: 1.3296 - val_accuracy: 0.5196\n",
            "Epoch 6/150\n",
            "176/176 [==============================] - 1s 7ms/step - loss: 1.2956 - accuracy: 0.5390 - val_loss: 1.2860 - val_accuracy: 0.5420\n",
            "Epoch 7/150\n",
            "176/176 [==============================] - 1s 7ms/step - loss: 1.2660 - accuracy: 0.5519 - val_loss: 1.2636 - val_accuracy: 0.5502\n",
            "Epoch 8/150\n",
            "176/176 [==============================] - 1s 7ms/step - loss: 1.2372 - accuracy: 0.5633 - val_loss: 1.2596 - val_accuracy: 0.5516\n",
            "Epoch 9/150\n",
            "176/176 [==============================] - 1s 7ms/step - loss: 1.2081 - accuracy: 0.5750 - val_loss: 1.2308 - val_accuracy: 0.5616\n",
            "Epoch 10/150\n",
            "176/176 [==============================] - 1s 8ms/step - loss: 1.1903 - accuracy: 0.5811 - val_loss: 1.2225 - val_accuracy: 0.5702\n",
            "Epoch 11/150\n",
            "176/176 [==============================] - 1s 7ms/step - loss: 1.1742 - accuracy: 0.5858 - val_loss: 1.2221 - val_accuracy: 0.5676\n",
            "Epoch 12/150\n",
            "176/176 [==============================] - 1s 8ms/step - loss: 1.1572 - accuracy: 0.5933 - val_loss: 1.1856 - val_accuracy: 0.5796\n",
            "Epoch 13/150\n",
            "176/176 [==============================] - 1s 7ms/step - loss: 1.1390 - accuracy: 0.6015 - val_loss: 1.1908 - val_accuracy: 0.5834\n",
            "Epoch 14/150\n",
            "176/176 [==============================] - 1s 7ms/step - loss: 1.1285 - accuracy: 0.6046 - val_loss: 1.1567 - val_accuracy: 0.5864\n",
            "Epoch 15/150\n",
            "176/176 [==============================] - 1s 7ms/step - loss: 1.1115 - accuracy: 0.6102 - val_loss: 1.1550 - val_accuracy: 0.5940\n",
            "Epoch 16/150\n",
            "176/176 [==============================] - 1s 7ms/step - loss: 1.1018 - accuracy: 0.6146 - val_loss: 1.1410 - val_accuracy: 0.5970\n",
            "Epoch 17/150\n",
            "176/176 [==============================] - 1s 8ms/step - loss: 1.0926 - accuracy: 0.6185 - val_loss: 1.1406 - val_accuracy: 0.5948\n",
            "Epoch 18/150\n",
            "176/176 [==============================] - 1s 7ms/step - loss: 1.0814 - accuracy: 0.6233 - val_loss: 1.1665 - val_accuracy: 0.5934\n",
            "Epoch 19/150\n",
            "176/176 [==============================] - 1s 7ms/step - loss: 1.0731 - accuracy: 0.6253 - val_loss: 1.1148 - val_accuracy: 0.6072\n",
            "Epoch 20/150\n",
            "176/176 [==============================] - 1s 7ms/step - loss: 1.0668 - accuracy: 0.6267 - val_loss: 1.1200 - val_accuracy: 0.6032\n",
            "Epoch 21/150\n",
            "176/176 [==============================] - 1s 7ms/step - loss: 1.0575 - accuracy: 0.6308 - val_loss: 1.1129 - val_accuracy: 0.6086\n",
            "Epoch 22/150\n",
            "176/176 [==============================] - 1s 7ms/step - loss: 1.0509 - accuracy: 0.6334 - val_loss: 1.1241 - val_accuracy: 0.6032\n",
            "Epoch 23/150\n",
            "176/176 [==============================] - 1s 7ms/step - loss: 1.0483 - accuracy: 0.6341 - val_loss: 1.0983 - val_accuracy: 0.6138\n",
            "Epoch 24/150\n",
            "176/176 [==============================] - 1s 7ms/step - loss: 1.0378 - accuracy: 0.6392 - val_loss: 1.0975 - val_accuracy: 0.6150\n",
            "Epoch 25/150\n",
            "176/176 [==============================] - 1s 7ms/step - loss: 1.0304 - accuracy: 0.6409 - val_loss: 1.0914 - val_accuracy: 0.6210\n",
            "Epoch 26/150\n",
            "176/176 [==============================] - 1s 7ms/step - loss: 1.0244 - accuracy: 0.6418 - val_loss: 1.0821 - val_accuracy: 0.6252\n",
            "Epoch 27/150\n",
            "176/176 [==============================] - 1s 7ms/step - loss: 1.0204 - accuracy: 0.6448 - val_loss: 1.0834 - val_accuracy: 0.6178\n",
            "Epoch 28/150\n",
            "176/176 [==============================] - 1s 7ms/step - loss: 1.0201 - accuracy: 0.6442 - val_loss: 1.0939 - val_accuracy: 0.6138\n",
            "Epoch 29/150\n",
            "176/176 [==============================] - 1s 7ms/step - loss: 1.0102 - accuracy: 0.6488 - val_loss: 1.0871 - val_accuracy: 0.6178\n",
            "Epoch 30/150\n",
            "176/176 [==============================] - 1s 7ms/step - loss: 1.0089 - accuracy: 0.6490 - val_loss: 1.0825 - val_accuracy: 0.6202\n",
            "Epoch 31/150\n",
            "176/176 [==============================] - 1s 7ms/step - loss: 1.0000 - accuracy: 0.6529 - val_loss: 1.0789 - val_accuracy: 0.6222\n",
            "Epoch 32/150\n",
            "176/176 [==============================] - 1s 7ms/step - loss: 1.0023 - accuracy: 0.6490 - val_loss: 1.0793 - val_accuracy: 0.6248\n",
            "Epoch 33/150\n",
            "176/176 [==============================] - 1s 7ms/step - loss: 0.9952 - accuracy: 0.6556 - val_loss: 1.0922 - val_accuracy: 0.6190\n",
            "Epoch 34/150\n",
            "176/176 [==============================] - 1s 7ms/step - loss: 0.9908 - accuracy: 0.6544 - val_loss: 1.0789 - val_accuracy: 0.6260\n",
            "Epoch 35/150\n",
            "176/176 [==============================] - 1s 7ms/step - loss: 0.9854 - accuracy: 0.6575 - val_loss: 1.0595 - val_accuracy: 0.6290\n",
            "Epoch 36/150\n",
            "176/176 [==============================] - 1s 7ms/step - loss: 0.9818 - accuracy: 0.6584 - val_loss: 1.0740 - val_accuracy: 0.6242\n",
            "Epoch 37/150\n",
            "176/176 [==============================] - 1s 7ms/step - loss: 0.9840 - accuracy: 0.6580 - val_loss: 1.0575 - val_accuracy: 0.6312\n",
            "Epoch 38/150\n",
            "176/176 [==============================] - 1s 7ms/step - loss: 0.9787 - accuracy: 0.6600 - val_loss: 1.0788 - val_accuracy: 0.6260\n",
            "Epoch 39/150\n",
            "176/176 [==============================] - 1s 7ms/step - loss: 0.9781 - accuracy: 0.6620 - val_loss: 1.0629 - val_accuracy: 0.6290\n",
            "Epoch 40/150\n",
            "176/176 [==============================] - 1s 7ms/step - loss: 0.9732 - accuracy: 0.6612 - val_loss: 1.0551 - val_accuracy: 0.6326\n",
            "Epoch 41/150\n",
            "176/176 [==============================] - 1s 7ms/step - loss: 0.9693 - accuracy: 0.6614 - val_loss: 1.0555 - val_accuracy: 0.6372\n",
            "Epoch 42/150\n",
            "176/176 [==============================] - 1s 7ms/step - loss: 0.9634 - accuracy: 0.6651 - val_loss: 1.0566 - val_accuracy: 0.6322\n",
            "Epoch 43/150\n",
            "176/176 [==============================] - 1s 7ms/step - loss: 0.9639 - accuracy: 0.6646 - val_loss: 1.0708 - val_accuracy: 0.6250\n",
            "Epoch 44/150\n",
            "176/176 [==============================] - 1s 7ms/step - loss: 0.9577 - accuracy: 0.6669 - val_loss: 1.0883 - val_accuracy: 0.6212\n",
            "Epoch 45/150\n",
            "176/176 [==============================] - 1s 7ms/step - loss: 0.9560 - accuracy: 0.6676 - val_loss: 1.0612 - val_accuracy: 0.6312\n",
            "Epoch 46/150\n",
            "176/176 [==============================] - 1s 7ms/step - loss: 0.9567 - accuracy: 0.6668 - val_loss: 1.0638 - val_accuracy: 0.6282\n",
            "Epoch 47/150\n",
            "176/176 [==============================] - 1s 7ms/step - loss: 0.9526 - accuracy: 0.6694 - val_loss: 1.0959 - val_accuracy: 0.6276\n",
            "Epoch 48/150\n",
            "176/176 [==============================] - 1s 6ms/step - loss: 0.9514 - accuracy: 0.6675 - val_loss: 1.0700 - val_accuracy: 0.6282\n",
            "Epoch 49/150\n",
            "176/176 [==============================] - 1s 6ms/step - loss: 0.9446 - accuracy: 0.6705 - val_loss: 1.0510 - val_accuracy: 0.6334\n",
            "Epoch 50/150\n",
            "176/176 [==============================] - 1s 6ms/step - loss: 0.9469 - accuracy: 0.6715 - val_loss: 1.0634 - val_accuracy: 0.6278\n",
            "Epoch 51/150\n",
            "176/176 [==============================] - 1s 6ms/step - loss: 0.9411 - accuracy: 0.6731 - val_loss: 1.0492 - val_accuracy: 0.6382\n",
            "Epoch 52/150\n",
            "176/176 [==============================] - 1s 6ms/step - loss: 0.9414 - accuracy: 0.6711 - val_loss: 1.0720 - val_accuracy: 0.6284\n",
            "Epoch 53/150\n",
            "176/176 [==============================] - 1s 6ms/step - loss: 0.9387 - accuracy: 0.6722 - val_loss: 1.0481 - val_accuracy: 0.6328\n",
            "Epoch 54/150\n",
            "176/176 [==============================] - 1s 6ms/step - loss: 0.9348 - accuracy: 0.6760 - val_loss: 1.0555 - val_accuracy: 0.6388\n",
            "Epoch 55/150\n",
            "176/176 [==============================] - 1s 6ms/step - loss: 0.9340 - accuracy: 0.6749 - val_loss: 1.0623 - val_accuracy: 0.6344\n",
            "Epoch 56/150\n",
            "176/176 [==============================] - 1s 7ms/step - loss: 0.9325 - accuracy: 0.6760 - val_loss: 1.0581 - val_accuracy: 0.6388\n",
            "Epoch 57/150\n",
            "176/176 [==============================] - 1s 6ms/step - loss: 0.9243 - accuracy: 0.6797 - val_loss: 1.0427 - val_accuracy: 0.6362\n",
            "Epoch 58/150\n",
            "176/176 [==============================] - 1s 6ms/step - loss: 0.9264 - accuracy: 0.6786 - val_loss: 1.0509 - val_accuracy: 0.6384\n",
            "Epoch 59/150\n",
            "176/176 [==============================] - 1s 6ms/step - loss: 0.9248 - accuracy: 0.6792 - val_loss: 1.0456 - val_accuracy: 0.6358\n",
            "Epoch 60/150\n",
            "176/176 [==============================] - 1s 6ms/step - loss: 0.9246 - accuracy: 0.6776 - val_loss: 1.0436 - val_accuracy: 0.6418\n",
            "Epoch 61/150\n",
            "176/176 [==============================] - 1s 6ms/step - loss: 0.9219 - accuracy: 0.6793 - val_loss: 1.0568 - val_accuracy: 0.6316\n",
            "Epoch 62/150\n",
            "176/176 [==============================] - 1s 6ms/step - loss: 0.9205 - accuracy: 0.6810 - val_loss: 1.0616 - val_accuracy: 0.6376\n",
            "Epoch 63/150\n",
            "176/176 [==============================] - 1s 6ms/step - loss: 0.9173 - accuracy: 0.6801 - val_loss: 1.0485 - val_accuracy: 0.6384\n",
            "Epoch 64/150\n",
            "176/176 [==============================] - 1s 6ms/step - loss: 0.9176 - accuracy: 0.6810 - val_loss: 1.0531 - val_accuracy: 0.6418\n",
            "Epoch 65/150\n",
            "176/176 [==============================] - 1s 6ms/step - loss: 0.9192 - accuracy: 0.6801 - val_loss: 1.0493 - val_accuracy: 0.6354\n",
            "Epoch 66/150\n",
            "176/176 [==============================] - 1s 7ms/step - loss: 0.9106 - accuracy: 0.6836 - val_loss: 1.0442 - val_accuracy: 0.6420\n",
            "Epoch 67/150\n",
            "176/176 [==============================] - 1s 8ms/step - loss: 0.9113 - accuracy: 0.6821 - val_loss: 1.0419 - val_accuracy: 0.6444\n",
            "Epoch 68/150\n",
            "176/176 [==============================] - 1s 8ms/step - loss: 0.9089 - accuracy: 0.6844 - val_loss: 1.0315 - val_accuracy: 0.6442\n",
            "Epoch 69/150\n",
            "176/176 [==============================] - 1s 8ms/step - loss: 0.9067 - accuracy: 0.6843 - val_loss: 1.0405 - val_accuracy: 0.6424\n",
            "Epoch 70/150\n",
            "176/176 [==============================] - 2s 9ms/step - loss: 0.9081 - accuracy: 0.6830 - val_loss: 1.0447 - val_accuracy: 0.6392\n",
            "Epoch 71/150\n",
            "176/176 [==============================] - 2s 9ms/step - loss: 0.9046 - accuracy: 0.6870 - val_loss: 1.0504 - val_accuracy: 0.6390\n",
            "Epoch 72/150\n",
            "176/176 [==============================] - 2s 9ms/step - loss: 0.9041 - accuracy: 0.6851 - val_loss: 1.0418 - val_accuracy: 0.6436\n",
            "Epoch 73/150\n",
            "176/176 [==============================] - 2s 9ms/step - loss: 0.9022 - accuracy: 0.6861 - val_loss: 1.0382 - val_accuracy: 0.6416\n",
            "Epoch 74/150\n",
            "176/176 [==============================] - 1s 9ms/step - loss: 0.9044 - accuracy: 0.6838 - val_loss: 1.0393 - val_accuracy: 0.6442\n",
            "Epoch 75/150\n",
            "176/176 [==============================] - 2s 9ms/step - loss: 0.8975 - accuracy: 0.6877 - val_loss: 1.0531 - val_accuracy: 0.6402\n",
            "Epoch 76/150\n",
            "176/176 [==============================] - 1s 8ms/step - loss: 0.8972 - accuracy: 0.6864 - val_loss: 1.0539 - val_accuracy: 0.6372\n",
            "Epoch 77/150\n",
            "176/176 [==============================] - 1s 8ms/step - loss: 0.8986 - accuracy: 0.6875 - val_loss: 1.0365 - val_accuracy: 0.6474\n",
            "Epoch 78/150\n",
            "176/176 [==============================] - 2s 9ms/step - loss: 0.8931 - accuracy: 0.6883 - val_loss: 1.0519 - val_accuracy: 0.6458\n",
            "Epoch 79/150\n",
            "176/176 [==============================] - 1s 8ms/step - loss: 0.8963 - accuracy: 0.6880 - val_loss: 1.0324 - val_accuracy: 0.6454\n",
            "Epoch 80/150\n",
            "176/176 [==============================] - 1s 8ms/step - loss: 0.8953 - accuracy: 0.6868 - val_loss: 1.0786 - val_accuracy: 0.6364\n",
            "Epoch 81/150\n",
            "176/176 [==============================] - 1s 8ms/step - loss: 0.8926 - accuracy: 0.6898 - val_loss: 1.0418 - val_accuracy: 0.6410\n",
            "Epoch 82/150\n",
            "176/176 [==============================] - 1s 8ms/step - loss: 0.8891 - accuracy: 0.6904 - val_loss: 1.0413 - val_accuracy: 0.6426\n",
            "Epoch 83/150\n",
            "176/176 [==============================] - 1s 8ms/step - loss: 0.8929 - accuracy: 0.6870 - val_loss: 1.0464 - val_accuracy: 0.6394\n",
            "Epoch 84/150\n",
            "176/176 [==============================] - 1s 8ms/step - loss: 0.8870 - accuracy: 0.6893 - val_loss: 1.0405 - val_accuracy: 0.6394\n",
            "Epoch 85/150\n",
            "176/176 [==============================] - 1s 8ms/step - loss: 0.8881 - accuracy: 0.6903 - val_loss: 1.0423 - val_accuracy: 0.6446\n",
            "Epoch 86/150\n",
            "176/176 [==============================] - 1s 7ms/step - loss: 0.8853 - accuracy: 0.6895 - val_loss: 1.0457 - val_accuracy: 0.6422\n",
            "Epoch 87/150\n",
            "176/176 [==============================] - 1s 6ms/step - loss: 0.8834 - accuracy: 0.6911 - val_loss: 1.0384 - val_accuracy: 0.6438\n",
            "Epoch 88/150\n",
            "176/176 [==============================] - 1s 7ms/step - loss: 0.8797 - accuracy: 0.6931 - val_loss: 1.0472 - val_accuracy: 0.6438\n",
            "Epoch 89/150\n",
            "176/176 [==============================] - 1s 6ms/step - loss: 0.8816 - accuracy: 0.6933 - val_loss: 1.0266 - val_accuracy: 0.6496\n",
            "Epoch 90/150\n",
            "176/176 [==============================] - 1s 7ms/step - loss: 0.8884 - accuracy: 0.6879 - val_loss: 1.0405 - val_accuracy: 0.6420\n",
            "Epoch 91/150\n",
            "176/176 [==============================] - 1s 6ms/step - loss: 0.8798 - accuracy: 0.6923 - val_loss: 1.0358 - val_accuracy: 0.6474\n",
            "Epoch 92/150\n",
            "176/176 [==============================] - 1s 7ms/step - loss: 0.8763 - accuracy: 0.6946 - val_loss: 1.0299 - val_accuracy: 0.6490\n",
            "Epoch 93/150\n",
            "176/176 [==============================] - 1s 7ms/step - loss: 0.8762 - accuracy: 0.6948 - val_loss: 1.0394 - val_accuracy: 0.6406\n",
            "Epoch 94/150\n",
            "176/176 [==============================] - 1s 7ms/step - loss: 0.8795 - accuracy: 0.6948 - val_loss: 1.0670 - val_accuracy: 0.6324\n",
            "Epoch 95/150\n",
            "176/176 [==============================] - 1s 7ms/step - loss: 0.8747 - accuracy: 0.6944 - val_loss: 1.0346 - val_accuracy: 0.6470\n",
            "Epoch 96/150\n",
            "176/176 [==============================] - 1s 7ms/step - loss: 0.8739 - accuracy: 0.6951 - val_loss: 1.0394 - val_accuracy: 0.6416\n",
            "Epoch 97/150\n",
            "176/176 [==============================] - 1s 8ms/step - loss: 0.8743 - accuracy: 0.6933 - val_loss: 1.0525 - val_accuracy: 0.6376\n",
            "Epoch 98/150\n",
            "176/176 [==============================] - 1s 8ms/step - loss: 0.8728 - accuracy: 0.6948 - val_loss: 1.0614 - val_accuracy: 0.6336\n",
            "Epoch 99/150\n",
            "176/176 [==============================] - 1s 8ms/step - loss: 0.8747 - accuracy: 0.6935 - val_loss: 1.0447 - val_accuracy: 0.6440\n",
            "Epoch 100/150\n",
            "176/176 [==============================] - 1s 8ms/step - loss: 0.8703 - accuracy: 0.6985 - val_loss: 1.0493 - val_accuracy: 0.6472\n",
            "Epoch 101/150\n",
            "176/176 [==============================] - 2s 9ms/step - loss: 0.8696 - accuracy: 0.6972 - val_loss: 1.0348 - val_accuracy: 0.6424\n",
            "Epoch 102/150\n",
            "176/176 [==============================] - 2s 9ms/step - loss: 0.8675 - accuracy: 0.6970 - val_loss: 1.0591 - val_accuracy: 0.6322\n",
            "Epoch 103/150\n",
            "176/176 [==============================] - 1s 8ms/step - loss: 0.8677 - accuracy: 0.6963 - val_loss: 1.0374 - val_accuracy: 0.6382\n",
            "Epoch 104/150\n",
            "176/176 [==============================] - 1s 8ms/step - loss: 0.8674 - accuracy: 0.6962 - val_loss: 1.0546 - val_accuracy: 0.6352\n",
            "Epoch 105/150\n",
            "176/176 [==============================] - 1s 8ms/step - loss: 0.8641 - accuracy: 0.6965 - val_loss: 1.0471 - val_accuracy: 0.6372\n",
            "Epoch 106/150\n",
            "176/176 [==============================] - 1s 8ms/step - loss: 0.8643 - accuracy: 0.6979 - val_loss: 1.0435 - val_accuracy: 0.6412\n",
            "Epoch 107/150\n",
            "176/176 [==============================] - 1s 8ms/step - loss: 0.8643 - accuracy: 0.6977 - val_loss: 1.0308 - val_accuracy: 0.6448\n",
            "Epoch 108/150\n",
            "176/176 [==============================] - 1s 8ms/step - loss: 0.8632 - accuracy: 0.6970 - val_loss: 1.0528 - val_accuracy: 0.6398\n",
            "Epoch 109/150\n",
            "176/176 [==============================] - 1s 8ms/step - loss: 0.8650 - accuracy: 0.6981 - val_loss: 1.0302 - val_accuracy: 0.6472\n",
            "Epoch 110/150\n",
            "176/176 [==============================] - 1s 8ms/step - loss: 0.8620 - accuracy: 0.6996 - val_loss: 1.0490 - val_accuracy: 0.6380\n",
            "Epoch 111/150\n",
            "176/176 [==============================] - 1s 8ms/step - loss: 0.8595 - accuracy: 0.6997 - val_loss: 1.0397 - val_accuracy: 0.6460\n",
            "Epoch 112/150\n",
            "176/176 [==============================] - 1s 8ms/step - loss: 0.8602 - accuracy: 0.6995 - val_loss: 1.0301 - val_accuracy: 0.6430\n",
            "Epoch 113/150\n",
            "176/176 [==============================] - 1s 8ms/step - loss: 0.8606 - accuracy: 0.6981 - val_loss: 1.0465 - val_accuracy: 0.6456\n",
            "Epoch 114/150\n",
            "176/176 [==============================] - 1s 8ms/step - loss: 0.8553 - accuracy: 0.7007 - val_loss: 1.0263 - val_accuracy: 0.6460\n",
            "Epoch 115/150\n",
            "176/176 [==============================] - 1s 8ms/step - loss: 0.8569 - accuracy: 0.7012 - val_loss: 1.0344 - val_accuracy: 0.6466\n",
            "Epoch 116/150\n",
            "176/176 [==============================] - 1s 8ms/step - loss: 0.8554 - accuracy: 0.7014 - val_loss: 1.0252 - val_accuracy: 0.6468\n",
            "Epoch 117/150\n",
            "176/176 [==============================] - 1s 8ms/step - loss: 0.8523 - accuracy: 0.7016 - val_loss: 1.0236 - val_accuracy: 0.6486\n",
            "Epoch 118/150\n",
            "176/176 [==============================] - 1s 8ms/step - loss: 0.8539 - accuracy: 0.7036 - val_loss: 1.0191 - val_accuracy: 0.6500\n",
            "Epoch 119/150\n",
            "176/176 [==============================] - 1s 8ms/step - loss: 0.8540 - accuracy: 0.7026 - val_loss: 1.0367 - val_accuracy: 0.6468\n",
            "Epoch 120/150\n",
            "176/176 [==============================] - 1s 8ms/step - loss: 0.8511 - accuracy: 0.7019 - val_loss: 1.0479 - val_accuracy: 0.6466\n",
            "Epoch 121/150\n",
            "176/176 [==============================] - 1s 8ms/step - loss: 0.8493 - accuracy: 0.7032 - val_loss: 1.0359 - val_accuracy: 0.6506\n",
            "Epoch 122/150\n",
            "176/176 [==============================] - 1s 8ms/step - loss: 0.8485 - accuracy: 0.7016 - val_loss: 1.0424 - val_accuracy: 0.6448\n",
            "Epoch 123/150\n",
            "176/176 [==============================] - 1s 8ms/step - loss: 0.8493 - accuracy: 0.7014 - val_loss: 1.0320 - val_accuracy: 0.6490\n",
            "Epoch 124/150\n",
            "176/176 [==============================] - 1s 8ms/step - loss: 0.8494 - accuracy: 0.7035 - val_loss: 1.0373 - val_accuracy: 0.6432\n",
            "Epoch 125/150\n",
            "176/176 [==============================] - 1s 8ms/step - loss: 0.8518 - accuracy: 0.7019 - val_loss: 1.0503 - val_accuracy: 0.6410\n",
            "Epoch 126/150\n",
            "176/176 [==============================] - 1s 8ms/step - loss: 0.8497 - accuracy: 0.7020 - val_loss: 1.0329 - val_accuracy: 0.6432\n",
            "Epoch 127/150\n",
            "176/176 [==============================] - 1s 8ms/step - loss: 0.8462 - accuracy: 0.7042 - val_loss: 1.0293 - val_accuracy: 0.6466\n",
            "Epoch 128/150\n",
            "176/176 [==============================] - 1s 8ms/step - loss: 0.8461 - accuracy: 0.7031 - val_loss: 1.0506 - val_accuracy: 0.6410\n",
            "Epoch 129/150\n",
            "176/176 [==============================] - 1s 8ms/step - loss: 0.8529 - accuracy: 0.7013 - val_loss: 1.0285 - val_accuracy: 0.6436\n",
            "Epoch 130/150\n",
            "176/176 [==============================] - 1s 8ms/step - loss: 0.8450 - accuracy: 0.7028 - val_loss: 1.0340 - val_accuracy: 0.6498\n",
            "Epoch 131/150\n",
            "176/176 [==============================] - 1s 8ms/step - loss: 0.8458 - accuracy: 0.7047 - val_loss: 1.0443 - val_accuracy: 0.6400\n",
            "Epoch 132/150\n",
            "176/176 [==============================] - 2s 9ms/step - loss: 0.8409 - accuracy: 0.7049 - val_loss: 1.0325 - val_accuracy: 0.6520\n",
            "Epoch 133/150\n",
            "176/176 [==============================] - 2s 9ms/step - loss: 0.8404 - accuracy: 0.7048 - val_loss: 1.0360 - val_accuracy: 0.6496\n",
            "Epoch 134/150\n",
            "176/176 [==============================] - 2s 9ms/step - loss: 0.8427 - accuracy: 0.7056 - val_loss: 1.0337 - val_accuracy: 0.6484\n",
            "Epoch 135/150\n",
            "176/176 [==============================] - 1s 8ms/step - loss: 0.8446 - accuracy: 0.7023 - val_loss: 1.0446 - val_accuracy: 0.6488\n",
            "Epoch 136/150\n",
            "176/176 [==============================] - 2s 9ms/step - loss: 0.8410 - accuracy: 0.7054 - val_loss: 1.0439 - val_accuracy: 0.6462\n",
            "Epoch 137/150\n",
            "176/176 [==============================] - 2s 9ms/step - loss: 0.8393 - accuracy: 0.7064 - val_loss: 1.0445 - val_accuracy: 0.6454\n",
            "Epoch 138/150\n",
            "176/176 [==============================] - 1s 8ms/step - loss: 0.8387 - accuracy: 0.7058 - val_loss: 1.0455 - val_accuracy: 0.6482\n",
            "Epoch 139/150\n",
            "176/176 [==============================] - 1s 8ms/step - loss: 0.8348 - accuracy: 0.7061 - val_loss: 1.0381 - val_accuracy: 0.6498\n",
            "Epoch 140/150\n",
            "176/176 [==============================] - 1s 8ms/step - loss: 0.8366 - accuracy: 0.7078 - val_loss: 1.0287 - val_accuracy: 0.6494\n",
            "Epoch 141/150\n",
            "176/176 [==============================] - 2s 9ms/step - loss: 0.8394 - accuracy: 0.7064 - val_loss: 1.0353 - val_accuracy: 0.6492\n",
            "Epoch 142/150\n",
            "176/176 [==============================] - 2s 9ms/step - loss: 0.8375 - accuracy: 0.7072 - val_loss: 1.0479 - val_accuracy: 0.6392\n",
            "Epoch 143/150\n",
            "176/176 [==============================] - 1s 8ms/step - loss: 0.8370 - accuracy: 0.7065 - val_loss: 1.0356 - val_accuracy: 0.6484\n",
            "Epoch 144/150\n",
            "176/176 [==============================] - 1s 8ms/step - loss: 0.8402 - accuracy: 0.7062 - val_loss: 1.0524 - val_accuracy: 0.6460\n",
            "Epoch 145/150\n",
            "176/176 [==============================] - 1s 8ms/step - loss: 0.8391 - accuracy: 0.7060 - val_loss: 1.0293 - val_accuracy: 0.6460\n",
            "Epoch 146/150\n",
            "176/176 [==============================] - 2s 9ms/step - loss: 0.8369 - accuracy: 0.7067 - val_loss: 1.0309 - val_accuracy: 0.6504\n",
            "Epoch 147/150\n",
            "176/176 [==============================] - 1s 8ms/step - loss: 0.8345 - accuracy: 0.7068 - val_loss: 1.0371 - val_accuracy: 0.6380\n",
            "Epoch 148/150\n",
            "176/176 [==============================] - 1s 8ms/step - loss: 0.8341 - accuracy: 0.7065 - val_loss: 1.0233 - val_accuracy: 0.6494\n",
            "Epoch 149/150\n",
            "176/176 [==============================] - 1s 8ms/step - loss: 0.8334 - accuracy: 0.7076 - val_loss: 1.0335 - val_accuracy: 0.6444\n",
            "Epoch 150/150\n",
            "176/176 [==============================] - 1s 8ms/step - loss: 0.8321 - accuracy: 0.7090 - val_loss: 1.0430 - val_accuracy: 0.6498\n"
          ]
        }
      ]
    },
    {
      "cell_type": "code",
      "source": [
        "aug_x_train1 = np.minimum(1.1*X_train_n2, 1)\n",
        "aug_x_train1 = normalize_tensor(aug_x_train1)\n",
        "aug_x_train2 = 0.9*X_train_n2\n",
        "aug_x_train2 = normalize_tensor(aug_x_train2)\n",
        "aug_x_train3 = tf.image.flip_left_right(X_train_n2)\n",
        "aug_x_train3 = normalize_tensor(aug_x_train3)\n",
        "aug_x_train4 = X_train_n2\n",
        "aug_x_train4 = normalize_tensor(aug_x_train4)"
      ],
      "metadata": {
        "id": "KtMysyxMYWNO"
      },
      "execution_count": 8,
      "outputs": []
    },
    {
      "cell_type": "code",
      "source": [
        "X_train_aug = tf.concat([aug_x_train1,aug_x_train2,aug_x_train3,aug_x_train4],0)"
      ],
      "metadata": {
        "id": "6DDpadcBYWRh"
      },
      "execution_count": 9,
      "outputs": []
    },
    {
      "cell_type": "code",
      "source": [
        "X_train_aug.shape"
      ],
      "metadata": {
        "id": "WTu2bJcayWta",
        "colab": {
          "base_uri": "https://localhost:8080/"
        },
        "outputId": "6b8fbfd2-aa35-4d87-fb53-5da51b782d2a"
      },
      "execution_count": 10,
      "outputs": [
        {
          "output_type": "execute_result",
          "data": {
            "text/plain": [
              "TensorShape([180000, 32, 32, 3])"
            ]
          },
          "metadata": {},
          "execution_count": 10
        }
      ]
    },
    {
      "cell_type": "code",
      "source": [
        "Y_train_aug = tf.concat([Y_train,Y_train,Y_train,Y_train],0)"
      ],
      "metadata": {
        "id": "1TE5CVn0YWWJ"
      },
      "execution_count": 11,
      "outputs": []
    },
    {
      "cell_type": "code",
      "source": [
        "X_train_n1 = X_train_aug\n",
        "X_val_n1 = normalize_tensor(X_val)"
      ],
      "metadata": {
        "id": "VKcdUHV5YWar"
      },
      "execution_count": 12,
      "outputs": []
    },
    {
      "cell_type": "code",
      "source": [
        "model1 = tf.keras.Sequential()\n",
        "model1.add(Conv2D(10, (5, 5), strides=(1,1), activation='relu', input_shape=(32, 32, 3),kernel_initializer=he_initializer))\n",
        "model1.add(MaxPooling2D((2, 2),strides=(2,2)))\n",
        "model1.add(Conv2D(10, (5, 5), activation='relu',kernel_initializer=he_initializer))\n",
        "model1.add(MaxPooling2D((2, 2),strides=2))\n",
        "model1.add(Flatten())\n",
        "model1.add(Dense(units=20,activation='relu',kernel_initializer=he_initializer))\n",
        "model1.add(Dense(units=10,activation='softmax',kernel_initializer=he_initializer))"
      ],
      "metadata": {
        "id": "IC29qzSzYWfR"
      },
      "execution_count": 15,
      "outputs": []
    },
    {
      "cell_type": "code",
      "source": [
        "adam = tf.keras.optimizers.Adam(learning_rate=0.001)\n",
        "model1.compile(optimizer=adam,loss='sparse_categorical_crossentropy',metrics=['accuracy'])"
      ],
      "metadata": {
        "id": "yTixx6PKYWj2"
      },
      "execution_count": 16,
      "outputs": []
    },
    {
      "cell_type": "code",
      "source": [
        "r1 = model1.fit(X_train_n1, Y_train_aug, validation_data=(X_val_n1, Y_val), batch_size=512, epochs=150)"
      ],
      "metadata": {
        "id": "urGe6K0sYWoX",
        "colab": {
          "base_uri": "https://localhost:8080/"
        },
        "outputId": "6047a326-6e64-4432-c7dc-06b7b535255c"
      },
      "execution_count": 17,
      "outputs": [
        {
          "output_type": "stream",
          "name": "stdout",
          "text": [
            "Epoch 1/150\n",
            "352/352 [==============================] - 14s 14ms/step - loss: 1.7972 - accuracy: 0.3437 - val_loss: 1.4565 - val_accuracy: 0.4766\n",
            "Epoch 2/150\n",
            "352/352 [==============================] - 4s 13ms/step - loss: 1.3697 - accuracy: 0.5096 - val_loss: 1.3170 - val_accuracy: 0.5250\n",
            "Epoch 3/150\n",
            "352/352 [==============================] - 5s 13ms/step - loss: 1.2667 - accuracy: 0.5506 - val_loss: 1.2556 - val_accuracy: 0.5476\n",
            "Epoch 4/150\n",
            "352/352 [==============================] - 5s 14ms/step - loss: 1.2061 - accuracy: 0.5736 - val_loss: 1.2058 - val_accuracy: 0.5756\n",
            "Epoch 5/150\n",
            "352/352 [==============================] - 5s 14ms/step - loss: 1.1581 - accuracy: 0.5915 - val_loss: 1.1630 - val_accuracy: 0.5908\n",
            "Epoch 6/150\n",
            "352/352 [==============================] - 5s 14ms/step - loss: 1.1190 - accuracy: 0.6061 - val_loss: 1.1409 - val_accuracy: 0.5994\n",
            "Epoch 7/150\n",
            "352/352 [==============================] - 5s 14ms/step - loss: 1.0896 - accuracy: 0.6171 - val_loss: 1.1292 - val_accuracy: 0.5960\n",
            "Epoch 8/150\n",
            "352/352 [==============================] - 5s 14ms/step - loss: 1.0627 - accuracy: 0.6277 - val_loss: 1.0907 - val_accuracy: 0.6168\n",
            "Epoch 9/150\n",
            "352/352 [==============================] - 5s 14ms/step - loss: 1.0431 - accuracy: 0.6340 - val_loss: 1.0673 - val_accuracy: 0.6200\n",
            "Epoch 10/150\n",
            "352/352 [==============================] - 5s 13ms/step - loss: 1.0293 - accuracy: 0.6387 - val_loss: 1.0476 - val_accuracy: 0.6332\n",
            "Epoch 11/150\n",
            "352/352 [==============================] - 5s 13ms/step - loss: 1.0142 - accuracy: 0.6439 - val_loss: 1.0411 - val_accuracy: 0.6342\n",
            "Epoch 12/150\n",
            "352/352 [==============================] - 5s 13ms/step - loss: 0.9994 - accuracy: 0.6492 - val_loss: 1.0261 - val_accuracy: 0.6378\n",
            "Epoch 13/150\n",
            "352/352 [==============================] - 5s 13ms/step - loss: 0.9897 - accuracy: 0.6535 - val_loss: 1.0503 - val_accuracy: 0.6316\n",
            "Epoch 14/150\n",
            "352/352 [==============================] - 5s 14ms/step - loss: 0.9808 - accuracy: 0.6569 - val_loss: 1.0203 - val_accuracy: 0.6426\n",
            "Epoch 15/150\n",
            "352/352 [==============================] - 5s 13ms/step - loss: 0.9722 - accuracy: 0.6595 - val_loss: 1.0147 - val_accuracy: 0.6460\n",
            "Epoch 16/150\n",
            "352/352 [==============================] - 5s 14ms/step - loss: 0.9640 - accuracy: 0.6629 - val_loss: 1.0108 - val_accuracy: 0.6468\n",
            "Epoch 17/150\n",
            "352/352 [==============================] - 5s 14ms/step - loss: 0.9544 - accuracy: 0.6669 - val_loss: 1.0134 - val_accuracy: 0.6470\n",
            "Epoch 18/150\n",
            "352/352 [==============================] - 5s 14ms/step - loss: 0.9495 - accuracy: 0.6690 - val_loss: 0.9926 - val_accuracy: 0.6456\n",
            "Epoch 19/150\n",
            "352/352 [==============================] - 5s 14ms/step - loss: 0.9433 - accuracy: 0.6707 - val_loss: 0.9939 - val_accuracy: 0.6516\n",
            "Epoch 20/150\n",
            "352/352 [==============================] - 5s 14ms/step - loss: 0.9365 - accuracy: 0.6731 - val_loss: 0.9906 - val_accuracy: 0.6508\n",
            "Epoch 21/150\n",
            "352/352 [==============================] - 5s 14ms/step - loss: 0.9325 - accuracy: 0.6744 - val_loss: 0.9844 - val_accuracy: 0.6526\n",
            "Epoch 22/150\n",
            "352/352 [==============================] - 6s 18ms/step - loss: 0.9255 - accuracy: 0.6763 - val_loss: 1.0006 - val_accuracy: 0.6500\n",
            "Epoch 23/150\n",
            "352/352 [==============================] - 5s 15ms/step - loss: 0.9224 - accuracy: 0.6778 - val_loss: 0.9891 - val_accuracy: 0.6536\n",
            "Epoch 24/150\n",
            "352/352 [==============================] - 5s 14ms/step - loss: 0.9176 - accuracy: 0.6796 - val_loss: 0.9775 - val_accuracy: 0.6552\n",
            "Epoch 25/150\n",
            "352/352 [==============================] - 5s 14ms/step - loss: 0.9146 - accuracy: 0.6798 - val_loss: 0.9763 - val_accuracy: 0.6580\n",
            "Epoch 26/150\n",
            "352/352 [==============================] - 5s 14ms/step - loss: 0.9101 - accuracy: 0.6819 - val_loss: 0.9857 - val_accuracy: 0.6546\n",
            "Epoch 27/150\n",
            "352/352 [==============================] - 5s 14ms/step - loss: 0.9076 - accuracy: 0.6828 - val_loss: 0.9753 - val_accuracy: 0.6552\n",
            "Epoch 28/150\n",
            "352/352 [==============================] - 5s 14ms/step - loss: 0.9041 - accuracy: 0.6840 - val_loss: 0.9812 - val_accuracy: 0.6610\n",
            "Epoch 29/150\n",
            "352/352 [==============================] - 5s 14ms/step - loss: 0.9004 - accuracy: 0.6856 - val_loss: 0.9707 - val_accuracy: 0.6634\n",
            "Epoch 30/150\n",
            "352/352 [==============================] - 5s 14ms/step - loss: 0.8957 - accuracy: 0.6875 - val_loss: 0.9807 - val_accuracy: 0.6578\n",
            "Epoch 31/150\n",
            "352/352 [==============================] - 5s 14ms/step - loss: 0.8927 - accuracy: 0.6878 - val_loss: 0.9773 - val_accuracy: 0.6606\n",
            "Epoch 32/150\n",
            "352/352 [==============================] - 5s 14ms/step - loss: 0.8888 - accuracy: 0.6894 - val_loss: 0.9720 - val_accuracy: 0.6646\n",
            "Epoch 33/150\n",
            "352/352 [==============================] - 5s 14ms/step - loss: 0.8854 - accuracy: 0.6904 - val_loss: 0.9698 - val_accuracy: 0.6632\n",
            "Epoch 34/150\n",
            "352/352 [==============================] - 5s 14ms/step - loss: 0.8848 - accuracy: 0.6903 - val_loss: 0.9687 - val_accuracy: 0.6654\n",
            "Epoch 35/150\n",
            "352/352 [==============================] - 5s 14ms/step - loss: 0.8820 - accuracy: 0.6919 - val_loss: 0.9623 - val_accuracy: 0.6626\n",
            "Epoch 36/150\n",
            "352/352 [==============================] - 5s 14ms/step - loss: 0.8790 - accuracy: 0.6925 - val_loss: 0.9705 - val_accuracy: 0.6656\n",
            "Epoch 37/150\n",
            "352/352 [==============================] - 5s 14ms/step - loss: 0.8796 - accuracy: 0.6923 - val_loss: 0.9739 - val_accuracy: 0.6584\n",
            "Epoch 38/150\n",
            "352/352 [==============================] - 5s 14ms/step - loss: 0.8755 - accuracy: 0.6940 - val_loss: 0.9697 - val_accuracy: 0.6620\n",
            "Epoch 39/150\n",
            "352/352 [==============================] - 5s 14ms/step - loss: 0.8723 - accuracy: 0.6947 - val_loss: 0.9778 - val_accuracy: 0.6624\n",
            "Epoch 40/150\n",
            "352/352 [==============================] - 5s 14ms/step - loss: 0.8706 - accuracy: 0.6953 - val_loss: 0.9646 - val_accuracy: 0.6674\n",
            "Epoch 41/150\n",
            "352/352 [==============================] - 5s 14ms/step - loss: 0.8693 - accuracy: 0.6960 - val_loss: 0.9702 - val_accuracy: 0.6654\n",
            "Epoch 42/150\n",
            "352/352 [==============================] - 5s 14ms/step - loss: 0.8682 - accuracy: 0.6966 - val_loss: 0.9669 - val_accuracy: 0.6654\n",
            "Epoch 43/150\n",
            "352/352 [==============================] - 5s 14ms/step - loss: 0.8631 - accuracy: 0.6971 - val_loss: 0.9679 - val_accuracy: 0.6654\n",
            "Epoch 44/150\n",
            "352/352 [==============================] - 5s 14ms/step - loss: 0.8623 - accuracy: 0.6984 - val_loss: 0.9656 - val_accuracy: 0.6636\n",
            "Epoch 45/150\n",
            "352/352 [==============================] - 5s 14ms/step - loss: 0.8625 - accuracy: 0.6976 - val_loss: 0.9633 - val_accuracy: 0.6646\n",
            "Epoch 46/150\n",
            "352/352 [==============================] - 5s 14ms/step - loss: 0.8597 - accuracy: 0.6982 - val_loss: 0.9608 - val_accuracy: 0.6654\n",
            "Epoch 47/150\n",
            "352/352 [==============================] - 5s 13ms/step - loss: 0.8579 - accuracy: 0.6994 - val_loss: 0.9712 - val_accuracy: 0.6648\n",
            "Epoch 48/150\n",
            "352/352 [==============================] - 4s 12ms/step - loss: 0.8565 - accuracy: 0.6997 - val_loss: 0.9597 - val_accuracy: 0.6686\n",
            "Epoch 49/150\n",
            "352/352 [==============================] - 4s 12ms/step - loss: 0.8544 - accuracy: 0.7013 - val_loss: 0.9598 - val_accuracy: 0.6716\n",
            "Epoch 50/150\n",
            "352/352 [==============================] - 4s 12ms/step - loss: 0.8511 - accuracy: 0.7023 - val_loss: 0.9479 - val_accuracy: 0.6688\n",
            "Epoch 51/150\n",
            "352/352 [==============================] - 4s 11ms/step - loss: 0.8500 - accuracy: 0.7019 - val_loss: 0.9562 - val_accuracy: 0.6720\n",
            "Epoch 52/150\n",
            "352/352 [==============================] - 4s 13ms/step - loss: 0.8484 - accuracy: 0.7027 - val_loss: 0.9528 - val_accuracy: 0.6744\n",
            "Epoch 53/150\n",
            "352/352 [==============================] - 5s 14ms/step - loss: 0.8488 - accuracy: 0.7036 - val_loss: 0.9689 - val_accuracy: 0.6682\n",
            "Epoch 54/150\n",
            "352/352 [==============================] - 5s 14ms/step - loss: 0.8452 - accuracy: 0.7046 - val_loss: 0.9737 - val_accuracy: 0.6634\n",
            "Epoch 55/150\n",
            "352/352 [==============================] - 5s 14ms/step - loss: 0.8441 - accuracy: 0.7039 - val_loss: 0.9569 - val_accuracy: 0.6716\n",
            "Epoch 56/150\n",
            "352/352 [==============================] - 5s 13ms/step - loss: 0.8416 - accuracy: 0.7048 - val_loss: 0.9507 - val_accuracy: 0.6684\n",
            "Epoch 57/150\n",
            "352/352 [==============================] - 5s 14ms/step - loss: 0.8415 - accuracy: 0.7052 - val_loss: 0.9560 - val_accuracy: 0.6726\n",
            "Epoch 58/150\n",
            "352/352 [==============================] - 5s 14ms/step - loss: 0.8402 - accuracy: 0.7063 - val_loss: 0.9563 - val_accuracy: 0.6716\n",
            "Epoch 59/150\n",
            "352/352 [==============================] - 5s 13ms/step - loss: 0.8401 - accuracy: 0.7062 - val_loss: 0.9649 - val_accuracy: 0.6688\n",
            "Epoch 60/150\n",
            "352/352 [==============================] - 5s 13ms/step - loss: 0.8377 - accuracy: 0.7072 - val_loss: 0.9629 - val_accuracy: 0.6658\n",
            "Epoch 61/150\n",
            "352/352 [==============================] - 5s 14ms/step - loss: 0.8357 - accuracy: 0.7069 - val_loss: 0.9640 - val_accuracy: 0.6684\n",
            "Epoch 62/150\n",
            "352/352 [==============================] - 5s 14ms/step - loss: 0.8358 - accuracy: 0.7073 - val_loss: 0.9552 - val_accuracy: 0.6674\n",
            "Epoch 63/150\n",
            "352/352 [==============================] - 5s 14ms/step - loss: 0.8366 - accuracy: 0.7062 - val_loss: 0.9564 - val_accuracy: 0.6646\n",
            "Epoch 64/150\n",
            "352/352 [==============================] - 5s 14ms/step - loss: 0.8333 - accuracy: 0.7083 - val_loss: 0.9582 - val_accuracy: 0.6650\n",
            "Epoch 65/150\n",
            "352/352 [==============================] - 5s 14ms/step - loss: 0.8333 - accuracy: 0.7079 - val_loss: 0.9627 - val_accuracy: 0.6684\n",
            "Epoch 66/150\n",
            "352/352 [==============================] - 5s 14ms/step - loss: 0.8294 - accuracy: 0.7087 - val_loss: 0.9571 - val_accuracy: 0.6700\n",
            "Epoch 67/150\n",
            "352/352 [==============================] - 5s 16ms/step - loss: 0.8297 - accuracy: 0.7094 - val_loss: 0.9538 - val_accuracy: 0.6722\n",
            "Epoch 68/150\n",
            "352/352 [==============================] - 5s 15ms/step - loss: 0.8298 - accuracy: 0.7090 - val_loss: 0.9517 - val_accuracy: 0.6666\n",
            "Epoch 69/150\n",
            "352/352 [==============================] - 5s 14ms/step - loss: 0.8286 - accuracy: 0.7094 - val_loss: 0.9645 - val_accuracy: 0.6726\n",
            "Epoch 70/150\n",
            "352/352 [==============================] - 5s 14ms/step - loss: 0.8277 - accuracy: 0.7096 - val_loss: 0.9477 - val_accuracy: 0.6734\n",
            "Epoch 71/150\n",
            "352/352 [==============================] - 5s 14ms/step - loss: 0.8267 - accuracy: 0.7105 - val_loss: 0.9521 - val_accuracy: 0.6720\n",
            "Epoch 72/150\n",
            "352/352 [==============================] - 5s 14ms/step - loss: 0.8252 - accuracy: 0.7111 - val_loss: 0.9471 - val_accuracy: 0.6740\n",
            "Epoch 73/150\n",
            "352/352 [==============================] - 5s 14ms/step - loss: 0.8250 - accuracy: 0.7099 - val_loss: 0.9560 - val_accuracy: 0.6706\n",
            "Epoch 74/150\n",
            "352/352 [==============================] - 5s 14ms/step - loss: 0.8225 - accuracy: 0.7122 - val_loss: 0.9467 - val_accuracy: 0.6742\n",
            "Epoch 75/150\n",
            "352/352 [==============================] - 5s 14ms/step - loss: 0.8231 - accuracy: 0.7102 - val_loss: 0.9494 - val_accuracy: 0.6766\n",
            "Epoch 76/150\n",
            "352/352 [==============================] - 5s 14ms/step - loss: 0.8208 - accuracy: 0.7121 - val_loss: 0.9570 - val_accuracy: 0.6712\n",
            "Epoch 77/150\n",
            "352/352 [==============================] - 5s 14ms/step - loss: 0.8215 - accuracy: 0.7118 - val_loss: 0.9611 - val_accuracy: 0.6686\n",
            "Epoch 78/150\n",
            "352/352 [==============================] - 5s 14ms/step - loss: 0.8182 - accuracy: 0.7126 - val_loss: 0.9637 - val_accuracy: 0.6680\n",
            "Epoch 79/150\n",
            "352/352 [==============================] - 5s 14ms/step - loss: 0.8184 - accuracy: 0.7125 - val_loss: 0.9625 - val_accuracy: 0.6710\n",
            "Epoch 80/150\n",
            "352/352 [==============================] - 5s 14ms/step - loss: 0.8186 - accuracy: 0.7121 - val_loss: 0.9551 - val_accuracy: 0.6732\n",
            "Epoch 81/150\n",
            "352/352 [==============================] - 5s 15ms/step - loss: 0.8168 - accuracy: 0.7133 - val_loss: 0.9472 - val_accuracy: 0.6764\n",
            "Epoch 82/150\n",
            "352/352 [==============================] - 5s 14ms/step - loss: 0.8160 - accuracy: 0.7129 - val_loss: 0.9707 - val_accuracy: 0.6700\n",
            "Epoch 83/150\n",
            "352/352 [==============================] - 5s 14ms/step - loss: 0.8155 - accuracy: 0.7134 - val_loss: 0.9597 - val_accuracy: 0.6694\n",
            "Epoch 84/150\n",
            "352/352 [==============================] - 5s 14ms/step - loss: 0.8173 - accuracy: 0.7132 - val_loss: 0.9526 - val_accuracy: 0.6692\n",
            "Epoch 85/150\n",
            "352/352 [==============================] - 5s 14ms/step - loss: 0.8154 - accuracy: 0.7136 - val_loss: 0.9548 - val_accuracy: 0.6718\n",
            "Epoch 86/150\n",
            "352/352 [==============================] - 5s 13ms/step - loss: 0.8150 - accuracy: 0.7135 - val_loss: 0.9602 - val_accuracy: 0.6676\n",
            "Epoch 87/150\n",
            "352/352 [==============================] - 5s 13ms/step - loss: 0.8134 - accuracy: 0.7145 - val_loss: 0.9681 - val_accuracy: 0.6678\n",
            "Epoch 88/150\n",
            "352/352 [==============================] - 5s 13ms/step - loss: 0.8142 - accuracy: 0.7143 - val_loss: 0.9548 - val_accuracy: 0.6746\n",
            "Epoch 89/150\n",
            "352/352 [==============================] - 5s 13ms/step - loss: 0.8115 - accuracy: 0.7156 - val_loss: 0.9489 - val_accuracy: 0.6748\n",
            "Epoch 90/150\n",
            "352/352 [==============================] - 5s 13ms/step - loss: 0.8112 - accuracy: 0.7157 - val_loss: 0.9608 - val_accuracy: 0.6756\n",
            "Epoch 91/150\n",
            "352/352 [==============================] - 5s 13ms/step - loss: 0.8107 - accuracy: 0.7146 - val_loss: 0.9579 - val_accuracy: 0.6734\n",
            "Epoch 92/150\n",
            "352/352 [==============================] - 4s 12ms/step - loss: 0.8093 - accuracy: 0.7164 - val_loss: 0.9489 - val_accuracy: 0.6738\n",
            "Epoch 93/150\n",
            "352/352 [==============================] - 4s 12ms/step - loss: 0.8085 - accuracy: 0.7165 - val_loss: 0.9479 - val_accuracy: 0.6770\n",
            "Epoch 94/150\n",
            "352/352 [==============================] - 4s 13ms/step - loss: 0.8077 - accuracy: 0.7165 - val_loss: 0.9603 - val_accuracy: 0.6720\n",
            "Epoch 95/150\n",
            "352/352 [==============================] - 4s 12ms/step - loss: 0.8076 - accuracy: 0.7160 - val_loss: 0.9591 - val_accuracy: 0.6712\n",
            "Epoch 96/150\n",
            "352/352 [==============================] - 4s 12ms/step - loss: 0.8049 - accuracy: 0.7171 - val_loss: 0.9521 - val_accuracy: 0.6754\n",
            "Epoch 97/150\n",
            "352/352 [==============================] - 4s 13ms/step - loss: 0.8052 - accuracy: 0.7174 - val_loss: 0.9570 - val_accuracy: 0.6744\n",
            "Epoch 98/150\n",
            "352/352 [==============================] - 4s 12ms/step - loss: 0.8050 - accuracy: 0.7171 - val_loss: 0.9611 - val_accuracy: 0.6718\n",
            "Epoch 99/150\n",
            "352/352 [==============================] - 4s 12ms/step - loss: 0.8019 - accuracy: 0.7188 - val_loss: 0.9456 - val_accuracy: 0.6756\n",
            "Epoch 100/150\n",
            "352/352 [==============================] - 4s 12ms/step - loss: 0.8020 - accuracy: 0.7185 - val_loss: 0.9642 - val_accuracy: 0.6692\n",
            "Epoch 101/150\n",
            "352/352 [==============================] - 4s 12ms/step - loss: 0.8009 - accuracy: 0.7193 - val_loss: 0.9525 - val_accuracy: 0.6770\n",
            "Epoch 102/150\n",
            "352/352 [==============================] - 4s 12ms/step - loss: 0.8010 - accuracy: 0.7192 - val_loss: 0.9609 - val_accuracy: 0.6740\n",
            "Epoch 103/150\n",
            "352/352 [==============================] - 4s 12ms/step - loss: 0.8014 - accuracy: 0.7182 - val_loss: 0.9583 - val_accuracy: 0.6700\n",
            "Epoch 104/150\n",
            "352/352 [==============================] - 4s 12ms/step - loss: 0.7984 - accuracy: 0.7198 - val_loss: 0.9577 - val_accuracy: 0.6740\n",
            "Epoch 105/150\n",
            "352/352 [==============================] - 4s 12ms/step - loss: 0.7990 - accuracy: 0.7202 - val_loss: 0.9611 - val_accuracy: 0.6732\n",
            "Epoch 106/150\n",
            "352/352 [==============================] - 4s 12ms/step - loss: 0.7985 - accuracy: 0.7195 - val_loss: 0.9466 - val_accuracy: 0.6754\n",
            "Epoch 107/150\n",
            "352/352 [==============================] - 4s 12ms/step - loss: 0.7993 - accuracy: 0.7197 - val_loss: 0.9467 - val_accuracy: 0.6772\n",
            "Epoch 108/150\n",
            "352/352 [==============================] - 4s 12ms/step - loss: 0.7983 - accuracy: 0.7204 - val_loss: 0.9534 - val_accuracy: 0.6786\n",
            "Epoch 109/150\n",
            "352/352 [==============================] - 4s 12ms/step - loss: 0.7953 - accuracy: 0.7203 - val_loss: 0.9521 - val_accuracy: 0.6746\n",
            "Epoch 110/150\n",
            "352/352 [==============================] - 4s 12ms/step - loss: 0.7964 - accuracy: 0.7203 - val_loss: 0.9480 - val_accuracy: 0.6814\n",
            "Epoch 111/150\n",
            "352/352 [==============================] - 4s 11ms/step - loss: 0.7949 - accuracy: 0.7208 - val_loss: 0.9450 - val_accuracy: 0.6794\n",
            "Epoch 112/150\n",
            "352/352 [==============================] - 4s 12ms/step - loss: 0.7962 - accuracy: 0.7206 - val_loss: 0.9481 - val_accuracy: 0.6746\n",
            "Epoch 113/150\n",
            "352/352 [==============================] - 4s 12ms/step - loss: 0.7929 - accuracy: 0.7223 - val_loss: 0.9587 - val_accuracy: 0.6772\n",
            "Epoch 114/150\n",
            "352/352 [==============================] - 4s 12ms/step - loss: 0.7940 - accuracy: 0.7215 - val_loss: 0.9538 - val_accuracy: 0.6780\n",
            "Epoch 115/150\n",
            "352/352 [==============================] - 5s 13ms/step - loss: 0.7938 - accuracy: 0.7216 - val_loss: 0.9513 - val_accuracy: 0.6774\n",
            "Epoch 116/150\n",
            "352/352 [==============================] - 5s 14ms/step - loss: 0.7910 - accuracy: 0.7225 - val_loss: 0.9465 - val_accuracy: 0.6810\n",
            "Epoch 117/150\n",
            "352/352 [==============================] - 5s 14ms/step - loss: 0.7927 - accuracy: 0.7217 - val_loss: 0.9519 - val_accuracy: 0.6748\n",
            "Epoch 118/150\n",
            "352/352 [==============================] - 5s 13ms/step - loss: 0.7918 - accuracy: 0.7223 - val_loss: 0.9646 - val_accuracy: 0.6710\n",
            "Epoch 119/150\n",
            "352/352 [==============================] - 5s 13ms/step - loss: 0.7924 - accuracy: 0.7221 - val_loss: 0.9485 - val_accuracy: 0.6804\n",
            "Epoch 120/150\n",
            "352/352 [==============================] - 5s 13ms/step - loss: 0.7899 - accuracy: 0.7227 - val_loss: 0.9580 - val_accuracy: 0.6764\n",
            "Epoch 121/150\n",
            "352/352 [==============================] - 4s 12ms/step - loss: 0.7911 - accuracy: 0.7225 - val_loss: 0.9556 - val_accuracy: 0.6738\n",
            "Epoch 122/150\n",
            "352/352 [==============================] - 4s 12ms/step - loss: 0.7903 - accuracy: 0.7228 - val_loss: 0.9622 - val_accuracy: 0.6704\n",
            "Epoch 123/150\n",
            "352/352 [==============================] - 4s 12ms/step - loss: 0.7888 - accuracy: 0.7239 - val_loss: 0.9604 - val_accuracy: 0.6734\n",
            "Epoch 124/150\n",
            "352/352 [==============================] - 5s 13ms/step - loss: 0.7908 - accuracy: 0.7220 - val_loss: 0.9700 - val_accuracy: 0.6688\n",
            "Epoch 125/150\n",
            "352/352 [==============================] - 5s 13ms/step - loss: 0.7898 - accuracy: 0.7229 - val_loss: 0.9534 - val_accuracy: 0.6764\n",
            "Epoch 126/150\n",
            "352/352 [==============================] - 5s 13ms/step - loss: 0.7861 - accuracy: 0.7246 - val_loss: 0.9577 - val_accuracy: 0.6716\n",
            "Epoch 127/150\n",
            "352/352 [==============================] - 5s 13ms/step - loss: 0.7850 - accuracy: 0.7250 - val_loss: 0.9525 - val_accuracy: 0.6758\n",
            "Epoch 128/150\n",
            "352/352 [==============================] - 5s 13ms/step - loss: 0.7854 - accuracy: 0.7245 - val_loss: 0.9563 - val_accuracy: 0.6724\n",
            "Epoch 129/150\n",
            "352/352 [==============================] - 5s 14ms/step - loss: 0.7856 - accuracy: 0.7249 - val_loss: 0.9496 - val_accuracy: 0.6780\n",
            "Epoch 130/150\n",
            "352/352 [==============================] - 5s 15ms/step - loss: 0.7863 - accuracy: 0.7239 - val_loss: 0.9438 - val_accuracy: 0.6810\n",
            "Epoch 131/150\n",
            "352/352 [==============================] - 5s 14ms/step - loss: 0.7861 - accuracy: 0.7245 - val_loss: 0.9477 - val_accuracy: 0.6810\n",
            "Epoch 132/150\n",
            "352/352 [==============================] - 5s 14ms/step - loss: 0.7843 - accuracy: 0.7247 - val_loss: 0.9629 - val_accuracy: 0.6730\n",
            "Epoch 133/150\n",
            "352/352 [==============================] - 5s 14ms/step - loss: 0.7866 - accuracy: 0.7232 - val_loss: 0.9489 - val_accuracy: 0.6816\n",
            "Epoch 134/150\n",
            "352/352 [==============================] - 5s 14ms/step - loss: 0.7852 - accuracy: 0.7243 - val_loss: 0.9529 - val_accuracy: 0.6778\n",
            "Epoch 135/150\n",
            "352/352 [==============================] - 5s 14ms/step - loss: 0.7848 - accuracy: 0.7246 - val_loss: 0.9568 - val_accuracy: 0.6738\n",
            "Epoch 136/150\n",
            "352/352 [==============================] - 5s 14ms/step - loss: 0.7856 - accuracy: 0.7239 - val_loss: 0.9578 - val_accuracy: 0.6720\n",
            "Epoch 137/150\n",
            "352/352 [==============================] - 5s 13ms/step - loss: 0.7818 - accuracy: 0.7255 - val_loss: 0.9449 - val_accuracy: 0.6760\n",
            "Epoch 138/150\n",
            "352/352 [==============================] - 5s 14ms/step - loss: 0.7814 - accuracy: 0.7255 - val_loss: 0.9548 - val_accuracy: 0.6774\n",
            "Epoch 139/150\n",
            "352/352 [==============================] - 5s 14ms/step - loss: 0.7809 - accuracy: 0.7248 - val_loss: 0.9594 - val_accuracy: 0.6756\n",
            "Epoch 140/150\n",
            "352/352 [==============================] - 5s 14ms/step - loss: 0.7840 - accuracy: 0.7239 - val_loss: 0.9586 - val_accuracy: 0.6766\n",
            "Epoch 141/150\n",
            "352/352 [==============================] - 5s 14ms/step - loss: 0.7820 - accuracy: 0.7246 - val_loss: 0.9547 - val_accuracy: 0.6714\n",
            "Epoch 142/150\n",
            "352/352 [==============================] - 5s 14ms/step - loss: 0.7791 - accuracy: 0.7264 - val_loss: 0.9745 - val_accuracy: 0.6678\n",
            "Epoch 143/150\n",
            "352/352 [==============================] - 5s 14ms/step - loss: 0.7810 - accuracy: 0.7255 - val_loss: 0.9776 - val_accuracy: 0.6686\n",
            "Epoch 144/150\n",
            "352/352 [==============================] - 5s 14ms/step - loss: 0.7811 - accuracy: 0.7259 - val_loss: 0.9547 - val_accuracy: 0.6780\n",
            "Epoch 145/150\n",
            "352/352 [==============================] - 5s 14ms/step - loss: 0.7804 - accuracy: 0.7260 - val_loss: 0.9511 - val_accuracy: 0.6808\n",
            "Epoch 146/150\n",
            "352/352 [==============================] - 5s 15ms/step - loss: 0.7788 - accuracy: 0.7272 - val_loss: 0.9740 - val_accuracy: 0.6684\n",
            "Epoch 147/150\n",
            "352/352 [==============================] - 5s 14ms/step - loss: 0.7793 - accuracy: 0.7265 - val_loss: 0.9574 - val_accuracy: 0.6758\n",
            "Epoch 148/150\n",
            "352/352 [==============================] - 5s 14ms/step - loss: 0.7783 - accuracy: 0.7270 - val_loss: 0.9584 - val_accuracy: 0.6804\n",
            "Epoch 149/150\n",
            "352/352 [==============================] - 5s 14ms/step - loss: 0.7790 - accuracy: 0.7265 - val_loss: 0.9607 - val_accuracy: 0.6726\n",
            "Epoch 150/150\n",
            "352/352 [==============================] - 5s 14ms/step - loss: 0.7785 - accuracy: 0.7268 - val_loss: 0.9547 - val_accuracy: 0.6726\n"
          ]
        }
      ]
    },
    {
      "cell_type": "code",
      "source": [
        "val_acc1 = r.history['val_accuracy']\n",
        "val_acc2 = r1.history['val_accuracy']"
      ],
      "metadata": {
        "id": "tiyaXw0qYWsj"
      },
      "execution_count": 22,
      "outputs": []
    },
    {
      "cell_type": "code",
      "source": [
        "epochs = range(1, 151)\n",
        "\n",
        "plt.figure()\n",
        "plt.plot(epochs, val_acc1, 'bo', label='Validation accuracy for Normal Data')\n",
        "plt.plot(epochs, val_acc2, 'b', label='Validation accuracy for Augmented Data')\n",
        "plt.title('Validation accuracy for both Normal and Augmented Dataset')\n",
        "plt.legend()\n",
        "\n",
        "plt.show()"
      ],
      "metadata": {
        "id": "2Ei36wU-YWxE",
        "colab": {
          "base_uri": "https://localhost:8080/",
          "height": 281
        },
        "outputId": "21824fb5-6cf0-4c69-c3e7-7c1323b54da5"
      },
      "execution_count": 24,
      "outputs": [
        {
          "output_type": "display_data",
          "data": {
            "text/plain": [
              "<Figure size 432x288 with 1 Axes>"
            ],
            "image/png": "[encoded data removed]"
          },
          "metadata": {
            "needs_background": "light"
          }
        }
      ]
    },
    {
      "cell_type": "markdown",
      "source": [
        "Q2: Self-Supervised Learning via Pretext Tasks "
      ],
      "metadata": {
        "id": "Lo-JSUqhyixs"
      }
    },
    {
      "cell_type": "code",
      "source": [
        "cifar10 = tf.keras.datasets.cifar10"
      ],
      "metadata": {
        "id": "68LRZcGUYW1i"
      },
      "execution_count": 2,
      "outputs": []
    },
    {
      "cell_type": "code",
      "source": [
        "(x_train, y_train), (x_test, y_test) = cifar10.load_data()"
      ],
      "metadata": {
        "id": "19rVPsDqYW6G",
        "colab": {
          "base_uri": "https://localhost:8080/"
        },
        "outputId": "2bfd0ba8-a69f-46b7-e484-1e90073440ae"
      },
      "execution_count": 3,
      "outputs": [
        {
          "output_type": "stream",
          "name": "stdout",
          "text": [
            "Downloading data from https://www.cs.toronto.edu/~kriz/cifar-10-python.tar.gz\n",
            "170498071/170498071 [==============================] - 13s 0us/step\n"
          ]
        }
      ]
    },
    {
      "cell_type": "code",
      "source": [
        "labelled_X_train,unlabelled_X_train = x_train[49500:50000],x_train[0:49500]"
      ],
      "metadata": {
        "id": "GyVw9cRyYW-Z"
      },
      "execution_count": 8,
      "outputs": []
    },
    {
      "cell_type": "code",
      "source": [
        "print(labelled_X_train.shape)\n",
        "print(unlabelled_X_train.shape)"
      ],
      "metadata": {
        "id": "Mk7FRyMsYXDA",
        "colab": {
          "base_uri": "https://localhost:8080/"
        },
        "outputId": "e63a9636-ed28-43d7-e428-cdcfc743a91e"
      },
      "execution_count": 9,
      "outputs": [
        {
          "output_type": "stream",
          "name": "stdout",
          "text": [
            "(500, 32, 32, 3)\n",
            "(49500, 32, 32, 3)\n"
          ]
        }
      ]
    },
    {
      "cell_type": "code",
      "source": [
        "print(y_train[0:49500].shape)"
      ],
      "metadata": {
        "colab": {
          "base_uri": "https://localhost:8080/"
        },
        "id": "hbhZisPsALhS",
        "outputId": "7634de04-4bca-4f92-9b4f-43bc98a54808"
      },
      "execution_count": 12,
      "outputs": [
        {
          "output_type": "stream",
          "name": "stdout",
          "text": [
            "(49500, 1)\n"
          ]
        }
      ]
    },
    {
      "cell_type": "code",
      "source": [
        "Y_train0 = tf.zeros(shape = y_train[0:49500].shape,dtype=tf.int32)"
      ],
      "metadata": {
        "id": "BzToqawe_3Jg"
      },
      "execution_count": 15,
      "outputs": []
    },
    {
      "cell_type": "code",
      "source": [
        "X_train_upside_down = tf.image.flip_up_down(unlabelled_X_train)\n",
        "Y_train1 = tf.ones(shape=y_train[0:49500].shape,dtype=tf.int32)\n",
        "X_train_rotated_ccwise = tf.image.rot90(unlabelled_X_train)\n",
        "Y_train2 = 2*tf.ones(shape=y_train[0:49500].shape,dtype=tf.int32)"
      ],
      "metadata": {
        "id": "CIAv03T4YXHH"
      },
      "execution_count": 16,
      "outputs": []
    },
    {
      "cell_type": "code",
      "source": [
        "X_train_aug = tf.concat([unlabelled_X_train,X_train_upside_down,X_train_rotated_ccwise],0)\n",
        "Y_train_aug = tf.concat([Y_train0,Y_train1,Y_train2],0)"
      ],
      "metadata": {
        "id": "wzBXU_PZYXLh"
      },
      "execution_count": 19,
      "outputs": []
    },
    {
      "cell_type": "code",
      "source": [
        "Y_train_aug.shape"
      ],
      "metadata": {
        "id": "AiyzDUqEYXPr",
        "colab": {
          "base_uri": "https://localhost:8080/"
        },
        "outputId": "bf3529cb-43ea-4152-95b5-0adddd303f48"
      },
      "execution_count": 21,
      "outputs": [
        {
          "output_type": "execute_result",
          "data": {
            "text/plain": [
              "TensorShape([148500, 1])"
            ]
          },
          "metadata": {},
          "execution_count": 21
        }
      ]
    },
    {
      "cell_type": "code",
      "source": [
        "def create_model():\n",
        "    model = tf.keras.Sequential()\n",
        "    model.add(Conv2D(10, (5, 5), strides=(1,1), activation='relu', input_shape=(32, 32, 3),kernel_initializer=he_initializer))\n",
        "    model.add(MaxPooling2D((2, 2),strides=(2,2)))\n",
        "    model.add(Conv2D(10, (5, 5), activation='relu',kernel_initializer=he_initializer))\n",
        "    model.add(MaxPooling2D((2, 2),strides=2))\n",
        "    model.add(Flatten())\n",
        "    model.add(Dense(units=20,activation='relu',kernel_initializer=he_initializer))\n",
        "    model.add(Dense(units=10,activation='softmax',kernel_initializer=he_initializer))\n",
        "    return model"
      ],
      "metadata": {
        "id": "cxqBrVFCYXT6"
      },
      "execution_count": null,
      "outputs": []
    },
    {
      "cell_type": "code",
      "source": [
        "model = create_model()\n",
        "model.compile(optimizer='adam',\n",
        "                loss=tf.keras.losses.SparseCategoricalCrossentropy(from_logits=True),\n",
        "                metrics=[tf.keras.metrics.SparseCategoricalAccuracy()])"
      ],
      "metadata": {
        "id": "1wVwUzpzYXX4"
      },
      "execution_count": null,
      "outputs": []
    },
    {
      "cell_type": "code",
      "source": [
        "checkpoint_path = \"training_2/cp-{epoch:04d}.ckpt\"\n",
        "checkpoint_dir = os.path.dirname(checkpoint_path)"
      ],
      "metadata": {
        "id": "gpY5sX1LYXcB"
      },
      "execution_count": null,
      "outputs": []
    },
    {
      "cell_type": "code",
      "source": [
        "batch_size = 512\n",
        "# Create a callback that saves the model's weights\n",
        "cp_callback = tf.keras.callbacks.ModelCheckpoint(filepath=checkpoint_path,\n",
        "                                                 save_weights_only=True,\n",
        "                                                 save_freq=50*batch_size,\n",
        "                                                 verbose=1)"
      ],
      "metadata": {
        "id": "MbUwR2h0YXgO"
      },
      "execution_count": null,
      "outputs": []
    },
    {
      "cell_type": "code",
      "source": [
        "model.fit(X_train_aug, \n",
        "          Y_train_aug,  \n",
        "          epochs=100,\n",
        "          batch_size=batch_size,\n",
        "          callbacks=[cp_callback])"
      ],
      "metadata": {
        "id": "vEiJPsofy20P"
      },
      "execution_count": null,
      "outputs": []
    },
    {
      "cell_type": "code",
      "source": [
        "os.listdir(checkpoint_dir)"
      ],
      "metadata": {
        "id": "RNb7pr19y266"
      },
      "execution_count": null,
      "outputs": []
    },
    {
      "cell_type": "code",
      "source": [
        "latest = tf.train.latest_checkpoint(checkpoint_dir)\n",
        "latest"
      ],
      "metadata": {
        "id": "sR0MTAWay3BL"
      },
      "execution_count": null,
      "outputs": []
    },
    {
      "cell_type": "code",
      "source": [
        "# Create a new model instance\n",
        "model = create_model()\n",
        "\n",
        "# Load the previously saved weights\n",
        "model.load_weights(latest)\n",
        "\n",
        "# Re-evaluate the model\n",
        "# loss, acc = model.evaluate(test_images, test_labels, verbose=2)"
      ],
      "metadata": {
        "id": "tloxqvUfy3G-"
      },
      "execution_count": null,
      "outputs": []
    },
    {
      "cell_type": "code",
      "source": [],
      "metadata": {
        "id": "PqpxuzY6y3My"
      },
      "execution_count": null,
      "outputs": []
    },
    {
      "cell_type": "code",
      "source": [],
      "metadata": {
        "id": "KPeBlEray3Rn"
      },
      "execution_count": null,
      "outputs": []
    },
    {
      "cell_type": "code",
      "source": [],
      "metadata": {
        "id": "_0YrfgM3y3Wb"
      },
      "execution_count": null,
      "outputs": []
    },
    {
      "cell_type": "code",
      "source": [],
      "metadata": {
        "id": "6T6AAeCby3bd"
      },
      "execution_count": null,
      "outputs": []
    },
    {
      "cell_type": "code",
      "source": [],
      "metadata": {
        "id": "dm6Z7rIgy3hu"
      },
      "execution_count": null,
      "outputs": []
    },
    {
      "cell_type": "markdown",
      "source": [
        "Q3: Speech Denoising Using RNN"
      ],
      "metadata": {
        "id": "rxt4OqKey4hT"
      }
    },
    {
      "cell_type": "code",
      "source": [
        "# !unzip '/content/drive/MyDrive/DLS_DATA/homework3.zip' -d '/content/drive/MyDrive/DLS_DATA/timit-hw3'"
      ],
      "metadata": {
        "id": "fe8b-HYUFT3K"
      },
      "execution_count": null,
      "outputs": []
    },
    {
      "cell_type": "code",
      "source": [
        "path = '/content/drive/MyDrive/DLS_DATA/timit-hw3/timit-homework/tr'\n",
        "\n",
        "X = []\n",
        "S = []\n",
        "N = []\n",
        "\n",
        "for f in os.listdir(path):\n",
        "    if(os.path.isfile(os.path.join(path,f))):\n",
        "        if(f[:3]=='trn'):\n",
        "          s, sr = librosa.load(os.path.join(path,f),sr=None)\n",
        "          trn_stft=librosa.stft(s, n_fft=1024, hop_length=512)\n",
        "          N.append(abs(trn_stft))\n",
        "        elif(f[:3]=='trs'):\n",
        "          s, sr = librosa.load(os.path.join(path,f),sr=None)\n",
        "          trs_stft=librosa.stft(s, n_fft=1024, hop_length=512)\n",
        "          S.append(abs(trs_stft))\n",
        "        else:\n",
        "          s, sr = librosa.load(os.path.join(path,f),sr=None)\n",
        "          trx_stft=librosa.stft(s, n_fft=1024, hop_length=512)\n",
        "          X.append(abs(trx_stft))"
      ],
      "metadata": {
        "id": "8_-XlVP2FTqb"
      },
      "execution_count": null,
      "outputs": []
    },
    {
      "cell_type": "code",
      "source": [
        "print(N[-1].shape)\n",
        "print(S[-1].shape)\n",
        "print(X[-1].shape)"
      ],
      "metadata": {
        "id": "UTtHHE4xFRm_"
      },
      "execution_count": null,
      "outputs": []
    },
    {
      "cell_type": "code",
      "source": [
        "max_len = X[0].shape[1]\n",
        "for k in range(1,len(X)):\n",
        "    if(X[k].shape[1]>max_len):\n",
        "        max_len = X[k].shape[1]\n",
        "print(max_len)"
      ],
      "metadata": {
        "id": "_D3FWTq7Serl"
      },
      "execution_count": null,
      "outputs": []
    },
    {
      "cell_type": "code",
      "source": [
        "M_arr = []\n",
        "for i in range(len(N)):\n",
        "    # print(\"Before:\",S[i].shape,N[i].shape)\n",
        "    if(S[i].shape[1]<N[i].shape[1]):\n",
        "        S[i] = np.pad(S[i],((0,0),(0,N[i].shape[1]-S[i].shape[1])),mode='constant')\n",
        "    elif(S[i].shape[1]>N[i].shape[1]):\n",
        "        N[i] = np.pad(N[i],((0,0),(0,S[i].shape[1]-N[i].shape[1])),mode='constant')\n",
        "    # print(\"After:\",S[i].shape,N[i].shape)\n",
        "    M = np.where((S[i]>N[i]),1,0)\n",
        "    M_arr.append(M)"
      ],
      "metadata": {
        "id": "1RFGLGOoFRdA"
      },
      "execution_count": null,
      "outputs": []
    },
    {
      "cell_type": "code",
      "source": [
        "for i in range(len(X)):\n",
        "    X[i] = np.pad(X[i],((0,0),(0,max_len-X[i].shape[1])),mode='constant')\n",
        "    X[i] = X[i].T\n",
        "    M_arr[i] = np.pad(M_arr[i],((0,0),(0,max_len-M_arr[i].shape[1])),mode='constant')\n",
        "    M_arr[i] = M_arr[i].T"
      ],
      "metadata": {
        "id": "FZfEqvIZNnJ3"
      },
      "execution_count": null,
      "outputs": []
    },
    {
      "cell_type": "code",
      "source": [
        "print(M_arr[0].shape)\n",
        "print(M_arr[1].shape)\n",
        "print(M_arr[2].shape)\n",
        "print(M_arr[3].shape)"
      ],
      "metadata": {
        "id": "ZnPUDEcgFCgh"
      },
      "execution_count": null,
      "outputs": []
    },
    {
      "cell_type": "code",
      "source": [
        "X = np.dstack(X)\n",
        "X = np.rollaxis(X,-1)\n",
        "M_arr = np.dstack(M_arr)\n",
        "M_arr = np.rollaxis(M_arr,-1)\n",
        "print(X.shape)\n",
        "print(M_arr.shape)"
      ],
      "metadata": {
        "id": "HFeL3bVfNcHB"
      },
      "execution_count": null,
      "outputs": []
    },
    {
      "cell_type": "code",
      "source": [
        "X = tf.convert_to_tensor(X, dtype=tf.float32)\n",
        "M_arr = tf.convert_to_tensor(M_arr, dtype=tf.float32)\n",
        "print(X.shape)\n",
        "print(M_arr.shape)"
      ],
      "metadata": {
        "id": "Bn97jYsoLkQq"
      },
      "execution_count": null,
      "outputs": []
    },
    {
      "cell_type": "code",
      "source": [
        "model = tf.keras.Sequential()\n",
        "model.add(tf.keras.Input(shape=(max_len,513),batch_size=10))\n",
        "model.add(tf.keras.layers.GRU(513, return_sequences=True, input_shape =(max_len,513), dropout=0.3))\n",
        "model.add(tf.keras.layers.GRU(513, return_sequences=True, dropout=0.3))\n",
        "model.add(Dropout(0.3))\n",
        "model.add(Dense(units=1024,activation='relu'))\n",
        "model.add(Dropout(0.3))\n",
        "model.add(Dense(units=513,activation='relu'))\n",
        "model.compile(optimizer='adam',loss = 'mean_squared_error')"
      ],
      "metadata": {
        "id": "qJhf4v7OFCpD"
      },
      "execution_count": null,
      "outputs": []
    },
    {
      "cell_type": "code",
      "source": [
        "model.summary()"
      ],
      "metadata": {
        "id": "aMfguG3GKwkp"
      },
      "execution_count": null,
      "outputs": []
    },
    {
      "cell_type": "code",
      "source": [
        "model.fit(X,M_arr,batch_size=10,epochs=100)"
      ],
      "metadata": {
        "id": "7Em4vMJBFCvu"
      },
      "execution_count": null,
      "outputs": []
    },
    {
      "cell_type": "code",
      "source": [],
      "metadata": {
        "id": "edzc3tnyFC1N"
      },
      "execution_count": null,
      "outputs": []
    },
    {
      "cell_type": "code",
      "source": [],
      "metadata": {
        "id": "YPWs5deCFC6p"
      },
      "execution_count": null,
      "outputs": []
    },
    {
      "cell_type": "code",
      "source": [],
      "metadata": {
        "id": "9_OM_L7zFDC-"
      },
      "execution_count": null,
      "outputs": []
    },
    {
      "cell_type": "code",
      "source": [],
      "metadata": {
        "id": "KS0yNnFmFDHg"
      },
      "execution_count": null,
      "outputs": []
    },
    {
      "cell_type": "code",
      "source": [],
      "metadata": {
        "id": "tczbMRTQFDMH"
      },
      "execution_count": null,
      "outputs": []
    },
    {
      "cell_type": "code",
      "source": [],
      "metadata": {
        "id": "pLgkT4P6FDQc"
      },
      "execution_count": null,
      "outputs": []
    },
    {
      "cell_type": "code",
      "source": [],
      "metadata": {
        "id": "EA-3W0f-FG7E"
      },
      "execution_count": null,
      "outputs": []
    },
    {
      "cell_type": "code",
      "source": [],
      "metadata": {
        "id": "yiNmdelAFHAW"
      },
      "execution_count": null,
      "outputs": []
    },
    {
      "cell_type": "code",
      "source": [],
      "metadata": {
        "id": "wsn7ya0qFHEP"
      },
      "execution_count": null,
      "outputs": []
    },
    {
      "cell_type": "code",
      "source": [],
      "metadata": {
        "id": "eIC58pqjFHIL"
      },
      "execution_count": null,
      "outputs": []
    },
    {
      "cell_type": "code",
      "source": [],
      "metadata": {
        "id": "9UFKbulEFHL8"
      },
      "execution_count": null,
      "outputs": []
    },
    {
      "cell_type": "code",
      "source": [],
      "metadata": {
        "id": "L-qVH74xFHQG"
      },
      "execution_count": null,
      "outputs": []
    },
    {
      "cell_type": "code",
      "source": [],
      "metadata": {
        "id": "vm9fvMymFHTw"
      },
      "execution_count": null,
      "outputs": []
    },
    {
      "cell_type": "code",
      "source": [],
      "metadata": {
        "id": "W6zSsETtFHXs"
      },
      "execution_count": null,
      "outputs": []
    },
    {
      "cell_type": "code",
      "source": [],
      "metadata": {
        "id": "99Ypd8YYFHb-"
      },
      "execution_count": null,
      "outputs": []
    },
    {
      "cell_type": "code",
      "source": [],
      "metadata": {
        "id": "5TyGLNpHFHfp"
      },
      "execution_count": null,
      "outputs": []
    },
    {
      "cell_type": "code",
      "source": [],
      "metadata": {
        "id": "sQH7GLAIFHjj"
      },
      "execution_count": null,
      "outputs": []
    },
    {
      "cell_type": "code",
      "source": [],
      "metadata": {
        "id": "YVFFjCfUFHnr"
      },
      "execution_count": null,
      "outputs": []
    },
    {
      "cell_type": "code",
      "source": [],
      "metadata": {
        "id": "96J55uoiFHrw"
      },
      "execution_count": null,
      "outputs": []
    },
    {
      "cell_type": "code",
      "source": [],
      "metadata": {
        "id": "YhOfhcWlFHv0"
      },
      "execution_count": null,
      "outputs": []
    },
    {
      "cell_type": "code",
      "source": [],
      "metadata": {
        "id": "_BuKSPlWFH0M"
      },
      "execution_count": null,
      "outputs": []
    },
    {
      "cell_type": "code",
      "source": [],
      "metadata": {
        "id": "Iey9YMSjFH39"
      },
      "execution_count": null,
      "outputs": []
    },
    {
      "cell_type": "code",
      "source": [],
      "metadata": {
        "id": "xYn1dYH9FH8a"
      },
      "execution_count": null,
      "outputs": []
    },
    {
      "cell_type": "code",
      "source": [],
      "metadata": {
        "id": "57nPZtRNFIAB"
      },
      "execution_count": null,
      "outputs": []
    },
    {
      "cell_type": "code",
      "source": [],
      "metadata": {
        "id": "AbxRX_l4FIDi"
      },
      "execution_count": null,
      "outputs": []
    },
    {
      "cell_type": "code",
      "source": [],
      "metadata": {
        "id": "s7YeRbddFIHN"
      },
      "execution_count": null,
      "outputs": []
    },
    {
      "cell_type": "code",
      "source": [],
      "metadata": {
        "id": "7E5CZlXVFILS"
      },
      "execution_count": null,
      "outputs": []
    },
    {
      "cell_type": "code",
      "source": [],
      "metadata": {
        "id": "Nm8FpT-4FIO1"
      },
      "execution_count": null,
      "outputs": []
    },
    {
      "cell_type": "code",
      "source": [],
      "metadata": {
        "id": "njmZj_MIFITW"
      },
      "execution_count": null,
      "outputs": []
    },
    {
      "cell_type": "code",
      "source": [],
      "metadata": {
        "id": "YqOjAGNiFIXR"
      },
      "execution_count": null,
      "outputs": []
    },
    {
      "cell_type": "code",
      "source": [],
      "metadata": {
        "id": "3Ue61RgCFIbJ"
      },
      "execution_count": null,
      "outputs": []
    },
    {
      "cell_type": "code",
      "source": [],
      "metadata": {
        "id": "03RdePq_FIew"
      },
      "execution_count": null,
      "outputs": []
    },
    {
      "cell_type": "code",
      "source": [],
      "metadata": {
        "id": "c95_wjMAFIig"
      },
      "execution_count": null,
      "outputs": []
    },
    {
      "cell_type": "code",
      "source": [],
      "metadata": {
        "id": "wMiIkZbRFImH"
      },
      "execution_count": null,
      "outputs": []
    }
  ]
}