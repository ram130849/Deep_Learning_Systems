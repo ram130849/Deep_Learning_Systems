{
  "nbformat": 4,
  "nbformat_minor": 0,
  "metadata": {
    "colab": {
      "provenance": [],
      "collapsed_sections": [],
      "authorship_tag": "ABX9TyP01pFMfIKgeTF+d4R6fbiL",
      "include_colab_link": true
    },
    "kernelspec": {
      "name": "python3",
      "display_name": "Python 3"
    },
    "language_info": {
      "name": "python"
    },
    "accelerator": "GPU",
    "gpuClass": "standard"
  },
  "cells": [
    {
      "cell_type": "markdown",
      "metadata": {
        "id": "view-in-github",
        "colab_type": "text"
      },
      "source": [
        "<a href=\"https://colab.research.google.com/github/ram130849/Deep_Learning_Systems_Assignments/blob/main/TensorFlow/Ramki/E533_DLS_Assignment4.ipynb\" target=\"_parent\"><img src=\"https://colab.research.google.com/assets/colab-badge.svg\" alt=\"Open In Colab\"/></a>"
      ]
    },
    {
      "cell_type": "markdown",
      "source": [
        "P1: Network Compression Using SVD"
      ],
      "metadata": {
        "id": "anAvRC9wGvdw"
      }
    },
    {
      "cell_type": "code",
      "source": [
        "from google.colab import drive\n",
        "drive.mount('/content/drive')"
      ],
      "metadata": {
        "colab": {
          "base_uri": "https://localhost:8080/"
        },
        "id": "bkMCPD7-IjI2",
        "outputId": "7f77b0e1-fdfa-4b2c-f3c5-4a12b83a7e4a"
      },
      "execution_count": 1,
      "outputs": [
        {
          "output_type": "stream",
          "name": "stdout",
          "text": [
            "Mounted at /content/drive\n"
          ]
        }
      ]
    },
    {
      "cell_type": "code",
      "source": [
        "import tensorflow as tf\n",
        "import pandas as pd\n",
        "import numpy as np\n",
        "import matplotlib.pyplot as plt\n",
        "import seaborn as sns\n",
        "from sklearn.metrics import confusion_matrix"
      ],
      "metadata": {
        "id": "Ox8FHaGAGPXK"
      },
      "execution_count": 2,
      "outputs": []
    },
    {
      "cell_type": "code",
      "source": [
        "mnist = tf.keras.datasets.mnist"
      ],
      "metadata": {
        "id": "pGhbe_2UGQus"
      },
      "execution_count": 3,
      "outputs": []
    },
    {
      "cell_type": "code",
      "source": [
        "(x_train, y_train), (x_test, y_test) = mnist.load_data()"
      ],
      "metadata": {
        "colab": {
          "base_uri": "https://localhost:8080/"
        },
        "id": "7uQeEuSuGQ-y",
        "outputId": "e35a9d85-0ef3-44da-d074-b17cc0570ad5"
      },
      "execution_count": 4,
      "outputs": [
        {
          "output_type": "stream",
          "name": "stdout",
          "text": [
            "Downloading data from https://storage.googleapis.com/tensorflow/tf-keras-datasets/mnist.npz\n",
            "11490434/11490434 [==============================] - 0s 0us/step\n"
          ]
        }
      ]
    },
    {
      "cell_type": "code",
      "source": [
        "x_train = x_train.astype('float32')\n",
        "x_test = x_test.astype('float32')\n",
        "x_train/=255\n",
        "x_test/=255"
      ],
      "metadata": {
        "id": "RziXk7wIGRDE"
      },
      "execution_count": 5,
      "outputs": []
    },
    {
      "cell_type": "code",
      "source": [
        "model = tf.keras.models.Sequential([\n",
        "  tf.keras.layers.Flatten(input_shape=(28, 28)),\n",
        "  tf.keras.layers.Dense(1024, activation='relu'),\n",
        "  tf.keras.layers.Dense(1024,activation='relu'),\n",
        "  tf.keras.layers.Dense(1024,activation='relu'),\n",
        "  tf.keras.layers.Dense(1024,activation='relu'),\n",
        "  tf.keras.layers.Dense(1024,activation='relu'),\n",
        "  tf.keras.layers.Dense(10)\n",
        "])"
      ],
      "metadata": {
        "id": "OIKsnTMgGRFj"
      },
      "execution_count": 6,
      "outputs": []
    },
    {
      "cell_type": "code",
      "source": [
        "print(model.summary())"
      ],
      "metadata": {
        "colab": {
          "base_uri": "https://localhost:8080/"
        },
        "id": "MQLvn6FsGRIv",
        "outputId": "1093652b-cc27-4505-f675-1a359864193d"
      },
      "execution_count": 7,
      "outputs": [
        {
          "output_type": "stream",
          "name": "stdout",
          "text": [
            "Model: \"sequential\"\n",
            "_________________________________________________________________\n",
            " Layer (type)                Output Shape              Param #   \n",
            "=================================================================\n",
            " flatten (Flatten)           (None, 784)               0         \n",
            "                                                                 \n",
            " dense (Dense)               (None, 1024)              803840    \n",
            "                                                                 \n",
            " dense_1 (Dense)             (None, 1024)              1049600   \n",
            "                                                                 \n",
            " dense_2 (Dense)             (None, 1024)              1049600   \n",
            "                                                                 \n",
            " dense_3 (Dense)             (None, 1024)              1049600   \n",
            "                                                                 \n",
            " dense_4 (Dense)             (None, 1024)              1049600   \n",
            "                                                                 \n",
            " dense_5 (Dense)             (None, 10)                10250     \n",
            "                                                                 \n",
            "=================================================================\n",
            "Total params: 5,012,490\n",
            "Trainable params: 5,012,490\n",
            "Non-trainable params: 0\n",
            "_________________________________________________________________\n",
            "None\n"
          ]
        }
      ]
    },
    {
      "cell_type": "code",
      "source": [
        "model.compile(optimizer=\"adam\", loss=tf.keras.losses.SparseCategoricalCrossentropy(from_logits=True), metrics=\"acc\")"
      ],
      "metadata": {
        "id": "RmiKMBwoGRNU"
      },
      "execution_count": 8,
      "outputs": []
    },
    {
      "cell_type": "code",
      "source": [
        "history = model.fit(\n",
        "    x_train,\n",
        "    y_train,\n",
        "    epochs=30,\n",
        "    batch_size=128)"
      ],
      "metadata": {
        "colab": {
          "base_uri": "https://localhost:8080/"
        },
        "id": "r3fJSNnHGRP0",
        "outputId": "59f3db06-74a7-4543-d2a6-fd3aac87853e"
      },
      "execution_count": 9,
      "outputs": [
        {
          "output_type": "stream",
          "name": "stdout",
          "text": [
            "Epoch 1/30\n",
            "469/469 [==============================] - 4s 4ms/step - loss: 0.2303 - acc: 0.9318\n",
            "Epoch 2/30\n",
            "469/469 [==============================] - 2s 4ms/step - loss: 0.1046 - acc: 0.9705\n",
            "Epoch 3/30\n",
            "469/469 [==============================] - 2s 4ms/step - loss: 0.0695 - acc: 0.9803\n",
            "Epoch 4/30\n",
            "469/469 [==============================] - 2s 4ms/step - loss: 0.0578 - acc: 0.9839\n",
            "Epoch 5/30\n",
            "469/469 [==============================] - 2s 5ms/step - loss: 0.0516 - acc: 0.9851\n",
            "Epoch 6/30\n",
            "469/469 [==============================] - 2s 5ms/step - loss: 0.0398 - acc: 0.9886\n",
            "Epoch 7/30\n",
            "469/469 [==============================] - 2s 4ms/step - loss: 0.0348 - acc: 0.9905\n",
            "Epoch 8/30\n",
            "469/469 [==============================] - 2s 4ms/step - loss: 0.0335 - acc: 0.9912\n",
            "Epoch 9/30\n",
            "469/469 [==============================] - 2s 5ms/step - loss: 0.0297 - acc: 0.9919\n",
            "Epoch 10/30\n",
            "469/469 [==============================] - 2s 5ms/step - loss: 0.0264 - acc: 0.9928\n",
            "Epoch 11/30\n",
            "469/469 [==============================] - 2s 4ms/step - loss: 0.0266 - acc: 0.9927\n",
            "Epoch 12/30\n",
            "469/469 [==============================] - 2s 4ms/step - loss: 0.0248 - acc: 0.9933\n",
            "Epoch 13/30\n",
            "469/469 [==============================] - 2s 4ms/step - loss: 0.0206 - acc: 0.9948\n",
            "Epoch 14/30\n",
            "469/469 [==============================] - 2s 4ms/step - loss: 0.0190 - acc: 0.9947\n",
            "Epoch 15/30\n",
            "469/469 [==============================] - 2s 4ms/step - loss: 0.0170 - acc: 0.9961\n",
            "Epoch 16/30\n",
            "469/469 [==============================] - 2s 4ms/step - loss: 0.0155 - acc: 0.9958\n",
            "Epoch 17/30\n",
            "469/469 [==============================] - 2s 4ms/step - loss: 0.0176 - acc: 0.9955\n",
            "Epoch 18/30\n",
            "469/469 [==============================] - 2s 4ms/step - loss: 0.0199 - acc: 0.9954\n",
            "Epoch 19/30\n",
            "469/469 [==============================] - 2s 4ms/step - loss: 0.0148 - acc: 0.9964\n",
            "Epoch 20/30\n",
            "469/469 [==============================] - 2s 4ms/step - loss: 0.0108 - acc: 0.9972\n",
            "Epoch 21/30\n",
            "469/469 [==============================] - 3s 6ms/step - loss: 0.0131 - acc: 0.9970\n",
            "Epoch 22/30\n",
            "469/469 [==============================] - 4s 9ms/step - loss: 0.0174 - acc: 0.9959\n",
            "Epoch 23/30\n",
            "469/469 [==============================] - 6s 12ms/step - loss: 0.0148 - acc: 0.9966\n",
            "Epoch 24/30\n",
            "469/469 [==============================] - 2s 5ms/step - loss: 0.0102 - acc: 0.9975\n",
            "Epoch 25/30\n",
            "469/469 [==============================] - 2s 4ms/step - loss: 0.0199 - acc: 0.9960\n",
            "Epoch 26/30\n",
            "469/469 [==============================] - 2s 5ms/step - loss: 0.0135 - acc: 0.9968\n",
            "Epoch 27/30\n",
            "469/469 [==============================] - 2s 4ms/step - loss: 0.0096 - acc: 0.9978\n",
            "Epoch 28/30\n",
            "469/469 [==============================] - 2s 5ms/step - loss: 0.0133 - acc: 0.9972\n",
            "Epoch 29/30\n",
            "469/469 [==============================] - 2s 5ms/step - loss: 0.0109 - acc: 0.9972\n",
            "Epoch 30/30\n",
            "469/469 [==============================] - 2s 4ms/step - loss: 0.0115 - acc: 0.9973\n"
          ]
        }
      ]
    },
    {
      "cell_type": "code",
      "source": [
        "def compress_weights(weight):\n",
        "    S, U, V = tf.linalg.svd(weight)\n",
        "    S = tf.linalg.diag(S)\n",
        "    V = tf.transpose(V)\n",
        "    return S,U,V"
      ],
      "metadata": {
        "id": "dfkhSNsNN8dF"
      },
      "execution_count": 10,
      "outputs": []
    },
    {
      "cell_type": "code",
      "source": [
        "S_list = []\n",
        "U_list = []\n",
        "V_list = []\n",
        "B_list = []\n",
        "for i in range(1,6):\n",
        "    weights = model.layers[i].weights[0]\n",
        "    print(i,weights)\n",
        "    bias = model.layers[i].bias.numpy()\n",
        "    S,U,V = compress_weights(weights)\n",
        "    S_list.append(S)\n",
        "    U_list.append(U)\n",
        "    V_list.append(V)\n",
        "    B_list.append(bias)"
      ],
      "metadata": {
        "colab": {
          "base_uri": "https://localhost:8080/"
        },
        "id": "Kc9kP8wgGRTU",
        "outputId": "0014f035-9f83-4ed1-9c2c-f02064090a24"
      },
      "execution_count": 14,
      "outputs": [
        {
          "output_type": "stream",
          "name": "stdout",
          "text": [
            "1 <tf.Variable 'dense/kernel:0' shape=(784, 1024) dtype=float32, numpy=\n",
            "array([[ 0.03753919, -0.01139279,  0.01196799, ...,  0.01106172,\n",
            "         0.04881656, -0.04678631],\n",
            "       [-0.0275651 ,  0.00599134,  0.02864742, ..., -0.0295137 ,\n",
            "         0.00698932,  0.02618444],\n",
            "       [-0.02193408,  0.05265652, -0.01907856, ...,  0.04458062,\n",
            "        -0.00232806,  0.05337259],\n",
            "       ...,\n",
            "       [-0.04180066, -0.03109884,  0.02780601, ..., -0.00066502,\n",
            "         0.02603488,  0.05364294],\n",
            "       [-0.02639994, -0.0413323 , -0.04349478, ..., -0.05240909,\n",
            "        -0.00122761,  0.01835021],\n",
            "       [-0.03619152, -0.03463835,  0.04626844, ...,  0.00509717,\n",
            "         0.0527067 ,  0.00057941]], dtype=float32)>\n",
            "2 <tf.Variable 'dense_1/kernel:0' shape=(1024, 1024) dtype=float32, numpy=\n",
            "array([[-0.03577313, -0.04209413,  0.03463709, ..., -0.02787228,\n",
            "         0.05138737,  0.02797478],\n",
            "       [ 0.03235637, -0.01469075, -0.11941659, ..., -0.14218466,\n",
            "        -0.06206588,  0.066043  ],\n",
            "       [-0.02617102,  0.07403421, -0.10532858, ...,  0.04600925,\n",
            "        -0.09856562,  0.1516376 ],\n",
            "       ...,\n",
            "       [ 0.0467185 , -0.06460222, -0.15895596, ..., -0.09329852,\n",
            "        -0.05433879,  0.15811   ],\n",
            "       [-0.11497062, -0.02743804, -0.04954352, ..., -0.12032373,\n",
            "        -0.16021955, -0.01985285],\n",
            "       [ 0.03491389,  0.01722429, -0.16956061, ...,  0.12916297,\n",
            "        -0.0404332 , -0.0882076 ]], dtype=float32)>\n",
            "3 <tf.Variable 'dense_2/kernel:0' shape=(1024, 1024) dtype=float32, numpy=\n",
            "array([[-0.00168824,  0.0882548 ,  0.01941491, ..., -0.05514112,\n",
            "         0.03256425, -0.01780113],\n",
            "       [-0.03519026,  0.03997543, -0.05611251, ...,  0.03304496,\n",
            "         0.03644669, -0.02875991],\n",
            "       [-0.03136364,  0.02893829, -0.03271667, ...,  0.13131364,\n",
            "         0.0475731 , -0.07389132],\n",
            "       ...,\n",
            "       [-0.07719502,  0.01650767,  0.05976692, ..., -0.2541026 ,\n",
            "         0.06869004, -0.078058  ],\n",
            "       [-0.04370228, -0.00433522, -0.02163922, ..., -0.04957039,\n",
            "         0.01077072, -0.04095942],\n",
            "       [-0.05474566, -0.04918196, -0.03463638, ...,  0.0225712 ,\n",
            "        -0.06766501, -0.01412318]], dtype=float32)>\n",
            "4 <tf.Variable 'dense_3/kernel:0' shape=(1024, 1024) dtype=float32, numpy=\n",
            "array([[-0.00811075,  0.02317781, -0.02332059, ...,  0.01199607,\n",
            "         0.0941564 ,  0.03877391],\n",
            "       [ 0.00327982,  0.0172871 ,  0.03531217, ..., -0.00360596,\n",
            "        -0.08776307,  0.02378801],\n",
            "       [-0.03935979,  0.03216721,  0.03443609, ...,  0.01904368,\n",
            "        -0.04317834, -0.00056793],\n",
            "       ...,\n",
            "       [-0.01305558, -0.01541491, -0.12163878, ..., -0.18563129,\n",
            "         0.03177237, -0.1639192 ],\n",
            "       [ 0.0180508 , -0.01037003, -0.01146136, ..., -0.00457429,\n",
            "        -0.03221597,  0.01918318],\n",
            "       [-0.03249656,  0.05773997, -0.07068754, ...,  0.01539025,\n",
            "        -0.00199655, -0.06123564]], dtype=float32)>\n",
            "5 <tf.Variable 'dense_4/kernel:0' shape=(1024, 1024) dtype=float32, numpy=\n",
            "array([[ 0.01295151, -0.03825442, -0.03887422, ...,  0.03425065,\n",
            "         0.01006388, -0.02754734],\n",
            "       [-0.04836006, -0.01512975,  0.02156636, ..., -0.02583428,\n",
            "        -0.04244737,  0.037804  ],\n",
            "       [ 0.0140528 , -0.03890074,  0.01714132, ..., -0.02550622,\n",
            "        -0.0276476 , -0.04355706],\n",
            "       ...,\n",
            "       [-0.05926431, -0.00767821, -0.07902805, ...,  0.03755263,\n",
            "        -0.01624941,  0.00075129],\n",
            "       [-0.05410258, -0.01039988, -0.05532367, ..., -0.00275483,\n",
            "         0.01955555, -0.05739744],\n",
            "       [-0.00905987,  0.02668266, -0.06885184, ..., -0.11683819,\n",
            "         0.0634581 ,  0.02645551]], dtype=float32)>\n"
          ]
        }
      ]
    },
    {
      "cell_type": "code",
      "source": [
        "rank_values = [10,20,50,100,200]\n",
        "acc_val = []\n",
        "for value in rank_values:\n",
        "    W_1 = tf.matmul(tf.matmul(U_list[0][:, :value], S_list[0][:value, :value]), V_list[0][:value, :])\n",
        "    model.get_layer(index=1).set_weights([W_1,B_list[0]])\n",
        "    W_2 = tf.matmul(tf.matmul(U_list[1][:, :value], S_list[1][:value, :value]), V_list[1][:value, :])\n",
        "    model.get_layer(index=2).set_weights([W_2,B_list[1]])\n",
        "    W_3 = tf.matmul(tf.matmul(U_list[2][:, :value], S_list[2][:value, :value]), V_list[2][:value, :])\n",
        "    model.get_layer(index=3).set_weights([W_3,B_list[2]])\n",
        "    W_4 = tf.matmul(tf.matmul(U_list[3][:, :value], S_list[3][:value, :value]), V_list[3][:value, :])\n",
        "    model.get_layer(index=4).set_weights([W_4,B_list[3]])\n",
        "    W_5 = tf.matmul(tf.matmul(U_list[4][:, :value], S_list[4][:value, :value]), V_list[4][:value, :])\n",
        "    model.get_layer(index=5).set_weights([W_5,B_list[4]])\n",
        "    acc_val.append(model.evaluate(x_test,y_test,verbose = 1)[1])"
      ],
      "metadata": {
        "colab": {
          "base_uri": "https://localhost:8080/"
        },
        "id": "KolGwbs5GRXu",
        "outputId": "6fcae625-52a5-45b9-e3df-3b8080ce2c6b"
      },
      "execution_count": 15,
      "outputs": [
        {
          "output_type": "stream",
          "name": "stdout",
          "text": [
            "313/313 [==============================] - 1s 3ms/step - loss: 1.3531 - acc: 0.6153\n",
            "313/313 [==============================] - 1s 3ms/step - loss: 0.3199 - acc: 0.9261\n",
            "313/313 [==============================] - 1s 3ms/step - loss: 0.0982 - acc: 0.9814\n",
            "313/313 [==============================] - 1s 3ms/step - loss: 0.0944 - acc: 0.9843\n",
            "313/313 [==============================] - 1s 3ms/step - loss: 0.1003 - acc: 0.9845\n"
          ]
        }
      ]
    },
    {
      "cell_type": "code",
      "source": [
        "W_1 = tf.matmul(tf.matmul(U_list[0], S_list[0]), V_list[0])\n",
        "W_2 = tf.matmul(tf.matmul(U_list[1], S_list[1]), V_list[1])\n",
        "W_3 = tf.matmul(tf.matmul(U_list[2], S_list[2]), V_list[2])\n",
        "W_4 = tf.matmul(tf.matmul(U_list[3], S_list[3]), V_list[3])\n",
        "W_5 = tf.matmul(tf.matmul(U_list[4], S_list[4]), V_list[4])\n",
        "\n",
        "\n",
        "model.get_layer(index=1).set_weights([W_1,B_list[0]])\n",
        "model.get_layer(index=2).set_weights([W_2,B_list[1]])\n",
        "model.get_layer(index=3).set_weights([W_3,B_list[2]])\n",
        "model.get_layer(index=4).set_weights([W_4,B_list[3]])\n",
        "model.get_layer(index=5).set_weights([W_5,B_list[4]])\n",
        "\n",
        "acc_val.append(model.evaluate(x_test,y_test,verbose = 1)[1])"
      ],
      "metadata": {
        "colab": {
          "base_uri": "https://localhost:8080/"
        },
        "id": "vOdiwgYpGRZ0",
        "outputId": "185529fd-a574-40e4-f094-6b971f52562a"
      },
      "execution_count": 16,
      "outputs": [
        {
          "output_type": "stream",
          "name": "stdout",
          "text": [
            "313/313 [==============================] - 1s 3ms/step - loss: 0.1108 - acc: 0.9844\n"
          ]
        }
      ]
    },
    {
      "cell_type": "code",
      "source": [
        "fig, ax = plt.subplots()\n",
        "ax.plot(acc_val)\n",
        "ax.set_ylabel(\"Accuracy For Approximated Weights\")\n",
        "ax.set_xlabel(\"D Value\")\n",
        "x = [0,10,20,50,100,200,'Full']\n",
        "ax.set_xticklabels(x)\n",
        "plt.show()"
      ],
      "metadata": {
        "colab": {
          "base_uri": "https://localhost:8080/",
          "height": 282
        },
        "id": "oRSDyvVDGRcy",
        "outputId": "24f92dbc-381b-4b05-b75c-0bb00e734691"
      },
      "execution_count": 17,
      "outputs": [
        {
          "output_type": "display_data",
          "data": {
            "text/plain": [
              "<Figure size 432x288 with 1 Axes>"
            ],
            "image/png": "[encoded data removed]"
          },
          "metadata": {
            "needs_background": "light"
          }
        }
      ]
    },
    {
      "cell_type": "code",
      "source": [],
      "metadata": {
        "id": "8igDlOuYGRoT"
      },
      "execution_count": null,
      "outputs": []
    },
    {
      "cell_type": "code",
      "source": [],
      "metadata": {
        "id": "p3X1SJgmGRsf"
      },
      "execution_count": null,
      "outputs": []
    },
    {
      "cell_type": "code",
      "source": [],
      "metadata": {
        "id": "VwCefP4CGRwo"
      },
      "execution_count": null,
      "outputs": []
    },
    {
      "cell_type": "code",
      "source": [],
      "metadata": {
        "id": "Mn-niOqmGRzI"
      },
      "execution_count": null,
      "outputs": []
    },
    {
      "cell_type": "code",
      "source": [],
      "metadata": {
        "id": "3IhCWnDtGR3O"
      },
      "execution_count": null,
      "outputs": []
    },
    {
      "cell_type": "code",
      "source": [],
      "metadata": {
        "id": "fzLh-8u5GR5k"
      },
      "execution_count": null,
      "outputs": []
    },
    {
      "cell_type": "code",
      "source": [],
      "metadata": {
        "id": "hCtGOGKzGR88"
      },
      "execution_count": null,
      "outputs": []
    },
    {
      "cell_type": "code",
      "source": [],
      "metadata": {
        "id": "uuuClRekGR_9"
      },
      "execution_count": null,
      "outputs": []
    },
    {
      "cell_type": "code",
      "source": [],
      "metadata": {
        "id": "IUqLVwszGSDU"
      },
      "execution_count": null,
      "outputs": []
    },
    {
      "cell_type": "code",
      "source": [],
      "metadata": {
        "id": "7bBYJDqFGSGK"
      },
      "execution_count": null,
      "outputs": []
    },
    {
      "cell_type": "code",
      "source": [],
      "metadata": {
        "id": "l16ojwg0GSJL"
      },
      "execution_count": null,
      "outputs": []
    },
    {
      "cell_type": "code",
      "source": [],
      "metadata": {
        "id": "N-pkcDf6GSNe"
      },
      "execution_count": null,
      "outputs": []
    },
    {
      "cell_type": "markdown",
      "source": [],
      "metadata": {
        "id": "tmj8D4vjGt0s"
      }
    },
    {
      "cell_type": "code",
      "source": [],
      "metadata": {
        "id": "AAtvGAdSGSRi"
      },
      "execution_count": null,
      "outputs": []
    },
    {
      "cell_type": "markdown",
      "source": [
        "P4: Speaker Verification"
      ],
      "metadata": {
        "id": "tmri6ETvZtyM"
      }
    },
    {
      "cell_type": "code",
      "execution_count": null,
      "metadata": {
        "id": "rXFYzsy6ZL_E"
      },
      "outputs": [],
      "source": []
    },
    {
      "cell_type": "code",
      "source": [],
      "metadata": {
        "id": "gTgkLb6KGOnk"
      },
      "execution_count": null,
      "outputs": []
    },
    {
      "cell_type": "code",
      "source": [],
      "metadata": {
        "id": "6bN_an55ZX9z"
      },
      "execution_count": null,
      "outputs": []
    },
    {
      "cell_type": "code",
      "source": [],
      "metadata": {
        "id": "Xz24JGQ2ZXtC"
      },
      "execution_count": null,
      "outputs": []
    },
    {
      "cell_type": "code",
      "source": [],
      "metadata": {
        "id": "d3GGgHZVZXZ7"
      },
      "execution_count": null,
      "outputs": []
    },
    {
      "cell_type": "code",
      "source": [],
      "metadata": {
        "id": "vHVkYLeeZXSM"
      },
      "execution_count": null,
      "outputs": []
    },
    {
      "cell_type": "code",
      "source": [],
      "metadata": {
        "id": "1TWBjXxgZXIt"
      },
      "execution_count": null,
      "outputs": []
    },
    {
      "cell_type": "code",
      "source": [],
      "metadata": {
        "id": "H3mCc_GaZW-Q"
      },
      "execution_count": null,
      "outputs": []
    },
    {
      "cell_type": "code",
      "source": [],
      "metadata": {
        "id": "owLTQeYcZW1O"
      },
      "execution_count": null,
      "outputs": []
    },
    {
      "cell_type": "code",
      "source": [],
      "metadata": {
        "id": "YJpewuWuZWst"
      },
      "execution_count": null,
      "outputs": []
    },
    {
      "cell_type": "code",
      "source": [],
      "metadata": {
        "id": "P2oN9PUaZWkN"
      },
      "execution_count": null,
      "outputs": []
    },
    {
      "cell_type": "code",
      "source": [],
      "metadata": {
        "id": "5tpPhRSGZWdH"
      },
      "execution_count": null,
      "outputs": []
    },
    {
      "cell_type": "code",
      "source": [],
      "metadata": {
        "id": "9L_3uqBDZMqs"
      },
      "execution_count": null,
      "outputs": []
    },
    {
      "cell_type": "code",
      "source": [],
      "metadata": {
        "id": "vOaVqhJIZMvU"
      },
      "execution_count": null,
      "outputs": []
    },
    {
      "cell_type": "code",
      "source": [],
      "metadata": {
        "id": "qwXoGYFsZMz1"
      },
      "execution_count": null,
      "outputs": []
    },
    {
      "cell_type": "code",
      "source": [],
      "metadata": {
        "id": "Qn3aE5e6ZM4Y"
      },
      "execution_count": null,
      "outputs": []
    },
    {
      "cell_type": "code",
      "source": [],
      "metadata": {
        "id": "4K3zTmIjZM8W"
      },
      "execution_count": null,
      "outputs": []
    },
    {
      "cell_type": "code",
      "source": [],
      "metadata": {
        "id": "ileIFn10ZNAa"
      },
      "execution_count": null,
      "outputs": []
    },
    {
      "cell_type": "code",
      "source": [],
      "metadata": {
        "id": "sIBSBDz8ZNEk"
      },
      "execution_count": null,
      "outputs": []
    },
    {
      "cell_type": "code",
      "source": [],
      "metadata": {
        "id": "hW72zW-pZNJC"
      },
      "execution_count": null,
      "outputs": []
    },
    {
      "cell_type": "code",
      "source": [],
      "metadata": {
        "id": "-RlNTKfHZNNt"
      },
      "execution_count": null,
      "outputs": []
    },
    {
      "cell_type": "code",
      "source": [],
      "metadata": {
        "id": "FEvGmC2LZNR8"
      },
      "execution_count": null,
      "outputs": []
    },
    {
      "cell_type": "code",
      "source": [],
      "metadata": {
        "id": "zibUQOLrZNWA"
      },
      "execution_count": null,
      "outputs": []
    },
    {
      "cell_type": "code",
      "source": [],
      "metadata": {
        "id": "tUBaYOPMZNah"
      },
      "execution_count": null,
      "outputs": []
    },
    {
      "cell_type": "code",
      "source": [],
      "metadata": {
        "id": "zBoUA9nOZNeD"
      },
      "execution_count": null,
      "outputs": []
    },
    {
      "cell_type": "code",
      "source": [],
      "metadata": {
        "id": "STKn118qZNmS"
      },
      "execution_count": null,
      "outputs": []
    },
    {
      "cell_type": "code",
      "source": [],
      "metadata": {
        "id": "Whzv2VIKZNqG"
      },
      "execution_count": null,
      "outputs": []
    },
    {
      "cell_type": "code",
      "source": [],
      "metadata": {
        "id": "nYGpyWZLZNtt"
      },
      "execution_count": null,
      "outputs": []
    },
    {
      "cell_type": "code",
      "source": [],
      "metadata": {
        "id": "p7a31BSsZNxj"
      },
      "execution_count": null,
      "outputs": []
    },
    {
      "cell_type": "code",
      "source": [],
      "metadata": {
        "id": "U1K3coiLZN1j"
      },
      "execution_count": null,
      "outputs": []
    },
    {
      "cell_type": "code",
      "source": [],
      "metadata": {
        "id": "42Su0RrEZN5U"
      },
      "execution_count": null,
      "outputs": []
    },
    {
      "cell_type": "code",
      "source": [],
      "metadata": {
        "id": "ViCX27YlZN9I"
      },
      "execution_count": null,
      "outputs": []
    },
    {
      "cell_type": "code",
      "source": [],
      "metadata": {
        "id": "S60gWKMYZOBD"
      },
      "execution_count": null,
      "outputs": []
    },
    {
      "cell_type": "code",
      "source": [],
      "metadata": {
        "id": "Bsx-JmBTZOEr"
      },
      "execution_count": null,
      "outputs": []
    },
    {
      "cell_type": "code",
      "source": [],
      "metadata": {
        "id": "QLeYG6bXZOMi"
      },
      "execution_count": null,
      "outputs": []
    },
    {
      "cell_type": "code",
      "source": [],
      "metadata": {
        "id": "HA1Yyhe1ZOQ2"
      },
      "execution_count": null,
      "outputs": []
    },
    {
      "cell_type": "code",
      "source": [],
      "metadata": {
        "id": "tSx22ad0ZOVA"
      },
      "execution_count": null,
      "outputs": []
    },
    {
      "cell_type": "code",
      "source": [],
      "metadata": {
        "id": "elLIOeW5ZOZk"
      },
      "execution_count": null,
      "outputs": []
    },
    {
      "cell_type": "code",
      "source": [],
      "metadata": {
        "id": "-ZLT12TvZOeF"
      },
      "execution_count": null,
      "outputs": []
    },
    {
      "cell_type": "code",
      "source": [],
      "metadata": {
        "id": "J2LM8p8kZOii"
      },
      "execution_count": null,
      "outputs": []
    },
    {
      "cell_type": "code",
      "source": [],
      "metadata": {
        "id": "Qr3Hs8J0ZOm_"
      },
      "execution_count": null,
      "outputs": []
    },
    {
      "cell_type": "code",
      "source": [],
      "metadata": {
        "id": "8UJHx-D_ZOsF"
      },
      "execution_count": null,
      "outputs": []
    },
    {
      "cell_type": "code",
      "source": [],
      "metadata": {
        "id": "0hCE3FTDZOwj"
      },
      "execution_count": null,
      "outputs": []
    },
    {
      "cell_type": "code",
      "source": [],
      "metadata": {
        "id": "kcun-WHHZO0w"
      },
      "execution_count": null,
      "outputs": []
    },
    {
      "cell_type": "code",
      "source": [],
      "metadata": {
        "id": "ZK4ACvSLZO5J"
      },
      "execution_count": null,
      "outputs": []
    },
    {
      "cell_type": "code",
      "source": [],
      "metadata": {
        "id": "hZM2p83nZO91"
      },
      "execution_count": null,
      "outputs": []
    },
    {
      "cell_type": "code",
      "source": [],
      "metadata": {
        "id": "2oihPG10ZPCR"
      },
      "execution_count": null,
      "outputs": []
    },
    {
      "cell_type": "code",
      "source": [],
      "metadata": {
        "id": "3rQMw5fEZPGS"
      },
      "execution_count": null,
      "outputs": []
    },
    {
      "cell_type": "code",
      "source": [
        "b"
      ],
      "metadata": {
        "id": "HJkP9m0zZPKI"
      },
      "execution_count": null,
      "outputs": []
    },
    {
      "cell_type": "code",
      "source": [],
      "metadata": {
        "id": "rQRX9pTOZPSx"
      },
      "execution_count": null,
      "outputs": []
    },
    {
      "cell_type": "code",
      "source": [],
      "metadata": {
        "id": "XrLtb57IZPXr"
      },
      "execution_count": null,
      "outputs": []
    },
    {
      "cell_type": "code",
      "source": [],
      "metadata": {
        "id": "JrX5--_LZPcC"
      },
      "execution_count": null,
      "outputs": []
    },
    {
      "cell_type": "code",
      "source": [],
      "metadata": {
        "id": "Ab2EMevgZPgm"
      },
      "execution_count": null,
      "outputs": []
    },
    {
      "cell_type": "code",
      "source": [],
      "metadata": {
        "id": "c5ACp_gKZPlK"
      },
      "execution_count": null,
      "outputs": []
    },
    {
      "cell_type": "code",
      "source": [],
      "metadata": {
        "id": "FHE0I5HCZPpn"
      },
      "execution_count": null,
      "outputs": []
    },
    {
      "cell_type": "code",
      "source": [],
      "metadata": {
        "id": "khI5K0gUZPuW"
      },
      "execution_count": null,
      "outputs": []
    },
    {
      "cell_type": "code",
      "source": [],
      "metadata": {
        "id": "x9Y_pPYQZPzV"
      },
      "execution_count": null,
      "outputs": []
    },
    {
      "cell_type": "code",
      "source": [],
      "metadata": {
        "id": "8f1c00dNZP4Y"
      },
      "execution_count": null,
      "outputs": []
    },
    {
      "cell_type": "code",
      "source": [],
      "metadata": {
        "id": "3BY7aSVGZP9O"
      },
      "execution_count": null,
      "outputs": []
    },
    {
      "cell_type": "code",
      "source": [],
      "metadata": {
        "id": "hqif9T8sZQBY"
      },
      "execution_count": null,
      "outputs": []
    },
    {
      "cell_type": "code",
      "source": [],
      "metadata": {
        "id": "cFpahjbRZQFv"
      },
      "execution_count": null,
      "outputs": []
    },
    {
      "cell_type": "code",
      "source": [],
      "metadata": {
        "id": "TIp8-SZMZQKh"
      },
      "execution_count": null,
      "outputs": []
    },
    {
      "cell_type": "code",
      "source": [],
      "metadata": {
        "id": "dy3xskOoZQO5"
      },
      "execution_count": null,
      "outputs": []
    },
    {
      "cell_type": "code",
      "source": [],
      "metadata": {
        "id": "AJEEjfvvZQTr"
      },
      "execution_count": null,
      "outputs": []
    },
    {
      "cell_type": "code",
      "source": [],
      "metadata": {
        "id": "G6EHdudIZQX-"
      },
      "execution_count": null,
      "outputs": []
    },
    {
      "cell_type": "code",
      "source": [],
      "metadata": {
        "id": "XTHb-pW9ZQcX"
      },
      "execution_count": null,
      "outputs": []
    },
    {
      "cell_type": "code",
      "source": [],
      "metadata": {
        "id": "MoDAZY6LZQhE"
      },
      "execution_count": null,
      "outputs": []
    },
    {
      "cell_type": "code",
      "source": [],
      "metadata": {
        "id": "A-JST27VZQls"
      },
      "execution_count": null,
      "outputs": []
    },
    {
      "cell_type": "code",
      "source": [],
      "metadata": {
        "id": "3YLQMqwtZQq1"
      },
      "execution_count": null,
      "outputs": []
    },
    {
      "cell_type": "code",
      "source": [],
      "metadata": {
        "id": "RXYzt4BGZQvx"
      },
      "execution_count": null,
      "outputs": []
    },
    {
      "cell_type": "code",
      "source": [],
      "metadata": {
        "id": "VCdgUtWjZQ0s"
      },
      "execution_count": null,
      "outputs": []
    },
    {
      "cell_type": "code",
      "source": [],
      "metadata": {
        "id": "_Ngn4fXyZQ5T"
      },
      "execution_count": null,
      "outputs": []
    },
    {
      "cell_type": "code",
      "source": [],
      "metadata": {
        "id": "PD38nY2rZQ-P"
      },
      "execution_count": null,
      "outputs": []
    },
    {
      "cell_type": "code",
      "source": [],
      "metadata": {
        "id": "oFdEAWCXZRDg"
      },
      "execution_count": null,
      "outputs": []
    },
    {
      "cell_type": "code",
      "source": [],
      "metadata": {
        "id": "09T0xGIZZRHa"
      },
      "execution_count": null,
      "outputs": []
    },
    {
      "cell_type": "code",
      "source": [],
      "metadata": {
        "id": "HQavx2frZRL3"
      },
      "execution_count": null,
      "outputs": []
    },
    {
      "cell_type": "code",
      "source": [],
      "metadata": {
        "id": "h3VXpbqBZRQL"
      },
      "execution_count": null,
      "outputs": []
    },
    {
      "cell_type": "code",
      "source": [],
      "metadata": {
        "id": "bj0d-4dnZRUs"
      },
      "execution_count": null,
      "outputs": []
    },
    {
      "cell_type": "code",
      "source": [],
      "metadata": {
        "id": "JHolLEmAZRZF"
      },
      "execution_count": null,
      "outputs": []
    },
    {
      "cell_type": "code",
      "source": [],
      "metadata": {
        "id": "962OyxAGZRdT"
      },
      "execution_count": null,
      "outputs": []
    },
    {
      "cell_type": "code",
      "source": [],
      "metadata": {
        "id": "V3WBlrkvZRjG"
      },
      "execution_count": null,
      "outputs": []
    },
    {
      "cell_type": "code",
      "source": [],
      "metadata": {
        "id": "wL1B5T3WZRn4"
      },
      "execution_count": null,
      "outputs": []
    },
    {
      "cell_type": "code",
      "source": [],
      "metadata": {
        "id": "B_4lak9CZRsZ"
      },
      "execution_count": null,
      "outputs": []
    },
    {
      "cell_type": "code",
      "source": [],
      "metadata": {
        "id": "CZeMX1OyZRxl"
      },
      "execution_count": null,
      "outputs": []
    },
    {
      "cell_type": "code",
      "source": [],
      "metadata": {
        "id": "0dp_4Y8dZR2C"
      },
      "execution_count": null,
      "outputs": []
    },
    {
      "cell_type": "code",
      "source": [],
      "metadata": {
        "id": "jUCIX5lLZR69"
      },
      "execution_count": null,
      "outputs": []
    },
    {
      "cell_type": "code",
      "source": [],
      "metadata": {
        "id": "0wzZdsuiZR_H"
      },
      "execution_count": null,
      "outputs": []
    },
    {
      "cell_type": "code",
      "source": [],
      "metadata": {
        "id": "rjNwGOt5ZSEW"
      },
      "execution_count": null,
      "outputs": []
    },
    {
      "cell_type": "code",
      "source": [],
      "metadata": {
        "id": "voLESOkuZSIu"
      },
      "execution_count": null,
      "outputs": []
    },
    {
      "cell_type": "code",
      "source": [],
      "metadata": {
        "id": "Tn7qOMhEZSNl"
      },
      "execution_count": null,
      "outputs": []
    },
    {
      "cell_type": "code",
      "source": [],
      "metadata": {
        "id": "xaK_Zuw5ZSS3"
      },
      "execution_count": null,
      "outputs": []
    }
  ]
}