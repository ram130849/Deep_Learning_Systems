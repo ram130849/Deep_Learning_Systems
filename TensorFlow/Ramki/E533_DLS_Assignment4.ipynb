{
  "nbformat": 4,
  "nbformat_minor": 0,
  "metadata": {
    "colab": {
      "provenance": [],
      "collapsed_sections": [],
      "authorship_tag": "ABX9TyPWfjEaLu4DlsULLKfrnwsr",
      "include_colab_link": true
    },
    "kernelspec": {
      "name": "python3",
      "display_name": "Python 3"
    },
    "language_info": {
      "name": "python"
    },
    "accelerator": "GPU",
    "gpuClass": "standard"
  },
  "cells": [
    {
      "cell_type": "markdown",
      "metadata": {
        "id": "view-in-github",
        "colab_type": "text"
      },
      "source": [
        "<a href=\"https://colab.research.google.com/github/ram130849/Deep_Learning_Systems_Assignments/blob/main/TensorFlow/Ramki/E533_DLS_Assignment4.ipynb\" target=\"_parent\"><img src=\"https://colab.research.google.com/assets/colab-badge.svg\" alt=\"Open In Colab\"/></a>"
      ]
    },
    {
      "cell_type": "markdown",
      "source": [
        "P1: Network Compression Using SVD"
      ],
      "metadata": {
        "id": "anAvRC9wGvdw"
      }
    },
    {
      "cell_type": "code",
      "source": [
        "from google.colab import drive\n",
        "drive.mount('/content/drive')"
      ],
      "metadata": {
        "colab": {
          "base_uri": "https://localhost:8080/"
        },
        "id": "bkMCPD7-IjI2",
        "outputId": "97b3672f-8f34-44ed-e07d-2fd678272122"
      },
      "execution_count": 1,
      "outputs": [
        {
          "output_type": "stream",
          "name": "stdout",
          "text": [
            "Mounted at /content/drive\n"
          ]
        }
      ]
    },
    {
      "cell_type": "code",
      "source": [
        "import tensorflow as tf\n",
        "import pandas as pd\n",
        "import numpy as np\n",
        "import matplotlib.pyplot as plt\n",
        "import librosa\n",
        "import os\n",
        "from tensorflow.keras import Model,layers\n",
        "import seaborn as sns\n",
        "from sklearn.metrics import confusion_matrix"
      ],
      "metadata": {
        "id": "Ox8FHaGAGPXK"
      },
      "execution_count": 2,
      "outputs": []
    },
    {
      "cell_type": "code",
      "source": [
        "mnist = tf.keras.datasets.mnist"
      ],
      "metadata": {
        "id": "pGhbe_2UGQus"
      },
      "execution_count": 3,
      "outputs": []
    },
    {
      "cell_type": "code",
      "source": [
        "(x_train, y_train), (x_test, y_test) = mnist.load_data()"
      ],
      "metadata": {
        "id": "7uQeEuSuGQ-y",
        "colab": {
          "base_uri": "https://localhost:8080/"
        },
        "outputId": "166accc2-2274-4e99-bbc0-c7686a14f31e"
      },
      "execution_count": 4,
      "outputs": [
        {
          "output_type": "stream",
          "name": "stdout",
          "text": [
            "Downloading data from https://storage.googleapis.com/tensorflow/tf-keras-datasets/mnist.npz\n",
            "11490434/11490434 [==============================] - 0s 0us/step\n"
          ]
        }
      ]
    },
    {
      "cell_type": "code",
      "source": [
        "x_train = x_train.astype('float32')\n",
        "x_test = x_test.astype('float32')\n",
        "x_train/=255\n",
        "x_test/=255"
      ],
      "metadata": {
        "id": "RziXk7wIGRDE"
      },
      "execution_count": 5,
      "outputs": []
    },
    {
      "cell_type": "code",
      "source": [
        "print(x_train.shape)"
      ],
      "metadata": {
        "colab": {
          "base_uri": "https://localhost:8080/"
        },
        "id": "u841JJF_9hcF",
        "outputId": "03a13743-5197-45d8-ab71-dfa971865c1e"
      },
      "execution_count": 6,
      "outputs": [
        {
          "output_type": "stream",
          "name": "stdout",
          "text": [
            "(60000, 28, 28)\n"
          ]
        }
      ]
    },
    {
      "cell_type": "code",
      "source": [
        "model = tf.keras.models.Sequential([\n",
        "  tf.keras.layers.Flatten(input_shape=(28, 28)),\n",
        "  tf.keras.layers.Dense(1024, activation='relu'),\n",
        "  tf.keras.layers.Dense(1024,activation='relu'),\n",
        "  tf.keras.layers.Dense(1024,activation='relu'),\n",
        "  tf.keras.layers.Dense(1024,activation='relu'),\n",
        "  tf.keras.layers.Dense(1024,activation='relu'),\n",
        "  tf.keras.layers.Dense(10)\n",
        "])"
      ],
      "metadata": {
        "id": "OIKsnTMgGRFj"
      },
      "execution_count": null,
      "outputs": []
    },
    {
      "cell_type": "code",
      "source": [
        "print(model.summary())"
      ],
      "metadata": {
        "colab": {
          "base_uri": "https://localhost:8080/"
        },
        "id": "MQLvn6FsGRIv",
        "outputId": "bd3cc9de-80da-4dda-fc5f-bf7812fa9c0b"
      },
      "execution_count": null,
      "outputs": [
        {
          "output_type": "stream",
          "name": "stdout",
          "text": [
            "Model: \"sequential\"\n",
            "_________________________________________________________________\n",
            " Layer (type)                Output Shape              Param #   \n",
            "=================================================================\n",
            " flatten (Flatten)           (None, 784)               0         \n",
            "                                                                 \n",
            " dense (Dense)               (None, 1024)              803840    \n",
            "                                                                 \n",
            " dense_1 (Dense)             (None, 1024)              1049600   \n",
            "                                                                 \n",
            " dense_2 (Dense)             (None, 1024)              1049600   \n",
            "                                                                 \n",
            " dense_3 (Dense)             (None, 1024)              1049600   \n",
            "                                                                 \n",
            " dense_4 (Dense)             (None, 1024)              1049600   \n",
            "                                                                 \n",
            " dense_5 (Dense)             (None, 10)                10250     \n",
            "                                                                 \n",
            "=================================================================\n",
            "Total params: 5,012,490\n",
            "Trainable params: 5,012,490\n",
            "Non-trainable params: 0\n",
            "_________________________________________________________________\n",
            "None\n"
          ]
        }
      ]
    },
    {
      "cell_type": "code",
      "source": [
        "model.compile(optimizer=\"adam\", loss=tf.keras.losses.SparseCategoricalCrossentropy(from_logits=True), metrics=\"acc\")"
      ],
      "metadata": {
        "id": "RmiKMBwoGRNU"
      },
      "execution_count": null,
      "outputs": []
    },
    {
      "cell_type": "code",
      "source": [
        "checkpoint_path = \"/content/drive/MyDrive/DLS_DATA/assign4/cp-{epoch:02d}.hdf5\"\n",
        "checkpoint_dir = os.path.dirname(checkpoint_path)"
      ],
      "metadata": {
        "id": "-mW7X6q087hj"
      },
      "execution_count": null,
      "outputs": []
    },
    {
      "cell_type": "code",
      "source": [
        "cp_callback = tf.keras.callbacks.ModelCheckpoint(filepath=checkpoint_path,\n",
        "                                                 save_weights_only=True,\n",
        "                                                 verbose=1)"
      ],
      "metadata": {
        "id": "ulCAVH4Q9FSc"
      },
      "execution_count": null,
      "outputs": []
    },
    {
      "cell_type": "code",
      "source": [
        "history = model.fit(\n",
        "    x_train,\n",
        "    y_train,\n",
        "    epochs=30,\n",
        "    batch_size=128,\n",
        "    callbacks=[cp_callback])"
      ],
      "metadata": {
        "colab": {
          "base_uri": "https://localhost:8080/"
        },
        "id": "r3fJSNnHGRP0",
        "outputId": "1da0765d-64d0-4121-a9ae-55cfa7c020d1"
      },
      "execution_count": null,
      "outputs": [
        {
          "output_type": "stream",
          "name": "stdout",
          "text": [
            "Epoch 1/30\n",
            "463/469 [============================>.] - ETA: 0s - loss: 0.2281 - acc: 0.9313\n",
            "Epoch 1: saving model to /content/drive/MyDrive/DLS_DATA/assign4/cp-01.hdf5\n",
            "469/469 [==============================] - 6s 8ms/step - loss: 0.2268 - acc: 0.9316\n",
            "Epoch 2/30\n",
            "463/469 [============================>.] - ETA: 0s - loss: 0.1033 - acc: 0.9707\n",
            "Epoch 2: saving model to /content/drive/MyDrive/DLS_DATA/assign4/cp-02.hdf5\n",
            "469/469 [==============================] - 4s 8ms/step - loss: 0.1031 - acc: 0.9707\n",
            "Epoch 3/30\n",
            "460/469 [============================>.] - ETA: 0s - loss: 0.0703 - acc: 0.9797\n",
            "Epoch 3: saving model to /content/drive/MyDrive/DLS_DATA/assign4/cp-03.hdf5\n",
            "469/469 [==============================] - 4s 8ms/step - loss: 0.0703 - acc: 0.9797\n",
            "Epoch 4/30\n",
            "461/469 [============================>.] - ETA: 0s - loss: 0.0572 - acc: 0.9838\n",
            "Epoch 4: saving model to /content/drive/MyDrive/DLS_DATA/assign4/cp-04.hdf5\n",
            "469/469 [==============================] - 4s 8ms/step - loss: 0.0572 - acc: 0.9838\n",
            "Epoch 5/30\n",
            "464/469 [============================>.] - ETA: 0s - loss: 0.0464 - acc: 0.9871\n",
            "Epoch 5: saving model to /content/drive/MyDrive/DLS_DATA/assign4/cp-05.hdf5\n",
            "469/469 [==============================] - 4s 9ms/step - loss: 0.0463 - acc: 0.9871\n",
            "Epoch 6/30\n",
            "458/469 [============================>.] - ETA: 0s - loss: 0.0416 - acc: 0.9886\n",
            "Epoch 6: saving model to /content/drive/MyDrive/DLS_DATA/assign4/cp-06.hdf5\n",
            "469/469 [==============================] - 4s 8ms/step - loss: 0.0421 - acc: 0.9885\n",
            "Epoch 7/30\n",
            "459/469 [============================>.] - ETA: 0s - loss: 0.0369 - acc: 0.9894\n",
            "Epoch 7: saving model to /content/drive/MyDrive/DLS_DATA/assign4/cp-07.hdf5\n",
            "469/469 [==============================] - 4s 8ms/step - loss: 0.0374 - acc: 0.9893\n",
            "Epoch 8/30\n",
            "464/469 [============================>.] - ETA: 0s - loss: 0.0368 - acc: 0.9896\n",
            "Epoch 8: saving model to /content/drive/MyDrive/DLS_DATA/assign4/cp-08.hdf5\n",
            "469/469 [==============================] - 4s 8ms/step - loss: 0.0368 - acc: 0.9897\n",
            "Epoch 9/30\n",
            "467/469 [============================>.] - ETA: 0s - loss: 0.0308 - acc: 0.9913\n",
            "Epoch 9: saving model to /content/drive/MyDrive/DLS_DATA/assign4/cp-09.hdf5\n",
            "469/469 [==============================] - 4s 9ms/step - loss: 0.0307 - acc: 0.9913\n",
            "Epoch 10/30\n",
            "466/469 [============================>.] - ETA: 0s - loss: 0.0261 - acc: 0.9927\n",
            "Epoch 10: saving model to /content/drive/MyDrive/DLS_DATA/assign4/cp-10.hdf5\n",
            "469/469 [==============================] - 4s 9ms/step - loss: 0.0261 - acc: 0.9927\n",
            "Epoch 11/30\n",
            "466/469 [============================>.] - ETA: 0s - loss: 0.0254 - acc: 0.9930\n",
            "Epoch 11: saving model to /content/drive/MyDrive/DLS_DATA/assign4/cp-11.hdf5\n",
            "469/469 [==============================] - 5s 10ms/step - loss: 0.0253 - acc: 0.9930\n",
            "Epoch 12/30\n",
            "466/469 [============================>.] - ETA: 0s - loss: 0.0216 - acc: 0.9942\n",
            "Epoch 12: saving model to /content/drive/MyDrive/DLS_DATA/assign4/cp-12.hdf5\n",
            "469/469 [==============================] - 4s 8ms/step - loss: 0.0216 - acc: 0.9942\n",
            "Epoch 13/30\n",
            "465/469 [============================>.] - ETA: 0s - loss: 0.0284 - acc: 0.9932\n",
            "Epoch 13: saving model to /content/drive/MyDrive/DLS_DATA/assign4/cp-13.hdf5\n",
            "469/469 [==============================] - 4s 9ms/step - loss: 0.0285 - acc: 0.9931\n",
            "Epoch 14/30\n",
            "466/469 [============================>.] - ETA: 0s - loss: 0.0225 - acc: 0.9940\n",
            "Epoch 14: saving model to /content/drive/MyDrive/DLS_DATA/assign4/cp-14.hdf5\n",
            "469/469 [==============================] - 4s 9ms/step - loss: 0.0225 - acc: 0.9940\n",
            "Epoch 15/30\n",
            "466/469 [============================>.] - ETA: 0s - loss: 0.0134 - acc: 0.9966\n",
            "Epoch 15: saving model to /content/drive/MyDrive/DLS_DATA/assign4/cp-15.hdf5\n",
            "469/469 [==============================] - 4s 8ms/step - loss: 0.0135 - acc: 0.9966\n",
            "Epoch 16/30\n",
            "462/469 [============================>.] - ETA: 0s - loss: 0.0161 - acc: 0.9959\n",
            "Epoch 16: saving model to /content/drive/MyDrive/DLS_DATA/assign4/cp-16.hdf5\n",
            "469/469 [==============================] - 5s 10ms/step - loss: 0.0161 - acc: 0.9959\n",
            "Epoch 17/30\n",
            "464/469 [============================>.] - ETA: 0s - loss: 0.0159 - acc: 0.9958\n",
            "Epoch 17: saving model to /content/drive/MyDrive/DLS_DATA/assign4/cp-17.hdf5\n",
            "469/469 [==============================] - 4s 9ms/step - loss: 0.0163 - acc: 0.9957\n",
            "Epoch 18/30\n",
            "459/469 [============================>.] - ETA: 0s - loss: 0.0162 - acc: 0.9956\n",
            "Epoch 18: saving model to /content/drive/MyDrive/DLS_DATA/assign4/cp-18.hdf5\n",
            "469/469 [==============================] - 4s 8ms/step - loss: 0.0160 - acc: 0.9956\n",
            "Epoch 19/30\n",
            "461/469 [============================>.] - ETA: 0s - loss: 0.0188 - acc: 0.9954\n",
            "Epoch 19: saving model to /content/drive/MyDrive/DLS_DATA/assign4/cp-19.hdf5\n",
            "469/469 [==============================] - 4s 8ms/step - loss: 0.0188 - acc: 0.9954\n",
            "Epoch 20/30\n",
            "461/469 [============================>.] - ETA: 0s - loss: 0.0136 - acc: 0.9964\n",
            "Epoch 20: saving model to /content/drive/MyDrive/DLS_DATA/assign4/cp-20.hdf5\n",
            "469/469 [==============================] - 4s 8ms/step - loss: 0.0135 - acc: 0.9964\n",
            "Epoch 21/30\n",
            "464/469 [============================>.] - ETA: 0s - loss: 0.0164 - acc: 0.9956\n",
            "Epoch 21: saving model to /content/drive/MyDrive/DLS_DATA/assign4/cp-21.hdf5\n",
            "469/469 [==============================] - 5s 11ms/step - loss: 0.0163 - acc: 0.9956\n",
            "Epoch 22/30\n",
            "459/469 [============================>.] - ETA: 0s - loss: 0.0147 - acc: 0.9966\n",
            "Epoch 22: saving model to /content/drive/MyDrive/DLS_DATA/assign4/cp-22.hdf5\n",
            "469/469 [==============================] - 3s 7ms/step - loss: 0.0146 - acc: 0.9966\n",
            "Epoch 23/30\n",
            "465/469 [============================>.] - ETA: 0s - loss: 0.0129 - acc: 0.9970\n",
            "Epoch 23: saving model to /content/drive/MyDrive/DLS_DATA/assign4/cp-23.hdf5\n",
            "469/469 [==============================] - 4s 8ms/step - loss: 0.0128 - acc: 0.9970\n",
            "Epoch 24/30\n",
            "459/469 [============================>.] - ETA: 0s - loss: 0.0168 - acc: 0.9961\n",
            "Epoch 24: saving model to /content/drive/MyDrive/DLS_DATA/assign4/cp-24.hdf5\n",
            "469/469 [==============================] - 4s 9ms/step - loss: 0.0171 - acc: 0.9961\n",
            "Epoch 25/30\n",
            "468/469 [============================>.] - ETA: 0s - loss: 0.0169 - acc: 0.9963\n",
            "Epoch 25: saving model to /content/drive/MyDrive/DLS_DATA/assign4/cp-25.hdf5\n",
            "469/469 [==============================] - 4s 8ms/step - loss: 0.0169 - acc: 0.9963\n",
            "Epoch 26/30\n",
            "464/469 [============================>.] - ETA: 0s - loss: 0.0107 - acc: 0.9972\n",
            "Epoch 26: saving model to /content/drive/MyDrive/DLS_DATA/assign4/cp-26.hdf5\n",
            "469/469 [==============================] - 5s 11ms/step - loss: 0.0106 - acc: 0.9973\n",
            "Epoch 27/30\n",
            "466/469 [============================>.] - ETA: 0s - loss: 0.0144 - acc: 0.9969\n",
            "Epoch 27: saving model to /content/drive/MyDrive/DLS_DATA/assign4/cp-27.hdf5\n",
            "469/469 [==============================] - 5s 11ms/step - loss: 0.0145 - acc: 0.9969\n",
            "Epoch 28/30\n",
            "468/469 [============================>.] - ETA: 0s - loss: 0.0157 - acc: 0.9968\n",
            "Epoch 28: saving model to /content/drive/MyDrive/DLS_DATA/assign4/cp-28.hdf5\n",
            "469/469 [==============================] - 4s 9ms/step - loss: 0.0157 - acc: 0.9968\n",
            "Epoch 29/30\n",
            "469/469 [==============================] - ETA: 0s - loss: 0.0083 - acc: 0.9983\n",
            "Epoch 29: saving model to /content/drive/MyDrive/DLS_DATA/assign4/cp-29.hdf5\n",
            "469/469 [==============================] - 4s 9ms/step - loss: 0.0083 - acc: 0.9983\n",
            "Epoch 30/30\n",
            "457/469 [============================>.] - ETA: 0s - loss: 0.0074 - acc: 0.9983\n",
            "Epoch 30: saving model to /content/drive/MyDrive/DLS_DATA/assign4/cp-30.hdf5\n",
            "469/469 [==============================] - 5s 12ms/step - loss: 0.0078 - acc: 0.9982\n"
          ]
        }
      ]
    },
    {
      "cell_type": "code",
      "source": [
        "def compress_weights(weight):\n",
        "    S, U, V = tf.linalg.svd(weight)\n",
        "    S = tf.linalg.diag(S)\n",
        "    V = tf.transpose(V)\n",
        "    return S,U,V"
      ],
      "metadata": {
        "id": "dfkhSNsNN8dF"
      },
      "execution_count": null,
      "outputs": []
    },
    {
      "cell_type": "code",
      "source": [
        "S_list = []\n",
        "U_list = []\n",
        "V_list = []\n",
        "B_list = []\n",
        "for i in range(1,6):\n",
        "    weights = model.layers[i].weights[0]\n",
        "    # print(i,weights)\n",
        "    bias = model.layers[i].bias.numpy()\n",
        "    S,U,V = compress_weights(weights)\n",
        "    S_list.append(S)\n",
        "    U_list.append(U)\n",
        "    V_list.append(V)\n",
        "    B_list.append(bias)"
      ],
      "metadata": {
        "id": "Kc9kP8wgGRTU"
      },
      "execution_count": null,
      "outputs": []
    },
    {
      "cell_type": "code",
      "source": [
        "rank_values = [10,20,50,100,200]\n",
        "acc_val = []\n",
        "for value in rank_values:\n",
        "    W_1 = tf.matmul(tf.matmul(U_list[0][:, :value], S_list[0][:value, :value]), V_list[0][:value, :])\n",
        "    model.get_layer(index=1).set_weights([W_1,B_list[0]])\n",
        "    W_2 = tf.matmul(tf.matmul(U_list[1][:, :value], S_list[1][:value, :value]), V_list[1][:value, :])\n",
        "    model.get_layer(index=2).set_weights([W_2,B_list[1]])\n",
        "    W_3 = tf.matmul(tf.matmul(U_list[2][:, :value], S_list[2][:value, :value]), V_list[2][:value, :])\n",
        "    model.get_layer(index=3).set_weights([W_3,B_list[2]])\n",
        "    W_4 = tf.matmul(tf.matmul(U_list[3][:, :value], S_list[3][:value, :value]), V_list[3][:value, :])\n",
        "    model.get_layer(index=4).set_weights([W_4,B_list[3]])\n",
        "    W_5 = tf.matmul(tf.matmul(U_list[4][:, :value], S_list[4][:value, :value]), V_list[4][:value, :])\n",
        "    model.get_layer(index=5).set_weights([W_5,B_list[4]])\n",
        "    acc_val.append(model.evaluate(x_test,y_test,verbose = 1)[1])"
      ],
      "metadata": {
        "colab": {
          "base_uri": "https://localhost:8080/"
        },
        "id": "KolGwbs5GRXu",
        "outputId": "5739b3e5-4996-4b2a-d39d-6e74a37e9cb0"
      },
      "execution_count": null,
      "outputs": [
        {
          "output_type": "stream",
          "name": "stdout",
          "text": [
            "313/313 [==============================] - 1s 3ms/step - loss: 1.5026 - acc: 0.5346\n",
            "313/313 [==============================] - 1s 3ms/step - loss: 0.2934 - acc: 0.9347\n",
            "313/313 [==============================] - 1s 3ms/step - loss: 0.1069 - acc: 0.9800\n",
            "313/313 [==============================] - 1s 3ms/step - loss: 0.1190 - acc: 0.9823\n",
            "313/313 [==============================] - 1s 3ms/step - loss: 0.1355 - acc: 0.9822\n"
          ]
        }
      ]
    },
    {
      "cell_type": "code",
      "source": [
        "W_1 = tf.matmul(tf.matmul(U_list[0], S_list[0]), V_list[0])\n",
        "W_2 = tf.matmul(tf.matmul(U_list[1], S_list[1]), V_list[1])\n",
        "W_3 = tf.matmul(tf.matmul(U_list[2], S_list[2]), V_list[2])\n",
        "W_4 = tf.matmul(tf.matmul(U_list[3], S_list[3]), V_list[3])\n",
        "W_5 = tf.matmul(tf.matmul(U_list[4], S_list[4]), V_list[4])\n",
        "\n",
        "\n",
        "model.get_layer(index=1).set_weights([W_1,B_list[0]])\n",
        "model.get_layer(index=2).set_weights([W_2,B_list[1]])\n",
        "model.get_layer(index=3).set_weights([W_3,B_list[2]])\n",
        "model.get_layer(index=4).set_weights([W_4,B_list[3]])\n",
        "model.get_layer(index=5).set_weights([W_5,B_list[4]])\n",
        "\n",
        "acc_val.append(model.evaluate(x_test,y_test,verbose = 1)[1])"
      ],
      "metadata": {
        "colab": {
          "base_uri": "https://localhost:8080/"
        },
        "id": "vOdiwgYpGRZ0",
        "outputId": "aa5b076f-c005-44dd-a428-c9c8bbed94f1"
      },
      "execution_count": null,
      "outputs": [
        {
          "output_type": "stream",
          "name": "stdout",
          "text": [
            "313/313 [==============================] - 1s 3ms/step - loss: 0.1580 - acc: 0.9825\n"
          ]
        }
      ]
    },
    {
      "cell_type": "code",
      "source": [
        "fig, ax = plt.subplots()\n",
        "ax.plot(acc_val)\n",
        "ax.set_ylabel(\"Accuracy For Approximated Weights\")\n",
        "ax.set_xlabel(\"D Value\")\n",
        "x = [0,10,20,50,100,200,'Full']\n",
        "ax.set_xticklabels(x)\n",
        "plt.show()"
      ],
      "metadata": {
        "colab": {
          "base_uri": "https://localhost:8080/",
          "height": 282
        },
        "id": "oRSDyvVDGRcy",
        "outputId": "eababa82-f399-4459-dd31-3f375f57d5d2"
      },
      "execution_count": null,
      "outputs": [
        {
          "output_type": "display_data",
          "data": {
            "text/plain": [
              "<Figure size 432x288 with 1 Axes>"
            ],
            "image/png": "[encoded data removed]"
          },
          "metadata": {
            "needs_background": "light"
          }
        }
      ]
    },
    {
      "cell_type": "markdown",
      "source": [
        "P2: Network Compression Using SVD"
      ],
      "metadata": {
        "id": "eguEvcWu8Sr5"
      }
    },
    {
      "cell_type": "code",
      "source": [
        "S1,U1,V1 = tf.linalg.svd(model.layers[1].weights[0])\n",
        "S2,U2,V2 = tf.linalg.svd(model.layers[2].weights[0])\n",
        "S3,U3,V3 = tf.linalg.svd(model.layers[3].weights[0])\n",
        "S4,U4,V4 = tf.linalg.svd(model.layers[4].weights[0])\n",
        "S5,U5,V5 = tf.linalg.svd(model.layers[5].weights[0])\n",
        "\n",
        "rank = 20\n",
        "\n",
        "s_1 = tf.linalg.diag(S1)[:rank, :rank]\n",
        "s_2 = tf.linalg.diag(S2)[:rank, :rank]\n",
        "s_3 = tf.linalg.diag(S3)[:rank, :rank]\n",
        "s_4 = tf.linalg.diag(S4)[:rank, :rank]\n",
        "s_5 = tf.linalg.diag(S5)[:rank, :rank]\n",
        "\n",
        "v_1 = tf.transpose(V1)[:rank, :]\n",
        "v_2 = tf.transpose(V2)[:rank, :]\n",
        "v_3 = tf.transpose(V3)[:rank, :]\n",
        "v_4 = tf.transpose(V4)[:rank, :]\n",
        "v_5 = tf.transpose(V5)[:rank, :]\n",
        "\n",
        "\n",
        "v_s1 = tf.matmul(s_1,v_1)\n",
        "v_s2 = tf.matmul(s_2,v_2)\n",
        "v_s3 = tf.matmul(s_3,v_3)\n",
        "v_s4 = tf.matmul(s_4,v_4)\n",
        "v_s5 = tf.matmul(s_5,v_5)\n",
        "\n",
        "u_1 = U1[:, :rank]\n",
        "u_2 = U2[:, :rank]\n",
        "u_3 = U3[:, :rank]\n",
        "u_4 = U4[:, :rank]\n",
        "u_5 = U5[:, :rank]\n",
        "\n",
        "B1 = model.layers[1].bias\n",
        "B2 = model.layers[2].bias\n",
        "B3 = model.layers[3].bias\n",
        "B4 = model.layers[4].bias\n",
        "B5 = model.layers[5].bias"
      ],
      "metadata": {
        "id": "8igDlOuYGRoT"
      },
      "execution_count": null,
      "outputs": []
    },
    {
      "cell_type": "code",
      "source": [
        "print(u_1.shape)\n",
        "print(v_1.shape)"
      ],
      "metadata": {
        "colab": {
          "base_uri": "https://localhost:8080/"
        },
        "id": "iYJ83g9WBM_E",
        "outputId": "2d6156fc-87c7-4799-8090-b6270e288b02"
      },
      "execution_count": null,
      "outputs": [
        {
          "output_type": "stream",
          "name": "stdout",
          "text": [
            "(784, 20)\n",
            "(20, 1024)\n"
          ]
        }
      ]
    },
    {
      "cell_type": "code",
      "source": [
        "weights =[]\n",
        "weights.append(u_1)\n",
        "weights.append(v_s1)\n",
        "weights.append(u_2)\n",
        "weights.append(v_s2)\n",
        "weights.append(u_3)\n",
        "weights.append(v_s3)\n",
        "weights.append(u_4)\n",
        "weights.append(v_s4)\n",
        "weights.append(u_5)\n",
        "weights.append(v_s5)"
      ],
      "metadata": {
        "id": "6mmmAg9rBhgr"
      },
      "execution_count": null,
      "outputs": []
    },
    {
      "cell_type": "code",
      "source": [
        "model1 = tf.keras.Sequential([\n",
        "    tf.keras.layers.Flatten(input_shape=(28,28)),\n",
        "\n",
        "    tf.keras.layers.Dense(units=20),\n",
        "    tf.keras.layers.Dense(units=1024,activation='relu'),\n",
        "\n",
        "    tf.keras.layers.Dense(units=20),\n",
        "    tf.keras.layers.Dense(units=1024,activation='relu'),\n",
        "\n",
        "    tf.keras.layers.Dense(units=20),\n",
        "    tf.keras.layers.Dense(units=1024,activation='relu'),\n",
        "\n",
        "    tf.keras.layers.Dense(units=20),\n",
        "    tf.keras.layers.Dense(units=1024,activation='relu'),\n",
        "\n",
        "    tf.keras.layers.Dense(units=20),\n",
        "    tf.keras.layers.Dense(units=1024,activation='relu'),\n",
        "    \n",
        "    tf.keras.layers.Dense(units=10,activation='softmax')\n",
        "  ])"
      ],
      "metadata": {
        "id": "p3X1SJgmGRsf"
      },
      "execution_count": null,
      "outputs": []
    },
    {
      "cell_type": "code",
      "source": [
        "model1.summary()"
      ],
      "metadata": {
        "colab": {
          "base_uri": "https://localhost:8080/"
        },
        "id": "VwCefP4CGRwo",
        "outputId": "8dbfcd17-5c5f-42ee-a47b-91a7b9e652bd"
      },
      "execution_count": null,
      "outputs": [
        {
          "output_type": "stream",
          "name": "stdout",
          "text": [
            "Model: \"sequential_1\"\n",
            "_________________________________________________________________\n",
            " Layer (type)                Output Shape              Param #   \n",
            "=================================================================\n",
            " flatten_1 (Flatten)         (None, 784)               0         \n",
            "                                                                 \n",
            " dense_6 (Dense)             (None, 20)                15700     \n",
            "                                                                 \n",
            " dense_7 (Dense)             (None, 1024)              21504     \n",
            "                                                                 \n",
            " dense_8 (Dense)             (None, 20)                20500     \n",
            "                                                                 \n",
            " dense_9 (Dense)             (None, 1024)              21504     \n",
            "                                                                 \n",
            " dense_10 (Dense)            (None, 20)                20500     \n",
            "                                                                 \n",
            " dense_11 (Dense)            (None, 1024)              21504     \n",
            "                                                                 \n",
            " dense_12 (Dense)            (None, 20)                20500     \n",
            "                                                                 \n",
            " dense_13 (Dense)            (None, 1024)              21504     \n",
            "                                                                 \n",
            " dense_14 (Dense)            (None, 20)                20500     \n",
            "                                                                 \n",
            " dense_15 (Dense)            (None, 1024)              21504     \n",
            "                                                                 \n",
            " dense_16 (Dense)            (None, 10)                10250     \n",
            "                                                                 \n",
            "=================================================================\n",
            "Total params: 215,470\n",
            "Trainable params: 215,470\n",
            "Non-trainable params: 0\n",
            "_________________________________________________________________\n"
          ]
        }
      ]
    },
    {
      "cell_type": "code",
      "source": [
        "bias = [None]*10\n",
        "bias[1] = B1\n",
        "bias[3] = B2\n",
        "bias[5] = B3\n",
        "bias[7] = B4\n",
        "bias[9] = B5\n",
        "temp_bias = []\n",
        "for i in range(1,len(model1.layers)-1):\n",
        "    temp_bias.append(model1.layers[i].bias)\n",
        "bias[0] = temp_bias[0]\n",
        "bias[2] = temp_bias[2]\n",
        "bias[4] = temp_bias[4]\n",
        "bias[6] = temp_bias[6]\n",
        "bias[8] = temp_bias[8]"
      ],
      "metadata": {
        "id": "Mn-niOqmGRzI"
      },
      "execution_count": null,
      "outputs": []
    },
    {
      "cell_type": "code",
      "source": [
        "for i in range(len(weights)):\n",
        "  model1.layers[i+1].set_weights([weights[i],bias[i]])"
      ],
      "metadata": {
        "id": "3IhCWnDtGR3O"
      },
      "execution_count": null,
      "outputs": []
    },
    {
      "cell_type": "code",
      "source": [
        "model1.compile(optimizer=tf.keras.optimizers.Adam(learning_rate=0.0001),\n",
        "               loss = tf.losses.SparseCategoricalCrossentropy(from_logits=False),\n",
        "               metrics=['accuracy'])"
      ],
      "metadata": {
        "id": "fzLh-8u5GR5k"
      },
      "execution_count": null,
      "outputs": []
    },
    {
      "cell_type": "code",
      "source": [
        "history1 = model1.fit(x_train,y_train,epochs = 30, batch_size = 128 )"
      ],
      "metadata": {
        "colab": {
          "base_uri": "https://localhost:8080/"
        },
        "id": "hCtGOGKzGR88",
        "outputId": "19b87fa8-29d7-455b-9ddc-7d8c58ece6ef"
      },
      "execution_count": null,
      "outputs": [
        {
          "output_type": "stream",
          "name": "stdout",
          "text": [
            "Epoch 1/30\n",
            "469/469 [==============================] - 2s 4ms/step - loss: 0.4716 - accuracy: 0.8543\n",
            "Epoch 2/30\n",
            "469/469 [==============================] - 2s 4ms/step - loss: 0.0889 - accuracy: 0.9785\n",
            "Epoch 3/30\n",
            "469/469 [==============================] - 2s 4ms/step - loss: 0.0652 - accuracy: 0.9826\n",
            "Epoch 4/30\n",
            "469/469 [==============================] - 2s 4ms/step - loss: 0.0522 - accuracy: 0.9857\n",
            "Epoch 5/30\n",
            "469/469 [==============================] - 2s 4ms/step - loss: 0.0430 - accuracy: 0.9877\n",
            "Epoch 6/30\n",
            "469/469 [==============================] - 2s 4ms/step - loss: 0.0364 - accuracy: 0.9889\n",
            "Epoch 7/30\n",
            "469/469 [==============================] - 2s 4ms/step - loss: 0.0311 - accuracy: 0.9905\n",
            "Epoch 8/30\n",
            "469/469 [==============================] - 2s 4ms/step - loss: 0.0267 - accuracy: 0.9916\n",
            "Epoch 9/30\n",
            "469/469 [==============================] - 2s 4ms/step - loss: 0.0235 - accuracy: 0.9926\n",
            "Epoch 10/30\n",
            "469/469 [==============================] - 2s 4ms/step - loss: 0.0194 - accuracy: 0.9940\n",
            "Epoch 11/30\n",
            "469/469 [==============================] - 2s 4ms/step - loss: 0.0181 - accuracy: 0.9944\n",
            "Epoch 12/30\n",
            "469/469 [==============================] - 2s 5ms/step - loss: 0.0152 - accuracy: 0.9951\n",
            "Epoch 13/30\n",
            "469/469 [==============================] - 2s 5ms/step - loss: 0.0148 - accuracy: 0.9953\n",
            "Epoch 14/30\n",
            "469/469 [==============================] - 2s 4ms/step - loss: 0.0115 - accuracy: 0.9963\n",
            "Epoch 15/30\n",
            "469/469 [==============================] - 2s 4ms/step - loss: 0.0116 - accuracy: 0.9964\n",
            "Epoch 16/30\n",
            "469/469 [==============================] - 2s 4ms/step - loss: 0.0092 - accuracy: 0.9972\n",
            "Epoch 17/30\n",
            "469/469 [==============================] - 2s 4ms/step - loss: 0.0097 - accuracy: 0.9969\n",
            "Epoch 18/30\n",
            "469/469 [==============================] - 2s 4ms/step - loss: 0.0071 - accuracy: 0.9977\n",
            "Epoch 19/30\n",
            "469/469 [==============================] - 2s 4ms/step - loss: 0.0078 - accuracy: 0.9974\n",
            "Epoch 20/30\n",
            "469/469 [==============================] - 2s 4ms/step - loss: 0.0077 - accuracy: 0.9975\n",
            "Epoch 21/30\n",
            "469/469 [==============================] - 2s 4ms/step - loss: 0.0091 - accuracy: 0.9971\n",
            "Epoch 22/30\n",
            "469/469 [==============================] - 2s 4ms/step - loss: 0.0059 - accuracy: 0.9979\n",
            "Epoch 23/30\n",
            "469/469 [==============================] - 2s 4ms/step - loss: 0.0038 - accuracy: 0.9987\n",
            "Epoch 24/30\n",
            "469/469 [==============================] - 2s 4ms/step - loss: 0.0054 - accuracy: 0.9985\n",
            "Epoch 25/30\n",
            "469/469 [==============================] - 2s 4ms/step - loss: 0.0067 - accuracy: 0.9978\n",
            "Epoch 26/30\n",
            "469/469 [==============================] - 2s 4ms/step - loss: 0.0054 - accuracy: 0.9984\n",
            "Epoch 27/30\n",
            "469/469 [==============================] - 2s 4ms/step - loss: 0.0039 - accuracy: 0.9989\n",
            "Epoch 28/30\n",
            "469/469 [==============================] - 2s 4ms/step - loss: 0.0066 - accuracy: 0.9980\n",
            "Epoch 29/30\n",
            "469/469 [==============================] - 2s 4ms/step - loss: 0.0044 - accuracy: 0.9986\n",
            "Epoch 30/30\n",
            "469/469 [==============================] - 2s 4ms/step - loss: 0.0034 - accuracy: 0.9990\n"
          ]
        }
      ]
    },
    {
      "cell_type": "code",
      "source": [
        "test_acc = model1.evaluate(x_test,y_test)\n",
        "print(\"Test Accuracy:\",test_acc[1])"
      ],
      "metadata": {
        "colab": {
          "base_uri": "https://localhost:8080/"
        },
        "id": "uuuClRekGR_9",
        "outputId": "883056ec-4f29-4a79-adc2-b24188e3e961"
      },
      "execution_count": null,
      "outputs": [
        {
          "output_type": "stream",
          "name": "stdout",
          "text": [
            "313/313 [==============================] - 1s 3ms/step - loss: 0.2778 - accuracy: 0.9802\n",
            "Test Accuracy: 0.9801999926567078\n"
          ]
        }
      ]
    },
    {
      "cell_type": "code",
      "source": [
        "plt.plot(history1.history['loss'],'bo',color='red')\n",
        "plt.ylabel(\"Loss\")\n",
        "plt.xlabel(\"Epochs\")\n",
        "plt.title(\"Training-time Loss\")\n",
        "plt.show()"
      ],
      "metadata": {
        "colab": {
          "base_uri": "https://localhost:8080/",
          "height": 295
        },
        "id": "IUqLVwszGSDU",
        "outputId": "de8bba51-1c07-4a34-eedb-2b134cb325f9"
      },
      "execution_count": null,
      "outputs": [
        {
          "output_type": "display_data",
          "data": {
            "text/plain": [
              "<Figure size 432x288 with 1 Axes>"
            ],
            "image/png": "[encoded data removed]"
          },
          "metadata": {
            "needs_background": "light"
          }
        }
      ]
    },
    {
      "cell_type": "code",
      "source": [],
      "metadata": {
        "id": "7bBYJDqFGSGK"
      },
      "execution_count": null,
      "outputs": []
    },
    {
      "cell_type": "code",
      "source": [],
      "metadata": {
        "id": "l16ojwg0GSJL"
      },
      "execution_count": null,
      "outputs": []
    },
    {
      "cell_type": "code",
      "source": [],
      "metadata": {
        "id": "N-pkcDf6GSNe"
      },
      "execution_count": null,
      "outputs": []
    },
    {
      "cell_type": "markdown",
      "source": [
        "P3:  Network Compression Using SVD"
      ],
      "metadata": {
        "id": "tmj8D4vjGt0s"
      }
    },
    {
      "cell_type": "code",
      "source": [
        "model_path = '/content/drive/MyDrive/DLS_DATA/assign4/cp-30.hdf5'"
      ],
      "metadata": {
        "id": "AAtvGAdSGSRi"
      },
      "execution_count": 7,
      "outputs": []
    },
    {
      "cell_type": "code",
      "source": [
        "model = tf.keras.models.Sequential([\n",
        "  tf.keras.layers.Flatten(input_shape=(28, 28)),\n",
        "  tf.keras.layers.Dense(1024, activation='relu'),\n",
        "  tf.keras.layers.Dense(1024,activation='relu'),\n",
        "  tf.keras.layers.Dense(1024,activation='relu'),\n",
        "  tf.keras.layers.Dense(1024,activation='relu'),\n",
        "  tf.keras.layers.Dense(1024,activation='relu'),\n",
        "  tf.keras.layers.Dense(10)\n",
        "])"
      ],
      "metadata": {
        "id": "80gJNEo0-7tq"
      },
      "execution_count": 8,
      "outputs": []
    },
    {
      "cell_type": "code",
      "source": [
        "model.compile(optimizer='adam',loss=tf.keras.losses.SparseCategoricalCrossentropy(from_logits=False),metrics=['accuracy'])"
      ],
      "metadata": {
        "id": "YbYla4Lu-_sR"
      },
      "execution_count": 9,
      "outputs": []
    },
    {
      "cell_type": "code",
      "source": [
        "model.load_weights(model_path)\n",
        "# model.summary()"
      ],
      "metadata": {
        "id": "GcEKnKYCIZmQ"
      },
      "execution_count": 10,
      "outputs": []
    },
    {
      "cell_type": "code",
      "source": [
        "evaluation = model.evaluate(x_test , y_test)"
      ],
      "metadata": {
        "id": "JKvZEcypIZqY",
        "colab": {
          "base_uri": "https://localhost:8080/"
        },
        "outputId": "8c4f0166-1285-4e5f-d605-2d19d890a850"
      },
      "execution_count": 11,
      "outputs": [
        {
          "output_type": "stream",
          "name": "stdout",
          "text": [
            "313/313 [==============================] - 5s 4ms/step - loss: 0.2334 - accuracy: 0.9825\n"
          ]
        }
      ]
    },
    {
      "cell_type": "code",
      "source": [
        "W1 = model.layers[1].get_weights()[0]\n",
        "W2 = model.layers[2].get_weights()[0]\n",
        "W3 = model.layers[3].get_weights()[0]\n",
        "W4 = model.layers[4].get_weights()[0]\n",
        "W5 = model.layers[5].get_weights()[0]\n",
        "\n",
        "\n",
        "B1 = model.layers[1].get_weights()[1]\n",
        "B2 = model.layers[2].get_weights()[1]\n",
        "B3 = model.layers[3].get_weights()[1]\n",
        "B4 = model.layers[4].get_weights()[1]\n",
        "B5 = model.layers[5].get_weights()[1]"
      ],
      "metadata": {
        "id": "jnoIGyWWIZuY"
      },
      "execution_count": 12,
      "outputs": []
    },
    {
      "cell_type": "code",
      "source": [
        "@tf.custom_gradient\n",
        "def customgrad(weight):\n",
        "  s , U, v = tf.linalg.svd(weight)\n",
        "  S = tf.linalg.diag(s)\n",
        "  V = tf.transpose(v)\n",
        "  W = tf.matmul(tf.matmul(U[:,:20], S[:20,:20]), V[:20,:])\n",
        "\n",
        "    #backprop\n",
        "  def grad(dy):\n",
        "    gradient = dy\n",
        "    return gradient\n",
        "\n",
        "  return W, grad\n",
        "\n",
        "\n",
        "class MyDense(tf.keras.layers.Layer):\n",
        "  def __init__(self, units, activation,W,B):\n",
        "        super(MyDense, self).__init__()\n",
        "        self.units = units\n",
        "        W = tf.Variable(W, name='Weights')\n",
        "        B = tf.Variable(B, name='Biases')\n",
        "        self.w = W\n",
        "        self.b = B\n",
        "        self.activation=activation\n",
        "\n",
        "\n",
        "  # def weight_biases(self, input_shape,W,B):\n",
        "  #       #w_init = tf.random_normal_initializer()\n",
        "\n",
        "\n",
        "  def call(self, inputs):\n",
        "        W_svd = customgrad(self.w)\n",
        "        out = tf.matmul(inputs,W_svd) + self.b\n",
        "        return self.activation(out)"
      ],
      "metadata": {
        "id": "xiuawVbjIZx-"
      },
      "execution_count": 13,
      "outputs": []
    },
    {
      "cell_type": "code",
      "source": [
        "model_2 = tf.keras.Sequential([\n",
        "    layers.Flatten(input_shape=(28, 28)),\n",
        "    MyDense(1024,tf.nn.relu,W1,B1),\n",
        "    MyDense(1024,tf.nn.relu,W2,B2),\n",
        "    MyDense(1024,tf.nn.relu,W3,B3),\n",
        "    MyDense(1024,tf.nn.relu,W4,B4),\n",
        "    MyDense(1024,tf.nn.relu,W5,B5),\n",
        "    layers.Dense(10, name='output' ,activation='softmax')\n",
        "])\n",
        "\n",
        "print(model_2.summary())"
      ],
      "metadata": {
        "id": "XyN0As0nIZ1k",
        "colab": {
          "base_uri": "https://localhost:8080/"
        },
        "outputId": "ff6cf4fd-3959-4db4-f7b7-d56a7c456044"
      },
      "execution_count": 14,
      "outputs": [
        {
          "output_type": "stream",
          "name": "stdout",
          "text": [
            "Model: \"sequential_1\"\n",
            "_________________________________________________________________\n",
            " Layer (type)                Output Shape              Param #   \n",
            "=================================================================\n",
            " flatten_1 (Flatten)         (None, 784)               0         \n",
            "                                                                 \n",
            " my_dense (MyDense)          (None, 1024)              803840    \n",
            "                                                                 \n",
            " my_dense_1 (MyDense)        (None, 1024)              1049600   \n",
            "                                                                 \n",
            " my_dense_2 (MyDense)        (None, 1024)              1049600   \n",
            "                                                                 \n",
            " my_dense_3 (MyDense)        (None, 1024)              1049600   \n",
            "                                                                 \n",
            " my_dense_4 (MyDense)        (None, 1024)              1049600   \n",
            "                                                                 \n",
            " output (Dense)              (None, 10)                10250     \n",
            "                                                                 \n",
            "=================================================================\n",
            "Total params: 5,012,490\n",
            "Trainable params: 5,012,490\n",
            "Non-trainable params: 0\n",
            "_________________________________________________________________\n",
            "None\n"
          ]
        }
      ]
    },
    {
      "cell_type": "code",
      "source": [
        "model_2.compile(optimizer='adam',loss=tf.keras.losses.SparseCategoricalCrossentropy(from_logits=False),metrics=['accuracy'])\n",
        "\n",
        "history = model_2.fit(x_train, y_train, batch_size=512, epochs=5,verbose=True)"
      ],
      "metadata": {
        "id": "BiQ3ZlzPIZ5d",
        "colab": {
          "base_uri": "https://localhost:8080/"
        },
        "outputId": "a678d2e8-e9d6-43aa-c7e4-0a2b0aa1a06c"
      },
      "execution_count": 15,
      "outputs": [
        {
          "output_type": "stream",
          "name": "stdout",
          "text": [
            "Epoch 1/5\n",
            "118/118 [==============================] - 348s 3s/step - loss: 0.4348 - accuracy: 0.8889\n",
            "Epoch 2/5\n",
            "118/118 [==============================] - 339s 3s/step - loss: 0.0681 - accuracy: 0.9817\n",
            "Epoch 3/5\n",
            "118/118 [==============================] - 340s 3s/step - loss: 0.0550 - accuracy: 0.9836\n",
            "Epoch 4/5\n",
            "118/118 [==============================] - 340s 3s/step - loss: 0.0514 - accuracy: 0.9849\n",
            "Epoch 5/5\n",
            "118/118 [==============================] - 339s 3s/step - loss: 0.0471 - accuracy: 0.9861\n"
          ]
        }
      ]
    },
    {
      "cell_type": "code",
      "source": [
        "evaluation = model_2.evaluate(x_test , y_test)"
      ],
      "metadata": {
        "id": "QkqscPQdIZ9E",
        "colab": {
          "base_uri": "https://localhost:8080/"
        },
        "outputId": "dbf74dfe-9c77-43a4-d92d-c596cf58098c"
      },
      "execution_count": 16,
      "outputs": [
        {
          "output_type": "stream",
          "name": "stdout",
          "text": [
            "313/313 [==============================] - 900s 3s/step - loss: 0.0911 - accuracy: 0.9775\n"
          ]
        }
      ]
    },
    {
      "cell_type": "code",
      "source": [],
      "metadata": {
        "id": "Mp6BK5sRIbUZ"
      },
      "execution_count": null,
      "outputs": []
    },
    {
      "cell_type": "markdown",
      "source": [
        "P4: Speaker Verification"
      ],
      "metadata": {
        "id": "tmri6ETvZtyM"
      }
    },
    {
      "cell_type": "code",
      "execution_count": null,
      "metadata": {
        "id": "rXFYzsy6ZL_E"
      },
      "outputs": [],
      "source": [
        "import gzip\n",
        "import pickle\n",
        "import random\n",
        "from itertools import combinations,product"
      ]
    },
    {
      "cell_type": "code",
      "source": [
        "with open('/content/drive/MyDrive/DLS_DATA/assign4/training/hw4_trs.pkl', 'rb') as f:\n",
        "    x_train = pickle.load(f)"
      ],
      "metadata": {
        "id": "gTgkLb6KGOnk"
      },
      "execution_count": null,
      "outputs": []
    },
    {
      "cell_type": "code",
      "source": [
        "print(x_train.shape)"
      ],
      "metadata": {
        "colab": {
          "base_uri": "https://localhost:8080/"
        },
        "id": "6bN_an55ZX9z",
        "outputId": "30a0838e-a39a-4a0f-c3be-93afd9299d6c"
      },
      "execution_count": null,
      "outputs": [
        {
          "output_type": "stream",
          "name": "stdout",
          "text": [
            "(500, 16180)\n"
          ]
        }
      ]
    },
    {
      "cell_type": "code",
      "source": [
        "y_train = np.zeros((500,1))\n",
        "idx=0\n",
        "for i in range(0,50):\n",
        "    for j in range(0,10):\n",
        "        y_train[idx]=i\n",
        "        idx+=1\n",
        "print(y_train.shape)"
      ],
      "metadata": {
        "colab": {
          "base_uri": "https://localhost:8080/"
        },
        "id": "Xz24JGQ2ZXtC",
        "outputId": "fdf5ea3a-1360-4f88-ef94-e49b9576dd15"
      },
      "execution_count": null,
      "outputs": [
        {
          "output_type": "stream",
          "name": "stdout",
          "text": [
            "(500, 1)\n"
          ]
        }
      ]
    },
    {
      "cell_type": "code",
      "source": [
        "with open('/content/drive/MyDrive/DLS_DATA/assign4/training/hw4_tes.pkl', 'rb') as f:\n",
        "    x_test = pickle.load(f)"
      ],
      "metadata": {
        "id": "d3GGgHZVZXZ7"
      },
      "execution_count": null,
      "outputs": []
    },
    {
      "cell_type": "code",
      "source": [
        "print(x_test.shape)"
      ],
      "metadata": {
        "colab": {
          "base_uri": "https://localhost:8080/"
        },
        "id": "I_9ssD4eXH8F",
        "outputId": "6b2d7987-8ed7-49a3-90f7-c27c5d2bddb4"
      },
      "execution_count": null,
      "outputs": [
        {
          "output_type": "stream",
          "name": "stdout",
          "text": [
            "(200, 22631)\n"
          ]
        }
      ]
    },
    {
      "cell_type": "code",
      "source": [
        "y_test = np.zeros((200,1))\n",
        "idx=0\n",
        "for i in range(0,20):\n",
        "    for j in range(0,10):\n",
        "        y_test[idx]=i\n",
        "        idx+=1\n",
        "print(y_test.shape)"
      ],
      "metadata": {
        "colab": {
          "base_uri": "https://localhost:8080/"
        },
        "id": "vHVkYLeeZXSM",
        "outputId": "9514fe75-fc32-490d-d9cc-bab72934baa2"
      },
      "execution_count": null,
      "outputs": [
        {
          "output_type": "stream",
          "name": "stdout",
          "text": [
            "(200, 1)\n"
          ]
        }
      ]
    },
    {
      "cell_type": "code",
      "source": [
        "x_train_stft = np.zeros(shape=(500,45,513))\n",
        "for i in range(x_train.shape[0]):\n",
        "    x = x_train[i,:]\n",
        "    X_complex = librosa.stft(x, n_fft=1024, hop_length=512)\n",
        "    X = np.abs(X_complex).T\n",
        "    x_train_stft[i,:,:] = np.pad(X,((0,13),(0,0)), 'constant')\n",
        "print(x_train_stft.shape)"
      ],
      "metadata": {
        "colab": {
          "base_uri": "https://localhost:8080/"
        },
        "id": "1TWBjXxgZXIt",
        "outputId": "ca8ba19f-aac9-401c-85b7-290d92f7d7e8"
      },
      "execution_count": null,
      "outputs": [
        {
          "output_type": "stream",
          "name": "stdout",
          "text": [
            "(500, 45, 513)\n"
          ]
        }
      ]
    },
    {
      "cell_type": "code",
      "source": [
        "x_test_stft = np.zeros(shape=(200,45,513))\n",
        "for i in range(x_test.shape[0]):\n",
        "    x = x_test[i,:]\n",
        "    X_complex = librosa.stft(x, n_fft=1024, hop_length=512)\n",
        "    X = np.abs(X_complex).T\n",
        "    x_test_stft[i,:,:] = X\n",
        "print(x_test_stft.shape)"
      ],
      "metadata": {
        "colab": {
          "base_uri": "https://localhost:8080/"
        },
        "id": "H3mCc_GaZW-Q",
        "outputId": "bd841f9b-8340-4abe-e21a-12cdf0d58bba"
      },
      "execution_count": null,
      "outputs": [
        {
          "output_type": "stream",
          "name": "stdout",
          "text": [
            "(200, 45, 513)\n"
          ]
        }
      ]
    },
    {
      "cell_type": "code",
      "source": [
        "x_ind = np.arange(0,len(y_train)).reshape(-1,1)\n",
        "print(x_ind.shape)"
      ],
      "metadata": {
        "colab": {
          "base_uri": "https://localhost:8080/"
        },
        "id": "owLTQeYcZW1O",
        "outputId": "aa2b9dae-e79c-4ad1-97bf-6a77cb35a172"
      },
      "execution_count": null,
      "outputs": [
        {
          "output_type": "stream",
          "name": "stdout",
          "text": [
            "(500, 1)\n"
          ]
        }
      ]
    },
    {
      "cell_type": "code",
      "source": [
        "pos_samples = 45\n",
        "neg_samples = 45\n",
        "y_train = np.array(y_train)\n",
        "x_idx = np.arange(0,len(y_train)).reshape(-1,1)\n",
        "noPersons = np.unique(y_train)\n",
        "pairs = []\n",
        "labels = []\n",
        "for person in noPersons:\n",
        "    spk_idx = x_idx[np.where(y_train==person)]\n",
        "    othr_spk_idx = x_idx[np.where(y_train!=person)]\n",
        "  \n",
        "    pos_pairs = random.sample(list(combinations(spk_idx,2)),pos_samples)\n",
        "    for pair in pos_pairs:\n",
        "        x1 = x_train_stft[pair[0],:,:]\n",
        "        x2 = x_train_stft[pair[1],:,:]\n",
        "        pairs += [[x1,x2]]\n",
        "        labels += [0]\n",
        "\n",
        "    neg_pairs = random.sample(list(product(spk_idx,othr_spk_idx)),neg_samples)\n",
        "    for pair in neg_pairs:\n",
        "        x1 = x_train_stft[pair[0],:,:]\n",
        "        x2 = x_train_stft[pair[1],:,:]\n",
        "        pairs += [[x1,x2]]\n",
        "        labels += [1]    \n",
        "\n",
        "pairs,labels = np.array(pairs), np.array(labels).astype(\"float32\")\n",
        "    \n",
        "print(pairs.shape)\n",
        "print(labels.shape)"
      ],
      "metadata": {
        "colab": {
          "base_uri": "https://localhost:8080/"
        },
        "id": "YJpewuWuZWst",
        "outputId": "5195cfda-5568-4955-d78c-9f99390f8f37"
      },
      "execution_count": null,
      "outputs": [
        {
          "output_type": "stream",
          "name": "stdout",
          "text": [
            "(4500, 2, 45, 513)\n",
            "(4500,)\n"
          ]
        }
      ]
    },
    {
      "cell_type": "code",
      "source": [
        "pos_samples = 45\n",
        "neg_samples = 45\n",
        "y_train = np.array(y_test)\n",
        "x_idx = np.arange(0,len(y_test)).reshape(-1,1)\n",
        "noPersons = np.unique(y_test)\n",
        "test_pairs = []\n",
        "test_labels = []\n",
        "for person in noPersons:\n",
        "    spk_idx = x_idx[np.where(y_test==person)]\n",
        "    othr_spk_idx = x_idx[np.where(y_test!=person)]\n",
        "  \n",
        "    pos_pairs = random.sample(list(combinations(spk_idx,2)),pos_samples)\n",
        "    for pair in pos_pairs:\n",
        "        x1 = x_test_stft[pair[0],:,:]\n",
        "        x2 = x_test_stft[pair[1],:,:]\n",
        "        test_pairs += [[x1,x2]]\n",
        "        test_labels += [0]\n",
        "\n",
        "    neg_pairs = random.sample(list(product(spk_idx,othr_spk_idx)),neg_samples)\n",
        "    for pair in neg_pairs:\n",
        "        x1 = x_test_stft[pair[0],:,:]\n",
        "        x2 = x_test_stft[pair[1],:,:]\n",
        "        test_pairs += [[x1,x2]]\n",
        "        test_labels += [1]    \n",
        "\n",
        "test_pairs,test_labels = np.array(test_pairs), np.array(test_labels).astype(\"float32\")\n",
        "    \n",
        "print(test_pairs.shape)\n",
        "print(test_labels.shape)"
      ],
      "metadata": {
        "colab": {
          "base_uri": "https://localhost:8080/"
        },
        "id": "P2oN9PUaZWkN",
        "outputId": "005069c0-7367-4f8d-bcd8-9f4bebb07ea9"
      },
      "execution_count": null,
      "outputs": [
        {
          "output_type": "stream",
          "name": "stdout",
          "text": [
            "(1800, 2, 45, 513)\n",
            "(1800,)\n"
          ]
        }
      ]
    },
    {
      "cell_type": "code",
      "source": [
        "epochs = 30\n",
        "batch_size = 90\n",
        "margin = 1"
      ],
      "metadata": {
        "id": "5tpPhRSGZWdH"
      },
      "execution_count": null,
      "outputs": []
    },
    {
      "cell_type": "code",
      "source": [
        "# Provided two tensors t1 and t2\n",
        "# Euclidean distance = sqrt(sum(square(t1-t2)))\n",
        "def euclidean_distance(vectors):\n",
        "    \"\"\"Find the Euclidean distance between two vectors.\"\"\"\n",
        "    x,y = vectors\n",
        "    sum_square = tf.math.reduce_sum(tf.math.square(x - y), axis=1, keepdims=True)\n",
        "    return tf.math.sqrt(tf.math.maximum(sum_square, tf.keras.backend.epsilon()))"
      ],
      "metadata": {
        "id": "9L_3uqBDZMqs"
      },
      "execution_count": null,
      "outputs": []
    },
    {
      "cell_type": "code",
      "source": [
        "#Reference: https://keras.io/examples/vision/siamese_contrastive/\n",
        "input = layers.Input(shape=(45,513))\n",
        "x = tf.keras.layers.GRU(513, return_sequences=True,dropout=0.2)(input),\n",
        "x = tf.keras.layers.GRU(513, return_sequences=False,dropout=0.2)(x[0]),\n",
        "x = tf.keras.layers.Dense(128,activation = 'relu')(x[0]),\n",
        "x = tf.keras.layers.Dense(30,activation = 'relu')(x[0])\n",
        "\n",
        "embedding_network = tf.keras.Model(input, x)\n",
        "\n",
        "ip1 = layers.Input((45,513))\n",
        "ip2 = layers.Input((45,513))\n",
        "\n",
        "tower_1 = embedding_network(ip1)\n",
        "tower_2 = embedding_network(ip2)\n",
        "\n",
        "x2 = tf.keras.layers.Lambda(euclidean_distance)([tower_1, tower_2])\n",
        "op = tf.keras.layers.Dense(1, activation=\"sigmoid\")(x2)\n",
        "model = tf.keras.Model(inputs=[ip1, ip2], outputs=op)"
      ],
      "metadata": {
        "id": "vOaVqhJIZMvU"
      },
      "execution_count": null,
      "outputs": []
    },
    {
      "cell_type": "code",
      "source": [
        "# Reference: https://towardsdatascience.com/a-friendly-introduction-to-siamese-networks-85ab17522942\n",
        "def loss(margin=1):\n",
        "    \"\"\"\n",
        "    Returns:\n",
        "        'constrastive_loss' function with data ('margin') attached.\n",
        "    \"\"\"\n",
        "\n",
        "    # Contrastive loss = mean( (1-true_value) * square(prediction) + true_value * square( max(margin-prediction, 0) ))\n",
        "    def c_loss(y_true, y_pred):\n",
        " \n",
        "        square_pred = tf.math.square(y_pred)\n",
        "        margin_square = tf.math.square(tf.math.maximum(margin - (y_pred), 0))\n",
        "        return tf.math.reduce_mean(\n",
        "            (1 - y_true) * square_pred + (y_true) * margin_square\n",
        "        )\n",
        "\n",
        "    return c_loss"
      ],
      "metadata": {
        "id": "qwXoGYFsZMz1"
      },
      "execution_count": null,
      "outputs": []
    },
    {
      "cell_type": "code",
      "source": [
        "model.compile(loss=loss(margin=margin), optimizer=\"adam\", metrics=[\"accuracy\"])\n",
        "model.summary()"
      ],
      "metadata": {
        "colab": {
          "base_uri": "https://localhost:8080/"
        },
        "id": "Qn3aE5e6ZM4Y",
        "outputId": "ff837ffa-c336-44b1-ab5e-232c85cc7ae5"
      },
      "execution_count": null,
      "outputs": [
        {
          "output_type": "stream",
          "name": "stdout",
          "text": [
            "Model: \"model_1\"\n",
            "__________________________________________________________________________________________________\n",
            " Layer (type)                   Output Shape         Param #     Connected to                     \n",
            "==================================================================================================\n",
            " input_4 (InputLayer)           [(None, 45, 513)]    0           []                               \n",
            "                                                                                                  \n",
            " input_5 (InputLayer)           [(None, 45, 513)]    0           []                               \n",
            "                                                                                                  \n",
            " model (Functional)             (None, 30)           3233846     ['input_4[0][0]',                \n",
            "                                                                  'input_5[0][0]']                \n",
            "                                                                                                  \n",
            " lambda (Lambda)                (None, 1)            0           ['model[0][0]',                  \n",
            "                                                                  'model[1][0]']                  \n",
            "                                                                                                  \n",
            " dense_2 (Dense)                (None, 1)            2           ['lambda[0][0]']                 \n",
            "                                                                                                  \n",
            "==================================================================================================\n",
            "Total params: 3,233,848\n",
            "Trainable params: 3,233,848\n",
            "Non-trainable params: 0\n",
            "__________________________________________________________________________________________________\n"
          ]
        }
      ]
    },
    {
      "cell_type": "code",
      "source": [
        "history = model.fit(\n",
        "    [pairs[:,0], pairs[:,1]],\n",
        "    labels,\n",
        "    validation_data=([test_pairs[:,0],test_pairs[:,1]],test_labels),\n",
        "    batch_size=batch_size,\n",
        "    epochs=epochs\n",
        ")"
      ],
      "metadata": {
        "colab": {
          "base_uri": "https://localhost:8080/"
        },
        "id": "4K3zTmIjZM8W",
        "outputId": "7938bd59-7d79-4852-f1b7-cfaf137533b7"
      },
      "execution_count": null,
      "outputs": [
        {
          "output_type": "stream",
          "name": "stdout",
          "text": [
            "Epoch 1/30\n",
            "50/50 [==============================] - 16s 116ms/step - loss: 0.2500 - accuracy: 0.5042 - val_loss: 0.2509 - val_accuracy: 0.5000\n",
            "Epoch 2/30\n",
            "50/50 [==============================] - 4s 82ms/step - loss: 0.2489 - accuracy: 0.4969 - val_loss: 0.2430 - val_accuracy: 0.5000\n",
            "Epoch 3/30\n",
            "50/50 [==============================] - 4s 85ms/step - loss: 0.2436 - accuracy: 0.5042 - val_loss: 0.2500 - val_accuracy: 0.4939\n",
            "Epoch 4/30\n",
            "50/50 [==============================] - 4s 86ms/step - loss: 0.2499 - accuracy: 0.5040 - val_loss: 0.2493 - val_accuracy: 0.5450\n",
            "Epoch 5/30\n",
            "50/50 [==============================] - 4s 86ms/step - loss: 0.2336 - accuracy: 0.5507 - val_loss: 0.2065 - val_accuracy: 0.5728\n",
            "Epoch 6/30\n",
            "50/50 [==============================] - 4s 86ms/step - loss: 0.1982 - accuracy: 0.6478 - val_loss: 0.1987 - val_accuracy: 0.6439\n",
            "Epoch 7/30\n",
            "50/50 [==============================] - 4s 85ms/step - loss: 0.1790 - accuracy: 0.7367 - val_loss: 0.1961 - val_accuracy: 0.6633\n",
            "Epoch 8/30\n",
            "50/50 [==============================] - 4s 85ms/step - loss: 0.1644 - accuracy: 0.7842 - val_loss: 0.1884 - val_accuracy: 0.7200\n",
            "Epoch 9/30\n",
            "50/50 [==============================] - 4s 88ms/step - loss: 0.1554 - accuracy: 0.8127 - val_loss: 0.1868 - val_accuracy: 0.7200\n",
            "Epoch 10/30\n",
            "50/50 [==============================] - 4s 88ms/step - loss: 0.1487 - accuracy: 0.8287 - val_loss: 0.1940 - val_accuracy: 0.7133\n",
            "Epoch 11/30\n",
            "50/50 [==============================] - 4s 88ms/step - loss: 0.1386 - accuracy: 0.8571 - val_loss: 0.1836 - val_accuracy: 0.7500\n",
            "Epoch 12/30\n",
            "50/50 [==============================] - 4s 89ms/step - loss: 0.1318 - accuracy: 0.8660 - val_loss: 0.1978 - val_accuracy: 0.7144\n",
            "Epoch 13/30\n",
            "50/50 [==============================] - 4s 89ms/step - loss: 0.1252 - accuracy: 0.8776 - val_loss: 0.2057 - val_accuracy: 0.7028\n",
            "Epoch 14/30\n",
            "50/50 [==============================] - 4s 90ms/step - loss: 0.1208 - accuracy: 0.8811 - val_loss: 0.2118 - val_accuracy: 0.7044\n",
            "Epoch 15/30\n",
            "50/50 [==============================] - 5s 91ms/step - loss: 0.1163 - accuracy: 0.8893 - val_loss: 0.1927 - val_accuracy: 0.7328\n",
            "Epoch 16/30\n",
            "50/50 [==============================] - 5s 91ms/step - loss: 0.1140 - accuracy: 0.8862 - val_loss: 0.1892 - val_accuracy: 0.7317\n",
            "Epoch 17/30\n",
            "50/50 [==============================] - 4s 90ms/step - loss: 0.1067 - accuracy: 0.8964 - val_loss: 0.1976 - val_accuracy: 0.7250\n",
            "Epoch 18/30\n",
            "50/50 [==============================] - 5s 91ms/step - loss: 0.1028 - accuracy: 0.9062 - val_loss: 0.2137 - val_accuracy: 0.6944\n",
            "Epoch 19/30\n",
            "50/50 [==============================] - 4s 89ms/step - loss: 0.1001 - accuracy: 0.9089 - val_loss: 0.1968 - val_accuracy: 0.7156\n",
            "Epoch 20/30\n",
            "50/50 [==============================] - 4s 87ms/step - loss: 0.0968 - accuracy: 0.9160 - val_loss: 0.2047 - val_accuracy: 0.7089\n",
            "Epoch 21/30\n",
            "50/50 [==============================] - 4s 89ms/step - loss: 0.0927 - accuracy: 0.9176 - val_loss: 0.2041 - val_accuracy: 0.7022\n",
            "Epoch 22/30\n",
            "50/50 [==============================] - 4s 88ms/step - loss: 0.0878 - accuracy: 0.9220 - val_loss: 0.2141 - val_accuracy: 0.6861\n",
            "Epoch 23/30\n",
            "50/50 [==============================] - 4s 87ms/step - loss: 0.0821 - accuracy: 0.9291 - val_loss: 0.2225 - val_accuracy: 0.6778\n",
            "Epoch 24/30\n",
            "50/50 [==============================] - 4s 87ms/step - loss: 0.0776 - accuracy: 0.9296 - val_loss: 0.2331 - val_accuracy: 0.6872\n",
            "Epoch 25/30\n",
            "50/50 [==============================] - 4s 88ms/step - loss: 0.0764 - accuracy: 0.9264 - val_loss: 0.2386 - val_accuracy: 0.6833\n",
            "Epoch 26/30\n",
            "50/50 [==============================] - 4s 86ms/step - loss: 0.0760 - accuracy: 0.9271 - val_loss: 0.2414 - val_accuracy: 0.6794\n",
            "Epoch 27/30\n",
            "50/50 [==============================] - 4s 88ms/step - loss: 0.0735 - accuracy: 0.9302 - val_loss: 0.2282 - val_accuracy: 0.6961\n",
            "Epoch 28/30\n",
            "50/50 [==============================] - 4s 87ms/step - loss: 0.0732 - accuracy: 0.9278 - val_loss: 0.2311 - val_accuracy: 0.6817\n",
            "Epoch 29/30\n",
            "50/50 [==============================] - 4s 87ms/step - loss: 0.0702 - accuracy: 0.9331 - val_loss: 0.2440 - val_accuracy: 0.6822\n",
            "Epoch 30/30\n",
            "50/50 [==============================] - 4s 88ms/step - loss: 0.0663 - accuracy: 0.9396 - val_loss: 0.2339 - val_accuracy: 0.6850\n"
          ]
        }
      ]
    },
    {
      "cell_type": "code",
      "source": [
        "history.history"
      ],
      "metadata": {
        "colab": {
          "base_uri": "https://localhost:8080/"
        },
        "id": "zu2WKJz-bI7w",
        "outputId": "6f8bfea6-d4c8-44be-cf65-117d410d9501"
      },
      "execution_count": null,
      "outputs": [
        {
          "output_type": "execute_result",
          "data": {
            "text/plain": [
              "{'loss': [0.24999071657657623,\n",
              "  0.24885037541389465,\n",
              "  0.24356406927108765,\n",
              "  0.24993622303009033,\n",
              "  0.23360323905944824,\n",
              "  0.1981833428144455,\n",
              "  0.1789848953485489,\n",
              "  0.16443444788455963,\n",
              "  0.15540724992752075,\n",
              "  0.14871090650558472,\n",
              "  0.13860754668712616,\n",
              "  0.1317957043647766,\n",
              "  0.12522682547569275,\n",
              "  0.12078667432069778,\n",
              "  0.11628328263759613,\n",
              "  0.11396723240613937,\n",
              "  0.10666634887456894,\n",
              "  0.10278788208961487,\n",
              "  0.10007326304912567,\n",
              "  0.09680694341659546,\n",
              "  0.09265820682048798,\n",
              "  0.08782187104225159,\n",
              "  0.08207786828279495,\n",
              "  0.0775989517569542,\n",
              "  0.07644379884004593,\n",
              "  0.07599028199911118,\n",
              "  0.07351469248533249,\n",
              "  0.07324928045272827,\n",
              "  0.07016485929489136,\n",
              "  0.06632637977600098],\n",
              " 'accuracy': [0.5042222142219543,\n",
              "  0.4968888759613037,\n",
              "  0.5042222142219543,\n",
              "  0.5040000081062317,\n",
              "  0.5506666898727417,\n",
              "  0.647777795791626,\n",
              "  0.7366666793823242,\n",
              "  0.7842222452163696,\n",
              "  0.812666654586792,\n",
              "  0.8286666870117188,\n",
              "  0.8571110963821411,\n",
              "  0.8659999966621399,\n",
              "  0.8775555491447449,\n",
              "  0.8811110854148865,\n",
              "  0.8893333077430725,\n",
              "  0.886222243309021,\n",
              "  0.8964444398880005,\n",
              "  0.9062222242355347,\n",
              "  0.9088888764381409,\n",
              "  0.9160000085830688,\n",
              "  0.917555570602417,\n",
              "  0.921999990940094,\n",
              "  0.929111123085022,\n",
              "  0.9295555353164673,\n",
              "  0.9264444708824158,\n",
              "  0.9271110892295837,\n",
              "  0.93022221326828,\n",
              "  0.9277777671813965,\n",
              "  0.9331111311912537,\n",
              "  0.9395555257797241],\n",
              " 'val_loss': [0.2508610188961029,\n",
              "  0.2429644912481308,\n",
              "  0.25002390146255493,\n",
              "  0.2493266761302948,\n",
              "  0.20647558569908142,\n",
              "  0.19874444603919983,\n",
              "  0.19605723023414612,\n",
              "  0.18842291831970215,\n",
              "  0.18678657710552216,\n",
              "  0.19404122233390808,\n",
              "  0.18355458974838257,\n",
              "  0.19777223467826843,\n",
              "  0.20565319061279297,\n",
              "  0.21176797151565552,\n",
              "  0.19267591834068298,\n",
              "  0.18918274343013763,\n",
              "  0.19756563007831573,\n",
              "  0.2136736512184143,\n",
              "  0.1967923939228058,\n",
              "  0.20465566217899323,\n",
              "  0.20408686995506287,\n",
              "  0.2141409069299698,\n",
              "  0.22253486514091492,\n",
              "  0.23313631117343903,\n",
              "  0.23863522708415985,\n",
              "  0.24139367043972015,\n",
              "  0.22817319631576538,\n",
              "  0.2310817837715149,\n",
              "  0.24396781623363495,\n",
              "  0.2339460849761963],\n",
              " 'val_accuracy': [0.5,\n",
              "  0.5,\n",
              "  0.49388888478279114,\n",
              "  0.5450000166893005,\n",
              "  0.5727777481079102,\n",
              "  0.6438888907432556,\n",
              "  0.6633333563804626,\n",
              "  0.7200000286102295,\n",
              "  0.7200000286102295,\n",
              "  0.7133333086967468,\n",
              "  0.75,\n",
              "  0.7144444584846497,\n",
              "  0.7027778029441833,\n",
              "  0.7044444680213928,\n",
              "  0.7327777743339539,\n",
              "  0.7316666841506958,\n",
              "  0.7250000238418579,\n",
              "  0.6944444179534912,\n",
              "  0.7155555486679077,\n",
              "  0.7088888883590698,\n",
              "  0.7022222280502319,\n",
              "  0.6861110925674438,\n",
              "  0.6777777671813965,\n",
              "  0.6872222423553467,\n",
              "  0.6833333373069763,\n",
              "  0.679444432258606,\n",
              "  0.6961110830307007,\n",
              "  0.6816666722297668,\n",
              "  0.6822222471237183,\n",
              "  0.6850000023841858]}"
            ]
          },
          "metadata": {},
          "execution_count": 25
        }
      ]
    },
    {
      "cell_type": "code",
      "source": [
        "history1 = model.evaluate([test_pairs[:,0],test_pairs[:,1]],test_labels)"
      ],
      "metadata": {
        "colab": {
          "base_uri": "https://localhost:8080/"
        },
        "id": "ileIFn10ZNAa",
        "outputId": "02fe2eec-31ce-436a-afa1-a7325de88b33"
      },
      "execution_count": null,
      "outputs": [
        {
          "output_type": "stream",
          "name": "stdout",
          "text": [
            "57/57 [==============================] - 2s 18ms/step - loss: 0.2339 - accuracy: 0.6850\n"
          ]
        }
      ]
    },
    {
      "cell_type": "code",
      "source": [
        "print(history1)"
      ],
      "metadata": {
        "colab": {
          "base_uri": "https://localhost:8080/"
        },
        "id": "df-yADU3cP8C",
        "outputId": "7b30f65f-18e0-418a-a30a-44b2b241aae0"
      },
      "execution_count": null,
      "outputs": [
        {
          "output_type": "stream",
          "name": "stdout",
          "text": [
            "[0.2339460551738739, 0.6850000023841858]\n"
          ]
        }
      ]
    },
    {
      "cell_type": "code",
      "source": [
        "plt.plot(history.history[\"loss\"],color='blue')\n",
        "plt.plot(history.history[\"val_loss\"],color='red')\n",
        "plt.legend([\"Train Loss\", \"Test Loss\"], loc=\"upper right\")\n",
        "plt.title(\"Training Loss vs Test Loss\")\n",
        "plt.ylabel(\"Loss\")\n",
        "plt.xlabel(\"epoch\")\n",
        "plt.show()"
      ],
      "metadata": {
        "colab": {
          "base_uri": "https://localhost:8080/",
          "height": 295
        },
        "id": "sIBSBDz8ZNEk",
        "outputId": "53761743-6d3e-4b9e-f7cc-5741d7081ff4"
      },
      "execution_count": null,
      "outputs": [
        {
          "output_type": "display_data",
          "data": {
            "text/plain": [
              "<Figure size 432x288 with 1 Axes>"
            ],
            "image/png": "[encoded data removed]"
          },
          "metadata": {
            "needs_background": "light"
          }
        }
      ]
    },
    {
      "cell_type": "code",
      "source": [
        "plt.plot(history.history[\"accuracy\"],color='blue')\n",
        "plt.plot(history.history[\"val_accuracy\"],color='red')\n",
        "plt.legend([\"Train Accuracy\", \"Test Accuracy\"], loc=\"upper right\")\n",
        "plt.title(\"Train Accuracy vs Test Accuracy\")\n",
        "plt.ylabel(\"Accuracy\")\n",
        "plt.xlabel(\"epoch\")\n",
        "plt.show()"
      ],
      "metadata": {
        "colab": {
          "base_uri": "https://localhost:8080/",
          "height": 295
        },
        "id": "hW72zW-pZNJC",
        "outputId": "85e1d4d4-369a-4561-ab4d-12741d558ef2"
      },
      "execution_count": null,
      "outputs": [
        {
          "output_type": "display_data",
          "data": {
            "text/plain": [
              "<Figure size 432x288 with 1 Axes>"
            ],
            "image/png": "[encoded data removed]"
          },
          "metadata": {
            "needs_background": "light"
          }
        }
      ]
    },
    {
      "cell_type": "code",
      "source": [],
      "metadata": {
        "id": "-RlNTKfHZNNt"
      },
      "execution_count": null,
      "outputs": []
    },
    {
      "cell_type": "code",
      "source": [],
      "metadata": {
        "id": "FEvGmC2LZNR8"
      },
      "execution_count": null,
      "outputs": []
    },
    {
      "cell_type": "code",
      "source": [],
      "metadata": {
        "id": "zibUQOLrZNWA"
      },
      "execution_count": null,
      "outputs": []
    },
    {
      "cell_type": "code",
      "source": [],
      "metadata": {
        "id": "tUBaYOPMZNah"
      },
      "execution_count": null,
      "outputs": []
    },
    {
      "cell_type": "code",
      "source": [],
      "metadata": {
        "id": "zBoUA9nOZNeD"
      },
      "execution_count": null,
      "outputs": []
    },
    {
      "cell_type": "code",
      "source": [],
      "metadata": {
        "id": "STKn118qZNmS"
      },
      "execution_count": null,
      "outputs": []
    },
    {
      "cell_type": "code",
      "source": [],
      "metadata": {
        "id": "Whzv2VIKZNqG"
      },
      "execution_count": null,
      "outputs": []
    },
    {
      "cell_type": "code",
      "source": [],
      "metadata": {
        "id": "nYGpyWZLZNtt"
      },
      "execution_count": null,
      "outputs": []
    },
    {
      "cell_type": "code",
      "source": [],
      "metadata": {
        "id": "p7a31BSsZNxj"
      },
      "execution_count": null,
      "outputs": []
    },
    {
      "cell_type": "code",
      "source": [],
      "metadata": {
        "id": "U1K3coiLZN1j"
      },
      "execution_count": null,
      "outputs": []
    },
    {
      "cell_type": "code",
      "source": [],
      "metadata": {
        "id": "42Su0RrEZN5U"
      },
      "execution_count": null,
      "outputs": []
    },
    {
      "cell_type": "code",
      "source": [],
      "metadata": {
        "id": "ViCX27YlZN9I"
      },
      "execution_count": null,
      "outputs": []
    },
    {
      "cell_type": "code",
      "source": [],
      "metadata": {
        "id": "S60gWKMYZOBD"
      },
      "execution_count": null,
      "outputs": []
    },
    {
      "cell_type": "code",
      "source": [],
      "metadata": {
        "id": "Bsx-JmBTZOEr"
      },
      "execution_count": null,
      "outputs": []
    },
    {
      "cell_type": "code",
      "source": [],
      "metadata": {
        "id": "QLeYG6bXZOMi"
      },
      "execution_count": null,
      "outputs": []
    },
    {
      "cell_type": "code",
      "source": [],
      "metadata": {
        "id": "HA1Yyhe1ZOQ2"
      },
      "execution_count": null,
      "outputs": []
    },
    {
      "cell_type": "code",
      "source": [],
      "metadata": {
        "id": "tSx22ad0ZOVA"
      },
      "execution_count": null,
      "outputs": []
    },
    {
      "cell_type": "code",
      "source": [],
      "metadata": {
        "id": "elLIOeW5ZOZk"
      },
      "execution_count": null,
      "outputs": []
    },
    {
      "cell_type": "code",
      "source": [],
      "metadata": {
        "id": "-ZLT12TvZOeF"
      },
      "execution_count": null,
      "outputs": []
    },
    {
      "cell_type": "code",
      "source": [],
      "metadata": {
        "id": "J2LM8p8kZOii"
      },
      "execution_count": null,
      "outputs": []
    },
    {
      "cell_type": "code",
      "source": [],
      "metadata": {
        "id": "Qr3Hs8J0ZOm_"
      },
      "execution_count": null,
      "outputs": []
    },
    {
      "cell_type": "code",
      "source": [],
      "metadata": {
        "id": "8UJHx-D_ZOsF"
      },
      "execution_count": null,
      "outputs": []
    },
    {
      "cell_type": "code",
      "source": [],
      "metadata": {
        "id": "0hCE3FTDZOwj"
      },
      "execution_count": null,
      "outputs": []
    },
    {
      "cell_type": "code",
      "source": [],
      "metadata": {
        "id": "kcun-WHHZO0w"
      },
      "execution_count": null,
      "outputs": []
    },
    {
      "cell_type": "code",
      "source": [],
      "metadata": {
        "id": "ZK4ACvSLZO5J"
      },
      "execution_count": null,
      "outputs": []
    },
    {
      "cell_type": "code",
      "source": [],
      "metadata": {
        "id": "hZM2p83nZO91"
      },
      "execution_count": null,
      "outputs": []
    },
    {
      "cell_type": "code",
      "source": [],
      "metadata": {
        "id": "2oihPG10ZPCR"
      },
      "execution_count": null,
      "outputs": []
    },
    {
      "cell_type": "code",
      "source": [],
      "metadata": {
        "id": "3rQMw5fEZPGS"
      },
      "execution_count": null,
      "outputs": []
    },
    {
      "cell_type": "code",
      "source": [
        "b"
      ],
      "metadata": {
        "id": "HJkP9m0zZPKI"
      },
      "execution_count": null,
      "outputs": []
    },
    {
      "cell_type": "code",
      "source": [],
      "metadata": {
        "id": "rQRX9pTOZPSx"
      },
      "execution_count": null,
      "outputs": []
    },
    {
      "cell_type": "code",
      "source": [],
      "metadata": {
        "id": "XrLtb57IZPXr"
      },
      "execution_count": null,
      "outputs": []
    },
    {
      "cell_type": "code",
      "source": [],
      "metadata": {
        "id": "JrX5--_LZPcC"
      },
      "execution_count": null,
      "outputs": []
    },
    {
      "cell_type": "code",
      "source": [],
      "metadata": {
        "id": "Ab2EMevgZPgm"
      },
      "execution_count": null,
      "outputs": []
    },
    {
      "cell_type": "code",
      "source": [],
      "metadata": {
        "id": "c5ACp_gKZPlK"
      },
      "execution_count": null,
      "outputs": []
    },
    {
      "cell_type": "code",
      "source": [],
      "metadata": {
        "id": "FHE0I5HCZPpn"
      },
      "execution_count": null,
      "outputs": []
    },
    {
      "cell_type": "code",
      "source": [],
      "metadata": {
        "id": "khI5K0gUZPuW"
      },
      "execution_count": null,
      "outputs": []
    },
    {
      "cell_type": "code",
      "source": [],
      "metadata": {
        "id": "x9Y_pPYQZPzV"
      },
      "execution_count": null,
      "outputs": []
    },
    {
      "cell_type": "code",
      "source": [],
      "metadata": {
        "id": "8f1c00dNZP4Y"
      },
      "execution_count": null,
      "outputs": []
    },
    {
      "cell_type": "code",
      "source": [],
      "metadata": {
        "id": "3BY7aSVGZP9O"
      },
      "execution_count": null,
      "outputs": []
    },
    {
      "cell_type": "code",
      "source": [],
      "metadata": {
        "id": "hqif9T8sZQBY"
      },
      "execution_count": null,
      "outputs": []
    },
    {
      "cell_type": "code",
      "source": [],
      "metadata": {
        "id": "cFpahjbRZQFv"
      },
      "execution_count": null,
      "outputs": []
    },
    {
      "cell_type": "code",
      "source": [],
      "metadata": {
        "id": "TIp8-SZMZQKh"
      },
      "execution_count": null,
      "outputs": []
    },
    {
      "cell_type": "code",
      "source": [],
      "metadata": {
        "id": "dy3xskOoZQO5"
      },
      "execution_count": null,
      "outputs": []
    },
    {
      "cell_type": "code",
      "source": [],
      "metadata": {
        "id": "AJEEjfvvZQTr"
      },
      "execution_count": null,
      "outputs": []
    },
    {
      "cell_type": "code",
      "source": [],
      "metadata": {
        "id": "G6EHdudIZQX-"
      },
      "execution_count": null,
      "outputs": []
    },
    {
      "cell_type": "code",
      "source": [],
      "metadata": {
        "id": "XTHb-pW9ZQcX"
      },
      "execution_count": null,
      "outputs": []
    },
    {
      "cell_type": "code",
      "source": [],
      "metadata": {
        "id": "MoDAZY6LZQhE"
      },
      "execution_count": null,
      "outputs": []
    },
    {
      "cell_type": "code",
      "source": [],
      "metadata": {
        "id": "A-JST27VZQls"
      },
      "execution_count": null,
      "outputs": []
    },
    {
      "cell_type": "code",
      "source": [],
      "metadata": {
        "id": "3YLQMqwtZQq1"
      },
      "execution_count": null,
      "outputs": []
    },
    {
      "cell_type": "code",
      "source": [],
      "metadata": {
        "id": "RXYzt4BGZQvx"
      },
      "execution_count": null,
      "outputs": []
    },
    {
      "cell_type": "code",
      "source": [],
      "metadata": {
        "id": "VCdgUtWjZQ0s"
      },
      "execution_count": null,
      "outputs": []
    },
    {
      "cell_type": "code",
      "source": [],
      "metadata": {
        "id": "_Ngn4fXyZQ5T"
      },
      "execution_count": null,
      "outputs": []
    },
    {
      "cell_type": "code",
      "source": [],
      "metadata": {
        "id": "PD38nY2rZQ-P"
      },
      "execution_count": null,
      "outputs": []
    },
    {
      "cell_type": "code",
      "source": [],
      "metadata": {
        "id": "oFdEAWCXZRDg"
      },
      "execution_count": null,
      "outputs": []
    },
    {
      "cell_type": "code",
      "source": [],
      "metadata": {
        "id": "09T0xGIZZRHa"
      },
      "execution_count": null,
      "outputs": []
    },
    {
      "cell_type": "code",
      "source": [],
      "metadata": {
        "id": "HQavx2frZRL3"
      },
      "execution_count": null,
      "outputs": []
    },
    {
      "cell_type": "code",
      "source": [],
      "metadata": {
        "id": "h3VXpbqBZRQL"
      },
      "execution_count": null,
      "outputs": []
    },
    {
      "cell_type": "code",
      "source": [],
      "metadata": {
        "id": "bj0d-4dnZRUs"
      },
      "execution_count": null,
      "outputs": []
    },
    {
      "cell_type": "code",
      "source": [],
      "metadata": {
        "id": "JHolLEmAZRZF"
      },
      "execution_count": null,
      "outputs": []
    },
    {
      "cell_type": "code",
      "source": [],
      "metadata": {
        "id": "962OyxAGZRdT"
      },
      "execution_count": null,
      "outputs": []
    },
    {
      "cell_type": "code",
      "source": [],
      "metadata": {
        "id": "V3WBlrkvZRjG"
      },
      "execution_count": null,
      "outputs": []
    },
    {
      "cell_type": "code",
      "source": [],
      "metadata": {
        "id": "wL1B5T3WZRn4"
      },
      "execution_count": null,
      "outputs": []
    },
    {
      "cell_type": "code",
      "source": [],
      "metadata": {
        "id": "B_4lak9CZRsZ"
      },
      "execution_count": null,
      "outputs": []
    },
    {
      "cell_type": "code",
      "source": [],
      "metadata": {
        "id": "CZeMX1OyZRxl"
      },
      "execution_count": null,
      "outputs": []
    },
    {
      "cell_type": "code",
      "source": [],
      "metadata": {
        "id": "0dp_4Y8dZR2C"
      },
      "execution_count": null,
      "outputs": []
    },
    {
      "cell_type": "code",
      "source": [],
      "metadata": {
        "id": "jUCIX5lLZR69"
      },
      "execution_count": null,
      "outputs": []
    },
    {
      "cell_type": "code",
      "source": [],
      "metadata": {
        "id": "0wzZdsuiZR_H"
      },
      "execution_count": null,
      "outputs": []
    },
    {
      "cell_type": "code",
      "source": [],
      "metadata": {
        "id": "rjNwGOt5ZSEW"
      },
      "execution_count": null,
      "outputs": []
    },
    {
      "cell_type": "code",
      "source": [],
      "metadata": {
        "id": "voLESOkuZSIu"
      },
      "execution_count": null,
      "outputs": []
    },
    {
      "cell_type": "code",
      "source": [],
      "metadata": {
        "id": "Tn7qOMhEZSNl"
      },
      "execution_count": null,
      "outputs": []
    },
    {
      "cell_type": "code",
      "source": [],
      "metadata": {
        "id": "xaK_Zuw5ZSS3"
      },
      "execution_count": null,
      "outputs": []
    }
  ]
}