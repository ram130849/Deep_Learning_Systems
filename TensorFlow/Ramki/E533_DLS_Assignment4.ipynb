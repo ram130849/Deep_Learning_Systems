{
  "nbformat": 4,
  "nbformat_minor": 0,
  "metadata": {
    "colab": {
      "provenance": [],
      "collapsed_sections": [],
      "authorship_tag": "ABX9TyPbUcxxb1nBTv57L23cUfdt",
      "include_colab_link": true
    },
    "kernelspec": {
      "name": "python3",
      "display_name": "Python 3"
    },
    "language_info": {
      "name": "python"
    },
    "accelerator": "GPU",
    "gpuClass": "standard"
  },
  "cells": [
    {
      "cell_type": "markdown",
      "metadata": {
        "id": "view-in-github",
        "colab_type": "text"
      },
      "source": [
        "<a href=\"https://colab.research.google.com/github/ram130849/Deep_Learning_Systems_Assignments/blob/main/TensorFlow/Ramki/E533_DLS_Assignment4.ipynb\" target=\"_parent\"><img src=\"https://colab.research.google.com/assets/colab-badge.svg\" alt=\"Open In Colab\"/></a>"
      ]
    },
    {
      "cell_type": "markdown",
      "source": [
        "P1: Network Compression Using SVD"
      ],
      "metadata": {
        "id": "anAvRC9wGvdw"
      }
    },
    {
      "cell_type": "code",
      "source": [
        "from google.colab import drive\n",
        "drive.mount('/content/drive')"
      ],
      "metadata": {
        "colab": {
          "base_uri": "https://localhost:8080/"
        },
        "id": "bkMCPD7-IjI2",
        "outputId": "ac12d80c-edc7-4421-a4b0-53968dbe65e8"
      },
      "execution_count": 1,
      "outputs": [
        {
          "output_type": "stream",
          "name": "stdout",
          "text": [
            "Mounted at /content/drive\n"
          ]
        }
      ]
    },
    {
      "cell_type": "code",
      "source": [
        "import tensorflow as tf\n",
        "import pandas as pd\n",
        "import numpy as np\n",
        "import matplotlib.pyplot as plt\n",
        "import os\n",
        "import seaborn as sns\n",
        "from sklearn.metrics import confusion_matrix"
      ],
      "metadata": {
        "id": "Ox8FHaGAGPXK"
      },
      "execution_count": 9,
      "outputs": []
    },
    {
      "cell_type": "code",
      "source": [
        "mnist = tf.keras.datasets.mnist"
      ],
      "metadata": {
        "id": "pGhbe_2UGQus"
      },
      "execution_count": 3,
      "outputs": []
    },
    {
      "cell_type": "code",
      "source": [
        "(x_train, y_train), (x_test, y_test) = mnist.load_data()"
      ],
      "metadata": {
        "colab": {
          "base_uri": "https://localhost:8080/"
        },
        "id": "7uQeEuSuGQ-y",
        "outputId": "5d26fa1b-02dc-4bbc-c84b-45c4e4731ce3"
      },
      "execution_count": 4,
      "outputs": [
        {
          "output_type": "stream",
          "name": "stdout",
          "text": [
            "Downloading data from https://storage.googleapis.com/tensorflow/tf-keras-datasets/mnist.npz\n",
            "11490434/11490434 [==============================] - 1s 0us/step\n"
          ]
        }
      ]
    },
    {
      "cell_type": "code",
      "source": [
        "x_train = x_train.astype('float32')\n",
        "x_test = x_test.astype('float32')\n",
        "x_train/=255\n",
        "x_test/=255"
      ],
      "metadata": {
        "id": "RziXk7wIGRDE"
      },
      "execution_count": 5,
      "outputs": []
    },
    {
      "cell_type": "code",
      "source": [
        "model = tf.keras.models.Sequential([\n",
        "  tf.keras.layers.Flatten(input_shape=(28, 28)),\n",
        "  tf.keras.layers.Dense(1024, activation='relu'),\n",
        "  tf.keras.layers.Dense(1024,activation='relu'),\n",
        "  tf.keras.layers.Dense(1024,activation='relu'),\n",
        "  tf.keras.layers.Dense(1024,activation='relu'),\n",
        "  tf.keras.layers.Dense(1024,activation='relu'),\n",
        "  tf.keras.layers.Dense(10)\n",
        "])"
      ],
      "metadata": {
        "id": "OIKsnTMgGRFj"
      },
      "execution_count": 6,
      "outputs": []
    },
    {
      "cell_type": "code",
      "source": [
        "print(model.summary())"
      ],
      "metadata": {
        "colab": {
          "base_uri": "https://localhost:8080/"
        },
        "id": "MQLvn6FsGRIv",
        "outputId": "8c184938-e59b-48e8-8c9e-8567280ba65b"
      },
      "execution_count": 7,
      "outputs": [
        {
          "output_type": "stream",
          "name": "stdout",
          "text": [
            "Model: \"sequential\"\n",
            "_________________________________________________________________\n",
            " Layer (type)                Output Shape              Param #   \n",
            "=================================================================\n",
            " flatten (Flatten)           (None, 784)               0         \n",
            "                                                                 \n",
            " dense (Dense)               (None, 1024)              803840    \n",
            "                                                                 \n",
            " dense_1 (Dense)             (None, 1024)              1049600   \n",
            "                                                                 \n",
            " dense_2 (Dense)             (None, 1024)              1049600   \n",
            "                                                                 \n",
            " dense_3 (Dense)             (None, 1024)              1049600   \n",
            "                                                                 \n",
            " dense_4 (Dense)             (None, 1024)              1049600   \n",
            "                                                                 \n",
            " dense_5 (Dense)             (None, 10)                10250     \n",
            "                                                                 \n",
            "=================================================================\n",
            "Total params: 5,012,490\n",
            "Trainable params: 5,012,490\n",
            "Non-trainable params: 0\n",
            "_________________________________________________________________\n",
            "None\n"
          ]
        }
      ]
    },
    {
      "cell_type": "code",
      "source": [
        "model.compile(optimizer=\"adam\", loss=tf.keras.losses.SparseCategoricalCrossentropy(from_logits=True), metrics=\"acc\")"
      ],
      "metadata": {
        "id": "RmiKMBwoGRNU"
      },
      "execution_count": 8,
      "outputs": []
    },
    {
      "cell_type": "code",
      "source": [
        "checkpoint_path = \"/content/drive/MyDrive/DLS_DATA/assign4/cp-{epoch:02d}.hdf5\"\n",
        "checkpoint_dir = os.path.dirname(checkpoint_path)"
      ],
      "metadata": {
        "id": "-mW7X6q087hj"
      },
      "execution_count": 10,
      "outputs": []
    },
    {
      "cell_type": "code",
      "source": [
        "cp_callback = tf.keras.callbacks.ModelCheckpoint(filepath=checkpoint_path,\n",
        "                                                 save_weights_only=True,\n",
        "                                                 verbose=1)"
      ],
      "metadata": {
        "id": "ulCAVH4Q9FSc"
      },
      "execution_count": 11,
      "outputs": []
    },
    {
      "cell_type": "code",
      "source": [
        "history = model.fit(\n",
        "    x_train,\n",
        "    y_train,\n",
        "    epochs=30,\n",
        "    batch_size=128,\n",
        "    callbacks=[cp_callback])"
      ],
      "metadata": {
        "colab": {
          "base_uri": "https://localhost:8080/"
        },
        "id": "r3fJSNnHGRP0",
        "outputId": "f6a54b24-d31d-4f70-8908-332141fa456b"
      },
      "execution_count": 12,
      "outputs": [
        {
          "output_type": "stream",
          "name": "stdout",
          "text": [
            "Epoch 1/30\n",
            "468/469 [============================>.] - ETA: 0s - loss: 0.2320 - acc: 0.9292\n",
            "Epoch 1: saving model to /content/drive/MyDrive/DLS_DATA/assign4/cp-01.hdf5\n",
            "469/469 [==============================] - 5s 5ms/step - loss: 0.2319 - acc: 0.9292\n",
            "Epoch 2/30\n",
            "457/469 [============================>.] - ETA: 0s - loss: 0.0995 - acc: 0.9709\n",
            "Epoch 2: saving model to /content/drive/MyDrive/DLS_DATA/assign4/cp-02.hdf5\n",
            "469/469 [==============================] - 2s 5ms/step - loss: 0.0991 - acc: 0.9709\n",
            "Epoch 3/30\n",
            "461/469 [============================>.] - ETA: 0s - loss: 0.0733 - acc: 0.9799\n",
            "Epoch 3: saving model to /content/drive/MyDrive/DLS_DATA/assign4/cp-03.hdf5\n",
            "469/469 [==============================] - 2s 4ms/step - loss: 0.0735 - acc: 0.9798\n",
            "Epoch 4/30\n",
            "463/469 [============================>.] - ETA: 0s - loss: 0.0590 - acc: 0.9833\n",
            "Epoch 4: saving model to /content/drive/MyDrive/DLS_DATA/assign4/cp-04.hdf5\n",
            "469/469 [==============================] - 2s 4ms/step - loss: 0.0591 - acc: 0.9833\n",
            "Epoch 5/30\n",
            "469/469 [==============================] - ETA: 0s - loss: 0.0489 - acc: 0.9861\n",
            "Epoch 5: saving model to /content/drive/MyDrive/DLS_DATA/assign4/cp-05.hdf5\n",
            "469/469 [==============================] - 2s 4ms/step - loss: 0.0489 - acc: 0.9861\n",
            "Epoch 6/30\n",
            "463/469 [============================>.] - ETA: 0s - loss: 0.0405 - acc: 0.9883\n",
            "Epoch 6: saving model to /content/drive/MyDrive/DLS_DATA/assign4/cp-06.hdf5\n",
            "469/469 [==============================] - 2s 4ms/step - loss: 0.0403 - acc: 0.9883\n",
            "Epoch 7/30\n",
            "461/469 [============================>.] - ETA: 0s - loss: 0.0376 - acc: 0.9901\n",
            "Epoch 7: saving model to /content/drive/MyDrive/DLS_DATA/assign4/cp-07.hdf5\n",
            "469/469 [==============================] - 2s 4ms/step - loss: 0.0379 - acc: 0.9900\n",
            "Epoch 8/30\n",
            "458/469 [============================>.] - ETA: 0s - loss: 0.0317 - acc: 0.9914\n",
            "Epoch 8: saving model to /content/drive/MyDrive/DLS_DATA/assign4/cp-08.hdf5\n",
            "469/469 [==============================] - 2s 4ms/step - loss: 0.0314 - acc: 0.9915\n",
            "Epoch 9/30\n",
            "464/469 [============================>.] - ETA: 0s - loss: 0.0289 - acc: 0.9918\n",
            "Epoch 9: saving model to /content/drive/MyDrive/DLS_DATA/assign4/cp-09.hdf5\n",
            "469/469 [==============================] - 2s 4ms/step - loss: 0.0289 - acc: 0.9918\n",
            "Epoch 10/30\n",
            "469/469 [==============================] - ETA: 0s - loss: 0.0316 - acc: 0.9916\n",
            "Epoch 10: saving model to /content/drive/MyDrive/DLS_DATA/assign4/cp-10.hdf5\n",
            "469/469 [==============================] - 2s 4ms/step - loss: 0.0316 - acc: 0.9916\n",
            "Epoch 11/30\n",
            "469/469 [==============================] - ETA: 0s - loss: 0.0222 - acc: 0.9937\n",
            "Epoch 11: saving model to /content/drive/MyDrive/DLS_DATA/assign4/cp-11.hdf5\n",
            "469/469 [==============================] - 2s 4ms/step - loss: 0.0222 - acc: 0.9937\n",
            "Epoch 12/30\n",
            "467/469 [============================>.] - ETA: 0s - loss: 0.0192 - acc: 0.9950\n",
            "Epoch 12: saving model to /content/drive/MyDrive/DLS_DATA/assign4/cp-12.hdf5\n",
            "469/469 [==============================] - 2s 4ms/step - loss: 0.0192 - acc: 0.9950\n",
            "Epoch 13/30\n",
            "466/469 [============================>.] - ETA: 0s - loss: 0.0256 - acc: 0.9932\n",
            "Epoch 13: saving model to /content/drive/MyDrive/DLS_DATA/assign4/cp-13.hdf5\n",
            "469/469 [==============================] - 2s 4ms/step - loss: 0.0256 - acc: 0.9933\n",
            "Epoch 14/30\n",
            "469/469 [==============================] - ETA: 0s - loss: 0.0216 - acc: 0.9941\n",
            "Epoch 14: saving model to /content/drive/MyDrive/DLS_DATA/assign4/cp-14.hdf5\n",
            "469/469 [==============================] - 2s 5ms/step - loss: 0.0216 - acc: 0.9941\n",
            "Epoch 15/30\n",
            "468/469 [============================>.] - ETA: 0s - loss: 0.0191 - acc: 0.9952\n",
            "Epoch 15: saving model to /content/drive/MyDrive/DLS_DATA/assign4/cp-15.hdf5\n",
            "469/469 [==============================] - 3s 6ms/step - loss: 0.0190 - acc: 0.9952\n",
            "Epoch 16/30\n",
            "465/469 [============================>.] - ETA: 0s - loss: 0.0218 - acc: 0.9951\n",
            "Epoch 16: saving model to /content/drive/MyDrive/DLS_DATA/assign4/cp-16.hdf5\n",
            "469/469 [==============================] - 3s 7ms/step - loss: 0.0218 - acc: 0.9951\n",
            "Epoch 17/30\n",
            "459/469 [============================>.] - ETA: 0s - loss: 0.0175 - acc: 0.9956\n",
            "Epoch 17: saving model to /content/drive/MyDrive/DLS_DATA/assign4/cp-17.hdf5\n",
            "469/469 [==============================] - 2s 4ms/step - loss: 0.0173 - acc: 0.9956\n",
            "Epoch 18/30\n",
            "463/469 [============================>.] - ETA: 0s - loss: 0.0123 - acc: 0.9966\n",
            "Epoch 18: saving model to /content/drive/MyDrive/DLS_DATA/assign4/cp-18.hdf5\n",
            "469/469 [==============================] - 2s 4ms/step - loss: 0.0122 - acc: 0.9966\n",
            "Epoch 19/30\n",
            "461/469 [============================>.] - ETA: 0s - loss: 0.0154 - acc: 0.9963\n",
            "Epoch 19: saving model to /content/drive/MyDrive/DLS_DATA/assign4/cp-19.hdf5\n",
            "469/469 [==============================] - 2s 4ms/step - loss: 0.0153 - acc: 0.9963\n",
            "Epoch 20/30\n",
            "465/469 [============================>.] - ETA: 0s - loss: 0.0141 - acc: 0.9963\n",
            "Epoch 20: saving model to /content/drive/MyDrive/DLS_DATA/assign4/cp-20.hdf5\n",
            "469/469 [==============================] - 3s 5ms/step - loss: 0.0141 - acc: 0.9962\n",
            "Epoch 21/30\n",
            "464/469 [============================>.] - ETA: 0s - loss: 0.0213 - acc: 0.9948\n",
            "Epoch 21: saving model to /content/drive/MyDrive/DLS_DATA/assign4/cp-21.hdf5\n",
            "469/469 [==============================] - 2s 5ms/step - loss: 0.0212 - acc: 0.9948\n",
            "Epoch 22/30\n",
            "468/469 [============================>.] - ETA: 0s - loss: 0.0142 - acc: 0.9965\n",
            "Epoch 22: saving model to /content/drive/MyDrive/DLS_DATA/assign4/cp-22.hdf5\n",
            "469/469 [==============================] - 2s 4ms/step - loss: 0.0142 - acc: 0.9965\n",
            "Epoch 23/30\n",
            "464/469 [============================>.] - ETA: 0s - loss: 0.0096 - acc: 0.9975\n",
            "Epoch 23: saving model to /content/drive/MyDrive/DLS_DATA/assign4/cp-23.hdf5\n",
            "469/469 [==============================] - 2s 4ms/step - loss: 0.0096 - acc: 0.9975\n",
            "Epoch 24/30\n",
            "464/469 [============================>.] - ETA: 0s - loss: 0.0125 - acc: 0.9974\n",
            "Epoch 24: saving model to /content/drive/MyDrive/DLS_DATA/assign4/cp-24.hdf5\n",
            "469/469 [==============================] - 2s 4ms/step - loss: 0.0131 - acc: 0.9973\n",
            "Epoch 25/30\n",
            "459/469 [============================>.] - ETA: 0s - loss: 0.0120 - acc: 0.9968\n",
            "Epoch 25: saving model to /content/drive/MyDrive/DLS_DATA/assign4/cp-25.hdf5\n",
            "469/469 [==============================] - 2s 4ms/step - loss: 0.0119 - acc: 0.9969\n",
            "Epoch 26/30\n",
            "461/469 [============================>.] - ETA: 0s - loss: 0.0104 - acc: 0.9974\n",
            "Epoch 26: saving model to /content/drive/MyDrive/DLS_DATA/assign4/cp-26.hdf5\n",
            "469/469 [==============================] - 2s 4ms/step - loss: 0.0104 - acc: 0.9974\n",
            "Epoch 27/30\n",
            "458/469 [============================>.] - ETA: 0s - loss: 0.0118 - acc: 0.9974\n",
            "Epoch 27: saving model to /content/drive/MyDrive/DLS_DATA/assign4/cp-27.hdf5\n",
            "469/469 [==============================] - 2s 4ms/step - loss: 0.0120 - acc: 0.9973\n",
            "Epoch 28/30\n",
            "461/469 [============================>.] - ETA: 0s - loss: 0.0143 - acc: 0.9971\n",
            "Epoch 28: saving model to /content/drive/MyDrive/DLS_DATA/assign4/cp-28.hdf5\n",
            "469/469 [==============================] - 2s 4ms/step - loss: 0.0145 - acc: 0.9970\n",
            "Epoch 29/30\n",
            "464/469 [============================>.] - ETA: 0s - loss: 0.0154 - acc: 0.9969\n",
            "Epoch 29: saving model to /content/drive/MyDrive/DLS_DATA/assign4/cp-29.hdf5\n",
            "469/469 [==============================] - 2s 4ms/step - loss: 0.0154 - acc: 0.9969\n",
            "Epoch 30/30\n",
            "460/469 [============================>.] - ETA: 0s - loss: 0.0132 - acc: 0.9974\n",
            "Epoch 30: saving model to /content/drive/MyDrive/DLS_DATA/assign4/cp-30.hdf5\n",
            "469/469 [==============================] - 2s 4ms/step - loss: 0.0130 - acc: 0.9975\n"
          ]
        }
      ]
    },
    {
      "cell_type": "code",
      "source": [
        "def compress_weights(weight):\n",
        "    S, U, V = tf.linalg.svd(weight)\n",
        "    S = tf.linalg.diag(S)\n",
        "    V = tf.transpose(V)\n",
        "    return S,U,V"
      ],
      "metadata": {
        "id": "dfkhSNsNN8dF"
      },
      "execution_count": 13,
      "outputs": []
    },
    {
      "cell_type": "code",
      "source": [
        "S_list = []\n",
        "U_list = []\n",
        "V_list = []\n",
        "B_list = []\n",
        "for i in range(1,6):\n",
        "    weights = model.layers[i].weights[0]\n",
        "    # print(i,weights)\n",
        "    bias = model.layers[i].bias.numpy()\n",
        "    S,U,V = compress_weights(weights)\n",
        "    S_list.append(S)\n",
        "    U_list.append(U)\n",
        "    V_list.append(V)\n",
        "    B_list.append(bias)"
      ],
      "metadata": {
        "id": "Kc9kP8wgGRTU"
      },
      "execution_count": 14,
      "outputs": []
    },
    {
      "cell_type": "code",
      "source": [
        "rank_values = [10,20,50,100,200]\n",
        "acc_val = []\n",
        "for value in rank_values:\n",
        "    W_1 = tf.matmul(tf.matmul(U_list[0][:, :value], S_list[0][:value, :value]), V_list[0][:value, :])\n",
        "    model.get_layer(index=1).set_weights([W_1,B_list[0]])\n",
        "    W_2 = tf.matmul(tf.matmul(U_list[1][:, :value], S_list[1][:value, :value]), V_list[1][:value, :])\n",
        "    model.get_layer(index=2).set_weights([W_2,B_list[1]])\n",
        "    W_3 = tf.matmul(tf.matmul(U_list[2][:, :value], S_list[2][:value, :value]), V_list[2][:value, :])\n",
        "    model.get_layer(index=3).set_weights([W_3,B_list[2]])\n",
        "    W_4 = tf.matmul(tf.matmul(U_list[3][:, :value], S_list[3][:value, :value]), V_list[3][:value, :])\n",
        "    model.get_layer(index=4).set_weights([W_4,B_list[3]])\n",
        "    W_5 = tf.matmul(tf.matmul(U_list[4][:, :value], S_list[4][:value, :value]), V_list[4][:value, :])\n",
        "    model.get_layer(index=5).set_weights([W_5,B_list[4]])\n",
        "    acc_val.append(model.evaluate(x_test,y_test,verbose = 1)[1])"
      ],
      "metadata": {
        "colab": {
          "base_uri": "https://localhost:8080/"
        },
        "id": "KolGwbs5GRXu",
        "outputId": "d3266b5e-1206-4c30-b213-695cd8c2b951"
      },
      "execution_count": 15,
      "outputs": [
        {
          "output_type": "stream",
          "name": "stdout",
          "text": [
            "313/313 [==============================] - 1s 2ms/step - loss: 1.5154 - acc: 0.5745\n",
            "313/313 [==============================] - 1s 2ms/step - loss: 0.4029 - acc: 0.9099\n",
            "313/313 [==============================] - 1s 3ms/step - loss: 0.1207 - acc: 0.9798\n",
            "313/313 [==============================] - 1s 3ms/step - loss: 0.1271 - acc: 0.9820\n",
            "313/313 [==============================] - 1s 3ms/step - loss: 0.1492 - acc: 0.9824\n"
          ]
        }
      ]
    },
    {
      "cell_type": "code",
      "source": [
        "W_1 = tf.matmul(tf.matmul(U_list[0], S_list[0]), V_list[0])\n",
        "W_2 = tf.matmul(tf.matmul(U_list[1], S_list[1]), V_list[1])\n",
        "W_3 = tf.matmul(tf.matmul(U_list[2], S_list[2]), V_list[2])\n",
        "W_4 = tf.matmul(tf.matmul(U_list[3], S_list[3]), V_list[3])\n",
        "W_5 = tf.matmul(tf.matmul(U_list[4], S_list[4]), V_list[4])\n",
        "\n",
        "\n",
        "model.get_layer(index=1).set_weights([W_1,B_list[0]])\n",
        "model.get_layer(index=2).set_weights([W_2,B_list[1]])\n",
        "model.get_layer(index=3).set_weights([W_3,B_list[2]])\n",
        "model.get_layer(index=4).set_weights([W_4,B_list[3]])\n",
        "model.get_layer(index=5).set_weights([W_5,B_list[4]])\n",
        "\n",
        "acc_val.append(model.evaluate(x_test,y_test,verbose = 1)[1])"
      ],
      "metadata": {
        "colab": {
          "base_uri": "https://localhost:8080/"
        },
        "id": "vOdiwgYpGRZ0",
        "outputId": "37262183-7008-488b-d017-22f00d410230"
      },
      "execution_count": 16,
      "outputs": [
        {
          "output_type": "stream",
          "name": "stdout",
          "text": [
            "313/313 [==============================] - 1s 3ms/step - loss: 0.1746 - acc: 0.9815\n"
          ]
        }
      ]
    },
    {
      "cell_type": "code",
      "source": [
        "fig, ax = plt.subplots()\n",
        "ax.plot(acc_val)\n",
        "ax.set_ylabel(\"Accuracy For Approximated Weights\")\n",
        "ax.set_xlabel(\"D Value\")\n",
        "x = [0,10,20,50,100,200,'Full']\n",
        "ax.set_xticklabels(x)\n",
        "plt.show()"
      ],
      "metadata": {
        "colab": {
          "base_uri": "https://localhost:8080/",
          "height": 282
        },
        "id": "oRSDyvVDGRcy",
        "outputId": "eababa82-f399-4459-dd31-3f375f57d5d2"
      },
      "execution_count": 17,
      "outputs": [
        {
          "output_type": "display_data",
          "data": {
            "text/plain": [
              "<Figure size 432x288 with 1 Axes>"
            ],
            "image/png": "[encoded data removed]"
          },
          "metadata": {
            "needs_background": "light"
          }
        }
      ]
    },
    {
      "cell_type": "markdown",
      "source": [
        "P2: Network Compression Using SVD"
      ],
      "metadata": {
        "id": "eguEvcWu8Sr5"
      }
    },
    {
      "cell_type": "code",
      "source": [
        "S1,U1,V1 = tf.linalg.svd(model.layers[1].weights[0])\n",
        "S2,U2,V2 = tf.linalg.svd(model.layers[2].weights[0])\n",
        "S3,U3,V3 = tf.linalg.svd(model.layers[3].weights[0])\n",
        "S4,U4,V4 = tf.linalg.svd(model.layers[4].weights[0])\n",
        "S5,U5,V5 = tf.linalg.svd(model.layers[5].weights[0])\n",
        "\n",
        "rank = 20\n",
        "\n",
        "s_1 = tf.linalg.diag(S1)[:rank, :rank]\n",
        "s_2 = tf.linalg.diag(S2)[:rank, :rank]\n",
        "s_3 = tf.linalg.diag(S3)[:rank, :rank]\n",
        "s_4 = tf.linalg.diag(S4)[:rank, :rank]\n",
        "s_5 = tf.linalg.diag(S5)[:rank, :rank]\n",
        "\n",
        "v_1 = tf.transpose(V1)[:rank, :]\n",
        "v_2 = tf.transpose(V2)[:rank, :]\n",
        "v_3 = tf.transpose(V3)[:rank, :]\n",
        "v_4 = tf.transpose(V4)[:rank, :]\n",
        "v_5 = tf.transpose(V5)[:rank, :]\n",
        "\n",
        "\n",
        "v_s1 = tf.matmul(s_1,v_1)\n",
        "v_s2 = tf.matmul(s_2,v_2)\n",
        "v_s3 = tf.matmul(s_3,v_3)\n",
        "v_s4 = tf.matmul(s_4,v_4)\n",
        "v_s5 = tf.matmul(s_5,v_5)\n",
        "\n",
        "u_1 = U1[:, :rank]\n",
        "u_2 = U2[:, :rank]\n",
        "u_3 = U3[:, :rank]\n",
        "u_4 = U4[:, :rank]\n",
        "u_5 = U5[:, :rank]\n",
        "\n",
        "B1 = model.layers[1].bias\n",
        "B2 = model.layers[2].bias\n",
        "B3 = model.layers[3].bias\n",
        "B4 = model.layers[4].bias\n",
        "B5 = model.layers[5].bias"
      ],
      "metadata": {
        "id": "8igDlOuYGRoT"
      },
      "execution_count": 18,
      "outputs": []
    },
    {
      "cell_type": "code",
      "source": [
        "weights =[]\n",
        "weights.append(u_1)\n",
        "weights.append(v_s1)\n",
        "weights.append(u_2)\n",
        "weights.append(v_s2)\n",
        "weights.append(u_3)\n",
        "weights.append(v_s3)\n",
        "weights.append(u_4)\n",
        "weights.append(v_s4)\n",
        "weights.append(u_5)\n",
        "weights.append(v_s5)"
      ],
      "metadata": {
        "id": "6mmmAg9rBhgr"
      },
      "execution_count": 19,
      "outputs": []
    },
    {
      "cell_type": "code",
      "source": [
        "model1 = tf.keras.Sequential([\n",
        "    tf.keras.layers.Flatten(input_shape=(28,28)),\n",
        "\n",
        "    tf.keras.layers.Dense(units=20),\n",
        "    tf.keras.layers.Dense(units=1024,activation='relu'),\n",
        "\n",
        "    tf.keras.layers.Dense(units=20),\n",
        "    tf.keras.layers.Dense(units=1024,activation='relu'),\n",
        "\n",
        "    tf.keras.layers.Dense(units=20),\n",
        "    tf.keras.layers.Dense(units=1024,activation='relu'),\n",
        "\n",
        "    tf.keras.layers.Dense(units=20),\n",
        "    tf.keras.layers.Dense(units=1024,activation='relu'),\n",
        "\n",
        "    tf.keras.layers.Dense(units=20),\n",
        "    tf.keras.layers.Dense(units=1024,activation='relu'),\n",
        "    \n",
        "    tf.keras.layers.Dense(units=10,activation='softmax')\n",
        "  ])"
      ],
      "metadata": {
        "id": "p3X1SJgmGRsf"
      },
      "execution_count": 20,
      "outputs": []
    },
    {
      "cell_type": "code",
      "source": [
        "model1.summary()"
      ],
      "metadata": {
        "colab": {
          "base_uri": "https://localhost:8080/"
        },
        "id": "VwCefP4CGRwo",
        "outputId": "8dbfcd17-5c5f-42ee-a47b-91a7b9e652bd"
      },
      "execution_count": 21,
      "outputs": [
        {
          "output_type": "stream",
          "name": "stdout",
          "text": [
            "Model: \"sequential_1\"\n",
            "_________________________________________________________________\n",
            " Layer (type)                Output Shape              Param #   \n",
            "=================================================================\n",
            " flatten_1 (Flatten)         (None, 784)               0         \n",
            "                                                                 \n",
            " dense_6 (Dense)             (None, 20)                15700     \n",
            "                                                                 \n",
            " dense_7 (Dense)             (None, 1024)              21504     \n",
            "                                                                 \n",
            " dense_8 (Dense)             (None, 20)                20500     \n",
            "                                                                 \n",
            " dense_9 (Dense)             (None, 1024)              21504     \n",
            "                                                                 \n",
            " dense_10 (Dense)            (None, 20)                20500     \n",
            "                                                                 \n",
            " dense_11 (Dense)            (None, 1024)              21504     \n",
            "                                                                 \n",
            " dense_12 (Dense)            (None, 20)                20500     \n",
            "                                                                 \n",
            " dense_13 (Dense)            (None, 1024)              21504     \n",
            "                                                                 \n",
            " dense_14 (Dense)            (None, 20)                20500     \n",
            "                                                                 \n",
            " dense_15 (Dense)            (None, 1024)              21504     \n",
            "                                                                 \n",
            " dense_16 (Dense)            (None, 10)                10250     \n",
            "                                                                 \n",
            "=================================================================\n",
            "Total params: 215,470\n",
            "Trainable params: 215,470\n",
            "Non-trainable params: 0\n",
            "_________________________________________________________________\n"
          ]
        }
      ]
    },
    {
      "cell_type": "code",
      "source": [
        "bias = [None]*10\n",
        "bias[1] = B1\n",
        "bias[3] = B2\n",
        "bias[5] = B3\n",
        "bias[7] = B4\n",
        "bias[9] = B5\n",
        "temp_bias = []\n",
        "for i in range(1,len(model1.layers)-1):\n",
        "    temp_bias.append(model1.layers[i].bias)\n",
        "bias[0] = temp_bias[0]\n",
        "bias[2] = temp_bias[2]\n",
        "bias[4] = temp_bias[4]\n",
        "bias[6] = temp_bias[6]\n",
        "bias[8] = temp_bias[8]"
      ],
      "metadata": {
        "id": "Mn-niOqmGRzI"
      },
      "execution_count": 22,
      "outputs": []
    },
    {
      "cell_type": "code",
      "source": [
        "for i in range(len(weights)):\n",
        "  model1.layers[i+1].set_weights([weights[i],bias[i]])"
      ],
      "metadata": {
        "id": "3IhCWnDtGR3O"
      },
      "execution_count": 23,
      "outputs": []
    },
    {
      "cell_type": "code",
      "source": [
        "model1.compile(optimizer=tf.keras.optimizers.Adam(learning_rate=0.0001),\n",
        "               loss = tf.losses.SparseCategoricalCrossentropy(from_logits=False),\n",
        "               metrics=['accuracy'])"
      ],
      "metadata": {
        "id": "fzLh-8u5GR5k"
      },
      "execution_count": 24,
      "outputs": []
    },
    {
      "cell_type": "code",
      "source": [
        "history1 = model1.fit(x_train,y_train,epochs = 30, batch_size = 128 )"
      ],
      "metadata": {
        "colab": {
          "base_uri": "https://localhost:8080/"
        },
        "id": "hCtGOGKzGR88",
        "outputId": "19b87fa8-29d7-455b-9ddc-7d8c58ece6ef"
      },
      "execution_count": 25,
      "outputs": [
        {
          "output_type": "stream",
          "name": "stdout",
          "text": [
            "Epoch 1/30\n",
            "469/469 [==============================] - 2s 4ms/step - loss: 0.4716 - accuracy: 0.8543\n",
            "Epoch 2/30\n",
            "469/469 [==============================] - 2s 4ms/step - loss: 0.0889 - accuracy: 0.9785\n",
            "Epoch 3/30\n",
            "469/469 [==============================] - 2s 4ms/step - loss: 0.0652 - accuracy: 0.9826\n",
            "Epoch 4/30\n",
            "469/469 [==============================] - 2s 4ms/step - loss: 0.0522 - accuracy: 0.9857\n",
            "Epoch 5/30\n",
            "469/469 [==============================] - 2s 4ms/step - loss: 0.0430 - accuracy: 0.9877\n",
            "Epoch 6/30\n",
            "469/469 [==============================] - 2s 4ms/step - loss: 0.0364 - accuracy: 0.9889\n",
            "Epoch 7/30\n",
            "469/469 [==============================] - 2s 4ms/step - loss: 0.0311 - accuracy: 0.9905\n",
            "Epoch 8/30\n",
            "469/469 [==============================] - 2s 4ms/step - loss: 0.0267 - accuracy: 0.9916\n",
            "Epoch 9/30\n",
            "469/469 [==============================] - 2s 4ms/step - loss: 0.0235 - accuracy: 0.9926\n",
            "Epoch 10/30\n",
            "469/469 [==============================] - 2s 4ms/step - loss: 0.0194 - accuracy: 0.9940\n",
            "Epoch 11/30\n",
            "469/469 [==============================] - 2s 4ms/step - loss: 0.0181 - accuracy: 0.9944\n",
            "Epoch 12/30\n",
            "469/469 [==============================] - 2s 5ms/step - loss: 0.0152 - accuracy: 0.9951\n",
            "Epoch 13/30\n",
            "469/469 [==============================] - 2s 5ms/step - loss: 0.0148 - accuracy: 0.9953\n",
            "Epoch 14/30\n",
            "469/469 [==============================] - 2s 4ms/step - loss: 0.0115 - accuracy: 0.9963\n",
            "Epoch 15/30\n",
            "469/469 [==============================] - 2s 4ms/step - loss: 0.0116 - accuracy: 0.9964\n",
            "Epoch 16/30\n",
            "469/469 [==============================] - 2s 4ms/step - loss: 0.0092 - accuracy: 0.9972\n",
            "Epoch 17/30\n",
            "469/469 [==============================] - 2s 4ms/step - loss: 0.0097 - accuracy: 0.9969\n",
            "Epoch 18/30\n",
            "469/469 [==============================] - 2s 4ms/step - loss: 0.0071 - accuracy: 0.9977\n",
            "Epoch 19/30\n",
            "469/469 [==============================] - 2s 4ms/step - loss: 0.0078 - accuracy: 0.9974\n",
            "Epoch 20/30\n",
            "469/469 [==============================] - 2s 4ms/step - loss: 0.0077 - accuracy: 0.9975\n",
            "Epoch 21/30\n",
            "469/469 [==============================] - 2s 4ms/step - loss: 0.0091 - accuracy: 0.9971\n",
            "Epoch 22/30\n",
            "469/469 [==============================] - 2s 4ms/step - loss: 0.0059 - accuracy: 0.9979\n",
            "Epoch 23/30\n",
            "469/469 [==============================] - 2s 4ms/step - loss: 0.0038 - accuracy: 0.9987\n",
            "Epoch 24/30\n",
            "469/469 [==============================] - 2s 4ms/step - loss: 0.0054 - accuracy: 0.9985\n",
            "Epoch 25/30\n",
            "469/469 [==============================] - 2s 4ms/step - loss: 0.0067 - accuracy: 0.9978\n",
            "Epoch 26/30\n",
            "469/469 [==============================] - 2s 4ms/step - loss: 0.0054 - accuracy: 0.9984\n",
            "Epoch 27/30\n",
            "469/469 [==============================] - 2s 4ms/step - loss: 0.0039 - accuracy: 0.9989\n",
            "Epoch 28/30\n",
            "469/469 [==============================] - 2s 4ms/step - loss: 0.0066 - accuracy: 0.9980\n",
            "Epoch 29/30\n",
            "469/469 [==============================] - 2s 4ms/step - loss: 0.0044 - accuracy: 0.9986\n",
            "Epoch 30/30\n",
            "469/469 [==============================] - 2s 4ms/step - loss: 0.0034 - accuracy: 0.9990\n"
          ]
        }
      ]
    },
    {
      "cell_type": "code",
      "source": [
        "test_acc = model1.evaluate(x_test,y_test)\n",
        "print(\"Test Accuracy:\",test_acc[1])"
      ],
      "metadata": {
        "colab": {
          "base_uri": "https://localhost:8080/"
        },
        "id": "uuuClRekGR_9",
        "outputId": "883056ec-4f29-4a79-adc2-b24188e3e961"
      },
      "execution_count": 26,
      "outputs": [
        {
          "output_type": "stream",
          "name": "stdout",
          "text": [
            "313/313 [==============================] - 1s 3ms/step - loss: 0.2778 - accuracy: 0.9802\n",
            "Test Accuracy: 0.9801999926567078\n"
          ]
        }
      ]
    },
    {
      "cell_type": "code",
      "source": [
        "plt.plot(history1.history['loss'],'bo',color='red')\n",
        "plt.ylabel(\"Loss\")\n",
        "plt.xlabel(\"Epochs\")\n",
        "plt.title(\"Training-time Loss\")\n",
        "plt.show()"
      ],
      "metadata": {
        "colab": {
          "base_uri": "https://localhost:8080/",
          "height": 295
        },
        "id": "IUqLVwszGSDU",
        "outputId": "de8bba51-1c07-4a34-eedb-2b134cb325f9"
      },
      "execution_count": 34,
      "outputs": [
        {
          "output_type": "display_data",
          "data": {
            "text/plain": [
              "<Figure size 432x288 with 1 Axes>"
            ],
            "image/png": "[encoded data removed]"
          },
          "metadata": {
            "needs_background": "light"
          }
        }
      ]
    },
    {
      "cell_type": "code",
      "source": [],
      "metadata": {
        "id": "7bBYJDqFGSGK"
      },
      "execution_count": null,
      "outputs": []
    },
    {
      "cell_type": "code",
      "source": [],
      "metadata": {
        "id": "l16ojwg0GSJL"
      },
      "execution_count": null,
      "outputs": []
    },
    {
      "cell_type": "code",
      "source": [],
      "metadata": {
        "id": "N-pkcDf6GSNe"
      },
      "execution_count": null,
      "outputs": []
    },
    {
      "cell_type": "markdown",
      "source": [
        "P3:  Network Compression Using SVD"
      ],
      "metadata": {
        "id": "tmj8D4vjGt0s"
      }
    },
    {
      "cell_type": "code",
      "source": [],
      "metadata": {
        "id": "AAtvGAdSGSRi"
      },
      "execution_count": null,
      "outputs": []
    },
    {
      "cell_type": "code",
      "source": [],
      "metadata": {
        "id": "GcEKnKYCIZmQ"
      },
      "execution_count": null,
      "outputs": []
    },
    {
      "cell_type": "code",
      "source": [],
      "metadata": {
        "id": "JKvZEcypIZqY"
      },
      "execution_count": null,
      "outputs": []
    },
    {
      "cell_type": "code",
      "source": [],
      "metadata": {
        "id": "jnoIGyWWIZuY"
      },
      "execution_count": null,
      "outputs": []
    },
    {
      "cell_type": "code",
      "source": [],
      "metadata": {
        "id": "xiuawVbjIZx-"
      },
      "execution_count": null,
      "outputs": []
    },
    {
      "cell_type": "code",
      "source": [],
      "metadata": {
        "id": "XyN0As0nIZ1k"
      },
      "execution_count": null,
      "outputs": []
    },
    {
      "cell_type": "code",
      "source": [],
      "metadata": {
        "id": "BiQ3ZlzPIZ5d"
      },
      "execution_count": null,
      "outputs": []
    },
    {
      "cell_type": "code",
      "source": [],
      "metadata": {
        "id": "QkqscPQdIZ9E"
      },
      "execution_count": null,
      "outputs": []
    },
    {
      "cell_type": "code",
      "source": [],
      "metadata": {
        "id": "CD49KavXIaAy"
      },
      "execution_count": null,
      "outputs": []
    },
    {
      "cell_type": "code",
      "source": [],
      "metadata": {
        "id": "2oX6w1E3IaEc"
      },
      "execution_count": null,
      "outputs": []
    },
    {
      "cell_type": "code",
      "source": [],
      "metadata": {
        "id": "oEretSHEIaIV"
      },
      "execution_count": null,
      "outputs": []
    },
    {
      "cell_type": "code",
      "source": [],
      "metadata": {
        "id": "p1TUkOM3IaL9"
      },
      "execution_count": null,
      "outputs": []
    },
    {
      "cell_type": "code",
      "source": [],
      "metadata": {
        "id": "17jacGzEIaPt"
      },
      "execution_count": null,
      "outputs": []
    },
    {
      "cell_type": "code",
      "source": [],
      "metadata": {
        "id": "MAXBc3hFIaTU"
      },
      "execution_count": null,
      "outputs": []
    },
    {
      "cell_type": "code",
      "source": [],
      "metadata": {
        "id": "eCgsQdddIaXN"
      },
      "execution_count": null,
      "outputs": []
    },
    {
      "cell_type": "code",
      "source": [],
      "metadata": {
        "id": "I6Yn5FcRIaax"
      },
      "execution_count": null,
      "outputs": []
    },
    {
      "cell_type": "code",
      "source": [],
      "metadata": {
        "id": "sR3k2CoPIaee"
      },
      "execution_count": null,
      "outputs": []
    },
    {
      "cell_type": "code",
      "source": [],
      "metadata": {
        "id": "6lYrgyq2IaiL"
      },
      "execution_count": null,
      "outputs": []
    },
    {
      "cell_type": "code",
      "source": [],
      "metadata": {
        "id": "txw048a5Iamk"
      },
      "execution_count": null,
      "outputs": []
    },
    {
      "cell_type": "code",
      "source": [],
      "metadata": {
        "id": "C7j40X0pIap5"
      },
      "execution_count": null,
      "outputs": []
    },
    {
      "cell_type": "code",
      "source": [],
      "metadata": {
        "id": "AjvtjyD5Iatm"
      },
      "execution_count": null,
      "outputs": []
    },
    {
      "cell_type": "code",
      "source": [],
      "metadata": {
        "id": "KCiXbdSHIaxf"
      },
      "execution_count": null,
      "outputs": []
    },
    {
      "cell_type": "code",
      "source": [],
      "metadata": {
        "id": "HIiQXGrBIa03"
      },
      "execution_count": null,
      "outputs": []
    },
    {
      "cell_type": "code",
      "source": [],
      "metadata": {
        "id": "OuOAAS47Ia4p"
      },
      "execution_count": null,
      "outputs": []
    },
    {
      "cell_type": "code",
      "source": [],
      "metadata": {
        "id": "c4uysFmMIa8d"
      },
      "execution_count": null,
      "outputs": []
    },
    {
      "cell_type": "code",
      "source": [],
      "metadata": {
        "id": "_nK--mioIbAC"
      },
      "execution_count": null,
      "outputs": []
    },
    {
      "cell_type": "code",
      "source": [],
      "metadata": {
        "id": "0NYQtTRZIbDo"
      },
      "execution_count": null,
      "outputs": []
    },
    {
      "cell_type": "code",
      "source": [],
      "metadata": {
        "id": "7ujeJlqIIbG1"
      },
      "execution_count": null,
      "outputs": []
    },
    {
      "cell_type": "code",
      "source": [],
      "metadata": {
        "id": "VcwDTMU6IbKJ"
      },
      "execution_count": null,
      "outputs": []
    },
    {
      "cell_type": "code",
      "source": [],
      "metadata": {
        "id": "4gb-LoGOIbNp"
      },
      "execution_count": null,
      "outputs": []
    },
    {
      "cell_type": "code",
      "source": [],
      "metadata": {
        "id": "ep7ZOkAhIbRC"
      },
      "execution_count": null,
      "outputs": []
    },
    {
      "cell_type": "code",
      "source": [],
      "metadata": {
        "id": "Mp6BK5sRIbUZ"
      },
      "execution_count": null,
      "outputs": []
    },
    {
      "cell_type": "markdown",
      "source": [
        "P4: Speaker Verification"
      ],
      "metadata": {
        "id": "tmri6ETvZtyM"
      }
    },
    {
      "cell_type": "code",
      "execution_count": null,
      "metadata": {
        "id": "rXFYzsy6ZL_E"
      },
      "outputs": [],
      "source": []
    },
    {
      "cell_type": "code",
      "source": [],
      "metadata": {
        "id": "gTgkLb6KGOnk"
      },
      "execution_count": null,
      "outputs": []
    },
    {
      "cell_type": "code",
      "source": [],
      "metadata": {
        "id": "6bN_an55ZX9z"
      },
      "execution_count": null,
      "outputs": []
    },
    {
      "cell_type": "code",
      "source": [],
      "metadata": {
        "id": "Xz24JGQ2ZXtC"
      },
      "execution_count": null,
      "outputs": []
    },
    {
      "cell_type": "code",
      "source": [],
      "metadata": {
        "id": "d3GGgHZVZXZ7"
      },
      "execution_count": null,
      "outputs": []
    },
    {
      "cell_type": "code",
      "source": [],
      "metadata": {
        "id": "vHVkYLeeZXSM"
      },
      "execution_count": null,
      "outputs": []
    },
    {
      "cell_type": "code",
      "source": [],
      "metadata": {
        "id": "1TWBjXxgZXIt"
      },
      "execution_count": null,
      "outputs": []
    },
    {
      "cell_type": "code",
      "source": [],
      "metadata": {
        "id": "H3mCc_GaZW-Q"
      },
      "execution_count": null,
      "outputs": []
    },
    {
      "cell_type": "code",
      "source": [],
      "metadata": {
        "id": "owLTQeYcZW1O"
      },
      "execution_count": null,
      "outputs": []
    },
    {
      "cell_type": "code",
      "source": [],
      "metadata": {
        "id": "YJpewuWuZWst"
      },
      "execution_count": null,
      "outputs": []
    },
    {
      "cell_type": "code",
      "source": [],
      "metadata": {
        "id": "P2oN9PUaZWkN"
      },
      "execution_count": null,
      "outputs": []
    },
    {
      "cell_type": "code",
      "source": [],
      "metadata": {
        "id": "5tpPhRSGZWdH"
      },
      "execution_count": null,
      "outputs": []
    },
    {
      "cell_type": "code",
      "source": [],
      "metadata": {
        "id": "9L_3uqBDZMqs"
      },
      "execution_count": null,
      "outputs": []
    },
    {
      "cell_type": "code",
      "source": [],
      "metadata": {
        "id": "vOaVqhJIZMvU"
      },
      "execution_count": null,
      "outputs": []
    },
    {
      "cell_type": "code",
      "source": [],
      "metadata": {
        "id": "qwXoGYFsZMz1"
      },
      "execution_count": null,
      "outputs": []
    },
    {
      "cell_type": "code",
      "source": [],
      "metadata": {
        "id": "Qn3aE5e6ZM4Y"
      },
      "execution_count": null,
      "outputs": []
    },
    {
      "cell_type": "code",
      "source": [],
      "metadata": {
        "id": "4K3zTmIjZM8W"
      },
      "execution_count": null,
      "outputs": []
    },
    {
      "cell_type": "code",
      "source": [],
      "metadata": {
        "id": "ileIFn10ZNAa"
      },
      "execution_count": null,
      "outputs": []
    },
    {
      "cell_type": "code",
      "source": [],
      "metadata": {
        "id": "sIBSBDz8ZNEk"
      },
      "execution_count": null,
      "outputs": []
    },
    {
      "cell_type": "code",
      "source": [],
      "metadata": {
        "id": "hW72zW-pZNJC"
      },
      "execution_count": null,
      "outputs": []
    },
    {
      "cell_type": "code",
      "source": [],
      "metadata": {
        "id": "-RlNTKfHZNNt"
      },
      "execution_count": null,
      "outputs": []
    },
    {
      "cell_type": "code",
      "source": [],
      "metadata": {
        "id": "FEvGmC2LZNR8"
      },
      "execution_count": null,
      "outputs": []
    },
    {
      "cell_type": "code",
      "source": [],
      "metadata": {
        "id": "zibUQOLrZNWA"
      },
      "execution_count": null,
      "outputs": []
    },
    {
      "cell_type": "code",
      "source": [],
      "metadata": {
        "id": "tUBaYOPMZNah"
      },
      "execution_count": null,
      "outputs": []
    },
    {
      "cell_type": "code",
      "source": [],
      "metadata": {
        "id": "zBoUA9nOZNeD"
      },
      "execution_count": null,
      "outputs": []
    },
    {
      "cell_type": "code",
      "source": [],
      "metadata": {
        "id": "STKn118qZNmS"
      },
      "execution_count": null,
      "outputs": []
    },
    {
      "cell_type": "code",
      "source": [],
      "metadata": {
        "id": "Whzv2VIKZNqG"
      },
      "execution_count": null,
      "outputs": []
    },
    {
      "cell_type": "code",
      "source": [],
      "metadata": {
        "id": "nYGpyWZLZNtt"
      },
      "execution_count": null,
      "outputs": []
    },
    {
      "cell_type": "code",
      "source": [],
      "metadata": {
        "id": "p7a31BSsZNxj"
      },
      "execution_count": null,
      "outputs": []
    },
    {
      "cell_type": "code",
      "source": [],
      "metadata": {
        "id": "U1K3coiLZN1j"
      },
      "execution_count": null,
      "outputs": []
    },
    {
      "cell_type": "code",
      "source": [],
      "metadata": {
        "id": "42Su0RrEZN5U"
      },
      "execution_count": null,
      "outputs": []
    },
    {
      "cell_type": "code",
      "source": [],
      "metadata": {
        "id": "ViCX27YlZN9I"
      },
      "execution_count": null,
      "outputs": []
    },
    {
      "cell_type": "code",
      "source": [],
      "metadata": {
        "id": "S60gWKMYZOBD"
      },
      "execution_count": null,
      "outputs": []
    },
    {
      "cell_type": "code",
      "source": [],
      "metadata": {
        "id": "Bsx-JmBTZOEr"
      },
      "execution_count": null,
      "outputs": []
    },
    {
      "cell_type": "code",
      "source": [],
      "metadata": {
        "id": "QLeYG6bXZOMi"
      },
      "execution_count": null,
      "outputs": []
    },
    {
      "cell_type": "code",
      "source": [],
      "metadata": {
        "id": "HA1Yyhe1ZOQ2"
      },
      "execution_count": null,
      "outputs": []
    },
    {
      "cell_type": "code",
      "source": [],
      "metadata": {
        "id": "tSx22ad0ZOVA"
      },
      "execution_count": null,
      "outputs": []
    },
    {
      "cell_type": "code",
      "source": [],
      "metadata": {
        "id": "elLIOeW5ZOZk"
      },
      "execution_count": null,
      "outputs": []
    },
    {
      "cell_type": "code",
      "source": [],
      "metadata": {
        "id": "-ZLT12TvZOeF"
      },
      "execution_count": null,
      "outputs": []
    },
    {
      "cell_type": "code",
      "source": [],
      "metadata": {
        "id": "J2LM8p8kZOii"
      },
      "execution_count": null,
      "outputs": []
    },
    {
      "cell_type": "code",
      "source": [],
      "metadata": {
        "id": "Qr3Hs8J0ZOm_"
      },
      "execution_count": null,
      "outputs": []
    },
    {
      "cell_type": "code",
      "source": [],
      "metadata": {
        "id": "8UJHx-D_ZOsF"
      },
      "execution_count": null,
      "outputs": []
    },
    {
      "cell_type": "code",
      "source": [],
      "metadata": {
        "id": "0hCE3FTDZOwj"
      },
      "execution_count": null,
      "outputs": []
    },
    {
      "cell_type": "code",
      "source": [],
      "metadata": {
        "id": "kcun-WHHZO0w"
      },
      "execution_count": null,
      "outputs": []
    },
    {
      "cell_type": "code",
      "source": [],
      "metadata": {
        "id": "ZK4ACvSLZO5J"
      },
      "execution_count": null,
      "outputs": []
    },
    {
      "cell_type": "code",
      "source": [],
      "metadata": {
        "id": "hZM2p83nZO91"
      },
      "execution_count": null,
      "outputs": []
    },
    {
      "cell_type": "code",
      "source": [],
      "metadata": {
        "id": "2oihPG10ZPCR"
      },
      "execution_count": null,
      "outputs": []
    },
    {
      "cell_type": "code",
      "source": [],
      "metadata": {
        "id": "3rQMw5fEZPGS"
      },
      "execution_count": null,
      "outputs": []
    },
    {
      "cell_type": "code",
      "source": [
        "b"
      ],
      "metadata": {
        "id": "HJkP9m0zZPKI"
      },
      "execution_count": null,
      "outputs": []
    },
    {
      "cell_type": "code",
      "source": [],
      "metadata": {
        "id": "rQRX9pTOZPSx"
      },
      "execution_count": null,
      "outputs": []
    },
    {
      "cell_type": "code",
      "source": [],
      "metadata": {
        "id": "XrLtb57IZPXr"
      },
      "execution_count": null,
      "outputs": []
    },
    {
      "cell_type": "code",
      "source": [],
      "metadata": {
        "id": "JrX5--_LZPcC"
      },
      "execution_count": null,
      "outputs": []
    },
    {
      "cell_type": "code",
      "source": [],
      "metadata": {
        "id": "Ab2EMevgZPgm"
      },
      "execution_count": null,
      "outputs": []
    },
    {
      "cell_type": "code",
      "source": [],
      "metadata": {
        "id": "c5ACp_gKZPlK"
      },
      "execution_count": null,
      "outputs": []
    },
    {
      "cell_type": "code",
      "source": [],
      "metadata": {
        "id": "FHE0I5HCZPpn"
      },
      "execution_count": null,
      "outputs": []
    },
    {
      "cell_type": "code",
      "source": [],
      "metadata": {
        "id": "khI5K0gUZPuW"
      },
      "execution_count": null,
      "outputs": []
    },
    {
      "cell_type": "code",
      "source": [],
      "metadata": {
        "id": "x9Y_pPYQZPzV"
      },
      "execution_count": null,
      "outputs": []
    },
    {
      "cell_type": "code",
      "source": [],
      "metadata": {
        "id": "8f1c00dNZP4Y"
      },
      "execution_count": null,
      "outputs": []
    },
    {
      "cell_type": "code",
      "source": [],
      "metadata": {
        "id": "3BY7aSVGZP9O"
      },
      "execution_count": null,
      "outputs": []
    },
    {
      "cell_type": "code",
      "source": [],
      "metadata": {
        "id": "hqif9T8sZQBY"
      },
      "execution_count": null,
      "outputs": []
    },
    {
      "cell_type": "code",
      "source": [],
      "metadata": {
        "id": "cFpahjbRZQFv"
      },
      "execution_count": null,
      "outputs": []
    },
    {
      "cell_type": "code",
      "source": [],
      "metadata": {
        "id": "TIp8-SZMZQKh"
      },
      "execution_count": null,
      "outputs": []
    },
    {
      "cell_type": "code",
      "source": [],
      "metadata": {
        "id": "dy3xskOoZQO5"
      },
      "execution_count": null,
      "outputs": []
    },
    {
      "cell_type": "code",
      "source": [],
      "metadata": {
        "id": "AJEEjfvvZQTr"
      },
      "execution_count": null,
      "outputs": []
    },
    {
      "cell_type": "code",
      "source": [],
      "metadata": {
        "id": "G6EHdudIZQX-"
      },
      "execution_count": null,
      "outputs": []
    },
    {
      "cell_type": "code",
      "source": [],
      "metadata": {
        "id": "XTHb-pW9ZQcX"
      },
      "execution_count": null,
      "outputs": []
    },
    {
      "cell_type": "code",
      "source": [],
      "metadata": {
        "id": "MoDAZY6LZQhE"
      },
      "execution_count": null,
      "outputs": []
    },
    {
      "cell_type": "code",
      "source": [],
      "metadata": {
        "id": "A-JST27VZQls"
      },
      "execution_count": null,
      "outputs": []
    },
    {
      "cell_type": "code",
      "source": [],
      "metadata": {
        "id": "3YLQMqwtZQq1"
      },
      "execution_count": null,
      "outputs": []
    },
    {
      "cell_type": "code",
      "source": [],
      "metadata": {
        "id": "RXYzt4BGZQvx"
      },
      "execution_count": null,
      "outputs": []
    },
    {
      "cell_type": "code",
      "source": [],
      "metadata": {
        "id": "VCdgUtWjZQ0s"
      },
      "execution_count": null,
      "outputs": []
    },
    {
      "cell_type": "code",
      "source": [],
      "metadata": {
        "id": "_Ngn4fXyZQ5T"
      },
      "execution_count": null,
      "outputs": []
    },
    {
      "cell_type": "code",
      "source": [],
      "metadata": {
        "id": "PD38nY2rZQ-P"
      },
      "execution_count": null,
      "outputs": []
    },
    {
      "cell_type": "code",
      "source": [],
      "metadata": {
        "id": "oFdEAWCXZRDg"
      },
      "execution_count": null,
      "outputs": []
    },
    {
      "cell_type": "code",
      "source": [],
      "metadata": {
        "id": "09T0xGIZZRHa"
      },
      "execution_count": null,
      "outputs": []
    },
    {
      "cell_type": "code",
      "source": [],
      "metadata": {
        "id": "HQavx2frZRL3"
      },
      "execution_count": null,
      "outputs": []
    },
    {
      "cell_type": "code",
      "source": [],
      "metadata": {
        "id": "h3VXpbqBZRQL"
      },
      "execution_count": null,
      "outputs": []
    },
    {
      "cell_type": "code",
      "source": [],
      "metadata": {
        "id": "bj0d-4dnZRUs"
      },
      "execution_count": null,
      "outputs": []
    },
    {
      "cell_type": "code",
      "source": [],
      "metadata": {
        "id": "JHolLEmAZRZF"
      },
      "execution_count": null,
      "outputs": []
    },
    {
      "cell_type": "code",
      "source": [],
      "metadata": {
        "id": "962OyxAGZRdT"
      },
      "execution_count": null,
      "outputs": []
    },
    {
      "cell_type": "code",
      "source": [],
      "metadata": {
        "id": "V3WBlrkvZRjG"
      },
      "execution_count": null,
      "outputs": []
    },
    {
      "cell_type": "code",
      "source": [],
      "metadata": {
        "id": "wL1B5T3WZRn4"
      },
      "execution_count": null,
      "outputs": []
    },
    {
      "cell_type": "code",
      "source": [],
      "metadata": {
        "id": "B_4lak9CZRsZ"
      },
      "execution_count": null,
      "outputs": []
    },
    {
      "cell_type": "code",
      "source": [],
      "metadata": {
        "id": "CZeMX1OyZRxl"
      },
      "execution_count": null,
      "outputs": []
    },
    {
      "cell_type": "code",
      "source": [],
      "metadata": {
        "id": "0dp_4Y8dZR2C"
      },
      "execution_count": null,
      "outputs": []
    },
    {
      "cell_type": "code",
      "source": [],
      "metadata": {
        "id": "jUCIX5lLZR69"
      },
      "execution_count": null,
      "outputs": []
    },
    {
      "cell_type": "code",
      "source": [],
      "metadata": {
        "id": "0wzZdsuiZR_H"
      },
      "execution_count": null,
      "outputs": []
    },
    {
      "cell_type": "code",
      "source": [],
      "metadata": {
        "id": "rjNwGOt5ZSEW"
      },
      "execution_count": null,
      "outputs": []
    },
    {
      "cell_type": "code",
      "source": [],
      "metadata": {
        "id": "voLESOkuZSIu"
      },
      "execution_count": null,
      "outputs": []
    },
    {
      "cell_type": "code",
      "source": [],
      "metadata": {
        "id": "Tn7qOMhEZSNl"
      },
      "execution_count": null,
      "outputs": []
    },
    {
      "cell_type": "code",
      "source": [],
      "metadata": {
        "id": "xaK_Zuw5ZSS3"
      },
      "execution_count": null,
      "outputs": []
    }
  ]
}