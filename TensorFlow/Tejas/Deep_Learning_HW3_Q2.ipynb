{
  "nbformat": 4,
  "nbformat_minor": 0,
  "metadata": {
    "colab": {
      "provenance": [],
      "collapsed_sections": [],
      "toc_visible": true,
      "machine_shape": "hm",
      "authorship_tag": "ABX9TyMGcmr4ZgZZQvx7c2x0OFNf",
      "include_colab_link": true
    },
    "kernelspec": {
      "name": "python3",
      "display_name": "Python 3"
    },
    "language_info": {
      "name": "python"
    },
    "accelerator": "GPU",
    "gpuClass": "standard"
  },
  "cells": [
    {
      "cell_type": "markdown",
      "metadata": {
        "id": "view-in-github",
        "colab_type": "text"
      },
      "source": [
        "<a href=\"https://colab.research.google.com/github/ram130849/Deep_Learning_Systems_Assignments/blob/main/TensorFlow/Tejas/Deep_Learning_HW3_Q2.ipynb\" target=\"_parent\"><img src=\"https://colab.research.google.com/assets/colab-badge.svg\" alt=\"Open In Colab\"/></a>"
      ]
    },
    {
      "cell_type": "markdown",
      "source": [
        "#Homework 3\n",
        "\n",
        "References:\n",
        "\n",
        "Garbage collector: https://stackoverflow.com/questions/1316767/how-can-i-explicitly-free-memory-in-python\n",
        "\n",
        "Checkpoint code and concept from : https://keras.io/api/callbacks/model_checkpoint/"
      ],
      "metadata": {
        "id": "o94cRuTZ3WRS"
      }
    },
    {
      "cell_type": "code",
      "execution_count": 1,
      "metadata": {
        "colab": {
          "base_uri": "https://localhost:8080/"
        },
        "id": "K4Uibn2I3QC_",
        "outputId": "ce140070-29cf-457e-b127-75c69b112baa"
      },
      "outputs": [
        {
          "output_type": "stream",
          "name": "stdout",
          "text": [
            "Found GPU at: /device:GPU:0\n"
          ]
        }
      ],
      "source": [
        "#Path: TensorFlow/Tejas/\n",
        "import tensorflow as tf\n",
        "device_name = tf.test.gpu_device_name()\n",
        "if device_name != '/device:GPU:0':\n",
        "  raise SystemError('GPU device not found')\n",
        "print('Found GPU at: {}'.format(device_name))"
      ]
    },
    {
      "cell_type": "code",
      "source": [
        "print(\"TensorFlow version:\", tf.__version__)"
      ],
      "metadata": {
        "colab": {
          "base_uri": "https://localhost:8080/"
        },
        "id": "tFN0nSyf3sHO",
        "outputId": "eb778cc3-47f7-4593-a732-39d8a7f6f865"
      },
      "execution_count": 2,
      "outputs": [
        {
          "output_type": "stream",
          "name": "stdout",
          "text": [
            "TensorFlow version: 2.9.2\n"
          ]
        }
      ]
    },
    {
      "cell_type": "code",
      "source": [
        "import tensorflow as tf\n",
        "import timeit\n",
        "\n",
        "device_name = tf.test.gpu_device_name()\n",
        "if device_name != '/device:GPU:0':\n",
        "  print(\n",
        "      '\\n\\nThis error most likely means that this notebook is not '\n",
        "      'configured to use a GPU.  Change this in Notebook Settings via the '\n",
        "      'command palette (cmd/ctrl-shift-P) or the Edit menu.\\n\\n')\n",
        "  raise SystemError('GPU device not found')\n",
        "\n",
        "def cpu():\n",
        "  with tf.device('/cpu:0'):\n",
        "    random_image_cpu = tf.random.normal((100, 100, 100, 3))\n",
        "    net_cpu = tf.keras.layers.Conv2D(32, 7)(random_image_cpu)\n",
        "    return tf.math.reduce_sum(net_cpu)\n",
        "\n",
        "def gpu():\n",
        "  with tf.device('/device:GPU:0'):\n",
        "    random_image_gpu = tf.random.normal((100, 100, 100, 3))\n",
        "    net_gpu = tf.keras.layers.Conv2D(32, 7)(random_image_gpu)\n",
        "    return tf.math.reduce_sum(net_gpu)\n",
        "  \n",
        "# We run each op once to warm up; see: https://stackoverflow.com/a/45067900\n",
        "cpu()\n",
        "gpu()\n",
        "\n",
        "# Run the op several times.\n",
        "print('Time (s) to convolve 32x7x7x3 filter over random 100x100x100x3 images '\n",
        "      '(batch x height x width x channel). Sum of ten runs.')\n",
        "print('CPU (s):')\n",
        "cpu_time = timeit.timeit('cpu()', number=10, setup=\"from __main__ import cpu\")\n",
        "print(cpu_time)\n",
        "print('GPU (s):')\n",
        "gpu_time = timeit.timeit('gpu()', number=10, setup=\"from __main__ import gpu\")\n",
        "print(gpu_time)\n",
        "print('GPU speedup over CPU: {}x'.format(int(cpu_time/gpu_time)))"
      ],
      "metadata": {
        "colab": {
          "base_uri": "https://localhost:8080/"
        },
        "id": "1JaQIpxq3yPG",
        "outputId": "65ee0a3d-cbc0-4014-d4e5-14cd1ed55c02"
      },
      "execution_count": 3,
      "outputs": [
        {
          "output_type": "stream",
          "name": "stdout",
          "text": [
            "Time (s) to convolve 32x7x7x3 filter over random 100x100x100x3 images (batch x height x width x channel). Sum of ten runs.\n",
            "CPU (s):\n",
            "2.151927360000002\n",
            "GPU (s):\n",
            "0.0389262429999917\n",
            "GPU speedup over CPU: 55x\n"
          ]
        }
      ]
    },
    {
      "cell_type": "markdown",
      "source": [
        "##Dependencies"
      ],
      "metadata": {
        "id": "v73xJwHi32fl"
      }
    },
    {
      "cell_type": "code",
      "source": [
        "!pip install tensorflow-addons\n"
      ],
      "metadata": {
        "colab": {
          "base_uri": "https://localhost:8080/"
        },
        "id": "ZyuUlCzRHXAM",
        "outputId": "af582875-e27c-4479-9e70-09e1abeab426"
      },
      "execution_count": 4,
      "outputs": [
        {
          "output_type": "stream",
          "name": "stdout",
          "text": [
            "Looking in indexes: https://pypi.org/simple, https://us-python.pkg.dev/colab-wheels/public/simple/\n",
            "Collecting tensorflow-addons\n",
            "  Downloading tensorflow_addons-0.18.0-cp37-cp37m-manylinux_2_17_x86_64.manylinux2014_x86_64.whl (1.1 MB)\n",
            "\u001b[K     |████████████████████████████████| 1.1 MB 4.3 MB/s \n",
            "\u001b[?25hRequirement already satisfied: packaging in /usr/local/lib/python3.7/dist-packages (from tensorflow-addons) (21.3)\n",
            "Requirement already satisfied: typeguard>=2.7 in /usr/local/lib/python3.7/dist-packages (from tensorflow-addons) (2.7.1)\n",
            "Requirement already satisfied: pyparsing!=3.0.5,>=2.0.2 in /usr/local/lib/python3.7/dist-packages (from packaging->tensorflow-addons) (3.0.9)\n",
            "Installing collected packages: tensorflow-addons\n",
            "Successfully installed tensorflow-addons-0.18.0\n"
          ]
        }
      ]
    },
    {
      "cell_type": "code",
      "source": [
        "import tensorflow_addons as tfa"
      ],
      "metadata": {
        "id": "fMtooImwHMe1"
      },
      "execution_count": 5,
      "outputs": []
    },
    {
      "cell_type": "code",
      "source": [
        "import numpy as np\n",
        "import random\n",
        "import pandas as pd\n",
        "import seaborn as sns\n",
        "import os\n",
        "import matplotlib.pyplot as plt\n",
        "from sklearn.decomposition import PCA\n",
        "from sklearn.manifold import TSNE\n",
        "from tensorflow import keras\n",
        "from tensorflow.keras import layers\n",
        "from keras.models import Model\n",
        "import keras.utils\n",
        "from keras import utils as np_utils\n",
        "from keras.models import Sequential\n",
        "from keras.layers import  Dense, Dropout, Activation, Flatten\n",
        "from tensorflow.keras import optimizers\n",
        "from librosa.core import stft,istft\n",
        "import soundfile as sf\n",
        "from sklearn.model_selection import train_test_split\n",
        "\n",
        "import tensorflow as tf\n",
        "%matplotlib inline"
      ],
      "metadata": {
        "id": "Qa39H3KF3yWK"
      },
      "execution_count": 6,
      "outputs": []
    },
    {
      "cell_type": "markdown",
      "source": [
        "##Load Data Set"
      ],
      "metadata": {
        "id": "rEN0FfHN37T0"
      }
    },
    {
      "cell_type": "code",
      "source": [
        "from google.colab import drive\n",
        "drive.mount('/content/drive')"
      ],
      "metadata": {
        "colab": {
          "base_uri": "https://localhost:8080/"
        },
        "id": "r2oKqtud38Wv",
        "outputId": "bb4b9e97-bd13-412f-f0cf-2610b46f5cb2"
      },
      "execution_count": 7,
      "outputs": [
        {
          "output_type": "stream",
          "name": "stdout",
          "text": [
            "Mounted at /content/drive\n"
          ]
        }
      ]
    },
    {
      "cell_type": "code",
      "source": [
        "cifar10_data = tf.keras.datasets.cifar10\n",
        "(x_train, Y_train), (x_test, Y_test) = cifar10_data.load_data()"
      ],
      "metadata": {
        "colab": {
          "base_uri": "https://localhost:8080/"
        },
        "id": "rLd9pjBX3-yS",
        "outputId": "b9d9c5ce-6578-4cb7-86bb-d75e8077e1cb"
      },
      "execution_count": 8,
      "outputs": [
        {
          "output_type": "stream",
          "name": "stdout",
          "text": [
            "Downloading data from https://www.cs.toronto.edu/~kriz/cifar-10-python.tar.gz\n",
            "170498071/170498071 [==============================] - 11s 0us/step\n"
          ]
        }
      ]
    },
    {
      "cell_type": "code",
      "source": [
        "x_train.shape"
      ],
      "metadata": {
        "colab": {
          "base_uri": "https://localhost:8080/"
        },
        "id": "KMIb1WklBuq_",
        "outputId": "725f0e84-73fe-4540-cc87-360a3876d90c"
      },
      "execution_count": 9,
      "outputs": [
        {
          "output_type": "execute_result",
          "data": {
            "text/plain": [
              "(50000, 32, 32, 3)"
            ]
          },
          "metadata": {},
          "execution_count": 9
        }
      ]
    },
    {
      "cell_type": "markdown",
      "source": [
        "##Rescale to [0,1]"
      ],
      "metadata": {
        "id": "0uj2fprggaCH"
      }
    },
    {
      "cell_type": "code",
      "source": [
        "x_train = x_train/255\n",
        "x_test = x_test/255"
      ],
      "metadata": {
        "id": "o9KypweWgdMh"
      },
      "execution_count": 10,
      "outputs": []
    },
    {
      "cell_type": "markdown",
      "source": [
        "###Labelled and Unlabelled"
      ],
      "metadata": {
        "id": "ZJGNAM3MKkxg"
      }
    },
    {
      "cell_type": "code",
      "source": [
        "X_train_label,X_train_unlabelled = x_train[49500:50000],x_train[0:49500]\n"
      ],
      "metadata": {
        "id": "BJbDFoWHJ_n0"
      },
      "execution_count": 11,
      "outputs": []
    },
    {
      "cell_type": "code",
      "source": [
        "y_train_label,y_train_unlabelled = Y_train[49500:50000],Y_train[0:49500]"
      ],
      "metadata": {
        "id": "ckBofzY_J_ue"
      },
      "execution_count": 12,
      "outputs": []
    },
    {
      "cell_type": "markdown",
      "source": [
        "##PreText Task"
      ],
      "metadata": {
        "id": "hoo6P4izNZp-"
      }
    },
    {
      "cell_type": "markdown",
      "source": [
        "###Class 0 \n",
        "Ref: https://www.tensorflow.org/api_docs/python/tf/zeros"
      ],
      "metadata": {
        "id": "JdN2Na5sMYrF"
      }
    },
    {
      "cell_type": "code",
      "source": [
        "X_train0 = tf.convert_to_tensor(X_train_unlabelled)"
      ],
      "metadata": {
        "id": "hBegqDOZQUVZ"
      },
      "execution_count": 13,
      "outputs": []
    },
    {
      "cell_type": "code",
      "source": [
        "y_train0 = tf.zeros(shape = y_train_unlabelled.shape,dtype=tf.int32)"
      ],
      "metadata": {
        "id": "bXKneU1ZMaH9"
      },
      "execution_count": 14,
      "outputs": []
    },
    {
      "cell_type": "code",
      "source": [
        "y_train0.shape # Just labels hence its (49500,1)"
      ],
      "metadata": {
        "colab": {
          "base_uri": "https://localhost:8080/"
        },
        "id": "vNFDKxLQM9Fd",
        "outputId": "e24145c0-e7a0-496c-8749-61766ba59b95"
      },
      "execution_count": 15,
      "outputs": [
        {
          "output_type": "execute_result",
          "data": {
            "text/plain": [
              "TensorShape([49500, 1])"
            ]
          },
          "metadata": {},
          "execution_count": 15
        }
      ]
    },
    {
      "cell_type": "code",
      "source": [
        "print(\"shape of X : {} and Y is {}\".format(X_train0.shape,y_train0.shape))"
      ],
      "metadata": {
        "colab": {
          "base_uri": "https://localhost:8080/"
        },
        "id": "qXHp21-GQb3W",
        "outputId": "6cf1019e-a8cc-42eb-a24b-12717c25ea2e"
      },
      "execution_count": 16,
      "outputs": [
        {
          "output_type": "stream",
          "name": "stdout",
          "text": [
            "shape of X : (49500, 32, 32, 3) and Y is (49500, 1)\n"
          ]
        }
      ]
    },
    {
      "cell_type": "markdown",
      "source": [
        "###Class 1 \n",
        "Ref: \n",
        "\n",
        "https://www.tensorflow.org/api_docs/python/tf/image/flip_up_down\n",
        "\n",
        "https://www.tensorflow.org/api_docs/python/tf/ones"
      ],
      "metadata": {
        "id": "dKEBdYr8LwXz"
      }
    },
    {
      "cell_type": "code",
      "source": [
        "X_train1 = tf.image.flip_up_down(X_train_unlabelled)"
      ],
      "metadata": {
        "id": "NsAs4HXgLx9k"
      },
      "execution_count": 17,
      "outputs": []
    },
    {
      "cell_type": "code",
      "source": [
        "y_train1 = tf.ones(shape=y_train_unlabelled[0:49500].shape,dtype=tf.int32)"
      ],
      "metadata": {
        "id": "tVb6Fa3uNkzQ"
      },
      "execution_count": 18,
      "outputs": []
    },
    {
      "cell_type": "code",
      "source": [
        "print(\"shape of X : {} and Y is {}\".format(X_train1.shape,y_train1.shape))"
      ],
      "metadata": {
        "colab": {
          "base_uri": "https://localhost:8080/"
        },
        "id": "XN_f5hIxNtsZ",
        "outputId": "14043d27-1be1-4ce0-f852-8e9679226339"
      },
      "execution_count": 19,
      "outputs": [
        {
          "output_type": "stream",
          "name": "stdout",
          "text": [
            "shape of X : (49500, 32, 32, 3) and Y is (49500, 1)\n"
          ]
        }
      ]
    },
    {
      "cell_type": "code",
      "source": [
        "y_train1"
      ],
      "metadata": {
        "colab": {
          "base_uri": "https://localhost:8080/"
        },
        "id": "l73_u3i7N5h2",
        "outputId": "30b21670-a659-47fd-f913-8af046d108ae"
      },
      "execution_count": 20,
      "outputs": [
        {
          "output_type": "execute_result",
          "data": {
            "text/plain": [
              "<tf.Tensor: shape=(49500, 1), dtype=int32, numpy=\n",
              "array([[1],\n",
              "       [1],\n",
              "       [1],\n",
              "       ...,\n",
              "       [1],\n",
              "       [1],\n",
              "       [1]], dtype=int32)>"
            ]
          },
          "metadata": {},
          "execution_count": 20
        }
      ]
    },
    {
      "cell_type": "markdown",
      "source": [
        "###Class 2"
      ],
      "metadata": {
        "id": "uAECMy7lN89U"
      }
    },
    {
      "cell_type": "code",
      "source": [
        "X_train2 = tf.image.rot90(X_train_unlabelled)"
      ],
      "metadata": {
        "id": "mH1ExM54Ob-z"
      },
      "execution_count": 21,
      "outputs": []
    },
    {
      "cell_type": "code",
      "source": [
        "y_train2 = 2*tf.ones(shape=y_train_unlabelled[0:49500].shape,dtype=tf.int32)"
      ],
      "metadata": {
        "id": "yAZpm826Olmo"
      },
      "execution_count": 22,
      "outputs": []
    },
    {
      "cell_type": "code",
      "source": [
        "print(\"shape of X : {} and Y is {}\".format(X_train2.shape,y_train2.shape))\n"
      ],
      "metadata": {
        "colab": {
          "base_uri": "https://localhost:8080/"
        },
        "id": "SJjqGg6tQIsQ",
        "outputId": "b97e972b-a64d-4d84-a109-7e29c42f62ac"
      },
      "execution_count": 23,
      "outputs": [
        {
          "output_type": "stream",
          "name": "stdout",
          "text": [
            "shape of X : (49500, 32, 32, 3) and Y is (49500, 1)\n"
          ]
        }
      ]
    },
    {
      "cell_type": "markdown",
      "source": [
        "##Rescale Data to [-1,1]"
      ],
      "metadata": {
        "id": "3O-y4ACWg5jQ"
      }
    },
    {
      "cell_type": "code",
      "source": [
        "def rescale(data):\n",
        "  data = tf.math.divide(\n",
        "   tf.subtract(\n",
        "      data, \n",
        "      tf.reduce_min(data)\n",
        "   ), \n",
        "   tf.subtract(\n",
        "      tf.reduce_max(data), \n",
        "      tf.reduce_min(data)\n",
        "   )\n",
        "  )\n",
        "  return 2*data-1"
      ],
      "metadata": {
        "id": "IMMeW_c_juND"
      },
      "execution_count": 24,
      "outputs": []
    },
    {
      "cell_type": "code",
      "source": [
        "X_train_label = X_train_label - X_train_label.mean()"
      ],
      "metadata": {
        "id": "jHzocuBxhxBK"
      },
      "execution_count": 25,
      "outputs": []
    },
    {
      "cell_type": "code",
      "source": [
        "X_train_unlabelled = X_train_unlabelled - X_train_unlabelled.mean()"
      ],
      "metadata": {
        "id": "VPbqwIxkh4BK"
      },
      "execution_count": 26,
      "outputs": []
    },
    {
      "cell_type": "code",
      "source": [
        "x_test = x_test - x_test.mean()"
      ],
      "metadata": {
        "id": "LTc3Ep_vhLR_"
      },
      "execution_count": 27,
      "outputs": []
    },
    {
      "cell_type": "code",
      "source": [
        "re_X_train0 = tf.cast(X_train0,tf.float32)\n",
        "re_X_train1 = tf.cast(X_train1,tf.float32)\n",
        "re_X_train2 = tf.cast(X_train2,tf.float32)\n"
      ],
      "metadata": {
        "id": "Y3MPAKlskvJf"
      },
      "execution_count": 28,
      "outputs": []
    },
    {
      "cell_type": "markdown",
      "source": [
        "###Concat"
      ],
      "metadata": {
        "id": "hTWfj_jOQkAr"
      }
    },
    {
      "cell_type": "code",
      "source": [
        "X_train_merged = tf.concat([X_train0, X_train1,X_train2], 0)"
      ],
      "metadata": {
        "colab": {
          "base_uri": "https://localhost:8080/",
          "height": 324
        },
        "id": "1wN8ZRSCQjij",
        "outputId": "91d150ef-b309-4787-db5b-98f94cf60d7c"
      },
      "execution_count": 32,
      "outputs": [
        {
          "output_type": "error",
          "ename": "InvalidArgumentError",
          "evalue": "ignored",
          "traceback": [
            "\u001b[0;31m---------------------------------------------------------------------------\u001b[0m",
            "\u001b[0;31mInvalidArgumentError\u001b[0m                      Traceback (most recent call last)",
            "\u001b[0;32m<ipython-input-32-18d13757ad6e>\u001b[0m in \u001b[0;36m<module>\u001b[0;34m\u001b[0m\n\u001b[0;32m----> 1\u001b[0;31m \u001b[0mX_train_merged\u001b[0m \u001b[0;34m=\u001b[0m \u001b[0mtf\u001b[0m\u001b[0;34m.\u001b[0m\u001b[0mconcat\u001b[0m\u001b[0;34m(\u001b[0m\u001b[0;34m[\u001b[0m\u001b[0mre_X_train0\u001b[0m\u001b[0;34m,\u001b[0m \u001b[0mre_X_train1\u001b[0m\u001b[0;34m,\u001b[0m\u001b[0mre_X_train2\u001b[0m\u001b[0;34m]\u001b[0m\u001b[0;34m,\u001b[0m \u001b[0;36m0\u001b[0m\u001b[0;34m)\u001b[0m\u001b[0;34m\u001b[0m\u001b[0;34m\u001b[0m\u001b[0m\n\u001b[0m",
            "\u001b[0;32m/usr/local/lib/python3.7/dist-packages/tensorflow/python/util/traceback_utils.py\u001b[0m in \u001b[0;36merror_handler\u001b[0;34m(*args, **kwargs)\u001b[0m\n\u001b[1;32m    151\u001b[0m     \u001b[0;32mexcept\u001b[0m \u001b[0mException\u001b[0m \u001b[0;32mas\u001b[0m \u001b[0me\u001b[0m\u001b[0;34m:\u001b[0m\u001b[0;34m\u001b[0m\u001b[0;34m\u001b[0m\u001b[0m\n\u001b[1;32m    152\u001b[0m       \u001b[0mfiltered_tb\u001b[0m \u001b[0;34m=\u001b[0m \u001b[0m_process_traceback_frames\u001b[0m\u001b[0;34m(\u001b[0m\u001b[0me\u001b[0m\u001b[0;34m.\u001b[0m\u001b[0m__traceback__\u001b[0m\u001b[0;34m)\u001b[0m\u001b[0;34m\u001b[0m\u001b[0;34m\u001b[0m\u001b[0m\n\u001b[0;32m--> 153\u001b[0;31m       \u001b[0;32mraise\u001b[0m \u001b[0me\u001b[0m\u001b[0;34m.\u001b[0m\u001b[0mwith_traceback\u001b[0m\u001b[0;34m(\u001b[0m\u001b[0mfiltered_tb\u001b[0m\u001b[0;34m)\u001b[0m \u001b[0;32mfrom\u001b[0m \u001b[0;32mNone\u001b[0m\u001b[0;34m\u001b[0m\u001b[0;34m\u001b[0m\u001b[0m\n\u001b[0m\u001b[1;32m    154\u001b[0m     \u001b[0;32mfinally\u001b[0m\u001b[0;34m:\u001b[0m\u001b[0;34m\u001b[0m\u001b[0;34m\u001b[0m\u001b[0m\n\u001b[1;32m    155\u001b[0m       \u001b[0;32mdel\u001b[0m \u001b[0mfiltered_tb\u001b[0m\u001b[0;34m\u001b[0m\u001b[0;34m\u001b[0m\u001b[0m\n",
            "\u001b[0;32m/usr/local/lib/python3.7/dist-packages/tensorflow/python/framework/ops.py\u001b[0m in \u001b[0;36mraise_from_not_ok_status\u001b[0;34m(e, name)\u001b[0m\n\u001b[1;32m   7162\u001b[0m \u001b[0;32mdef\u001b[0m \u001b[0mraise_from_not_ok_status\u001b[0m\u001b[0;34m(\u001b[0m\u001b[0me\u001b[0m\u001b[0;34m,\u001b[0m \u001b[0mname\u001b[0m\u001b[0;34m)\u001b[0m\u001b[0;34m:\u001b[0m\u001b[0;34m\u001b[0m\u001b[0;34m\u001b[0m\u001b[0m\n\u001b[1;32m   7163\u001b[0m   \u001b[0me\u001b[0m\u001b[0;34m.\u001b[0m\u001b[0mmessage\u001b[0m \u001b[0;34m+=\u001b[0m \u001b[0;34m(\u001b[0m\u001b[0;34m\" name: \"\u001b[0m \u001b[0;34m+\u001b[0m \u001b[0mname\u001b[0m \u001b[0;32mif\u001b[0m \u001b[0mname\u001b[0m \u001b[0;32mis\u001b[0m \u001b[0;32mnot\u001b[0m \u001b[0;32mNone\u001b[0m \u001b[0;32melse\u001b[0m \u001b[0;34m\"\"\u001b[0m\u001b[0;34m)\u001b[0m\u001b[0;34m\u001b[0m\u001b[0;34m\u001b[0m\u001b[0m\n\u001b[0;32m-> 7164\u001b[0;31m   \u001b[0;32mraise\u001b[0m \u001b[0mcore\u001b[0m\u001b[0;34m.\u001b[0m\u001b[0m_status_to_exception\u001b[0m\u001b[0;34m(\u001b[0m\u001b[0me\u001b[0m\u001b[0;34m)\u001b[0m \u001b[0;32mfrom\u001b[0m \u001b[0;32mNone\u001b[0m  \u001b[0;31m# pylint: disable=protected-access\u001b[0m\u001b[0;34m\u001b[0m\u001b[0;34m\u001b[0m\u001b[0m\n\u001b[0m\u001b[1;32m   7165\u001b[0m \u001b[0;34m\u001b[0m\u001b[0m\n\u001b[1;32m   7166\u001b[0m \u001b[0;34m\u001b[0m\u001b[0m\n",
            "\u001b[0;31mInvalidArgumentError\u001b[0m: cannot compute ConcatV2 as input #2(zero-based) was expected to be a double tensor but is a float tensor [Op:ConcatV2] name: concat"
          ]
        }
      ]
    },
    {
      "cell_type": "code",
      "source": [
        "y_train_merged = tf.concat([y_train0, y_train1,y_train2], 0)"
      ],
      "metadata": {
        "id": "PSy2D_UsQ5wH"
      },
      "execution_count": null,
      "outputs": []
    },
    {
      "cell_type": "markdown",
      "source": [
        "###Pre Text Model\n",
        "\n"
      ],
      "metadata": {
        "id": "JR-WUMPcQ_yP"
      }
    },
    {
      "cell_type": "code",
      "source": [
        "pretextmodel = keras.Sequential([\n",
        "    keras.layers.Conv2D(filters = 10,kernel_size = (5,5),strides = 1, activation = 'relu',data_format='channels_last',input_shape=(32,32,3)),\n",
        "    keras.layers.MaxPool2D(pool_size = (2,2),strides = 2),\n",
        "    keras.layers.Conv2D(filters = 10,kernel_size = (5,5),strides = 1, activation = 'relu',data_format='channels_last' ),\n",
        "    keras.layers.MaxPool2D(pool_size = (2,2),strides = 2),\n",
        "    keras.layers.Flatten(),\n",
        "    keras.layers.Dense(units = 20, activation = 'relu', kernel_initializer='he_normal'),\n",
        "    keras.layers.Dense(units = 3, activation = 'softmax', kernel_initializer = 'he_normal')\n",
        "])"
      ],
      "metadata": {
        "id": "c-pyvqxVRzn1"
      },
      "execution_count": null,
      "outputs": []
    },
    {
      "cell_type": "code",
      "source": [
        "pretextmodel.compile(optimizer='adam',loss='sparse_categorical_crossentropy',metrics=['accuracy'])"
      ],
      "metadata": {
        "id": "5x-8hQTcR7Lu"
      },
      "execution_count": null,
      "outputs": []
    },
    {
      "cell_type": "code",
      "source": [
        "pretextmodel.summary()"
      ],
      "metadata": {
        "id": "k9DrOcBNUXlA"
      },
      "execution_count": null,
      "outputs": []
    },
    {
      "cell_type": "markdown",
      "source": [
        "Checkpoint code and concept from : https://keras.io/api/callbacks/model_checkpoint/"
      ],
      "metadata": {
        "id": "CCz9CHWWkaYf"
      }
    },
    {
      "cell_type": "code",
      "source": [
        "history = pretextmodel.fit(X_train_merged, y_train_merged, batch_size=128, epochs=100)"
      ],
      "metadata": {
        "id": "I-kkvJQlR-qk"
      },
      "execution_count": null,
      "outputs": []
    },
    {
      "cell_type": "code",
      "source": [
        "pretextmodel.save('/content/drive/MyDrive/ENGR-E-533 /DATA/HW3/Models/pretext_model.h5')"
      ],
      "metadata": {
        "id": "IA9K_gM-oxHJ"
      },
      "execution_count": null,
      "outputs": []
    },
    {
      "cell_type": "markdown",
      "source": [
        "##Baseline Model"
      ],
      "metadata": {
        "id": "Ua_wNJa-pMon"
      }
    },
    {
      "cell_type": "code",
      "source": [
        "baselinemodel = keras.Sequential([\n",
        "    keras.layers.Conv2D(filters = 10,kernel_size = (5,5),strides = 1, activation = 'relu',data_format='channels_last',input_shape=(32,32,3)),\n",
        "    keras.layers.MaxPool2D(pool_size = (2,2),strides = 2),\n",
        "    keras.layers.Conv2D(filters = 10,kernel_size = (5,5),strides = 1, activation = 'relu',data_format='channels_last' ),\n",
        "    keras.layers.MaxPool2D(pool_size = (2,2),strides = 2),\n",
        "    keras.layers.Flatten(),\n",
        "    keras.layers.Dense(units = 20, activation = 'relu', kernel_initializer='he_normal'),\n",
        "    keras.layers.Dense(units = 10, activation = 'softmax', kernel_initializer = 'he_normal')\n",
        "])"
      ],
      "metadata": {
        "id": "bE_o3xCFpFvR"
      },
      "execution_count": null,
      "outputs": []
    },
    {
      "cell_type": "code",
      "source": [
        "baselinemodel.compile(optimizer='adam',\n",
        "                loss='sparse_categorical_crossentropy',\n",
        "                metrics=['accuracy'])\n"
      ],
      "metadata": {
        "id": "0nEz_ns_ptK2"
      },
      "execution_count": null,
      "outputs": []
    },
    {
      "cell_type": "code",
      "source": [
        "baselinemodel.summary()"
      ],
      "metadata": {
        "id": "-o3lgzP9q-9o"
      },
      "execution_count": null,
      "outputs": []
    },
    {
      "cell_type": "code",
      "source": [
        "baselinehistory = baselinemodel.fit(X_train_label, \n",
        "          y_train_label,  \n",
        "          epochs=10000,\n",
        "          validation_data = (x_test, Y_test),\n",
        "          verbose=1,\n",
        "          batch_size=256)"
      ],
      "metadata": {
        "id": "ifXrKribqq-S"
      },
      "execution_count": null,
      "outputs": []
    },
    {
      "cell_type": "code",
      "source": [
        "baselinemodel.save('/content/drive/MyDrive/ENGR-E-533 /DATA/HW3/Models/baseline_model.h5')"
      ],
      "metadata": {
        "id": "_LVqZKAPytB-"
      },
      "execution_count": null,
      "outputs": []
    },
    {
      "cell_type": "markdown",
      "source": [
        "##Transfer Learning\n",
        "\n",
        "Ref and code: https://www.tensorflow.org/js/guide/models_and_layers\n",
        "\n",
        "Layer wise optimizer customization: https://www.tensorflow.org/addons/api_docs/python/tfa/optimizers/MultiOptimizer"
      ],
      "metadata": {
        "id": "xPKkwaQFy-n4"
      }
    },
    {
      "cell_type": "code",
      "source": [
        "TL_model = tf.keras.models.load_model('/content/drive/MyDrive/ENGR-E-533 /DATA/HW3/Models/pretext_model.h5')"
      ],
      "metadata": {
        "id": "oB71u9BBzBYp"
      },
      "execution_count": null,
      "outputs": []
    },
    {
      "cell_type": "code",
      "source": [
        "TL_model.get_weights()"
      ],
      "metadata": {
        "id": "hcm9CCbtTgil"
      },
      "execution_count": null,
      "outputs": []
    },
    {
      "cell_type": "code",
      "source": [
        "TL_model.summary()"
      ],
      "metadata": {
        "id": "1GgoiORHUwqq"
      },
      "execution_count": null,
      "outputs": []
    },
    {
      "cell_type": "code",
      "source": [
        "TL_model.pop()"
      ],
      "metadata": {
        "id": "8Pa0UiPU023e"
      },
      "execution_count": null,
      "outputs": []
    },
    {
      "cell_type": "code",
      "source": [
        "TL_model.add(Dense(10, activation='softmax', kernel_initializer='he_normal'))"
      ],
      "metadata": {
        "id": "iH-q3Ia-Esx_"
      },
      "execution_count": null,
      "outputs": []
    },
    {
      "cell_type": "code",
      "source": [
        "TL_model.summary()\n"
      ],
      "metadata": {
        "id": "syvsspRxI9uX"
      },
      "execution_count": null,
      "outputs": []
    },
    {
      "cell_type": "code",
      "source": [
        "optimizers = [\n",
        "    tf.keras.optimizers.Adam(learning_rate=1e-6),\n",
        "    tf.keras.optimizers.Adam(learning_rate=1e-3)\n",
        "]"
      ],
      "metadata": {
        "id": "BPlLeFR9FDP3"
      },
      "execution_count": null,
      "outputs": []
    },
    {
      "cell_type": "code",
      "source": [
        "optimizers_and_layers = [(optimizers[0], TL_model.layers[:-1]), (optimizers[1], TL_model.layers[-1])]"
      ],
      "metadata": {
        "id": "Ow4QhvpwGEys"
      },
      "execution_count": null,
      "outputs": []
    },
    {
      "cell_type": "code",
      "source": [
        "optimizer1 = tfa.optimizers.MultiOptimizer(optimizers_and_layers)"
      ],
      "metadata": {
        "id": "XxdmV0IwGPL4"
      },
      "execution_count": null,
      "outputs": []
    },
    {
      "cell_type": "code",
      "source": [
        "TL_model.compile(optimizer=optimizer1,\n",
        "                loss='sparse_categorical_crossentropy',\n",
        "                metrics=['accuracy'])\n"
      ],
      "metadata": {
        "id": "xgAO5S8aKFAM"
      },
      "execution_count": null,
      "outputs": []
    },
    {
      "cell_type": "code",
      "source": [
        "TL_history = TL_model.fit(X_train_label, \n",
        "          y_train_label,  \n",
        "          epochs=10000,\n",
        "          validation_data = (x_test, Y_test),\n",
        "          verbose=1,\n",
        "          batch_size=512)"
      ],
      "metadata": {
        "id": "wltdXiq7KH9-"
      },
      "execution_count": null,
      "outputs": []
    }
  ]
}