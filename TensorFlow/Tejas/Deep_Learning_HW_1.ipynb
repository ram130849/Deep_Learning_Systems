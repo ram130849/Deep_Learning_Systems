{
  "nbformat": 4,
  "nbformat_minor": 0,
  "metadata": {
    "colab": {
      "provenance": [],
      "toc_visible": true,
      "authorship_tag": "ABX9TyOR4tBfxhmlSiwsdXLwGOc3",
      "include_colab_link": true
    },
    "kernelspec": {
      "name": "python3",
      "display_name": "Python 3"
    },
    "language_info": {
      "name": "python"
    },
    "accelerator": "GPU"
  },
  "cells": [
    {
      "cell_type": "markdown",
      "metadata": {
        "id": "view-in-github",
        "colab_type": "text"
      },
      "source": [
        "<a href=\"https://colab.research.google.com/github/ram130849/Deep_Learning_Systems_Assignments/blob/main/TensorFlow/Tejas/Deep_Learning_HW_1.ipynb\" target=\"_parent\"><img src=\"https://colab.research.google.com/assets/colab-badge.svg\" alt=\"Open In Colab\"/></a>"
      ]
    },
    {
      "cell_type": "markdown",
      "source": [
        "# Assignment 1\n",
        "\n",
        "Discussed with : Ramki Ramamurthy and Sushant Kotwal\n",
        "\n",
        "References:</br>\n",
        "1.https://www.tensorflow.org/tutorials/quickstart/beginner </br>\n",
        "2.https://pyimagesearch.com/2021/05/06/implementing-feedforward-neural-networks-with-keras-and-tensorflow/</br>\n",
        "3.https://machinelearningmastery.com/handwritten-digit-recognition-using-convolutional-neural-networks-python-keras/</br>\n",
        "4.https://www.tensorflow.org/tensorboard/tensorboard_projector_plugin</br>"
      ],
      "metadata": {
        "id": "B2BEwFXUIYVk"
      }
    },
    {
      "cell_type": "code",
      "execution_count": 5,
      "metadata": {
        "id": "rG7Jwi--TyOu",
        "outputId": "925ea784-a3c3-45d7-bfa7-ae1437a4416f",
        "colab": {
          "base_uri": "https://localhost:8080/"
        }
      },
      "outputs": [
        {
          "output_type": "stream",
          "name": "stdout",
          "text": [
            "Found GPU at: /device:GPU:0\n"
          ]
        }
      ],
      "source": [
        "#Path: TensorFlow/Tejas/\n",
        "import tensorflow as tf\n",
        "device_name = tf.test.gpu_device_name()\n",
        "if device_name != '/device:GPU:0':\n",
        "  raise SystemError('GPU device not found')\n",
        "print('Found GPU at: {}'.format(device_name))\n",
        "\n",
        "import numpy as np\n",
        "import pandas as pd\n",
        "import seaborn as sns\n",
        "import matplotlib.pyplot as plt"
      ]
    },
    {
      "cell_type": "code",
      "source": [
        "\n",
        "print(\"TensorFlow version:\", tf.__version__)"
      ],
      "metadata": {
        "id": "w-lnZc89FDAW",
        "outputId": "729bfce7-46ec-44b3-92f1-3c3165b736ea",
        "colab": {
          "base_uri": "https://localhost:8080/"
        }
      },
      "execution_count": 3,
      "outputs": [
        {
          "output_type": "stream",
          "name": "stdout",
          "text": [
            "TensorFlow version: 2.8.2\n"
          ]
        }
      ]
    },
    {
      "cell_type": "markdown",
      "source": [
        "#Code to check connection and usage of GPU"
      ],
      "metadata": {
        "id": "1WlZapw-EQZo"
      }
    },
    {
      "cell_type": "code",
      "source": [
        "import tensorflow as tf\n",
        "import timeit\n",
        "\n",
        "device_name = tf.test.gpu_device_name()\n",
        "if device_name != '/device:GPU:0':\n",
        "  print(\n",
        "      '\\n\\nThis error most likely means that this notebook is not '\n",
        "      'configured to use a GPU.  Change this in Notebook Settings via the '\n",
        "      'command palette (cmd/ctrl-shift-P) or the Edit menu.\\n\\n')\n",
        "  raise SystemError('GPU device not found')\n",
        "\n",
        "def cpu():\n",
        "  with tf.device('/cpu:0'):\n",
        "    random_image_cpu = tf.random.normal((100, 100, 100, 3))\n",
        "    net_cpu = tf.keras.layers.Conv2D(32, 7)(random_image_cpu)\n",
        "    return tf.math.reduce_sum(net_cpu)\n",
        "\n",
        "def gpu():\n",
        "  with tf.device('/device:GPU:0'):\n",
        "    random_image_gpu = tf.random.normal((100, 100, 100, 3))\n",
        "    net_gpu = tf.keras.layers.Conv2D(32, 7)(random_image_gpu)\n",
        "    return tf.math.reduce_sum(net_gpu)\n",
        "  \n",
        "# We run each op once to warm up; see: https://stackoverflow.com/a/45067900\n",
        "cpu()\n",
        "gpu()\n",
        "\n",
        "# Run the op several times.\n",
        "print('Time (s) to convolve 32x7x7x3 filter over random 100x100x100x3 images '\n",
        "      '(batch x height x width x channel). Sum of ten runs.')\n",
        "print('CPU (s):')\n",
        "cpu_time = timeit.timeit('cpu()', number=10, setup=\"from __main__ import cpu\")\n",
        "print(cpu_time)\n",
        "print('GPU (s):')\n",
        "gpu_time = timeit.timeit('gpu()', number=10, setup=\"from __main__ import gpu\")\n",
        "print(gpu_time)\n",
        "print('GPU speedup over CPU: {}x'.format(int(cpu_time/gpu_time)))"
      ],
      "metadata": {
        "id": "P9jgT3FwhC6K",
        "outputId": "7781ef60-dc97-4d2a-afd8-b7956a64e891",
        "colab": {
          "base_uri": "https://localhost:8080/"
        }
      },
      "execution_count": 4,
      "outputs": [
        {
          "output_type": "stream",
          "name": "stdout",
          "text": [
            "Time (s) to convolve 32x7x7x3 filter over random 100x100x100x3 images (batch x height x width x channel). Sum of ten runs.\n",
            "CPU (s):\n",
            "3.0012950760000194\n",
            "GPU (s):\n",
            "0.04059034499999825\n",
            "GPU speedup over CPU: 73x\n"
          ]
        }
      ]
    },
    {
      "cell_type": "markdown",
      "source": [
        "# Build Network  \n",
        "##Q1.1"
      ],
      "metadata": {
        "id": "lqVMVqr6Egm1"
      }
    },
    {
      "cell_type": "code",
      "source": [
        "\n",
        "# Plot ad hoc mnist instances\n",
        "from tensorflow.keras.datasets import mnist\n",
        "\n",
        "# load (downloaded if needed) the MNIST dataset\n",
        "(X_train, y_train), (X_test, y_test) = mnist.load_data()\n"
      ],
      "metadata": {
        "id": "yJEaF1GIiFyL",
        "outputId": "85503966-54a2-4cd4-cd0f-7c228cede423",
        "colab": {
          "base_uri": "https://localhost:8080/"
        }
      },
      "execution_count": 6,
      "outputs": [
        {
          "output_type": "stream",
          "name": "stdout",
          "text": [
            "Downloading data from https://storage.googleapis.com/tensorflow/tf-keras-datasets/mnist.npz\n",
            "11493376/11490434 [==============================] - 0s 0us/step\n",
            "11501568/11490434 [==============================] - 0s 0us/step\n"
          ]
        }
      ]
    },
    {
      "cell_type": "code",
      "source": [
        "# Lets see the shapes of each Data sets\n",
        "print(\"TRAIN SET:\")\n",
        "print(\"Training Set X_train shape is : {}\".format(X_train.shape))\n",
        "print(\"Training Set y_train shape is : {}\".format(y_train.shape))\n",
        "print(\"____\"*25)\n",
        "print(\"TEST SET:\")\n",
        "print(\"Test Set X_test shape is : {}\".format(X_test.shape))\n",
        "print(\"Test Set y_test shape is : {}\".format(y_test.shape))"
      ],
      "metadata": {
        "id": "k8GMUC79GD1R",
        "outputId": "81da1148-579d-4369-cd8f-6f303fe4821e",
        "colab": {
          "base_uri": "https://localhost:8080/"
        }
      },
      "execution_count": 13,
      "outputs": [
        {
          "output_type": "stream",
          "name": "stdout",
          "text": [
            "TRAIN SET:\n",
            "Training Set X_train shape is : (60000, 28, 28)\n",
            "Training Set y_train shape is : (60000,)\n",
            "____________________________________________________________________________________________________\n",
            "TEST SET:\n",
            "Test Set X_test shape is : (10000, 28, 28)\n",
            "Test Set y_test shape is : (10000,)\n"
          ]
        }
      ]
    },
    {
      "cell_type": "code",
      "source": [
        "print(y_train[0])\n",
        "\n",
        "# Lets its print an image\n",
        "plt.imshow(X_train[0], cmap=plt.get_cmap('gray'))\n",
        "\n",
        "# So y_train has the label and X_train has its vectorial representation"
      ],
      "metadata": {
        "id": "lwMPlzQjHYL7",
        "outputId": "8d97b9a5-1892-4c40-b70f-308fdaadf1ca",
        "colab": {
          "base_uri": "https://localhost:8080/",
          "height": 301
        }
      },
      "execution_count": 18,
      "outputs": [
        {
          "output_type": "stream",
          "name": "stdout",
          "text": [
            "5\n"
          ]
        },
        {
          "output_type": "execute_result",
          "data": {
            "text/plain": [
              "<matplotlib.image.AxesImage at 0x7f6ed5387f50>"
            ]
          },
          "metadata": {},
          "execution_count": 18
        },
        {
          "output_type": "display_data",
          "data": {
            "text/plain": [
              "<Figure size 432x288 with 1 Axes>"
            ],
            "image/png": "[encoded data removed]"
          },
          "metadata": {
            "needs_background": "light"
          }
        }
      ]
    },
    {
      "cell_type": "markdown",
      "source": [
        "##Library for Model Definition"
      ],
      "metadata": {
        "id": "wYZ0Mk89Npkr"
      }
    },
    {
      "cell_type": "code",
      "source": [
        "from tensorflow import keras\n",
        "from tensorflow.keras import layers"
      ],
      "metadata": {
        "id": "d8trw8omNkW2"
      },
      "execution_count": 20,
      "outputs": []
    },
    {
      "cell_type": "code",
      "source": [
        "# Build Sequential Model\n",
        "model = keras.Sequential([\n",
        "  layers.Flatten(input_shape=(28, 28)),\n",
        "  layers.Dense(1024, activation='relu'),\n",
        "  layers.Dense(1024,activation='relu'),\n",
        "  layers.Dense(1024,activation='relu'),\n",
        "  layers.Dense(1024,activation='relu'),\n",
        "  layers.Dense(10)\n",
        "])\n",
        "print(model.summary())"
      ],
      "metadata": {
        "id": "qP4LGORYILtx",
        "outputId": "24f12381-4d1f-496f-964e-0eeb6a3eae93",
        "colab": {
          "base_uri": "https://localhost:8080/"
        }
      },
      "execution_count": 25,
      "outputs": [
        {
          "output_type": "stream",
          "name": "stdout",
          "text": [
            "Model: \"sequential_4\"\n",
            "_________________________________________________________________\n",
            " Layer (type)                Output Shape              Param #   \n",
            "=================================================================\n",
            " flatten_4 (Flatten)         (None, 784)               0         \n",
            "                                                                 \n",
            " dense_14 (Dense)            (None, 1024)              803840    \n",
            "                                                                 \n",
            " dense_15 (Dense)            (None, 1024)              1049600   \n",
            "                                                                 \n",
            " dense_16 (Dense)            (None, 1024)              1049600   \n",
            "                                                                 \n",
            " dense_17 (Dense)            (None, 1024)              1049600   \n",
            "                                                                 \n",
            " dense_18 (Dense)            (None, 10)                10250     \n",
            "                                                                 \n",
            "=================================================================\n",
            "Total params: 3,962,890\n",
            "Trainable params: 3,962,890\n",
            "Non-trainable params: 0\n",
            "_________________________________________________________________\n",
            "None\n"
          ]
        }
      ]
    },
    {
      "cell_type": "markdown",
      "source": [
        "Check:\n",
        "param_number = output_channel_number * (input_channel_number + 1)\n",
        "\n",
        "Dense layer 1 = 1024 * [784 + 1] = 803840 \n",
        "\n",
        "Dense layer 2 = 1024*1025 = 1049600\n",
        "\n",
        "Intuition is that its the connections ( Weights ) between the two layers that are to be trained."
      ],
      "metadata": {
        "id": "qWlVXqRbPNGc"
      }
    },
    {
      "cell_type": "code",
      "source": [
        "# Read that if we use softmax activation in the last layer then loss \n",
        "# calculation will not be right, so I used softmax on output of model\n",
        "\n"
      ],
      "metadata": {
        "id": "7Y_1u97vOLkf"
      },
      "execution_count": null,
      "outputs": []
    },
    {
      "cell_type": "markdown",
      "source": [],
      "metadata": {
        "id": "9uNvG5plISAp"
      }
    }
  ]
}