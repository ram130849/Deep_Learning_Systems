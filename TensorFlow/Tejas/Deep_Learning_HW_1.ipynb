{
  "nbformat": 4,
  "nbformat_minor": 0,
  "metadata": {
    "colab": {
      "provenance": [],
      "toc_visible": true,
      "authorship_tag": "ABX9TyM4e43YJlACiLuZ4zaoYjWP",
      "include_colab_link": true
    },
    "kernelspec": {
      "name": "python3",
      "display_name": "Python 3"
    },
    "language_info": {
      "name": "python"
    },
    "accelerator": "GPU"
  },
  "cells": [
    {
      "cell_type": "markdown",
      "metadata": {
        "id": "view-in-github",
        "colab_type": "text"
      },
      "source": [
        "<a href=\"https://colab.research.google.com/github/ram130849/Deep_Learning_Systems_Assignments/blob/main/TensorFlow/Tejas/Deep_Learning_HW_1.ipynb\" target=\"_parent\"><img src=\"https://colab.research.google.com/assets/colab-badge.svg\" alt=\"Open In Colab\"/></a>"
      ]
    },
    {
      "cell_type": "markdown",
      "source": [
        "# Assignment 1\n",
        "\n",
        "Discussed with : Ramki Ramamurthy and Sushant Kotwal\n",
        "\n",
        "References:</br>\n",
        "1.https://www.tensorflow.org/tutorials/quickstart/beginner </br>\n",
        "2.https://pyimagesearch.com/2021/05/06/implementing-feedforward-neural-networks-with-keras-and-tensorflow/</br>\n",
        "3.https://machinelearningmastery.com/handwritten-digit-recognition-using-convolutional-neural-networks-python-keras/</br>\n",
        "4.https://www.tensorflow.org/tensorboard/tensorboard_projector_plugin</br>\n",
        "5.https://www.machinelearningplus.com/plots/subplots-python-matplotlib/#:~:text=Subplots%20mean%20a%20group%20of,canvas%20that%20holds%20multiple%20plots. </br>\n",
        "6.https://numpy.org/doc/stable/reference/generated/numpy.argsort.html </br>\n",
        "7.https://www.tensorflow.org/guide/keras/sequential_model </br>"
      ],
      "metadata": {
        "id": "B2BEwFXUIYVk"
      }
    },
    {
      "cell_type": "code",
      "execution_count": 93,
      "metadata": {
        "id": "rG7Jwi--TyOu",
        "outputId": "bade1063-a4ac-44f4-fd61-d94cabd69dbc",
        "colab": {
          "base_uri": "https://localhost:8080/"
        }
      },
      "outputs": [
        {
          "output_type": "stream",
          "name": "stdout",
          "text": [
            "Found GPU at: /device:GPU:0\n"
          ]
        }
      ],
      "source": [
        "#Path: TensorFlow/Tejas/\n",
        "import tensorflow as tf\n",
        "device_name = tf.test.gpu_device_name()\n",
        "if device_name != '/device:GPU:0':\n",
        "  raise SystemError('GPU device not found')\n",
        "print('Found GPU at: {}'.format(device_name))\n",
        "\n",
        "import numpy as np\n",
        "import pandas as pd\n",
        "import seaborn as sns\n",
        "import matplotlib.pyplot as plt\n",
        "from sklearn.decomposition import PCA\n",
        "from sklearn.manifold import TSNE\n",
        "%matplotlib inline  "
      ]
    },
    {
      "cell_type": "code",
      "source": [
        "\n",
        "print(\"TensorFlow version:\", tf.__version__)"
      ],
      "metadata": {
        "id": "w-lnZc89FDAW",
        "outputId": "eb8040c7-12de-484a-f04a-234ec88dcbf4",
        "colab": {
          "base_uri": "https://localhost:8080/"
        }
      },
      "execution_count": 3,
      "outputs": [
        {
          "output_type": "stream",
          "name": "stdout",
          "text": [
            "TensorFlow version: 2.8.2\n"
          ]
        }
      ]
    },
    {
      "cell_type": "markdown",
      "source": [
        "#Code to check connection and usage of GPU"
      ],
      "metadata": {
        "id": "1WlZapw-EQZo"
      }
    },
    {
      "cell_type": "code",
      "source": [
        "import tensorflow as tf\n",
        "import timeit\n",
        "\n",
        "device_name = tf.test.gpu_device_name()\n",
        "if device_name != '/device:GPU:0':\n",
        "  print(\n",
        "      '\\n\\nThis error most likely means that this notebook is not '\n",
        "      'configured to use a GPU.  Change this in Notebook Settings via the '\n",
        "      'command palette (cmd/ctrl-shift-P) or the Edit menu.\\n\\n')\n",
        "  raise SystemError('GPU device not found')\n",
        "\n",
        "def cpu():\n",
        "  with tf.device('/cpu:0'):\n",
        "    random_image_cpu = tf.random.normal((100, 100, 100, 3))\n",
        "    net_cpu = tf.keras.layers.Conv2D(32, 7)(random_image_cpu)\n",
        "    return tf.math.reduce_sum(net_cpu)\n",
        "\n",
        "def gpu():\n",
        "  with tf.device('/device:GPU:0'):\n",
        "    random_image_gpu = tf.random.normal((100, 100, 100, 3))\n",
        "    net_gpu = tf.keras.layers.Conv2D(32, 7)(random_image_gpu)\n",
        "    return tf.math.reduce_sum(net_gpu)\n",
        "  \n",
        "# We run each op once to warm up; see: https://stackoverflow.com/a/45067900\n",
        "cpu()\n",
        "gpu()\n",
        "\n",
        "# Run the op several times.\n",
        "print('Time (s) to convolve 32x7x7x3 filter over random 100x100x100x3 images '\n",
        "      '(batch x height x width x channel). Sum of ten runs.')\n",
        "print('CPU (s):')\n",
        "cpu_time = timeit.timeit('cpu()', number=10, setup=\"from __main__ import cpu\")\n",
        "print(cpu_time)\n",
        "print('GPU (s):')\n",
        "gpu_time = timeit.timeit('gpu()', number=10, setup=\"from __main__ import gpu\")\n",
        "print(gpu_time)\n",
        "print('GPU speedup over CPU: {}x'.format(int(cpu_time/gpu_time)))"
      ],
      "metadata": {
        "id": "P9jgT3FwhC6K",
        "outputId": "21aced6f-6665-412c-e72b-a8fe5eb578eb",
        "colab": {
          "base_uri": "https://localhost:8080/"
        }
      },
      "execution_count": 4,
      "outputs": [
        {
          "output_type": "stream",
          "name": "stdout",
          "text": [
            "Time (s) to convolve 32x7x7x3 filter over random 100x100x100x3 images (batch x height x width x channel). Sum of ten runs.\n",
            "CPU (s):\n",
            "2.7770887679999987\n",
            "GPU (s):\n",
            "0.041040175999995654\n",
            "GPU speedup over CPU: 67x\n"
          ]
        }
      ]
    },
    {
      "cell_type": "markdown",
      "source": [
        "# Build Network  \n",
        "##Q1.1"
      ],
      "metadata": {
        "id": "lqVMVqr6Egm1"
      }
    },
    {
      "cell_type": "code",
      "source": [
        "\n",
        "# Plot ad hoc mnist instances\n",
        "from tensorflow.keras.datasets import mnist\n",
        "\n",
        "# load (downloaded if needed) the MNIST dataset\n",
        "(X_train, y_train), (X_test, y_test) = mnist.load_data()\n"
      ],
      "metadata": {
        "id": "yJEaF1GIiFyL",
        "outputId": "28547934-9062-44b4-dc20-b8cf5d777728",
        "colab": {
          "base_uri": "https://localhost:8080/"
        }
      },
      "execution_count": 5,
      "outputs": [
        {
          "output_type": "stream",
          "name": "stdout",
          "text": [
            "Downloading data from https://storage.googleapis.com/tensorflow/tf-keras-datasets/mnist.npz\n",
            "11493376/11490434 [==============================] - 0s 0us/step\n",
            "11501568/11490434 [==============================] - 0s 0us/step\n"
          ]
        }
      ]
    },
    {
      "cell_type": "code",
      "source": [
        "# Lets see the shapes of each Data sets\n",
        "print(\"TRAIN SET:\")\n",
        "print(\"Training Set X_train shape is : {}\".format(X_train.shape))\n",
        "print(\"Training Set y_train shape is : {}\".format(y_train.shape))\n",
        "print(\"____\"*25)\n",
        "print(\"TEST SET:\")\n",
        "print(\"Test Set X_test shape is : {}\".format(X_test.shape))\n",
        "print(\"Test Set y_test shape is : {}\".format(y_test.shape))"
      ],
      "metadata": {
        "id": "k8GMUC79GD1R",
        "outputId": "069243f9-03ab-4189-e764-78aaa8fc3a09",
        "colab": {
          "base_uri": "https://localhost:8080/"
        }
      },
      "execution_count": 6,
      "outputs": [
        {
          "output_type": "stream",
          "name": "stdout",
          "text": [
            "TRAIN SET:\n",
            "Training Set X_train shape is : (60000, 28, 28)\n",
            "Training Set y_train shape is : (60000,)\n",
            "____________________________________________________________________________________________________\n",
            "TEST SET:\n",
            "Test Set X_test shape is : (10000, 28, 28)\n",
            "Test Set y_test shape is : (10000,)\n"
          ]
        }
      ]
    },
    {
      "cell_type": "code",
      "source": [
        "print(y_train[0])\n",
        "\n",
        "# Lets its print an image\n",
        "plt.imshow(X_train[0], cmap=plt.get_cmap('gray'))\n",
        "\n",
        "# So y_train has the label and X_train has its vectorial representation"
      ],
      "metadata": {
        "id": "lwMPlzQjHYL7",
        "outputId": "a2d518bf-b425-40df-db51-d295308a7c45",
        "colab": {
          "base_uri": "https://localhost:8080/",
          "height": 301
        }
      },
      "execution_count": 7,
      "outputs": [
        {
          "output_type": "stream",
          "name": "stdout",
          "text": [
            "5\n"
          ]
        },
        {
          "output_type": "execute_result",
          "data": {
            "text/plain": [
              "<matplotlib.image.AxesImage at 0x7f13a2138410>"
            ]
          },
          "metadata": {},
          "execution_count": 7
        },
        {
          "output_type": "display_data",
          "data": {
            "text/plain": [
              "<Figure size 432x288 with 1 Axes>"
            ],
            "image/png": "[encoded data removed]"
          },
          "metadata": {
            "needs_background": "light"
          }
        }
      ]
    },
    {
      "cell_type": "markdown",
      "source": [
        "##Library for Model Definition"
      ],
      "metadata": {
        "id": "wYZ0Mk89Npkr"
      }
    },
    {
      "cell_type": "code",
      "source": [
        "from tensorflow import keras\n",
        "from tensorflow.keras import layers"
      ],
      "metadata": {
        "id": "d8trw8omNkW2"
      },
      "execution_count": 8,
      "outputs": []
    },
    {
      "cell_type": "code",
      "source": [
        "# Build Sequential Model\n",
        "model = keras.Sequential([\n",
        "  layers.Flatten(input_shape=(28, 28)),\n",
        "  layers.Dense(1024, activation='relu'),\n",
        "  layers.Dense(1024,activation='relu'),\n",
        "  layers.Dense(1024,activation='relu'),\n",
        "  layers.Dense(1024,activation='relu'),\n",
        "  layers.Dense(10)\n",
        "])\n",
        "print(model.summary())"
      ],
      "metadata": {
        "id": "qP4LGORYILtx",
        "outputId": "a0b744a3-d2c7-423f-f717-442a43fb3c98",
        "colab": {
          "base_uri": "https://localhost:8080/"
        }
      },
      "execution_count": 9,
      "outputs": [
        {
          "output_type": "stream",
          "name": "stdout",
          "text": [
            "Model: \"sequential\"\n",
            "_________________________________________________________________\n",
            " Layer (type)                Output Shape              Param #   \n",
            "=================================================================\n",
            " flatten (Flatten)           (None, 784)               0         \n",
            "                                                                 \n",
            " dense (Dense)               (None, 1024)              803840    \n",
            "                                                                 \n",
            " dense_1 (Dense)             (None, 1024)              1049600   \n",
            "                                                                 \n",
            " dense_2 (Dense)             (None, 1024)              1049600   \n",
            "                                                                 \n",
            " dense_3 (Dense)             (None, 1024)              1049600   \n",
            "                                                                 \n",
            " dense_4 (Dense)             (None, 10)                10250     \n",
            "                                                                 \n",
            "=================================================================\n",
            "Total params: 3,962,890\n",
            "Trainable params: 3,962,890\n",
            "Non-trainable params: 0\n",
            "_________________________________________________________________\n",
            "None\n"
          ]
        }
      ]
    },
    {
      "cell_type": "markdown",
      "source": [
        "Check:\n",
        "param_number = output_channel_number * (input_channel_number + 1)\n",
        "\n",
        "Dense layer 1 = 1024 * [784 + 1] = 803840 \n",
        "\n",
        "Dense layer 2 = 1024*1025 = 1049600\n",
        "\n",
        "Intuition is that its the connections ( Weights ) between the two layers that are to be trained."
      ],
      "metadata": {
        "id": "qWlVXqRbPNGc"
      }
    },
    {
      "cell_type": "code",
      "source": [
        "\n",
        "model = tf.keras.Sequential([\n",
        "    tf.keras.layers.Reshape(target_shape=(28 * 28,), input_shape=(28,28)),\n",
        "    tf.keras.layers.Dense(units=1024,activation='relu'),\n",
        "    tf.keras.layers.Dense(units=1024,activation='relu'),\n",
        "    tf.keras.layers.Dense(units=1024,activation='relu'),\n",
        "    tf.keras.layers.Dense(units=1024,activation='relu'),\n",
        "    tf.keras.layers.Dense(units=1024,activation='relu'),\n",
        "    tf.keras.layers.Dense(units=10,activation='softmax')\n",
        "  ])"
      ],
      "metadata": {
        "id": "7Y_1u97vOLkf"
      },
      "execution_count": 21,
      "outputs": []
    },
    {
      "cell_type": "markdown",
      "source": [
        "I used Relu cause it adds sparsity and also reduces vanishing gradients. Relu will straightaway remove a few features that are not useful. This I feel helps in many ways like reducing training time, reducing features considered ( more sparse )."
      ],
      "metadata": {
        "id": "9uNvG5plISAp"
      }
    },
    {
      "cell_type": "code",
      "source": [
        "\n",
        "model.compile(optimizer='adam', \n",
        "              loss=tf.losses.SparseCategoricalCrossentropy(from_logits=True),\n",
        "              metrics=['accuracy'])"
      ],
      "metadata": {
        "id": "gIEvt5YpN-Z2"
      },
      "execution_count": 22,
      "outputs": []
    },
    {
      "cell_type": "code",
      "source": [
        "history = model.fit(X_train,y_train,epochs = 50, batch_size = 256 )"
      ],
      "metadata": {
        "colab": {
          "base_uri": "https://localhost:8080/"
        },
        "id": "zh_wBbktU_Za",
        "outputId": "c2f71430-5378-4d6a-ccde-d9a92b41a61c"
      },
      "execution_count": 47,
      "outputs": [
        {
          "output_type": "stream",
          "name": "stdout",
          "text": [
            "Epoch 1/50\n",
            "235/235 [==============================] - 1s 6ms/step - loss: 0.0160 - accuracy: 0.9968\n",
            "Epoch 2/50\n",
            "235/235 [==============================] - 1s 5ms/step - loss: 0.0150 - accuracy: 0.9969\n",
            "Epoch 3/50\n",
            "235/235 [==============================] - 1s 5ms/step - loss: 0.0183 - accuracy: 0.9964\n",
            "Epoch 4/50\n",
            "235/235 [==============================] - 1s 5ms/step - loss: 0.0086 - accuracy: 0.9981\n",
            "Epoch 5/50\n",
            "235/235 [==============================] - 1s 5ms/step - loss: 0.0156 - accuracy: 0.9973\n",
            "Epoch 6/50\n",
            "235/235 [==============================] - 1s 5ms/step - loss: 0.0109 - accuracy: 0.9978\n",
            "Epoch 7/50\n",
            "235/235 [==============================] - 1s 5ms/step - loss: 0.0215 - accuracy: 0.9962\n",
            "Epoch 8/50\n",
            "235/235 [==============================] - 1s 4ms/step - loss: 0.0091 - accuracy: 0.9981\n",
            "Epoch 9/50\n",
            "235/235 [==============================] - 1s 4ms/step - loss: 0.0092 - accuracy: 0.9979\n",
            "Epoch 10/50\n",
            "235/235 [==============================] - 1s 5ms/step - loss: 0.0048 - accuracy: 0.9989\n",
            "Epoch 11/50\n",
            "235/235 [==============================] - 1s 5ms/step - loss: 0.0144 - accuracy: 0.9969\n",
            "Epoch 12/50\n",
            "235/235 [==============================] - 1s 5ms/step - loss: 0.0123 - accuracy: 0.9975\n",
            "Epoch 13/50\n",
            "235/235 [==============================] - 1s 5ms/step - loss: 0.0216 - accuracy: 0.9965\n",
            "Epoch 14/50\n",
            "235/235 [==============================] - 1s 5ms/step - loss: 0.0131 - accuracy: 0.9975\n",
            "Epoch 15/50\n",
            "235/235 [==============================] - 1s 5ms/step - loss: 0.0090 - accuracy: 0.9983\n",
            "Epoch 16/50\n",
            "235/235 [==============================] - 1s 5ms/step - loss: 0.0117 - accuracy: 0.9979\n",
            "Epoch 17/50\n",
            "235/235 [==============================] - 1s 5ms/step - loss: 0.0168 - accuracy: 0.9968\n",
            "Epoch 18/50\n",
            "235/235 [==============================] - 1s 5ms/step - loss: 0.0137 - accuracy: 0.9976\n",
            "Epoch 19/50\n",
            "235/235 [==============================] - 1s 5ms/step - loss: 0.0109 - accuracy: 0.9977\n",
            "Epoch 20/50\n",
            "235/235 [==============================] - 1s 5ms/step - loss: 0.0117 - accuracy: 0.9977\n",
            "Epoch 21/50\n",
            "235/235 [==============================] - 1s 5ms/step - loss: 0.0195 - accuracy: 0.9972\n",
            "Epoch 22/50\n",
            "235/235 [==============================] - 1s 5ms/step - loss: 0.0124 - accuracy: 0.9980\n",
            "Epoch 23/50\n",
            "235/235 [==============================] - 1s 5ms/step - loss: 0.0083 - accuracy: 0.9984\n",
            "Epoch 24/50\n",
            "235/235 [==============================] - 1s 5ms/step - loss: 0.0157 - accuracy: 0.9968\n",
            "Epoch 25/50\n",
            "235/235 [==============================] - 1s 5ms/step - loss: 0.0213 - accuracy: 0.9959\n",
            "Epoch 26/50\n",
            "235/235 [==============================] - 1s 5ms/step - loss: 0.0105 - accuracy: 0.9981\n",
            "Epoch 27/50\n",
            "235/235 [==============================] - 1s 5ms/step - loss: 0.0212 - accuracy: 0.9973\n",
            "Epoch 28/50\n",
            "235/235 [==============================] - 1s 5ms/step - loss: 0.0133 - accuracy: 0.9977\n",
            "Epoch 29/50\n",
            "235/235 [==============================] - 1s 5ms/step - loss: 0.0120 - accuracy: 0.9980\n",
            "Epoch 30/50\n",
            "235/235 [==============================] - 1s 5ms/step - loss: 0.0088 - accuracy: 0.9985\n",
            "Epoch 31/50\n",
            "235/235 [==============================] - 1s 5ms/step - loss: 0.0124 - accuracy: 0.9980\n",
            "Epoch 32/50\n",
            "235/235 [==============================] - 1s 5ms/step - loss: 0.0112 - accuracy: 0.9984\n",
            "Epoch 33/50\n",
            "235/235 [==============================] - 1s 5ms/step - loss: 0.0132 - accuracy: 0.9976\n",
            "Epoch 34/50\n",
            "235/235 [==============================] - 1s 5ms/step - loss: 0.0096 - accuracy: 0.9982\n",
            "Epoch 35/50\n",
            "235/235 [==============================] - 1s 5ms/step - loss: 0.0091 - accuracy: 0.9986\n",
            "Epoch 36/50\n",
            "235/235 [==============================] - 1s 5ms/step - loss: 0.0056 - accuracy: 0.9990\n",
            "Epoch 37/50\n",
            "235/235 [==============================] - 1s 5ms/step - loss: 0.0419 - accuracy: 0.9932\n",
            "Epoch 38/50\n",
            "235/235 [==============================] - 1s 5ms/step - loss: 0.0316 - accuracy: 0.9951\n",
            "Epoch 39/50\n",
            "235/235 [==============================] - 1s 5ms/step - loss: 0.0124 - accuracy: 0.9984\n",
            "Epoch 40/50\n",
            "235/235 [==============================] - 1s 5ms/step - loss: 0.0054 - accuracy: 0.9991\n",
            "Epoch 41/50\n",
            "235/235 [==============================] - 1s 5ms/step - loss: 0.0010 - accuracy: 0.9997\n",
            "Epoch 42/50\n",
            "235/235 [==============================] - 1s 5ms/step - loss: 4.8388e-04 - accuracy: 0.9999\n",
            "Epoch 43/50\n",
            "235/235 [==============================] - 1s 5ms/step - loss: 9.5188e-04 - accuracy: 0.9998\n",
            "Epoch 44/50\n",
            "235/235 [==============================] - 1s 5ms/step - loss: 0.0066 - accuracy: 0.9989\n",
            "Epoch 45/50\n",
            "235/235 [==============================] - 1s 5ms/step - loss: 0.0118 - accuracy: 0.9983\n",
            "Epoch 46/50\n",
            "235/235 [==============================] - 1s 5ms/step - loss: 0.0226 - accuracy: 0.9962\n",
            "Epoch 47/50\n",
            "235/235 [==============================] - 1s 5ms/step - loss: 0.0214 - accuracy: 0.9973\n",
            "Epoch 48/50\n",
            "235/235 [==============================] - 1s 5ms/step - loss: 0.0162 - accuracy: 0.9985\n",
            "Epoch 49/50\n",
            "235/235 [==============================] - 1s 5ms/step - loss: 0.0063 - accuracy: 0.9989\n",
            "Epoch 50/50\n",
            "235/235 [==============================] - 1s 5ms/step - loss: 0.0138 - accuracy: 0.9977\n"
          ]
        }
      ]
    },
    {
      "cell_type": "code",
      "source": [
        "accuracy = model.evaluate(X_test,y_test)"
      ],
      "metadata": {
        "colab": {
          "base_uri": "https://localhost:8080/"
        },
        "id": "0ITUgAGXV3VT",
        "outputId": "077e2e06-3481-45b9-8047-be997e0d237e"
      },
      "execution_count": 48,
      "outputs": [
        {
          "output_type": "stream",
          "name": "stdout",
          "text": [
            "313/313 [==============================] - 1s 3ms/step - loss: 0.1477 - accuracy: 0.9820\n"
          ]
        }
      ]
    },
    {
      "cell_type": "code",
      "source": [
        "print(\"The Accuracy of the Model is {}\".format(accuracy[-1]))"
      ],
      "metadata": {
        "id": "18a6fAWkcZJc",
        "outputId": "756dc368-e524-4bdd-fba1-9b9f0ad6dc0a",
        "colab": {
          "base_uri": "https://localhost:8080/"
        }
      },
      "execution_count": 49,
      "outputs": [
        {
          "output_type": "stream",
          "name": "stdout",
          "text": [
            "The Accuracy of the Model is 0.9819999933242798\n"
          ]
        }
      ]
    },
    {
      "cell_type": "code",
      "source": [
        "y_pred = model.predict(X_test)"
      ],
      "metadata": {
        "id": "AaU82yjAXC8O"
      },
      "execution_count": 50,
      "outputs": []
    },
    {
      "cell_type": "code",
      "source": [
        "y_pred.shape\n"
      ],
      "metadata": {
        "colab": {
          "base_uri": "https://localhost:8080/"
        },
        "id": "FceTLsD3Xjdc",
        "outputId": "0af64321-ca7f-4ed0-a001-c2e70d825aac"
      },
      "execution_count": 67,
      "outputs": [
        {
          "output_type": "execute_result",
          "data": {
            "text/plain": [
              "(10000, 10)"
            ]
          },
          "metadata": {},
          "execution_count": 67
        }
      ]
    },
    {
      "cell_type": "markdown",
      "source": [
        "Lets take First Output of the y_pred and lets plot its image and highest prediction and check if its right"
      ],
      "metadata": {
        "id": "FVhZC2Xlc5-8"
      }
    },
    {
      "cell_type": "code",
      "source": [
        "y_pred[1]"
      ],
      "metadata": {
        "id": "qMQVK5QHc0ld",
        "outputId": "1c467630-750f-40f2-e543-a5ea5c86ec36",
        "colab": {
          "base_uri": "https://localhost:8080/"
        }
      },
      "execution_count": 52,
      "outputs": [
        {
          "output_type": "execute_result",
          "data": {
            "text/plain": [
              "array([2.6077278e-18, 5.1599317e-21, 1.0000000e+00, 1.0053807e-17,\n",
              "       1.2996818e-22, 6.8790832e-31, 6.4418867e-19, 2.4213116e-12,\n",
              "       1.1612875e-21, 2.4839748e-35], dtype=float32)"
            ]
          },
          "metadata": {},
          "execution_count": 52
        }
      ]
    },
    {
      "cell_type": "markdown",
      "source": [
        "As we can see index 3 is highest (aka label 2)\n",
        "</br>\n",
        "Now lets plot its image"
      ],
      "metadata": {
        "id": "mNlxRhu0dFR4"
      }
    },
    {
      "cell_type": "code",
      "source": [
        "plt.imshow(X_test[1])\n"
      ],
      "metadata": {
        "colab": {
          "base_uri": "https://localhost:8080/",
          "height": 283
        },
        "id": "F7lXPyk1Z3rU",
        "outputId": "98f9a931-c572-4520-9585-8ef9e429ad9c"
      },
      "execution_count": 53,
      "outputs": [
        {
          "output_type": "execute_result",
          "data": {
            "text/plain": [
              "<matplotlib.image.AxesImage at 0x7f12b5c98350>"
            ]
          },
          "metadata": {},
          "execution_count": 53
        },
        {
          "output_type": "display_data",
          "data": {
            "text/plain": [
              "<Figure size 432x288 with 1 Axes>"
            ],
            "image/png": "[encoded data removed]"
          },
          "metadata": {
            "needs_background": "light"
          }
        }
      ]
    },
    {
      "cell_type": "code",
      "source": [
        "print(y_pred[1].argmax())\n"
      ],
      "metadata": {
        "colab": {
          "base_uri": "https://localhost:8080/"
        },
        "id": "Jl8Jl6GUa13N",
        "outputId": "bb12f7ca-78eb-4b43-cf9e-4ec69563596f"
      },
      "execution_count": 73,
      "outputs": [
        {
          "output_type": "stream",
          "name": "stdout",
          "text": [
            "2\n"
          ]
        }
      ]
    },
    {
      "cell_type": "code",
      "source": [
        "type(y_pred)"
      ],
      "metadata": {
        "id": "UvJrT0kXlcc0",
        "outputId": "7be7e7d4-a87c-4e07-bfc8-363645fef5cf",
        "colab": {
          "base_uri": "https://localhost:8080/"
        }
      },
      "execution_count": 77,
      "outputs": [
        {
          "output_type": "execute_result",
          "data": {
            "text/plain": [
              "numpy.ndarray"
            ]
          },
          "metadata": {},
          "execution_count": 77
        }
      ]
    },
    {
      "cell_type": "markdown",
      "source": [
        "## 1.3"
      ],
      "metadata": {
        "id": "2cM9ESXNdP-_"
      }
    },
    {
      "cell_type": "code",
      "source": [
        "plt.rcParams['figure.figsize'] = (20,20) # Globally set the figure size\n",
        "fig, axs = plt.subplots(10, 10)\n",
        "\n",
        "#range fxn starts from 0 \n",
        "print(\"Index of the chosen values ( agrsort on columns ( col is the label )\")\n",
        "for i in range(10):\n",
        "  chosen = y_pred[:,i].argsort()[-10:][::1]\n",
        "  print(chosen)\n",
        "  for j in range(10):\n",
        "    axs[i,j].imshow(X_test[chosen[j]], cmap=plt.get_cmap('gray'))\n",
        "\n",
        "print(\"____\"*25)\n",
        "print(\"Plots : \\n\\n\")\n",
        "plt.show()"
      ],
      "metadata": {
        "colab": {
          "base_uri": "https://localhost:8080/",
          "height": 1000
        },
        "id": "4ICydCG_azgU",
        "outputId": "11a8c6e0-0c07-4932-bdfb-9a27bea2a76a"
      },
      "execution_count": 88,
      "outputs": [
        {
          "output_type": "stream",
          "name": "stdout",
          "text": [
            "Index of the chosen values ( agrsort on columns ( col is the label )\n",
            "[8343 8342 8338 2707 8335 4935 2703 4937 2714 4999]\n",
            "[4729 4732 8166 8164 4733 8159 2982  767  663 8090]\n",
            "[ 609 8174  186 3945  612 2910 2904 8168 3932 3655]\n",
            "[2086 6382 5606 8939 8561 6381 4925 6690 9430 9511]\n",
            "[2804 5832 4929 9344 3534 7125 9347 1864 5159  475]\n",
            "[ 395 7077 9159 9160 5229 7067 2247 7057 5222 9119]\n",
            "[4388 6842 9207 9210 6846 1569 4347 4346 9195 9999]\n",
            "[6119 6069 6089 9151 6098  254 9147  255 6079    0]\n",
            "[2949 6839 6838 6834 2152 6826 6816 1170 3348 1118]\n",
            "[9250 5220 8066 9254 5219  954 5645 6682 5233  599]\n",
            "____________________________________________________________________________________________________\n",
            "Plots : \n",
            "\n",
            "\n"
          ]
        },
        {
          "output_type": "display_data",
          "data": {
            "text/plain": [
              "<Figure size 1440x1440 with 100 Axes>"
            ],
            "image/png": "[encoded data removed]"
          },
          "metadata": {
            "needs_background": "light"
          }
        }
      ]
    },
    {
      "cell_type": "markdown",
      "source": [
        "##1.4"
      ],
      "metadata": {
        "id": "YfMbfTZwm0cW"
      }
    },
    {
      "cell_type": "code",
      "source": [
        "y_pred_hlast = model.layers[-2].output\n",
        "print(y_pred)"
      ],
      "metadata": {
        "id": "SC714kwBmzJx",
        "outputId": "b4a61a7b-d0ee-4c72-ad72-3575caaed8b8",
        "colab": {
          "base_uri": "https://localhost:8080/"
        }
      },
      "execution_count": 89,
      "outputs": [
        {
          "output_type": "stream",
          "name": "stdout",
          "text": [
            "[[0.0000000e+00 7.4485358e-32 0.0000000e+00 ... 1.0000000e+00\n",
            "  0.0000000e+00 0.0000000e+00]\n",
            " [2.6077278e-18 5.1599317e-21 1.0000000e+00 ... 2.4213116e-12\n",
            "  1.1612875e-21 2.4839748e-35]\n",
            " [0.0000000e+00 1.0000000e+00 0.0000000e+00 ... 1.8411914e-37\n",
            "  0.0000000e+00 0.0000000e+00]\n",
            " ...\n",
            " [0.0000000e+00 0.0000000e+00 0.0000000e+00 ... 0.0000000e+00\n",
            "  0.0000000e+00 1.5869903e-27]\n",
            " [0.0000000e+00 0.0000000e+00 0.0000000e+00 ... 0.0000000e+00\n",
            "  0.0000000e+00 0.0000000e+00]\n",
            " [2.0491718e-34 5.4449119e-33 0.0000000e+00 ... 0.0000000e+00\n",
            "  0.0000000e+00 0.0000000e+00]]\n"
          ]
        }
      ]
    },
    {
      "cell_type": "code",
      "source": [
        "y_pred_hlast.shape"
      ],
      "metadata": {
        "colab": {
          "base_uri": "https://localhost:8080/"
        },
        "id": "dkOk5d6sav6k",
        "outputId": "6e746031-4980-4927-9a00-a1207869f7c3"
      },
      "execution_count": 90,
      "outputs": [
        {
          "output_type": "execute_result",
          "data": {
            "text/plain": [
              "TensorShape([None, 1024])"
            ]
          },
          "metadata": {},
          "execution_count": 90
        }
      ]
    },
    {
      "cell_type": "code",
      "source": [
        "from keras import backend\n",
        "\n",
        "inputs = model.input                                           \n",
        "outputs = model.layers[-2].output                                     \n",
        "functors = [backend.function([inputs], [outputs])]    \n",
        "\n",
        "test_outputs = [func([X_test[0:10000]]) for func in functors]"
      ],
      "metadata": {
        "id": "EkFQv3A4ajGw"
      },
      "execution_count": 106,
      "outputs": []
    },
    {
      "cell_type": "code",
      "source": [
        "print(test_outputs)\n"
      ],
      "metadata": {
        "colab": {
          "base_uri": "https://localhost:8080/"
        },
        "id": "WLA-BBidagiq",
        "outputId": "bc2083a3-07cd-42d2-ac7d-d442f93d5de1"
      },
      "execution_count": 107,
      "outputs": [
        {
          "output_type": "stream",
          "name": "stdout",
          "text": [
            "[[array([[0., 0., 0., ..., 0., 0., 0.],\n",
            "       [0., 0., 0., ..., 0., 0., 0.],\n",
            "       [0., 0., 0., ..., 0., 0., 0.],\n",
            "       ...,\n",
            "       [0., 0., 0., ..., 0., 0., 0.],\n",
            "       [0., 0., 0., ..., 0., 0., 0.],\n",
            "       [0., 0., 0., ..., 0., 0., 0.]], dtype=float32)]]\n"
          ]
        }
      ]
    },
    {
      "cell_type": "code",
      "source": [
        "np_test_outputs = np.array(test_outputs)\n",
        "type(np_test_outputs)\n",
        "print(np_test_outputs.shape)"
      ],
      "metadata": {
        "id": "IhSlinR3sfdO",
        "outputId": "fd19e10c-f3b1-4aa2-c90a-4b955f86f31c",
        "colab": {
          "base_uri": "https://localhost:8080/"
        }
      },
      "execution_count": 108,
      "outputs": [
        {
          "output_type": "stream",
          "name": "stdout",
          "text": [
            "(1, 1, 10000, 1024)\n"
          ]
        }
      ]
    },
    {
      "cell_type": "code",
      "source": [
        "model.summary()"
      ],
      "metadata": {
        "id": "WSVXKeClwal5",
        "outputId": "7d546dff-d7da-4acd-bec4-891f2517e7a0",
        "colab": {
          "base_uri": "https://localhost:8080/"
        }
      },
      "execution_count": 112,
      "outputs": [
        {
          "output_type": "stream",
          "name": "stdout",
          "text": [
            "Model: \"sequential_4\"\n",
            "_________________________________________________________________\n",
            " Layer (type)                Output Shape              Param #   \n",
            "=================================================================\n",
            " reshape_3 (Reshape)         (None, 784)               0         \n",
            "                                                                 \n",
            " dense_23 (Dense)            (None, 1024)              803840    \n",
            "                                                                 \n",
            " dense_24 (Dense)            (None, 1024)              1049600   \n",
            "                                                                 \n",
            " dense_25 (Dense)            (None, 1024)              1049600   \n",
            "                                                                 \n",
            " dense_26 (Dense)            (None, 1024)              1049600   \n",
            "                                                                 \n",
            " dense_27 (Dense)            (None, 1024)              1049600   \n",
            "                                                                 \n",
            " dense_28 (Dense)            (None, 10)                10250     \n",
            "                                                                 \n",
            "=================================================================\n",
            "Total params: 5,012,490\n",
            "Trainable params: 5,012,490\n",
            "Non-trainable params: 0\n",
            "_________________________________________________________________\n"
          ]
        }
      ]
    },
    {
      "cell_type": "code",
      "source": [
        "feature_extractor = keras.Model(\n",
        "    inputs=model.inputs,\n",
        "    outputs=model.get_layer(name=\"dense_27\").output,\n",
        ")\n",
        "\n",
        "features = feature_extractor(X_test)\n",
        "\n"
      ],
      "metadata": {
        "id": "urSG9EOvvUjF"
      },
      "execution_count": 114,
      "outputs": []
    },
    {
      "cell_type": "code",
      "source": [
        "features.shape"
      ],
      "metadata": {
        "id": "vTrR21zowpMh",
        "outputId": "f4624eaa-ffb1-4e7c-ecd9-fba02f0407c3",
        "colab": {
          "base_uri": "https://localhost:8080/"
        }
      },
      "execution_count": 115,
      "outputs": [
        {
          "output_type": "execute_result",
          "data": {
            "text/plain": [
              "TensorShape([10000, 1024])"
            ]
          },
          "metadata": {},
          "execution_count": 115
        }
      ]
    },
    {
      "cell_type": "code",
      "source": [
        "type(features)"
      ],
      "metadata": {
        "id": "OH1I52Ffw2Ru",
        "outputId": "39c94287-0f99-4cba-81dc-74a5d49aef18",
        "colab": {
          "base_uri": "https://localhost:8080/"
        }
      },
      "execution_count": 116,
      "outputs": [
        {
          "output_type": "execute_result",
          "data": {
            "text/plain": [
              "tensorflow.python.framework.ops.EagerTensor"
            ]
          },
          "metadata": {},
          "execution_count": 116
        }
      ]
    },
    {
      "cell_type": "code",
      "source": [],
      "metadata": {
        "id": "q1Agw75gx9yE"
      },
      "execution_count": null,
      "outputs": []
    }
  ]
}