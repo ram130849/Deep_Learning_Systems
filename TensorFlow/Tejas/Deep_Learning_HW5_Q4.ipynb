{
  "nbformat": 4,
  "nbformat_minor": 0,
  "metadata": {
    "colab": {
      "provenance": [],
      "machine_shape": "hm",
      "authorship_tag": "ABX9TyOfycIwX6rIO8DsmlJgrUbb",
      "include_colab_link": true
    },
    "kernelspec": {
      "name": "python3",
      "display_name": "Python 3"
    },
    "language_info": {
      "name": "python"
    },
    "gpuClass": "premium",
    "accelerator": "GPU"
  },
  "cells": [
    {
      "cell_type": "markdown",
      "metadata": {
        "id": "view-in-github",
        "colab_type": "text"
      },
      "source": [
        "<a href=\"https://colab.research.google.com/github/ram130849/Deep_Learning_Systems_Assignments/blob/main/TensorFlow/Tejas/Deep_Learning_HW5_Q4.ipynb\" target=\"_parent\"><img src=\"https://colab.research.google.com/assets/colab-badge.svg\" alt=\"Open In Colab\"/></a>"
      ]
    },
    {
      "cell_type": "markdown",
      "source": [
        "#HW5\n",
        "\n",
        "References:\n",
        "*   \n",
        "\n"
      ],
      "metadata": {
        "id": "OpnWhsM9rnTz"
      }
    },
    {
      "cell_type": "markdown",
      "source": [
        "##GPU Check"
      ],
      "metadata": {
        "id": "kTrcGab5rzKz"
      }
    },
    {
      "cell_type": "code",
      "execution_count": 1,
      "metadata": {
        "colab": {
          "base_uri": "https://localhost:8080/"
        },
        "id": "PCXndVWRrjXV",
        "outputId": "fde23cb2-4401-4541-97a5-888bfce95261"
      },
      "outputs": [
        {
          "output_type": "stream",
          "name": "stdout",
          "text": [
            "Found GPU at: /device:GPU:0\n"
          ]
        }
      ],
      "source": [
        "#Path: TensorFlow/Tejas/\n",
        "import tensorflow as tf\n",
        "device_name = tf.test.gpu_device_name()\n",
        "if device_name != '/device:GPU:0':\n",
        "  raise SystemError('GPU device not found')\n",
        "print('Found GPU at: {}'.format(device_name))"
      ]
    },
    {
      "cell_type": "code",
      "source": [
        "print(\"TensorFlow version:\", tf.__version__)"
      ],
      "metadata": {
        "colab": {
          "base_uri": "https://localhost:8080/"
        },
        "id": "KzEKY3NPsAKg",
        "outputId": "b545f95c-22c1-4594-8f23-5ef7d4024119"
      },
      "execution_count": 2,
      "outputs": [
        {
          "output_type": "stream",
          "name": "stdout",
          "text": [
            "TensorFlow version: 2.9.2\n"
          ]
        }
      ]
    },
    {
      "cell_type": "code",
      "source": [
        "import tensorflow as tf\n",
        "import timeit\n",
        "\n",
        "device_name = tf.test.gpu_device_name()\n",
        "if device_name != '/device:GPU:0':\n",
        "  print(\n",
        "      '\\n\\nThis error most likely means that this notebook is not '\n",
        "      'configured to use a GPU.  Change this in Notebook Settings via the '\n",
        "      'command palette (cmd/ctrl-shift-P) or the Edit menu.\\n\\n')\n",
        "  raise SystemError('GPU device not found')\n",
        "\n",
        "def cpu():\n",
        "  with tf.device('/cpu:0'):\n",
        "    random_image_cpu = tf.random.normal((100, 100, 100, 3))\n",
        "    net_cpu = tf.keras.layers.Conv2D(32, 7)(random_image_cpu)\n",
        "    return tf.math.reduce_sum(net_cpu)\n",
        "\n",
        "def gpu():\n",
        "  with tf.device('/device:GPU:0'):\n",
        "    random_image_gpu = tf.random.normal((100, 100, 100, 3))\n",
        "    net_gpu = tf.keras.layers.Conv2D(32, 7)(random_image_gpu)\n",
        "    return tf.math.reduce_sum(net_gpu)\n",
        "  \n",
        "# We run each op once to warm up; see: https://stackoverflow.com/a/45067900\n",
        "cpu()\n",
        "gpu()\n",
        "\n",
        "# Run the op several times.\n",
        "print('Time (s) to convolve 32x7x7x3 filter over random 100x100x100x3 images '\n",
        "      '(batch x height x width x channel). Sum of ten runs.')\n",
        "print('CPU (s):')\n",
        "cpu_time = timeit.timeit('cpu()', number=10, setup=\"from __main__ import cpu\")\n",
        "print(cpu_time)\n",
        "print('GPU (s):')\n",
        "gpu_time = timeit.timeit('gpu()', number=10, setup=\"from __main__ import gpu\")\n",
        "print(gpu_time)\n",
        "print('GPU speedup over CPU: {}x'.format(int(cpu_time/gpu_time)))"
      ],
      "metadata": {
        "colab": {
          "base_uri": "https://localhost:8080/"
        },
        "id": "fUYvk-crsE4T",
        "outputId": "1505f5fe-ac3d-477d-b638-e6827127386a"
      },
      "execution_count": 3,
      "outputs": [
        {
          "output_type": "stream",
          "name": "stdout",
          "text": [
            "Time (s) to convolve 32x7x7x3 filter over random 100x100x100x3 images (batch x height x width x channel). Sum of ten runs.\n",
            "CPU (s):\n",
            "0.4448180969999953\n",
            "GPU (s):\n",
            "0.038347337999994124\n",
            "GPU speedup over CPU: 11x\n"
          ]
        }
      ]
    },
    {
      "cell_type": "markdown",
      "source": [
        "##Dependencies"
      ],
      "metadata": {
        "id": "9Qm0ZF1OsNuK"
      }
    },
    {
      "cell_type": "code",
      "source": [
        "import numpy as np\n",
        "import random\n",
        "import pandas as pd\n",
        "import seaborn as sns\n",
        "import matplotlib.pyplot as plt\n",
        "from sklearn.decomposition import PCA\n",
        "from sklearn.manifold import TSNE\n",
        "from tensorflow import keras\n",
        "from tensorflow.keras import layers\n",
        "from keras.models import Model\n",
        "import keras.utils\n",
        "from keras import utils as np_utils\n",
        "from keras.models import Sequential\n",
        "from keras.layers import  Dense, Dropout, Activation, Flatten\n",
        "from librosa.core import stft,istft\n",
        "import soundfile as sf\n",
        "from sklearn.model_selection import train_test_split\n",
        "import tensorflow as tf\n",
        "import librosa\n",
        "import itertools\n",
        "\n",
        "import imageio\n",
        "%matplotlib inline\n",
        "\n"
      ],
      "metadata": {
        "id": "0Rm3SpKJsQF6"
      },
      "execution_count": 4,
      "outputs": []
    },
    {
      "cell_type": "markdown",
      "source": [
        "##Load Dataset"
      ],
      "metadata": {
        "id": "elFfnFzEsTWx"
      }
    },
    {
      "cell_type": "code",
      "source": [
        "(X_train,y_train),(X_test,y_test)=keras.datasets.mnist.load_data()"
      ],
      "metadata": {
        "colab": {
          "base_uri": "https://localhost:8080/"
        },
        "id": "b4kE87-IsVVG",
        "outputId": "5e2554e2-2fb4-41ac-f060-5e3a5b632863"
      },
      "execution_count": 5,
      "outputs": [
        {
          "output_type": "stream",
          "name": "stdout",
          "text": [
            "Downloading data from https://storage.googleapis.com/tensorflow/tf-keras-datasets/mnist.npz\n",
            "11490434/11490434 [==============================] - 2s 0us/step\n"
          ]
        }
      ]
    },
    {
      "cell_type": "code",
      "source": [
        "print(\"X_train: \",X_train.shape)\n",
        "print(\"X_test: \",X_test.shape)\n",
        "print(\"y_train: \",y_train.shape)\n",
        "print(\"y_test: \",y_test.shape)"
      ],
      "metadata": {
        "colab": {
          "base_uri": "https://localhost:8080/"
        },
        "id": "XEXufdx0tDSh",
        "outputId": "52551acb-fc0a-4be6-c2e5-5792895b76f4"
      },
      "execution_count": 6,
      "outputs": [
        {
          "output_type": "stream",
          "name": "stdout",
          "text": [
            "X_train:  (60000, 28, 28)\n",
            "X_test:  (10000, 28, 28)\n",
            "y_train:  (60000,)\n",
            "y_test:  (10000,)\n"
          ]
        }
      ]
    },
    {
      "cell_type": "code",
      "source": [
        "X_train = X_train.reshape(-1,784)\n",
        "X_test = X_test.reshape(-1,784)"
      ],
      "metadata": {
        "id": "IQKKE3rptEDB"
      },
      "execution_count": 7,
      "outputs": []
    },
    {
      "cell_type": "code",
      "source": [
        "print(\"X_train: \",X_train.shape)\n",
        "print(\"X_test: \",X_test.shape)"
      ],
      "metadata": {
        "colab": {
          "base_uri": "https://localhost:8080/"
        },
        "id": "kIHylcdntGB8",
        "outputId": "5e128161-62b1-4f58-ec0d-0b018eaee70a"
      },
      "execution_count": 8,
      "outputs": [
        {
          "output_type": "stream",
          "name": "stdout",
          "text": [
            "X_train:  (60000, 784)\n",
            "X_test:  (10000, 784)\n"
          ]
        }
      ]
    },
    {
      "cell_type": "markdown",
      "source": [
        "##Scaling"
      ],
      "metadata": {
        "id": "IxPkVErvtKau"
      }
    },
    {
      "cell_type": "code",
      "source": [
        "from sklearn.preprocessing import MinMaxScaler"
      ],
      "metadata": {
        "id": "UZDQLChttLSJ"
      },
      "execution_count": 9,
      "outputs": []
    },
    {
      "cell_type": "code",
      "source": [
        "rescale=MinMaxScaler(feature_range=(-1,1))"
      ],
      "metadata": {
        "id": "q2fxJHCRtNQx"
      },
      "execution_count": 10,
      "outputs": []
    },
    {
      "cell_type": "code",
      "source": [
        "X_train_sc=rescale.fit_transform(X_train)\n",
        "X_test_sc=rescale.fit_transform(X_test)"
      ],
      "metadata": {
        "id": "Zv74iCD0tPPj"
      },
      "execution_count": 11,
      "outputs": []
    },
    {
      "cell_type": "code",
      "source": [
        "print(\"X_train_sc: \",X_train_sc.shape)\n",
        "print(\"X_test_sc: \",X_test_sc.shape)"
      ],
      "metadata": {
        "colab": {
          "base_uri": "https://localhost:8080/"
        },
        "id": "WhLKgAEitUnX",
        "outputId": "78a441ad-0e1f-43e6-df53-54cc6490a3fc"
      },
      "execution_count": 12,
      "outputs": [
        {
          "output_type": "stream",
          "name": "stdout",
          "text": [
            "X_train_sc:  (60000, 784)\n",
            "X_test_sc:  (10000, 784)\n"
          ]
        }
      ]
    },
    {
      "cell_type": "code",
      "source": [
        "batch_size = 100\n",
        "num_classes = 10\n",
        "image_size = 784 #Flatten image\n",
        "latent_dim = 100\n",
        "middle_image= (10*10)"
      ],
      "metadata": {
        "id": "Q7se5_25tVZB"
      },
      "execution_count": 13,
      "outputs": []
    },
    {
      "cell_type": "code",
      "source": [
        "y_train = keras.utils.to_categorical(y_train, num_classes)\n",
        "y_test = keras.utils.to_categorical(y_test, num_classes)"
      ],
      "metadata": {
        "id": "ORN5q_NxtcPn"
      },
      "execution_count": 14,
      "outputs": []
    },
    {
      "cell_type": "code",
      "source": [
        "print(\"y_train: \",y_train.shape)\n",
        "print(\"y_test: \",y_test.shape)"
      ],
      "metadata": {
        "colab": {
          "base_uri": "https://localhost:8080/"
        },
        "id": "pBQfkvgWthGk",
        "outputId": "26eacb6d-9c7d-4055-d37e-24349da72b03"
      },
      "execution_count": 15,
      "outputs": [
        {
          "output_type": "stream",
          "name": "stdout",
          "text": [
            "y_train:  (60000, 10)\n",
            "y_test:  (10000, 10)\n"
          ]
        }
      ]
    },
    {
      "cell_type": "code",
      "source": [
        "all_image = np.concatenate([X_train_sc,X_test_sc])\n",
        "all_image = all_image.astype('float32')\n",
        "all_label = np.concatenate([y_train,y_test])"
      ],
      "metadata": {
        "id": "P7s5wcQ8tj0S"
      },
      "execution_count": 16,
      "outputs": []
    },
    {
      "cell_type": "code",
      "source": [
        "all_image.shape"
      ],
      "metadata": {
        "colab": {
          "base_uri": "https://localhost:8080/"
        },
        "id": "E279dr2wtmGl",
        "outputId": "cf6eea5f-a692-4554-f98a-a8e1a12b2974"
      },
      "execution_count": 17,
      "outputs": [
        {
          "output_type": "execute_result",
          "data": {
            "text/plain": [
              "(70000, 784)"
            ]
          },
          "metadata": {},
          "execution_count": 17
        }
      ]
    },
    {
      "cell_type": "code",
      "source": [
        "all_label.shape"
      ],
      "metadata": {
        "colab": {
          "base_uri": "https://localhost:8080/"
        },
        "id": "g3M21y2etoHe",
        "outputId": "b396b645-a285-4c4a-b34b-be58a1cc864f"
      },
      "execution_count": 18,
      "outputs": [
        {
          "output_type": "execute_result",
          "data": {
            "text/plain": [
              "(70000, 10)"
            ]
          },
          "metadata": {},
          "execution_count": 18
        }
      ]
    },
    {
      "cell_type": "code",
      "source": [
        "dataset = tf.data.Dataset.from_tensor_slices((all_image, all_label))\n",
        "dataset = dataset.shuffle(buffer_size=1024).batch(batch_size)"
      ],
      "metadata": {
        "id": "8akwyT1Jtp_2"
      },
      "execution_count": 19,
      "outputs": []
    },
    {
      "cell_type": "code",
      "source": [
        "print(\"Shape of training images: {}\".format(all_image.shape))\n",
        "print(\"Shape of training labels: {}\".format(all_label.shape))"
      ],
      "metadata": {
        "colab": {
          "base_uri": "https://localhost:8080/"
        },
        "id": "K96dnrEIttOH",
        "outputId": "d8173024-2ded-48c7-8e38-deb28bb3edd7"
      },
      "execution_count": 20,
      "outputs": [
        {
          "output_type": "stream",
          "name": "stdout",
          "text": [
            "Shape of training images: (70000, 784)\n",
            "Shape of training labels: (70000, 10)\n"
          ]
        }
      ]
    },
    {
      "cell_type": "code",
      "source": [
        "\n",
        "gen_input = latent_dim + middle_image\n",
        "dis_input = image_size \n",
        "print(\"Generator Input Size:\",gen_input)\n",
        "print(\"Discriminator Input Size:\",dis_input)"
      ],
      "metadata": {
        "colab": {
          "base_uri": "https://localhost:8080/"
        },
        "id": "cLyo9AeOtvdj",
        "outputId": "ecf8e62f-4472-40f4-cec6-8c741e8e26dc"
      },
      "execution_count": 21,
      "outputs": [
        {
          "output_type": "stream",
          "name": "stdout",
          "text": [
            "Generator Input Size: 200\n",
            "Discriminator Input Size: 784\n"
          ]
        }
      ]
    },
    {
      "cell_type": "markdown",
      "source": [
        "##Model\n",
        "Following Professors model an keeping leaky relu and tanh activations.\n",
        "\n"
      ],
      "metadata": {
        "id": "uJTK2t0etyIc"
      }
    },
    {
      "cell_type": "code",
      "source": [
        "# Following Profssors Model.\n",
        "discriminator = keras.Sequential(\n",
        "    [   \n",
        "        keras.layers.InputLayer((dis_input,)),\n",
        "        layers.Dense(400,kernel_initializer = tf.keras.initializers.HeNormal(), activation = tf.nn.leaky_relu),\n",
        "        layers.Dense(200,kernel_initializer = tf.keras.initializers.HeNormal(), activation = tf.nn.leaky_relu),\n",
        "        layers.Dense(100,kernel_initializer = tf.keras.initializers.HeNormal(), activation = tf.nn.leaky_relu),\n",
        "        layers.Dense(1,kernel_initializer = tf.keras.initializers.HeNormal())\n",
        "    ],\n",
        "    name=\"discriminator\",\n",
        ")\n",
        "\n",
        "# Create the generator.\n",
        "generator = keras.Sequential(\n",
        "    [\n",
        "        keras.layers.InputLayer((gen_input,)),\n",
        "        layers.Dense(200,kernel_initializer = tf.keras.initializers.HeNormal()),\n",
        "        layers.BatchNormalization(momentum=0.5),\n",
        "        layers.Dense(400,kernel_initializer = tf.keras.initializers.HeNormal()),\n",
        "        layers.BatchNormalization(momentum=0.5),\n",
        "        layers.Dense(784,kernel_initializer = tf.keras.initializers.HeNormal(),activation='tanh')\n",
        "    ],\n",
        "    name=\"generator\",\n",
        ")"
      ],
      "metadata": {
        "id": "UVJSxRCht0tf"
      },
      "execution_count": 22,
      "outputs": []
    },
    {
      "cell_type": "code",
      "source": [
        "discriminator.summary()"
      ],
      "metadata": {
        "colab": {
          "base_uri": "https://localhost:8080/"
        },
        "id": "GmRlXwNrt3Ng",
        "outputId": "3bbbcc67-a701-48ca-8d49-e7b2b184ffe7"
      },
      "execution_count": 23,
      "outputs": [
        {
          "output_type": "stream",
          "name": "stdout",
          "text": [
            "Model: \"discriminator\"\n",
            "_________________________________________________________________\n",
            " Layer (type)                Output Shape              Param #   \n",
            "=================================================================\n",
            " dense (Dense)               (None, 400)               314000    \n",
            "                                                                 \n",
            " dense_1 (Dense)             (None, 200)               80200     \n",
            "                                                                 \n",
            " dense_2 (Dense)             (None, 100)               20100     \n",
            "                                                                 \n",
            " dense_3 (Dense)             (None, 1)                 101       \n",
            "                                                                 \n",
            "=================================================================\n",
            "Total params: 414,401\n",
            "Trainable params: 414,401\n",
            "Non-trainable params: 0\n",
            "_________________________________________________________________\n"
          ]
        }
      ]
    },
    {
      "cell_type": "code",
      "source": [
        "generator.summary()"
      ],
      "metadata": {
        "colab": {
          "base_uri": "https://localhost:8080/"
        },
        "id": "brxSkWkNt5LG",
        "outputId": "1844055a-8659-42e6-b107-ff1f3d79a34c"
      },
      "execution_count": 24,
      "outputs": [
        {
          "output_type": "stream",
          "name": "stdout",
          "text": [
            "Model: \"generator\"\n",
            "_________________________________________________________________\n",
            " Layer (type)                Output Shape              Param #   \n",
            "=================================================================\n",
            " dense_4 (Dense)             (None, 200)               40200     \n",
            "                                                                 \n",
            " batch_normalization (BatchN  (None, 200)              800       \n",
            " ormalization)                                                   \n",
            "                                                                 \n",
            " dense_5 (Dense)             (None, 400)               80400     \n",
            "                                                                 \n",
            " batch_normalization_1 (Batc  (None, 400)              1600      \n",
            " hNormalization)                                                 \n",
            "                                                                 \n",
            " dense_6 (Dense)             (None, 784)               314384    \n",
            "                                                                 \n",
            "=================================================================\n",
            "Total params: 437,384\n",
            "Trainable params: 436,184\n",
            "Non-trainable params: 1,200\n",
            "_________________________________________________________________\n"
          ]
        }
      ]
    },
    {
      "cell_type": "code",
      "source": [
        "class Cond_GAN(keras.Model):\n",
        "    def __init__(self, discriminator, generator, latent_dim):\n",
        "        super(Cond_GAN, self).__init__()\n",
        "        self.discriminator = discriminator\n",
        "        self.generator = generator\n",
        "        self.latent_dim = latent_dim\n",
        "        self.gen_loss_tracker = keras.metrics.Mean(name=\"generator_loss\")\n",
        "        self.disc_loss_tracker = keras.metrics.Mean(name=\"discriminator_loss\")\n",
        "        self.real_acc_tracker = tf.keras.metrics.BinaryAccuracy(name=\"real_acc\")\n",
        "        self.fake_acc_tracker = tf.keras.metrics.BinaryAccuracy(name=\"fake_acc\")\n",
        "    \n",
        "    def middle_patch(self,data):\n",
        "        real_images, one_hot_labels = data\n",
        "        #image_data = real_images.reshape(-1,28,28)\n",
        "        image_data = tf.reshape(real_images,shape=(-1,28,28))\n",
        "        #print(image_data.shape)\n",
        "        middle_images = image_data[:,10:20,10:20]\n",
        "        #print(middle_images.shape)\n",
        "        #new_images = middle_images.reshape(-1,10*10)\n",
        "        new_images = tf.reshape(middle_images,shape=(-1,10*10))\n",
        "        #print(new_images.shape)\n",
        "\n",
        "        return new_images\n",
        "\n",
        "    @property\n",
        "    def metrics(self):\n",
        "        return [self.gen_loss_tracker, self.disc_loss_tracker,self.real_acc_tracker,self.fake_acc_tracker]\n",
        "\n",
        "    def compile(self, d_optimizer, g_optimizer, loss_fn):\n",
        "        super(Cond_GAN, self).compile()\n",
        "        self.d_optimizer = d_optimizer\n",
        "        self.g_optimizer = g_optimizer\n",
        "        self.loss_fn = loss_fn\n",
        "    \n",
        "    def train_step(self, data):\n",
        "        real_images, one_hot_labels = data\n",
        "        #print(real_images.shape)\n",
        "        new_images = self.middle_patch(data)\n",
        "        #image_data = real_images.reshape(-1,28,28)\n",
        "        # image_data = tf.reshape(real_images,shape=(-1,28,28))\n",
        "        # print(image_data.shape)\n",
        "        # middle_images = image_data[:,10:19,10:19]\n",
        "        # #new_images = middle_images.reshape(-1,10*10)\n",
        "        # new_images = tf.reshape(middle_images,shape=(-1,10*10))\n",
        "        # print(new_images.shape)\n",
        "        # print('ccccc')\n",
        "\n",
        "        #one_hot_labels = tf.cast(one_hot_labels, tf.float32)\n",
        "\n",
        "        batch_size = tf.shape(real_images)[0]\n",
        "        random_latent_vectors = tf.random.normal(shape=(batch_size, self.latent_dim))\n",
        "        random_vector_labels = tf.concat([random_latent_vectors, new_images], axis=1)\n",
        "\n",
        "        generated_images = self.generator(random_vector_labels)\n",
        "        \n",
        "        fake_image_and_labels = generated_images\n",
        "        real_image_and_labels = real_images\n",
        "        combined_images = tf.concat([fake_image_and_labels, real_image_and_labels], axis=0)\n",
        "\n",
        "        labels = tf.concat([tf.ones((batch_size, 1)), tf.zeros((batch_size, 1))], axis=0)\n",
        "        with tf.GradientTape() as tape:\n",
        "            predictions = self.discriminator(combined_images)\n",
        "            d_loss = self.loss_fn(labels, predictions)\n",
        "        grads = tape.gradient(d_loss, self.discriminator.trainable_weights)\n",
        "        self.d_optimizer.apply_gradients(zip(grads, self.discriminator.trainable_weights))\n",
        "        \n",
        "        self.fake_acc_tracker.update_state(labels[:batch_size,:],predictions[:batch_size,:])\n",
        "        self.real_acc_tracker.update_state(labels[batch_size:,:],predictions[batch_size:,:])\n",
        "\n",
        "        # new_images = self.middle_patch(data)\n",
        "\n",
        "        # image_data = real_images.reshape(-1,28,28)\n",
        "        # middle_images = image_data[:,10:19,10:19]\n",
        "        # new_images = middle_images.reshape(-1,10*10)\n",
        "\n",
        "        random_latent_vectors = tf.random.normal(shape=(batch_size, self.latent_dim))\n",
        "        #print(random_latent_vectors.shape)\n",
        "        random_vector_labels = tf.concat([random_latent_vectors, new_images], axis=1)\n",
        "        #print(random_vector_labels.shape)\n",
        "        misleading_labels = tf.zeros((batch_size, 1))\n",
        "\n",
        "        \n",
        "\n",
        "        with tf.GradientTape() as tape:\n",
        "            fake_images = self.generator(random_vector_labels)\n",
        "            #fake_image_and_labels = tf.concat([fake_images, new_images], -1)\n",
        "            predictions1 = self.discriminator(fake_images)\n",
        "            g_loss = self.loss_fn(misleading_labels, predictions1)\n",
        "        grads = tape.gradient(g_loss, self.generator.trainable_weights)\n",
        "        self.g_optimizer.apply_gradients(zip(grads, self.generator.trainable_weights))\n",
        "\n",
        "        self.gen_loss_tracker.update_state(g_loss)\n",
        "        self.disc_loss_tracker.update_state(d_loss)\n",
        "        return {\n",
        "            \"g_loss\": self.gen_loss_tracker.result(),\n",
        "            \"d_loss\": self.disc_loss_tracker.result(),\n",
        "            \"real_acc\": self.real_acc_tracker.result(),\n",
        "            \"fake_acc\": self.fake_acc_tracker.result()\n",
        "        }"
      ],
      "metadata": {
        "id": "340Jbg1gt8Xy"
      },
      "execution_count": 25,
      "outputs": []
    },
    {
      "cell_type": "code",
      "source": [
        "#type(dataset)"
      ],
      "metadata": {
        "id": "wbTvCKVR72Gt"
      },
      "execution_count": 26,
      "outputs": []
    },
    {
      "cell_type": "code",
      "source": [
        "cond_gan = Cond_GAN(\n",
        "    discriminator=discriminator, generator=generator, latent_dim=latent_dim\n",
        ")\n",
        "cond_gan.compile(\n",
        "    d_optimizer=keras.optimizers.Adam(learning_rate=0.0003),\n",
        "    g_optimizer=keras.optimizers.Adam(learning_rate=0.0003),\n",
        "    loss_fn=keras.losses.BinaryCrossentropy(from_logits=True),\n",
        ")\n",
        "\n",
        "history = cond_gan.fit(dataset, epochs=100)"
      ],
      "metadata": {
        "colab": {
          "base_uri": "https://localhost:8080/"
        },
        "id": "KMSsTv3huHym",
        "outputId": "e5dac79c-b5e0-46cc-f481-f147e7602617"
      },
      "execution_count": 30,
      "outputs": [
        {
          "output_type": "stream",
          "name": "stdout",
          "text": [
            "Epoch 1/100\n",
            "700/700 [==============================] - 5s 5ms/step - g_loss: 1.7322 - d_loss: 0.5929 - real_acc: 0.8119 - fake_acc: 0.5893\n",
            "Epoch 2/100\n",
            "700/700 [==============================] - 4s 5ms/step - g_loss: 2.1342 - d_loss: 0.4854 - real_acc: 0.8397 - fake_acc: 0.6438\n",
            "Epoch 3/100\n",
            "700/700 [==============================] - 4s 5ms/step - g_loss: 1.9576 - d_loss: 0.5364 - real_acc: 0.8271 - fake_acc: 0.6180\n",
            "Epoch 4/100\n",
            "700/700 [==============================] - 4s 5ms/step - g_loss: 2.1136 - d_loss: 0.5350 - real_acc: 0.8050 - fake_acc: 0.6200\n",
            "Epoch 5/100\n",
            "700/700 [==============================] - 4s 5ms/step - g_loss: 1.7347 - d_loss: 0.4702 - real_acc: 0.8305 - fake_acc: 0.6050\n",
            "Epoch 6/100\n",
            "700/700 [==============================] - 4s 5ms/step - g_loss: 1.5885 - d_loss: 0.5474 - real_acc: 0.8314 - fake_acc: 0.5761\n",
            "Epoch 7/100\n",
            "700/700 [==============================] - 4s 5ms/step - g_loss: 2.1101 - d_loss: 0.5290 - real_acc: 0.8206 - fake_acc: 0.6030\n",
            "Epoch 8/100\n",
            "700/700 [==============================] - 4s 5ms/step - g_loss: 2.2464 - d_loss: 0.5946 - real_acc: 0.8311 - fake_acc: 0.6583\n",
            "Epoch 9/100\n",
            "700/700 [==============================] - 4s 5ms/step - g_loss: 1.7446 - d_loss: 0.4719 - real_acc: 0.8314 - fake_acc: 0.6194\n",
            "Epoch 10/100\n",
            "700/700 [==============================] - 4s 5ms/step - g_loss: 1.8790 - d_loss: 0.4910 - real_acc: 0.8179 - fake_acc: 0.6207\n",
            "Epoch 11/100\n",
            "700/700 [==============================] - 4s 5ms/step - g_loss: 2.2442 - d_loss: 0.5122 - real_acc: 0.8327 - fake_acc: 0.6568\n",
            "Epoch 12/100\n",
            "700/700 [==============================] - 4s 5ms/step - g_loss: 2.1938 - d_loss: 0.4678 - real_acc: 0.8282 - fake_acc: 0.6256\n",
            "Epoch 13/100\n",
            "700/700 [==============================] - 4s 5ms/step - g_loss: 1.6413 - d_loss: 0.5109 - real_acc: 0.8202 - fake_acc: 0.6136\n",
            "Epoch 14/100\n",
            "700/700 [==============================] - 4s 5ms/step - g_loss: 1.8639 - d_loss: 0.5678 - real_acc: 0.8168 - fake_acc: 0.6436\n",
            "Epoch 15/100\n",
            "700/700 [==============================] - 4s 5ms/step - g_loss: 1.8533 - d_loss: 0.5250 - real_acc: 0.8110 - fake_acc: 0.6264\n",
            "Epoch 16/100\n",
            "700/700 [==============================] - 4s 5ms/step - g_loss: 1.7690 - d_loss: 0.5113 - real_acc: 0.8278 - fake_acc: 0.6274\n",
            "Epoch 17/100\n",
            "700/700 [==============================] - 4s 5ms/step - g_loss: 1.6361 - d_loss: 0.5103 - real_acc: 0.8183 - fake_acc: 0.6110\n",
            "Epoch 18/100\n",
            "700/700 [==============================] - 4s 5ms/step - g_loss: 1.6905 - d_loss: 0.4816 - real_acc: 0.8175 - fake_acc: 0.6212\n",
            "Epoch 19/100\n",
            "700/700 [==============================] - 4s 5ms/step - g_loss: 2.1077 - d_loss: 0.5515 - real_acc: 0.8215 - fake_acc: 0.6525\n",
            "Epoch 20/100\n",
            "700/700 [==============================] - 4s 5ms/step - g_loss: 2.1176 - d_loss: 0.4896 - real_acc: 0.8333 - fake_acc: 0.6651\n",
            "Epoch 21/100\n",
            "700/700 [==============================] - 4s 5ms/step - g_loss: 1.6603 - d_loss: 0.5257 - real_acc: 0.8366 - fake_acc: 0.6540\n",
            "Epoch 22/100\n",
            "700/700 [==============================] - 4s 5ms/step - g_loss: 2.5601 - d_loss: 0.5136 - real_acc: 0.8319 - fake_acc: 0.7023\n",
            "Epoch 23/100\n",
            "700/700 [==============================] - 4s 5ms/step - g_loss: 1.7241 - d_loss: 0.4662 - real_acc: 0.8232 - fake_acc: 0.6530\n",
            "Epoch 24/100\n",
            "700/700 [==============================] - 4s 5ms/step - g_loss: 1.7261 - d_loss: 0.5106 - real_acc: 0.8238 - fake_acc: 0.6571\n",
            "Epoch 25/100\n",
            "700/700 [==============================] - 4s 5ms/step - g_loss: 1.8736 - d_loss: 0.4813 - real_acc: 0.8286 - fake_acc: 0.6709\n",
            "Epoch 26/100\n",
            "700/700 [==============================] - 4s 5ms/step - g_loss: 1.9014 - d_loss: 0.4323 - real_acc: 0.8430 - fake_acc: 0.7027\n",
            "Epoch 27/100\n",
            "700/700 [==============================] - 4s 5ms/step - g_loss: 2.0915 - d_loss: 0.4655 - real_acc: 0.8317 - fake_acc: 0.6940\n",
            "Epoch 28/100\n",
            "700/700 [==============================] - 4s 5ms/step - g_loss: 1.9935 - d_loss: 0.4201 - real_acc: 0.8496 - fake_acc: 0.7271\n",
            "Epoch 29/100\n",
            "700/700 [==============================] - 4s 5ms/step - g_loss: 1.9595 - d_loss: 0.4818 - real_acc: 0.8364 - fake_acc: 0.6903\n",
            "Epoch 30/100\n",
            "700/700 [==============================] - 4s 5ms/step - g_loss: 1.8211 - d_loss: 0.4024 - real_acc: 0.8682 - fake_acc: 0.7511\n",
            "Epoch 31/100\n",
            "700/700 [==============================] - 4s 5ms/step - g_loss: 2.1239 - d_loss: 0.4059 - real_acc: 0.8626 - fake_acc: 0.7610\n",
            "Epoch 32/100\n",
            "700/700 [==============================] - 4s 5ms/step - g_loss: 2.2312 - d_loss: 0.3497 - real_acc: 0.8725 - fake_acc: 0.7843\n",
            "Epoch 33/100\n",
            "700/700 [==============================] - 4s 5ms/step - g_loss: 2.2798 - d_loss: 0.3526 - real_acc: 0.8684 - fake_acc: 0.7812\n",
            "Epoch 34/100\n",
            "700/700 [==============================] - 4s 5ms/step - g_loss: 2.2496 - d_loss: 0.3514 - real_acc: 0.8717 - fake_acc: 0.7971\n",
            "Epoch 35/100\n",
            "700/700 [==============================] - 4s 5ms/step - g_loss: 2.4564 - d_loss: 0.3482 - real_acc: 0.8790 - fake_acc: 0.8123\n",
            "Epoch 36/100\n",
            "700/700 [==============================] - 4s 5ms/step - g_loss: 2.3847 - d_loss: 0.3238 - real_acc: 0.8810 - fake_acc: 0.8206\n",
            "Epoch 37/100\n",
            "700/700 [==============================] - 4s 5ms/step - g_loss: 2.6925 - d_loss: 0.3007 - real_acc: 0.8854 - fake_acc: 0.8290\n",
            "Epoch 38/100\n",
            "700/700 [==============================] - 4s 5ms/step - g_loss: 2.6212 - d_loss: 0.2843 - real_acc: 0.8942 - fake_acc: 0.8545\n",
            "Epoch 39/100\n",
            "700/700 [==============================] - 4s 5ms/step - g_loss: 2.6814 - d_loss: 0.2857 - real_acc: 0.8960 - fake_acc: 0.8527\n",
            "Epoch 40/100\n",
            "700/700 [==============================] - 4s 5ms/step - g_loss: 2.9072 - d_loss: 0.2785 - real_acc: 0.8975 - fake_acc: 0.8570\n",
            "Epoch 41/100\n",
            "700/700 [==============================] - 4s 5ms/step - g_loss: 2.8482 - d_loss: 0.2555 - real_acc: 0.9045 - fake_acc: 0.8731\n",
            "Epoch 42/100\n",
            "700/700 [==============================] - 4s 5ms/step - g_loss: 3.0772 - d_loss: 0.2490 - real_acc: 0.9136 - fake_acc: 0.8853\n",
            "Epoch 43/100\n",
            "700/700 [==============================] - 4s 5ms/step - g_loss: 3.3046 - d_loss: 0.2274 - real_acc: 0.9160 - fake_acc: 0.8907\n",
            "Epoch 44/100\n",
            "700/700 [==============================] - 4s 5ms/step - g_loss: 2.9386 - d_loss: 0.2545 - real_acc: 0.9116 - fake_acc: 0.8811\n",
            "Epoch 45/100\n",
            "700/700 [==============================] - 4s 5ms/step - g_loss: 3.0869 - d_loss: 0.2448 - real_acc: 0.9128 - fake_acc: 0.8854\n",
            "Epoch 46/100\n",
            "700/700 [==============================] - 4s 5ms/step - g_loss: 3.3098 - d_loss: 0.2272 - real_acc: 0.9183 - fake_acc: 0.8928\n",
            "Epoch 47/100\n",
            "700/700 [==============================] - 4s 5ms/step - g_loss: 3.2884 - d_loss: 0.2229 - real_acc: 0.9205 - fake_acc: 0.8999\n",
            "Epoch 48/100\n",
            "700/700 [==============================] - 4s 5ms/step - g_loss: 3.3343 - d_loss: 0.2212 - real_acc: 0.9211 - fake_acc: 0.9040\n",
            "Epoch 49/100\n",
            "700/700 [==============================] - 4s 5ms/step - g_loss: 3.5534 - d_loss: 0.2149 - real_acc: 0.9259 - fake_acc: 0.9077\n",
            "Epoch 50/100\n",
            "700/700 [==============================] - 4s 5ms/step - g_loss: 3.6734 - d_loss: 0.1862 - real_acc: 0.9316 - fake_acc: 0.9200\n",
            "Epoch 51/100\n",
            "700/700 [==============================] - 4s 5ms/step - g_loss: 3.6824 - d_loss: 0.1936 - real_acc: 0.9296 - fake_acc: 0.9197\n",
            "Epoch 52/100\n",
            "700/700 [==============================] - 4s 5ms/step - g_loss: 3.6260 - d_loss: 0.1827 - real_acc: 0.9300 - fake_acc: 0.9210\n",
            "Epoch 53/100\n",
            "700/700 [==============================] - 4s 5ms/step - g_loss: 3.6957 - d_loss: 0.1649 - real_acc: 0.9353 - fake_acc: 0.9269\n",
            "Epoch 54/100\n",
            "700/700 [==============================] - 4s 5ms/step - g_loss: 3.8724 - d_loss: 0.1704 - real_acc: 0.9395 - fake_acc: 0.9285\n",
            "Epoch 55/100\n",
            "700/700 [==============================] - 4s 5ms/step - g_loss: 3.8447 - d_loss: 0.1590 - real_acc: 0.9408 - fake_acc: 0.9338\n",
            "Epoch 56/100\n",
            "700/700 [==============================] - 4s 5ms/step - g_loss: 4.0765 - d_loss: 0.1698 - real_acc: 0.9381 - fake_acc: 0.9295\n",
            "Epoch 57/100\n",
            "700/700 [==============================] - 4s 5ms/step - g_loss: 3.9853 - d_loss: 0.1602 - real_acc: 0.9437 - fake_acc: 0.9375\n",
            "Epoch 58/100\n",
            "700/700 [==============================] - 4s 5ms/step - g_loss: 3.9325 - d_loss: 0.1582 - real_acc: 0.9400 - fake_acc: 0.9356\n",
            "Epoch 59/100\n",
            "700/700 [==============================] - 4s 5ms/step - g_loss: 3.8307 - d_loss: 0.1667 - real_acc: 0.9377 - fake_acc: 0.9298\n",
            "Epoch 60/100\n",
            "700/700 [==============================] - 4s 5ms/step - g_loss: 3.9535 - d_loss: 0.1557 - real_acc: 0.9420 - fake_acc: 0.9397\n",
            "Epoch 61/100\n",
            "700/700 [==============================] - 4s 5ms/step - g_loss: 4.1376 - d_loss: 0.1514 - real_acc: 0.9406 - fake_acc: 0.9332\n",
            "Epoch 62/100\n",
            "700/700 [==============================] - 4s 5ms/step - g_loss: 4.1038 - d_loss: 0.1479 - real_acc: 0.9453 - fake_acc: 0.9387\n",
            "Epoch 63/100\n",
            "700/700 [==============================] - 4s 5ms/step - g_loss: 3.8163 - d_loss: 0.1553 - real_acc: 0.9372 - fake_acc: 0.9410\n",
            "Epoch 64/100\n",
            "700/700 [==============================] - 4s 5ms/step - g_loss: 3.8648 - d_loss: 0.1495 - real_acc: 0.9382 - fake_acc: 0.9424\n",
            "Epoch 65/100\n",
            "700/700 [==============================] - 4s 5ms/step - g_loss: 3.8042 - d_loss: 0.1474 - real_acc: 0.9415 - fake_acc: 0.9470\n",
            "Epoch 66/100\n",
            "700/700 [==============================] - 4s 5ms/step - g_loss: 4.0236 - d_loss: 0.1336 - real_acc: 0.9449 - fake_acc: 0.9542\n",
            "Epoch 67/100\n",
            "700/700 [==============================] - 4s 5ms/step - g_loss: 3.9290 - d_loss: 0.1517 - real_acc: 0.9405 - fake_acc: 0.9502\n",
            "Epoch 68/100\n",
            "700/700 [==============================] - 4s 5ms/step - g_loss: 3.9232 - d_loss: 0.1362 - real_acc: 0.9432 - fake_acc: 0.9507\n",
            "Epoch 69/100\n",
            "700/700 [==============================] - 4s 5ms/step - g_loss: 4.0272 - d_loss: 0.1336 - real_acc: 0.9478 - fake_acc: 0.9555\n",
            "Epoch 70/100\n",
            "700/700 [==============================] - 4s 5ms/step - g_loss: 4.3654 - d_loss: 0.1285 - real_acc: 0.9492 - fake_acc: 0.9513\n",
            "Epoch 71/100\n",
            "700/700 [==============================] - 4s 5ms/step - g_loss: 4.0873 - d_loss: 0.1273 - real_acc: 0.9465 - fake_acc: 0.9535\n",
            "Epoch 72/100\n",
            "700/700 [==============================] - 4s 5ms/step - g_loss: 4.0264 - d_loss: 0.1283 - real_acc: 0.9492 - fake_acc: 0.9568\n",
            "Epoch 73/100\n",
            "700/700 [==============================] - 4s 5ms/step - g_loss: 4.2312 - d_loss: 0.1252 - real_acc: 0.9474 - fake_acc: 0.9544\n",
            "Epoch 74/100\n",
            "700/700 [==============================] - 4s 5ms/step - g_loss: 4.1707 - d_loss: 0.1239 - real_acc: 0.9486 - fake_acc: 0.9566\n",
            "Epoch 75/100\n",
            "700/700 [==============================] - 4s 5ms/step - g_loss: 4.3551 - d_loss: 0.1227 - real_acc: 0.9512 - fake_acc: 0.9546\n",
            "Epoch 76/100\n",
            "700/700 [==============================] - 4s 5ms/step - g_loss: 4.1885 - d_loss: 0.1161 - real_acc: 0.9530 - fake_acc: 0.9602\n",
            "Epoch 77/100\n",
            "700/700 [==============================] - 4s 5ms/step - g_loss: 4.2354 - d_loss: 0.1235 - real_acc: 0.9489 - fake_acc: 0.9554\n",
            "Epoch 78/100\n",
            "700/700 [==============================] - 4s 5ms/step - g_loss: 4.1419 - d_loss: 0.1305 - real_acc: 0.9460 - fake_acc: 0.9522\n",
            "Epoch 79/100\n",
            "700/700 [==============================] - 4s 5ms/step - g_loss: 4.1173 - d_loss: 0.1249 - real_acc: 0.9457 - fake_acc: 0.9523\n",
            "Epoch 80/100\n",
            "700/700 [==============================] - 4s 5ms/step - g_loss: 4.0135 - d_loss: 0.1303 - real_acc: 0.9456 - fake_acc: 0.9542\n",
            "Epoch 81/100\n",
            "700/700 [==============================] - 4s 5ms/step - g_loss: 4.0399 - d_loss: 0.1236 - real_acc: 0.9455 - fake_acc: 0.9575\n",
            "Epoch 82/100\n",
            "700/700 [==============================] - 4s 5ms/step - g_loss: 3.8829 - d_loss: 0.1267 - real_acc: 0.9426 - fake_acc: 0.9565\n",
            "Epoch 83/100\n",
            "700/700 [==============================] - 4s 5ms/step - g_loss: 3.9899 - d_loss: 0.1287 - real_acc: 0.9430 - fake_acc: 0.9539\n",
            "Epoch 84/100\n",
            "700/700 [==============================] - 4s 5ms/step - g_loss: 3.9651 - d_loss: 0.1343 - real_acc: 0.9447 - fake_acc: 0.9534\n",
            "Epoch 85/100\n",
            "700/700 [==============================] - 4s 5ms/step - g_loss: 3.9096 - d_loss: 0.1267 - real_acc: 0.9436 - fake_acc: 0.9552\n",
            "Epoch 86/100\n",
            "700/700 [==============================] - 4s 5ms/step - g_loss: 3.9924 - d_loss: 0.1232 - real_acc: 0.9453 - fake_acc: 0.9584\n",
            "Epoch 87/100\n",
            "700/700 [==============================] - 4s 5ms/step - g_loss: 3.9970 - d_loss: 0.1242 - real_acc: 0.9442 - fake_acc: 0.9558\n",
            "Epoch 88/100\n",
            "700/700 [==============================] - 4s 5ms/step - g_loss: 3.9725 - d_loss: 0.1215 - real_acc: 0.9438 - fake_acc: 0.9577\n",
            "Epoch 89/100\n",
            "700/700 [==============================] - 4s 5ms/step - g_loss: 4.0320 - d_loss: 0.1163 - real_acc: 0.9485 - fake_acc: 0.9622\n",
            "Epoch 90/100\n",
            "700/700 [==============================] - 4s 5ms/step - g_loss: 4.1213 - d_loss: 0.1167 - real_acc: 0.9482 - fake_acc: 0.9619\n",
            "Epoch 91/100\n",
            "700/700 [==============================] - 4s 5ms/step - g_loss: 4.0654 - d_loss: 0.1141 - real_acc: 0.9484 - fake_acc: 0.9642\n",
            "Epoch 92/100\n",
            "700/700 [==============================] - 4s 5ms/step - g_loss: 4.0661 - d_loss: 0.1129 - real_acc: 0.9487 - fake_acc: 0.9644\n",
            "Epoch 93/100\n",
            "700/700 [==============================] - 4s 5ms/step - g_loss: 4.1537 - d_loss: 0.1154 - real_acc: 0.9486 - fake_acc: 0.9612\n",
            "Epoch 94/100\n",
            "700/700 [==============================] - 4s 5ms/step - g_loss: 4.1789 - d_loss: 0.1053 - real_acc: 0.9507 - fake_acc: 0.9660\n",
            "Epoch 95/100\n",
            "700/700 [==============================] - 4s 5ms/step - g_loss: 4.1116 - d_loss: 0.1105 - real_acc: 0.9482 - fake_acc: 0.9670\n",
            "Epoch 96/100\n",
            "700/700 [==============================] - 4s 5ms/step - g_loss: 4.0364 - d_loss: 0.1103 - real_acc: 0.9486 - fake_acc: 0.9687\n",
            "Epoch 97/100\n",
            "700/700 [==============================] - 4s 5ms/step - g_loss: 4.0550 - d_loss: 0.1075 - real_acc: 0.9498 - fake_acc: 0.9685\n",
            "Epoch 98/100\n",
            "700/700 [==============================] - 4s 5ms/step - g_loss: 4.0327 - d_loss: 0.1079 - real_acc: 0.9498 - fake_acc: 0.9696\n",
            "Epoch 99/100\n",
            "700/700 [==============================] - 4s 5ms/step - g_loss: 4.1142 - d_loss: 0.1092 - real_acc: 0.9503 - fake_acc: 0.9700\n",
            "Epoch 100/100\n",
            "700/700 [==============================] - 4s 5ms/step - g_loss: 3.9987 - d_loss: 0.1083 - real_acc: 0.9508 - fake_acc: 0.9709\n"
          ]
        }
      ]
    },
    {
      "cell_type": "code",
      "source": [
        "plt.plot(history.history['real_acc'],label='Real Images Accuracy')\n",
        "plt.plot(history.history['fake_acc'],label='Fake Images Accuracy' )\n",
        "plt.legend(loc=\"best\")\n",
        "plt.title(\"Accuracies\")"
      ],
      "metadata": {
        "colab": {
          "base_uri": "https://localhost:8080/",
          "height": 298
        },
        "id": "YPliv_lR4JJQ",
        "outputId": "89626070-f1a4-45e7-c5b8-8aeb12bc46a4"
      },
      "execution_count": 31,
      "outputs": [
        {
          "output_type": "execute_result",
          "data": {
            "text/plain": [
              "Text(0.5, 1.0, 'Accuracies')"
            ]
          },
          "metadata": {},
          "execution_count": 31
        },
        {
          "output_type": "display_data",
          "data": {
            "text/plain": [
              "<Figure size 432x288 with 1 Axes>"
            ],
            "image/png": "[encoded data removed]"
          },
          "metadata": {
            "needs_background": "light"
          }
        }
      ]
    },
    {
      "cell_type": "code",
      "source": [
        "# noise = np.random.normal(0,1,(100, latent_dim))\n",
        "\n",
        "# labels=[]\n",
        "# for x in np.eye(10):\n",
        "#   for i in range(10):\n",
        "#     labels.append(x.tolist())\n",
        "# labels = np.array(labels)\n",
        "\n",
        "# image = cond_gan.generator.predict(np.concatenate([noise,labels],axis=1))\n",
        "# image = 0.5 * image + 0.5\n",
        "# fig, ax = plt.subplots(10,10, figsize = (10,10))\n",
        "# cnt = 0\n",
        "# for i in range(10):\n",
        "#     for j in range(10):\n",
        "#         ax[i,j].imshow(image[cnt,:].reshape((28,28)))\n",
        "#         ax[i,j].axis('off')\n",
        "#         cnt+=1\n",
        "# plt.show()"
      ],
      "metadata": {
        "id": "M3n5eItAAT3Z"
      },
      "execution_count": 32,
      "outputs": []
    },
    {
      "cell_type": "code",
      "source": [
        "(X_train,y_train),(X_test,y_test)=keras.datasets.mnist.load_data()"
      ],
      "metadata": {
        "id": "N0KQXZuSGhaq"
      },
      "execution_count": 44,
      "outputs": []
    },
    {
      "cell_type": "code",
      "source": [
        "print(\"Generated Images\")\n",
        "noise = np.random.normal(0,1,(10*10, 100))\n",
        "data_index = np.zeros((100,28,28))\n",
        "ten_index = []\n",
        "# for i in range(0,10):\n",
        "#   index = np.where(y_test == i)\n",
        "#   #print(index[:10])\n",
        "#   print(i)\n",
        "#   for i in range(10):\n",
        "#     ten_index.append(index[0][i]) \n",
        "#   #print(type(ten_index))\n",
        "#   print(ten_index)\n",
        "#   #data_index.append(ten_index.item())\n",
        "  \n",
        "# for i in range(10):\n",
        "#   for j in range(10):\n",
        "#     data_index[i*10+j] = X_test_sc[ten_index[i*10+j]]\n",
        "\n",
        "result = []\n",
        "for i in range(10):\n",
        "    result.append(np.array(np.where(y_test == i)[0][:10]))\n",
        "final_array = np.concatenate(result, axis=0)\n",
        "\n",
        "mean_patch = tf.reshape(X_test_sc[final_array],shape=[-1,28,28])[:,10:20,10:20]\n",
        "mean_patch = tf.reshape(mean_patch,[mean_patch.shape[0], -1])\n",
        "\n",
        "#noise.shape\n",
        "print(mean_patch.shape)\n",
        "\n",
        "gen_image = cond_gan.generator.predict(np.concatenate([noise,mean_patch],axis=1))\n",
        "gen_image = 0.5 * gen_image + 0.5\n",
        "\n",
        "gen_image = tf.reshape(gen_image,shape=[-1,28,28])\n",
        "\n",
        "fig, ax = plt.subplots(10,10, figsize = (10,10))\n",
        "cnt = 0\n",
        "for i in range(10):\n",
        "    for j in range(10):\n",
        "      gen_image= tf.reshape(gen_image[cnt,:],shape=(28,28))\n",
        "      ax[i,j].imshow(gen_image,cmap = 'gray')\n",
        "      ax[i,j].axis('off')\n",
        "      cnt+=1\n",
        "plt.show()"
      ],
      "metadata": {
        "colab": {
          "base_uri": "https://localhost:8080/",
          "height": 1000
        },
        "id": "JjceuiDxCLMm",
        "outputId": "b5b04149-9042-4c9e-e985-870b3586201b"
      },
      "execution_count": 50,
      "outputs": [
        {
          "output_type": "stream",
          "name": "stdout",
          "text": [
            "Generated Images\n",
            "(100, 100)\n",
            "4/4 [==============================] - 0s 2ms/step\n"
          ]
        },
        {
          "output_type": "error",
          "ename": "InvalidArgumentError",
          "evalue": "ignored",
          "traceback": [
            "\u001b[0;31m---------------------------------------------------------------------------\u001b[0m",
            "\u001b[0;31mInvalidArgumentError\u001b[0m                      Traceback (most recent call last)",
            "\u001b[0;32m<ipython-input-50-6c7f575cb189>\u001b[0m in \u001b[0;36m<module>\u001b[0;34m\u001b[0m\n\u001b[1;32m     37\u001b[0m \u001b[0;32mfor\u001b[0m \u001b[0mi\u001b[0m \u001b[0;32min\u001b[0m \u001b[0mrange\u001b[0m\u001b[0;34m(\u001b[0m\u001b[0;36m10\u001b[0m\u001b[0;34m)\u001b[0m\u001b[0;34m:\u001b[0m\u001b[0;34m\u001b[0m\u001b[0;34m\u001b[0m\u001b[0m\n\u001b[1;32m     38\u001b[0m     \u001b[0;32mfor\u001b[0m \u001b[0mj\u001b[0m \u001b[0;32min\u001b[0m \u001b[0mrange\u001b[0m\u001b[0;34m(\u001b[0m\u001b[0;36m10\u001b[0m\u001b[0;34m)\u001b[0m\u001b[0;34m:\u001b[0m\u001b[0;34m\u001b[0m\u001b[0;34m\u001b[0m\u001b[0m\n\u001b[0;32m---> 39\u001b[0;31m       \u001b[0mgen_image\u001b[0m\u001b[0;34m=\u001b[0m \u001b[0mtf\u001b[0m\u001b[0;34m.\u001b[0m\u001b[0mreshape\u001b[0m\u001b[0;34m(\u001b[0m\u001b[0mgen_image\u001b[0m\u001b[0;34m[\u001b[0m\u001b[0mcnt\u001b[0m\u001b[0;34m,\u001b[0m\u001b[0;34m:\u001b[0m\u001b[0;34m]\u001b[0m\u001b[0;34m,\u001b[0m\u001b[0mshape\u001b[0m\u001b[0;34m=\u001b[0m\u001b[0;34m(\u001b[0m\u001b[0;36m28\u001b[0m\u001b[0;34m,\u001b[0m\u001b[0;36m28\u001b[0m\u001b[0;34m)\u001b[0m\u001b[0;34m)\u001b[0m\u001b[0;34m\u001b[0m\u001b[0;34m\u001b[0m\u001b[0m\n\u001b[0m\u001b[1;32m     40\u001b[0m       \u001b[0max\u001b[0m\u001b[0;34m[\u001b[0m\u001b[0mi\u001b[0m\u001b[0;34m,\u001b[0m\u001b[0mj\u001b[0m\u001b[0;34m]\u001b[0m\u001b[0;34m.\u001b[0m\u001b[0mimshow\u001b[0m\u001b[0;34m(\u001b[0m\u001b[0mgen_image\u001b[0m\u001b[0;34m,\u001b[0m\u001b[0mcmap\u001b[0m \u001b[0;34m=\u001b[0m \u001b[0;34m'gray'\u001b[0m\u001b[0;34m)\u001b[0m\u001b[0;34m\u001b[0m\u001b[0;34m\u001b[0m\u001b[0m\n\u001b[1;32m     41\u001b[0m       \u001b[0max\u001b[0m\u001b[0;34m[\u001b[0m\u001b[0mi\u001b[0m\u001b[0;34m,\u001b[0m\u001b[0mj\u001b[0m\u001b[0;34m]\u001b[0m\u001b[0;34m.\u001b[0m\u001b[0maxis\u001b[0m\u001b[0;34m(\u001b[0m\u001b[0;34m'off'\u001b[0m\u001b[0;34m)\u001b[0m\u001b[0;34m\u001b[0m\u001b[0;34m\u001b[0m\u001b[0m\n",
            "\u001b[0;32m/usr/local/lib/python3.8/dist-packages/tensorflow/python/util/traceback_utils.py\u001b[0m in \u001b[0;36merror_handler\u001b[0;34m(*args, **kwargs)\u001b[0m\n\u001b[1;32m    151\u001b[0m     \u001b[0;32mexcept\u001b[0m \u001b[0mException\u001b[0m \u001b[0;32mas\u001b[0m \u001b[0me\u001b[0m\u001b[0;34m:\u001b[0m\u001b[0;34m\u001b[0m\u001b[0;34m\u001b[0m\u001b[0m\n\u001b[1;32m    152\u001b[0m       \u001b[0mfiltered_tb\u001b[0m \u001b[0;34m=\u001b[0m \u001b[0m_process_traceback_frames\u001b[0m\u001b[0;34m(\u001b[0m\u001b[0me\u001b[0m\u001b[0;34m.\u001b[0m\u001b[0m__traceback__\u001b[0m\u001b[0;34m)\u001b[0m\u001b[0;34m\u001b[0m\u001b[0;34m\u001b[0m\u001b[0m\n\u001b[0;32m--> 153\u001b[0;31m       \u001b[0;32mraise\u001b[0m \u001b[0me\u001b[0m\u001b[0;34m.\u001b[0m\u001b[0mwith_traceback\u001b[0m\u001b[0;34m(\u001b[0m\u001b[0mfiltered_tb\u001b[0m\u001b[0;34m)\u001b[0m \u001b[0;32mfrom\u001b[0m \u001b[0;32mNone\u001b[0m\u001b[0;34m\u001b[0m\u001b[0;34m\u001b[0m\u001b[0m\n\u001b[0m\u001b[1;32m    154\u001b[0m     \u001b[0;32mfinally\u001b[0m\u001b[0;34m:\u001b[0m\u001b[0;34m\u001b[0m\u001b[0;34m\u001b[0m\u001b[0m\n\u001b[1;32m    155\u001b[0m       \u001b[0;32mdel\u001b[0m \u001b[0mfiltered_tb\u001b[0m\u001b[0;34m\u001b[0m\u001b[0;34m\u001b[0m\u001b[0m\n",
            "\u001b[0;32m/usr/local/lib/python3.8/dist-packages/tensorflow/python/eager/execute.py\u001b[0m in \u001b[0;36mquick_execute\u001b[0;34m(op_name, num_outputs, inputs, attrs, ctx, name)\u001b[0m\n\u001b[1;32m     52\u001b[0m   \u001b[0;32mtry\u001b[0m\u001b[0;34m:\u001b[0m\u001b[0;34m\u001b[0m\u001b[0;34m\u001b[0m\u001b[0m\n\u001b[1;32m     53\u001b[0m     \u001b[0mctx\u001b[0m\u001b[0;34m.\u001b[0m\u001b[0mensure_initialized\u001b[0m\u001b[0;34m(\u001b[0m\u001b[0;34m)\u001b[0m\u001b[0;34m\u001b[0m\u001b[0;34m\u001b[0m\u001b[0m\n\u001b[0;32m---> 54\u001b[0;31m     tensors = pywrap_tfe.TFE_Py_Execute(ctx._handle, device_name, op_name,\n\u001b[0m\u001b[1;32m     55\u001b[0m                                         inputs, attrs, num_outputs)\n\u001b[1;32m     56\u001b[0m   \u001b[0;32mexcept\u001b[0m \u001b[0mcore\u001b[0m\u001b[0;34m.\u001b[0m\u001b[0m_NotOkStatusException\u001b[0m \u001b[0;32mas\u001b[0m \u001b[0me\u001b[0m\u001b[0;34m:\u001b[0m\u001b[0;34m\u001b[0m\u001b[0;34m\u001b[0m\u001b[0m\n",
            "\u001b[0;31mInvalidArgumentError\u001b[0m: Input to reshape is a tensor with 28 values, but the requested shape has 784 [Op:Reshape]"
          ]
        },
        {
          "output_type": "display_data",
          "data": {
            "text/plain": [
              "<Figure size 720x720 with 100 Axes>"
            ],
            "image/png": "[encoded data removed]"
          },
          "metadata": {
            "needs_background": "light"
          }
        }
      ]
    },
    {
      "cell_type": "code",
      "source": [
        "\n",
        "data_index = np.zeros((100,28,28))\n",
        "ten_index = []\n",
        "for i in range(0,10):\n",
        "  index = np.where(y_test == i)\n",
        "  #print(index[:10])\n",
        "  for i in range(10):\n",
        "\n",
        "    ten_index.append(index[0][i])\n",
        "  \n",
        "  #print(type(ten_index))\n",
        "  print(ten_index)\n",
        "  #data_index.append(ten_index.item())\n",
        "  \n",
        "for i in range(10):\n",
        "  for j in range(10):\n",
        "    data_index[i*10+j] = X_test[ten_index[i*10+j]]\n",
        "  "
      ],
      "metadata": {
        "id": "NDEGOT4GFMGl"
      },
      "execution_count": null,
      "outputs": []
    },
    {
      "cell_type": "code",
      "source": [
        "result = []\n",
        "for i in range(10):\n",
        "    result.append(np.array(np.where(y_test == i)[0][:10]))\n",
        "final_array = np.concatenate(result, axis=0)\n",
        "\n",
        "print(result)"
      ],
      "metadata": {
        "colab": {
          "base_uri": "https://localhost:8080/"
        },
        "id": "7yw5FgJ_CDKN",
        "outputId": "fee7de0a-802c-459b-e154-cbcc01497dff"
      },
      "execution_count": 39,
      "outputs": [
        {
          "output_type": "stream",
          "name": "stdout",
          "text": [
            "[array([0, 0, 0, 0, 0, 0, 0, 0, 0, 1]), array([0, 1, 2, 3, 4, 5, 6, 7, 8, 9]), array([], dtype=int64), array([], dtype=int64), array([], dtype=int64), array([], dtype=int64), array([], dtype=int64), array([], dtype=int64), array([], dtype=int64), array([], dtype=int64)]\n"
          ]
        }
      ]
    },
    {
      "cell_type": "code",
      "source": [],
      "metadata": {
        "id": "oNpD8FRjEoHe"
      },
      "execution_count": null,
      "outputs": []
    }
  ]
}