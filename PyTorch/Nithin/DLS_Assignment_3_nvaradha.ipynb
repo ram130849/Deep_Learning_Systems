{
  "nbformat": 4,
  "nbformat_minor": 0,
  "metadata": {
    "colab": {
      "provenance": [],
      "machine_shape": "hm",
      "collapsed_sections": [],
      "authorship_tag": "ABX9TyO6N78JWLm0PjcPVct5Puun",
      "include_colab_link": true
    },
    "kernelspec": {
      "name": "python3",
      "display_name": "Python 3"
    },
    "language_info": {
      "name": "python"
    },
    "gpuClass": "standard",
    "accelerator": "GPU"
  },
  "cells": [
    {
      "cell_type": "markdown",
      "metadata": {
        "id": "view-in-github",
        "colab_type": "text"
      },
      "source": [
        "<a href=\"https://colab.research.google.com/github/ram130849/Deep_Learning_Systems_Assignments/blob/main/PyTorch/Nithin/DLS_Assignment_3_nvaradha.ipynb\" target=\"_parent\"><img src=\"https://colab.research.google.com/assets/colab-badge.svg\" alt=\"Open In Colab\"/></a>"
      ]
    },
    {
      "cell_type": "markdown",
      "source": [
        "## Deep Learning Systems Fall 2022 Assignment 3\n",
        "\n",
        "### Nithin Varadharajan (nvaradha)"
      ],
      "metadata": {
        "id": "97kCA7UgpjDE"
      }
    },
    {
      "cell_type": "markdown",
      "source": [
        "### Problem 1: Data Augmentation"
      ],
      "metadata": {
        "id": "8ibCpRR_pmSJ"
      }
    },
    {
      "cell_type": "markdown",
      "source": [
        "1. CIFAR10 is a pretty straightforward image classification task, that consists of 10 visual object\n",
        "classes.\n",
        "2. Download them from here and be ready to use it. Both PyTorch and Tensorflow have options\n",
        "to conveniently load them, but I chose to download them directly and mess around because\n",
        "I found it easier."
      ],
      "metadata": {
        "id": "PzeYubKqp0oP"
      }
    },
    {
      "cell_type": "code",
      "source": [
        "from google.colab import drive\n",
        "drive.mount('/content/drive')"
      ],
      "metadata": {
        "colab": {
          "base_uri": "https://localhost:8080/"
        },
        "id": "V4pcBGGxtEyS",
        "outputId": "9ae9f6cb-e397-47d7-d044-000bdc053ed8"
      },
      "execution_count": null,
      "outputs": [
        {
          "output_type": "stream",
          "name": "stdout",
          "text": [
            "Mounted at /content/drive\n"
          ]
        }
      ]
    },
    {
      "cell_type": "code",
      "source": [
        "import torch\n",
        "import numpy as np\n",
        "import matplotlib.pyplot as plt"
      ],
      "metadata": {
        "id": "M_QHaPvb1QVh"
      },
      "execution_count": null,
      "outputs": []
    },
    {
      "cell_type": "code",
      "source": [
        "# Get device\n",
        "device = torch.device(\"cuda:0\" if torch.cuda.is_available() else \"cpu\")\n",
        "print(f\"Using {device} device\")"
      ],
      "metadata": {
        "colab": {
          "base_uri": "https://localhost:8080/"
        },
        "id": "BpnlyMOi1RnR",
        "outputId": "6e7aacaf-65c6-490d-dfac-854fc0d8714d"
      },
      "execution_count": null,
      "outputs": [
        {
          "output_type": "stream",
          "name": "stdout",
          "text": [
            "Using cuda:0 device\n"
          ]
        }
      ]
    },
    {
      "cell_type": "code",
      "source": [
        "# Set torch random seed \n",
        "torch.manual_seed(42)\n",
        "np.random.seed(42)\n",
        "torch.backends.cudnn.enabled = False\n",
        "torch.backends.cudnn.deterministic = True"
      ],
      "metadata": {
        "id": "4Q2KqFdv1WX5"
      },
      "execution_count": null,
      "outputs": []
    },
    {
      "cell_type": "code",
      "source": [
        "import numpy as np\n",
        "import matplotlib.pyplot as plt\n",
        "from six.moves import cPickle \n",
        "\n",
        "f = open(\"/content/drive/My Drive/DLS_Assignments/3/cifar-10-python/cifar-10-batches-py/data_batch_1\", 'rb')\n",
        "dict_1 = cPickle.load(f,encoding='latin1')\n",
        "f.close()\n",
        "\n",
        "f = open(\"/content/drive/My Drive/DLS_Assignments/3/cifar-10-python/cifar-10-batches-py/data_batch_2\", 'rb')\n",
        "dict_2 = cPickle.load(f,encoding='latin1')\n",
        "f.close()\n",
        "\n",
        "f = open(\"/content/drive/My Drive/DLS_Assignments/3/cifar-10-python/cifar-10-batches-py/data_batch_3\", 'rb')\n",
        "dict_3 = cPickle.load(f,encoding='latin1')\n",
        "f.close()\n",
        "\n",
        "f = open(\"/content/drive/My Drive/DLS_Assignments/3/cifar-10-python/cifar-10-batches-py/data_batch_5\", 'rb')\n",
        "dict_4 = cPickle.load(f,encoding='latin1')\n",
        "f.close()\n",
        "\n",
        "f = open(\"/content/drive/My Drive/DLS_Assignments/3/cifar-10-python/cifar-10-batches-py/data_batch_5\", 'rb')\n",
        "dict_5 = cPickle.load(f,encoding='latin1')\n",
        "f.close()\n",
        "\n",
        "f = open(\"/content/drive/My Drive/DLS_Assignments/3/cifar-10-python/cifar-10-batches-py/test_batch\", 'rb')\n",
        "dict_test = cPickle.load(f,encoding='latin1')\n",
        "f.close()\n"
      ],
      "metadata": {
        "id": "N40OrOGP4w7t"
      },
      "execution_count": null,
      "outputs": []
    },
    {
      "cell_type": "code",
      "source": [
        "import copy\n",
        "\n",
        "train_data = np.concatenate((dict_1['data'], dict_2['data'], dict_3['data'], dict_4['data'], dict_5['data']), axis=0)\n",
        "\n",
        "print(train_data.shape)\n",
        "\n",
        "joinedlist = dict_1['labels'] + dict_2['labels'] + dict_3['labels'] + dict_4['labels'] + dict_5['labels']\n",
        "\n",
        "train_labels = np.asarray(joinedlist)\n",
        "\n",
        "print(train_labels.shape)"
      ],
      "metadata": {
        "colab": {
          "base_uri": "https://localhost:8080/"
        },
        "id": "eFxY71-wxRl7",
        "outputId": "8aec4974-71c6-4dc6-cda5-9e435b9d47fa"
      },
      "execution_count": null,
      "outputs": [
        {
          "output_type": "stream",
          "name": "stdout",
          "text": [
            "(50000, 3072)\n",
            "(50000,)\n"
          ]
        }
      ]
    },
    {
      "cell_type": "markdown",
      "source": [
        "3. Set aside 5,000 training examples for validation. \\\\\n",
        "4. **Build your baseline CNN classifier**. \\\\\n",
        "(a) The images need to be reshaped into 32 × 32 × 3 tensors. \\\\\n",
        "(b) Each pixel is an integer with 8bit encoding (from 0 to 255). Transform them down to a\n",
        "floating point with a range [0, 1]. 0 means a black pixel and 1 is a white one. \\\\\n",
        "(c) People like to rescale the pixels to [-1, 1] so that the input to the CNN is well centered\n",
        "around 0, instead of 0.5."
      ],
      "metadata": {
        "id": "HstBfoDF_2BP"
      }
    },
    {
      "cell_type": "code",
      "source": [
        "train_data = train_data.reshape(50000, 3, 32, 32).astype(\"uint8\")"
      ],
      "metadata": {
        "id": "4z2bD-xu8dbH"
      },
      "execution_count": null,
      "outputs": []
    },
    {
      "cell_type": "code",
      "source": [
        "print(train_data.shape)"
      ],
      "metadata": {
        "colab": {
          "base_uri": "https://localhost:8080/"
        },
        "id": "-oZrJa0r9QCZ",
        "outputId": "71182903-5b6b-48b6-fb8d-e2425fe61501"
      },
      "execution_count": null,
      "outputs": [
        {
          "output_type": "stream",
          "name": "stdout",
          "text": [
            "(50000, 3, 32, 32)\n"
          ]
        }
      ]
    },
    {
      "cell_type": "code",
      "source": [
        "# Train test split\n",
        "from sklearn.model_selection import train_test_split\n",
        "\n",
        "X_train, X_val, y_train, y_val = train_test_split(train_data, train_labels, test_size=0.1, shuffle = True)\n",
        "\n",
        "print(X_train.shape)\n",
        "print(X_val.shape)\n",
        "print(y_train.shape)\n",
        "print(y_val.shape)"
      ],
      "metadata": {
        "colab": {
          "base_uri": "https://localhost:8080/"
        },
        "id": "Jw4n72nU0syz",
        "outputId": "955ff65d-9472-452a-9e92-cce6d187eb2d"
      },
      "execution_count": null,
      "outputs": [
        {
          "output_type": "stream",
          "name": "stdout",
          "text": [
            "(45000, 3, 32, 32)\n",
            "(5000, 3, 32, 32)\n",
            "(45000,)\n",
            "(5000,)\n"
          ]
        }
      ]
    },
    {
      "cell_type": "code",
      "source": [
        "# Scale Data into [-1,1] range from [0,255]\n",
        "\n",
        "X_train = X_train.astype(float)\n",
        "X_train = (((X_train / 255) * 2) - 1)\n",
        "\n",
        "X_val = X_val.astype(float)\n",
        "X_val = (((X_val / 255) * 2) - 1)"
      ],
      "metadata": {
        "id": "hZ15rVM49NpD"
      },
      "execution_count": null,
      "outputs": []
    },
    {
      "cell_type": "code",
      "source": [
        "# Convert to torch tensors\n",
        "\n",
        "X_train = torch.from_numpy(X_train)\n",
        "X_val = torch.from_numpy(X_val)\n",
        "y_train = torch.from_numpy(y_train)\n",
        "y_val = torch.from_numpy(y_val)\n"
      ],
      "metadata": {
        "id": "YnlSQF_36jkr"
      },
      "execution_count": null,
      "outputs": []
    },
    {
      "cell_type": "code",
      "source": [
        "# Set Hyperparameters\n",
        "n_epochs = 200 # max_epochs\n",
        "batch_size_val = 100\n",
        "batch_size_train = 100\n",
        "batch_size_test = 100\n",
        "learning_rate = 0.001 # learn rate\n",
        "log_interval = 1 # log every _ epoch\n",
        "\n",
        "patience = 20  # epochs after which training should stop if no improvement"
      ],
      "metadata": {
        "id": "fWjo8pwmBSkU"
      },
      "execution_count": null,
      "outputs": []
    },
    {
      "cell_type": "code",
      "source": [
        "# Get Datasets\n",
        "from torch.utils.data import TensorDataset, DataLoader\n",
        "\n",
        "Train_dataset = TensorDataset(X_train, y_train)\n",
        "Val_dataset = TensorDataset(X_val, y_val)\n",
        "\n",
        "train_loader = torch.utils.data.DataLoader(Train_dataset,batch_size=batch_size_train, shuffle=True)\n",
        "val_loader = torch.utils.data.DataLoader(Val_dataset,batch_size=batch_size_val, shuffle=False)"
      ],
      "metadata": {
        "id": "6yDEDm3xBATc"
      },
      "execution_count": null,
      "outputs": []
    },
    {
      "cell_type": "markdown",
      "source": [
        "(d) I know you are eager to try out a fancier net architecture, but let’s stick to this simple\n",
        "one: \\\\\n",
        "**1st 2d conv layer:** there are 10 kernels whose size is 5x5x3; stride=1 \\\\\n",
        "**Maxpooling:** 2x2 with stride=2 \\\\\n",
        "**1st 2d conv layer:** there are 10 kernels whose size is 5x5x10; stride=1 \\\\\n",
        "**Maxpooling:** 2x2 with stride=2 \\\\\n",
        "**1st fully-connected layer:** [flattened final feature map] x 20 \\\\\n",
        "**2st fully-connected layer:** 20 x 10 Softmax on the 10 classes \\\\\n",
        "Let’s stick to ReLU for activation and the Kaiming He’s initializer. \\\\\n",
        "(e) Train this net with an Adam optimizer with a default initial learning late (i.e. 0.001). \\\\\n",
        "Check on the validation accuracy at the end of every epoch. Report your validation \n",
        "accuracy over the epochs as a graph. This is the performance of your baseline system"
      ],
      "metadata": {
        "id": "mSaX_n72Bp6z"
      }
    },
    {
      "cell_type": "code",
      "source": [
        "# Building the network\n",
        "import torch.nn as nn\n",
        "import torch.nn.functional as F\n",
        "import torch.optim as optim\n",
        "\n",
        "class CNN2D_base_network(nn.Module):\n",
        "    def __init__(self):\n",
        "        super().__init__()\n",
        "        \n",
        "        self.conv2d = nn.Conv2d(in_channels = 3,\n",
        "                                out_channels = 10, # number filters\n",
        "                                kernel_size = (5,5), # size of kernel\n",
        "                                padding = 'same',    \n",
        "                                stride = (1,1) # stride of conv\n",
        "          \n",
        "        ) \n",
        "        self.conv2d_2 = nn.Conv2d(in_channels = 10,\n",
        "                                out_channels = 10, # number filters\n",
        "                                kernel_size = (5,5), # size of kernel\n",
        "                                padding = 'same',\n",
        "                                stride = (1,1) # stride of \n",
        "                       \n",
        "        ) \n",
        "        self.maxpool2d = nn.MaxPool2d(kernel_size = (2,2),stride=2)\n",
        "        \n",
        "        self.fc1 = nn.Linear(640, 20)\n",
        "        self.fc2 = nn.Linear(20, 10)\n",
        "        \n",
        "\n",
        "        \n",
        "        # Define extra layers \n",
        "        self.ReLU = nn.ReLU()\n",
        "        #self.LeakyReLU = nn.LeakyReLU()\n",
        "        #self.Dropout_1 = nn.Dropout(p=.2)\n",
        "        #self.GroupNorm = nn.GroupNorm(group_num, 1024)\n",
        "        \n",
        "    def forward(self, x):\n",
        "      \n",
        "        # Pass the input tensor through each of our operations\n",
        "\n",
        "\n",
        "        x = self.conv2d(x)\n",
        "        x = self.ReLU(x)\n",
        "\n",
        "        x = self.maxpool2d(x)\n",
        " \n",
        "        x = self.conv2d_2(x)\n",
        "        x = self.ReLU(x)\n",
        "\n",
        "        x = self.maxpool2d(x)\n",
        "        x = torch.flatten(x, start_dim=1)\n",
        "        x = self.fc1(x)\n",
        "        x = self.ReLU(x)\n",
        "\n",
        "        x = self.fc2(x)\n",
        "        x = self.ReLU(x)\n",
        "\n",
        "        return x"
      ],
      "metadata": {
        "id": "sCQkY0QHBetF"
      },
      "execution_count": null,
      "outputs": []
    },
    {
      "cell_type": "code",
      "source": [
        "import math\n",
        "def weight_init(m):\n",
        "  if isinstance(m, nn.Linear):\n",
        "    torch.nn.init.kaiming_uniform_(m.weight, nonlinearity = 'relu') # using uniform dists\n",
        "    torch.nn.init.zeros_(m.bias) # fill bias with zeros\n",
        "  elif isinstance(m, nn.Conv2d):\n",
        "    torch.nn.init.kaiming_uniform_(m.weight, nonlinearity = 'relu') # using uniform dists\n",
        "    torch.nn.init.zeros_(m.bias) # fill bias with zeros\n",
        "\n",
        "# Send model to GPU\n",
        "CNN2D_base_network = CNN2D_base_network().to(device)\n",
        "CNN2D_base_network.apply(weight_init)\n",
        "CNN2D_base_network = CNN2D_base_network.float()\n",
        "print(CNN2D_base_network)"
      ],
      "metadata": {
        "colab": {
          "base_uri": "https://localhost:8080/"
        },
        "id": "c04MU9frEXY5",
        "outputId": "a9ccbc84-3e06-43c3-9534-63f75af0118a"
      },
      "execution_count": null,
      "outputs": [
        {
          "output_type": "stream",
          "name": "stdout",
          "text": [
            "CNN2D_base_network(\n",
            "  (conv2d): Conv2d(3, 10, kernel_size=(5, 5), stride=(1, 1), padding=same)\n",
            "  (conv2d_2): Conv2d(10, 10, kernel_size=(5, 5), stride=(1, 1), padding=same)\n",
            "  (maxpool2d): MaxPool2d(kernel_size=(2, 2), stride=2, padding=0, dilation=1, ceil_mode=False)\n",
            "  (fc1): Linear(in_features=640, out_features=20, bias=True)\n",
            "  (fc2): Linear(in_features=20, out_features=10, bias=True)\n",
            "  (ReLU): ReLU()\n",
            ")\n"
          ]
        }
      ]
    },
    {
      "cell_type": "code",
      "source": [
        "# Define optimizer and loss\n",
        "\n",
        "optimizer = torch.optim.Adam(CNN2D_base_network.parameters(), lr = learning_rate)\n",
        "loss_func = nn.CrossEntropyLoss()"
      ],
      "metadata": {
        "id": "m152D-euL3Js"
      },
      "execution_count": null,
      "outputs": []
    },
    {
      "cell_type": "code",
      "source": [
        "# Results of Training\n",
        "bst_prediction_array = None\n",
        "bst_test_data = None\n",
        "bst_test_labels = None\n",
        "bst_accuracy = 0 # captures best accuracy\n",
        "bst_model = None\n",
        "bst_model_state_dict = None\n",
        "bst_opt_state_dict = None\n",
        "validation_acc_list = []\n",
        "\n",
        "Training_Result = (bst_prediction_array, bst_test_data, bst_test_labels, bst_accuracy, bst_model, bst_model_state_dict, bst_opt_state_dict, validation_acc_list)"
      ],
      "metadata": {
        "id": "zUn7qAwlMF44"
      },
      "execution_count": null,
      "outputs": []
    },
    {
      "cell_type": "code",
      "source": [
        "from sklearn.metrics import accuracy_score\n",
        "\n",
        "# Train Function\n",
        "def train(Training_Result_p):\n",
        "\n",
        "  bst_prediction_array, bst_test_data, bst_test_labels, bst_accuracy, bst_model, bst_model_state_dict, bst_opt_state_dict, validation_acc_list = Training_Result_p\n",
        "\n",
        "  # Train parameters\n",
        "  epoch = 1 # starting epoch\n",
        " \n",
        "  \n",
        "  print(\"Training model\")\n",
        "\n",
        "  while ( (epoch <= n_epochs) ):\n",
        "    \n",
        "    # Training\n",
        "    CNN2D_base_network.train()\n",
        "    train_loss = 0 # calc train loss\n",
        "    for batch_idx, (data, target) in enumerate(train_loader):\n",
        "\n",
        "      # Prepare batch data and labels\n",
        "      data = data.to(device)\n",
        "      batch_labels = target.to(device)\n",
        "\n",
        "      # Forward pass\n",
        "      batch_outputs = CNN2D_base_network(data.float())\n",
        "      loss = loss_func(batch_outputs, batch_labels)\n",
        "\n",
        "      # Backward and optimize\n",
        "      optimizer.zero_grad()\n",
        "      loss.backward()\n",
        "      optimizer.step()\n",
        "\n",
        "      train_loss += loss.item() # increment train loss for epoch\n",
        "\n",
        "    # Evaluation \n",
        "    CNN2D_base_network.eval()\n",
        "    data_list = []\n",
        "    lbl_list = []\n",
        "    pred_list = []\n",
        "    with torch.no_grad():\n",
        "      for data, target in val_loader:\n",
        "        \n",
        "        data = data.to(device)\n",
        "        test_batch_labels = target.numpy()\n",
        "        test_batch_pred = F.softmax(CNN2D_base_network.forward(data.float()), dim = 1).argmax(dim=1, keepdim=True).cpu().numpy()\n",
        "\n",
        "        data_list.append(data.cpu().numpy())\n",
        "        lbl_list.append(test_batch_labels)\n",
        "        pred_list.append(test_batch_pred)\n",
        "        \n",
        "    data_array = np.concatenate(data_list, axis=0)\n",
        "    lbl_array = np.concatenate(lbl_list, axis=0)\n",
        "    pred_array = np.concatenate(pred_list, axis=0)\n",
        "\n",
        "    epoch_acc = accuracy_score(lbl_array,pred_array)\n",
        "\n",
        "    validation_acc_list.append(epoch_acc)\n",
        "    \n",
        "    # Early Stop\n",
        "    # if acc better than previous\n",
        "    if(epoch_acc > bst_accuracy):\n",
        "\n",
        "      # Save result\n",
        "      bst_accuracy = epoch_acc\n",
        "\n",
        "      # Save test data\n",
        "      bst_test_data = data_array\n",
        "      bst_test_labels = lbl_array\n",
        "      bst_prediction_array = pred_array\n",
        "      \n",
        "      # Save Model\n",
        "      bst_model = CNN2D_base_network\n",
        "      bst_model_state_dict = CNN2D_base_network.state_dict()\n",
        "      bst_opt_state_dict = optimizer.state_dict()\n",
        "      # torch.save(model, 'best_mnist_model.pt')\n",
        "    \n",
        "    # Logging\n",
        "    if ( epoch % log_interval == 0 or epoch == 1 ) :\n",
        "      print(\"Epoch: {}, Total Training Loss: {}, Epoch Accuracy: {}, Best Accuracy: {} \\n \".format(epoch, train_loss, epoch_acc, bst_accuracy))\n",
        "    # increment epoch\n",
        "    epoch += 1\n",
        "  \n",
        "  print(\"Training Finished!\")\n",
        "  Training_Return = (bst_prediction_array, bst_test_data, bst_test_labels, bst_accuracy, bst_model, bst_model_state_dict, bst_opt_state_dict, validation_acc_list)\n",
        "  return Training_Return"
      ],
      "metadata": {
        "id": "FxZI_6hzMKvg"
      },
      "execution_count": null,
      "outputs": []
    },
    {
      "cell_type": "code",
      "source": [
        "# Train \n",
        "res = train(Training_Result)\n",
        "\n",
        "bst_prediction_array, bst_test_data, bst_test_labels, bst_accuracy, bst_model, bst_model_state_dict, bst_opt_state_dict, validation_acc_list = res\n",
        "\n",
        "# Best Model\n",
        "print(\"Best Accuracy Model was : {:.2f}\".format(bst_accuracy))"
      ],
      "metadata": {
        "colab": {
          "base_uri": "https://localhost:8080/"
        },
        "id": "b3bUuns2MQCl",
        "outputId": "105a1624-17fd-4b58-e20a-eba5eecf44a8"
      },
      "execution_count": null,
      "outputs": [
        {
          "output_type": "stream",
          "name": "stdout",
          "text": [
            "Training model\n",
            "Epoch: 1, Total Training Loss: 896.8500036001205, Epoch Accuracy: 0.3874, Best Accuracy: 0.3874 \n",
            " \n",
            "Epoch: 2, Total Training Loss: 800.8827217817307, Epoch Accuracy: 0.4274, Best Accuracy: 0.4274 \n",
            " \n",
            "Epoch: 3, Total Training Loss: 766.301615357399, Epoch Accuracy: 0.4506, Best Accuracy: 0.4506 \n",
            " \n",
            "Epoch: 4, Total Training Loss: 742.4980583190918, Epoch Accuracy: 0.4528, Best Accuracy: 0.4528 \n",
            " \n",
            "Epoch: 5, Total Training Loss: 724.6388646364212, Epoch Accuracy: 0.4696, Best Accuracy: 0.4696 \n",
            " \n",
            "Epoch: 6, Total Training Loss: 712.3235485553741, Epoch Accuracy: 0.4716, Best Accuracy: 0.4716 \n",
            " \n",
            "Epoch: 7, Total Training Loss: 701.4523041248322, Epoch Accuracy: 0.4742, Best Accuracy: 0.4742 \n",
            " \n",
            "Epoch: 8, Total Training Loss: 692.2595953941345, Epoch Accuracy: 0.496, Best Accuracy: 0.496 \n",
            " \n",
            "Epoch: 9, Total Training Loss: 685.0504778623581, Epoch Accuracy: 0.4866, Best Accuracy: 0.496 \n",
            " \n",
            "Epoch: 10, Total Training Loss: 677.6197160482407, Epoch Accuracy: 0.4888, Best Accuracy: 0.496 \n",
            " \n",
            "Epoch: 11, Total Training Loss: 671.4135664701462, Epoch Accuracy: 0.4946, Best Accuracy: 0.496 \n",
            " \n",
            "Epoch: 12, Total Training Loss: 664.4680805206299, Epoch Accuracy: 0.4984, Best Accuracy: 0.4984 \n",
            " \n",
            "Epoch: 13, Total Training Loss: 659.2858679294586, Epoch Accuracy: 0.5026, Best Accuracy: 0.5026 \n",
            " \n",
            "Epoch: 14, Total Training Loss: 654.7289946079254, Epoch Accuracy: 0.515, Best Accuracy: 0.515 \n",
            " \n",
            "Epoch: 15, Total Training Loss: 649.2188003063202, Epoch Accuracy: 0.5158, Best Accuracy: 0.5158 \n",
            " \n",
            "Epoch: 16, Total Training Loss: 645.8290967941284, Epoch Accuracy: 0.5094, Best Accuracy: 0.5158 \n",
            " \n",
            "Epoch: 17, Total Training Loss: 642.430447936058, Epoch Accuracy: 0.5136, Best Accuracy: 0.5158 \n",
            " \n",
            "Epoch: 18, Total Training Loss: 637.8548568487167, Epoch Accuracy: 0.5114, Best Accuracy: 0.5158 \n",
            " \n",
            "Epoch: 19, Total Training Loss: 634.1565097570419, Epoch Accuracy: 0.5208, Best Accuracy: 0.5208 \n",
            " \n",
            "Epoch: 20, Total Training Loss: 630.4853456020355, Epoch Accuracy: 0.5202, Best Accuracy: 0.5208 \n",
            " \n",
            "Epoch: 21, Total Training Loss: 627.2481986284256, Epoch Accuracy: 0.5222, Best Accuracy: 0.5222 \n",
            " \n",
            "Epoch: 22, Total Training Loss: 623.5601488351822, Epoch Accuracy: 0.517, Best Accuracy: 0.5222 \n",
            " \n",
            "Epoch: 23, Total Training Loss: 622.2560988664627, Epoch Accuracy: 0.53, Best Accuracy: 0.53 \n",
            " \n",
            "Epoch: 24, Total Training Loss: 618.5908439159393, Epoch Accuracy: 0.5188, Best Accuracy: 0.53 \n",
            " \n",
            "Epoch: 25, Total Training Loss: 616.9865362644196, Epoch Accuracy: 0.5224, Best Accuracy: 0.53 \n",
            " \n",
            "Epoch: 26, Total Training Loss: 613.670407295227, Epoch Accuracy: 0.521, Best Accuracy: 0.53 \n",
            " \n",
            "Epoch: 27, Total Training Loss: 610.1608018279076, Epoch Accuracy: 0.5148, Best Accuracy: 0.53 \n",
            " \n",
            "Epoch: 28, Total Training Loss: 609.655291557312, Epoch Accuracy: 0.5256, Best Accuracy: 0.53 \n",
            " \n",
            "Epoch: 29, Total Training Loss: 605.0607607364655, Epoch Accuracy: 0.5268, Best Accuracy: 0.53 \n",
            " \n",
            "Epoch: 30, Total Training Loss: 603.4504932165146, Epoch Accuracy: 0.5342, Best Accuracy: 0.5342 \n",
            " \n",
            "Epoch: 31, Total Training Loss: 600.8692770004272, Epoch Accuracy: 0.5252, Best Accuracy: 0.5342 \n",
            " \n",
            "Epoch: 32, Total Training Loss: 599.6489890813828, Epoch Accuracy: 0.5192, Best Accuracy: 0.5342 \n",
            " \n",
            "Epoch: 33, Total Training Loss: 597.7691720724106, Epoch Accuracy: 0.52, Best Accuracy: 0.5342 \n",
            " \n",
            "Epoch: 34, Total Training Loss: 549.912821829319, Epoch Accuracy: 0.5816, Best Accuracy: 0.5816 \n",
            " \n",
            "Epoch: 35, Total Training Loss: 529.017596244812, Epoch Accuracy: 0.583, Best Accuracy: 0.583 \n",
            " \n",
            "Epoch: 36, Total Training Loss: 524.2418451309204, Epoch Accuracy: 0.5922, Best Accuracy: 0.5922 \n",
            " \n",
            "Epoch: 37, Total Training Loss: 519.1979593634605, Epoch Accuracy: 0.5916, Best Accuracy: 0.5922 \n",
            " \n",
            "Epoch: 38, Total Training Loss: 517.4788501262665, Epoch Accuracy: 0.5888, Best Accuracy: 0.5922 \n",
            " \n",
            "Epoch: 39, Total Training Loss: 514.5000639557838, Epoch Accuracy: 0.5752, Best Accuracy: 0.5922 \n",
            " \n",
            "Epoch: 40, Total Training Loss: 512.2675852179527, Epoch Accuracy: 0.5948, Best Accuracy: 0.5948 \n",
            " \n",
            "Epoch: 41, Total Training Loss: 508.8172178864479, Epoch Accuracy: 0.5886, Best Accuracy: 0.5948 \n",
            " \n",
            "Epoch: 42, Total Training Loss: 507.7294302582741, Epoch Accuracy: 0.5936, Best Accuracy: 0.5948 \n",
            " \n",
            "Epoch: 43, Total Training Loss: 505.38951474428177, Epoch Accuracy: 0.5832, Best Accuracy: 0.5948 \n",
            " \n",
            "Epoch: 44, Total Training Loss: 502.62520986795425, Epoch Accuracy: 0.5886, Best Accuracy: 0.5948 \n",
            " \n",
            "Epoch: 45, Total Training Loss: 501.31557381153107, Epoch Accuracy: 0.5902, Best Accuracy: 0.5948 \n",
            " \n",
            "Epoch: 46, Total Training Loss: 499.842302441597, Epoch Accuracy: 0.5886, Best Accuracy: 0.5948 \n",
            " \n",
            "Epoch: 47, Total Training Loss: 496.34619468450546, Epoch Accuracy: 0.5952, Best Accuracy: 0.5952 \n",
            " \n",
            "Epoch: 48, Total Training Loss: 496.47563832998276, Epoch Accuracy: 0.593, Best Accuracy: 0.5952 \n",
            " \n",
            "Epoch: 49, Total Training Loss: 495.00043284893036, Epoch Accuracy: 0.5856, Best Accuracy: 0.5952 \n",
            " \n",
            "Epoch: 50, Total Training Loss: 493.2908415198326, Epoch Accuracy: 0.5988, Best Accuracy: 0.5988 \n",
            " \n",
            "Epoch: 51, Total Training Loss: 491.2594199180603, Epoch Accuracy: 0.5958, Best Accuracy: 0.5988 \n",
            " \n",
            "Epoch: 52, Total Training Loss: 489.8142790198326, Epoch Accuracy: 0.5898, Best Accuracy: 0.5988 \n",
            " \n",
            "Epoch: 53, Total Training Loss: 487.76189464330673, Epoch Accuracy: 0.6034, Best Accuracy: 0.6034 \n",
            " \n",
            "Epoch: 54, Total Training Loss: 488.27687728405, Epoch Accuracy: 0.5958, Best Accuracy: 0.6034 \n",
            " \n",
            "Epoch: 55, Total Training Loss: 484.7548733949661, Epoch Accuracy: 0.6032, Best Accuracy: 0.6034 \n",
            " \n",
            "Epoch: 56, Total Training Loss: 484.22946578264236, Epoch Accuracy: 0.5986, Best Accuracy: 0.6034 \n",
            " \n",
            "Epoch: 57, Total Training Loss: 484.0865479707718, Epoch Accuracy: 0.5972, Best Accuracy: 0.6034 \n",
            " \n",
            "Epoch: 58, Total Training Loss: 481.35322719812393, Epoch Accuracy: 0.5952, Best Accuracy: 0.6034 \n",
            " \n",
            "Epoch: 59, Total Training Loss: 481.61835265159607, Epoch Accuracy: 0.594, Best Accuracy: 0.6034 \n",
            " \n",
            "Epoch: 60, Total Training Loss: 479.8681016564369, Epoch Accuracy: 0.5974, Best Accuracy: 0.6034 \n",
            " \n",
            "Epoch: 61, Total Training Loss: 478.795445561409, Epoch Accuracy: 0.5964, Best Accuracy: 0.6034 \n",
            " \n",
            "Epoch: 62, Total Training Loss: 477.34851878881454, Epoch Accuracy: 0.5978, Best Accuracy: 0.6034 \n",
            " \n",
            "Epoch: 63, Total Training Loss: 476.96200543642044, Epoch Accuracy: 0.6002, Best Accuracy: 0.6034 \n",
            " \n",
            "Epoch: 64, Total Training Loss: 475.79395097494125, Epoch Accuracy: 0.5936, Best Accuracy: 0.6034 \n",
            " \n",
            "Epoch: 65, Total Training Loss: 474.474003136158, Epoch Accuracy: 0.5962, Best Accuracy: 0.6034 \n",
            " \n",
            "Epoch: 66, Total Training Loss: 472.26088786125183, Epoch Accuracy: 0.598, Best Accuracy: 0.6034 \n",
            " \n",
            "Epoch: 67, Total Training Loss: 473.6178511977196, Epoch Accuracy: 0.587, Best Accuracy: 0.6034 \n",
            " \n",
            "Epoch: 68, Total Training Loss: 471.15840488672256, Epoch Accuracy: 0.6012, Best Accuracy: 0.6034 \n",
            " \n",
            "Epoch: 69, Total Training Loss: 469.7758073210716, Epoch Accuracy: 0.5948, Best Accuracy: 0.6034 \n",
            " \n",
            "Epoch: 70, Total Training Loss: 469.4668878912926, Epoch Accuracy: 0.5952, Best Accuracy: 0.6034 \n",
            " \n",
            "Epoch: 71, Total Training Loss: 471.2369610071182, Epoch Accuracy: 0.59, Best Accuracy: 0.6034 \n",
            " \n",
            "Epoch: 72, Total Training Loss: 466.74803721904755, Epoch Accuracy: 0.5952, Best Accuracy: 0.6034 \n",
            " \n",
            "Epoch: 73, Total Training Loss: 465.48372107744217, Epoch Accuracy: 0.6022, Best Accuracy: 0.6034 \n",
            " \n",
            "Epoch: 74, Total Training Loss: 467.4885938167572, Epoch Accuracy: 0.6018, Best Accuracy: 0.6034 \n",
            " \n",
            "Epoch: 75, Total Training Loss: 465.05942338705063, Epoch Accuracy: 0.6072, Best Accuracy: 0.6072 \n",
            " \n",
            "Epoch: 76, Total Training Loss: 465.0050421357155, Epoch Accuracy: 0.6076, Best Accuracy: 0.6076 \n",
            " \n",
            "Epoch: 77, Total Training Loss: 462.2839887738228, Epoch Accuracy: 0.599, Best Accuracy: 0.6076 \n",
            " \n",
            "Epoch: 78, Total Training Loss: 462.5704436302185, Epoch Accuracy: 0.5958, Best Accuracy: 0.6076 \n",
            " \n",
            "Epoch: 79, Total Training Loss: 462.6094954609871, Epoch Accuracy: 0.6026, Best Accuracy: 0.6076 \n",
            " \n",
            "Epoch: 80, Total Training Loss: 461.09494692087173, Epoch Accuracy: 0.59, Best Accuracy: 0.6076 \n",
            " \n",
            "Epoch: 81, Total Training Loss: 461.1065500974655, Epoch Accuracy: 0.6026, Best Accuracy: 0.6076 \n",
            " \n",
            "Epoch: 82, Total Training Loss: 460.16869270801544, Epoch Accuracy: 0.6004, Best Accuracy: 0.6076 \n",
            " \n",
            "Epoch: 83, Total Training Loss: 458.5323505997658, Epoch Accuracy: 0.6006, Best Accuracy: 0.6076 \n",
            " \n",
            "Epoch: 84, Total Training Loss: 458.01696825027466, Epoch Accuracy: 0.5964, Best Accuracy: 0.6076 \n",
            " \n",
            "Epoch: 85, Total Training Loss: 459.40109610557556, Epoch Accuracy: 0.6002, Best Accuracy: 0.6076 \n",
            " \n",
            "Epoch: 86, Total Training Loss: 456.6947492957115, Epoch Accuracy: 0.6014, Best Accuracy: 0.6076 \n",
            " \n",
            "Epoch: 87, Total Training Loss: 455.7142847776413, Epoch Accuracy: 0.6058, Best Accuracy: 0.6076 \n",
            " \n",
            "Epoch: 88, Total Training Loss: 456.24897384643555, Epoch Accuracy: 0.59, Best Accuracy: 0.6076 \n",
            " \n",
            "Epoch: 89, Total Training Loss: 453.80877232551575, Epoch Accuracy: 0.5938, Best Accuracy: 0.6076 \n",
            " \n",
            "Epoch: 90, Total Training Loss: 453.8883249759674, Epoch Accuracy: 0.5962, Best Accuracy: 0.6076 \n",
            " \n",
            "Epoch: 91, Total Training Loss: 455.7523103952408, Epoch Accuracy: 0.5976, Best Accuracy: 0.6076 \n",
            " \n",
            "Epoch: 92, Total Training Loss: 455.74057787656784, Epoch Accuracy: 0.6072, Best Accuracy: 0.6076 \n",
            " \n",
            "Epoch: 93, Total Training Loss: 452.963710129261, Epoch Accuracy: 0.6036, Best Accuracy: 0.6076 \n",
            " \n",
            "Epoch: 94, Total Training Loss: 451.6441690325737, Epoch Accuracy: 0.5998, Best Accuracy: 0.6076 \n",
            " \n",
            "Epoch: 95, Total Training Loss: 451.4175932407379, Epoch Accuracy: 0.5972, Best Accuracy: 0.6076 \n",
            " \n",
            "Epoch: 96, Total Training Loss: 450.71343237161636, Epoch Accuracy: 0.6014, Best Accuracy: 0.6076 \n",
            " \n",
            "Epoch: 97, Total Training Loss: 449.87021988630295, Epoch Accuracy: 0.6028, Best Accuracy: 0.6076 \n",
            " \n",
            "Epoch: 98, Total Training Loss: 450.18974608182907, Epoch Accuracy: 0.6012, Best Accuracy: 0.6076 \n",
            " \n",
            "Epoch: 99, Total Training Loss: 450.7623498439789, Epoch Accuracy: 0.605, Best Accuracy: 0.6076 \n",
            " \n",
            "Epoch: 100, Total Training Loss: 447.2946906685829, Epoch Accuracy: 0.5922, Best Accuracy: 0.6076 \n",
            " \n",
            "Epoch: 101, Total Training Loss: 447.2716141939163, Epoch Accuracy: 0.6028, Best Accuracy: 0.6076 \n",
            " \n",
            "Epoch: 102, Total Training Loss: 447.5462418794632, Epoch Accuracy: 0.6008, Best Accuracy: 0.6076 \n",
            " \n",
            "Epoch: 103, Total Training Loss: 445.4021186232567, Epoch Accuracy: 0.603, Best Accuracy: 0.6076 \n",
            " \n",
            "Epoch: 104, Total Training Loss: 446.5390689969063, Epoch Accuracy: 0.593, Best Accuracy: 0.6076 \n",
            " \n",
            "Epoch: 105, Total Training Loss: 447.3145030140877, Epoch Accuracy: 0.6036, Best Accuracy: 0.6076 \n",
            " \n",
            "Epoch: 106, Total Training Loss: 445.5822315812111, Epoch Accuracy: 0.5994, Best Accuracy: 0.6076 \n",
            " \n",
            "Epoch: 107, Total Training Loss: 443.153302192688, Epoch Accuracy: 0.5974, Best Accuracy: 0.6076 \n",
            " \n",
            "Epoch: 108, Total Training Loss: 445.17846488952637, Epoch Accuracy: 0.601, Best Accuracy: 0.6076 \n",
            " \n",
            "Epoch: 109, Total Training Loss: 443.9495658278465, Epoch Accuracy: 0.5984, Best Accuracy: 0.6076 \n",
            " \n",
            "Epoch: 110, Total Training Loss: 442.2478828430176, Epoch Accuracy: 0.6004, Best Accuracy: 0.6076 \n",
            " \n",
            "Epoch: 111, Total Training Loss: 441.43173187971115, Epoch Accuracy: 0.5982, Best Accuracy: 0.6076 \n",
            " \n",
            "Epoch: 112, Total Training Loss: 442.68948632478714, Epoch Accuracy: 0.601, Best Accuracy: 0.6076 \n",
            " \n",
            "Epoch: 113, Total Training Loss: 441.6093648672104, Epoch Accuracy: 0.5994, Best Accuracy: 0.6076 \n",
            " \n",
            "Epoch: 114, Total Training Loss: 442.51857191324234, Epoch Accuracy: 0.6034, Best Accuracy: 0.6076 \n",
            " \n",
            "Epoch: 115, Total Training Loss: 442.3466700911522, Epoch Accuracy: 0.601, Best Accuracy: 0.6076 \n",
            " \n",
            "Epoch: 116, Total Training Loss: 440.0558353662491, Epoch Accuracy: 0.599, Best Accuracy: 0.6076 \n",
            " \n",
            "Epoch: 117, Total Training Loss: 438.7045667767525, Epoch Accuracy: 0.6042, Best Accuracy: 0.6076 \n",
            " \n",
            "Epoch: 118, Total Training Loss: 439.06569868326187, Epoch Accuracy: 0.599, Best Accuracy: 0.6076 \n",
            " \n",
            "Epoch: 119, Total Training Loss: 438.09057080745697, Epoch Accuracy: 0.5924, Best Accuracy: 0.6076 \n",
            " \n",
            "Epoch: 120, Total Training Loss: 436.81685304641724, Epoch Accuracy: 0.6006, Best Accuracy: 0.6076 \n",
            " \n",
            "Epoch: 121, Total Training Loss: 438.75107526779175, Epoch Accuracy: 0.594, Best Accuracy: 0.6076 \n",
            " \n",
            "Epoch: 122, Total Training Loss: 439.3484218120575, Epoch Accuracy: 0.601, Best Accuracy: 0.6076 \n",
            " \n",
            "Epoch: 123, Total Training Loss: 437.0578011274338, Epoch Accuracy: 0.6018, Best Accuracy: 0.6076 \n",
            " \n",
            "Epoch: 124, Total Training Loss: 438.20324063301086, Epoch Accuracy: 0.5966, Best Accuracy: 0.6076 \n",
            " \n",
            "Epoch: 125, Total Training Loss: 437.3894325494766, Epoch Accuracy: 0.6052, Best Accuracy: 0.6076 \n",
            " \n",
            "Epoch: 126, Total Training Loss: 436.63174802064896, Epoch Accuracy: 0.6006, Best Accuracy: 0.6076 \n",
            " \n",
            "Epoch: 127, Total Training Loss: 435.36577290296555, Epoch Accuracy: 0.6032, Best Accuracy: 0.6076 \n",
            " \n",
            "Epoch: 128, Total Training Loss: 435.7407005429268, Epoch Accuracy: 0.6004, Best Accuracy: 0.6076 \n",
            " \n",
            "Epoch: 129, Total Training Loss: 435.0787634253502, Epoch Accuracy: 0.6012, Best Accuracy: 0.6076 \n",
            " \n",
            "Epoch: 130, Total Training Loss: 434.7732233405113, Epoch Accuracy: 0.5988, Best Accuracy: 0.6076 \n",
            " \n",
            "Epoch: 131, Total Training Loss: 435.0840400457382, Epoch Accuracy: 0.594, Best Accuracy: 0.6076 \n",
            " \n",
            "Epoch: 132, Total Training Loss: 436.11898297071457, Epoch Accuracy: 0.5964, Best Accuracy: 0.6076 \n",
            " \n",
            "Epoch: 133, Total Training Loss: 433.4880874156952, Epoch Accuracy: 0.5972, Best Accuracy: 0.6076 \n",
            " \n",
            "Epoch: 134, Total Training Loss: 434.2420343160629, Epoch Accuracy: 0.6, Best Accuracy: 0.6076 \n",
            " \n",
            "Epoch: 135, Total Training Loss: 436.05784726142883, Epoch Accuracy: 0.5924, Best Accuracy: 0.6076 \n",
            " \n",
            "Epoch: 136, Total Training Loss: 432.2354122400284, Epoch Accuracy: 0.6018, Best Accuracy: 0.6076 \n",
            " \n",
            "Epoch: 137, Total Training Loss: 432.8260290026665, Epoch Accuracy: 0.5982, Best Accuracy: 0.6076 \n",
            " \n",
            "Epoch: 138, Total Training Loss: 430.78991067409515, Epoch Accuracy: 0.5974, Best Accuracy: 0.6076 \n",
            " \n",
            "Epoch: 139, Total Training Loss: 434.0010753273964, Epoch Accuracy: 0.5854, Best Accuracy: 0.6076 \n",
            " \n",
            "Epoch: 140, Total Training Loss: 434.01425737142563, Epoch Accuracy: 0.5958, Best Accuracy: 0.6076 \n",
            " \n",
            "Epoch: 141, Total Training Loss: 430.0923691391945, Epoch Accuracy: 0.6054, Best Accuracy: 0.6076 \n",
            " \n",
            "Epoch: 142, Total Training Loss: 432.35828769207, Epoch Accuracy: 0.5986, Best Accuracy: 0.6076 \n",
            " \n",
            "Epoch: 143, Total Training Loss: 432.2386308312416, Epoch Accuracy: 0.6028, Best Accuracy: 0.6076 \n",
            " \n",
            "Epoch: 144, Total Training Loss: 427.9438086748123, Epoch Accuracy: 0.6074, Best Accuracy: 0.6076 \n",
            " \n",
            "Epoch: 145, Total Training Loss: 429.53546410799026, Epoch Accuracy: 0.5994, Best Accuracy: 0.6076 \n",
            " \n",
            "Epoch: 146, Total Training Loss: 426.8037125468254, Epoch Accuracy: 0.6062, Best Accuracy: 0.6076 \n",
            " \n",
            "Epoch: 147, Total Training Loss: 429.179913520813, Epoch Accuracy: 0.6014, Best Accuracy: 0.6076 \n",
            " \n",
            "Epoch: 148, Total Training Loss: 430.41095346212387, Epoch Accuracy: 0.5852, Best Accuracy: 0.6076 \n",
            " \n",
            "Epoch: 149, Total Training Loss: 429.43156296014786, Epoch Accuracy: 0.5968, Best Accuracy: 0.6076 \n",
            " \n",
            "Epoch: 150, Total Training Loss: 430.3469871878624, Epoch Accuracy: 0.5986, Best Accuracy: 0.6076 \n",
            " \n",
            "Epoch: 151, Total Training Loss: 430.0072503089905, Epoch Accuracy: 0.5928, Best Accuracy: 0.6076 \n",
            " \n",
            "Epoch: 152, Total Training Loss: 426.20316219329834, Epoch Accuracy: 0.5942, Best Accuracy: 0.6076 \n",
            " \n",
            "Epoch: 153, Total Training Loss: 426.9362037181854, Epoch Accuracy: 0.5974, Best Accuracy: 0.6076 \n",
            " \n",
            "Epoch: 154, Total Training Loss: 429.29865419864655, Epoch Accuracy: 0.5992, Best Accuracy: 0.6076 \n",
            " \n",
            "Epoch: 155, Total Training Loss: 429.0330601334572, Epoch Accuracy: 0.5978, Best Accuracy: 0.6076 \n",
            " \n",
            "Epoch: 156, Total Training Loss: 425.3624458909035, Epoch Accuracy: 0.5938, Best Accuracy: 0.6076 \n",
            " \n",
            "Epoch: 157, Total Training Loss: 425.8657532930374, Epoch Accuracy: 0.6044, Best Accuracy: 0.6076 \n",
            " \n",
            "Epoch: 158, Total Training Loss: 425.8344152569771, Epoch Accuracy: 0.5872, Best Accuracy: 0.6076 \n",
            " \n",
            "Epoch: 159, Total Training Loss: 426.78966146707535, Epoch Accuracy: 0.601, Best Accuracy: 0.6076 \n",
            " \n",
            "Epoch: 160, Total Training Loss: 427.33657240867615, Epoch Accuracy: 0.6044, Best Accuracy: 0.6076 \n",
            " \n",
            "Epoch: 161, Total Training Loss: 425.606961786747, Epoch Accuracy: 0.5986, Best Accuracy: 0.6076 \n",
            " \n",
            "Epoch: 162, Total Training Loss: 422.6314791440964, Epoch Accuracy: 0.5968, Best Accuracy: 0.6076 \n",
            " \n",
            "Epoch: 163, Total Training Loss: 425.96304416656494, Epoch Accuracy: 0.6038, Best Accuracy: 0.6076 \n",
            " \n",
            "Epoch: 164, Total Training Loss: 423.72549349069595, Epoch Accuracy: 0.6048, Best Accuracy: 0.6076 \n",
            " \n",
            "Epoch: 165, Total Training Loss: 426.2510417699814, Epoch Accuracy: 0.5988, Best Accuracy: 0.6076 \n",
            " \n",
            "Epoch: 166, Total Training Loss: 424.0698469877243, Epoch Accuracy: 0.5982, Best Accuracy: 0.6076 \n",
            " \n",
            "Epoch: 167, Total Training Loss: 423.0613315105438, Epoch Accuracy: 0.6072, Best Accuracy: 0.6076 \n",
            " \n",
            "Epoch: 168, Total Training Loss: 422.44026666879654, Epoch Accuracy: 0.5954, Best Accuracy: 0.6076 \n",
            " \n",
            "Epoch: 169, Total Training Loss: 424.19563382864, Epoch Accuracy: 0.6008, Best Accuracy: 0.6076 \n",
            " \n",
            "Epoch: 170, Total Training Loss: 423.91495007276535, Epoch Accuracy: 0.5978, Best Accuracy: 0.6076 \n",
            " \n",
            "Epoch: 171, Total Training Loss: 421.90102702379227, Epoch Accuracy: 0.601, Best Accuracy: 0.6076 \n",
            " \n",
            "Epoch: 172, Total Training Loss: 421.4603546857834, Epoch Accuracy: 0.5988, Best Accuracy: 0.6076 \n",
            " \n",
            "Epoch: 173, Total Training Loss: 424.37298035621643, Epoch Accuracy: 0.6002, Best Accuracy: 0.6076 \n",
            " \n",
            "Epoch: 174, Total Training Loss: 424.2794355750084, Epoch Accuracy: 0.5962, Best Accuracy: 0.6076 \n",
            " \n",
            "Epoch: 175, Total Training Loss: 421.81023693084717, Epoch Accuracy: 0.609, Best Accuracy: 0.609 \n",
            " \n",
            "Epoch: 176, Total Training Loss: 421.9878335595131, Epoch Accuracy: 0.5962, Best Accuracy: 0.609 \n",
            " \n",
            "Epoch: 177, Total Training Loss: 420.92613393068314, Epoch Accuracy: 0.6006, Best Accuracy: 0.609 \n",
            " \n",
            "Epoch: 178, Total Training Loss: 420.4846992492676, Epoch Accuracy: 0.6008, Best Accuracy: 0.609 \n",
            " \n",
            "Epoch: 179, Total Training Loss: 419.5589256286621, Epoch Accuracy: 0.5992, Best Accuracy: 0.609 \n",
            " \n",
            "Epoch: 180, Total Training Loss: 424.6824144721031, Epoch Accuracy: 0.596, Best Accuracy: 0.609 \n",
            " \n",
            "Epoch: 181, Total Training Loss: 421.07781106233597, Epoch Accuracy: 0.6024, Best Accuracy: 0.609 \n",
            " \n",
            "Epoch: 182, Total Training Loss: 418.97820460796356, Epoch Accuracy: 0.603, Best Accuracy: 0.609 \n",
            " \n",
            "Epoch: 183, Total Training Loss: 418.5942742228508, Epoch Accuracy: 0.5988, Best Accuracy: 0.609 \n",
            " \n",
            "Epoch: 184, Total Training Loss: 420.15277874469757, Epoch Accuracy: 0.6034, Best Accuracy: 0.609 \n",
            " \n",
            "Epoch: 185, Total Training Loss: 418.40870213508606, Epoch Accuracy: 0.5994, Best Accuracy: 0.609 \n",
            " \n",
            "Epoch: 186, Total Training Loss: 421.36109787225723, Epoch Accuracy: 0.6012, Best Accuracy: 0.609 \n",
            " \n",
            "Epoch: 187, Total Training Loss: 420.2648279070854, Epoch Accuracy: 0.6026, Best Accuracy: 0.609 \n",
            " \n",
            "Epoch: 188, Total Training Loss: 420.2952830195427, Epoch Accuracy: 0.6016, Best Accuracy: 0.609 \n",
            " \n",
            "Epoch: 189, Total Training Loss: 418.58765679597855, Epoch Accuracy: 0.5986, Best Accuracy: 0.609 \n",
            " \n",
            "Epoch: 190, Total Training Loss: 418.5696790218353, Epoch Accuracy: 0.597, Best Accuracy: 0.609 \n",
            " \n",
            "Epoch: 191, Total Training Loss: 415.8422101140022, Epoch Accuracy: 0.6004, Best Accuracy: 0.609 \n",
            " \n",
            "Epoch: 192, Total Training Loss: 416.6973299384117, Epoch Accuracy: 0.5964, Best Accuracy: 0.609 \n",
            " \n",
            "Epoch: 193, Total Training Loss: 418.3432711958885, Epoch Accuracy: 0.6074, Best Accuracy: 0.609 \n",
            " \n",
            "Epoch: 194, Total Training Loss: 415.2985762357712, Epoch Accuracy: 0.6022, Best Accuracy: 0.609 \n",
            " \n",
            "Epoch: 195, Total Training Loss: 417.47958874702454, Epoch Accuracy: 0.6022, Best Accuracy: 0.609 \n",
            " \n",
            "Epoch: 196, Total Training Loss: 417.20712834596634, Epoch Accuracy: 0.595, Best Accuracy: 0.609 \n",
            " \n",
            "Epoch: 197, Total Training Loss: 417.38926088809967, Epoch Accuracy: 0.6, Best Accuracy: 0.609 \n",
            " \n",
            "Epoch: 198, Total Training Loss: 416.93476045131683, Epoch Accuracy: 0.6038, Best Accuracy: 0.609 \n",
            " \n",
            "Epoch: 199, Total Training Loss: 415.75487142801285, Epoch Accuracy: 0.6026, Best Accuracy: 0.609 \n",
            " \n",
            "Epoch: 200, Total Training Loss: 416.96324717998505, Epoch Accuracy: 0.5968, Best Accuracy: 0.609 \n",
            " \n",
            "Training Finished!\n",
            "Best Accuracy Model was : 0.61\n"
          ]
        }
      ]
    },
    {
      "cell_type": "code",
      "source": [
        "import pickle\n",
        "\n",
        "with open(\"/content/drive/My Drive/DLS_Assignments/3/Q1_P1_res\", \"wb\") as fp:   \n",
        "  pickle.dump(validation_acc_list, fp)"
      ],
      "metadata": {
        "id": "DIDISJQDwExo"
      },
      "execution_count": null,
      "outputs": []
    },
    {
      "cell_type": "code",
      "source": [
        "with open(\"/content/drive/My Drive/DLS_Assignments/3/Q1_P1_res\", \"rb\") as fp:   \n",
        "  validation_acc_list = pickle.load(fp)"
      ],
      "metadata": {
        "id": "4Kex3oIYwwQY"
      },
      "execution_count": null,
      "outputs": []
    },
    {
      "cell_type": "code",
      "source": [
        "# plot Baseline\n",
        "\n",
        "x = np.arange(200)\n",
        "\n",
        "plt.plot(x, validation_acc_list, label = 'Baseline Model')\n",
        "\n",
        "fig = plt.gcf()\n",
        "fig.set_size_inches(18.5, 10.5)\n",
        "\n",
        "fig.suptitle('Baseline Model on CIFAR10', fontsize=20)\n",
        "plt.xlabel('Epochs', fontsize=18)\n",
        "plt.ylabel('Validation Accuracy', fontsize=16)\n",
        "\n",
        "ax = plt.gca()\n",
        "ax.set_xlim([0, 200])\n",
        "ax.set_ylim([0, 1.0])\n",
        "\n",
        "plt.legend()\n",
        "plt.show()"
      ],
      "metadata": {
        "colab": {
          "base_uri": "https://localhost:8080/",
          "height": 716
        },
        "id": "y-gX1_dIxLdr",
        "outputId": "d194dd2e-3481-4ca3-aaa3-09969a2719e8"
      },
      "execution_count": null,
      "outputs": [
        {
          "output_type": "display_data",
          "data": {
            "text/plain": [
              "<Figure size 1332x756 with 1 Axes>"
            ],
            "image/png": "[encoded data removed]"
          },
          "metadata": {
            "needs_background": "light"
          }
        }
      ]
    },
    {
      "cell_type": "markdown",
      "source": [
        " **5.** Build another classifier using an augmented dataset. Prepare four different datasets out of the original CIFAR10 training set (except for the 5 000 you set aside for validation): \\\\\n",
        "(a) I know you already changed the scale of the pixels from [0,255] to [-1,+1]. Let’s go back\n",
        "to the intermediate range, [0,1]. \\\\\n",
        "(b) Augmented dataset #1: Brighten every pixel in every image by 10%, e.g., by multiplying 1.1. Make sure though, that they don’t exceed 1. For example, you may want to\n",
        "do something like this: np.minimum(1.1*X, 1). \\\\\n",
        "(c) Augmented dataset #2: Darken every pixel in every image by 10%, e.g., by multiplying 0.9. \\\\\n",
        "(d) Augmented dataset #3: Flip all images horizontally (not upside down, but in the\n",
        "left-right direction). As if they are mirrored. \\\\\n",
        "(e) Augmented dataset #4: The original training set. \\\\\n",
        "(f) Merge the four augmented dataset into one gigantic training set. Since there are 45,000\n",
        "images in the original training set (after excluding the validation set), after the augmentation you have 45,000×4=180,000 images. Each original image has four different\n",
        "versions: brighter, darker, horizontally flipped, and original versions. Note that the four\n",
        "share the same label: a darker frog is still a frog. \\\\\n",
        "(g) Don’t forget to scale back to [-1,+1].\n"
      ],
      "metadata": {
        "id": "2uMZ2zcqsH09"
      }
    },
    {
      "cell_type": "code",
      "source": [
        "# Convert to numpy\n",
        "X_train = X_train.numpy()\n",
        "X_val = X_val.numpy()\n",
        "y_train = y_train.numpy()\n",
        "y_val = y_val.numpy()"
      ],
      "metadata": {
        "id": "sHrBQ-eVrwBZ"
      },
      "execution_count": null,
      "outputs": []
    },
    {
      "cell_type": "code",
      "source": [
        "print(X_train.shape)\n",
        "print(y_train.shape)\n",
        "print(X_val.shape)\n",
        "print(y_val.shape)"
      ],
      "metadata": {
        "colab": {
          "base_uri": "https://localhost:8080/"
        },
        "id": "OTbV5ousxgbN",
        "outputId": "cdcb1301-8e64-4170-f829-2bb723c67fad"
      },
      "execution_count": null,
      "outputs": [
        {
          "output_type": "stream",
          "name": "stdout",
          "text": [
            "(45000, 3, 32, 32)\n",
            "(45000,)\n",
            "(5000, 3, 32, 32)\n",
            "(5000,)\n"
          ]
        }
      ]
    },
    {
      "cell_type": "code",
      "source": [
        "# Scale Data from [-1,1] range into [0,1]\n",
        "X_train = ((X_train + 1) * 0.5) "
      ],
      "metadata": {
        "id": "llPLnQCIzyKq"
      },
      "execution_count": null,
      "outputs": []
    },
    {
      "cell_type": "code",
      "source": [
        "# Augmented dataset #1\n",
        "\n",
        "X_train_1 = np.minimum(1.1*X_train, 1).reshape(45000, 3, 32, 32)\n",
        "\n",
        "# Augmented dataset #2\n",
        "\n",
        "X_train_2 = np.multiply(X_train, 0.9).reshape(45000, 3, 32, 32)\n",
        "\n",
        "# Augmented dataset #3\n",
        "\n",
        "X_train_3 = np.flip(copy.deepcopy(X_train.transpose(0,2,3,1)), axis = 2).transpose(np.argsort((0,2,3,1))).reshape(45000, 3, 32, 32)\n",
        "\n",
        "# Original\n",
        "\n",
        "X_train = X_train.reshape(45000, 3, 32, 32)"
      ],
      "metadata": {
        "id": "0GKU87Cs00LX"
      },
      "execution_count": null,
      "outputs": []
    },
    {
      "cell_type": "code",
      "source": [
        "Augmented_X_train = np.concatenate((X_train, X_train_1, X_train_2, X_train_3), axis = 0)\n",
        "Augmented_y_train = np.concatenate((y_train,y_train,y_train,y_train), axis = 0)"
      ],
      "metadata": {
        "id": "Eb3u-vqUctB3"
      },
      "execution_count": null,
      "outputs": []
    },
    {
      "cell_type": "code",
      "source": [
        "print(Augmented_X_train.shape)\n",
        "print(Augmented_y_train.shape)"
      ],
      "metadata": {
        "colab": {
          "base_uri": "https://localhost:8080/"
        },
        "id": "NpEQhxt4duTb",
        "outputId": "d919a0be-7699-4869-c0c3-b176007b53f9"
      },
      "execution_count": null,
      "outputs": [
        {
          "output_type": "stream",
          "name": "stdout",
          "text": [
            "(180000, 3, 32, 32)\n",
            "(180000,)\n"
          ]
        }
      ]
    },
    {
      "cell_type": "code",
      "source": [
        "# import gc\n",
        "\n",
        "# del X_train\n",
        "# del X_train_1\n",
        "# del X_train_2\n",
        "# del X_train_3\n",
        "# gc.collect()"
      ],
      "metadata": {
        "colab": {
          "base_uri": "https://localhost:8080/"
        },
        "id": "aHfzz_YNg05C",
        "outputId": "7797fd0a-3abc-40a2-eeba-190b4cc3caf4"
      },
      "execution_count": null,
      "outputs": [
        {
          "output_type": "execute_result",
          "data": {
            "text/plain": [
              "279"
            ]
          },
          "metadata": {},
          "execution_count": 32
        }
      ]
    },
    {
      "cell_type": "code",
      "source": [
        "# Original image\n",
        "\n",
        "plt.imshow(Augmented_X_train[45].transpose(1,2,0).reshape(32,32,3), interpolation='nearest')\n",
        "plt.title(\"Original Image\")\n",
        "plt.show()\n",
        "\n",
        "print(\"Label : {}\".format(Augmented_y_train[45]))"
      ],
      "metadata": {
        "colab": {
          "base_uri": "https://localhost:8080/",
          "height": 299
        },
        "id": "0o64OorGVXR0",
        "outputId": "6ab85281-5f4c-421d-b2ac-77d55197a5e3"
      },
      "execution_count": null,
      "outputs": [
        {
          "output_type": "display_data",
          "data": {
            "text/plain": [
              "<Figure size 432x288 with 1 Axes>"
            ],
            "image/png": "[encoded data removed]"
          },
          "metadata": {
            "needs_background": "light"
          }
        },
        {
          "output_type": "stream",
          "name": "stdout",
          "text": [
            "Label : 4\n"
          ]
        }
      ]
    },
    {
      "cell_type": "code",
      "source": [
        "# Set 1, bright\n",
        "\n",
        "plt.imshow(Augmented_X_train[45045].transpose(1,2,0).reshape(32,32,3), interpolation='nearest')\n",
        "plt.title(\"Set 1, bright\")\n",
        "plt.show()\n",
        "\n",
        "print(\"Label : {}\".format(Augmented_y_train[45045]))"
      ],
      "metadata": {
        "colab": {
          "base_uri": "https://localhost:8080/",
          "height": 299
        },
        "id": "epbXQRRTekcR",
        "outputId": "6ba10a8f-c946-4c65-db62-f720652a67b4"
      },
      "execution_count": null,
      "outputs": [
        {
          "output_type": "display_data",
          "data": {
            "text/plain": [
              "<Figure size 432x288 with 1 Axes>"
            ],
            "image/png": "[encoded data removed]"
          },
          "metadata": {
            "needs_background": "light"
          }
        },
        {
          "output_type": "stream",
          "name": "stdout",
          "text": [
            "Label : 4\n"
          ]
        }
      ]
    },
    {
      "cell_type": "code",
      "source": [
        "# Set 2, dark\n",
        "\n",
        "plt.imshow(Augmented_X_train[90045].transpose(1,2,0).reshape(32,32,3), interpolation='nearest')\n",
        "plt.title(\"Set 2, dark\")\n",
        "plt.show()\n",
        "\n",
        "print(\"Label : {}\".format(Augmented_y_train[90045]))"
      ],
      "metadata": {
        "colab": {
          "base_uri": "https://localhost:8080/",
          "height": 299
        },
        "id": "ThUAzYYIekj7",
        "outputId": "15d6232d-3574-4de9-b0a6-67352368f7cc"
      },
      "execution_count": null,
      "outputs": [
        {
          "output_type": "display_data",
          "data": {
            "text/plain": [
              "<Figure size 432x288 with 1 Axes>"
            ],
            "image/png": "[encoded data removed]"
          },
          "metadata": {
            "needs_background": "light"
          }
        },
        {
          "output_type": "stream",
          "name": "stdout",
          "text": [
            "Label : 4\n"
          ]
        }
      ]
    },
    {
      "cell_type": "code",
      "source": [
        "# Set 3, flip\n",
        "\n",
        "plt.imshow(Augmented_X_train[135045].transpose(1,2,0).reshape(32,32,3), interpolation='nearest')\n",
        "plt.title(\"Set 3, flip\")\n",
        "plt.show()\n",
        "\n",
        "print(\"Label : {}\".format(Augmented_y_train[135045]))"
      ],
      "metadata": {
        "colab": {
          "base_uri": "https://localhost:8080/",
          "height": 299
        },
        "id": "N_y9mkAwekqQ",
        "outputId": "1e56cc14-f331-4b84-ce19-5df70570f07e"
      },
      "execution_count": null,
      "outputs": [
        {
          "output_type": "display_data",
          "data": {
            "text/plain": [
              "<Figure size 432x288 with 1 Axes>"
            ],
            "image/png": "[encoded data removed]"
          },
          "metadata": {
            "needs_background": "light"
          }
        },
        {
          "output_type": "stream",
          "name": "stdout",
          "text": [
            "Label : 4\n"
          ]
        }
      ]
    },
    {
      "cell_type": "code",
      "source": [
        "# Scale Data into [-1,1] range from [0,1]\n",
        "Augmented_X_train = ((Augmented_X_train * 2) - 1) "
      ],
      "metadata": {
        "id": "J1YBTY9efHhs"
      },
      "execution_count": null,
      "outputs": []
    },
    {
      "cell_type": "code",
      "source": [
        "# Convert to torch tensors\n",
        "Augmented_X_train = torch.from_numpy(Augmented_X_train)\n",
        "Augmented_y_train = torch.from_numpy(Augmented_y_train)"
      ],
      "metadata": {
        "id": "jyyokhLOkB0B"
      },
      "execution_count": null,
      "outputs": []
    },
    {
      "cell_type": "code",
      "source": [
        "# Set Hyperparameters\n",
        "n_epochs = 200 # max_epochs\n",
        "batch_size_val = 100\n",
        "batch_size_train = 100\n",
        "batch_size_test = 100\n",
        "learning_rate = 0.001 # learn rate\n",
        "log_interval = 1 # log every _ epoch\n",
        "\n",
        "patience = 20  # epochs after which training should stop if no improvement"
      ],
      "metadata": {
        "id": "c6118GZ4kIER"
      },
      "execution_count": null,
      "outputs": []
    },
    {
      "cell_type": "code",
      "source": [
        "# import gc\n",
        "\n",
        "# del Train_dataset\n",
        "# del train_loader\n",
        "# gc.collect()"
      ],
      "metadata": {
        "colab": {
          "base_uri": "https://localhost:8080/"
        },
        "id": "RlJPB-PRkY1O",
        "outputId": "165e35f0-326e-4af7-b550-b701be2c26f2"
      },
      "execution_count": null,
      "outputs": [
        {
          "output_type": "execute_result",
          "data": {
            "text/plain": [
              "10005"
            ]
          },
          "metadata": {},
          "execution_count": 40
        }
      ]
    },
    {
      "cell_type": "code",
      "source": [
        "# Get Datasets\n",
        "Train_dataset = TensorDataset(Augmented_X_train, Augmented_y_train)\n",
        "\n",
        "train_loader = torch.utils.data.DataLoader(Train_dataset,batch_size=batch_size_train, shuffle=True)"
      ],
      "metadata": {
        "id": "DTG8tfG6kNh0"
      },
      "execution_count": null,
      "outputs": []
    },
    {
      "cell_type": "markdown",
      "source": [
        "(i) Train a fresh new network with the same architecture, but using this augmented dataset. \\\\\n",
        "Record the validation accuracy over the epochs.\n"
      ],
      "metadata": {
        "id": "2KZn1GX4hY4J"
      }
    },
    {
      "cell_type": "code",
      "source": [
        "# Building the network\n",
        "import torch.nn as nn\n",
        "import torch.nn.functional as F\n",
        "import torch.optim as optim\n",
        "\n",
        "class CNN2D_base_network_2(nn.Module):\n",
        "    def __init__(self):\n",
        "        super().__init__()\n",
        "        \n",
        "        self.conv2d = nn.Conv2d(in_channels = 3,\n",
        "                                out_channels = 10, # number filters\n",
        "                                kernel_size = (5,5), # size of kernel\n",
        "                                padding = 'same',    \n",
        "                                stride = (1,1) # stride of conv\n",
        "          \n",
        "        ) \n",
        "        self.conv2d_2 = nn.Conv2d(in_channels = 10,\n",
        "                                out_channels = 10, # number filters\n",
        "                                kernel_size = (5,5), # size of kernel\n",
        "                                padding = 'same',\n",
        "                                stride = (1,1) # stride of \n",
        "                       \n",
        "        ) \n",
        "        self.maxpool2d = nn.MaxPool2d(kernel_size = (2,2),stride=2)\n",
        "        \n",
        "        self.fc1 = nn.Linear(640, 20)\n",
        "        self.fc2 = nn.Linear(20, 10)\n",
        "        \n",
        "\n",
        "        \n",
        "        # Define extra layers \n",
        "        self.ReLU = nn.ReLU()\n",
        "        #self.LeakyReLU = nn.LeakyReLU()\n",
        "        #self.Dropout_1 = nn.Dropout(p=.2)\n",
        "        #self.GroupNorm = nn.GroupNorm(group_num, 1024)\n",
        "        \n",
        "    def forward(self, x):\n",
        "      \n",
        "        # Pass the input tensor through each of our operations\n",
        "\n",
        "\n",
        "        x = self.conv2d(x)\n",
        "        x = self.ReLU(x)\n",
        "\n",
        "        x = self.maxpool2d(x)\n",
        " \n",
        "        x = self.conv2d_2(x)\n",
        "        x = self.ReLU(x)\n",
        "\n",
        "        x = self.maxpool2d(x)\n",
        "        x = torch.flatten(x, start_dim=1)\n",
        "        x = self.fc1(x)\n",
        "        x = self.ReLU(x)\n",
        "\n",
        "        x = self.fc2(x)\n",
        "        x = self.ReLU(x)\n",
        "\n",
        "        return x"
      ],
      "metadata": {
        "id": "orFjQD6UjlMz"
      },
      "execution_count": null,
      "outputs": []
    },
    {
      "cell_type": "code",
      "source": [
        "# Send model to GPU\n",
        "CNN2D_base_network_2 = CNN2D_base_network_2().to(device)\n",
        "CNN2D_base_network_2.apply(weight_init)\n",
        "CNN2D_base_network_2 = CNN2D_base_network_2.float()\n",
        "print(CNN2D_base_network_2)"
      ],
      "metadata": {
        "colab": {
          "base_uri": "https://localhost:8080/"
        },
        "id": "rnDGrQFZhKnr",
        "outputId": "e3238041-a297-4e3b-f46b-69e029124419"
      },
      "execution_count": null,
      "outputs": [
        {
          "output_type": "stream",
          "name": "stdout",
          "text": [
            "CNN2D_base_network_2(\n",
            "  (conv2d): Conv2d(3, 10, kernel_size=(5, 5), stride=(1, 1), padding=same)\n",
            "  (conv2d_2): Conv2d(10, 10, kernel_size=(5, 5), stride=(1, 1), padding=same)\n",
            "  (maxpool2d): MaxPool2d(kernel_size=(2, 2), stride=2, padding=0, dilation=1, ceil_mode=False)\n",
            "  (fc1): Linear(in_features=640, out_features=20, bias=True)\n",
            "  (fc2): Linear(in_features=20, out_features=10, bias=True)\n",
            "  (ReLU): ReLU()\n",
            ")\n"
          ]
        }
      ]
    },
    {
      "cell_type": "code",
      "source": [
        "# Results of Training\n",
        "bst_prediction_array = None\n",
        "bst_test_data = None\n",
        "bst_test_labels = None\n",
        "bst_accuracy = 0 # captures best accuracy\n",
        "bst_model = None\n",
        "bst_model_state_dict = None\n",
        "bst_opt_state_dict = None\n",
        "validation_acc_list_2 = []\n",
        "\n",
        "Training_Result = (bst_prediction_array, bst_test_data, bst_test_labels, bst_accuracy, bst_model, bst_model_state_dict, bst_opt_state_dict, validation_acc_list_2)"
      ],
      "metadata": {
        "id": "aZ7gHBwIjpem"
      },
      "execution_count": null,
      "outputs": []
    },
    {
      "cell_type": "code",
      "source": [
        "# Define optimizer and loss\n",
        "\n",
        "optimizer = torch.optim.Adam(CNN2D_base_network_2.parameters(), lr = learning_rate)\n",
        "loss_func = nn.CrossEntropyLoss()"
      ],
      "metadata": {
        "id": "ayUmKKXyt0Sz"
      },
      "execution_count": null,
      "outputs": []
    },
    {
      "cell_type": "code",
      "source": [
        "from sklearn.metrics import accuracy_score\n",
        "\n",
        "# Train Function\n",
        "def train_2(Training_Result_p):\n",
        "\n",
        "  bst_prediction_array, bst_test_data, bst_test_labels, bst_accuracy, bst_model, bst_model_state_dict, bst_opt_state_dict, validation_acc_list_2 = Training_Result_p\n",
        "\n",
        "  # Train parameters\n",
        "  epoch = 1 # starting epoch\n",
        " \n",
        "  \n",
        "  print(\"Training model\")\n",
        "\n",
        "  while ( (epoch <= n_epochs) ):\n",
        "    \n",
        "    # Training\n",
        "    CNN2D_base_network_2.train()\n",
        "    train_loss = 0 # calc train loss\n",
        "    for batch_idx, (data, target) in enumerate(train_loader):\n",
        "\n",
        "      # Prepare batch data and labels\n",
        "      data = data.to(device)\n",
        "      batch_labels = target.to(device)\n",
        "\n",
        "      # Forward pass\n",
        "      batch_outputs = CNN2D_base_network_2(data.float())\n",
        "      loss = loss_func(batch_outputs, batch_labels)\n",
        "\n",
        "      # Backward and optimize\n",
        "      optimizer.zero_grad()\n",
        "      loss.backward()\n",
        "      optimizer.step()\n",
        "\n",
        "      train_loss += loss.item() # increment train loss for epoch\n",
        "\n",
        "    # Evaluation \n",
        "    CNN2D_base_network_2.eval()\n",
        "    data_list = []\n",
        "    lbl_list = []\n",
        "    pred_list = []\n",
        "    with torch.no_grad():\n",
        "      for data, target in val_loader:\n",
        "        \n",
        "        data = data.to(device)\n",
        "        test_batch_labels = target.numpy()\n",
        "        test_batch_pred = F.softmax(CNN2D_base_network_2.forward(data.float()), dim = 1).argmax(dim=1, keepdim=True).cpu().numpy()\n",
        "\n",
        "        data_list.append(data.cpu().numpy())\n",
        "        lbl_list.append(test_batch_labels)\n",
        "        pred_list.append(test_batch_pred)\n",
        "        \n",
        "    data_array = np.concatenate(data_list, axis=0)\n",
        "    lbl_array = np.concatenate(lbl_list, axis=0)\n",
        "    pred_array = np.concatenate(pred_list, axis=0)\n",
        "\n",
        "    epoch_acc = accuracy_score(lbl_array,pred_array)\n",
        "\n",
        "    validation_acc_list_2.append(epoch_acc)\n",
        "    \n",
        "    # Early Stop\n",
        "    # if acc better than previous\n",
        "    if(epoch_acc > bst_accuracy):\n",
        "\n",
        "      # Save result\n",
        "      bst_accuracy = epoch_acc\n",
        "\n",
        "      # Save test data\n",
        "      bst_test_data = data_array\n",
        "      bst_test_labels = lbl_array\n",
        "      bst_prediction_array = pred_array\n",
        "      \n",
        "      # Save Model\n",
        "      bst_model = CNN2D_base_network_2\n",
        "      bst_model_state_dict = CNN2D_base_network_2.state_dict()\n",
        "      bst_opt_state_dict = optimizer.state_dict()\n",
        "      # torch.save(model, 'best_mnist_model.pt')\n",
        "    \n",
        "    # Logging\n",
        "    if ( epoch % log_interval == 0 or epoch == 1 ) :\n",
        "      print(\"Epoch: {}, Total Training Loss: {}, Epoch Accuracy: {}, Best Accuracy: {} \\n \".format(epoch, train_loss, epoch_acc, bst_accuracy))\n",
        "    # increment epoch\n",
        "    epoch += 1\n",
        "  \n",
        "  print(\"Training Finished!\")\n",
        "  Training_Return = (bst_prediction_array, bst_test_data, bst_test_labels, bst_accuracy, bst_model, bst_model_state_dict, bst_opt_state_dict, validation_acc_list_2)\n",
        "  return Training_Return"
      ],
      "metadata": {
        "id": "bOL6mJ_kt7gw"
      },
      "execution_count": null,
      "outputs": []
    },
    {
      "cell_type": "code",
      "source": [
        "# Train MNIST with test set as validation\n",
        "res = train_2(Training_Result)\n",
        "\n",
        "bst_prediction_array, bst_test_data, bst_test_labels, bst_accuracy, bst_model, bst_model_state_dict, bst_opt_state_dict, validation_acc_list_2 = res\n",
        "\n",
        "# Best Model\n",
        "print(\"Best Accuracy Model was : {:.2f}\".format(bst_accuracy))"
      ],
      "metadata": {
        "colab": {
          "base_uri": "https://localhost:8080/"
        },
        "id": "JNYcoMaRjx8B",
        "outputId": "94496cb6-ea96-407a-b2e4-e2e766d04c2a"
      },
      "execution_count": null,
      "outputs": [
        {
          "output_type": "stream",
          "name": "stdout",
          "text": [
            "Training model\n",
            "Epoch: 1, Total Training Loss: 2717.169799745083, Epoch Accuracy: 0.5452, Best Accuracy: 0.5452 \n",
            " \n",
            "Epoch: 2, Total Training Loss: 2125.0485227108, Epoch Accuracy: 0.6048, Best Accuracy: 0.6048 \n",
            " \n",
            "Epoch: 3, Total Training Loss: 1948.1513026952744, Epoch Accuracy: 0.6376, Best Accuracy: 0.6376 \n",
            " \n",
            "Epoch: 4, Total Training Loss: 1845.2212132811546, Epoch Accuracy: 0.6586, Best Accuracy: 0.6586 \n",
            " \n",
            "Epoch: 5, Total Training Loss: 1770.8595667481422, Epoch Accuracy: 0.6708, Best Accuracy: 0.6708 \n",
            " \n",
            "Epoch: 6, Total Training Loss: 1695.5706270933151, Epoch Accuracy: 0.7008, Best Accuracy: 0.7008 \n",
            " \n",
            "Epoch: 7, Total Training Loss: 1616.7058166265488, Epoch Accuracy: 0.7096, Best Accuracy: 0.7096 \n",
            " \n",
            "Epoch: 8, Total Training Loss: 1563.0599008202553, Epoch Accuracy: 0.7118, Best Accuracy: 0.7118 \n",
            " \n",
            "Epoch: 9, Total Training Loss: 1529.3939858078957, Epoch Accuracy: 0.7222, Best Accuracy: 0.7222 \n",
            " \n",
            "Epoch: 10, Total Training Loss: 1499.7649193108082, Epoch Accuracy: 0.7248, Best Accuracy: 0.7248 \n",
            " \n",
            "Epoch: 11, Total Training Loss: 1476.0543569922447, Epoch Accuracy: 0.7388, Best Accuracy: 0.7388 \n",
            " \n",
            "Epoch: 12, Total Training Loss: 1461.595447421074, Epoch Accuracy: 0.7354, Best Accuracy: 0.7388 \n",
            " \n",
            "Epoch: 13, Total Training Loss: 1444.2599664628506, Epoch Accuracy: 0.7362, Best Accuracy: 0.7388 \n",
            " \n",
            "Epoch: 14, Total Training Loss: 1427.274337053299, Epoch Accuracy: 0.7422, Best Accuracy: 0.7422 \n",
            " \n",
            "Epoch: 15, Total Training Loss: 1413.7373304665089, Epoch Accuracy: 0.7448, Best Accuracy: 0.7448 \n",
            " \n",
            "Epoch: 16, Total Training Loss: 1403.8314252495766, Epoch Accuracy: 0.749, Best Accuracy: 0.749 \n",
            " \n",
            "Epoch: 17, Total Training Loss: 1393.6381778120995, Epoch Accuracy: 0.7472, Best Accuracy: 0.749 \n",
            " \n",
            "Epoch: 18, Total Training Loss: 1383.7232126295567, Epoch Accuracy: 0.7434, Best Accuracy: 0.749 \n",
            " \n",
            "Epoch: 19, Total Training Loss: 1374.062381029129, Epoch Accuracy: 0.7532, Best Accuracy: 0.7532 \n",
            " \n",
            "Epoch: 20, Total Training Loss: 1370.8264654278755, Epoch Accuracy: 0.7564, Best Accuracy: 0.7564 \n",
            " \n",
            "Epoch: 21, Total Training Loss: 1362.5277812480927, Epoch Accuracy: 0.7634, Best Accuracy: 0.7634 \n",
            " \n",
            "Epoch: 22, Total Training Loss: 1354.797308921814, Epoch Accuracy: 0.749, Best Accuracy: 0.7634 \n",
            " \n",
            "Epoch: 23, Total Training Loss: 1350.6188586950302, Epoch Accuracy: 0.747, Best Accuracy: 0.7634 \n",
            " \n",
            "Epoch: 24, Total Training Loss: 1343.876916974783, Epoch Accuracy: 0.764, Best Accuracy: 0.764 \n",
            " \n",
            "Epoch: 25, Total Training Loss: 1336.9122826159, Epoch Accuracy: 0.7614, Best Accuracy: 0.764 \n",
            " \n",
            "Epoch: 26, Total Training Loss: 1333.176422804594, Epoch Accuracy: 0.7644, Best Accuracy: 0.7644 \n",
            " \n",
            "Epoch: 27, Total Training Loss: 1328.1157256960869, Epoch Accuracy: 0.7682, Best Accuracy: 0.7682 \n",
            " \n",
            "Epoch: 28, Total Training Loss: 1323.4162815511227, Epoch Accuracy: 0.7638, Best Accuracy: 0.7682 \n",
            " \n",
            "Epoch: 29, Total Training Loss: 1321.1108208596706, Epoch Accuracy: 0.7572, Best Accuracy: 0.7682 \n",
            " \n",
            "Epoch: 30, Total Training Loss: 1316.5363570451736, Epoch Accuracy: 0.762, Best Accuracy: 0.7682 \n",
            " \n",
            "Epoch: 31, Total Training Loss: 1311.617407053709, Epoch Accuracy: 0.7692, Best Accuracy: 0.7692 \n",
            " \n",
            "Epoch: 32, Total Training Loss: 1308.1096189022064, Epoch Accuracy: 0.7634, Best Accuracy: 0.7692 \n",
            " \n",
            "Epoch: 33, Total Training Loss: 1307.0743058621883, Epoch Accuracy: 0.7714, Best Accuracy: 0.7714 \n",
            " \n",
            "Epoch: 34, Total Training Loss: 1301.3276706337929, Epoch Accuracy: 0.7734, Best Accuracy: 0.7734 \n",
            " \n",
            "Epoch: 35, Total Training Loss: 1297.3435722887516, Epoch Accuracy: 0.7636, Best Accuracy: 0.7734 \n",
            " \n",
            "Epoch: 36, Total Training Loss: 1298.4777701795101, Epoch Accuracy: 0.776, Best Accuracy: 0.776 \n",
            " \n",
            "Epoch: 37, Total Training Loss: 1290.8386780321598, Epoch Accuracy: 0.767, Best Accuracy: 0.776 \n",
            " \n",
            "Epoch: 38, Total Training Loss: 1291.6058076918125, Epoch Accuracy: 0.7678, Best Accuracy: 0.776 \n",
            " \n",
            "Epoch: 39, Total Training Loss: 1289.1948563754559, Epoch Accuracy: 0.7788, Best Accuracy: 0.7788 \n",
            " \n",
            "Epoch: 40, Total Training Loss: 1288.207232773304, Epoch Accuracy: 0.776, Best Accuracy: 0.7788 \n",
            " \n",
            "Epoch: 41, Total Training Loss: 1285.3945514559746, Epoch Accuracy: 0.764, Best Accuracy: 0.7788 \n",
            " \n",
            "Epoch: 42, Total Training Loss: 1280.6744557321072, Epoch Accuracy: 0.7738, Best Accuracy: 0.7788 \n",
            " \n",
            "Epoch: 43, Total Training Loss: 1281.9437444210052, Epoch Accuracy: 0.7786, Best Accuracy: 0.7788 \n",
            " \n",
            "Epoch: 44, Total Training Loss: 1275.554411560297, Epoch Accuracy: 0.7784, Best Accuracy: 0.7788 \n",
            " \n",
            "Epoch: 45, Total Training Loss: 1273.756587266922, Epoch Accuracy: 0.7786, Best Accuracy: 0.7788 \n",
            " \n",
            "Epoch: 46, Total Training Loss: 1272.4835321307182, Epoch Accuracy: 0.7692, Best Accuracy: 0.7788 \n",
            " \n",
            "Epoch: 47, Total Training Loss: 1272.339316278696, Epoch Accuracy: 0.7808, Best Accuracy: 0.7808 \n",
            " \n",
            "Epoch: 48, Total Training Loss: 1266.5390499830246, Epoch Accuracy: 0.774, Best Accuracy: 0.7808 \n",
            " \n",
            "Epoch: 49, Total Training Loss: 1266.8252243995667, Epoch Accuracy: 0.7744, Best Accuracy: 0.7808 \n",
            " \n",
            "Epoch: 50, Total Training Loss: 1265.0535816848278, Epoch Accuracy: 0.784, Best Accuracy: 0.784 \n",
            " \n",
            "Epoch: 51, Total Training Loss: 1264.500297009945, Epoch Accuracy: 0.7774, Best Accuracy: 0.784 \n",
            " \n",
            "Epoch: 52, Total Training Loss: 1260.298604041338, Epoch Accuracy: 0.7782, Best Accuracy: 0.784 \n",
            " \n",
            "Epoch: 53, Total Training Loss: 1257.7389029562473, Epoch Accuracy: 0.7672, Best Accuracy: 0.784 \n",
            " \n",
            "Epoch: 54, Total Training Loss: 1257.864727795124, Epoch Accuracy: 0.7742, Best Accuracy: 0.784 \n",
            " \n",
            "Epoch: 55, Total Training Loss: 1255.4814689159393, Epoch Accuracy: 0.7778, Best Accuracy: 0.784 \n",
            " \n",
            "Epoch: 56, Total Training Loss: 1256.1999344229698, Epoch Accuracy: 0.7662, Best Accuracy: 0.784 \n",
            " \n",
            "Epoch: 57, Total Training Loss: 1254.4271922409534, Epoch Accuracy: 0.7684, Best Accuracy: 0.784 \n",
            " \n",
            "Epoch: 58, Total Training Loss: 1252.468739271164, Epoch Accuracy: 0.7722, Best Accuracy: 0.784 \n",
            " \n",
            "Epoch: 59, Total Training Loss: 1251.0533203482628, Epoch Accuracy: 0.7794, Best Accuracy: 0.784 \n",
            " \n",
            "Epoch: 60, Total Training Loss: 1250.5643222332, Epoch Accuracy: 0.774, Best Accuracy: 0.784 \n",
            " \n",
            "Epoch: 61, Total Training Loss: 1249.5207802653313, Epoch Accuracy: 0.7778, Best Accuracy: 0.784 \n",
            " \n",
            "Epoch: 62, Total Training Loss: 1246.9644704163074, Epoch Accuracy: 0.7792, Best Accuracy: 0.784 \n",
            " \n",
            "Epoch: 63, Total Training Loss: 1244.7367277741432, Epoch Accuracy: 0.7794, Best Accuracy: 0.784 \n",
            " \n",
            "Epoch: 64, Total Training Loss: 1244.3691075742245, Epoch Accuracy: 0.7738, Best Accuracy: 0.784 \n",
            " \n",
            "Epoch: 65, Total Training Loss: 1240.3092303276062, Epoch Accuracy: 0.7766, Best Accuracy: 0.784 \n",
            " \n",
            "Epoch: 66, Total Training Loss: 1242.4771317839622, Epoch Accuracy: 0.7756, Best Accuracy: 0.784 \n",
            " \n",
            "Epoch: 67, Total Training Loss: 1240.7624610066414, Epoch Accuracy: 0.7836, Best Accuracy: 0.784 \n",
            " \n",
            "Epoch: 68, Total Training Loss: 1237.8581981956959, Epoch Accuracy: 0.7866, Best Accuracy: 0.7866 \n",
            " \n",
            "Epoch: 69, Total Training Loss: 1238.309161901474, Epoch Accuracy: 0.7692, Best Accuracy: 0.7866 \n",
            " \n",
            "Epoch: 70, Total Training Loss: 1236.0959602296352, Epoch Accuracy: 0.7762, Best Accuracy: 0.7866 \n",
            " \n",
            "Epoch: 71, Total Training Loss: 1237.962280869484, Epoch Accuracy: 0.7668, Best Accuracy: 0.7866 \n",
            " \n",
            "Epoch: 72, Total Training Loss: 1236.060270667076, Epoch Accuracy: 0.7796, Best Accuracy: 0.7866 \n",
            " \n",
            "Epoch: 73, Total Training Loss: 1231.77318161726, Epoch Accuracy: 0.7794, Best Accuracy: 0.7866 \n",
            " \n",
            "Epoch: 74, Total Training Loss: 1234.200640320778, Epoch Accuracy: 0.7748, Best Accuracy: 0.7866 \n",
            " \n",
            "Epoch: 75, Total Training Loss: 1234.9468455314636, Epoch Accuracy: 0.786, Best Accuracy: 0.7866 \n",
            " \n",
            "Epoch: 76, Total Training Loss: 1229.9141473472118, Epoch Accuracy: 0.774, Best Accuracy: 0.7866 \n",
            " \n",
            "Epoch: 77, Total Training Loss: 1230.2072959542274, Epoch Accuracy: 0.781, Best Accuracy: 0.7866 \n",
            " \n",
            "Epoch: 78, Total Training Loss: 1230.9051365554333, Epoch Accuracy: 0.7802, Best Accuracy: 0.7866 \n",
            " \n",
            "Epoch: 79, Total Training Loss: 1226.1446504890919, Epoch Accuracy: 0.783, Best Accuracy: 0.7866 \n",
            " \n",
            "Epoch: 80, Total Training Loss: 1225.5930419266224, Epoch Accuracy: 0.7892, Best Accuracy: 0.7892 \n",
            " \n",
            "Epoch: 81, Total Training Loss: 1224.2449960112572, Epoch Accuracy: 0.7822, Best Accuracy: 0.7892 \n",
            " \n",
            "Epoch: 82, Total Training Loss: 1223.5651950836182, Epoch Accuracy: 0.7788, Best Accuracy: 0.7892 \n",
            " \n",
            "Epoch: 83, Total Training Loss: 1224.4533233642578, Epoch Accuracy: 0.7696, Best Accuracy: 0.7892 \n",
            " \n",
            "Epoch: 84, Total Training Loss: 1222.8801261782646, Epoch Accuracy: 0.7858, Best Accuracy: 0.7892 \n",
            " \n",
            "Epoch: 85, Total Training Loss: 1219.9726039767265, Epoch Accuracy: 0.7764, Best Accuracy: 0.7892 \n",
            " \n",
            "Epoch: 86, Total Training Loss: 1221.364086419344, Epoch Accuracy: 0.7828, Best Accuracy: 0.7892 \n",
            " \n",
            "Epoch: 87, Total Training Loss: 1221.3951891362667, Epoch Accuracy: 0.7818, Best Accuracy: 0.7892 \n",
            " \n",
            "Epoch: 88, Total Training Loss: 1219.5344867110252, Epoch Accuracy: 0.7836, Best Accuracy: 0.7892 \n",
            " \n",
            "Epoch: 89, Total Training Loss: 1222.2379061877728, Epoch Accuracy: 0.7882, Best Accuracy: 0.7892 \n",
            " \n",
            "Epoch: 90, Total Training Loss: 1216.9678571224213, Epoch Accuracy: 0.7814, Best Accuracy: 0.7892 \n",
            " \n",
            "Epoch: 91, Total Training Loss: 1216.31209269166, Epoch Accuracy: 0.7804, Best Accuracy: 0.7892 \n",
            " \n",
            "Epoch: 92, Total Training Loss: 1216.6544073820114, Epoch Accuracy: 0.7912, Best Accuracy: 0.7912 \n",
            " \n",
            "Epoch: 93, Total Training Loss: 1214.3735545873642, Epoch Accuracy: 0.779, Best Accuracy: 0.7912 \n",
            " \n",
            "Epoch: 94, Total Training Loss: 1212.8330438435078, Epoch Accuracy: 0.7812, Best Accuracy: 0.7912 \n",
            " \n",
            "Epoch: 95, Total Training Loss: 1211.423669964075, Epoch Accuracy: 0.7862, Best Accuracy: 0.7912 \n",
            " \n",
            "Epoch: 96, Total Training Loss: 1213.2282110154629, Epoch Accuracy: 0.7764, Best Accuracy: 0.7912 \n",
            " \n",
            "Epoch: 97, Total Training Loss: 1211.015602618456, Epoch Accuracy: 0.7776, Best Accuracy: 0.7912 \n",
            " \n",
            "Epoch: 98, Total Training Loss: 1210.8092689812183, Epoch Accuracy: 0.792, Best Accuracy: 0.792 \n",
            " \n",
            "Epoch: 99, Total Training Loss: 1209.043920069933, Epoch Accuracy: 0.7866, Best Accuracy: 0.792 \n",
            " \n",
            "Epoch: 100, Total Training Loss: 1210.3848568797112, Epoch Accuracy: 0.787, Best Accuracy: 0.792 \n",
            " \n",
            "Epoch: 101, Total Training Loss: 1209.132026821375, Epoch Accuracy: 0.7874, Best Accuracy: 0.792 \n",
            " \n",
            "Epoch: 102, Total Training Loss: 1208.214355379343, Epoch Accuracy: 0.7892, Best Accuracy: 0.792 \n",
            " \n",
            "Epoch: 103, Total Training Loss: 1208.7228843867779, Epoch Accuracy: 0.788, Best Accuracy: 0.792 \n",
            " \n",
            "Epoch: 104, Total Training Loss: 1210.246892362833, Epoch Accuracy: 0.787, Best Accuracy: 0.792 \n",
            " \n",
            "Epoch: 105, Total Training Loss: 1208.780064046383, Epoch Accuracy: 0.7886, Best Accuracy: 0.792 \n",
            " \n",
            "Epoch: 106, Total Training Loss: 1207.7160868048668, Epoch Accuracy: 0.791, Best Accuracy: 0.792 \n",
            " \n",
            "Epoch: 107, Total Training Loss: 1205.6350875496864, Epoch Accuracy: 0.785, Best Accuracy: 0.792 \n",
            " \n",
            "Epoch: 108, Total Training Loss: 1207.1891162991524, Epoch Accuracy: 0.7798, Best Accuracy: 0.792 \n",
            " \n",
            "Epoch: 109, Total Training Loss: 1204.272734850645, Epoch Accuracy: 0.7842, Best Accuracy: 0.792 \n",
            " \n",
            "Epoch: 110, Total Training Loss: 1203.9731890559196, Epoch Accuracy: 0.789, Best Accuracy: 0.792 \n",
            " \n",
            "Epoch: 111, Total Training Loss: 1205.8813712894917, Epoch Accuracy: 0.7854, Best Accuracy: 0.792 \n",
            " \n",
            "Epoch: 112, Total Training Loss: 1201.9157865047455, Epoch Accuracy: 0.778, Best Accuracy: 0.792 \n",
            " \n",
            "Epoch: 113, Total Training Loss: 1201.8185184299946, Epoch Accuracy: 0.7848, Best Accuracy: 0.792 \n",
            " \n",
            "Epoch: 114, Total Training Loss: 1200.9414568841457, Epoch Accuracy: 0.7854, Best Accuracy: 0.792 \n",
            " \n",
            "Epoch: 115, Total Training Loss: 1200.381338506937, Epoch Accuracy: 0.7822, Best Accuracy: 0.792 \n",
            " \n",
            "Epoch: 116, Total Training Loss: 1204.3854613006115, Epoch Accuracy: 0.7878, Best Accuracy: 0.792 \n",
            " \n",
            "Epoch: 117, Total Training Loss: 1198.7359456121922, Epoch Accuracy: 0.792, Best Accuracy: 0.792 \n",
            " \n",
            "Epoch: 118, Total Training Loss: 1197.6147854924202, Epoch Accuracy: 0.7912, Best Accuracy: 0.792 \n",
            " \n",
            "Epoch: 119, Total Training Loss: 1195.3791285455227, Epoch Accuracy: 0.7798, Best Accuracy: 0.792 \n",
            " \n",
            "Epoch: 120, Total Training Loss: 1195.7997376024723, Epoch Accuracy: 0.7876, Best Accuracy: 0.792 \n",
            " \n",
            "Epoch: 121, Total Training Loss: 1194.737924605608, Epoch Accuracy: 0.7914, Best Accuracy: 0.792 \n",
            " \n",
            "Epoch: 122, Total Training Loss: 1191.0379081368446, Epoch Accuracy: 0.7946, Best Accuracy: 0.7946 \n",
            " \n",
            "Epoch: 123, Total Training Loss: 1186.745573580265, Epoch Accuracy: 0.795, Best Accuracy: 0.795 \n",
            " \n",
            "Epoch: 124, Total Training Loss: 1185.9035176038742, Epoch Accuracy: 0.7742, Best Accuracy: 0.795 \n",
            " \n",
            "Epoch: 125, Total Training Loss: 1186.877659022808, Epoch Accuracy: 0.796, Best Accuracy: 0.796 \n",
            " \n",
            "Epoch: 126, Total Training Loss: 1185.9937536418438, Epoch Accuracy: 0.7982, Best Accuracy: 0.7982 \n",
            " \n",
            "Epoch: 127, Total Training Loss: 1183.828331142664, Epoch Accuracy: 0.7868, Best Accuracy: 0.7982 \n",
            " \n",
            "Epoch: 128, Total Training Loss: 1184.4248504936695, Epoch Accuracy: 0.7898, Best Accuracy: 0.7982 \n",
            " \n",
            "Epoch: 129, Total Training Loss: 1182.607844531536, Epoch Accuracy: 0.7942, Best Accuracy: 0.7982 \n",
            " \n",
            "Epoch: 130, Total Training Loss: 1181.1402647793293, Epoch Accuracy: 0.7896, Best Accuracy: 0.7982 \n",
            " \n",
            "Epoch: 131, Total Training Loss: 1180.3100744783878, Epoch Accuracy: 0.7886, Best Accuracy: 0.7982 \n",
            " \n",
            "Epoch: 132, Total Training Loss: 1179.233669579029, Epoch Accuracy: 0.7764, Best Accuracy: 0.7982 \n",
            " \n",
            "Epoch: 133, Total Training Loss: 1177.912399560213, Epoch Accuracy: 0.7956, Best Accuracy: 0.7982 \n",
            " \n",
            "Epoch: 134, Total Training Loss: 1179.8986802399158, Epoch Accuracy: 0.7956, Best Accuracy: 0.7982 \n",
            " \n",
            "Epoch: 135, Total Training Loss: 1178.3496841490269, Epoch Accuracy: 0.7914, Best Accuracy: 0.7982 \n",
            " \n",
            "Epoch: 136, Total Training Loss: 1173.8314410746098, Epoch Accuracy: 0.7968, Best Accuracy: 0.7982 \n",
            " \n",
            "Epoch: 137, Total Training Loss: 1176.3045790791512, Epoch Accuracy: 0.7962, Best Accuracy: 0.7982 \n",
            " \n",
            "Epoch: 138, Total Training Loss: 1174.6931220293045, Epoch Accuracy: 0.782, Best Accuracy: 0.7982 \n",
            " \n",
            "Epoch: 139, Total Training Loss: 1175.6802664399147, Epoch Accuracy: 0.8024, Best Accuracy: 0.8024 \n",
            " \n",
            "Epoch: 140, Total Training Loss: 1170.9651559591293, Epoch Accuracy: 0.7986, Best Accuracy: 0.8024 \n",
            " \n",
            "Epoch: 141, Total Training Loss: 1173.744656264782, Epoch Accuracy: 0.7968, Best Accuracy: 0.8024 \n",
            " \n",
            "Epoch: 142, Total Training Loss: 1173.1559521257877, Epoch Accuracy: 0.8006, Best Accuracy: 0.8024 \n",
            " \n",
            "Epoch: 143, Total Training Loss: 1176.2434465885162, Epoch Accuracy: 0.792, Best Accuracy: 0.8024 \n",
            " \n",
            "Epoch: 144, Total Training Loss: 1170.621055394411, Epoch Accuracy: 0.7944, Best Accuracy: 0.8024 \n",
            " \n",
            "Epoch: 145, Total Training Loss: 1171.1351312696934, Epoch Accuracy: 0.7934, Best Accuracy: 0.8024 \n",
            " \n",
            "Epoch: 146, Total Training Loss: 1171.6087621748447, Epoch Accuracy: 0.794, Best Accuracy: 0.8024 \n",
            " \n",
            "Epoch: 147, Total Training Loss: 1170.3523127436638, Epoch Accuracy: 0.7994, Best Accuracy: 0.8024 \n",
            " \n",
            "Epoch: 148, Total Training Loss: 1169.2770870625973, Epoch Accuracy: 0.7974, Best Accuracy: 0.8024 \n",
            " \n",
            "Epoch: 149, Total Training Loss: 1168.8262027204037, Epoch Accuracy: 0.7918, Best Accuracy: 0.8024 \n",
            " \n",
            "Epoch: 150, Total Training Loss: 1168.677515387535, Epoch Accuracy: 0.7852, Best Accuracy: 0.8024 \n",
            " \n",
            "Epoch: 151, Total Training Loss: 1168.298516601324, Epoch Accuracy: 0.7966, Best Accuracy: 0.8024 \n",
            " \n",
            "Epoch: 152, Total Training Loss: 1168.3274992108345, Epoch Accuracy: 0.7834, Best Accuracy: 0.8024 \n",
            " \n",
            "Epoch: 153, Total Training Loss: 1166.6461618840694, Epoch Accuracy: 0.7838, Best Accuracy: 0.8024 \n",
            " \n",
            "Epoch: 154, Total Training Loss: 1167.1441989541054, Epoch Accuracy: 0.7938, Best Accuracy: 0.8024 \n",
            " \n",
            "Epoch: 155, Total Training Loss: 1166.2951028347015, Epoch Accuracy: 0.7972, Best Accuracy: 0.8024 \n",
            " \n",
            "Epoch: 156, Total Training Loss: 1168.120546221733, Epoch Accuracy: 0.796, Best Accuracy: 0.8024 \n",
            " \n",
            "Epoch: 157, Total Training Loss: 1162.9605388343334, Epoch Accuracy: 0.788, Best Accuracy: 0.8024 \n",
            " \n",
            "Epoch: 158, Total Training Loss: 1165.2994671463966, Epoch Accuracy: 0.791, Best Accuracy: 0.8024 \n",
            " \n",
            "Epoch: 159, Total Training Loss: 1166.9334848225117, Epoch Accuracy: 0.8004, Best Accuracy: 0.8024 \n",
            " \n",
            "Epoch: 160, Total Training Loss: 1163.5667847394943, Epoch Accuracy: 0.791, Best Accuracy: 0.8024 \n",
            " \n",
            "Epoch: 161, Total Training Loss: 1163.2977247536182, Epoch Accuracy: 0.7976, Best Accuracy: 0.8024 \n",
            " \n",
            "Epoch: 162, Total Training Loss: 1164.28769120574, Epoch Accuracy: 0.7986, Best Accuracy: 0.8024 \n",
            " \n",
            "Epoch: 163, Total Training Loss: 1161.6719994544983, Epoch Accuracy: 0.7972, Best Accuracy: 0.8024 \n",
            " \n",
            "Epoch: 164, Total Training Loss: 1160.569858878851, Epoch Accuracy: 0.7928, Best Accuracy: 0.8024 \n",
            " \n",
            "Epoch: 165, Total Training Loss: 1160.6786859631538, Epoch Accuracy: 0.7926, Best Accuracy: 0.8024 \n",
            " \n",
            "Epoch: 166, Total Training Loss: 1160.2239141762257, Epoch Accuracy: 0.7942, Best Accuracy: 0.8024 \n",
            " \n",
            "Epoch: 167, Total Training Loss: 1163.1131306290627, Epoch Accuracy: 0.7834, Best Accuracy: 0.8024 \n",
            " \n",
            "Epoch: 168, Total Training Loss: 1162.0162635445595, Epoch Accuracy: 0.7922, Best Accuracy: 0.8024 \n",
            " \n",
            "Epoch: 169, Total Training Loss: 1159.8862522244453, Epoch Accuracy: 0.7948, Best Accuracy: 0.8024 \n",
            " \n",
            "Epoch: 170, Total Training Loss: 1161.1690343618393, Epoch Accuracy: 0.7938, Best Accuracy: 0.8024 \n",
            " \n",
            "Epoch: 171, Total Training Loss: 1160.9224871695042, Epoch Accuracy: 0.7956, Best Accuracy: 0.8024 \n",
            " \n",
            "Epoch: 172, Total Training Loss: 1162.6540546417236, Epoch Accuracy: 0.795, Best Accuracy: 0.8024 \n",
            " \n",
            "Epoch: 173, Total Training Loss: 1158.39011490345, Epoch Accuracy: 0.7988, Best Accuracy: 0.8024 \n",
            " \n",
            "Epoch: 174, Total Training Loss: 1158.4625239670277, Epoch Accuracy: 0.8022, Best Accuracy: 0.8024 \n",
            " \n",
            "Epoch: 175, Total Training Loss: 1159.4481520354748, Epoch Accuracy: 0.7962, Best Accuracy: 0.8024 \n",
            " \n",
            "Epoch: 176, Total Training Loss: 1157.502985715866, Epoch Accuracy: 0.7822, Best Accuracy: 0.8024 \n",
            " \n",
            "Epoch: 177, Total Training Loss: 1157.6692189574242, Epoch Accuracy: 0.7958, Best Accuracy: 0.8024 \n",
            " \n",
            "Epoch: 178, Total Training Loss: 1158.8476385176182, Epoch Accuracy: 0.7936, Best Accuracy: 0.8024 \n",
            " \n",
            "Epoch: 179, Total Training Loss: 1157.937638014555, Epoch Accuracy: 0.7962, Best Accuracy: 0.8024 \n",
            " \n",
            "Epoch: 180, Total Training Loss: 1156.0385364592075, Epoch Accuracy: 0.7954, Best Accuracy: 0.8024 \n",
            " \n",
            "Epoch: 181, Total Training Loss: 1156.6269890069962, Epoch Accuracy: 0.7982, Best Accuracy: 0.8024 \n",
            " \n",
            "Epoch: 182, Total Training Loss: 1155.3458615541458, Epoch Accuracy: 0.7906, Best Accuracy: 0.8024 \n",
            " \n",
            "Epoch: 183, Total Training Loss: 1158.3019260764122, Epoch Accuracy: 0.7976, Best Accuracy: 0.8024 \n",
            " \n",
            "Epoch: 184, Total Training Loss: 1157.4408968389034, Epoch Accuracy: 0.7924, Best Accuracy: 0.8024 \n",
            " \n",
            "Epoch: 185, Total Training Loss: 1155.0791053175926, Epoch Accuracy: 0.7954, Best Accuracy: 0.8024 \n",
            " \n",
            "Epoch: 186, Total Training Loss: 1155.6452232599258, Epoch Accuracy: 0.8, Best Accuracy: 0.8024 \n",
            " \n",
            "Epoch: 187, Total Training Loss: 1157.6050186157227, Epoch Accuracy: 0.7952, Best Accuracy: 0.8024 \n",
            " \n",
            "Epoch: 188, Total Training Loss: 1154.6343189775944, Epoch Accuracy: 0.7896, Best Accuracy: 0.8024 \n",
            " \n",
            "Epoch: 189, Total Training Loss: 1152.5160155296326, Epoch Accuracy: 0.7928, Best Accuracy: 0.8024 \n",
            " \n",
            "Epoch: 190, Total Training Loss: 1155.4147552251816, Epoch Accuracy: 0.7896, Best Accuracy: 0.8024 \n",
            " \n",
            "Epoch: 191, Total Training Loss: 1153.303352534771, Epoch Accuracy: 0.7964, Best Accuracy: 0.8024 \n",
            " \n",
            "Epoch: 192, Total Training Loss: 1153.3646454513073, Epoch Accuracy: 0.7978, Best Accuracy: 0.8024 \n",
            " \n",
            "Epoch: 193, Total Training Loss: 1155.7942900657654, Epoch Accuracy: 0.7882, Best Accuracy: 0.8024 \n",
            " \n",
            "Epoch: 194, Total Training Loss: 1153.9049029946327, Epoch Accuracy: 0.7834, Best Accuracy: 0.8024 \n",
            " \n",
            "Epoch: 195, Total Training Loss: 1151.8155594170094, Epoch Accuracy: 0.7932, Best Accuracy: 0.8024 \n",
            " \n",
            "Epoch: 196, Total Training Loss: 1151.9806045889854, Epoch Accuracy: 0.7948, Best Accuracy: 0.8024 \n",
            " \n",
            "Epoch: 197, Total Training Loss: 1150.1630413234234, Epoch Accuracy: 0.7964, Best Accuracy: 0.8024 \n",
            " \n",
            "Epoch: 198, Total Training Loss: 1150.7455392181873, Epoch Accuracy: 0.7902, Best Accuracy: 0.8024 \n",
            " \n",
            "Epoch: 199, Total Training Loss: 1152.1044767200947, Epoch Accuracy: 0.798, Best Accuracy: 0.8024 \n",
            " \n",
            "Epoch: 200, Total Training Loss: 1148.3123031258583, Epoch Accuracy: 0.802, Best Accuracy: 0.8024 \n",
            " \n",
            "Training Finished!\n",
            "Best Accuracy Model was : 0.80\n"
          ]
        }
      ]
    },
    {
      "cell_type": "code",
      "source": [
        "with open(\"/content/drive/My Drive/DLS_Assignments/3/Q1_P2_res\", \"wb\") as fp:   \n",
        "  pickle.dump(validation_acc_list_2, fp)"
      ],
      "metadata": {
        "id": "RsDizm9-kyPv"
      },
      "execution_count": null,
      "outputs": []
    },
    {
      "cell_type": "code",
      "source": [
        "with open(\"/content/drive/My Drive/DLS_Assignments/3/Q1_P2_res\", \"rb\") as fp:   \n",
        "  validation_acc_list_2 = pickle.load(fp)"
      ],
      "metadata": {
        "id": "2o71-CvwFayV"
      },
      "execution_count": null,
      "outputs": []
    },
    {
      "cell_type": "markdown",
      "source": [
        "6. Overlay the validation accuracy curve from the baseline with the new curve recorded from\n",
        "the augmented dataset. I ran 200 epochs for both experiments and was able to see convincing\n",
        "results (i.e., the data augmentation improves the validation performance).\n",
        "7. In theory you have to conduct a test run on the test set, but let’s forget about it."
      ],
      "metadata": {
        "id": "y5vT7y5LXpHW"
      }
    },
    {
      "cell_type": "code",
      "source": [
        "# plot Baseline\n",
        "\n",
        "x = np.arange(200)\n",
        "\n",
        "plt.plot(x, validation_acc_list, label = 'Baseline Model')\n",
        "plt.plot(x, validation_acc_list_2, label = 'Augmented Data Model')\n",
        "\n",
        "fig = plt.gcf()\n",
        "fig.set_size_inches(18.5, 10.5)\n",
        "\n",
        "fig.suptitle('Baseline vs Augmented Model on CIFAR10', fontsize=20)\n",
        "plt.xlabel('Epochs', fontsize=18)\n",
        "plt.ylabel('Validation Accuracy', fontsize=16)\n",
        "\n",
        "ax = plt.gca()\n",
        "ax.set_xlim([0, 200])\n",
        "ax.set_ylim([0, 1.0])\n",
        "\n",
        "plt.legend()\n",
        "plt.show()"
      ],
      "metadata": {
        "colab": {
          "base_uri": "https://localhost:8080/",
          "height": 716
        },
        "id": "vUtkugQkk7Yj",
        "outputId": "86987b5c-1e2c-4074-c83c-8c40c8f2e61b"
      },
      "execution_count": null,
      "outputs": [
        {
          "output_type": "display_data",
          "data": {
            "text/plain": [
              "<Figure size 1332x756 with 1 Axes>"
            ],
            "image/png": "[encoded data removed]"
          },
          "metadata": {
            "needs_background": "light"
          }
        }
      ]
    },
    {
      "cell_type": "markdown",
      "source": [
        "In our results for the model trained with the augmented data, we are seeing an almost 20% increase in accuracy on the validation set when the data augmentation is done, showing this medthods effectiveness for this CIFAR10 dataset."
      ],
      "metadata": {
        "id": "RlOULF_VXiSM"
      }
    },
    {
      "cell_type": "markdown",
      "source": [
        "### Problem 2: Self-Supervised Learning via Pretext Tasks"
      ],
      "metadata": {
        "id": "Kr4cHa8AYEYJ"
      }
    },
    {
      "cell_type": "markdown",
      "source": [
        "1. Suppose that you have only 50 labeled examples per class for your CIFAR10 classification\n",
        "problem, totaling 500 training images. Presumably it might be tough to achieve a high\n",
        "performance in this situation. Set aside those 500 examples from your training set (I chose\n",
        "the last 500 examples)."
      ],
      "metadata": {
        "id": "wcTS4GFWYNhe"
      }
    },
    {
      "cell_type": "code",
      "source": [
        "from google.colab import drive\n",
        "drive.mount('/content/drive')"
      ],
      "metadata": {
        "colab": {
          "base_uri": "https://localhost:8080/"
        },
        "outputId": "395cab99-7148-4b83-dc03-f4f9a5f8c13c",
        "id": "iYs8hr2sZAnZ"
      },
      "execution_count": null,
      "outputs": [
        {
          "output_type": "stream",
          "name": "stdout",
          "text": [
            "Mounted at /content/drive\n"
          ]
        }
      ]
    },
    {
      "cell_type": "code",
      "source": [
        "import torch\n",
        "import numpy as np\n",
        "import matplotlib.pyplot as plt"
      ],
      "metadata": {
        "id": "HAoBFjw0ZAna"
      },
      "execution_count": null,
      "outputs": []
    },
    {
      "cell_type": "code",
      "source": [
        "# Get device\n",
        "device = torch.device(\"cuda:0\" if torch.cuda.is_available() else \"cpu\")\n",
        "print(f\"Using {device} device\")"
      ],
      "metadata": {
        "colab": {
          "base_uri": "https://localhost:8080/"
        },
        "outputId": "7bdc4f2f-e749-4d6e-d7b9-7df7055b840b",
        "id": "WLYWrXWHZAna"
      },
      "execution_count": null,
      "outputs": [
        {
          "output_type": "stream",
          "name": "stdout",
          "text": [
            "Using cuda:0 device\n"
          ]
        }
      ]
    },
    {
      "cell_type": "code",
      "source": [
        "# Set torch random seed \n",
        "torch.manual_seed(42)\n",
        "np.random.seed(42)\n",
        "torch.backends.cudnn.enabled = False\n",
        "torch.backends.cudnn.deterministic = True"
      ],
      "metadata": {
        "id": "mFaAbrYGZAnb"
      },
      "execution_count": null,
      "outputs": []
    },
    {
      "cell_type": "code",
      "source": [
        "import numpy as np\n",
        "import matplotlib.pyplot as plt\n",
        "from six.moves import cPickle \n",
        "\n",
        "f = open(\"/content/drive/My Drive/DLS_Assignments/3/cifar-10-python/cifar-10-batches-py/data_batch_1\", 'rb')\n",
        "dict_1 = cPickle.load(f,encoding='latin1')\n",
        "f.close()\n",
        "\n",
        "f = open(\"/content/drive/My Drive/DLS_Assignments/3/cifar-10-python/cifar-10-batches-py/data_batch_2\", 'rb')\n",
        "dict_2 = cPickle.load(f,encoding='latin1')\n",
        "f.close()\n",
        "\n",
        "f = open(\"/content/drive/My Drive/DLS_Assignments/3/cifar-10-python/cifar-10-batches-py/data_batch_3\", 'rb')\n",
        "dict_3 = cPickle.load(f,encoding='latin1')\n",
        "f.close()\n",
        "\n",
        "f = open(\"/content/drive/My Drive/DLS_Assignments/3/cifar-10-python/cifar-10-batches-py/data_batch_5\", 'rb')\n",
        "dict_4 = cPickle.load(f,encoding='latin1')\n",
        "f.close()\n",
        "\n",
        "f = open(\"/content/drive/My Drive/DLS_Assignments/3/cifar-10-python/cifar-10-batches-py/data_batch_5\", 'rb')\n",
        "dict_5 = cPickle.load(f,encoding='latin1')\n",
        "f.close()\n",
        "\n",
        "f = open(\"/content/drive/My Drive/DLS_Assignments/3/cifar-10-python/cifar-10-batches-py/test_batch\", 'rb')\n",
        "dict_test = cPickle.load(f,encoding='latin1')\n",
        "f.close()\n"
      ],
      "metadata": {
        "id": "aKu2AnAxZAnb"
      },
      "execution_count": null,
      "outputs": []
    },
    {
      "cell_type": "code",
      "source": [
        "import copy\n",
        "\n",
        "train_data = np.concatenate((dict_1['data'], dict_2['data'], dict_3['data'], dict_4['data'], dict_5['data']), axis=0)\n",
        "\n",
        "print(train_data.shape)\n",
        "\n",
        "joinedlist = dict_1['labels'] + dict_2['labels'] + dict_3['labels'] + dict_4['labels'] + dict_5['labels']\n",
        "\n",
        "train_labels = np.asarray(joinedlist)\n",
        "\n",
        "print(train_labels.shape)\n",
        "\n",
        "test_data = dict_test['data']\n",
        "\n",
        "print(test_data.shape)\n",
        "\n",
        "test_labels = np.asarray(dict_test['labels'])\n",
        "\n",
        "print(test_labels.shape)"
      ],
      "metadata": {
        "colab": {
          "base_uri": "https://localhost:8080/"
        },
        "outputId": "50c273a7-f97b-404e-f090-c0aedcd0514a",
        "id": "p5KELC_BZAnc"
      },
      "execution_count": null,
      "outputs": [
        {
          "output_type": "stream",
          "name": "stdout",
          "text": [
            "(50000, 3072)\n",
            "(50000,)\n",
            "(10000, 3072)\n",
            "(10000,)\n"
          ]
        }
      ]
    },
    {
      "cell_type": "code",
      "source": [
        "train_data = train_data.reshape(50000, 3, 32, 32).astype(\"uint8\")\n",
        "test_data = test_data.reshape(10000, 3, 32, 32).astype(\"uint8\")"
      ],
      "metadata": {
        "id": "7B4092J0ZAne"
      },
      "execution_count": null,
      "outputs": []
    },
    {
      "cell_type": "code",
      "source": [
        "print(train_data.shape)\n",
        "print(test_data.shape)"
      ],
      "metadata": {
        "colab": {
          "base_uri": "https://localhost:8080/"
        },
        "outputId": "eec7ae41-f8e6-4716-c5fa-eeb2ee83bff5",
        "id": "7Lx7EbOcZAne"
      },
      "execution_count": null,
      "outputs": [
        {
          "output_type": "stream",
          "name": "stdout",
          "text": [
            "(50000, 3, 32, 32)\n",
            "(10000, 3, 32, 32)\n"
          ]
        }
      ]
    },
    {
      "cell_type": "code",
      "source": [
        "# Scale Data into [0,1] range from [0,255]\n",
        "\n",
        "train_data = train_data.astype(float)\n",
        "train_data = (train_data / 255)\n",
        "\n",
        "# Scale Test Data to [-1,1]\n",
        "test_data = test_data.astype(float)\n",
        "test_data = (((test_data / 255) * 2) - 1)"
      ],
      "metadata": {
        "id": "R7L9tyIHZAnf"
      },
      "execution_count": null,
      "outputs": []
    },
    {
      "cell_type": "code",
      "source": [
        "from collections import Counter\n",
        "Counter(train_labels[-500:])"
      ],
      "metadata": {
        "colab": {
          "base_uri": "https://localhost:8080/"
        },
        "id": "UVSeo3cqZivc",
        "outputId": "8d72c1ff-6e67-475c-b1c8-eebb58614bbe"
      },
      "execution_count": null,
      "outputs": [
        {
          "output_type": "execute_result",
          "data": {
            "text/plain": [
              "Counter({3: 58, 8: 59, 9: 48, 1: 59, 4: 43, 0: 42, 5: 52, 6: 47, 7: 52, 2: 40})"
            ]
          },
          "metadata": {},
          "execution_count": 10
        }
      ]
    },
    {
      "cell_type": "markdown",
      "source": [
        "Here I am choosing the last 500 examples to set aside, as there are about 50 examples per class and its fairly balanced"
      ],
      "metadata": {
        "id": "p_9Hgbl9aK3C"
      }
    },
    {
      "cell_type": "code",
      "source": [
        "big_data = copy.deepcopy(train_data[:49500])\n",
        "big_data_labels = copy.deepcopy(train_labels[:49500])\n",
        "small_data = copy.deepcopy(train_data[49500:])\n",
        "small_data_labels = copy.deepcopy(train_labels[49500:])"
      ],
      "metadata": {
        "id": "UHgdV0jVZeJZ"
      },
      "execution_count": null,
      "outputs": []
    },
    {
      "cell_type": "code",
      "source": [
        "print(big_data.shape)\n",
        "print(small_data.shape)"
      ],
      "metadata": {
        "colab": {
          "base_uri": "https://localhost:8080/"
        },
        "id": "yL4pgpM9cClL",
        "outputId": "b735cb2b-c637-43c8-e750-59a7a4ba6b0f"
      },
      "execution_count": null,
      "outputs": [
        {
          "output_type": "stream",
          "name": "stdout",
          "text": [
            "(49500, 3, 32, 32)\n",
            "(500, 3, 32, 32)\n"
          ]
        }
      ]
    },
    {
      "cell_type": "code",
      "source": [
        "import gc \n",
        "del train_data\n",
        "del train_labels\n",
        "gc.collect()"
      ],
      "metadata": {
        "colab": {
          "base_uri": "https://localhost:8080/"
        },
        "id": "Dzl6dgd-ZeMI",
        "outputId": "5e02e9e4-ad24-403b-ab09-0a713a78eb7a"
      },
      "execution_count": null,
      "outputs": [
        {
          "output_type": "execute_result",
          "data": {
            "text/plain": [
              "22"
            ]
          },
          "metadata": {},
          "execution_count": 13
        }
      ]
    },
    {
      "cell_type": "markdown",
      "source": [
        "2. **The pretext task:** \\\\\n",
        "(a) We will try to improve this situation by learning from unlabeled dataset. \\\\\n",
        "(b) We will assume that the rest of the 49,500 training examples are unlabeled. We will \n",
        "create a bogus classification problem using them. Let this unlabeled examples (or the\n",
        "examples that you disregard their original labels) be “class 0”. \\\\\n",
        "(c) “class 1”: Create a new class, by vertically flipping all the images upside down. \\\\\n",
        "(d) “class 2”: Create another class, by rotating the images 90 degree counter-clock wise. \\\\\n",
        "(e) Now you have three classes, each of which contains 49,500 examples that are with madeup labels. \\\\"
      ],
      "metadata": {
        "id": "NsiFThSWcEsZ"
      }
    },
    {
      "cell_type": "code",
      "source": [
        "# Class 0\n",
        "class_0_labels = np.zeros(49500).astype(float)"
      ],
      "metadata": {
        "id": "mccg0GrUZePL"
      },
      "execution_count": null,
      "outputs": []
    },
    {
      "cell_type": "code",
      "source": [
        "# Test image\n",
        "plt.imshow(big_data[11].transpose(1,2,0).reshape(32,32,3), interpolation='nearest')\n",
        "plt.title(\"Test\")\n",
        "plt.show()"
      ],
      "metadata": {
        "colab": {
          "base_uri": "https://localhost:8080/",
          "height": 281
        },
        "id": "vdPb_Jhzd2T3",
        "outputId": "a5647b11-80d6-4dc2-f381-98c180176a1d"
      },
      "execution_count": null,
      "outputs": [
        {
          "output_type": "display_data",
          "data": {
            "text/plain": [
              "<Figure size 432x288 with 1 Axes>"
            ],
            "image/png": "[encoded data removed]"
          },
          "metadata": {
            "needs_background": "light"
          }
        }
      ]
    },
    {
      "cell_type": "code",
      "source": [
        "# Class 1\n",
        "big_data_1 = np.flip(copy.deepcopy(big_data.transpose(0,2,3,1)), axis = 1).transpose(np.argsort((0,2,3,1))).reshape(49500, 3, 32, 32)"
      ],
      "metadata": {
        "id": "HbL6b1GAZeRn"
      },
      "execution_count": null,
      "outputs": []
    },
    {
      "cell_type": "code",
      "source": [
        "# Vertically flipped test image\n",
        "plt.imshow(big_data_1[11].transpose(1,2,0).reshape(32,32,3), interpolation='nearest')\n",
        "plt.title(\"Flipped Test\")\n",
        "plt.show()"
      ],
      "metadata": {
        "colab": {
          "base_uri": "https://localhost:8080/",
          "height": 281
        },
        "id": "ndiTRlxMZeXj",
        "outputId": "a9cbb874-1bed-49ea-a471-ac1d86d2a967"
      },
      "execution_count": null,
      "outputs": [
        {
          "output_type": "display_data",
          "data": {
            "text/plain": [
              "<Figure size 432x288 with 1 Axes>"
            ],
            "image/png": "[encoded data removed]"
          },
          "metadata": {
            "needs_background": "light"
          }
        }
      ]
    },
    {
      "cell_type": "code",
      "source": [
        "class_1_labels = np.ones(49500).astype(float)"
      ],
      "metadata": {
        "id": "mj9KlgMxeUQ7"
      },
      "execution_count": null,
      "outputs": []
    },
    {
      "cell_type": "code",
      "source": [
        "# Class 2\n",
        "big_data_2 = np.rot90(copy.deepcopy(big_data),axes=(-2,-1)).reshape(49500, 3, 32, 32)"
      ],
      "metadata": {
        "id": "_d4b23nEeUTW"
      },
      "execution_count": null,
      "outputs": []
    },
    {
      "cell_type": "code",
      "source": [
        "# Rotated 90 degree CC test image\n",
        "plt.imshow(big_data_2[11].transpose(1,2,0).reshape(32,32,3), interpolation='nearest')\n",
        "plt.title(\"90 Deg CC Test\")\n",
        "plt.show()"
      ],
      "metadata": {
        "colab": {
          "base_uri": "https://localhost:8080/",
          "height": 281
        },
        "id": "TXTaI5Lpf12M",
        "outputId": "011e8fff-0e33-453a-979b-41d97fc30043"
      },
      "execution_count": null,
      "outputs": [
        {
          "output_type": "display_data",
          "data": {
            "text/plain": [
              "<Figure size 432x288 with 1 Axes>"
            ],
            "image/png": "[encoded data removed]"
          },
          "metadata": {
            "needs_background": "light"
          }
        }
      ]
    },
    {
      "cell_type": "code",
      "source": [
        "class_2_labels = np.full((49500,), 2.0).astype(float)"
      ],
      "metadata": {
        "id": "bc992dRxeUY0"
      },
      "execution_count": null,
      "outputs": []
    },
    {
      "cell_type": "code",
      "source": [
        "Pretext_X_train = np.concatenate((big_data, big_data_1, big_data_2), axis = 0)\n",
        "Pretext_y_train = np.concatenate((class_0_labels,class_1_labels,class_2_labels), axis = 0)"
      ],
      "metadata": {
        "id": "ZqnsywCpgAQO"
      },
      "execution_count": null,
      "outputs": []
    },
    {
      "cell_type": "code",
      "source": [
        "import gc \n",
        "del big_data\n",
        "del big_data_1\n",
        "del big_data_2\n",
        "del class_0_labels\n",
        "del class_1_labels\n",
        "del class_2_labels\n",
        "gc.collect()"
      ],
      "metadata": {
        "colab": {
          "base_uri": "https://localhost:8080/"
        },
        "id": "GPMgDLkCiXCX",
        "outputId": "dd4adf1c-9eb4-47e6-8b5f-6fd9b979decb"
      },
      "execution_count": null,
      "outputs": [
        {
          "output_type": "execute_result",
          "data": {
            "text/plain": [
              "7461"
            ]
          },
          "metadata": {},
          "execution_count": 57
        }
      ]
    },
    {
      "cell_type": "code",
      "source": [
        "print(Pretext_X_train.shape)\n",
        "print(Pretext_y_train.shape)"
      ],
      "metadata": {
        "colab": {
          "base_uri": "https://localhost:8080/"
        },
        "id": "-59z3KWuhHg4",
        "outputId": "54e92866-0a20-49c5-d184-d4fc39b4a30d"
      },
      "execution_count": null,
      "outputs": [
        {
          "output_type": "stream",
          "name": "stdout",
          "text": [
            "(148500, 3, 32, 32)\n",
            "(148500,)\n"
          ]
        }
      ]
    },
    {
      "cell_type": "code",
      "source": [
        "# Scale Data into [-1,1] range from [0,1]\n",
        "Pretext_X_train = ((Pretext_X_train * 2) - 1) "
      ],
      "metadata": {
        "id": "Kzkpa-2whHjo"
      },
      "execution_count": null,
      "outputs": []
    },
    {
      "cell_type": "code",
      "source": [
        "# Convert to torch tensors\n",
        "\n",
        "Pretext_X_train = torch.from_numpy(Pretext_X_train)\n",
        "Pretext_y_train = torch.from_numpy(Pretext_y_train)"
      ],
      "metadata": {
        "id": "yOadRfQthHmu"
      },
      "execution_count": null,
      "outputs": []
    },
    {
      "cell_type": "code",
      "source": [
        "# Set Hyperparameters\n",
        "n_epochs = 100 # max_epochs\n",
        "batch_size_val = 100\n",
        "batch_size_train = 100\n",
        "batch_size_test = 100\n",
        "learning_rate = 0.001 # learn rate\n",
        "log_interval = 1 # log every _ epoch\n",
        "\n",
        "patience = 20  # epochs after which training should stop if no improvement"
      ],
      "metadata": {
        "id": "uGjEpZihZAnf"
      },
      "execution_count": null,
      "outputs": []
    },
    {
      "cell_type": "code",
      "source": [
        "# Get Datasets\n",
        "from torch.utils.data import TensorDataset, DataLoader\n",
        "\n",
        "Train_dataset = TensorDataset(Pretext_X_train, Pretext_y_train)\n",
        "\n",
        "train_loader = torch.utils.data.DataLoader(Train_dataset,batch_size=batch_size_train, shuffle=True)"
      ],
      "metadata": {
        "id": "Elnahl7fZAng"
      },
      "execution_count": null,
      "outputs": []
    },
    {
      "cell_type": "markdown",
      "source": [
        "(f) This is not a classification problem anywhere near the original CIFAR10 problem. But,\n",
        "the idea here is that a classifier, that is trained to solve this problem, may need to learn\n",
        "some helpful features for the original CIFAR10 classification problem. \\\\\n",
        "(g) Train a network with the same setup/architecture described in Problem 3, to solve this\n",
        "pretext classification problem—a rotation estimator. In theory you need to validate every\n",
        "now and then to prevent overfitting, but who cares about this dummy problem? Let’s\n",
        "forget about it and just run about a hundred epochs.\n"
      ],
      "metadata": {
        "id": "TPS7DfnwjIvp"
      }
    },
    {
      "cell_type": "code",
      "source": [
        "# Building the network\n",
        "import torch.nn as nn\n",
        "import torch.nn.functional as F\n",
        "import torch.optim as optim\n",
        "\n",
        "class CNN2D_base_network(nn.Module):\n",
        "    def __init__(self):\n",
        "        super().__init__()\n",
        "        \n",
        "        self.conv2d = nn.Conv2d(in_channels = 3,\n",
        "                                out_channels = 10, # number filters\n",
        "                                kernel_size = (5,5), # size of kernel\n",
        "                                padding = 'same',    \n",
        "                                stride = (1,1) # stride of conv\n",
        "          \n",
        "        ) \n",
        "        self.conv2d_2 = nn.Conv2d(in_channels = 10,\n",
        "                                out_channels = 10, # number filters\n",
        "                                kernel_size = (5,5), # size of kernel\n",
        "                                padding = 'same',\n",
        "                                stride = (1,1) # stride of \n",
        "                       \n",
        "        ) \n",
        "        self.maxpool2d = nn.MaxPool2d(kernel_size = (2,2),stride=2)\n",
        "        \n",
        "        self.fc1 = nn.Linear(640, 20)\n",
        "        self.fc2 = nn.Linear(20, 3)\n",
        "        \n",
        "\n",
        "        \n",
        "        # Define extra layers \n",
        "        self.ReLU = nn.ReLU()\n",
        "        #self.LeakyReLU = nn.LeakyReLU()\n",
        "        #self.Dropout_1 = nn.Dropout(p=.2)\n",
        "        #self.GroupNorm = nn.GroupNorm(group_num, 1024)\n",
        "        \n",
        "    def forward(self, x):\n",
        "      \n",
        "        # Pass the input tensor through each of our operations\n",
        "\n",
        "\n",
        "        x = self.conv2d(x)\n",
        "        x = self.ReLU(x)\n",
        "\n",
        "        x = self.maxpool2d(x)\n",
        " \n",
        "        x = self.conv2d_2(x)\n",
        "        x = self.ReLU(x)\n",
        "\n",
        "        x = self.maxpool2d(x)\n",
        "        x = torch.flatten(x, start_dim=1)\n",
        "        x = self.fc1(x)\n",
        "        x = self.ReLU(x)\n",
        "\n",
        "        x = self.fc2(x)\n",
        "        x = self.ReLU(x)\n",
        "\n",
        "        return x"
      ],
      "metadata": {
        "id": "de0sRj5_kvjn"
      },
      "execution_count": null,
      "outputs": []
    },
    {
      "cell_type": "code",
      "source": [
        "import math\n",
        "def weight_init(m):\n",
        "  if isinstance(m, nn.Linear):\n",
        "    torch.nn.init.kaiming_uniform_(m.weight, nonlinearity = 'relu') # using uniform dists\n",
        "    torch.nn.init.zeros_(m.bias) # fill bias with zeros\n",
        "  elif isinstance(m, nn.Conv2d):\n",
        "    torch.nn.init.kaiming_uniform_(m.weight, nonlinearity = 'relu') # using uniform dists\n",
        "    torch.nn.init.zeros_(m.bias) # fill bias with zeros\n",
        "\n",
        "# Send model to GPU\n",
        "CNN2D_base_network = CNN2D_base_network().to(device)\n",
        "CNN2D_base_network.apply(weight_init)\n",
        "CNN2D_base_network = CNN2D_base_network.float()\n",
        "print(CNN2D_base_network)"
      ],
      "metadata": {
        "colab": {
          "base_uri": "https://localhost:8080/"
        },
        "outputId": "524acc87-44a2-43a2-bde1-d4a0515ecc7e",
        "id": "8PHiGacjkvjo"
      },
      "execution_count": null,
      "outputs": [
        {
          "output_type": "stream",
          "name": "stdout",
          "text": [
            "CNN2D_base_network(\n",
            "  (conv2d): Conv2d(3, 10, kernel_size=(5, 5), stride=(1, 1), padding=same)\n",
            "  (conv2d_2): Conv2d(10, 10, kernel_size=(5, 5), stride=(1, 1), padding=same)\n",
            "  (maxpool2d): MaxPool2d(kernel_size=(2, 2), stride=2, padding=0, dilation=1, ceil_mode=False)\n",
            "  (fc1): Linear(in_features=640, out_features=20, bias=True)\n",
            "  (fc2): Linear(in_features=20, out_features=3, bias=True)\n",
            "  (ReLU): ReLU()\n",
            ")\n"
          ]
        }
      ]
    },
    {
      "cell_type": "code",
      "source": [
        "# Define optimizer and loss\n",
        "\n",
        "optimizer = torch.optim.Adam(CNN2D_base_network.parameters(), lr = learning_rate)\n",
        "loss_func = nn.CrossEntropyLoss()"
      ],
      "metadata": {
        "id": "3aIAUQL5kvjo"
      },
      "execution_count": null,
      "outputs": []
    },
    {
      "cell_type": "code",
      "source": [
        "# Results of Training\n",
        "bst_prediction_array = None\n",
        "bst_test_data = None\n",
        "bst_test_labels = None\n",
        "bst_accuracy = 0 # captures best accuracy\n",
        "bst_model = None\n",
        "bst_model_state_dict = None\n",
        "bst_opt_state_dict = None\n",
        "\n",
        "Training_Result = (bst_prediction_array, bst_test_data, bst_test_labels, bst_accuracy, bst_model, bst_model_state_dict, bst_opt_state_dict)"
      ],
      "metadata": {
        "id": "xkhXo-3Wkvjp"
      },
      "execution_count": null,
      "outputs": []
    },
    {
      "cell_type": "code",
      "source": [
        "from sklearn.metrics import accuracy_score\n",
        "\n",
        "# Train Function\n",
        "def train(Training_Result_p):\n",
        "\n",
        "  bst_prediction_array, bst_test_data, bst_test_labels, bst_accuracy, bst_model, bst_model_state_dict, bst_opt_state_dict = Training_Result_p\n",
        "\n",
        "  # Train parameters\n",
        "  epoch = 1 # starting epoch\n",
        " \n",
        "  print(\"Training model\")\n",
        "\n",
        "  while ( (epoch <= n_epochs) ):\n",
        "    \n",
        "    # Training\n",
        "    CNN2D_base_network.train()\n",
        "    train_loss = 0 # calc train loss\n",
        "\n",
        "    lbl_list = []\n",
        "    pred_list = []\n",
        "    for batch_idx, (data, target) in enumerate(train_loader):\n",
        "\n",
        "      # Prepare batch data and labels\n",
        "      data = data.to(device)\n",
        "      batch_labels = target.to(device)\n",
        "\n",
        "      # Forward pass\n",
        "      batch_outputs = CNN2D_base_network(data.float())\n",
        "   \n",
        "      loss = loss_func(batch_outputs, batch_labels.long())\n",
        "\n",
        "      # Backward and optimize\n",
        "      optimizer.zero_grad()\n",
        "      loss.backward()\n",
        "      optimizer.step()\n",
        "\n",
        "      train_loss += loss.item() # increment train loss for epoch\n",
        "\n",
        "      train_batch_labels = target.numpy()\n",
        "      train_batch_pred = F.softmax(batch_outputs, dim = 1).argmax(dim=1, keepdim=True).cpu().numpy()\n",
        "\n",
        "      lbl_list.append(train_batch_labels)\n",
        "      pred_list.append(train_batch_pred)\n",
        "\n",
        "    lbl_array = np.concatenate(lbl_list, axis=0)\n",
        "    pred_array = np.concatenate(pred_list, axis=0)\n",
        "    epoch_acc = accuracy_score(lbl_array,pred_array)\n",
        "\n",
        "    # Save result\n",
        "    bst_accuracy = epoch_acc\n",
        "\n",
        "    # Save test data\n",
        "    bst_test_labels = lbl_array\n",
        "    bst_prediction_array = pred_array\n",
        "    \n",
        "    # Save Model\n",
        "    bst_model = CNN2D_base_network\n",
        "    bst_model_state_dict = CNN2D_base_network.state_dict()\n",
        "    bst_opt_state_dict = optimizer.state_dict()\n",
        "    # torch.save(model, 'best_mnist_model.pt')\n",
        "    \n",
        "    # Logging\n",
        "    if ( epoch % log_interval == 0 or epoch == 1 ) :\n",
        "      print(\"Epoch: {}, Total Training Loss: {}, Epoch Accuracy: {} \\n \".format(epoch, train_loss, epoch_acc))\n",
        "    # increment epoch\n",
        "    epoch += 1\n",
        "  \n",
        "  print(\"Training Finished!\")\n",
        "  Training_Return = (bst_prediction_array, bst_test_data, bst_test_labels, bst_accuracy, bst_model, bst_model_state_dict, bst_opt_state_dict)\n",
        "  return Training_Return"
      ],
      "metadata": {
        "id": "xeG_gX8lkvjp"
      },
      "execution_count": null,
      "outputs": []
    },
    {
      "cell_type": "code",
      "source": [
        "# Train \n",
        "res = train(Training_Result)\n",
        "\n",
        "bst_prediction_array, bst_test_data, bst_test_labels, bst_accuracy, bst_model, bst_model_state_dict, bst_opt_state_dict = res\n",
        "\n",
        "# Best Model\n",
        "print(\"Best Accuracy Model was : {:.2f}\".format(bst_accuracy))"
      ],
      "metadata": {
        "colab": {
          "base_uri": "https://localhost:8080/"
        },
        "outputId": "80e9b530-5b19-497a-cfc4-3377160aff30",
        "id": "r5aJfXZbkvjq"
      },
      "execution_count": null,
      "outputs": [
        {
          "output_type": "stream",
          "name": "stdout",
          "text": [
            "Training model\n",
            "Epoch: 1, Total Training Loss: 1156.3935891389847, Epoch Accuracy: 0.6351649831649832 \n",
            " \n",
            "Epoch: 2, Total Training Loss: 994.7321529388428, Epoch Accuracy: 0.7062289562289562 \n",
            " \n",
            "Epoch: 3, Total Training Loss: 939.0079215168953, Epoch Accuracy: 0.725993265993266 \n",
            " \n",
            "Epoch: 4, Total Training Loss: 897.5929718911648, Epoch Accuracy: 0.7403636363636363 \n",
            " \n",
            "Epoch: 5, Total Training Loss: 869.040385901928, Epoch Accuracy: 0.7506464646464647 \n",
            " \n",
            "Epoch: 6, Total Training Loss: 844.5128350555897, Epoch Accuracy: 0.7578249158249158 \n",
            " \n",
            "Epoch: 7, Total Training Loss: 826.6751539707184, Epoch Accuracy: 0.7646666666666667 \n",
            " \n",
            "Epoch: 8, Total Training Loss: 809.5708938837051, Epoch Accuracy: 0.7704175084175084 \n",
            " \n",
            "Epoch: 9, Total Training Loss: 793.8035253882408, Epoch Accuracy: 0.7758451178451179 \n",
            " \n",
            "Epoch: 10, Total Training Loss: 782.6787751317024, Epoch Accuracy: 0.7797710437710438 \n",
            " \n",
            "Epoch: 11, Total Training Loss: 772.009917229414, Epoch Accuracy: 0.7827744107744108 \n",
            " \n",
            "Epoch: 12, Total Training Loss: 759.7567017376423, Epoch Accuracy: 0.7865454545454545 \n",
            " \n",
            "Epoch: 13, Total Training Loss: 751.1125337481499, Epoch Accuracy: 0.7897171717171717 \n",
            " \n",
            "Epoch: 14, Total Training Loss: 744.6629942655563, Epoch Accuracy: 0.7915824915824916 \n",
            " \n",
            "Epoch: 15, Total Training Loss: 735.5006732642651, Epoch Accuracy: 0.7945521885521886 \n",
            " \n",
            "Epoch: 16, Total Training Loss: 727.8481006622314, Epoch Accuracy: 0.7975286195286195 \n",
            " \n",
            "Epoch: 17, Total Training Loss: 719.1246703267097, Epoch Accuracy: 0.8001616161616162 \n",
            " \n",
            "Epoch: 18, Total Training Loss: 715.7394783496857, Epoch Accuracy: 0.801043771043771 \n",
            " \n",
            "Epoch: 19, Total Training Loss: 709.2608207762241, Epoch Accuracy: 0.8034545454545454 \n",
            " \n",
            "Epoch: 20, Total Training Loss: 702.827164247632, Epoch Accuracy: 0.8051043771043771 \n",
            " \n",
            "Epoch: 21, Total Training Loss: 698.2069325447083, Epoch Accuracy: 0.8066868686868687 \n",
            " \n",
            "Epoch: 22, Total Training Loss: 694.8327052593231, Epoch Accuracy: 0.8086060606060607 \n",
            " \n",
            "Epoch: 23, Total Training Loss: 687.9512678682804, Epoch Accuracy: 0.8102558922558922 \n",
            " \n",
            "Epoch: 24, Total Training Loss: 685.7294870167971, Epoch Accuracy: 0.810013468013468 \n",
            " \n",
            "Epoch: 25, Total Training Loss: 682.74080991745, Epoch Accuracy: 0.8108282828282828 \n",
            " \n",
            "Epoch: 26, Total Training Loss: 677.7153853476048, Epoch Accuracy: 0.8134074074074074 \n",
            " \n",
            "Epoch: 27, Total Training Loss: 673.5440140515566, Epoch Accuracy: 0.8145723905723906 \n",
            " \n",
            "Epoch: 28, Total Training Loss: 669.9127905070782, Epoch Accuracy: 0.8146666666666667 \n",
            " \n",
            "Epoch: 29, Total Training Loss: 664.3270946741104, Epoch Accuracy: 0.8172255892255892 \n",
            " \n",
            "Epoch: 30, Total Training Loss: 663.7338961958885, Epoch Accuracy: 0.8176430976430976 \n",
            " \n",
            "Epoch: 31, Total Training Loss: 661.3015570938587, Epoch Accuracy: 0.8182154882154882 \n",
            " \n",
            "Epoch: 32, Total Training Loss: 658.3839582204819, Epoch Accuracy: 0.8196430976430976 \n",
            " \n",
            "Epoch: 33, Total Training Loss: 657.4888447970152, Epoch Accuracy: 0.8194141414141414 \n",
            " \n",
            "Epoch: 34, Total Training Loss: 653.2976679801941, Epoch Accuracy: 0.8211851851851852 \n",
            " \n",
            "Epoch: 35, Total Training Loss: 649.7537614703178, Epoch Accuracy: 0.8223299663299664 \n",
            " \n",
            "Epoch: 36, Total Training Loss: 646.9294918477535, Epoch Accuracy: 0.8228417508417508 \n",
            " \n",
            "Epoch: 37, Total Training Loss: 646.2712299227715, Epoch Accuracy: 0.8232323232323232 \n",
            " \n",
            "Epoch: 38, Total Training Loss: 641.4658865332603, Epoch Accuracy: 0.8252929292929293 \n",
            " \n",
            "Epoch: 39, Total Training Loss: 642.2555790543556, Epoch Accuracy: 0.8247138047138047 \n",
            " \n",
            "Epoch: 40, Total Training Loss: 637.6566644906998, Epoch Accuracy: 0.8263501683501684 \n",
            " \n",
            "Epoch: 41, Total Training Loss: 636.6906661093235, Epoch Accuracy: 0.8272525252525252 \n",
            " \n",
            "Epoch: 42, Total Training Loss: 633.3783637732267, Epoch Accuracy: 0.8278114478114478 \n",
            " \n",
            "Epoch: 43, Total Training Loss: 634.7569322884083, Epoch Accuracy: 0.8263434343434344 \n",
            " \n",
            "Epoch: 44, Total Training Loss: 631.0138013064861, Epoch Accuracy: 0.827952861952862 \n",
            " \n",
            "Epoch: 45, Total Training Loss: 628.633390173316, Epoch Accuracy: 0.8283164983164983 \n",
            " \n",
            "Epoch: 46, Total Training Loss: 629.1336038410664, Epoch Accuracy: 0.8276296296296296 \n",
            " \n",
            "Epoch: 47, Total Training Loss: 626.8772485852242, Epoch Accuracy: 0.8301212121212121 \n",
            " \n",
            "Epoch: 48, Total Training Loss: 624.3206382095814, Epoch Accuracy: 0.8298316498316498 \n",
            " \n",
            "Epoch: 49, Total Training Loss: 620.7975112348795, Epoch Accuracy: 0.8314949494949495 \n",
            " \n",
            "Epoch: 50, Total Training Loss: 619.9570686370134, Epoch Accuracy: 0.830969696969697 \n",
            " \n",
            "Epoch: 51, Total Training Loss: 617.8154358714819, Epoch Accuracy: 0.8309831649831649 \n",
            " \n",
            "Epoch: 52, Total Training Loss: 615.086228236556, Epoch Accuracy: 0.83196632996633 \n",
            " \n",
            "Epoch: 53, Total Training Loss: 616.0140109062195, Epoch Accuracy: 0.8322962962962963 \n",
            " \n",
            "Epoch: 54, Total Training Loss: 614.6226812899113, Epoch Accuracy: 0.8320673400673401 \n",
            " \n",
            "Epoch: 55, Total Training Loss: 612.563941642642, Epoch Accuracy: 0.8327744107744107 \n",
            " \n",
            "Epoch: 56, Total Training Loss: 611.9974596500397, Epoch Accuracy: 0.8321144781144781 \n",
            " \n",
            "Epoch: 57, Total Training Loss: 611.7085980772972, Epoch Accuracy: 0.8332323232323232 \n",
            " \n",
            "Epoch: 58, Total Training Loss: 609.0378609150648, Epoch Accuracy: 0.8337979797979798 \n",
            " \n",
            "Epoch: 59, Total Training Loss: 607.9842019081116, Epoch Accuracy: 0.8345589225589226 \n",
            " \n",
            "Epoch: 60, Total Training Loss: 606.8423647433519, Epoch Accuracy: 0.834949494949495 \n",
            " \n",
            "Epoch: 61, Total Training Loss: 605.3692220896482, Epoch Accuracy: 0.835016835016835 \n",
            " \n",
            "Epoch: 62, Total Training Loss: 604.5711736828089, Epoch Accuracy: 0.835030303030303 \n",
            " \n",
            "Epoch: 63, Total Training Loss: 602.0627386868, Epoch Accuracy: 0.8362087542087542 \n",
            " \n",
            "Epoch: 64, Total Training Loss: 600.926374733448, Epoch Accuracy: 0.8361481481481482 \n",
            " \n",
            "Epoch: 65, Total Training Loss: 602.0835611075163, Epoch Accuracy: 0.8352659932659933 \n",
            " \n",
            "Epoch: 66, Total Training Loss: 600.8598840236664, Epoch Accuracy: 0.8362895622895623 \n",
            " \n",
            "Epoch: 67, Total Training Loss: 596.9731508344412, Epoch Accuracy: 0.8376430976430976 \n",
            " \n",
            "Epoch: 68, Total Training Loss: 599.3168703019619, Epoch Accuracy: 0.8359124579124579 \n",
            " \n",
            "Epoch: 69, Total Training Loss: 596.8036730289459, Epoch Accuracy: 0.8378787878787879 \n",
            " \n",
            "Epoch: 70, Total Training Loss: 595.9239015579224, Epoch Accuracy: 0.8382020202020202 \n",
            " \n",
            "Epoch: 71, Total Training Loss: 594.6683459728956, Epoch Accuracy: 0.8371447811447812 \n",
            " \n",
            "Epoch: 72, Total Training Loss: 594.2348109483719, Epoch Accuracy: 0.8374208754208754 \n",
            " \n",
            "Epoch: 73, Total Training Loss: 593.3702372759581, Epoch Accuracy: 0.8381481481481482 \n",
            " \n",
            "Epoch: 74, Total Training Loss: 592.6181311011314, Epoch Accuracy: 0.8375016835016835 \n",
            " \n",
            "Epoch: 75, Total Training Loss: 590.6782253682613, Epoch Accuracy: 0.8387003367003367 \n",
            " \n",
            "Epoch: 76, Total Training Loss: 589.3667960613966, Epoch Accuracy: 0.8389831649831649 \n",
            " \n",
            "Epoch: 77, Total Training Loss: 591.0507012605667, Epoch Accuracy: 0.8388888888888889 \n",
            " \n",
            "Epoch: 78, Total Training Loss: 587.8095809072256, Epoch Accuracy: 0.839050505050505 \n",
            " \n",
            "Epoch: 79, Total Training Loss: 588.4683653414249, Epoch Accuracy: 0.8387272727272728 \n",
            " \n",
            "Epoch: 80, Total Training Loss: 586.3760574609041, Epoch Accuracy: 0.8398653198653199 \n",
            " \n",
            "Epoch: 81, Total Training Loss: 586.0460062772036, Epoch Accuracy: 0.839952861952862 \n",
            " \n",
            "Epoch: 82, Total Training Loss: 584.6267232745886, Epoch Accuracy: 0.8405589225589225 \n",
            " \n",
            "Epoch: 83, Total Training Loss: 583.6595491021872, Epoch Accuracy: 0.8409696969696969 \n",
            " \n",
            "Epoch: 84, Total Training Loss: 584.1286377310753, Epoch Accuracy: 0.8398855218855219 \n",
            " \n",
            "Epoch: 85, Total Training Loss: 581.588191345334, Epoch Accuracy: 0.8411245791245792 \n",
            " \n",
            "Epoch: 86, Total Training Loss: 582.8902125954628, Epoch Accuracy: 0.8404175084175084 \n",
            " \n",
            "Epoch: 87, Total Training Loss: 582.497399315238, Epoch Accuracy: 0.840949494949495 \n",
            " \n",
            "Epoch: 88, Total Training Loss: 580.5928846597672, Epoch Accuracy: 0.8415555555555555 \n",
            " \n",
            "Epoch: 89, Total Training Loss: 579.5152549594641, Epoch Accuracy: 0.8414478114478114 \n",
            " \n",
            "Epoch: 90, Total Training Loss: 580.7976046055555, Epoch Accuracy: 0.8413872053872054 \n",
            " \n",
            "Epoch: 91, Total Training Loss: 579.4584251642227, Epoch Accuracy: 0.8416161616161616 \n",
            " \n",
            "Epoch: 92, Total Training Loss: 578.9539134353399, Epoch Accuracy: 0.8407878787878788 \n",
            " \n",
            "Epoch: 93, Total Training Loss: 577.3501897603273, Epoch Accuracy: 0.841993265993266 \n",
            " \n",
            "Epoch: 94, Total Training Loss: 577.5130748450756, Epoch Accuracy: 0.8435084175084175 \n",
            " \n",
            "Epoch: 95, Total Training Loss: 577.1372752040625, Epoch Accuracy: 0.8417239057239058 \n",
            " \n",
            "Epoch: 96, Total Training Loss: 578.1576728522778, Epoch Accuracy: 0.8421548821548821 \n",
            " \n",
            "Epoch: 97, Total Training Loss: 574.4749435931444, Epoch Accuracy: 0.8436026936026936 \n",
            " \n",
            "Epoch: 98, Total Training Loss: 572.048193871975, Epoch Accuracy: 0.8428417508417508 \n",
            " \n",
            "Epoch: 99, Total Training Loss: 574.0980059206486, Epoch Accuracy: 0.8426801346801347 \n",
            " \n",
            "Epoch: 100, Total Training Loss: 573.5797650068998, Epoch Accuracy: 0.8435622895622895 \n",
            " \n",
            "Training Finished!\n",
            "Best Accuracy Model was : 0.84\n"
          ]
        }
      ]
    },
    {
      "cell_type": "markdown",
      "source": [
        "(h) Store your model somewhere safe. Both TF and PT provide a nice way to save the net\n",
        "parameters."
      ],
      "metadata": {
        "id": "YBpqXmDl-FGB"
      }
    },
    {
      "cell_type": "code",
      "source": [
        "torch.save(bst_model.state_dict(), \"/content/drive/My Drive/DLS_Assignments/3/Q2_pt_model_state_dict.pt\")\n",
        "torch.save(bst_opt_state_dict, \"/content/drive/My Drive/DLS_Assignments/3/Q2_pt_opt_dict.pt\")"
      ],
      "metadata": {
        "id": "_sy4VoZKjFco"
      },
      "execution_count": null,
      "outputs": []
    },
    {
      "cell_type": "markdown",
      "source": [
        "**3.** **The baseline:** \\\\\n",
        "(a) Train a classifier from scratch on the 500 CIFAR10 dataset you set aside in the begining. \n",
        "Note that they are for the original 10-class classification problem, and you ARE doing\n",
        "the original CIFAR10 classification, except that you use a ridiculously small amount of\n",
        "dataset. Let’s stick to the same architecture/setup. You may need to choose a reasonable\n",
        "initializer, e.g., the He initializer. You know, since the training set is too small, you may\n",
        "not even have to do batching. \\\\\n",
        "(b) Let’s cheat here and use the test set of 10,000 examples as if they are our validation set.\n",
        "If you check on the test accuracy at every 100th epoch, you will see it overfit at some\n",
        "point. Record the accuracy values over iterations."
      ],
      "metadata": {
        "id": "mGGc3HSO-NlX"
      }
    },
    {
      "cell_type": "code",
      "source": [
        "# Scale Data into [-1,1] range from [0,1]\n",
        "\n",
        "small_data = ((small_data * 2) - 1) "
      ],
      "metadata": {
        "id": "XSHT89VBjFfE"
      },
      "execution_count": null,
      "outputs": []
    },
    {
      "cell_type": "code",
      "source": [
        "# Convert to torch tensors\n",
        "\n",
        "small_data = torch.from_numpy(small_data)\n",
        "small_data_labels = torch.from_numpy(small_data_labels)\n",
        "\n",
        "test_data = torch.from_numpy(test_data)\n",
        "test_labels = torch.from_numpy(test_labels)\n",
        "\n",
        "print(small_data.shape)\n",
        "print(test_data.shape)"
      ],
      "metadata": {
        "colab": {
          "base_uri": "https://localhost:8080/"
        },
        "id": "jgD2dTdcBgCX",
        "outputId": "d6b01793-51eb-47f3-8206-1651f36a637a"
      },
      "execution_count": null,
      "outputs": [
        {
          "output_type": "stream",
          "name": "stdout",
          "text": [
            "torch.Size([500, 3, 32, 32])\n",
            "torch.Size([10000, 3, 32, 32])\n"
          ]
        }
      ]
    },
    {
      "cell_type": "code",
      "source": [
        "# Set Hyperparameters\n",
        "n_epochs = 10000 # max_epochs\n",
        "batch_size_train = 10\n",
        "batch_size_test = 100\n",
        "learning_rate = 0.001 # learn rate\n",
        "log_interval = 100 # log every _ epoch\n",
        "\n",
        "patience = 20  # epochs after which training should stop if no improvement"
      ],
      "metadata": {
        "id": "0fc76nVFBgCX"
      },
      "execution_count": null,
      "outputs": []
    },
    {
      "cell_type": "code",
      "source": [
        "# Get Datasets\n",
        "from torch.utils.data import TensorDataset, DataLoader\n",
        "\n",
        "Train_dataset = TensorDataset(small_data, small_data_labels)\n",
        "\n",
        "train_loader = torch.utils.data.DataLoader(Train_dataset,batch_size=batch_size_train, shuffle=True)\n",
        "\n",
        "Test_dataset = TensorDataset(test_data, test_labels)\n",
        "\n",
        "test_loader = torch.utils.data.DataLoader(Test_dataset,batch_size=batch_size_test, shuffle=False)"
      ],
      "metadata": {
        "id": "PoNweK16BgCX"
      },
      "execution_count": null,
      "outputs": []
    },
    {
      "cell_type": "code",
      "source": [
        "# Building the network\n",
        "import torch.nn as nn\n",
        "import torch.nn.functional as F\n",
        "import torch.optim as optim\n",
        "\n",
        "class CNN2D_base_network(nn.Module):\n",
        "    def __init__(self):\n",
        "        super().__init__()\n",
        "        \n",
        "        self.conv2d = nn.Conv2d(in_channels = 3,\n",
        "                                out_channels = 10, # number filters\n",
        "                                kernel_size = (5,5), # size of kernel\n",
        "                                padding = 'same',    \n",
        "                                stride = (1,1) # stride of conv\n",
        "          \n",
        "        ) \n",
        "        self.conv2d_2 = nn.Conv2d(in_channels = 10,\n",
        "                                out_channels = 10, # number filters\n",
        "                                kernel_size = (5,5), # size of kernel\n",
        "                                padding = 'same',\n",
        "                                stride = (1,1) # stride of \n",
        "                       \n",
        "        ) \n",
        "        self.maxpool2d = nn.MaxPool2d(kernel_size = (2,2),stride=2)\n",
        "        \n",
        "        self.fc1 = nn.Linear(640, 20)\n",
        "        self.fc2 = nn.Linear(20, 10)\n",
        "        \n",
        "\n",
        "        \n",
        "        # Define extra layers \n",
        "        self.ReLU = nn.ReLU()\n",
        "        #self.LeakyReLU = nn.LeakyReLU()\n",
        "        #self.Dropout_1 = nn.Dropout(p=.2)\n",
        "        #self.GroupNorm = nn.GroupNorm(group_num, 1024)\n",
        "        \n",
        "    def forward(self, x):\n",
        "      \n",
        "        # Pass the input tensor through each of our operations\n",
        "\n",
        "\n",
        "        x = self.conv2d(x)\n",
        "        x = self.ReLU(x)\n",
        "\n",
        "        x = self.maxpool2d(x)\n",
        " \n",
        "        x = self.conv2d_2(x)\n",
        "        x = self.ReLU(x)\n",
        "\n",
        "        x = self.maxpool2d(x)\n",
        "        x = torch.flatten(x, start_dim=1)\n",
        "        x = self.fc1(x)\n",
        "        x = self.ReLU(x)\n",
        "\n",
        "        x = self.fc2(x)\n",
        "        x = self.ReLU(x)\n",
        "\n",
        "        return x"
      ],
      "metadata": {
        "id": "vY6ODYsTC3_b"
      },
      "execution_count": null,
      "outputs": []
    },
    {
      "cell_type": "code",
      "source": [
        "import math\n",
        "def weight_init(m):\n",
        "  if isinstance(m, nn.Linear):\n",
        "    torch.nn.init.kaiming_uniform_(m.weight, nonlinearity = 'relu') # using uniform dists\n",
        "    torch.nn.init.zeros_(m.bias) # fill bias with zeros\n",
        "  elif isinstance(m, nn.Conv2d):\n",
        "    torch.nn.init.kaiming_uniform_(m.weight, nonlinearity = 'relu') # using uniform dists\n",
        "    torch.nn.init.zeros_(m.bias) # fill bias with zeros\n",
        "\n",
        "# Send model to GPU\n",
        "CNN2D_base_network = CNN2D_base_network().to(device)\n",
        "CNN2D_base_network.apply(weight_init)\n",
        "CNN2D_base_network = CNN2D_base_network.float()\n",
        "print(CNN2D_base_network)"
      ],
      "metadata": {
        "colab": {
          "base_uri": "https://localhost:8080/"
        },
        "outputId": "d8e360b4-d10e-41cc-f9df-cb772204a14a",
        "id": "dCgd4bRjC3_b"
      },
      "execution_count": null,
      "outputs": [
        {
          "output_type": "stream",
          "name": "stdout",
          "text": [
            "CNN2D_base_network(\n",
            "  (conv2d): Conv2d(3, 10, kernel_size=(5, 5), stride=(1, 1), padding=same)\n",
            "  (conv2d_2): Conv2d(10, 10, kernel_size=(5, 5), stride=(1, 1), padding=same)\n",
            "  (maxpool2d): MaxPool2d(kernel_size=(2, 2), stride=2, padding=0, dilation=1, ceil_mode=False)\n",
            "  (fc1): Linear(in_features=640, out_features=20, bias=True)\n",
            "  (fc2): Linear(in_features=20, out_features=10, bias=True)\n",
            "  (ReLU): ReLU()\n",
            ")\n"
          ]
        }
      ]
    },
    {
      "cell_type": "code",
      "source": [
        "# Define optimizer and loss\n",
        "optimizer = torch.optim.Adam(CNN2D_base_network.parameters(), lr = learning_rate)\n",
        "loss_func = nn.CrossEntropyLoss()"
      ],
      "metadata": {
        "id": "_EkO4wPjC3_b"
      },
      "execution_count": null,
      "outputs": []
    },
    {
      "cell_type": "code",
      "source": [
        "# Results of Training\n",
        "bst_prediction_array = None\n",
        "bst_test_data = None\n",
        "bst_test_labels = None\n",
        "bst_accuracy = 0 # captures best accuracy\n",
        "bst_model = None\n",
        "bst_model_state_dict = None\n",
        "bst_opt_state_dict = None\n",
        "validation_acc_list = []\n",
        "\n",
        "Training_Result = (bst_prediction_array, bst_test_data, bst_test_labels, bst_accuracy, bst_model, bst_model_state_dict, bst_opt_state_dict, validation_acc_list)"
      ],
      "metadata": {
        "id": "7MTP9uAmC3_b"
      },
      "execution_count": null,
      "outputs": []
    },
    {
      "cell_type": "code",
      "source": [
        "from sklearn.metrics import accuracy_score\n",
        "\n",
        "# Train Function\n",
        "def train(Training_Result_p):\n",
        "\n",
        "  bst_prediction_array, bst_test_data, bst_test_labels, bst_accuracy, bst_model, bst_model_state_dict, bst_opt_state_dict, validation_acc_list = Training_Result_p\n",
        "\n",
        "  # Train parameters\n",
        "  epoch = 1 # starting epoch\n",
        " \n",
        "  print(\"Training model\")\n",
        "\n",
        "  while ( (epoch <= n_epochs) ):\n",
        "    \n",
        "    # Training\n",
        "    CNN2D_base_network.train()\n",
        "    train_loss = 0 # calc train loss\n",
        "    for batch_idx, (data, target) in enumerate(train_loader):\n",
        "\n",
        "      # Prepare batch data and labels\n",
        "      data = data.to(device)\n",
        "      batch_labels = target.to(device)\n",
        "\n",
        "      # Forward pass\n",
        "      batch_outputs = CNN2D_base_network(data.float())\n",
        "      loss = loss_func(batch_outputs, batch_labels)\n",
        "\n",
        "      # Backward and optimize\n",
        "      optimizer.zero_grad()\n",
        "      loss.backward()\n",
        "      optimizer.step()\n",
        "\n",
        "      train_loss += loss.item() # increment train loss for epoch\n",
        "\n",
        "\n",
        "    # Logging\n",
        "    if ( epoch % log_interval == 0 or epoch == 1 ) :\n",
        "\n",
        "      # Evaluation \n",
        "      CNN2D_base_network.eval()\n",
        "      lbl_list = []\n",
        "      pred_list = []\n",
        "      with torch.no_grad():\n",
        "        for data, target in test_loader:\n",
        "          \n",
        "          data = data.to(device)\n",
        "          test_batch_labels = target.numpy()\n",
        "          test_batch_pred = F.softmax(CNN2D_base_network.forward(data.float()), dim = 1).argmax(dim=1, keepdim=True).cpu().numpy()\n",
        "\n",
        "\n",
        "          lbl_list.append(test_batch_labels)\n",
        "          pred_list.append(test_batch_pred)\n",
        "          \n",
        "\n",
        "      lbl_array = np.concatenate(lbl_list, axis=0)\n",
        "      pred_array = np.concatenate(pred_list, axis=0)\n",
        "\n",
        "      epoch_acc = accuracy_score(lbl_array,pred_array)\n",
        "\n",
        "      validation_acc_list.append(epoch_acc)\n",
        "\n",
        "      print(\"Epoch: {}, Total Training Loss: {}, Test Accuracy: {} \\n \".format(epoch, train_loss, epoch_acc))\n",
        "    # increment epoch\n",
        "    epoch += 1\n",
        "  \n",
        "  print(\"Training Finished!\")\n",
        "  Training_Return = (bst_prediction_array, bst_test_data, bst_test_labels, bst_accuracy, bst_model, bst_model_state_dict, bst_opt_state_dict, validation_acc_list)\n",
        "  return Training_Return"
      ],
      "metadata": {
        "id": "IGGau8OKC3_b"
      },
      "execution_count": null,
      "outputs": []
    },
    {
      "cell_type": "code",
      "source": [
        "# Train \n",
        "res = train(Training_Result)\n",
        "\n",
        "bst_prediction_array, bst_test_data, bst_test_labels, bst_accuracy, bst_model, bst_model_state_dict, bst_opt_state_dict, validation_acc_list = res\n"
      ],
      "metadata": {
        "colab": {
          "base_uri": "https://localhost:8080/"
        },
        "outputId": "fd93fafc-da4c-494d-e902-3d99c28b95f1",
        "id": "rRNwwy2YC3_c"
      },
      "execution_count": null,
      "outputs": [
        {
          "output_type": "stream",
          "name": "stdout",
          "text": [
            "Training model\n",
            "Epoch: 1, Total Training Loss: 115.69924569129944, Test Accuracy: 0.142 \n",
            " \n",
            "Epoch: 100, Total Training Loss: 36.09155207872391, Test Accuracy: 0.3228 \n",
            " \n",
            "Epoch: 200, Total Training Loss: 44.082738399505615, Test Accuracy: 0.2851 \n",
            " \n",
            "Epoch: 300, Total Training Loss: 35.74084047981887, Test Accuracy: 0.2819 \n",
            " \n",
            "Epoch: 400, Total Training Loss: 32.93256093662967, Test Accuracy: 0.3074 \n",
            " \n",
            "Epoch: 500, Total Training Loss: 32.92793072437598, Test Accuracy: 0.2937 \n",
            " \n",
            "Epoch: 600, Total Training Loss: 32.23665682632094, Test Accuracy: 0.3005 \n",
            " \n",
            "Epoch: 700, Total Training Loss: 32.23693756628563, Test Accuracy: 0.2879 \n",
            " \n",
            "Epoch: 800, Total Training Loss: 32.00790850818157, Test Accuracy: 0.2864 \n",
            " \n",
            "Epoch: 900, Total Training Loss: 32.00606305294809, Test Accuracy: 0.2951 \n",
            " \n",
            "Epoch: 1000, Total Training Loss: 31.54951997072203, Test Accuracy: 0.2735 \n",
            " \n",
            "Epoch: 1100, Total Training Loss: 31.545510187706213, Test Accuracy: 0.2819 \n",
            " \n",
            "Epoch: 1200, Total Training Loss: 31.54542503952962, Test Accuracy: 0.288 \n",
            " \n",
            "Epoch: 1300, Total Training Loss: 32.00723046065832, Test Accuracy: 0.2806 \n",
            " \n",
            "Epoch: 1400, Total Training Loss: 31.545547050188162, Test Accuracy: 0.2921 \n",
            " \n",
            "Epoch: 1500, Total Training Loss: 31.54543000459671, Test Accuracy: 0.2928 \n",
            " \n",
            "Epoch: 1600, Total Training Loss: 31.54563282430172, Test Accuracy: 0.2712 \n",
            " \n",
            "Epoch: 1700, Total Training Loss: 31.545437562462467, Test Accuracy: 0.276 \n",
            " \n",
            "Epoch: 1800, Total Training Loss: 31.54541738331318, Test Accuracy: 0.28 \n",
            " \n",
            "Epoch: 1900, Total Training Loss: 31.31561761498267, Test Accuracy: 0.271 \n",
            " \n",
            "Epoch: 2000, Total Training Loss: 31.315200525456515, Test Accuracy: 0.2747 \n",
            " \n",
            "Epoch: 2100, Total Training Loss: 31.315161728858854, Test Accuracy: 0.2792 \n",
            " \n",
            "Epoch: 2200, Total Training Loss: 31.31515728831291, Test Accuracy: 0.2822 \n",
            " \n",
            "Epoch: 2300, Total Training Loss: 31.31515720486641, Test Accuracy: 0.2818 \n",
            " \n",
            "Epoch: 2400, Total Training Loss: 31.315157517790794, Test Accuracy: 0.2812 \n",
            " \n",
            "Epoch: 2500, Total Training Loss: 31.315157115459442, Test Accuracy: 0.2843 \n",
            " \n",
            "Epoch: 2600, Total Training Loss: 31.77576981745665, Test Accuracy: 0.2644 \n",
            " \n",
            "Epoch: 2700, Total Training Loss: 31.08494843536164, Test Accuracy: 0.2656 \n",
            " \n",
            "Epoch: 2800, Total Training Loss: 31.08490625023842, Test Accuracy: 0.2668 \n",
            " \n",
            "Epoch: 2900, Total Training Loss: 31.084899365901887, Test Accuracy: 0.2716 \n",
            " \n",
            "Epoch: 3000, Total Training Loss: 31.08489854633808, Test Accuracy: 0.2739 \n",
            " \n",
            "Epoch: 3100, Total Training Loss: 31.084898874163628, Test Accuracy: 0.2744 \n",
            " \n",
            "Epoch: 3200, Total Training Loss: 31.084898680448532, Test Accuracy: 0.275 \n",
            " \n",
            "Epoch: 3300, Total Training Loss: 31.08803004026413, Test Accuracy: 0.2767 \n",
            " \n",
            "Epoch: 3400, Total Training Loss: 31.315215176343777, Test Accuracy: 0.267 \n",
            " \n",
            "Epoch: 3500, Total Training Loss: 31.31516382098151, Test Accuracy: 0.2703 \n",
            " \n",
            "Epoch: 3600, Total Training Loss: 31.31515754461288, Test Accuracy: 0.2732 \n",
            " \n",
            "Epoch: 3700, Total Training Loss: 31.54584029912948, Test Accuracy: 0.2395 \n",
            " \n",
            "Epoch: 3800, Total Training Loss: 31.54545553324394, Test Accuracy: 0.2407 \n",
            " \n",
            "Epoch: 3900, Total Training Loss: 31.545420587062836, Test Accuracy: 0.2449 \n",
            " \n",
            "Epoch: 4000, Total Training Loss: 31.545416101813316, Test Accuracy: 0.2495 \n",
            " \n",
            "Epoch: 4100, Total Training Loss: 31.31523536145687, Test Accuracy: 0.2641 \n",
            " \n",
            "Epoch: 4200, Total Training Loss: 31.315165698523742, Test Accuracy: 0.2644 \n",
            " \n",
            "Epoch: 4300, Total Training Loss: 31.315158116817415, Test Accuracy: 0.2669 \n",
            " \n",
            "Epoch: 4400, Total Training Loss: 31.31616852581226, Test Accuracy: 0.2741 \n",
            " \n",
            "Epoch: 4500, Total Training Loss: 31.315177297559558, Test Accuracy: 0.2756 \n",
            " \n",
            "Epoch: 4600, Total Training Loss: 31.315159168838914, Test Accuracy: 0.2767 \n",
            " \n",
            "Epoch: 4700, Total Training Loss: 32.70000360906124, Test Accuracy: 0.2587 \n",
            " \n",
            "Epoch: 4800, Total Training Loss: 31.084938436746597, Test Accuracy: 0.2575 \n",
            " \n",
            "Epoch: 4900, Total Training Loss: 31.084902790188764, Test Accuracy: 0.2591 \n",
            " \n",
            "Epoch: 5000, Total Training Loss: 31.08489890396595, Test Accuracy: 0.2618 \n",
            " \n",
            "Epoch: 5100, Total Training Loss: 37.77353656098421, Test Accuracy: 0.2517 \n",
            " \n",
            "Epoch: 5200, Total Training Loss: 31.084911793470383, Test Accuracy: 0.2554 \n",
            " \n",
            "Epoch: 5300, Total Training Loss: 31.084899976849556, Test Accuracy: 0.258 \n",
            " \n",
            "Epoch: 5400, Total Training Loss: 31.08489866554737, Test Accuracy: 0.2608 \n",
            " \n",
            "Epoch: 5500, Total Training Loss: 31.084898605942726, Test Accuracy: 0.261 \n",
            " \n",
            "Epoch: 5600, Total Training Loss: 31.08489879965782, Test Accuracy: 0.2605 \n",
            " \n",
            "Epoch: 5700, Total Training Loss: 31.084946992993345, Test Accuracy: 0.2643 \n",
            " \n",
            "Epoch: 5800, Total Training Loss: 31.084903806447983, Test Accuracy: 0.2648 \n",
            " \n",
            "Epoch: 5900, Total Training Loss: 31.084899380802952, Test Accuracy: 0.2655 \n",
            " \n",
            "Epoch: 6000, Total Training Loss: 31.526650294288956, Test Accuracy: 0.2422 \n",
            " \n",
            "Epoch: 6100, Total Training Loss: 30.624395564198494, Test Accuracy: 0.2511 \n",
            " \n",
            "Epoch: 6200, Total Training Loss: 30.624383211135864, Test Accuracy: 0.2517 \n",
            " \n",
            "Epoch: 6300, Total Training Loss: 30.624381762742996, Test Accuracy: 0.2523 \n",
            " \n",
            "Epoch: 6400, Total Training Loss: 30.62438179552555, Test Accuracy: 0.2529 \n",
            " \n",
            "Epoch: 6500, Total Training Loss: 31.545440778136253, Test Accuracy: 0.2401 \n",
            " \n",
            "Epoch: 6600, Total Training Loss: 31.5454181432724, Test Accuracy: 0.2422 \n",
            " \n",
            "Epoch: 6700, Total Training Loss: 31.545415863394737, Test Accuracy: 0.2435 \n",
            " \n",
            "Epoch: 6800, Total Training Loss: 31.54541601240635, Test Accuracy: 0.244 \n",
            " \n",
            "Epoch: 6900, Total Training Loss: 31.54541566967964, Test Accuracy: 0.245 \n",
            " \n",
            "Epoch: 7000, Total Training Loss: 31.54541577398777, Test Accuracy: 0.2443 \n",
            " \n",
            "Epoch: 7100, Total Training Loss: 30.62439924478531, Test Accuracy: 0.2705 \n",
            " \n",
            "Epoch: 7200, Total Training Loss: 30.624382987618446, Test Accuracy: 0.27 \n",
            " \n",
            "Epoch: 7300, Total Training Loss: 30.62438176572323, Test Accuracy: 0.2711 \n",
            " \n",
            "Epoch: 7400, Total Training Loss: 30.624381586909294, Test Accuracy: 0.2711 \n",
            " \n",
            "Epoch: 7500, Total Training Loss: 30.624381810426712, Test Accuracy: 0.2696 \n",
            " \n",
            "Epoch: 7600, Total Training Loss: 30.624381691217422, Test Accuracy: 0.2683 \n",
            " \n",
            "Epoch: 7700, Total Training Loss: 31.08490856885824, Test Accuracy: 0.264 \n",
            " \n",
            "Epoch: 7800, Total Training Loss: 31.08489992916583, Test Accuracy: 0.2647 \n",
            " \n",
            "Epoch: 7900, Total Training Loss: 31.3153205960989, Test Accuracy: 0.2762 \n",
            " \n",
            "Epoch: 8000, Total Training Loss: 31.315171480178833, Test Accuracy: 0.277 \n",
            " \n",
            "Epoch: 8100, Total Training Loss: 31.31515857577324, Test Accuracy: 0.279 \n",
            " \n",
            "Epoch: 8200, Total Training Loss: 31.315157040953636, Test Accuracy: 0.2789 \n",
            " \n",
            "Epoch: 8300, Total Training Loss: 31.315157309174538, Test Accuracy: 0.2794 \n",
            " \n",
            "Epoch: 8400, Total Training Loss: 31.315157562494278, Test Accuracy: 0.2795 \n",
            " \n",
            "Epoch: 8500, Total Training Loss: 31.31515721976757, Test Accuracy: 0.2793 \n",
            " \n",
            "Epoch: 8600, Total Training Loss: 32.696734794974326, Test Accuracy: 0.2603 \n",
            " \n",
            "Epoch: 8700, Total Training Loss: 32.696711495518684, Test Accuracy: 0.2613 \n",
            " \n",
            "Epoch: 8800, Total Training Loss: 31.315171271562306, Test Accuracy: 0.2464 \n",
            " \n",
            "Epoch: 8900, Total Training Loss: 31.31515846550454, Test Accuracy: 0.2477 \n",
            " \n",
            "Epoch: 9000, Total Training Loss: 31.315157455205917, Test Accuracy: 0.2491 \n",
            " \n",
            "Epoch: 9100, Total Training Loss: 31.315157398581505, Test Accuracy: 0.2487 \n",
            " \n",
            "Epoch: 9200, Total Training Loss: 31.31515735387802, Test Accuracy: 0.2479 \n",
            " \n",
            "Epoch: 9300, Total Training Loss: 31.315157547593117, Test Accuracy: 0.2483 \n",
            " \n",
            "Epoch: 9400, Total Training Loss: 31.315157413482666, Test Accuracy: 0.2476 \n",
            " \n",
            "Epoch: 9500, Total Training Loss: 31.315157309174538, Test Accuracy: 0.2465 \n",
            " \n",
            "Epoch: 9600, Total Training Loss: 31.315157130360603, Test Accuracy: 0.2466 \n",
            " \n",
            "Epoch: 9700, Total Training Loss: 31.315157249569893, Test Accuracy: 0.2465 \n",
            " \n",
            "Epoch: 9800, Total Training Loss: 31.315157502889633, Test Accuracy: 0.2464 \n",
            " \n",
            "Epoch: 9900, Total Training Loss: 31.31515747308731, Test Accuracy: 0.2463 \n",
            " \n",
            "Epoch: 10000, Total Training Loss: 31.3151573240757, Test Accuracy: 0.2462 \n",
            " \n",
            "Training Finished!\n"
          ]
        }
      ]
    },
    {
      "cell_type": "code",
      "source": [
        "CNN2D_base_network.eval()\n",
        "lbl_list = []\n",
        "pred_list = []\n",
        "with torch.no_grad():\n",
        "  for data, target in train_loader:\n",
        "    \n",
        "    data = data.to(device)\n",
        "    test_batch_labels = target.numpy()\n",
        "    test_batch_pred = F.softmax(CNN2D_base_network.forward(data.float()), dim = 1).argmax(dim=1, keepdim=True).cpu().numpy()\n",
        "\n",
        "\n",
        "    lbl_list.append(test_batch_labels)\n",
        "    pred_list.append(test_batch_pred)\n",
        "    \n",
        "\n",
        "lbl_array = np.concatenate(lbl_list, axis=0)\n",
        "pred_array = np.concatenate(pred_list, axis=0)\n",
        "\n",
        "epoch_acc = accuracy_score(lbl_array,pred_array)\n",
        "print(epoch_acc)"
      ],
      "metadata": {
        "colab": {
          "base_uri": "https://localhost:8080/"
        },
        "id": "yrBnPBp4HKuL",
        "outputId": "90827b3e-8e5b-4bef-fd19-182d2297f136"
      },
      "execution_count": null,
      "outputs": [
        {
          "output_type": "stream",
          "name": "stdout",
          "text": [
            "0.812\n"
          ]
        }
      ]
    },
    {
      "cell_type": "code",
      "source": [
        "import pickle\n",
        "\n",
        "with open(\"/content/drive/My Drive/DLS_Assignments/3/Q2_P1_res\", \"wb\") as fp:   \n",
        "  pickle.dump(validation_acc_list, fp)"
      ],
      "metadata": {
        "id": "zRtnPu3jQgLy"
      },
      "execution_count": null,
      "outputs": []
    },
    {
      "cell_type": "code",
      "source": [
        "import pickle\n",
        "\n",
        "with open(\"/content/drive/My Drive/DLS_Assignments/3/Q2_P1_res\", \"rb\") as fp:   \n",
        "  validation_acc_list = pickle.load(fp)"
      ],
      "metadata": {
        "id": "YlS7ewkrQgLy"
      },
      "execution_count": null,
      "outputs": []
    },
    {
      "cell_type": "code",
      "source": [
        "# plot Baseline\n",
        "\n",
        "x = np.arange(100)\n",
        "\n",
        "plt.plot(x, validation_acc_list[1:], label = 'Baseline Model')\n",
        "\n",
        "fig = plt.gcf()\n",
        "fig.set_size_inches(18.5, 10.5)\n",
        "\n",
        "fig.suptitle('Baseline Model w/ small dataset on CIFAR10', fontsize=20)\n",
        "plt.xlabel('Hundred(s) of Epochs', fontsize=18)\n",
        "plt.ylabel('Validation Accuracy', fontsize=16)\n",
        "\n",
        "ax = plt.gca()\n",
        "ax.set_xlim([0, 100])\n",
        "ax.set_ylim([0, 1.0])\n",
        "\n",
        "plt.legend()\n",
        "plt.show()"
      ],
      "metadata": {
        "colab": {
          "base_uri": "https://localhost:8080/",
          "height": 716
        },
        "id": "VLVppm_VKP2y",
        "outputId": "8c3b66f3-5a45-484f-904c-a8a916041579"
      },
      "execution_count": null,
      "outputs": [
        {
          "output_type": "display_data",
          "data": {
            "text/plain": [
              "<Figure size 1332x756 with 1 Axes>"
            ],
            "image/png": "[encoded data removed]"
          },
          "metadata": {
            "needs_background": "light"
          }
        }
      ]
    },
    {
      "cell_type": "markdown",
      "source": [
        "4. **The transfer learning task:** \\\\\n",
        "(a) Let’s train our third classifier on the 500 CIFAR10 dataset you set aside in the begining. \n",
        "Again, note that they are for the original 10-class classification problem. \\\\\n",
        "(b) This time, instead of using an initializer, you will reload the weights from the pretext\n",
        "network you learned in P2.2. Yes, that’s exactly the definition of transfer learning. But,\n",
        "because you learned it from an unlabeled set, and had to create a pretext task to do so,\n",
        "it falls in the category of self-supervised learning. \\\\\n",
        "(c) Note that you can trasfer all the parameters in except for the final softmax layer, as\n",
        "the pretext task is only with 3 classes. Let’s randomly initialize this last softmax layer\n",
        "parameters with He."
      ],
      "metadata": {
        "id": "EW5TiDNbasNO"
      }
    },
    {
      "cell_type": "code",
      "source": [
        "# Set Hyperparameters\n",
        "n_epochs = 10000 # max_epochs\n",
        "batch_size_train = 10\n",
        "batch_size_test = 100\n",
        "learning_rate = 0.001 # learn rate\n",
        "log_interval = 100 # log every _ epoch\n",
        "\n",
        "patience = 20  # epochs after which training should stop if no improvement"
      ],
      "metadata": {
        "id": "Rtbr4BgMaWNL"
      },
      "execution_count": null,
      "outputs": []
    },
    {
      "cell_type": "code",
      "source": [
        "# Building the network\n",
        "import torch.nn as nn\n",
        "import torch.nn.functional as F\n",
        "import torch.optim as optim\n",
        "\n",
        "class CNN2D_transfer_network(nn.Module):\n",
        "    def __init__(self):\n",
        "        super().__init__()\n",
        "        \n",
        "        self.conv2d = nn.Conv2d(in_channels = 3,\n",
        "                                out_channels = 10, # number filters\n",
        "                                kernel_size = (5,5), # size of kernel\n",
        "                                padding = 'same',    \n",
        "                                stride = (1,1) # stride of conv\n",
        "          \n",
        "        ) \n",
        "        self.conv2d_2 = nn.Conv2d(in_channels = 10,\n",
        "                                out_channels = 10, # number filters\n",
        "                                kernel_size = (5,5), # size of kernel\n",
        "                                padding = 'same',\n",
        "                                stride = (1,1) # stride of \n",
        "                       \n",
        "        ) \n",
        "        self.maxpool2d = nn.MaxPool2d(kernel_size = (2,2),stride=2)\n",
        "        \n",
        "        self.fc7 = nn.Linear(640, 20)\n",
        "        self.fc3 = nn.Linear(20, 10)\n",
        "        \n",
        "\n",
        "        \n",
        "        # Define extra layers \n",
        "        self.ReLU = nn.ReLU()\n",
        "        #self.LeakyReLU = nn.LeakyReLU()\n",
        "        #self.Dropout_1 = nn.Dropout(p=.2)\n",
        "        #self.GroupNorm = nn.GroupNorm(group_num, 1024)\n",
        "        \n",
        "    def forward(self, x):\n",
        "      \n",
        "        # Pass the input tensor through each of our operations\n",
        "\n",
        "\n",
        "        x = self.conv2d(x)\n",
        "        x = self.ReLU(x)\n",
        "\n",
        "        x = self.maxpool2d(x)\n",
        " \n",
        "        x = self.conv2d_2(x)\n",
        "        x = self.ReLU(x)\n",
        "\n",
        "        x = self.maxpool2d(x)\n",
        "        x = torch.flatten(x, start_dim=1)\n",
        "        x = self.fc7(x)\n",
        "        x = self.ReLU(x)\n",
        "\n",
        "        x = self.fc3(x)\n",
        "        x = self.ReLU(x)\n",
        "\n",
        "        return x"
      ],
      "metadata": {
        "id": "J77r1OtjbRCj"
      },
      "execution_count": null,
      "outputs": []
    },
    {
      "cell_type": "code",
      "source": [
        "# import math\n",
        "# def weight_init(m):\n",
        "#   if isinstance(m, nn.Linear):\n",
        "#     torch.nn.init.kaiming_uniform_(m.weight, nonlinearity = 'relu') # using uniform dists\n",
        "#     torch.nn.init.zeros_(m.bias) # fill bias with zeros\n",
        "#   elif isinstance(m, nn.Conv2d):\n",
        "#     torch.nn.init.kaiming_uniform_(m.weight, nonlinearity = 'relu') # using uniform dists\n",
        "#     torch.nn.init.zeros_(m.bias) # fill bias with zeros\n",
        "\n",
        "# Send model to GPU\n",
        "CNN2D_transfer_network = CNN2D_transfer_network().to(device)\n",
        "# CNN2D_base_network.apply(weight_init)\n",
        "CNN2D_transfer_network = CNN2D_transfer_network.float()\n",
        "print(CNN2D_transfer_network)"
      ],
      "metadata": {
        "colab": {
          "base_uri": "https://localhost:8080/"
        },
        "id": "l19c8D54bdOf",
        "outputId": "48ab6417-b27e-4b40-87b7-4e41d143b6b6"
      },
      "execution_count": null,
      "outputs": [
        {
          "output_type": "stream",
          "name": "stdout",
          "text": [
            "CNN2D_transfer_network(\n",
            "  (conv2d): Conv2d(3, 10, kernel_size=(5, 5), stride=(1, 1), padding=same)\n",
            "  (conv2d_2): Conv2d(10, 10, kernel_size=(5, 5), stride=(1, 1), padding=same)\n",
            "  (maxpool2d): MaxPool2d(kernel_size=(2, 2), stride=2, padding=0, dilation=1, ceil_mode=False)\n",
            "  (fc7): Linear(in_features=640, out_features=20, bias=True)\n",
            "  (fc3): Linear(in_features=20, out_features=10, bias=True)\n",
            "  (ReLU): ReLU()\n",
            ")\n"
          ]
        }
      ]
    },
    {
      "cell_type": "code",
      "source": [
        "pretrained_dict = torch.load(\"/content/drive/My Drive/DLS_Assignments/3/Q2_pt_model_state_dict.pt\", map_location=torch.device('cpu'))"
      ],
      "metadata": {
        "id": "NUiJ-mBlbzxK"
      },
      "execution_count": null,
      "outputs": []
    },
    {
      "cell_type": "code",
      "source": [
        "CNN2D_transfer_network_dict=CNN2D_transfer_network.state_dict()"
      ],
      "metadata": {
        "id": "XPmVq7ZEd8ba"
      },
      "execution_count": null,
      "outputs": []
    },
    {
      "cell_type": "code",
      "source": [
        "for k in CNN2D_transfer_network_dict:\n",
        "  print(k)"
      ],
      "metadata": {
        "colab": {
          "base_uri": "https://localhost:8080/"
        },
        "id": "oMoyXZwleDWT",
        "outputId": "cd1f6196-bd88-410a-d735-8b842c6c0f1d"
      },
      "execution_count": null,
      "outputs": [
        {
          "output_type": "stream",
          "name": "stdout",
          "text": [
            "conv2d.weight\n",
            "conv2d.bias\n",
            "conv2d_2.weight\n",
            "conv2d_2.bias\n",
            "fc7.weight\n",
            "fc7.bias\n",
            "fc3.weight\n",
            "fc3.bias\n"
          ]
        }
      ]
    },
    {
      "cell_type": "code",
      "source": [
        "for k in pretrained_dict:\n",
        "  print(k)"
      ],
      "metadata": {
        "colab": {
          "base_uri": "https://localhost:8080/"
        },
        "id": "bjWgB5EndlIz",
        "outputId": "03920581-34b6-4b9f-abd6-f8e5e568e235"
      },
      "execution_count": null,
      "outputs": [
        {
          "output_type": "stream",
          "name": "stdout",
          "text": [
            "conv2d.weight\n",
            "conv2d.bias\n",
            "conv2d_2.weight\n",
            "conv2d_2.bias\n",
            "fc1.weight\n",
            "fc1.bias\n",
            "fc2.weight\n",
            "fc2.bias\n"
          ]
        }
      ]
    },
    {
      "cell_type": "code",
      "source": [
        "pretrained_dict = {k: v for k, v in pretrained_dict.items() if k in CNN2D_transfer_network_dict}\n",
        "\n",
        "for k in pretrained_dict:\n",
        "  print(k)\n",
        "\n"
      ],
      "metadata": {
        "colab": {
          "base_uri": "https://localhost:8080/"
        },
        "id": "4Le-048peNWc",
        "outputId": "623d1051-278b-401c-e6af-04ce57b6af5f"
      },
      "execution_count": null,
      "outputs": [
        {
          "output_type": "stream",
          "name": "stdout",
          "text": [
            "conv2d.weight\n",
            "conv2d.bias\n",
            "conv2d_2.weight\n",
            "conv2d_2.bias\n"
          ]
        }
      ]
    },
    {
      "cell_type": "code",
      "source": [
        "CNN2D_transfer_network_dict.update(pretrained_dict)\n",
        "CNN2D_transfer_network.load_state_dict(CNN2D_transfer_network_dict)"
      ],
      "metadata": {
        "colab": {
          "base_uri": "https://localhost:8080/"
        },
        "id": "mOrrwhaKeiMD",
        "outputId": "da562b2d-f9a9-46e7-dc56-3cd6a0fb9494"
      },
      "execution_count": null,
      "outputs": [
        {
          "output_type": "execute_result",
          "data": {
            "text/plain": [
              "<All keys matched successfully>"
            ]
          },
          "metadata": {},
          "execution_count": 58
        }
      ]
    },
    {
      "cell_type": "code",
      "source": [
        "torch.nn.init.kaiming_uniform_(CNN2D_transfer_network.fc3.weight, nonlinearity = 'relu') # using uniform dists\n",
        "torch.nn.init.zeros_(CNN2D_transfer_network.fc3.bias) # fill bias with zeros\n",
        "\n",
        "torch.nn.init.kaiming_uniform_(CNN2D_transfer_network.fc7.weight, nonlinearity = 'relu') # using uniform dists\n",
        "torch.nn.init.zeros_(CNN2D_transfer_network.fc7.bias) # fill bias with zeros"
      ],
      "metadata": {
        "colab": {
          "base_uri": "https://localhost:8080/"
        },
        "id": "RuD1B1OShCRo",
        "outputId": "9090e25c-1a1f-4339-e652-7fc0f61430c7"
      },
      "execution_count": null,
      "outputs": [
        {
          "output_type": "execute_result",
          "data": {
            "text/plain": [
              "Parameter containing:\n",
              "tensor([0., 0., 0., 0., 0., 0., 0., 0., 0., 0., 0., 0., 0., 0., 0., 0., 0., 0., 0., 0.],\n",
              "       device='cuda:0', requires_grad=True)"
            ]
          },
          "metadata": {},
          "execution_count": 59
        }
      ]
    },
    {
      "cell_type": "code",
      "source": [
        "my_list = ['fc3.weight', 'fc3.bias', 'fc7.weight', 'fc7.bias']\n",
        "params = list(map(lambda x: x[1],list(filter(lambda kv: kv[0] in my_list, CNN2D_transfer_network.named_parameters()))))\n",
        "base_params = list(map(lambda x: x[1],list(filter(lambda kv: kv[0] not in my_list, CNN2D_transfer_network.named_parameters()))))\n"
      ],
      "metadata": {
        "id": "ZkbI4MoCicTw"
      },
      "execution_count": null,
      "outputs": []
    },
    {
      "cell_type": "code",
      "source": [
        "optimizer = torch.optim.Adam([{'params': base_params},{'params': params, 'lr': 1e-3}], lr = 1e-6)"
      ],
      "metadata": {
        "id": "lzSENdHWismm"
      },
      "execution_count": null,
      "outputs": []
    },
    {
      "cell_type": "code",
      "source": [
        "# Define optimizer and loss\n",
        "loss_func = nn.CrossEntropyLoss()"
      ],
      "metadata": {
        "id": "FD3gFleXhdzD"
      },
      "execution_count": null,
      "outputs": []
    },
    {
      "cell_type": "code",
      "source": [
        "# Results of Training\n",
        "bst_prediction_array = None\n",
        "bst_test_data = None\n",
        "bst_test_labels = None\n",
        "bst_accuracy = 0 # captures best accuracy\n",
        "bst_model = None\n",
        "bst_model_state_dict = None\n",
        "bst_opt_state_dict = None\n",
        "validation_acc_list_2 = []\n",
        "\n",
        "Training_Result = (bst_prediction_array, bst_test_data, bst_test_labels, bst_accuracy, bst_model, bst_model_state_dict, bst_opt_state_dict, validation_acc_list_2)"
      ],
      "metadata": {
        "id": "wRuwBqKflPSn"
      },
      "execution_count": null,
      "outputs": []
    },
    {
      "cell_type": "code",
      "source": [
        "from sklearn.metrics import accuracy_score\n",
        "\n",
        "# Train Function\n",
        "def train(Training_Result_p):\n",
        "\n",
        "  bst_prediction_array, bst_test_data, bst_test_labels, bst_accuracy, bst_model, bst_model_state_dict, bst_opt_state_dict, validation_acc_list_2 = Training_Result_p\n",
        "\n",
        "  # Train parameters\n",
        "  epoch = 1 # starting epoch\n",
        " \n",
        "  print(\"Training model\")\n",
        "\n",
        "  while ( (epoch <= n_epochs) ):\n",
        "    \n",
        "    # Training\n",
        "    CNN2D_transfer_network.train()\n",
        "    train_loss = 0 # calc train loss\n",
        "    for batch_idx, (data, target) in enumerate(train_loader):\n",
        "\n",
        "      # Prepare batch data and labels\n",
        "      data = data.to(device)\n",
        "      batch_labels = target.to(device)\n",
        "\n",
        "      # Forward pass\n",
        "      batch_outputs = CNN2D_transfer_network(data.float())\n",
        "      loss = loss_func(batch_outputs, batch_labels)\n",
        "\n",
        "      # Backward and optimize\n",
        "      optimizer.zero_grad()\n",
        "      loss.backward()\n",
        "      optimizer.step()\n",
        "\n",
        "      train_loss += loss.item() # increment train loss for epoch\n",
        "\n",
        "\n",
        "    # Logging\n",
        "    if ( epoch % log_interval == 0 or epoch == 1 ) :\n",
        "\n",
        "      # Evaluation \n",
        "      CNN2D_transfer_network.eval()\n",
        "      lbl_list = []\n",
        "      pred_list = []\n",
        "      with torch.no_grad():\n",
        "        for data, target in test_loader:\n",
        "          \n",
        "          data = data.to(device)\n",
        "          test_batch_labels = target.numpy()\n",
        "          test_batch_pred = F.softmax(CNN2D_transfer_network.forward(data.float()), dim = 1).argmax(dim=1, keepdim=True).cpu().numpy()\n",
        "\n",
        "\n",
        "          lbl_list.append(test_batch_labels)\n",
        "          pred_list.append(test_batch_pred)\n",
        "          \n",
        "\n",
        "      lbl_array = np.concatenate(lbl_list, axis=0)\n",
        "      pred_array = np.concatenate(pred_list, axis=0)\n",
        "\n",
        "      epoch_acc = accuracy_score(lbl_array,pred_array)\n",
        "\n",
        "      validation_acc_list_2.append(epoch_acc)\n",
        "\n",
        "      print(\"Epoch: {}, Total Training Loss: {}, Test Accuracy: {} \\n \".format(epoch, train_loss, epoch_acc))\n",
        "    # increment epoch\n",
        "    epoch += 1\n",
        "  \n",
        "  print(\"Training Finished!\")\n",
        "  Training_Return = (bst_prediction_array, bst_test_data, bst_test_labels, bst_accuracy, bst_model, bst_model_state_dict, bst_opt_state_dict, validation_acc_list_2)\n",
        "  return Training_Return"
      ],
      "metadata": {
        "id": "XDvneLj_lPSn"
      },
      "execution_count": null,
      "outputs": []
    },
    {
      "cell_type": "code",
      "source": [
        "# Train \n",
        "res = train(Training_Result)\n",
        "\n",
        "bst_prediction_array, bst_test_data, bst_test_labels, bst_accuracy, bst_model, bst_model_state_dict, bst_opt_state_dict, validation_acc_list_2 = res\n"
      ],
      "metadata": {
        "colab": {
          "base_uri": "https://localhost:8080/"
        },
        "outputId": "4870c844-b9eb-4474-ab8f-5664d61cb4e5",
        "id": "29Be19PClPSo"
      },
      "execution_count": null,
      "outputs": [
        {
          "output_type": "stream",
          "name": "stdout",
          "text": [
            "Training model\n",
            "Epoch: 1, Total Training Loss: 126.34227633476257, Test Accuracy: 0.1524 \n",
            " \n",
            "Epoch: 100, Total Training Loss: 25.816560994950123, Test Accuracy: 0.354 \n",
            " \n",
            "Epoch: 200, Total Training Loss: 25.564302183542168, Test Accuracy: 0.3594 \n",
            " \n",
            "Epoch: 300, Total Training Loss: 24.639523225599987, Test Accuracy: 0.3582 \n",
            " \n",
            "Epoch: 400, Total Training Loss: 23.71823496363595, Test Accuracy: 0.3519 \n",
            " \n",
            "Epoch: 500, Total Training Loss: 22.566711095515757, Test Accuracy: 0.3518 \n",
            " \n",
            "Epoch: 600, Total Training Loss: 22.3386892294875, Test Accuracy: 0.3542 \n",
            " \n",
            "Epoch: 700, Total Training Loss: 22.105119111246495, Test Accuracy: 0.3595 \n",
            " \n",
            "Epoch: 800, Total Training Loss: 21.874934832726915, Test Accuracy: 0.3627 \n",
            " \n",
            "Epoch: 900, Total Training Loss: 21.644545643216816, Test Accuracy: 0.355 \n",
            " \n",
            "Epoch: 1000, Total Training Loss: 21.41482368390166, Test Accuracy: 0.3434 \n",
            " \n",
            "Epoch: 1100, Total Training Loss: 21.41414029291684, Test Accuracy: 0.3512 \n",
            " \n",
            "Epoch: 1200, Total Training Loss: 21.18441531168787, Test Accuracy: 0.3491 \n",
            " \n",
            "Epoch: 1300, Total Training Loss: 21.183825552453243, Test Accuracy: 0.3514 \n",
            " \n",
            "Epoch: 1400, Total Training Loss: 21.183914971214076, Test Accuracy: 0.352 \n",
            " \n",
            "Epoch: 1500, Total Training Loss: 21.183803641789666, Test Accuracy: 0.3562 \n",
            " \n",
            "Epoch: 1600, Total Training Loss: 21.18378569483749, Test Accuracy: 0.36 \n",
            " \n",
            "Epoch: 1700, Total Training Loss: 21.18378282189369, Test Accuracy: 0.3579 \n",
            " \n",
            "Epoch: 1800, Total Training Loss: 21.18378284573555, Test Accuracy: 0.357 \n",
            " \n",
            "Epoch: 1900, Total Training Loss: 21.1837827116251, Test Accuracy: 0.356 \n",
            " \n",
            "Epoch: 2000, Total Training Loss: 21.18378274142742, Test Accuracy: 0.3561 \n",
            " \n",
            "Epoch: 2100, Total Training Loss: 21.18378272652626, Test Accuracy: 0.3558 \n",
            " \n",
            "Epoch: 2200, Total Training Loss: 21.183782815933228, Test Accuracy: 0.3548 \n",
            " \n",
            "Epoch: 2300, Total Training Loss: 21.183782696723938, Test Accuracy: 0.3555 \n",
            " \n",
            "Epoch: 2400, Total Training Loss: 21.183782771229744, Test Accuracy: 0.3552 \n",
            " \n",
            "Epoch: 2500, Total Training Loss: 21.18378284573555, Test Accuracy: 0.3536 \n",
            " \n",
            "Epoch: 2600, Total Training Loss: 21.18378274142742, Test Accuracy: 0.3534 \n",
            " \n",
            "Epoch: 2700, Total Training Loss: 21.183782756328583, Test Accuracy: 0.3561 \n",
            " \n",
            "Epoch: 2800, Total Training Loss: 21.18378286063671, Test Accuracy: 0.355 \n",
            " \n",
            "Epoch: 2900, Total Training Loss: 21.183782771229744, Test Accuracy: 0.3559 \n",
            " \n",
            "Epoch: 3000, Total Training Loss: 21.183782786130905, Test Accuracy: 0.3559 \n",
            " \n",
            "Epoch: 3100, Total Training Loss: 21.183782696723938, Test Accuracy: 0.3545 \n",
            " \n",
            "Epoch: 3200, Total Training Loss: 21.183782801032066, Test Accuracy: 0.3531 \n",
            " \n",
            "Epoch: 3300, Total Training Loss: 21.183782771229744, Test Accuracy: 0.3558 \n",
            " \n",
            "Epoch: 3400, Total Training Loss: 21.18378272652626, Test Accuracy: 0.354 \n",
            " \n",
            "Epoch: 3500, Total Training Loss: 21.183782756328583, Test Accuracy: 0.3531 \n",
            " \n",
            "Epoch: 3600, Total Training Loss: 21.18378274142742, Test Accuracy: 0.3553 \n",
            " \n",
            "Epoch: 3700, Total Training Loss: 21.183782696723938, Test Accuracy: 0.3552 \n",
            " \n",
            "Epoch: 3800, Total Training Loss: 21.18378274142742, Test Accuracy: 0.354 \n",
            " \n",
            "Epoch: 3900, Total Training Loss: 21.183782786130905, Test Accuracy: 0.3538 \n",
            " \n",
            "Epoch: 4000, Total Training Loss: 21.18378274142742, Test Accuracy: 0.355 \n",
            " \n",
            "Epoch: 4100, Total Training Loss: 21.183782756328583, Test Accuracy: 0.3564 \n",
            " \n",
            "Epoch: 4200, Total Training Loss: 21.183782756328583, Test Accuracy: 0.3557 \n",
            " \n",
            "Epoch: 4300, Total Training Loss: 21.18378274142742, Test Accuracy: 0.3551 \n",
            " \n",
            "Epoch: 4400, Total Training Loss: 21.18378295004368, Test Accuracy: 0.3547 \n",
            " \n",
            "Epoch: 4500, Total Training Loss: 21.1837827116251, Test Accuracy: 0.3544 \n",
            " \n",
            "Epoch: 4600, Total Training Loss: 21.183782815933228, Test Accuracy: 0.3541 \n",
            " \n",
            "Epoch: 4700, Total Training Loss: 21.183782756328583, Test Accuracy: 0.3541 \n",
            " \n",
            "Epoch: 4800, Total Training Loss: 21.18378272652626, Test Accuracy: 0.3536 \n",
            " \n",
            "Epoch: 4900, Total Training Loss: 21.183782801032066, Test Accuracy: 0.3535 \n",
            " \n",
            "Epoch: 5000, Total Training Loss: 21.183782786130905, Test Accuracy: 0.3532 \n",
            " \n",
            "Epoch: 5100, Total Training Loss: 21.183782801032066, Test Accuracy: 0.3525 \n",
            " \n",
            "Epoch: 5200, Total Training Loss: 21.183782815933228, Test Accuracy: 0.3525 \n",
            " \n",
            "Epoch: 5300, Total Training Loss: 21.183782815933228, Test Accuracy: 0.3522 \n",
            " \n",
            "Epoch: 5400, Total Training Loss: 21.183782801032066, Test Accuracy: 0.3545 \n",
            " \n",
            "Epoch: 5500, Total Training Loss: 21.18378284573555, Test Accuracy: 0.3537 \n",
            " \n",
            "Epoch: 5600, Total Training Loss: 21.183782771229744, Test Accuracy: 0.3529 \n",
            " \n",
            "Epoch: 5700, Total Training Loss: 21.18378274142742, Test Accuracy: 0.3525 \n",
            " \n",
            "Epoch: 5800, Total Training Loss: 21.183782786130905, Test Accuracy: 0.3523 \n",
            " \n",
            "Epoch: 5900, Total Training Loss: 21.18378272652626, Test Accuracy: 0.3522 \n",
            " \n",
            "Epoch: 6000, Total Training Loss: 21.183782681822777, Test Accuracy: 0.3521 \n",
            " \n",
            "Epoch: 6100, Total Training Loss: 21.183782771229744, Test Accuracy: 0.3557 \n",
            " \n",
            "Epoch: 6200, Total Training Loss: 21.183782771229744, Test Accuracy: 0.3542 \n",
            " \n",
            "Epoch: 6300, Total Training Loss: 21.1837827116251, Test Accuracy: 0.3541 \n",
            " \n",
            "Epoch: 6400, Total Training Loss: 21.183782771229744, Test Accuracy: 0.3542 \n",
            " \n",
            "Epoch: 6500, Total Training Loss: 21.18378274142742, Test Accuracy: 0.3536 \n",
            " \n",
            "Epoch: 6600, Total Training Loss: 21.18378283083439, Test Accuracy: 0.3536 \n",
            " \n",
            "Epoch: 6700, Total Training Loss: 21.18378272652626, Test Accuracy: 0.3529 \n",
            " \n",
            "Epoch: 6800, Total Training Loss: 21.183782696723938, Test Accuracy: 0.3529 \n",
            " \n",
            "Epoch: 6900, Total Training Loss: 21.183782681822777, Test Accuracy: 0.3527 \n",
            " \n",
            "Epoch: 7000, Total Training Loss: 21.18378274142742, Test Accuracy: 0.3525 \n",
            " \n",
            "Epoch: 7100, Total Training Loss: 21.183782652020454, Test Accuracy: 0.3522 \n",
            " \n",
            "Epoch: 7200, Total Training Loss: 21.18378272652626, Test Accuracy: 0.3517 \n",
            " \n",
            "Epoch: 7300, Total Training Loss: 21.183782696723938, Test Accuracy: 0.3519 \n",
            " \n",
            "Epoch: 7400, Total Training Loss: 21.183782696723938, Test Accuracy: 0.3516 \n",
            " \n",
            "Epoch: 7500, Total Training Loss: 21.183782801032066, Test Accuracy: 0.3522 \n",
            " \n",
            "Epoch: 7600, Total Training Loss: 21.18378274142742, Test Accuracy: 0.3518 \n",
            " \n",
            "Epoch: 7700, Total Training Loss: 21.18378283083439, Test Accuracy: 0.3511 \n",
            " \n",
            "Epoch: 7800, Total Training Loss: 21.183782890439034, Test Accuracy: 0.351 \n",
            " \n",
            "Epoch: 7900, Total Training Loss: 21.183782756328583, Test Accuracy: 0.3509 \n",
            " \n",
            "Epoch: 8000, Total Training Loss: 21.18378284573555, Test Accuracy: 0.351 \n",
            " \n",
            "Epoch: 8100, Total Training Loss: 21.183782815933228, Test Accuracy: 0.3513 \n",
            " \n",
            "Epoch: 8200, Total Training Loss: 21.183782771229744, Test Accuracy: 0.351 \n",
            " \n",
            "Epoch: 8300, Total Training Loss: 21.1837827116251, Test Accuracy: 0.3511 \n",
            " \n",
            "Epoch: 8400, Total Training Loss: 21.183782771229744, Test Accuracy: 0.3511 \n",
            " \n",
            "Epoch: 8500, Total Training Loss: 21.183782771229744, Test Accuracy: 0.3507 \n",
            " \n",
            "Epoch: 8600, Total Training Loss: 21.18378283083439, Test Accuracy: 0.351 \n",
            " \n",
            "Epoch: 8700, Total Training Loss: 21.18378274142742, Test Accuracy: 0.3507 \n",
            " \n",
            "Epoch: 8800, Total Training Loss: 21.183782696723938, Test Accuracy: 0.3508 \n",
            " \n",
            "Epoch: 8900, Total Training Loss: 21.183782786130905, Test Accuracy: 0.3507 \n",
            " \n",
            "Epoch: 9000, Total Training Loss: 21.18378272652626, Test Accuracy: 0.3506 \n",
            " \n",
            "Epoch: 9100, Total Training Loss: 21.183782756328583, Test Accuracy: 0.3505 \n",
            " \n",
            "Epoch: 9200, Total Training Loss: 21.18378284573555, Test Accuracy: 0.3533 \n",
            " \n",
            "Epoch: 9300, Total Training Loss: 21.18378274142742, Test Accuracy: 0.3527 \n",
            " \n",
            "Epoch: 9400, Total Training Loss: 21.18378274142742, Test Accuracy: 0.3517 \n",
            " \n",
            "Epoch: 9500, Total Training Loss: 21.183782756328583, Test Accuracy: 0.3522 \n",
            " \n",
            "Epoch: 9600, Total Training Loss: 21.18378274142742, Test Accuracy: 0.3519 \n",
            " \n",
            "Epoch: 9700, Total Training Loss: 21.18378274142742, Test Accuracy: 0.3513 \n",
            " \n",
            "Epoch: 9800, Total Training Loss: 21.18378274142742, Test Accuracy: 0.3519 \n",
            " \n",
            "Epoch: 9900, Total Training Loss: 21.18378274142742, Test Accuracy: 0.352 \n",
            " \n",
            "Epoch: 10000, Total Training Loss: 21.18378283083439, Test Accuracy: 0.3515 \n",
            " \n",
            "Training Finished!\n"
          ]
        }
      ]
    },
    {
      "cell_type": "code",
      "source": [
        "import pickle\n",
        "\n",
        "with open(\"/content/drive/My Drive/DLS_Assignments/3/Q2_P2_res\", \"wb\") as fp:   \n",
        "  pickle.dump(validation_acc_list_2, fp)"
      ],
      "metadata": {
        "id": "NrPv6yskKCSZ"
      },
      "execution_count": null,
      "outputs": []
    },
    {
      "cell_type": "code",
      "source": [
        "# plot Graphs\n",
        "\n",
        "x = np.arange(100)\n",
        "\n",
        "plt.plot(x, validation_acc_list[1:], label = 'Baseline Model')\n",
        "plt.plot(x, validation_acc_list_2[1:], label = 'Fine-Tuning Model')\n",
        "\n",
        "fig = plt.gcf()\n",
        "fig.set_size_inches(18.5, 10.5)\n",
        "\n",
        "fig.suptitle('Baseline vs Fine-Tuning Model  w/ small dataset on CIFAR10', fontsize=20)\n",
        "plt.xlabel('Hundred(s) of Epochs', fontsize=18)\n",
        "plt.ylabel('Validation Accuracy', fontsize=16)\n",
        "\n",
        "ax = plt.gca()\n",
        "ax.set_xlim([0, 100])\n",
        "ax.set_ylim([0, 1.0])\n",
        "\n",
        "plt.legend()\n",
        "plt.show()"
      ],
      "metadata": {
        "colab": {
          "base_uri": "https://localhost:8080/",
          "height": 716
        },
        "id": "3tAVk8LVKCbI",
        "outputId": "fe7ca8ca-f51f-4ac5-92ba-1e4aac003900"
      },
      "execution_count": null,
      "outputs": [
        {
          "output_type": "display_data",
          "data": {
            "text/plain": [
              "<Figure size 1332x756 with 1 Axes>"
            ],
            "image/png": "[encoded data removed]"
          },
          "metadata": {
            "needs_background": "light"
          }
        }
      ]
    },
    {
      "cell_type": "markdown",
      "source": [
        "Here we are comparing the baseline and fine-tuning model for this very small CIFAR-10 dataset. As you can see the accuracy for the baseline isn't very good, as the training set is too small comapred to our test set. The fine-tuning method of trasnfering the weights from the dummy rotation classifer seems to have improved the performance. The weights for the Convolution layers were tranferred, and the fully connected layers were allowed to retrain with the higher layer rate. This improved perfromance by about 10%, as the convolution layers seem to have learned some useful features.  "
      ],
      "metadata": {
        "id": "FM1m1JOPP6ef"
      }
    },
    {
      "cell_type": "markdown",
      "source": [
        "### Problem 3: Speech Denoising Using RNN"
      ],
      "metadata": {
        "id": "je4CklcBRfGY"
      }
    },
    {
      "cell_type": "markdown",
      "source": [
        "Load all of them and convert them into spectrograms like you did in Homework 2. Don’t\n",
        "forget to take their magnitudes."
      ],
      "metadata": {
        "id": "8ntK7TZ4RkLw"
      }
    },
    {
      "cell_type": "code",
      "source": [
        "# Temporary\n",
        "from google.colab import drive\n",
        "drive.mount('/content/drive')"
      ],
      "metadata": {
        "colab": {
          "base_uri": "https://localhost:8080/"
        },
        "id": "z_i23_T4Rt-b",
        "outputId": "c049913e-4e26-425e-fe94-727619a058f5"
      },
      "execution_count": null,
      "outputs": [
        {
          "output_type": "stream",
          "name": "stdout",
          "text": [
            "Drive already mounted at /content/drive; to attempt to forcibly remount, call drive.mount(\"/content/drive\", force_remount=True).\n"
          ]
        }
      ]
    },
    {
      "cell_type": "code",
      "source": [
        "import numpy as np\n",
        "import IPython"
      ],
      "metadata": {
        "id": "Sz746GO8Acrn"
      },
      "execution_count": null,
      "outputs": []
    },
    {
      "cell_type": "code",
      "source": [
        "import os\n",
        "import matplotlib.pyplot as plt"
      ],
      "metadata": {
        "id": "g1PTZVJmAkoq"
      },
      "execution_count": null,
      "outputs": []
    },
    {
      "cell_type": "code",
      "source": [
        "!pip install librosa # in colab, you’ll need to install this\n",
        "import librosa"
      ],
      "metadata": {
        "colab": {
          "base_uri": "https://localhost:8080/"
        },
        "id": "Bv3tLEJOAfQU",
        "outputId": "8da53597-85f5-4e80-b254-55650bc8f752"
      },
      "execution_count": null,
      "outputs": [
        {
          "output_type": "stream",
          "name": "stdout",
          "text": [
            "Looking in indexes: https://pypi.org/simple, https://us-python.pkg.dev/colab-wheels/public/simple/\n",
            "Requirement already satisfied: librosa in /usr/local/lib/python3.7/dist-packages (0.8.1)\n",
            "Requirement already satisfied: scikit-learn!=0.19.0,>=0.14.0 in /usr/local/lib/python3.7/dist-packages (from librosa) (1.0.2)\n",
            "Requirement already satisfied: pooch>=1.0 in /usr/local/lib/python3.7/dist-packages (from librosa) (1.6.0)\n",
            "Requirement already satisfied: decorator>=3.0.0 in /usr/local/lib/python3.7/dist-packages (from librosa) (4.4.2)\n",
            "Requirement already satisfied: numpy>=1.15.0 in /usr/local/lib/python3.7/dist-packages (from librosa) (1.21.6)\n",
            "Requirement already satisfied: audioread>=2.0.0 in /usr/local/lib/python3.7/dist-packages (from librosa) (3.0.0)\n",
            "Requirement already satisfied: numba>=0.43.0 in /usr/local/lib/python3.7/dist-packages (from librosa) (0.56.3)\n",
            "Requirement already satisfied: soundfile>=0.10.2 in /usr/local/lib/python3.7/dist-packages (from librosa) (0.11.0)\n",
            "Requirement already satisfied: joblib>=0.14 in /usr/local/lib/python3.7/dist-packages (from librosa) (1.2.0)\n",
            "Requirement already satisfied: scipy>=1.0.0 in /usr/local/lib/python3.7/dist-packages (from librosa) (1.7.3)\n",
            "Requirement already satisfied: resampy>=0.2.2 in /usr/local/lib/python3.7/dist-packages (from librosa) (0.4.2)\n",
            "Requirement already satisfied: packaging>=20.0 in /usr/local/lib/python3.7/dist-packages (from librosa) (21.3)\n",
            "Requirement already satisfied: setuptools in /usr/local/lib/python3.7/dist-packages (from numba>=0.43.0->librosa) (57.4.0)\n",
            "Requirement already satisfied: importlib-metadata in /usr/local/lib/python3.7/dist-packages (from numba>=0.43.0->librosa) (4.13.0)\n",
            "Requirement already satisfied: llvmlite<0.40,>=0.39.0dev0 in /usr/local/lib/python3.7/dist-packages (from numba>=0.43.0->librosa) (0.39.1)\n",
            "Requirement already satisfied: pyparsing!=3.0.5,>=2.0.2 in /usr/local/lib/python3.7/dist-packages (from packaging>=20.0->librosa) (3.0.9)\n",
            "Requirement already satisfied: requests>=2.19.0 in /usr/local/lib/python3.7/dist-packages (from pooch>=1.0->librosa) (2.23.0)\n",
            "Requirement already satisfied: appdirs>=1.3.0 in /usr/local/lib/python3.7/dist-packages (from pooch>=1.0->librosa) (1.4.4)\n",
            "Requirement already satisfied: chardet<4,>=3.0.2 in /usr/local/lib/python3.7/dist-packages (from requests>=2.19.0->pooch>=1.0->librosa) (3.0.4)\n",
            "Requirement already satisfied: urllib3!=1.25.0,!=1.25.1,<1.26,>=1.21.1 in /usr/local/lib/python3.7/dist-packages (from requests>=2.19.0->pooch>=1.0->librosa) (1.24.3)\n",
            "Requirement already satisfied: certifi>=2017.4.17 in /usr/local/lib/python3.7/dist-packages (from requests>=2.19.0->pooch>=1.0->librosa) (2022.9.24)\n",
            "Requirement already satisfied: idna<3,>=2.5 in /usr/local/lib/python3.7/dist-packages (from requests>=2.19.0->pooch>=1.0->librosa) (2.10)\n",
            "Requirement already satisfied: threadpoolctl>=2.0.0 in /usr/local/lib/python3.7/dist-packages (from scikit-learn!=0.19.0,>=0.14.0->librosa) (3.1.0)\n",
            "Requirement already satisfied: cffi>=1.0 in /usr/local/lib/python3.7/dist-packages (from soundfile>=0.10.2->librosa) (1.15.1)\n",
            "Requirement already satisfied: pycparser in /usr/local/lib/python3.7/dist-packages (from cffi>=1.0->soundfile>=0.10.2->librosa) (2.21)\n",
            "Requirement already satisfied: typing-extensions>=3.6.4 in /usr/local/lib/python3.7/dist-packages (from importlib-metadata->numba>=0.43.0->librosa) (4.1.1)\n",
            "Requirement already satisfied: zipp>=0.5 in /usr/local/lib/python3.7/dist-packages (from importlib-metadata->numba>=0.43.0->librosa) (3.10.0)\n"
          ]
        }
      ]
    },
    {
      "cell_type": "code",
      "source": [
        "path = \"/content/drive/My Drive/DLS_Assignments/3/homework3/timit-homework/tr/\"\n",
        "files_trx = []\n",
        "files_trs = []\n",
        "files_trn = []\n",
        "for i in os.listdir(path):\n",
        "    if os.path.isfile(os.path.join(path,i)) and 'trx' in i:\n",
        "        files_trx.append(i)\n",
        "    if os.path.isfile(os.path.join(path,i)) and 'trs' in i:\n",
        "        files_trs.append(i)\n",
        "    if os.path.isfile(os.path.join(path,i)) and 'trn' in i:\n",
        "        files_trn.append(i)\n"
      ],
      "metadata": {
        "id": "kV1yo1BtAo5U"
      },
      "execution_count": null,
      "outputs": []
    },
    {
      "cell_type": "code",
      "source": [
        "path = \"/content/drive/My Drive/DLS_Assignments/3/homework3/timit-homework/v/\"\n",
        "files_vx = []\n",
        "files_vs = []\n",
        "files_vn = []\n",
        "\n",
        "for i in os.listdir(path):\n",
        "    if os.path.isfile(os.path.join(path,i)) and 'vx' in i:\n",
        "        files_vx.append(i)\n",
        "    if os.path.isfile(os.path.join(path,i)) and 'vs' in i:\n",
        "        files_vs.append(i)\n",
        "    if os.path.isfile(os.path.join(path,i)) and 'vn' in i:\n",
        "        files_vn.append(i)"
      ],
      "metadata": {
        "id": "4pTko9uMIGmg"
      },
      "execution_count": null,
      "outputs": []
    },
    {
      "cell_type": "code",
      "source": [
        "# path = \"/content/drive/My Drive/DLS_Assignments/3/homework3/timit-homework/te/\"\n",
        "# files_tex = []\n",
        "\n",
        "# for i in os.listdir(path):\n",
        "#     if os.path.isfile(os.path.join(path,i)):\n",
        "#         files_tex.append(i)\n"
      ],
      "metadata": {
        "id": "iJ4iSbUiIGt5"
      },
      "execution_count": null,
      "outputs": []
    },
    {
      "cell_type": "code",
      "source": [
        "files_trx.sort()\n",
        "files_trs.sort()\n",
        "files_trn.sort()\n",
        "files_vx.sort()\n",
        "files_vs.sort()\n",
        "files_vn.sort()\n",
        "# files_tex.sort()"
      ],
      "metadata": {
        "id": "DDY6uGNkd7Ca"
      },
      "execution_count": null,
      "outputs": []
    },
    {
      "cell_type": "code",
      "source": [
        "# load data for training files and do stft\n",
        "path = \"/content/drive/My Drive/DLS_Assignments/3/homework3/timit-homework/tr/\"\n",
        "# train_trx_time = []\n",
        "# train_trx_freq = []\n",
        "train_trx_freq_abs = []\n",
        "# train_trx_len = []\n",
        "\n",
        "\n",
        "for file_name in files_trx:\n",
        "\n",
        "  # Get time-domain signal\n",
        "  s, sr=librosa.load(os.path.join(path,file_name), sr=None)\n",
        "  # train_trx_time.append(s)\n",
        "\n",
        "  # Get freq domain signal\n",
        "  S=librosa.stft(s, n_fft=1024, hop_length=512)\n",
        "\n",
        "  # train_trx_len.append(S.shape[1])\n",
        "\n",
        "  silent_new_arr = (np.random.rand(200-S.shape[1],513) * 1e-20) + (np.random.rand(200-S.shape[1],513) * 1e-20) * 1j\n",
        "\n",
        "  S = np.concatenate((S.T,silent_new_arr), axis=0, dtype = 'complex_')\n",
        "\n",
        "  # train_trx_freq.append(S)\n",
        "\n",
        "  S_abs = np.abs(S)\n",
        "\n",
        "  train_trx_freq_abs.append(S_abs)\n"
      ],
      "metadata": {
        "id": "hi0lCxVuD1k0"
      },
      "execution_count": null,
      "outputs": []
    },
    {
      "cell_type": "code",
      "source": [
        "# load data for training clean files and do stft\n",
        "path = \"/content/drive/My Drive/DLS_Assignments/3/homework3/timit-homework/tr/\"\n",
        "# train_trs_time = []\n",
        "# train_trs_freq = []\n",
        "train_trs_freq_abs = []\n",
        "# train_trs_len = []\n",
        "\n",
        "\n",
        "for file_name in files_trs:\n",
        "\n",
        "  # Get time-domain signal\n",
        "  s, sr=librosa.load(os.path.join(path,file_name), sr=None)\n",
        "  # train_trs_time.append(s)\n",
        "\n",
        "  # Get freq domain signal\n",
        "  S=librosa.stft(s, n_fft=1024, hop_length=512)\n",
        "\n",
        "  # train_trs_len.append(S.shape[1])\n",
        "\n",
        "  silent_new_arr = (np.random.rand(200-S.shape[1],513) * 1e-20) + (np.random.rand(200-S.shape[1],513) * 1e-20) * 1j\n",
        "\n",
        "  S = np.concatenate((S.T,silent_new_arr), axis=0, dtype = 'complex_')\n",
        "\n",
        "  # train_trs_freq.append(S)\n",
        "\n",
        "  S_abs = np.abs(S)\n",
        "\n",
        "  train_trs_freq_abs.append(S_abs)"
      ],
      "metadata": {
        "id": "opd-bi98JiAZ"
      },
      "execution_count": null,
      "outputs": []
    },
    {
      "cell_type": "code",
      "source": [
        "# load data for training noise files and do stft\n",
        "path = \"/content/drive/My Drive/DLS_Assignments/3/homework3/timit-homework/tr/\"\n",
        "# train_trn_time = []\n",
        "# train_trn_freq = []\n",
        "train_trn_freq_abs = []\n",
        "# train_trn_len = []\n",
        "\n",
        "\n",
        "for file_name in files_trn:\n",
        "\n",
        "  # Get time-domain signal\n",
        "  s, sr=librosa.load(os.path.join(path,file_name), sr=None)\n",
        "  # train_trn_time.append(s)\n",
        "\n",
        "  # Get freq domain signal\n",
        "  S=librosa.stft(s, n_fft=1024, hop_length=512)\n",
        "\n",
        "  # train_trn_len.append(S.shape[1])\n",
        "\n",
        "  silent_new_arr = (np.random.rand(200-S.shape[1],513) * 1e-20) + (np.random.rand(200-S.shape[1],513) * 1e-20) * 1j\n",
        "\n",
        "  S = np.concatenate((S.T,silent_new_arr), axis=0, dtype = 'complex_')\n",
        "\n",
        "  # train_trn_freq.append(S)\n",
        "\n",
        "  S_abs = np.abs(S)\n",
        "\n",
        "  train_trn_freq_abs.append(S_abs)"
      ],
      "metadata": {
        "id": "zDF7uhH6MU0Z"
      },
      "execution_count": null,
      "outputs": []
    },
    {
      "cell_type": "code",
      "source": [
        "# load data for training files and do stft\n",
        "path = \"/content/drive/My Drive/DLS_Assignments/3/homework3/timit-homework/v/\"\n",
        "# valid_vx_time = []\n",
        "valid_vx_freq = []\n",
        "valid_vx_freq_abs = []\n",
        "valid_vx_len = []\n",
        "\n",
        "\n",
        "for count,file_name in enumerate(files_vx):\n",
        "\n",
        "  # Get time-domain signal\n",
        "  s, sr=librosa.load(os.path.join(path,file_name), sr=None)\n",
        "  # valid_vx_time.append(s)\n",
        "\n",
        "  # Get freq domain signal\n",
        "  S=librosa.stft(s, n_fft=1024, hop_length=512)\n",
        "\n",
        "  valid_vx_len.append(S.shape[1])\n",
        "\n",
        "  silent_new_arr = (np.random.rand(200-S.shape[1],513) * 1e-20) + (np.random.rand(200-S.shape[1],513) * 1e-20) * 1j\n",
        "\n",
        "  S = np.concatenate((S.T,silent_new_arr), axis=0)\n",
        "\n",
        "  valid_vx_freq.append(S)\n",
        "\n",
        "  S_abs = np.abs(S)\n",
        "\n",
        "  valid_vx_freq_abs.append(S_abs)"
      ],
      "metadata": {
        "id": "91TYHWaVJiHB"
      },
      "execution_count": null,
      "outputs": []
    },
    {
      "cell_type": "code",
      "source": [
        "# load data for training files and do stft\n",
        "path = \"/content/drive/My Drive/DLS_Assignments/3/homework3/timit-homework/v/\"\n",
        "valid_vs_time = []\n",
        "# valid_vs_freq = []\n",
        "valid_vs_freq_abs = []\n",
        "# valid_vs_len = []\n",
        "\n",
        "\n",
        "for count, file_name in enumerate(files_vs):\n",
        "\n",
        "  # Get time-domain signal\n",
        "  s, sr=librosa.load(os.path.join(path,file_name), sr=None)\n",
        "  valid_vs_time.append(s)\n",
        "\n",
        "  # Get freq domain signal\n",
        "  S=librosa.stft(s, n_fft=1024, hop_length=512)\n",
        "\n",
        "  # valid_vs_len.append(S.shape[1])\n",
        "\n",
        "  silent_new_arr = (np.random.rand(200-S.shape[1],513) * 1e-20) + (np.random.rand(200-S.shape[1],513) * 1e-20) * 1j\n",
        "\n",
        "  S = np.concatenate((S.T,silent_new_arr), axis=0)\n",
        "\n",
        "  # valid_vs_freq.append(S)\n",
        "\n",
        "  S_abs = np.abs(S)\n",
        "\n",
        "  valid_vs_freq_abs.append(S_abs)"
      ],
      "metadata": {
        "id": "Afy15YeGMwav"
      },
      "execution_count": null,
      "outputs": []
    },
    {
      "cell_type": "code",
      "source": [
        "# load data for training files and do stft\n",
        "path = \"/content/drive/My Drive/DLS_Assignments/3/homework3/timit-homework/v/\"\n",
        "# valid_vn_time = []\n",
        "# valid_vn_freq = []\n",
        "valid_vn_freq_abs = []\n",
        "# valid_vn_len = []\n",
        "\n",
        "\n",
        "for count,file_name in enumerate(files_vn):\n",
        "\n",
        "  # Get time-domain signal\n",
        "  s, sr=librosa.load(os.path.join(path,file_name), sr=None)\n",
        "  # valid_vn_time.append(s)\n",
        "\n",
        "  # Get freq domain signal\n",
        "  S=librosa.stft(s, n_fft=1024, hop_length=512)\n",
        "\n",
        "  # valid_vn_len.append(S.shape[1])\n",
        "\n",
        "  silent_new_arr = (np.random.rand(200-S.shape[1],513) * 1e-20) + (np.random.rand(200-S.shape[1],513) * 1e-20) * 1j\n",
        "\n",
        "  S = np.concatenate((S.T,silent_new_arr), axis=0)\n",
        "\n",
        "  # valid_vn_freq.append(S)\n",
        "\n",
        "  S_abs = np.abs(S)\n",
        "\n",
        "  valid_vn_freq_abs.append(S_abs)"
      ],
      "metadata": {
        "id": "JlNrHV3-Mwix"
      },
      "execution_count": null,
      "outputs": []
    },
    {
      "cell_type": "code",
      "source": [
        "# load data for training files and do stft\n",
        "# path = \"/content/drive/My Drive/DLS_Assignments/3/homework3/timit-homework/te/\"\n",
        "# test_te_time = []\n",
        "# test_te_freq = []\n",
        "# test_te_freq_abs = []\n",
        "# test_te_len = []\n",
        "\n",
        "\n",
        "# for file_name in files_tex:\n",
        "\n",
        "#   # Get time-domain signal\n",
        "#   s, sr=librosa.load(os.path.join(path,file_name), sr=None)\n",
        "#   test_te_time.append(s)\n",
        "\n",
        "#   # Get freq domain signal\n",
        "#   S=librosa.stft(s, n_fft=1024, hop_length=512)\n",
        "\n",
        "#   test_te_len.append(S.shape[1])\n",
        "\n",
        "#   silent_new_arr = (np.random.rand(200-S.shape[1],513) * 1e-20) + (np.random.rand(200-S.shape[1],513) * 1e-20) * 1j\n",
        "\n",
        "#   S = np.concatenate((S.T,silent_new_arr), axis=0)\n",
        "\n",
        "#   test_te_freq.append(S)\n",
        "\n",
        "#   S_abs = np.abs(S)\n",
        "\n",
        "#   test_te_freq_abs.append(S_abs)"
      ],
      "metadata": {
        "id": "qVdrqTc6Mwl3"
      },
      "execution_count": null,
      "outputs": []
    },
    {
      "cell_type": "code",
      "source": [
        "train_masks = [(train_trs_freq_abs[i] > train_trn_freq_abs[i]).astype(float) for i in range(len(train_trs_freq_abs))]\n",
        "valid_masks = [(valid_vs_freq_abs[i] > valid_vn_freq_abs[i]).astype(float) for i in range(len(valid_vs_freq_abs))]"
      ],
      "metadata": {
        "id": "WCzPBWbuTUAx"
      },
      "execution_count": null,
      "outputs": []
    },
    {
      "cell_type": "code",
      "source": [
        "import gc \n",
        "\n",
        "del train_trs_freq_abs \n",
        "del train_trn_freq_abs \n",
        "del valid_vs_freq_abs \n",
        "del valid_vn_freq_abs \n",
        "\n",
        "gc.collect()"
      ],
      "metadata": {
        "colab": {
          "base_uri": "https://localhost:8080/"
        },
        "id": "T_nLllyQe-Xy",
        "outputId": "bd942256-358c-4ff5-f94e-9385ab166496"
      },
      "execution_count": null,
      "outputs": [
        {
          "output_type": "execute_result",
          "data": {
            "text/plain": [
              "110"
            ]
          },
          "metadata": {},
          "execution_count": 17
        }
      ]
    },
    {
      "cell_type": "code",
      "source": [
        "import torch"
      ],
      "metadata": {
        "id": "EpQgavvkhckb"
      },
      "execution_count": null,
      "outputs": []
    },
    {
      "cell_type": "code",
      "source": [
        "# Get device\n",
        "device = torch.device(\"cuda:0\" if torch.cuda.is_available() else \"cpu\")\n",
        "print(f\"Using {device} device\")"
      ],
      "metadata": {
        "colab": {
          "base_uri": "https://localhost:8080/"
        },
        "id": "PMMZJdXPiGGG",
        "outputId": "7991b625-1c8a-4451-9fe4-84890e0b81e8"
      },
      "execution_count": null,
      "outputs": [
        {
          "output_type": "stream",
          "name": "stdout",
          "text": [
            "Using cuda:0 device\n"
          ]
        }
      ]
    },
    {
      "cell_type": "code",
      "source": [
        "# Set torch random seed \n",
        "torch.manual_seed(42)\n",
        "np.random.seed(42)\n",
        "torch.backends.cudnn.enabled = False\n",
        "torch.backends.cudnn.deterministic = True"
      ],
      "metadata": {
        "id": "0AAJWSgSiJGC"
      },
      "execution_count": null,
      "outputs": []
    },
    {
      "cell_type": "code",
      "source": [
        "# Set Hyperparameters\n",
        "n_epochs = 200 # max_epochs\n",
        "batch_size_val = 10\n",
        "batch_size_train = 10\n",
        "learning_rate = 0.001 # learn rate\n",
        "log_interval = 1 # log every _ epoch\n",
        "patience = 25  # epochs after which training should stop if no improvement"
      ],
      "metadata": {
        "id": "87hTIWaPiLCI"
      },
      "execution_count": null,
      "outputs": []
    },
    {
      "cell_type": "code",
      "source": [
        "train_trx_freq_abs = np.array(train_trx_freq_abs)\n",
        "valid_vx_freq_abs = np.array(valid_vx_freq_abs)\n",
        "print(train_trx_freq_abs.shape)\n",
        "print(valid_vx_freq_abs.shape)"
      ],
      "metadata": {
        "colab": {
          "base_uri": "https://localhost:8080/"
        },
        "id": "1QAYo5DLiaT0",
        "outputId": "11a77a0f-c39c-4708-d62f-b81a56f7ee3b"
      },
      "execution_count": null,
      "outputs": [
        {
          "output_type": "stream",
          "name": "stdout",
          "text": [
            "(1200, 200, 513)\n",
            "(1200, 200, 513)\n"
          ]
        }
      ]
    },
    {
      "cell_type": "code",
      "source": [
        "train_masks = np.array(train_masks)\n",
        "valid_masks = np.array(valid_masks)\n",
        "print(train_masks.shape)\n",
        "print(valid_masks.shape)"
      ],
      "metadata": {
        "colab": {
          "base_uri": "https://localhost:8080/"
        },
        "id": "qES0vpLElfWz",
        "outputId": "0066b33a-9196-4c99-c743-82ab87166878"
      },
      "execution_count": null,
      "outputs": [
        {
          "output_type": "stream",
          "name": "stdout",
          "text": [
            "(1200, 200, 513)\n",
            "(1200, 200, 513)\n"
          ]
        }
      ]
    },
    {
      "cell_type": "code",
      "source": [
        "train_trx_freq_abs = torch.from_numpy(train_trx_freq_abs)\n",
        "train_masks = torch.from_numpy(train_masks)\n",
        "\n",
        "valid_vx_freq_abs = torch.from_numpy(valid_vx_freq_abs)\n",
        "valid_masks = torch.from_numpy(valid_masks)"
      ],
      "metadata": {
        "id": "Re-3oKMcopv5"
      },
      "execution_count": null,
      "outputs": []
    },
    {
      "cell_type": "code",
      "source": [
        "# Get Datasets\n",
        "from torch.utils.data import TensorDataset, DataLoader\n",
        "\n",
        "Train_dataset = TensorDataset(train_trx_freq_abs, train_masks)\n",
        "Valid_dataset = TensorDataset(valid_vx_freq_abs, valid_masks)\n",
        "\n",
        "train_loader = torch.utils.data.DataLoader(Train_dataset,batch_size=batch_size_train, shuffle=False)\n",
        "valid_loader = torch.utils.data.DataLoader(Valid_dataset,batch_size=batch_size_val, shuffle=False)"
      ],
      "metadata": {
        "id": "ccwJo4l9idLf"
      },
      "execution_count": null,
      "outputs": []
    },
    {
      "cell_type": "code",
      "source": [
        "gc.collect()"
      ],
      "metadata": {
        "colab": {
          "base_uri": "https://localhost:8080/"
        },
        "id": "AJ6nJW-aF6CO",
        "outputId": "a4dfab70-679f-4d3f-f07d-3366605e6db5"
      },
      "execution_count": null,
      "outputs": [
        {
          "output_type": "execute_result",
          "data": {
            "text/plain": [
              "188"
            ]
          },
          "metadata": {},
          "execution_count": 44
        }
      ]
    },
    {
      "cell_type": "code",
      "source": [
        "torch.cuda.empty_cache()"
      ],
      "metadata": {
        "id": "TuOiy96wF7S1"
      },
      "execution_count": null,
      "outputs": []
    },
    {
      "cell_type": "code",
      "source": [
        "# Building the network\n",
        "import torch.nn as nn\n",
        "import torch.nn.functional as F\n",
        "import torch.optim as optim\n",
        "\n",
        "class RNN_network(nn.Module):\n",
        "    def __init__(self):\n",
        "        super().__init__()\n",
        "        \n",
        " \n",
        "       \n",
        "        self.lstm = nn.LSTM(input_size = 513,\n",
        "                            hidden_size = 15,\n",
        "                            num_layers = 1,\n",
        "                            batch_first = True\n",
        "        ) \n",
        "  \n",
        "        self.fc1 = nn.Linear(15*200, 513*200)\n",
        "        \n",
        "        # Define extra layers \n",
        "        self.ReLU = nn.ReLU()\n",
        "        self.Sigmoid = nn.Sigmoid()\n",
        "        #self.LeakyReLU = nn.LeakyReLU()\n",
        "        # self.Dropout_1 = nn.Dropout(p=.1)\n",
        "        #self.GroupNorm = nn.GroupNorm(group_num, 1024)\n",
        "        \n",
        "    def forward(self, x):\n",
        "      \n",
        "        # Pass the input tensor through each of our operations\n",
        "        h0 = torch.zeros(1, 10, 15).requires_grad_().to(device)\n",
        "        c0 = torch.zeros(1, 10, 15).requires_grad_().to(device)\n",
        "        x, (hn, cn) = self.lstm(x, (h0.detach(), c0.detach()))\n",
        "        \n",
        "        x = x.reshape(10, -1)\n",
        "        x = self.fc1(x)\n",
        "        x = self.ReLU(x)\n",
        "    \n",
        "    \n",
        "        x = self.Sigmoid(x) \n",
        "        x = self.ReLU(x)\n",
        "        x = x.reshape(10,200,513)\n",
        "\n",
        "        return x\n"
      ],
      "metadata": {
        "id": "J-g_6ZZoov2c"
      },
      "execution_count": null,
      "outputs": []
    },
    {
      "cell_type": "code",
      "source": [
        "# import math\n",
        "# def weight_init(m):\n",
        "#   if isinstance(m, nn.Linear):\n",
        "#       # get the number of the inputs\n",
        "#       n = m.in_features\n",
        "#       y = 1.0/np.sqrt(n)\n",
        "#       m.weight.data.uniform_(-y, y)\n",
        "#       m.bias.data.fill_(0.0)\n",
        "#   elif isinstance(m, nn.Conv2d):\n",
        "#       torch.nn.init.xavier_uniform_(m.weight)\n",
        "#       m.bias.data.fill_(0.0)\n",
        "\n",
        "# Send model to GPU\n",
        "RNN_network = RNN_network().to(device)\n",
        "# CNN2D_network.apply(weight_init)\n",
        "RNN_network = RNN_network.float()\n",
        "print(RNN_network)"
      ],
      "metadata": {
        "colab": {
          "base_uri": "https://localhost:8080/"
        },
        "id": "fmU5YItho3Ww",
        "outputId": "152bd50b-06dd-467d-8555-409e4c1aee94"
      },
      "execution_count": null,
      "outputs": [
        {
          "output_type": "stream",
          "name": "stdout",
          "text": [
            "RNN_network(\n",
            "  (lstm): LSTM(513, 15, batch_first=True)\n",
            "  (fc1): Linear(in_features=3000, out_features=102600, bias=True)\n",
            "  (ReLU): ReLU()\n",
            "  (Sigmoid): Sigmoid()\n",
            ")\n"
          ]
        }
      ]
    },
    {
      "cell_type": "code",
      "source": [
        "for name, param in RNN_network.named_parameters():\n",
        "  if 'bias' in name:\n",
        "    nn.init.zeros_(param)\n",
        "  elif (('weight' in name) and ('lstm' in name)):\n",
        "    nn.init.xavier_normal_(param)\n",
        "  elif ('weight' in name):\n",
        "    nn.init.kaiming_uniform_(param, nonlinearity = 'relu') # using uniform dists"
      ],
      "metadata": {
        "id": "ZTBqGUxR1jTb"
      },
      "execution_count": null,
      "outputs": []
    },
    {
      "cell_type": "code",
      "source": [
        "# Define optimizer and loss\n",
        "optimizer = torch.optim.Adam(RNN_network.parameters(), lr = learning_rate)\n",
        "loss_func = torch.nn.MSELoss()"
      ],
      "metadata": {
        "id": "NidyIVuPo7G0"
      },
      "execution_count": null,
      "outputs": []
    },
    {
      "cell_type": "code",
      "source": [
        "# Results of Training\n",
        "bst_prediction_array = None\n",
        "bst_test_data = None\n",
        "bst_test_labels = None\n",
        "bst_metric = -1 * float('inf') # captures best metric\n",
        "bst_model = None\n",
        "bst_model_state_dict = None\n",
        "bst_opt_state_dict = None\n",
        "\n",
        "Training_Result = (bst_prediction_array, bst_test_data, bst_test_labels, bst_metric, bst_model, bst_model_state_dict, bst_opt_state_dict)"
      ],
      "metadata": {
        "id": "AFiMllWC3Cb4"
      },
      "execution_count": null,
      "outputs": []
    },
    {
      "cell_type": "code",
      "source": [
        "from sklearn.metrics import mean_squared_error\n",
        "import copy\n",
        "\n",
        "# Train Function\n",
        "def train(Training_Result_p):\n",
        "\n",
        "  bst_prediction_array, bst_test_data, bst_test_labels, bst_metric, bst_model, bst_model_state_dict, bst_opt_state_dict = Training_Result_p\n",
        "\n",
        "  # Train parameters\n",
        "  epoch = 1 # starting epoch\n",
        "\n",
        "  stop_training = False # set to stop model training\n",
        "\n",
        "  patience_rounds = 0 # number of patience rounds\n",
        " \n",
        "  print(\"Training model\")\n",
        "\n",
        "  while ( (stop_training == False) and (epoch <= n_epochs) ):\n",
        "    \n",
        "    # Training\n",
        "    RNN_network.train()\n",
        "    train_loss = 0 # calc train loss\n",
        "    for batch_idx, (data, target) in enumerate(train_loader):\n",
        "\n",
        "      # Prepare batch data and labels\n",
        "      input_data = data.to(device)\n",
        "      batch_target = target.to(device)\n",
        "\n",
        "      # Forward pass\n",
        "      batch_outputs = RNN_network(input_data.float())\n",
        "      # x = (x>0.5).float()\n",
        "      # loss = loss_func((batch_outputs.float() > 0.5).float(), batch_target.float())\n",
        "      loss = loss_func(batch_outputs.float(), batch_target.float())\n",
        "\n",
        "      # Backward and optimize\n",
        "      optimizer.zero_grad()\n",
        "      loss.backward()\n",
        "      optimizer.step()\n",
        "\n",
        "      train_loss += loss.item() # increment train loss for epoch\n",
        "\n",
        "    \n",
        "   # Evaluation \n",
        "    RNN_network.eval()\n",
        "    lbl_list = []\n",
        "    pred_list = []\n",
        "    with torch.no_grad():\n",
        "      for data, target in valid_loader:\n",
        "        \n",
        "        val_input = data.to(device)\n",
        "        \n",
        "        test_batch_pred = RNN_network.forward(val_input.float())\n",
        "        \n",
        "        val_batch_target = target.numpy()\n",
        "        \n",
        "        test_batch_pred = test_batch_pred.cpu().numpy()\n",
        "\n",
        "        lbl_list.append(val_batch_target)\n",
        "        test_batch_pred = (test_batch_pred.astype(float) > 0.5).astype(float)\n",
        "        pred_list.append(test_batch_pred)\n",
        "      \n",
        "        \n",
        "\n",
        "    lbl_array = np.concatenate(lbl_list, axis=0)\n",
        "    pred_array = np.concatenate(pred_list, axis=0)\n",
        "\n",
        "    average_SNR = 0\n",
        "\n",
        "    # Calculate validation set SNR on first 300 as eval func\n",
        "    for sample in range(300):\n",
        "      # raw_result = ( (valid_vx_freq[sample][0:valid_vx_len[sample], :]).T / np.abs( (valid_vx_freq[sample][0:valid_vx_len[sample], :]).T ) ) * np.abs( (pred_array[sample].T * valid_vx_freq[sample].T)[:,0:valid_vx_len[sample]])\n",
        "      raw_result = (pred_array[sample].T * valid_vx_freq[sample].T)[:,0:valid_vx_len[sample]]\n",
        "      result = librosa.istft(stft_matrix = raw_result,  hop_length=512)\n",
        "\n",
        "      result_clean = valid_vs_time[sample][0:result.size]\n",
        "\n",
        "      clean_t = result_clean\n",
        "      denoised_t = result\n",
        "\n",
        "      r1 = np.dot(clean_t,clean_t)\n",
        "      r2 = np.dot((clean_t - denoised_t), (clean_t - denoised_t))\n",
        "      valid_SNR = 10*np.log10(r1/(r2+1e-20))\n",
        "      average_SNR += valid_SNR\n",
        "\n",
        "    epoch_metric = average_SNR / 300\n",
        "    epoch_metric_mse = np.square(np.subtract(pred_array, lbl_array)).mean()\n",
        "    \n",
        "    # Early Stop\n",
        "    # if acc better than previous\n",
        "    if(epoch_metric > bst_metric):\n",
        "      # reset patience\n",
        "      patience_rounds = 0\n",
        "\n",
        "      # Save result\n",
        "      bst_metric = epoch_metric\n",
        "\n",
        "      # Save Model\n",
        "      bst_model = copy.deepcopy(RNN_network) \n",
        "      bst_model_state_dict = RNN_network.state_dict()\n",
        "      bst_opt_state_dict = optimizer.state_dict()\n",
        "      # torch.save(model, 'best_mnist_model.pt')\n",
        "\n",
        "    # if epoch acc worse\n",
        "    else:\n",
        "      # inc patience\n",
        "      patience_rounds += 1\n",
        "      if(patience_rounds >= patience):\n",
        "        stop_training = True\n",
        "        print(\"Stopping!\")\n",
        "    \n",
        "    # Logging\n",
        "    if ( epoch % log_interval == 0 or epoch == 1 ) :\n",
        "      print(\"Epoch: {}, Total Training Loss: {}, Total Validation Loss: {}, Epoch Validation SNR: {}, Best Validation SNR: {} \\n \".format(epoch, train_loss,epoch_metric_mse, epoch_metric, bst_metric))\n",
        "    # increment epoch\n",
        "    epoch += 1\n",
        "\n",
        "  print(\"Training Finished!\")\n",
        "  Training_Return = (bst_prediction_array, bst_test_data, bst_test_labels, bst_metric, bst_model, bst_model_state_dict, bst_opt_state_dict)\n",
        "  return Training_Return"
      ],
      "metadata": {
        "id": "Iepeib403Gtv"
      },
      "execution_count": null,
      "outputs": []
    },
    {
      "cell_type": "code",
      "source": [
        "# Train \n",
        "res = train(Training_Result)\n",
        "\n",
        "bst_prediction_array, bst_test_data, bst_test_labels, bst_metric, bst_model, bst_model_state_dict, bst_opt_state_dict = res\n",
        "\n",
        "# Best Model\n",
        "print(\"Best Metric Model was : {:.2f}\".format(bst_metric))"
      ],
      "metadata": {
        "colab": {
          "base_uri": "https://localhost:8080/"
        },
        "id": "850zwlrq3LN7",
        "outputId": "63fa375f-566e-4528-fd7a-2ea79813d62c"
      },
      "execution_count": null,
      "outputs": [
        {
          "output_type": "stream",
          "name": "stdout",
          "text": [
            "Training model\n",
            "Epoch: 1, Total Training Loss: 29.60572277009487, Total Validation Loss: 0.4260396280051982, Epoch Validation SNR: 2.535234532878293, Best Validation SNR: 2.535234532878293 \n",
            " \n",
            "Epoch: 2, Total Training Loss: 28.979280158877373, Total Validation Loss: 0.42321110298895387, Epoch Validation SNR: 3.1162563369296494, Best Validation SNR: 3.1162563369296494 \n",
            " \n",
            "Epoch: 3, Total Training Loss: 28.592055082321167, Total Validation Loss: 0.4125285168940871, Epoch Validation SNR: 3.2896307145566315, Best Validation SNR: 3.2896307145566315 \n",
            " \n",
            "Epoch: 4, Total Training Loss: 28.066786721348763, Total Validation Loss: 0.40835647335932423, Epoch Validation SNR: 4.1825473724023965, Best Validation SNR: 4.1825473724023965 \n",
            " \n",
            "Epoch: 5, Total Training Loss: 27.469841226935387, Total Validation Loss: 0.4026913255360624, Epoch Validation SNR: 4.686492305388942, Best Validation SNR: 4.686492305388942 \n",
            " \n",
            "Epoch: 6, Total Training Loss: 26.919839307665825, Total Validation Loss: 0.40498490903183887, Epoch Validation SNR: 5.062656982889048, Best Validation SNR: 5.062656982889048 \n",
            " \n",
            "Epoch: 7, Total Training Loss: 26.532887771725655, Total Validation Loss: 0.38729668615984403, Epoch Validation SNR: 6.655440497005781, Best Validation SNR: 6.655440497005781 \n",
            " \n",
            "Epoch: 8, Total Training Loss: 26.041149824857712, Total Validation Loss: 0.38183517706302794, Epoch Validation SNR: 7.179147344031336, Best Validation SNR: 7.179147344031336 \n",
            " \n",
            "Epoch: 9, Total Training Loss: 25.49970570206642, Total Validation Loss: 0.3791946718648473, Epoch Validation SNR: 7.369165036251969, Best Validation SNR: 7.369165036251969 \n",
            " \n",
            "Epoch: 10, Total Training Loss: 24.98789146542549, Total Validation Loss: 0.3773700698505523, Epoch Validation SNR: 7.569802520245706, Best Validation SNR: 7.569802520245706 \n",
            " \n",
            "Epoch: 11, Total Training Loss: 24.554006949067116, Total Validation Loss: 0.3784470922677063, Epoch Validation SNR: 7.5363807068277024, Best Validation SNR: 7.569802520245706 \n",
            " \n",
            "Epoch: 12, Total Training Loss: 24.149916172027588, Total Validation Loss: 0.38520640838206627, Epoch Validation SNR: 7.0908216481673465, Best Validation SNR: 7.569802520245706 \n",
            " \n",
            "Epoch: 13, Total Training Loss: 23.819153353571892, Total Validation Loss: 0.38402602339181285, Epoch Validation SNR: 7.1851876276097055, Best Validation SNR: 7.569802520245706 \n",
            " \n",
            "Epoch: 14, Total Training Loss: 23.523533433675766, Total Validation Loss: 0.3858071312540611, Epoch Validation SNR: 7.147086815340778, Best Validation SNR: 7.569802520245706 \n",
            " \n",
            "Epoch: 15, Total Training Loss: 23.241365015506744, Total Validation Loss: 0.3814723196881092, Epoch Validation SNR: 7.425354110418577, Best Validation SNR: 7.569802520245706 \n",
            " \n",
            "Epoch: 16, Total Training Loss: 22.956234633922577, Total Validation Loss: 0.37886088369070825, Epoch Validation SNR: 7.765891958777843, Best Validation SNR: 7.765891958777843 \n",
            " \n",
            "Epoch: 17, Total Training Loss: 22.677258148789406, Total Validation Loss: 0.3740446799870045, Epoch Validation SNR: 8.369010408716568, Best Validation SNR: 8.369010408716568 \n",
            " \n",
            "Epoch: 18, Total Training Loss: 22.43663200736046, Total Validation Loss: 0.3698130198180637, Epoch Validation SNR: 8.815288879251058, Best Validation SNR: 8.815288879251058 \n",
            " \n",
            "Epoch: 19, Total Training Loss: 22.18921348452568, Total Validation Loss: 0.37070860948667966, Epoch Validation SNR: 8.74140032296535, Best Validation SNR: 8.815288879251058 \n",
            " \n",
            "Epoch: 20, Total Training Loss: 21.925272673368454, Total Validation Loss: 0.37056699155295647, Epoch Validation SNR: 8.697890109736115, Best Validation SNR: 8.815288879251058 \n",
            " \n",
            "Epoch: 21, Total Training Loss: 21.685013979673386, Total Validation Loss: 0.37050757797270956, Epoch Validation SNR: 8.757826245065738, Best Validation SNR: 8.815288879251058 \n",
            " \n",
            "Epoch: 22, Total Training Loss: 21.48308503627777, Total Validation Loss: 0.37047279077322937, Epoch Validation SNR: 8.782769150018051, Best Validation SNR: 8.815288879251058 \n",
            " \n",
            "Epoch: 23, Total Training Loss: 21.273074492812157, Total Validation Loss: 0.3704485867446394, Epoch Validation SNR: 8.744434845690334, Best Validation SNR: 8.815288879251058 \n",
            " \n",
            "Epoch: 24, Total Training Loss: 21.078006729483604, Total Validation Loss: 0.3704051494476933, Epoch Validation SNR: 8.688604674007019, Best Validation SNR: 8.815288879251058 \n",
            " \n",
            "Epoch: 25, Total Training Loss: 20.90820701420307, Total Validation Loss: 0.3703056855100715, Epoch Validation SNR: 8.607402156447026, Best Validation SNR: 8.815288879251058 \n",
            " \n",
            "Epoch: 26, Total Training Loss: 20.76019948720932, Total Validation Loss: 0.36983283788174137, Epoch Validation SNR: 8.677997437572673, Best Validation SNR: 8.815288879251058 \n",
            " \n",
            "Epoch: 27, Total Training Loss: 20.630645215511322, Total Validation Loss: 0.3697368989603639, Epoch Validation SNR: 8.72869522453707, Best Validation SNR: 8.815288879251058 \n",
            " \n",
            "Epoch: 28, Total Training Loss: 20.508583903312683, Total Validation Loss: 0.3695852257959714, Epoch Validation SNR: 8.705431692006071, Best Validation SNR: 8.815288879251058 \n",
            " \n",
            "Epoch: 29, Total Training Loss: 20.396749198436737, Total Validation Loss: 0.36950558804418454, Epoch Validation SNR: 8.597384617701193, Best Validation SNR: 8.815288879251058 \n",
            " \n",
            "Epoch: 30, Total Training Loss: 20.290869027376175, Total Validation Loss: 0.3712035250162443, Epoch Validation SNR: 8.348255639308476, Best Validation SNR: 8.815288879251058 \n",
            " \n",
            "Epoch: 31, Total Training Loss: 20.20042596757412, Total Validation Loss: 0.3757519087069526, Epoch Validation SNR: 8.035915180478481, Best Validation SNR: 8.815288879251058 \n",
            " \n",
            "Epoch: 32, Total Training Loss: 20.1271945387125, Total Validation Loss: 0.37832233593242365, Epoch Validation SNR: 7.924165820157111, Best Validation SNR: 8.815288879251058 \n",
            " \n",
            "Epoch: 33, Total Training Loss: 20.063544645905495, Total Validation Loss: 0.3781932179987005, Epoch Validation SNR: 7.967832924089577, Best Validation SNR: 8.815288879251058 \n",
            " \n",
            "Epoch: 34, Total Training Loss: 19.99384067952633, Total Validation Loss: 0.37618819850552304, Epoch Validation SNR: 8.124440252878426, Best Validation SNR: 8.815288879251058 \n",
            " \n",
            "Epoch: 35, Total Training Loss: 19.92195788025856, Total Validation Loss: 0.3739087962962963, Epoch Validation SNR: 8.318155368923163, Best Validation SNR: 8.815288879251058 \n",
            " \n",
            "Epoch: 36, Total Training Loss: 19.850150004029274, Total Validation Loss: 0.3731854938271605, Epoch Validation SNR: 8.447834900831213, Best Validation SNR: 8.815288879251058 \n",
            " \n",
            "Epoch: 37, Total Training Loss: 19.779687479138374, Total Validation Loss: 0.37352871182586095, Epoch Validation SNR: 8.501993967860475, Best Validation SNR: 8.815288879251058 \n",
            " \n",
            "Epoch: 38, Total Training Loss: 19.707761526107788, Total Validation Loss: 0.3750861598440546, Epoch Validation SNR: 8.464306582082793, Best Validation SNR: 8.815288879251058 \n",
            " \n",
            "Epoch: 39, Total Training Loss: 19.640137553215027, Total Validation Loss: 0.37608791423001947, Epoch Validation SNR: 8.392137006600091, Best Validation SNR: 8.815288879251058 \n",
            " \n",
            "Epoch: 40, Total Training Loss: 19.575037240982056, Total Validation Loss: 0.3758800925925926, Epoch Validation SNR: 8.301937680374449, Best Validation SNR: 8.815288879251058 \n",
            " \n",
            "Epoch: 41, Total Training Loss: 19.510284334421158, Total Validation Loss: 0.37529980506822613, Epoch Validation SNR: 8.285185993892554, Best Validation SNR: 8.815288879251058 \n",
            " \n",
            "Epoch: 42, Total Training Loss: 19.44989351928234, Total Validation Loss: 0.3741531757634828, Epoch Validation SNR: 8.43012039361885, Best Validation SNR: 8.815288879251058 \n",
            " \n",
            "Stopping!\n",
            "Epoch: 43, Total Training Loss: 19.38504771888256, Total Validation Loss: 0.3732075454840806, Epoch Validation SNR: 8.57450229073674, Best Validation SNR: 8.815288879251058 \n",
            " \n",
            "Training Finished!\n",
            "Best Metric Model was : 8.82\n"
          ]
        }
      ]
    },
    {
      "cell_type": "code",
      "source": [
        "bst_model.eval()\n",
        "import statistics\n",
        "lbl_list = []\n",
        "pred_list = []\n",
        "with torch.no_grad():\n",
        "  for data in valid_loader:\n",
        "    \n",
        "    val_input = data[0].to(device)\n",
        "    \n",
        "    test_batch_pred = bst_model.forward(val_input.float())\n",
        "    \n",
        "\n",
        "    \n",
        "    test_batch_pred = test_batch_pred.cpu().numpy()\n",
        "\n",
        "\n",
        "    test_batch_pred = (test_batch_pred.astype(float) > 0.5).astype(float)\n",
        "    pred_list.append(test_batch_pred)\n",
        "  \n",
        "    \n",
        "\n",
        "\n",
        "pred_array = np.concatenate(pred_list, axis=0)\n",
        "\n",
        "average_SNR = 0\n",
        "SNR_list = []\n",
        "# Calculate validation set SNR on first 300 as eval func\n",
        "for sample in range(1200):\n",
        "  # raw_result = ( (valid_vx_freq[sample][0:valid_vx_len[sample], :]).T / np.abs( (valid_vx_freq[sample][0:valid_vx_len[sample], :]).T ) ) * np.abs( (pred_array[sample].T * valid_vx_freq[sample].T)[:,0:valid_vx_len[sample]])\n",
        "  raw_result = (pred_array[sample].T * valid_vx_freq[sample].T)[:,0:valid_vx_len[sample]]\n",
        "  result = librosa.istft(stft_matrix = raw_result,  hop_length=512)\n",
        "\n",
        "  result_clean = valid_vs_time[sample][0:result.size]\n",
        "\n",
        "  clean_t = result_clean\n",
        "  denoised_t = result\n",
        "\n",
        "  r1 = np.dot(clean_t,clean_t)\n",
        "  r2 = np.dot((clean_t - denoised_t), (clean_t - denoised_t))\n",
        "  valid_SNR = 10*np.log10(r1/(r2+1e-20))\n",
        "  average_SNR += valid_SNR\n",
        "  SNR_list.append(valid_SNR)\n",
        "\n",
        "epoch_metric = average_SNR / 1200"
      ],
      "metadata": {
        "id": "tnICPm7V8RQc"
      },
      "execution_count": null,
      "outputs": []
    },
    {
      "cell_type": "code",
      "source": [
        "print(\"validation SNR mean : \", epoch_metric)"
      ],
      "metadata": {
        "colab": {
          "base_uri": "https://localhost:8080/"
        },
        "id": "neodyBE0OQjW",
        "outputId": "3bf3a78a-da01-4061-dbbf-af54d2ad13b7"
      },
      "execution_count": null,
      "outputs": [
        {
          "output_type": "stream",
          "name": "stdout",
          "text": [
            "validation SNR mean :  8.273647930025302\n"
          ]
        }
      ]
    },
    {
      "cell_type": "code",
      "source": [
        "# Getting test data\n",
        "path = \"/content/drive/My Drive/DLS_Assignments/3/homework3/timit-homework/te/\"\n",
        "files_tex = []\n",
        "\n",
        "for i in os.listdir(path):\n",
        "    if os.path.isfile(os.path.join(path,i)):\n",
        "        files_tex.append(i)"
      ],
      "metadata": {
        "id": "dMy0Vg3LP6X8"
      },
      "execution_count": null,
      "outputs": []
    },
    {
      "cell_type": "code",
      "source": [
        "files_tex.sort()"
      ],
      "metadata": {
        "id": "xC7Ucp2JQMJD"
      },
      "execution_count": null,
      "outputs": []
    },
    {
      "cell_type": "code",
      "source": [
        "# load data for training files and do stft\n",
        "path = \"/content/drive/My Drive/DLS_Assignments/3/homework3/timit-homework/te/\"\n",
        "test_te_time = []\n",
        "test_te_freq = []\n",
        "test_te_freq_abs = []\n",
        "test_te_len = []\n",
        "\n",
        "\n",
        "for file_name in files_tex:\n",
        "\n",
        "  # Get time-domain signal\n",
        "  s, sr=librosa.load(os.path.join(path,file_name), sr=None)\n",
        "  test_te_time.append(s)\n",
        "\n",
        "  # Get freq domain signal\n",
        "  S=librosa.stft(s, n_fft=1024, hop_length=512)\n",
        "\n",
        "  test_te_len.append(S.shape[1])\n",
        "\n",
        "  silent_new_arr = (np.random.rand(200-S.shape[1],513) * 1e-20) + (np.random.rand(200-S.shape[1],513) * 1e-20) * 1j\n",
        "\n",
        "  S = np.concatenate((S.T,silent_new_arr), axis=0)\n",
        "\n",
        "  test_te_freq.append(S)\n",
        "\n",
        "  S_abs = np.abs(S)\n",
        "\n",
        "  test_te_freq_abs.append(S_abs)"
      ],
      "metadata": {
        "id": "6LrvvFhkQML8"
      },
      "execution_count": null,
      "outputs": []
    },
    {
      "cell_type": "code",
      "source": [
        "test_te_freq_abs = torch.from_numpy(np.array(test_te_freq_abs))\n",
        "Test_dataset = TensorDataset(test_te_freq_abs)\n",
        "test_loader = torch.utils.data.DataLoader(Test_dataset,batch_size=10, shuffle=False)"
      ],
      "metadata": {
        "id": "b_lDu22eQMPR"
      },
      "execution_count": null,
      "outputs": []
    },
    {
      "cell_type": "code",
      "source": [
        "test_te_freq[0].shape"
      ],
      "metadata": {
        "colab": {
          "base_uri": "https://localhost:8080/"
        },
        "id": "xuEMdbr_V8TO",
        "outputId": "55fcb7e1-38f9-4abe-8f19-bf853cec8b26"
      },
      "execution_count": null,
      "outputs": [
        {
          "output_type": "execute_result",
          "data": {
            "text/plain": [
              "(200, 513)"
            ]
          },
          "metadata": {},
          "execution_count": 63
        }
      ]
    },
    {
      "cell_type": "code",
      "source": [
        "pred_array[0].shape"
      ],
      "metadata": {
        "colab": {
          "base_uri": "https://localhost:8080/"
        },
        "id": "TfQm6h3wWIqE",
        "outputId": "8094ee54-75ea-4c8d-c295-12750336d33f"
      },
      "execution_count": null,
      "outputs": [
        {
          "output_type": "execute_result",
          "data": {
            "text/plain": [
              "(200, 513)"
            ]
          },
          "metadata": {},
          "execution_count": 64
        }
      ]
    },
    {
      "cell_type": "code",
      "source": [
        "bst_model.eval()\n",
        "import soundfile as sf\n",
        "import os.path\n",
        "pred_list = []\n",
        "with torch.no_grad():\n",
        "  for data in test_loader:\n",
        "    \n",
        "\n",
        "    test_batch_pred = bst_model.forward(data[0].to(device).float())\n",
        "    \n",
        "    test_batch_pred = test_batch_pred.cpu().numpy()\n",
        "\n",
        "    test_batch_pred = (test_batch_pred.astype(float) > 0.5).astype(float)\n",
        "    pred_list.append(test_batch_pred)\n",
        "  \n",
        "pred_array = np.concatenate(pred_list, axis=0)\n",
        "\n",
        "for sample in range(len(test_te_len)):\n",
        "  # raw_result = ( (test_te_freq[sample][0:test_te_len[sample], :]).T / np.abs( (test_te_freq[sample][0:test_te_len[sample], :]).T ) ) * np.abs( (pred_array[sample].T * test_te_freq[sample].T)[:,0:test_te_len[sample]])\n",
        "  raw_result = (pred_array[sample].T * test_te_freq[sample].T)[:,0:test_te_len[sample]]\n",
        "  result = librosa.istft(stft_matrix = raw_result,  hop_length=512)\n",
        "  save_path = os.path.join(\"/content/drive/My Drive/DLS_Assignments/3/Q3_output/\",  'ter'+str(sample)+'.wav')\n",
        "  sf.write(save_path, result, sr)\n",
        "  "
      ],
      "metadata": {
        "id": "UiLFPHmMP6bW"
      },
      "execution_count": null,
      "outputs": []
    },
    {
      "cell_type": "code",
      "source": [
        "IPython.display.Audio(\"/content/drive/My Drive/DLS_Assignments/3/Q3_output/ter310.wav\")"
      ],
      "metadata": {
        "colab": {
          "base_uri": "https://localhost:8080/",
          "height": 75
        },
        "id": "vQxhGB4cQmi2",
        "outputId": "c99e3541-fade-4cac-df84-7ffd9c3ffe33"
      },
      "execution_count": null,
      "outputs": [
        {
          "output_type": "execute_result",
          "data": {
            "text/plain": [
              "<IPython.lib.display.Audio object>"
            ],
            "text/html": [
              "\n",
              "                <audio  controls=\"controls\" >\n",
              "                    <source src=\"data:audio/x-wav;base64,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\" type=\"audio/x-wav\" />\n",
              "                    Your browser does not support the audio element.\n",
              "                </audio>\n",
              "              "
            ]
          },
          "metadata": {},
          "execution_count": 78
        }
      ]
    },
    {
      "cell_type": "code",
      "source": [
        "IPython.display.Audio(\"/content/drive/My Drive/DLS_Assignments/3/Q3_output/ter15.wav\")"
      ],
      "metadata": {
        "colab": {
          "base_uri": "https://localhost:8080/",
          "height": 75
        },
        "id": "HY6ztT4nQmli",
        "outputId": "5feaa9f3-4366-4ee2-b2fb-636f8bc5550b"
      },
      "execution_count": null,
      "outputs": [
        {
          "output_type": "execute_result",
          "data": {
            "text/plain": [
              "<IPython.lib.display.Audio object>"
            ],
            "text/html": [
              "\n",
              "                <audio  controls=\"controls\" >\n",
              "                    <source src=\"data:audio/x-wav;base64,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\" type=\"audio/x-wav\" />\n",
              "                    Your browser does not support the audio element.\n",
              "                </audio>\n",
              "              "
            ]
          },
          "metadata": {},
          "execution_count": 66
        }
      ]
    }
  ]
}