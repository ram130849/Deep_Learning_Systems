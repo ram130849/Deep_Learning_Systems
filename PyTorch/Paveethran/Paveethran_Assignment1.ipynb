{
 "cells": [
  {
   "cell_type": "code",
   "execution_count": 189,
   "id": "7537c5e8",
   "metadata": {},
   "outputs": [
    {
     "name": "stdout",
     "output_type": "stream",
     "text": [
      "<class 'torchvision.datasets.mnist.MNIST'>\n"
     ]
    }
   ],
   "source": [
    "# Q1:\n",
    "import torchvision\n",
    "import numpy as np\n",
    "import torch\n",
    "import torch.nn as nn\n",
    "from torchvision import transforms, datasets\n",
    "from torch.utils.data import SubsetRandomSampler, RandomSampler, random_split\n",
    "\n",
    "mnist_train=torchvision.datasets.MNIST('mnist',\n",
    "                train=True,\n",
    "                download=True,\n",
    "                transform=torchvision.transforms.Compose([\n",
    "                torchvision.transforms.ToTensor(),\n",
    "                torchvision.transforms.Normalize((0.1307,), (0.3081,))\n",
    "                ]))\n",
    "\n",
    "# Get validation split here (5000 random samples as validation data)\n",
    "# mnist_valid = random_split(mnist_train, [len(mnist_train) - 5000, 5000])\n",
    "dataset_size = len(mnist_train)\n",
    "indices = list(range(dataset_size))\n",
    "validation_split = 0.2\n",
    "split = int(validation_split * dataset_size)\n",
    "np.random.shuffle(indices)\n",
    "\n",
    "train_indices, val_indices = indices[split:], indices[:split]\n",
    "\n",
    "# Creating PT data samplers and loaders:\n",
    "train_sampler = SubsetRandomSampler(train_indices)\n",
    "valid_sampler = SubsetRandomSampler(val_indices)\n",
    "\n",
    "mnist_test=torchvision.datasets.MNIST('mnist',\n",
    "                train=False,\n",
    "                download=True,\n",
    "                transform=torchvision.transforms.Compose([\n",
    "                torchvision.transforms.ToTensor(),\n",
    "                torchvision.transforms.Normalize((0.1307,), (0.3081,))\n",
    "                ]))\n",
    "\n",
    "print(type(mnist_train))\n"
   ]
  },
  {
   "cell_type": "code",
   "execution_count": 190,
   "id": "b34ddb6f",
   "metadata": {},
   "outputs": [
    {
     "name": "stdout",
     "output_type": "stream",
     "text": [
      "torch.Size([60000, 28, 28])\n",
      "torch.Size([10000, 28, 28])\n"
     ]
    }
   ],
   "source": [
    "print(mnist_train.data.shape)\n",
    "print(mnist_test.data.shape)"
   ]
  },
  {
   "cell_type": "code",
   "execution_count": 193,
   "id": "e50885c6",
   "metadata": {},
   "outputs": [],
   "source": [
    "# Dataloader for laoding in data\n",
    "# Steps to do this is to convert raw data to tensor\n",
    "# Then tensor to dataset object\n",
    "# And then from dataset object to dataloader\n",
    "\n",
    "# Our MNIST is already in tensorDataset format\n",
    "# train_dataset = torch.utils.data.TensorDataset(mnist_train.data, mnist_train.targets)\n",
    "\n",
    "# First split trainset into train and validation data\n",
    "trainset = torch.utils.data.DataLoader(mnist_train, batch_size=264, sampler=train_sampler)\n",
    "# validset = torch.utils.data.DataLoader(mnist_valid, batch_size=264, sampler=train_sampler)\n",
    "validset = torch.utils.data.DataLoader(mnist_train, batch_size=264, sampler=valid_sampler)\n",
    "\n",
    "# Same for test dataset\n",
    "testset = torch.utils.data.DataLoader(mnist_test, batch_size=264, shuffle=False)\n",
    "\n"
   ]
  },
  {
   "cell_type": "code",
   "execution_count": 194,
   "id": "7599d43e",
   "metadata": {},
   "outputs": [],
   "source": [
    "class NN(nn.Module):\n",
    "    \n",
    "    def __init__(self):\n",
    "        super(NN, self).__init__() # any init calls before this should also call this init only\n",
    "        self.fp_input = nn.Linear(28*28, 1024)\n",
    "        self.fp1 = nn.Linear(1024, 1024)\n",
    "        self.fp2 = nn.Linear(1024, 1024)\n",
    "        self.fp3 = nn.Linear(1024, 1024)\n",
    "        self.fp4 = nn.Linear(1024, 1024)\n",
    "        self.fp5 = nn.Linear(1024, 10)\n",
    "        self.output_activation = nn.Softmax(dim = 1)\n",
    "        \n",
    "    def forward(self, input):\n",
    "        # flatten input already so that it is a row vector\n",
    "        input = self.fp_input(input)\n",
    "        input = self.fp1(input)\n",
    "        input = self.fp2(input)\n",
    "        input = self.fp3(input)\n",
    "        input = self.fp4(input)\n",
    "        input = self.output_activation(self.fp5(input))        \n",
    "        return input        \n",
    "    "
   ]
  },
  {
   "cell_type": "code",
   "execution_count": 195,
   "id": "5aaa5ac0",
   "metadata": {},
   "outputs": [],
   "source": [
    "# A minor difference is that the implementation of CrossEntrypyLoss implicitly applies a softmax activation followed by a log transformation \n",
    "# but NLLLoss does not.\n",
    "torch.cuda.is_available()\n",
    "device = torch.device('cuda')\n",
    "\n",
    "# Calling the NN class\n",
    "net = NN()\n",
    "if torch.cuda.is_available():\n",
    "    net.cuda()\n"
   ]
  },
  {
   "cell_type": "code",
   "execution_count": 200,
   "id": "82e7f10c",
   "metadata": {
    "scrolled": true
   },
   "outputs": [
    {
     "name": "stdout",
     "output_type": "stream",
     "text": [
      "Epoch 1 \t\t Training loss: 2.3641576321570428 \t\t Validation loss: 2.3620731571446294 \n",
      "Epoch 2 \t\t Training loss: 2.3641252504600274 \t\t Validation loss: 2.3627648768217666 \n",
      "Epoch 3 \t\t Training loss: 2.3640975048253825 \t\t Validation loss: 2.362567238185717 \n",
      "Epoch 4 \t\t Training loss: 2.3641298825924215 \t\t Validation loss: 2.362369635830755 \n",
      "Epoch 5 \t\t Training loss: 2.36416687808194 \t\t Validation loss: 2.362468439599742 \n",
      "Epoch 6 \t\t Training loss: 2.364143758029728 \t\t Validation loss: 2.36246845514878 \n",
      "Epoch 7 \t\t Training loss: 2.3641159940551923 \t\t Validation loss: 2.3623696202817173 \n",
      "Epoch 8 \t\t Training loss: 2.364111378952697 \t\t Validation loss: 2.3626660626867544 \n",
      "Epoch 9 \t\t Training loss: 2.364116009775099 \t\t Validation loss: 2.362863680590754 \n"
     ]
    }
   ],
   "source": [
    "# Need to set optimizers and loss functions\n",
    "loss_func = nn.CrossEntropyLoss()\n",
    "optimizer = torch.optim.Adam(net.parameters(), lr = 0.001)\n",
    "\n",
    "train_loss_all = []\n",
    "valid_loss_all = []\n",
    "\n",
    "global min_valid_loss\n",
    "min_valid_loss = 99999\n",
    "global tolerance_level\n",
    "tolerance_level = 0\n",
    "\n",
    "epochs = 30\n",
    "for epoch in range(1, 10):\n",
    "    train_loss = 0\n",
    "    valid_loss = 0\n",
    "    \n",
    "    for i, (data, labels) in enumerate(trainset):\n",
    "        # Push all variables to cuda\n",
    "        if(torch.cuda.is_available()):\n",
    "            data, labels =  data.to(device), labels.to(device)\n",
    "            \n",
    "        optimizer.zero_grad() # reset gradients\n",
    "        output = net(data.reshape(-1, 784)).to(device)\n",
    "        loss = loss_func(output, labels)\n",
    "        loss.backward()\n",
    "        optimizer.step()\n",
    "        # Track loss\n",
    "        train_loss += loss.item()\n",
    "        \n",
    "    # Now do validation and keep track of valid loss\n",
    "    net.eval()\n",
    "    for i, (data, labels) in enumerate(validset):\n",
    "        if(torch.cuda.is_available()):\n",
    "            data, labels = data.to(device), labels.to(device)\n",
    "        \n",
    "        # FP\n",
    "        pred = net(data.reshape(-1, 784)).to(device)\n",
    "        loss = loss_func(pred, labels)\n",
    "        valid_loss += loss.item()\n",
    "        \n",
    "    \n",
    "    print(f'Epoch {epoch} \\t\\t Training loss: {train_loss/len(trainset)} \\t\\t Validation loss: {valid_loss/len(validset)} ')\n",
    "    train_loss_all.append(train_loss/len(trainset))\n",
    "    valid_loss_all.append(valid_loss/len(validset))\n",
    "    \n",
    "    # Early Stopping\n",
    "    if(valid_loss/len(validset) < min_valid_loss):\n",
    "        if(tolerance_level == 5):\n",
    "            print('EARLY STOPPING ACTIVATED!! NO DECREASE IN VALID LOSS FOR PAST 5 EPOCHS')\n",
    "            break\n",
    "        else:\n",
    "            min_valid_loss = valid_loss/len(validset)\n",
    "            tolerance_level+=1    \n",
    "        "
   ]
  },
  {
   "cell_type": "code",
   "execution_count": null,
   "id": "f113cab6",
   "metadata": {},
   "outputs": [],
   "source": []
  }
 ],
 "metadata": {
  "kernelspec": {
   "display_name": "Python 3",
   "language": "python",
   "name": "python3"
  },
  "language_info": {
   "codemirror_mode": {
    "name": "ipython",
    "version": 3
   },
   "file_extension": ".py",
   "mimetype": "text/x-python",
   "name": "python",
   "nbconvert_exporter": "python",
   "pygments_lexer": "ipython3",
   "version": "3.7.9"
  }
 },
 "nbformat": 4,
 "nbformat_minor": 5
}
