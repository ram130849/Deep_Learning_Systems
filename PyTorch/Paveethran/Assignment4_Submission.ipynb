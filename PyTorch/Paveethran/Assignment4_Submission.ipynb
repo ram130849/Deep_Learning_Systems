{
 "cells": [
  {
   "cell_type": "code",
   "execution_count": 1,
   "metadata": {
    "colab": {
     "base_uri": "https://localhost:8080/"
    },
    "id": "1iVXboD-6qYY",
    "outputId": "3841d3c9-1501-44b9-a990-2d773f7232bd"
   },
   "outputs": [
    {
     "name": "stdout",
     "output_type": "stream",
     "text": [
      "Looking in indexes: https://pypi.org/simple, https://us-python.pkg.dev/colab-wheels/public/simple/\n",
      "Requirement already satisfied: simplejson in /usr/local/lib/python3.7/dist-packages (3.18.0)\n"
     ]
    }
   ],
   "source": [
    "import torch\n",
    "import torchvision\n",
    "import numpy as np\n",
    "import math\n",
    "from sklearn.metrics import accuracy_score\n",
    "import torch\n",
    "import torch.nn as nn\n",
    "import torch.optim as optim\n",
    "import torch.nn.functional as func\n",
    "from torchvision import transforms, datasets\n",
    "from torch.utils.data import SubsetRandomSampler, RandomSampler, random_split\n",
    "from torch.utils.data import TensorDataset\n",
    "import matplotlib.pyplot as plt\n",
    "import librosa\n",
    "import IPython\n",
    "import soundfile as sf\n",
    "from sklearn.model_selection import ShuffleSplit\n",
    "from sklearn.model_selection import train_test_split\n",
    "from sklearn.metrics import mean_squared_error\n",
    "import glob\n",
    "import os, random\n",
    "import pickle\n",
    "!pip install simplejson\n",
    "import simplejson\n",
    "import pandas as pd\n",
    "import ast\n",
    "from matplotlib.pyplot import figure\n",
    "import copy\n",
    "from itertools import combinations,product\n",
    "import seaborn as sns\n",
    "import gzip\n"
   ]
  },
  {
   "cell_type": "code",
   "execution_count": 2,
   "metadata": {
    "colab": {
     "base_uri": "https://localhost:8080/"
    },
    "id": "0zcttZQI61H2",
    "outputId": "57fbeb53-8427-4377-c496-492717d46cc2"
   },
   "outputs": [
    {
     "name": "stdout",
     "output_type": "stream",
     "text": [
      "Drive already mounted at /content/drive; to attempt to forcibly remount, call drive.mount(\"/content/drive\", force_remount=True).\n"
     ]
    }
   ],
   "source": [
    "\n",
    "from google.colab import drive\n",
    "drive.mount('/content/drive')\n"
   ]
  },
  {
   "cell_type": "code",
   "execution_count": 3,
   "metadata": {
    "id": "ZSLWdGzq635_"
   },
   "outputs": [],
   "source": [
    "folder_path = \"/content/drive/My Drive/Projects and research stuffs/DLS Assignments/Assignment 4/\"\n"
   ]
  },
  {
   "cell_type": "code",
   "execution_count": 3,
   "metadata": {
    "id": "F-nQZeaB6_zg"
   },
   "outputs": [],
   "source": []
  },
  {
   "cell_type": "markdown",
   "metadata": {
    "id": "lanENqxk7S1-"
   },
   "source": [
    "## Problem 1: Network compression using SVD - MNIST Classification with 6 D values"
   ]
  },
  {
   "cell_type": "markdown",
   "metadata": {
    "id": "a-WnOYTf7cnr"
   },
   "source": [
    "### Loading data and data loader for network"
   ]
  },
  {
   "cell_type": "code",
   "execution_count": 4,
   "metadata": {
    "colab": {
     "base_uri": "https://localhost:8080/"
    },
    "id": "zmnkcVeM7diZ",
    "outputId": "672a5565-7f0e-4593-eb30-64fbd1eda9bf"
   },
   "outputs": [
    {
     "name": "stdout",
     "output_type": "stream",
     "text": [
      "MNIST Train shape torch.Size([60000, 28, 28]) <class 'torchvision.datasets.mnist.MNIST'>\n"
     ]
    }
   ],
   "source": [
    "mnist_train=torchvision.datasets.MNIST('mnist',\n",
    "                train=True,\n",
    "                download=True,\n",
    "                transform=torchvision.transforms.Compose([\n",
    "                torchvision.transforms.ToTensor(),\n",
    "                torchvision.transforms.Normalize((0.1307,), (0.3081,))\n",
    "                ]))\n",
    "\n",
    "mnist_test=torchvision.datasets.MNIST('mnist',\n",
    "                train=False,\n",
    "                download=True,\n",
    "                transform=torchvision.transforms.Compose([\n",
    "                torchvision.transforms.ToTensor(),\n",
    "                torchvision.transforms.Normalize((0.1307,), (0.3081,))\n",
    "                ]))\n",
    "\n",
    "print('MNIST Train shape', mnist_train.data.shape, type(mnist_train))"
   ]
  },
  {
   "cell_type": "code",
   "execution_count": 5,
   "metadata": {
    "id": "E5BLZcGb7ndS"
   },
   "outputs": [],
   "source": [
    "batch_size_train = 128 # batch size train set\n",
    "batch_size_test = 128 # batch size test set\n",
    "\n",
    "# Dataloader for laoding in data\n",
    "# Steps to do this is to convert raw data to tensor\n",
    "# Then tensor to dataset object\n",
    "# And then from dataset object to dataloader\n",
    "\n",
    "# Our MNIST is already in tensorDataset format\n",
    "train_loader = torch.utils.data.DataLoader(dataset=mnist_train, \n",
    "                                             batch_size=batch_size_train, \n",
    "                                             shuffle=True)\n",
    "valid_loader = torch.utils.data.DataLoader(dataset=mnist_test, \n",
    "                                             batch_size=batch_size_test, \n",
    "                                             shuffle=False)"
   ]
  },
  {
   "cell_type": "code",
   "execution_count": 6,
   "metadata": {
    "colab": {
     "base_uri": "https://localhost:8080/"
    },
    "id": "zS4gHr2c7-TT",
    "outputId": "d954da9c-2b95-401d-b83a-d2ed1662a960"
   },
   "outputs": [
    {
     "name": "stdout",
     "output_type": "stream",
     "text": [
      "Using cuda device\n",
      "Tesla T4\n"
     ]
    }
   ],
   "source": [
    "# Get device\n",
    "if(torch.cuda.is_available()):\n",
    "    device = torch.device('cuda')\n",
    "    print(f\"Using {device} device\")\n",
    "    print(torch.cuda.get_device_name(0))\n",
    "\n",
    "torch.backends.cudnn.enabled = False\n",
    "# Set torch random seed \n",
    "torch.manual_seed(100)\n",
    "np.random.seed(100)\n",
    "\n",
    "#Uniform initialization      \n",
    "def weights_init_uniform_rule(m):    \n",
    "    if isinstance(m, nn.Linear):\n",
    "        n = m.in_features # number of inputs\n",
    "        y = 1.0/np.sqrt(n)\n",
    "        m.weight.data.uniform_(-y, y)\n",
    "        m.bias.data.fill_(0)   \n",
    "        \n",
    "# Xavier initialization      \n",
    "def xavier_weights(m):\n",
    "    if isinstance(m, nn.Linear):\n",
    "        torch.nn.init.xavier_uniform_(m.weight)\n",
    "        m.bias.data.fill_(0)\n",
    "    \n",
    "# Kaiming He initialization\n",
    "def he_weights(m):\n",
    "    if isinstance(m, nn.Linear):\n",
    "        torch.nn.init.kaiming_uniform_(m.weight, a=0, mode='fan_in', nonlinearity='relu')\n",
    "        m.bias.data.fill_(0)\n",
    "        "
   ]
  },
  {
   "cell_type": "markdown",
   "metadata": {
    "id": "5AZ3Gin98XDq"
   },
   "source": [
    "### Define and run network"
   ]
  },
  {
   "cell_type": "markdown",
   "metadata": {
    "id": "Rm0eUlcPAAK-"
   },
   "source": [
    "#### Baseline model"
   ]
  },
  {
   "cell_type": "code",
   "execution_count": 31,
   "metadata": {
    "id": "PIcjXw_r8OvO"
   },
   "outputs": [],
   "source": [
    "class baseline_q1(nn.Module):\n",
    "    \n",
    "    def __init__(self):\n",
    "        super().__init__()\n",
    "        self.fp_input = nn.Linear(28*28, 1024)\n",
    "        self.fp1 = nn.Linear(1024, 1024)\n",
    "        self.fp2 = nn.Linear(1024, 1024)\n",
    "        self.fp3 = nn.Linear(1024, 1024)\n",
    "        self.fp4 = nn.Linear(1024, 1024)\n",
    "        self.fp_output = nn.Linear(1024, 10)\n",
    "        self.dropout = nn.Dropout(0.2)\n",
    "        self.ReLU = nn.ReLU()\n",
    "        \n",
    "    def forward(self, input):\n",
    "        to_save_layerop = {}\n",
    "        input = self.fp_input(input)\n",
    "        input = self.ReLU(input)\n",
    "        to_save_layerop['fp_input'] = input    \n",
    "        \n",
    "        input = self.fp1(input)\n",
    "        input = self.ReLU(input)\n",
    "        to_save_layerop['fp1'] = input\n",
    "        \n",
    "        input = self.fp2(input)\n",
    "        input = self.ReLU(input)\n",
    "        to_save_layerop['fp2'] = input\n",
    "        \n",
    "        input = self.fp3(input)\n",
    "        input = self.ReLU(input)\n",
    "        to_save_layerop['fp3'] = input\n",
    "        \n",
    "        input = self.fp4(input)\n",
    "        input = self.ReLU(input)\n",
    "        to_save_layerop['fp4'] = input\n",
    "\n",
    "        input = self.fp_output(input)\n",
    "        to_save_layerop['fp_output_before_softmax'] = input\n",
    "\n",
    "        # MOST IMPORTANT REALIZATION...USE SOFTMAX AFTER CALCULATING CCE LOSS, THE CCE LOSS EXPECTS LOGITS AND NOT SOFTMAX OUTPUTS.\n",
    "        return input, to_save_layerop    "
   ]
  },
  {
   "cell_type": "code",
   "execution_count": 32,
   "metadata": {
    "id": "X-ndOuGh91lq"
   },
   "outputs": [],
   "source": [
    "def run_network(net, epochs, loss_criteria, optimizer, validation_process=True):\n",
    "    # A minor difference is that the implementation of CrossEntrypyLoss implicitly applies a softmax activation followed by a log transformation \n",
    "    # but NLLLoss does not.\n",
    "\n",
    "    # To keep best performance value\n",
    "    max_performance = float('-inf')\n",
    "    \n",
    "    # For early stopping\n",
    "    tolerance_level = 0\n",
    "    early_stopping_activated = 0\n",
    "    epoch = 0\n",
    "    MAX_MODEL = None\n",
    "    MAX_PERFORMANCE_WEIGHTS = None\n",
    "\n",
    "    train_loss_all = []\n",
    "    valid_loss_all = []\n",
    "    train_accuracy_all = []\n",
    "    valid_accuracy_all = []\n",
    "\n",
    "    print(len(train_loader))\n",
    "\n",
    "    while( epoch <= epochs and early_stopping_activated == 0 ):\n",
    "        train_loss = 0\n",
    "        valid_loss = 0\n",
    "        train_acc = 0\n",
    "        val_acc = 0\n",
    "        \n",
    "        # Training Part\n",
    "        # Always have this line to ensure proper training\n",
    "        net.train()\n",
    "        actual_labels_train = []\n",
    "        pred_labels_train = []\n",
    "        all_targets = []\n",
    "        all_preds = []\n",
    "\n",
    "        for i, (data, actual) in enumerate(train_loader):\n",
    "            # Reshape to single dimension\n",
    "            data = data.reshape(-1, 784)\n",
    "\n",
    "            # Push all variables to cuda\n",
    "            if(torch.cuda.is_available()):\n",
    "                data, actual =  data.float().to(device), actual.to(device)\n",
    "\n",
    "            output, _ = net(data.float())\n",
    "            loss =  loss_criteria(output, actual)\n",
    "            # Track loss\n",
    "            train_loss += loss.item()\n",
    "            train_predictions = func.softmax(output, dim = 1).argmax(dim=1, keepdim=True)            \n",
    "            actual_labels_train.append(actual.cpu().numpy())\n",
    "            pred_labels_train.append(train_predictions.cpu().numpy())\n",
    "\n",
    "            optimizer.zero_grad() # reset gradients\n",
    "            loss.backward()\n",
    "            optimizer.step()\n",
    "\n",
    "        all_targets = np.concatenate(actual_labels_train, axis=0)\n",
    "        all_preds = np.concatenate(pred_labels_train, axis=0)\n",
    "        train_acc = accuracy_score(all_preds, all_targets)\n",
    "        train_accuracy_all.append(train_acc)\n",
    "\n",
    "\n",
    "        # Evaluation Part\n",
    "        # Always have this line to ensure proper evaluation \n",
    "        if(validation_process):\n",
    "          net.eval()\n",
    "          \n",
    "          actual_labels_all = []\n",
    "          pred_labels_all = []\n",
    "          all_targets = []\n",
    "          all_preds = []\n",
    "          # Now do validation and keep track of valid loss\n",
    "          with torch.no_grad():\n",
    "              for i, (data, labels) in enumerate(valid_loader):\n",
    "                  # Reshape to single dimension\n",
    "                  data = data.reshape(-1, 784)\n",
    "\n",
    "                  if(torch.cuda.is_available()):\n",
    "                      data, labels = data.float().to(device), labels.to(device)\n",
    "\n",
    "                  # FP     \n",
    "                  val_logits, _ = net.forward(data)\n",
    "                  v_loss = loss_criteria(val_logits, labels)\n",
    "                  valid_loss += v_loss.item()\n",
    "                  val_predictions = func.softmax(val_logits, dim = 1).argmax(dim=1, keepdim=True)\n",
    "                  actual_labels_all.append(labels.cpu().numpy())\n",
    "                  pred_labels_all.append(val_predictions.cpu().numpy())\n",
    "                  \n",
    "          all_targets = np.concatenate(actual_labels_all, axis=0)\n",
    "          all_preds = np.concatenate(pred_labels_all, axis=0)\n",
    "          val_acc = accuracy_score(all_preds, all_targets)\n",
    "          valid_accuracy_all.append(val_acc)\n",
    "          \n",
    "          if(epoch % 5 == 0):\n",
    "            print(f'Epoch {epoch} \\t Train loss(on avg per batch): {round(train_loss/len(train_loader), 6) } \\t Train Accuracy: {round(train_acc*100, 6)}% \\t Validation loss(on avg per batch): {round(valid_loss/len(valid_loader),6)} \\t Validation Accuracy: {round(val_acc*100,6)}%')\n",
    "\n",
    "          train_loss_all.append(train_loss/len(train_loader))\n",
    "          valid_loss_all.append(valid_loss/len(valid_loader)) \n",
    "          \n",
    "          if(val_acc*100 > max_performance):\n",
    "              max_performance = val_acc*100\n",
    "              tolerance_level = 0\n",
    "              # Save Model\n",
    "              MAX_PERFORMANCE_WEIGHTS = net.state_dict()\n",
    "              MAX_MODEL = net\n",
    "              \n",
    "          else:\n",
    "              tolerance_level+=1\n",
    "              if(tolerance_level >= 10):\n",
    "                  early_stopping_activated = 1\n",
    "                  print('Early Stopping activated - no improvement in validation accuracy for the past 10 epochs. Using model stage before 10 epochs for further use!')\n",
    "        epoch+=1\n",
    "\n",
    "    if(not validation_process):\n",
    "        # Save Model at end\n",
    "        MAX_PERFORMANCE_WEIGHTS = net.state_dict()\n",
    "        MAX_MODEL = net\n",
    "\n",
    "    print('Best Performance on Validation data achived till now :', max_performance)\n",
    "    \n",
    "    return MAX_MODEL, MAX_PERFORMANCE_WEIGHTS, train_accuracy_all, valid_accuracy_all"
   ]
  },
  {
   "cell_type": "code",
   "execution_count": 34,
   "metadata": {
    "colab": {
     "base_uri": "https://localhost:8080/"
    },
    "id": "jSuPv7g6_aQn",
    "outputId": "c5062269-ad1c-49e5-c295-25f78ee7ccaf"
   },
   "outputs": [
    {
     "name": "stdout",
     "output_type": "stream",
     "text": [
      "baseline_q1(\n",
      "  (fp_input): Linear(in_features=784, out_features=1024, bias=True)\n",
      "  (fp1): Linear(in_features=1024, out_features=1024, bias=True)\n",
      "  (fp2): Linear(in_features=1024, out_features=1024, bias=True)\n",
      "  (fp3): Linear(in_features=1024, out_features=1024, bias=True)\n",
      "  (fp4): Linear(in_features=1024, out_features=1024, bias=True)\n",
      "  (fp_output): Linear(in_features=1024, out_features=10, bias=True)\n",
      "  (dropout): Dropout(p=0.2, inplace=False)\n",
      "  (ReLU): ReLU()\n",
      ")\n",
      "469\n",
      "Epoch 0 \t Train loss(on avg per batch): 0.262295 \t Train Accuracy: 92.883333% \t Validation loss(on avg per batch): 0.132191 \t Validation Accuracy: 96.0%\n",
      "Best Performance on Validation data achived till now : 96.98\n"
     ]
    }
   ],
   "source": [
    "net = None\n",
    "net = baseline_q1()\n",
    "if(torch.cuda.is_available()):\n",
    "  net = net.float().to(device)\n",
    "else:\n",
    "  net = net.float()\n",
    "net.apply(he_weights)\n",
    "loss_func = nn.CrossEntropyLoss() # Here Sparse CLE is correct, but in pytorch nn.CrossEntropyLoss accepts ground truth labels directly as integers in [0, N_CLASSES] (no need to onehot encode the labels):\n",
    "optimizer = torch.optim.Adam(net.parameters(), lr = 0.001)\n",
    "print(net)\n",
    "torch.cuda.empty_cache()\n",
    "\n",
    "q1_net_baseline, q1_weights_baseline, train_accuracy_all_baseline, valid_accuracy_all_baseline = run_network(net, epochs = 1, loss_criteria = loss_func, optimizer = optimizer)"
   ]
  },
  {
   "cell_type": "code",
   "execution_count": 43,
   "metadata": {
    "colab": {
     "base_uri": "https://localhost:8080/"
    },
    "id": "omQTF_liAeY2",
    "outputId": "4bbeed95-fe90-489f-fdca-533db1e24418"
   },
   "outputs": [
    {
     "data": {
      "text/plain": [
       "<All keys matched successfully>"
      ]
     },
     "execution_count": 43,
     "metadata": {},
     "output_type": "execute_result"
    }
   ],
   "source": [
    "# torch.save(q1_weights_baseline, '/content/drive/My Drive/Projects and research stuffs/DLS Assignments/Assignment 4/Q1 Baseline Weights')\n",
    "net = None\n",
    "net = baseline_q1()\n",
    "net.load_state_dict( torch.load('/content/drive/My Drive/Projects and research stuffs/DLS Assignments/Assignment 4/Q1 Baseline Weights', map_location=torch.device('cpu')) )\n"
   ]
  },
  {
   "cell_type": "markdown",
   "metadata": {
    "id": "NGrNUdGVOO7V"
   },
   "source": [
    "#### 6 Other D values"
   ]
  },
  {
   "cell_type": "code",
   "execution_count": 44,
   "metadata": {
    "id": "Hab_QZ0cYxre"
   },
   "outputs": [],
   "source": [
    "# net1 = copy.deepcopy(net)\n",
    "# print(sum(p.numel() for p in net.parameters()))"
   ]
  },
  {
   "cell_type": "code",
   "execution_count": 45,
   "metadata": {
    "id": "hNc06Lxj0FPD"
   },
   "outputs": [],
   "source": [
    "w1 = net.fp_input.weight\n",
    "w2 = net.fp1.weight\n",
    "w3 = net.fp2.weight\n",
    "w4 = net.fp3.weight\n",
    "w5 = net.fp4.weight\n",
    "\n",
    "bias1 = net.fp_input.bias\n",
    "bias2 = net.fp1.bias\n",
    "bias3 = net.fp2.bias\n",
    "bias4 = net.fp3.bias\n",
    "bias5 = net.fp4.bias\n",
    "\n",
    "\n",
    "U1, S1, V_t1 = torch.linalg.svd(w1)\n",
    "U1, S1, V_t1 = U1.detach().cpu().numpy(), S1.detach().cpu().numpy(), V_t1.detach().cpu().numpy()\n",
    "\n",
    "U2, S2, V_t2 = torch.linalg.svd(w2)\n",
    "U2, S2, V_t2 = U2.detach().cpu().numpy(), S2.detach().cpu().numpy(), V_t2.detach().cpu().numpy()\n",
    "\n",
    "U3, S3, V_t3 = torch.linalg.svd(w3)\n",
    "U3, S3, V_t3 = U3.detach().cpu().numpy(), S3.detach().cpu().numpy(), V_t3.detach().cpu().numpy()\n",
    "\n",
    "U4, S4, V_t4 = torch.linalg.svd(w4)\n",
    "U4, S4, V_t4 = U4.detach().cpu().numpy(), S4.detach().cpu().numpy(), V_t4.detach().cpu().numpy()\n",
    "\n",
    "U5, S5, V_t5 = torch.linalg.svd(w5)\n",
    "U5, S5, V_t5 = U5.detach().cpu().numpy(), S5.detach().cpu().numpy(), V_t5.detach().cpu().numpy()"
   ]
  },
  {
   "cell_type": "code",
   "execution_count": 55,
   "metadata": {
    "id": "o_FsE6rpKZDo"
   },
   "outputs": [],
   "source": [
    "# Predictions using Low-rank approximate of weight matrix of input to h5 hidden layers\n",
    "def convert_low_rank_matrix(low_rank_value, U, S, V_t):\n",
    "  U_hat = U[:, :low_rank_value]\n",
    "  S_hat = S[:low_rank_value]\n",
    "  S_hat = np.diag(S_hat)\n",
    "  V_t_hat = V_t[:low_rank_value, :]\n",
    "  w_hat = np.dot(U_hat, np.dot(S_hat, V_t_hat))\n",
    "  return w_hat\n",
    "\n",
    "def count_total_parameters_active(net):\n",
    "  total_nonzero = 0\n",
    "  for name, p in net.named_parameters():\n",
    "    tensor = p.data.cpu().numpy()\n",
    "    nz_count = np.count_nonzero(tensor)\n",
    "    total_nonzero += nz_count\n",
    "  return total_nonzero\n",
    "\n",
    "\n",
    "def predict_from_low_rank_approx(d_net, loss_criteria, low_rank_value, U1, S1, V_t1, U2, S2, V_t2, U3, S3, V_t3, U4, S4, V_t4, U5, S5, V_t5, validation_process=1):\n",
    "  w1_hat = convert_low_rank_matrix(low_rank_value, U1, S1, V_t1)\n",
    "  # print(w1_hat)\n",
    "  w2_hat = convert_low_rank_matrix(low_rank_value, U2, S2, V_t2)\n",
    "  w3_hat = convert_low_rank_matrix(low_rank_value, U3, S3, V_t3)\n",
    "  w4_hat = convert_low_rank_matrix(low_rank_value, U4, S4, V_t4)\n",
    "  w5_hat = convert_low_rank_matrix(low_rank_value, U5, S5, V_t5)\n",
    "  # Evaluation Part\n",
    "  # Always have this line to ensure proper evaluation \n",
    "  if(validation_process):\n",
    "    d_net.eval()\n",
    "\n",
    "    actual_labels_all = []\n",
    "    pred_labels_all = []\n",
    "    all_targets = []\n",
    "    all_preds = []\n",
    "    valid_accuracy_all = []\n",
    "    valid_loss_all = []\n",
    "    valid_loss = 0\n",
    "    # Now do validation and keep track of valid loss\n",
    "    with torch.no_grad():\n",
    "        for i, (data, labels) in enumerate(valid_loader):\n",
    "            # Reshape to single dimension\n",
    "            data = data.reshape(-1, 784)\n",
    "\n",
    "            if(torch.cuda.is_available()):\n",
    "                data, labels = data.float().to(device), labels.to(device)\n",
    "\n",
    "            # FP and change weights to lower rank matrix\n",
    "            d_net.fp_input.weight = nn.Parameter(torch.tensor(w1_hat))\n",
    "            d_net.fp1.weight = nn.Parameter(torch.tensor(w2_hat))\n",
    "            d_net.fp2.weight = nn.Parameter(torch.tensor(w3_hat))\n",
    "            d_net.fp3.weight = nn.Parameter(torch.tensor(w4_hat))\n",
    "            d_net.fp4.weight = nn.Parameter(torch.tensor(w5_hat)) \n",
    "            if(torch.cuda.is_available()):\n",
    "              d_net = d_net.to(device)         \n",
    "            val_logits, _ = d_net.forward(data)\n",
    "            if(torch.cuda.is_available()):\n",
    "              val_logits = val_logits.to(device)\n",
    "            v_loss = loss_criteria(val_logits, labels)\n",
    "            valid_loss += v_loss.item()\n",
    "            val_predictions = func.softmax(val_logits, dim = 1).argmax(dim=1, keepdim=True)\n",
    "            actual_labels_all.append(labels.cpu().numpy())\n",
    "            pred_labels_all.append(val_predictions.cpu().numpy())\n",
    "            \n",
    "    all_targets = np.concatenate(actual_labels_all, axis=0)\n",
    "    all_preds = np.concatenate(pred_labels_all, axis=0)\n",
    "    val_acc = accuracy_score(all_preds, all_targets)\n",
    "    valid_accuracy_all.append(val_acc)    \n",
    "    valid_loss_all.append(valid_loss/len(valid_loader)) \n",
    "  \n",
    "  total_params = count_total_parameters_active(d_net)\n",
    "  return valid_accuracy_all, total_params"
   ]
  },
  {
   "cell_type": "code",
   "execution_count": 56,
   "metadata": {
    "id": "H73YwmfrN-k-"
   },
   "outputs": [],
   "source": [
    "# tU, tS, tV =  torch.linalg.svd(w1)\n",
    "# print(tU.shape, tS.shape, tV.shape)\n",
    "# rec = tU[:,:20]@(torch.diag(tS[:20])@tV[:20,:])\n",
    "# print( rec.shape, rec )"
   ]
  },
  {
   "cell_type": "code",
   "execution_count": 57,
   "metadata": {
    "id": "0ZSHXDMe0Gmb"
   },
   "outputs": [],
   "source": [
    "test_acc_d10, total_params_d10  = predict_from_low_rank_approx(net, loss_func, 10, U1, S1, V_t1, U2, S2, V_t2, U3, S3, V_t3, U4, S4, V_t4, U5, S5, V_t5, validation_process=1)\n",
    "test_acc_d20, total_params_d20  = predict_from_low_rank_approx(net, loss_func, 20, U1, S1, V_t1, U2, S2, V_t2, U3, S3, V_t3, U4, S4, V_t4, U5, S5, V_t5, validation_process=1)\n",
    "test_acc_d50, total_params_d50  = predict_from_low_rank_approx(net, loss_func, 50, U1, S1, V_t1, U2, S2, V_t2, U3, S3, V_t3, U4, S4, V_t4, U5, S5, V_t5, validation_process=1)\n",
    "test_acc_d100, total_params_d100  = predict_from_low_rank_approx(net, loss_func, 100, U1, S1, V_t1, U2, S2, V_t2, U3, S3, V_t3, U4, S4, V_t4, U5, S5, V_t5, validation_process=1)\n",
    "test_acc_d200, total_params_d200  = predict_from_low_rank_approx(net, loss_func, 200, U1, S1, V_t1, U2, S2, V_t2, U3, S3, V_t3, U4, S4, V_t4, U5, S5, V_t5, validation_process=1)\n",
    "test_acc_d784, total_params_d784  = predict_from_low_rank_approx(net, loss_func, 784, U1, S1, V_t1, U2, S2, V_t2, U3, S3, V_t3, U4, S4, V_t4, U5, S5, V_t5, validation_process=1)\n"
   ]
  },
  {
   "cell_type": "markdown",
   "metadata": {
    "id": "2s_-vVmnSoaO"
   },
   "source": [
    "#### Bar-chart analysis of test accuracies and number of parameters in different D values and baseline model"
   ]
  },
  {
   "cell_type": "code",
   "execution_count": 58,
   "metadata": {
    "id": "xTR0xRMt0Gos"
   },
   "outputs": [],
   "source": [
    "compare_df = pd.DataFrame(columns = ['D-value', 'Number of parameters', 'Test accuracy'])\n",
    "compare_df['D-value'] = [10, 20, 50, 100, 200, 784, 'Baseline']\n",
    "compare_df['Number of parameters'] = [total_params_d10, total_params_d20, total_params_d50, total_params_d100, total_params_d200, total_params_d784, sum(p.numel() for p in net.parameters())]\n",
    "compare_df['Test accuracy'] = [test_acc_d10[0]*100, test_acc_d20[0]*100, test_acc_d50[0]*100, test_acc_d100[0]*100, test_acc_d200[0]*100, test_acc_d784[0]*100, valid_accuracy_all_baseline[-1]*100]\n"
   ]
  },
  {
   "cell_type": "code",
   "execution_count": 59,
   "metadata": {
    "id": "65yFAYwy0GrN"
   },
   "outputs": [],
   "source": [
    "# sns.barplot(data = compare_df, x='D-value', y='Number of parameters')"
   ]
  },
  {
   "cell_type": "code",
   "execution_count": 60,
   "metadata": {
    "colab": {
     "base_uri": "https://localhost:8080/",
     "height": 296
    },
    "id": "wINYlaSO0Gtp",
    "outputId": "9874bb42-72b2-4cd9-8bec-6c15e48db989"
   },
   "outputs": [
    {
     "data": {
      "text/plain": [
       "<matplotlib.axes._subplots.AxesSubplot at 0x7fb97c883890>"
      ]
     },
     "execution_count": 60,
     "metadata": {},
     "output_type": "execute_result"
    },
    {
     "data": {
      "image/png": "[encoded data removed]",
      "text/plain": [
       "<Figure size 432x288 with 1 Axes>"
      ]
     },
     "metadata": {
      "needs_background": "light"
     },
     "output_type": "display_data"
    }
   ],
   "source": [
    "sns.barplot(data = compare_df, x='D-value', y='Test accuracy')\n"
   ]
  },
  {
   "cell_type": "code",
   "execution_count": 60,
   "metadata": {
    "id": "vhdx0XSl0GwV"
   },
   "outputs": [],
   "source": []
  },
  {
   "cell_type": "markdown",
   "metadata": {
    "id": "5eF5cPqhe9jk"
   },
   "source": [
    "## Problem 2"
   ]
  },
  {
   "cell_type": "code",
   "execution_count": 98,
   "metadata": {
    "colab": {
     "base_uri": "https://localhost:8080/"
    },
    "id": "SeyIsJdf0G0s",
    "outputId": "9e0556a2-2112-483d-a2d1-eb1d0c5012bb"
   },
   "outputs": [
    {
     "data": {
      "text/plain": [
       "<All keys matched successfully>"
      ]
     },
     "execution_count": 98,
     "metadata": {},
     "output_type": "execute_result"
    }
   ],
   "source": [
    "# Should be W.t*X\n",
    "# Load previous weights\n",
    "net = None\n",
    "net = baseline_q1()\n",
    "net.load_state_dict( torch.load('/content/drive/My Drive/Projects and research stuffs/DLS Assignments/Assignment 4/Q1 Baseline Weights', map_location=torch.device('cpu')) )\n"
   ]
  },
  {
   "cell_type": "code",
   "execution_count": 99,
   "metadata": {
    "id": "NPDtuH6I0G2-"
   },
   "outputs": [],
   "source": [
    "class low_rank_nn_q2(nn.Module):\n",
    "    \n",
    "    def __init__(self, u1, v1, u2, v2, u3, v3, u4, v4, u5, v5, bias1, bias2, bias3, bias4, bias5):\n",
    "        super().__init__()\n",
    "        self.u1 = nn.Parameter(u1, requires_grad=True)\n",
    "        self.v1 = nn.Parameter(v1, requires_grad=True)\n",
    "        self.u2 = nn.Parameter(u2, requires_grad=True)\n",
    "        self.v2 = nn.Parameter(v2, requires_grad=True)\n",
    "        self.u3 = nn.Parameter(u3, requires_grad=True)\n",
    "        self.v3 = nn.Parameter(v3, requires_grad=True)\n",
    "        self.u4 = nn.Parameter(u4, requires_grad=True)\n",
    "        self.v4 = nn.Parameter(v4, requires_grad=True)\n",
    "        self.u5 = nn.Parameter(u5, requires_grad=True)\n",
    "        self.v5 = nn.Parameter(v5, requires_grad=True)\n",
    "\n",
    "        self.bias1 = nn.Parameter(bias1, requires_grad=True)\n",
    "        self.bias2 = nn.Parameter(bias2, requires_grad=True)\n",
    "        self.bias3 = nn.Parameter(bias3, requires_grad=True)\n",
    "        self.bias4 = nn.Parameter(bias4, requires_grad=True)\n",
    "        self.bias5 = nn.Parameter(bias5, requires_grad=True)\n",
    "\n",
    "        # self.u1 = nn.Linear(784, 20) #I, O\n",
    "        # self.v1 = nn.Linear(20, 1024) # I, O\n",
    "        \n",
    "        # self.u2 = nn.Linear(1024, 20)\n",
    "        # self.v2 = nn.Linear(20, 1024)\n",
    "        \n",
    "        # self.u3 = nn.Linear(1024, 20)\n",
    "        # self.v3 = nn.Linear(20, 1024)\n",
    "        \n",
    "        # self.u4 = nn.Linear(1024, 20)\n",
    "        # self.v4 = nn.Linear(20, 1024)\n",
    "        \n",
    "        # self.u5 = nn.Linear(1024, 20)\n",
    "        # self.v5 = nn.Linear(20, 1024)\n",
    "        \n",
    "        self.fp_output = nn.Linear(1024, 10)\n",
    "\n",
    "        self.dropout = nn.Dropout(0.2)\n",
    "        self.ReLU = nn.ReLU()\n",
    "        \n",
    "    def forward(self, input):\n",
    "        to_save_layerop = {}\n",
    "        input = torch.matmul(input, torch.matmul(self.u1, self.v1).T)  + self.bias1 \n",
    "        input = self.ReLU(input)\n",
    "\n",
    "        input = torch.matmul(input, torch.matmul(self.u2, self.v2).T)  + self.bias2\n",
    "        input = self.ReLU(input)\n",
    "\n",
    "        input = torch.matmul(input, torch.matmul(self.u3, self.v3).T)  + self.bias3\n",
    "        input = self.ReLU(input)\n",
    "\n",
    "        input = torch.matmul(input, torch.matmul(self.u4, self.v4).T)  + self.bias4\n",
    "        input = self.ReLU(input)\n",
    "\n",
    "        input = torch.matmul(input, torch.matmul(self.u5, self.v5).T)  + self.bias5\n",
    "        input = self.ReLU(input)\n",
    "\n",
    "        input = self.fp_output(input)\n",
    "        to_save_layerop['fp_output_before_softmax'] = input\n",
    "\n",
    "        # MOST IMPORTANT REALIZATION...USE SOFTMAX AFTER CALCULATING CCE LOSS, THE CCE LOSS EXPECTS LOGITS AND NOT SOFTMAX OUTPUTS.\n",
    "        return input, to_save_layerop    "
   ]
  },
  {
   "cell_type": "code",
   "execution_count": 100,
   "metadata": {
    "id": "qWZN3cdu0G5t"
   },
   "outputs": [],
   "source": [
    "# Use weights from d20 of Q1\n",
    "def get_lower_uv(U, S, V):\n",
    "  low_rank_value = 20\n",
    "  U_hat = U[:, :low_rank_value]\n",
    "  S_hat = S[:low_rank_value]\n",
    "  S_hat = np.diag(S_hat)\n",
    "  V_t_hat = np.dot(S_hat, V[:low_rank_value, :])\n",
    "  return U_hat, V_t_hat\n",
    "\n",
    "\n",
    "w1 = net.fp_input.weight\n",
    "w2 = net.fp1.weight\n",
    "w3 = net.fp2.weight\n",
    "w4 = net.fp3.weight\n",
    "w5 = net.fp4.weight\n",
    "U1, S1, V_t1 = torch.linalg.svd(w1)\n",
    "U1, S1, V_t1 = U1.detach().cpu().numpy(), S1.detach().cpu().numpy(), V_t1.detach().cpu().numpy()\n",
    "\n",
    "U2, S2, V_t2 = torch.linalg.svd(w2)\n",
    "U2, S2, V_t2 = U2.detach().cpu().numpy(), S2.detach().cpu().numpy(), V_t2.detach().cpu().numpy()\n",
    "\n",
    "U3, S3, V_t3 = torch.linalg.svd(w3)\n",
    "U3, S3, V_t3 = U3.detach().cpu().numpy(), S3.detach().cpu().numpy(), V_t3.detach().cpu().numpy()\n",
    "\n",
    "U4, S4, V_t4 = torch.linalg.svd(w4)\n",
    "U4, S4, V_t4 = U4.detach().cpu().numpy(), S4.detach().cpu().numpy(), V_t4.detach().cpu().numpy()\n",
    "\n",
    "U5, S5, V_t5 = torch.linalg.svd(w5)\n",
    "U5, S5, V_t5 = U5.detach().cpu().numpy(), S5.detach().cpu().numpy(), V_t5.detach().cpu().numpy()\n",
    "\n",
    "U1, V_t1 = get_lower_uv(U1, S1, V_t1)\n",
    "U2, V_t2 = get_lower_uv(U2, S2, V_t2)\n",
    "U3, V_t3 = get_lower_uv(U3, S3, V_t3)\n",
    "U4, V_t4 = get_lower_uv(U4, S4, V_t4)\n",
    "U5, V_t5 = get_lower_uv(U5, S5, V_t5)\n"
   ]
  },
  {
   "cell_type": "code",
   "execution_count": 100,
   "metadata": {
    "id": "N_vNH4QgXRg5"
   },
   "outputs": [],
   "source": []
  },
  {
   "cell_type": "code",
   "execution_count": 101,
   "metadata": {
    "id": "bQynd4B-0A0x"
   },
   "outputs": [],
   "source": [
    "def run_network(net, epochs, loss_criteria, optimizer, validation_process=True):\n",
    "    # A minor difference is that the implementation of CrossEntrypyLoss implicitly applies a softmax activation followed by a log transformation \n",
    "    # but NLLLoss does not.\n",
    "\n",
    "    # To keep best performance value\n",
    "    max_performance = float('-inf')\n",
    "    \n",
    "    # For early stopping\n",
    "    tolerance_level = 0\n",
    "    early_stopping_activated = 0\n",
    "    epoch = 0\n",
    "    MAX_MODEL = None\n",
    "    MAX_PERFORMANCE_WEIGHTS = None\n",
    "\n",
    "    train_loss_all = []\n",
    "    valid_loss_all = []\n",
    "    train_accuracy_all = []\n",
    "    valid_accuracy_all = []\n",
    "\n",
    "    print(len(train_loader))\n",
    "\n",
    "    while( epoch <= epochs and early_stopping_activated == 0 ):\n",
    "        train_loss = 0\n",
    "        valid_loss = 0\n",
    "        train_acc = 0\n",
    "        val_acc = 0\n",
    "        \n",
    "        # Training Part\n",
    "        # Always have this line to ensure proper training\n",
    "        net.train()\n",
    "        actual_labels_train = []\n",
    "        pred_labels_train = []\n",
    "        all_targets = []\n",
    "        all_preds = []\n",
    "\n",
    "        for i, (data, actual) in enumerate(train_loader):\n",
    "            # Reshape to single dimension\n",
    "            data = data.reshape(-1, 784)\n",
    "\n",
    "            # Push all variables to cuda\n",
    "            if(torch.cuda.is_available()):\n",
    "                data, actual =  data.float().to(device), actual.to(device)\n",
    "\n",
    "            output, _ = net(data.float())\n",
    "            loss =  loss_criteria(output, actual)\n",
    "            # Track loss\n",
    "            train_loss += loss.item()\n",
    "            train_predictions = func.softmax(output, dim = 1).argmax(dim=1, keepdim=True)            \n",
    "            actual_labels_train.append(actual.cpu().numpy())\n",
    "            pred_labels_train.append(train_predictions.cpu().numpy())\n",
    "\n",
    "            optimizer.zero_grad() # reset gradients\n",
    "            loss.backward()\n",
    "            optimizer.step()\n",
    "\n",
    "        all_targets = np.concatenate(actual_labels_train, axis=0)\n",
    "        all_preds = np.concatenate(pred_labels_train, axis=0)\n",
    "        train_acc = accuracy_score(all_preds, all_targets)\n",
    "        train_accuracy_all.append(train_acc)\n",
    "\n",
    "\n",
    "        # Evaluation Part\n",
    "        # Always have this line to ensure proper evaluation \n",
    "        if(validation_process):\n",
    "          net.eval()\n",
    "          \n",
    "          actual_labels_all = []\n",
    "          pred_labels_all = []\n",
    "          all_targets = []\n",
    "          all_preds = []\n",
    "          # Now do validation and keep track of valid loss\n",
    "          with torch.no_grad():\n",
    "              for i, (data, labels) in enumerate(valid_loader):\n",
    "                  # Reshape to single dimension\n",
    "                  data = data.reshape(-1, 784)\n",
    "\n",
    "                  if(torch.cuda.is_available()):\n",
    "                      data, labels = data.float().to(device), labels.to(device)\n",
    "\n",
    "                  # FP     \n",
    "                  val_logits, _ = net.forward(data)\n",
    "                  v_loss = loss_criteria(val_logits, labels)\n",
    "                  valid_loss += v_loss.item()\n",
    "                  val_predictions = func.softmax(val_logits, dim = 1).argmax(dim=1, keepdim=True)\n",
    "                  actual_labels_all.append(labels.cpu().numpy())\n",
    "                  pred_labels_all.append(val_predictions.cpu().numpy())\n",
    "                  \n",
    "          all_targets = np.concatenate(actual_labels_all, axis=0)\n",
    "          all_preds = np.concatenate(pred_labels_all, axis=0)\n",
    "          val_acc = accuracy_score(all_preds, all_targets)\n",
    "          valid_accuracy_all.append(val_acc)\n",
    "          \n",
    "          if(epoch % 5 == 0):\n",
    "            print(f'Epoch {epoch} \\t Train loss(on avg per batch): {round(train_loss/len(train_loader), 6) } \\t Train Accuracy: {round(train_acc*100, 6)}% \\t Validation loss(on avg per batch): {round(valid_loss/len(valid_loader),6)} \\t Validation Accuracy: {round(val_acc*100,6)}%')\n",
    "\n",
    "          train_loss_all.append(train_loss/len(train_loader))\n",
    "          valid_loss_all.append(valid_loss/len(valid_loader)) \n",
    "          \n",
    "          if(val_acc*100 > max_performance):\n",
    "              max_performance = val_acc*100\n",
    "              tolerance_level = 0\n",
    "              # Save Model\n",
    "              MAX_PERFORMANCE_WEIGHTS = net.state_dict()\n",
    "              MAX_MODEL = net\n",
    "              \n",
    "          else:\n",
    "              tolerance_level+=1\n",
    "              if(tolerance_level >= 10):\n",
    "                  early_stopping_activated = 1\n",
    "                  print('Early Stopping activated - no improvement in validation accuracy for the past 10 epochs. Using model stage before 10 epochs for further use!')\n",
    "        epoch+=1\n",
    "\n",
    "    if(not validation_process):\n",
    "        # Save Model at end\n",
    "        MAX_PERFORMANCE_WEIGHTS = net.state_dict()\n",
    "        MAX_MODEL = net\n",
    "\n",
    "    print('Best Performance on Validation data achived till now :', max_performance)\n",
    "    \n",
    "    return MAX_MODEL, MAX_PERFORMANCE_WEIGHTS, train_accuracy_all, valid_accuracy_all"
   ]
  },
  {
   "cell_type": "code",
   "execution_count": 102,
   "metadata": {
    "colab": {
     "base_uri": "https://localhost:8080/"
    },
    "id": "5z89qoqB0G8Z",
    "outputId": "34ddfeb5-fca9-40bc-bfad-857f778e6c5e"
   },
   "outputs": [
    {
     "name": "stdout",
     "output_type": "stream",
     "text": [
      "low_rank_nn_q2(\n",
      "  (fp_output): Linear(in_features=1024, out_features=10, bias=True)\n",
      "  (dropout): Dropout(p=0.2, inplace=False)\n",
      "  (ReLU): ReLU()\n",
      ")\n",
      "469\n",
      "Epoch 0 \t Train loss(on avg per batch): 0.246048 \t Train Accuracy: 93.688333% \t Validation loss(on avg per batch): 0.116169 \t Validation Accuracy: 97.4%\n",
      "Epoch 5 \t Train loss(on avg per batch): 0.030705 \t Train Accuracy: 99.036667% \t Validation loss(on avg per batch): 0.095366 \t Validation Accuracy: 97.96%\n",
      "Epoch 10 \t Train loss(on avg per batch): 0.01621 \t Train Accuracy: 99.498333% \t Validation loss(on avg per batch): 0.133767 \t Validation Accuracy: 97.71%\n",
      "Epoch 15 \t Train loss(on avg per batch): 0.011358 \t Train Accuracy: 99.658333% \t Validation loss(on avg per batch): 0.127824 \t Validation Accuracy: 98.23%\n",
      "Epoch 20 \t Train loss(on avg per batch): 0.006012 \t Train Accuracy: 99.796667% \t Validation loss(on avg per batch): 0.18338 \t Validation Accuracy: 98.04%\n",
      "Epoch 25 \t Train loss(on avg per batch): 0.007256 \t Train Accuracy: 99.751667% \t Validation loss(on avg per batch): 0.162894 \t Validation Accuracy: 98.14%\n",
      "Early Stopping activated - no improvement in validation accuracy for the past 10 epochs. Using model stage before 10 epochs for further use!\n",
      "Best Performance on Validation data achived till now : 98.22999999999999\n"
     ]
    }
   ],
   "source": [
    "# Set weights\n",
    "# U1, V_t1\n",
    "u1 = torch.tensor(U1) \n",
    "v1 = torch.tensor(V_t1) \n",
    "u2 = torch.tensor(U2) \n",
    "v2 = torch.tensor(V_t2) \n",
    "u3 = torch.tensor(U3) \n",
    "v3 = torch.tensor(V_t3) \n",
    "u4 = torch.tensor(U4) \n",
    "v4 = torch.tensor(V_t4) \n",
    "u5 = torch.tensor(U5) \n",
    "v5 = torch.tensor(V_t5)\n",
    "\n",
    "bias_input = net.fp_input.bias\n",
    "bias2 = net.fp1.bias\n",
    "bias3 = net.fp2.bias\n",
    "bias4 = net.fp3.bias\n",
    "bias5 = net.fp4.bias\n",
    "\n",
    "if(torch.cuda.is_available()):\n",
    "  u1, v1, u2, v2, u3, v3, u4, v4, u5, v5 =  u1.to(device), v1.to(device), u2.to(device), v2.to(device), u3.to(device), v3.to(device), u4.to(device), v4.to(device), u5.to(device), v5.to(device)\n",
    "  bias_input, bias2, bias3, bias4, bias5 =  bias_input.to(device), bias2.to(device), bias3.to(device), bias4.to(device), bias5.to(device)\n",
    "\n",
    "net_q2 = None\n",
    "net_q2 = low_rank_nn_q2(u1, v1, u2, v2, u3, v3, u4, v4, u5, v5, bias_input, bias2, bias3, bias4, bias5)\n",
    "if(torch.cuda.is_available()):\n",
    "  net_q2 = net_q2.float().to(device)\n",
    "else:\n",
    "  net_q2 = net_q2.float()\n",
    "loss_func = nn.CrossEntropyLoss() # Here Sparse CLE is correct, but in pytorch nn.CrossEntropyLoss accepts ground truth labels directly as integers in [0, N_CLASSES] (no need to onehot encode the labels):\n",
    "optimizer = torch.optim.Adam(net_q2.parameters(), lr = 0.0001)\n",
    "print(net_q2)\n",
    "torch.cuda.empty_cache()\n",
    "\n",
    "q2_net_baseline, q2_weights_baseline, train_accuracy_all_q2, valid_accuracy_all_q2 = run_network(net_q2, epochs = 30, loss_criteria = loss_func, optimizer = optimizer)"
   ]
  },
  {
   "cell_type": "code",
   "execution_count": 104,
   "metadata": {
    "colab": {
     "base_uri": "https://localhost:8080/",
     "height": 607
    },
    "id": "Rsvny_5oevjt",
    "outputId": "395d3350-7e45-466a-f1bf-73a7f022f64b"
   },
   "outputs": [
    {
     "data": {
      "image/png": "[encoded data removed]",
      "text/plain": [
       "<Figure size 720x720 with 1 Axes>"
      ]
     },
     "metadata": {
      "needs_background": "light"
     },
     "output_type": "display_data"
    }
   ],
   "source": [
    "epochs_range = [i for i in range(26)] # last epoch was at 26\n",
    "plt.figure(figsize = (10,10))\n",
    "plt.plot(epochs_range, valid_accuracy_all_q2, color=\"blue\", linewidth=2)\n",
    "plt.title('Test-time Accuracy')\n",
    "plt.show()"
   ]
  },
  {
   "cell_type": "code",
   "execution_count": 105,
   "metadata": {
    "id": "1irnhCGt0G-w"
   },
   "outputs": [],
   "source": [
    "# torch.save(q2_weights_baseline, '/content/drive/My Drive/Projects and research stuffs/DLS Assignments/Assignment 4/Q2 Finetuned Weights')\n"
   ]
  },
  {
   "cell_type": "code",
   "execution_count": 105,
   "metadata": {
    "id": "AaNcWzgu0HBY"
   },
   "outputs": [],
   "source": []
  },
  {
   "cell_type": "markdown",
   "metadata": {
    "id": "IuW6EV85zGEK"
   },
   "source": [
    "## Problem 3: SVD on every Epoch"
   ]
  },
  {
   "cell_type": "code",
   "execution_count": 78,
   "metadata": {
    "colab": {
     "base_uri": "https://localhost:8080/"
    },
    "id": "xjcx6964zciu",
    "outputId": "503125cf-7ad9-4ca4-b774-1e6be3f5e958"
   },
   "outputs": [
    {
     "data": {
      "text/plain": [
       "<All keys matched successfully>"
      ]
     },
     "execution_count": 78,
     "metadata": {},
     "output_type": "execute_result"
    }
   ],
   "source": [
    "# Load previous weights\n",
    "q1_net = None\n",
    "q1_net = baseline_q1()\n",
    "q1_net.load_state_dict( torch.load('/content/drive/My Drive/Projects and research stuffs/DLS Assignments/Assignment 4/Q1 Baseline Weights', map_location=torch.device('cpu')) )\n"
   ]
  },
  {
   "cell_type": "code",
   "execution_count": 79,
   "metadata": {
    "id": "rTvrl0yr0HD9"
   },
   "outputs": [],
   "source": [
    "def get_low_rank_weights(w1, w2, w3, w4, w5):\n",
    "  \n",
    "  U1, S1, V_t1 = torch.linalg.svd(w1)\n",
    "  U1, S1, V_t1 = U1.detach().cpu().numpy(), S1.detach().cpu().numpy(), V_t1.detach().cpu().numpy()\n",
    "\n",
    "  U2, S2, V_t2 = torch.linalg.svd(w2)\n",
    "  U2, S2, V_t2 = U2.detach().cpu().numpy(), S2.detach().cpu().numpy(), V_t2.detach().cpu().numpy()\n",
    "\n",
    "  U3, S3, V_t3 = torch.linalg.svd(w3)\n",
    "  U3, S3, V_t3 = U3.detach().cpu().numpy(), S3.detach().cpu().numpy(), V_t3.detach().cpu().numpy()\n",
    "\n",
    "  U4, S4, V_t4 = torch.linalg.svd(w4)\n",
    "  U4, S4, V_t4 = U4.detach().cpu().numpy(), S4.detach().cpu().numpy(), V_t4.detach().cpu().numpy()\n",
    "\n",
    "  U5, S5, V_t5 = torch.linalg.svd(w5)\n",
    "  U5, S5, V_t5 = U5.detach().cpu().numpy(), S5.detach().cpu().numpy(), V_t5.detach().cpu().numpy()\n",
    "\n",
    "  w1_hat = torch.tensor(convert_low_rank_matrix(20, U1, S1, V_t1))\n",
    "  w2_hat = torch.tensor(convert_low_rank_matrix(20, U2, S2, V_t2))\n",
    "  w3_hat = torch.tensor(convert_low_rank_matrix(20, U3, S3, V_t3))\n",
    "  w4_hat = torch.tensor(convert_low_rank_matrix(20, U4, S4, V_t4))\n",
    "  w5_hat = torch.tensor(convert_low_rank_matrix(20, U5, S5, V_t5))\n",
    "\n",
    "  return w1_hat, w2_hat, w3_hat, w4_hat, w5_hat"
   ]
  },
  {
   "cell_type": "code",
   "execution_count": 80,
   "metadata": {
    "id": "8BjMWbeG0HG_"
   },
   "outputs": [],
   "source": [
    "class low_rank_nn_q3(nn.Module):\n",
    "    \n",
    "    def __init__(self):\n",
    "        super().__init__()\n",
    "        self.fp_output = nn.Linear(1024, 10)\n",
    "        \n",
    "    def forward(self, input):\n",
    "        input = self.fp_output(input)\n",
    "\n",
    "        # MOST IMPORTANT REALIZATION...USE SOFTMAX AFTER CALCULATING CCE LOSS, THE CCE LOSS EXPECTS LOGITS AND NOT SOFTMAX OUTPUTS.\n",
    "        return input    "
   ]
  },
  {
   "cell_type": "code",
   "execution_count": 80,
   "metadata": {
    "id": "ZtUYts7oMjuA"
   },
   "outputs": [],
   "source": []
  },
  {
   "cell_type": "code",
   "execution_count": 81,
   "metadata": {
    "id": "_hLTj8nMMiZf"
   },
   "outputs": [],
   "source": [
    "class low_rank_nn_q3(nn.Module):\n",
    "    \n",
    "    def __init__(self, w_input_hat, bias_input, w2_hat, bias2, w3_hat, bias3, w4_hat, bias4, w5_hat, bias5):\n",
    "      super().__init__()\n",
    "      self.w_input_hat = nn.Parameter(w_input_hat, requires_grad=True)\n",
    "      self.w2_hat = nn.Parameter(w2_hat, requires_grad=True)\n",
    "      self.w3_hat = nn.Parameter(w3_hat, requires_grad=True)\n",
    "      self.w4_hat = nn.Parameter(w4_hat, requires_grad=True)\n",
    "      self.w5_hat = nn.Parameter(w5_hat, requires_grad=True)\n",
    "\n",
    "      self.bias_input = nn.Parameter(bias_input, requires_grad=True)\n",
    "      self.bias2 = nn.Parameter(bias2, requires_grad=True)\n",
    "      self.bias3 = nn.Parameter(bias3, requires_grad=True)\n",
    "      self.bias4 = nn.Parameter(bias4, requires_grad=True)\n",
    "      self.bias5 = nn.Parameter(bias5, requires_grad=True)\n",
    "\n",
    "      self.ReLU = nn.ReLU()\n",
    "      self.fp_output = nn.Linear(1024, 10)\n",
    "      \n",
    "    def forward(self, x1 ): # x1, w_input_hat, bias_input, w2_hat, bias2, w3_hat, bias3, w4_hat, bias4, w5_hat, bias5\n",
    "      z1 = torch.matmul( x1, self.w_input_hat.T) + self.bias_input\n",
    "      x2 = self.ReLU(z1)\n",
    "\n",
    "      z2 = torch.matmul(x2, self.w2_hat.T) + self.bias2\n",
    "      x3 = self.ReLU(z2)\n",
    "\n",
    "      z3 = torch.matmul(x3, self.w3_hat.T) + self.bias3\n",
    "      x4 = self.ReLU(z3)\n",
    "\n",
    "      z4 = torch.matmul(x4, self.w4_hat.T) + self.bias4\n",
    "      x5 = self.ReLU(z4)\n",
    "      \n",
    "      z5 = torch.matmul(x5, self.w5_hat) + self.bias5\n",
    "      x_output = self.ReLU(z5)\n",
    "    \n",
    "      y = self.fp_output(x_output)\n",
    "\n",
    "      all_x = [x1, x2, x3, x4, x5, x_output] # list of 6\n",
    "\n",
    "      # MOST IMPORTANT REALIZATION...USE SOFTMAX AFTER CALCULATING CCE LOSS, THE CCE LOSS EXPECTS LOGITS AND NOT SOFTMAX OUTPUTS.\n",
    "      return y, all_x    "
   ]
  },
  {
   "cell_type": "code",
   "execution_count": 81,
   "metadata": {
    "id": "h8XRWvFm3hj0"
   },
   "outputs": [],
   "source": []
  },
  {
   "cell_type": "code",
   "execution_count": 82,
   "metadata": {
    "id": "Q9XCh8Ps3iT9"
   },
   "outputs": [],
   "source": [
    "# def get_relu_derivative(z):\n",
    "#   z[z<=0] = 0\n",
    "#   z[z>0] = 1\n",
    "#   return z\n",
    "\n",
    "# def custom_feedforward(x1, w_input_hat, bias_input, w2_hat, bias2, w3_hat, bias3, w4_hat, bias4, w5_hat, bias5):\n",
    "#   ReLU = nn.ReLU()\n",
    "#   z1 = torch.matmul( x1, w_input_hat.T) + bias_input\n",
    "#   x2 = ReLU(z1)\n",
    "\n",
    "#   z2 = torch.matmul(x2, w2_hat.T) + bias2\n",
    "#   x3 = ReLU(z2)\n",
    "\n",
    "#   z3 = torch.matmul(x3, w3_hat.T) + bias3\n",
    "#   x4 = ReLU(z3)\n",
    "\n",
    "#   z4 = torch.matmul(x4, w4_hat.T) + bias4\n",
    "#   x5 = ReLU(z4)\n",
    "  \n",
    "#   z5 = torch.matmul(x5, w5_hat) + bias5\n",
    "#   x_output = ReLU(z5) # x_output is input to last layer (softmax layer)\n",
    "\n",
    "#   # Append all x and weight values to list of list\n",
    "#   all_x = [x1, x2, x3, x4, x5, x_output] # list of 6\n",
    "#   all_z = [z1, z2, z3, z4, z5] # list of 6\n",
    "#   all_w = [w_input_hat, w2_hat, w3_hat, w4_hat, w5_hat] # list of 5\n",
    "#   all_bias = [bias_input, bias2, bias3, bias4, bias5] # list of 5\n",
    "\n",
    "#   return all_x, all_z, all_w, all_bias\n",
    "\n",
    "# def custom_backpropagation(x_layers, z_layers, w_layers, bias_layers, gradient_backward, lr): # Need list of x_layer of each layer, and their weights - from input layer to (excluding) last layer, till hidden layer 5\n",
    "#   for i in range(4, -1, -1): \n",
    "#     # iterate from last to first (6th or softmax layer is already done by torch function)\n",
    "#     # For weights\n",
    "#     # torch.Size([1024, 1024]) torch.Size([10, 1024]) torch.Size([10, 1024]) torch.Size([1024, 128]) torch.Size([1024, 128])\n",
    "#     print( w_layers[i].shape, w_layers[i+1].shape,  gradient_backward.shape, x_layers[i].shape, z_layers[i].shape)\n",
    "\n",
    "#     gradient_current =  torch.matmul(w_layers[i+1].T, gradient_backward) * get_relu_derivative(z_layers[i])\n",
    "#     w_layers[i] = w_layers[i] - lr*(torch.matmul(gradient_current, x_layers[i].T))*torch.eye(w_layers[i].shape[0], w_layers[i].shape[1])\n",
    "    \n",
    "#     # For bias\n",
    "#     # bias[j] -= gamma_bias * 1 * delta[j]\n",
    "#     bias_layers[i] = bias_layers[i] - lr*gradient_current*1 # input is just 1\n",
    "\n",
    "#     gradient_backward = gradient_current\n",
    "\n",
    "#   return w_layers, bias_layers\n",
    "\n"
   ]
  },
  {
   "cell_type": "code",
   "execution_count": 83,
   "metadata": {
    "id": "flcJCiOyQVtV"
   },
   "outputs": [],
   "source": [
    "def run_custom_network(net, w_input_hat, bias_input, w2_hat, bias2, w3_hat, bias3, w4_hat, bias4, w5_hat, bias5, epochs, loss_criteria, optimizer, learning_rate, validation_process=True):\n",
    "  # A minor difference is that the implementation of CrossEntrypyLoss implicitly applies a softmax activation followed by a log transformation \n",
    "  # but NLLLoss does not.\n",
    "  # To keep best performance value\n",
    "  max_performance = float('-inf')\n",
    "  \n",
    "  # For early stopping\n",
    "  tolerance_level = 0\n",
    "  early_stopping_activated = 0\n",
    "  epoch = 0\n",
    "  MAX_MODEL = None\n",
    "  MAX_PERFORMANCE_WEIGHTS = None\n",
    "\n",
    "  train_loss_all = []\n",
    "  valid_loss_all = []\n",
    "  train_accuracy_all = []\n",
    "  valid_accuracy_all = []\n",
    "\n",
    "  print(len(train_loader))\n",
    "\n",
    "  # # Set all initial parameters to random values\n",
    "  # bias_input = torch.rand(1)\n",
    "  # bias2 = torch.rand(1)\n",
    "  # bias3 = torch.rand(1)\n",
    "  # bias4 = torch.rand(1)\n",
    "  # bias5 = torch.rand(1)\n",
    "  # w1 = q1_net.fp_input.weight\n",
    "  # w2 = q1_net.fp1.weight\n",
    "  # w3 = q1_net.fp2.weight\n",
    "  # w4 = q1_net.fp3.weight\n",
    "  # w5 = q1_net.fp4.weight\n",
    "  # w_input_hat, w2_hat, w3_hat, w4_hat, w5_hat = get_low_rank_weights(w1, w2, w3, w4, w5) # get the weights from baseline model\n",
    "   \n",
    "\n",
    "  while( epoch <= epochs and early_stopping_activated == 0 ):\n",
    "    train_loss = 0\n",
    "    valid_loss = 0\n",
    "    train_acc = 0\n",
    "    val_acc = 0\n",
    "    \n",
    "    # Training Part\n",
    "    # Always have this line to ensure proper training\n",
    "    net.train()\n",
    "    actual_labels_train = []\n",
    "    pred_labels_train = []\n",
    "    all_targets = []\n",
    "    all_preds = []\n",
    "\n",
    "    for i, (data, actual) in enumerate(train_loader):\n",
    "        # Reshape to single dimension\n",
    "        data = data.reshape(-1, 784).float()\n",
    "\n",
    "        # Push all variables to cuda\n",
    "        if(torch.cuda.is_available()):\n",
    "            data, actual =  data.to(device), actual.to(device)\n",
    "\n",
    "        output, all_x = net.forward(data) # , w_input_hat, bias_input, w2_hat, bias2, w3_hat, bias3, w4_hat, bias4, w5_hat, bias5\n",
    "\n",
    "        loss =  loss_criteria(output, actual)\n",
    "        train_loss += loss.item()\n",
    "        loss.backward()\n",
    "\n",
    "        # Update weights manually\n",
    "        with torch.no_grad():\n",
    "          w5_hat = net.w5_hat - learning_rate*net.w5_hat.grad* 1\n",
    "          w4_hat = net.w4_hat - learning_rate*net.w4_hat.grad* 1\n",
    "          w3_hat = net.w3_hat - learning_rate*net.w3_hat.grad* 1\n",
    "          w2_hat = net.w2_hat - learning_rate*net.w2_hat.grad* 1\n",
    "          w_input_hat = net.w_input_hat - learning_rate*net.w_input_hat.grad*1\n",
    "          \n",
    "          # net.w5_hat = net.w5_hat - learning_rate*torch.matmul(net.w5_hat.grad, all_x[4].T)*torch.ones(net.w5_hat.shape[0], net.w5_hat.shape[1])\n",
    "          # net.w4_hat = net.w4_hat - learning_rate*torch.matmul(net.w4_hat.grad, all_x[3].T)*torch.ones(net.w4_hat.shape[0], net.w4_hat.shape[1])\n",
    "          # net.w3_hat = net.w3_hat - learning_rate*torch.matmul(net.w3_hat.grad, all_x[2].T)*torch.ones(net.w3_hat.shape[0], net.w3_hat.shape[1])\n",
    "          # net.w2_hat = net.w2_hat - learning_rate*torch.matmul(net.w2_hat.grad, all_x[1].T)*torch.ones(net.w2_hat.shape[0], net.w2_hat.shape[1])\n",
    "          # net.w_input_hat = net.w_input_hat - learning_rate*torch.matmul(net.w_input_hat.grad, all_x[0].T)*torch.ones(net.w_input_hat.shape[0], net.w_input_hat.shape[1])\n",
    "          \n",
    "          # For bias update\n",
    "          bias_input = net.bias_input - learning_rate*net.bias_input.grad*1 # input is just 1\n",
    "          bias2 = net.bias2 - learning_rate*net.bias2.grad*1 # input is just 1\n",
    "          bias3 = net.bias3 - learning_rate*net.bias3.grad*1 # input is just 1\n",
    "          bias4 = net.bias4 - learning_rate*net.bias4.grad*1 # input is just 1\n",
    "          bias5 = net.bias5 - learning_rate*net.bias5.grad*1 # input is just 1\n",
    "        \n",
    "        # Perform SVD compression with updated weights\n",
    "        w_input_hat, w2_hat, w3_hat, w4_hat, w5_hat = get_low_rank_weights(w_input_hat, w2_hat, w3_hat, w4_hat, w5_hat)\n",
    "        \n",
    "        if(torch.cuda.is_available()):\n",
    "            w_input_hat, w2_hat, w3_hat, w4_hat, w5_hat =  w_input_hat.to(device), w2_hat.to(device), w3_hat.to(device), w4_hat.to(device), w5_hat.to(device)\n",
    "            bias_input, bias2, bias3, bias4, bias5 =  bias_input.to(device), bias2.to(device), bias3.to(device), bias4.to(device), bias5.to(device)\n",
    "\n",
    "        # Now set and change weights of network to these low-rank approximated weights\n",
    "        with torch.no_grad():\n",
    "          net.w_input_hat = nn.Parameter(w_input_hat, requires_grad=True)\n",
    "          net.w2_hat = nn.Parameter(w2_hat, requires_grad=True)\n",
    "          net.w3_hat = nn.Parameter(w3_hat, requires_grad=True)\n",
    "          net.w4_hat = nn.Parameter(w4_hat, requires_grad=True)\n",
    "          net.w5_hat = nn.Parameter(w5_hat, requires_grad=True)\n",
    "\n",
    "          net.bias_input = nn.Parameter(bias_input, requires_grad=True)\n",
    "          net.bias2 = nn.Parameter(bias2, requires_grad=True)\n",
    "          net.bias3 = nn.Parameter(bias3, requires_grad=True)\n",
    "          net.bias4 = nn.Parameter(bias4, requires_grad=True)\n",
    "          net.bias5 = nn.Parameter(bias5, requires_grad=True)\n",
    "\n",
    "\n",
    "        optimizer.zero_grad()\n",
    "        optimizer.step()\n",
    "\n",
    "        # print('after update',w_input_hat, 'and', net.w_input_hat, 'also', any(any(row) for row in net.w_input_hat != temp))\n",
    "          \n",
    "        # Make Predictions at every epoch\n",
    "        train_predictions = func.softmax(output, dim = 1).argmax(dim=1, keepdim=True)\n",
    "        actual_labels_train.append(actual.cpu().numpy())\n",
    "        pred_labels_train.append(train_predictions.cpu().numpy())\n",
    "        \n",
    "    all_targets = np.concatenate(actual_labels_train, axis=0)\n",
    "    all_preds = np.concatenate(pred_labels_train, axis=0)\n",
    "    train_acc = accuracy_score(all_preds, all_targets)\n",
    "    train_accuracy_all.append(train_acc)\n",
    "\n",
    "    # Evaluation Part\n",
    "    # Always have this line to ensure proper evaluation \n",
    "    if(validation_process):\n",
    "      net.eval()\n",
    "      \n",
    "      actual_labels_all = []\n",
    "      pred_labels_all = []\n",
    "      all_targets = []\n",
    "      all_preds = []\n",
    "      # Now do validation and keep track of valid loss\n",
    "      with torch.no_grad():\n",
    "          for i, (data, labels) in enumerate(valid_loader):\n",
    "              # Reshape to single dimension\n",
    "              data = data.reshape(-1, 784)\n",
    "\n",
    "              if(torch.cuda.is_available()):\n",
    "                  data, labels = data.float().to(device), labels.to(device)\n",
    "\n",
    "              # FP     \n",
    "              val_logits, _ = net.forward(data)\n",
    "              v_loss = loss_criteria(val_logits, labels)\n",
    "              valid_loss += v_loss.item()\n",
    "              val_predictions = func.softmax(val_logits, dim = 1).argmax(dim=1, keepdim=True)\n",
    "              actual_labels_all.append(labels.cpu().numpy())\n",
    "              pred_labels_all.append(val_predictions.cpu().numpy())\n",
    "              \n",
    "      all_targets = np.concatenate(actual_labels_all, axis=0)\n",
    "      all_preds = np.concatenate(pred_labels_all, axis=0)\n",
    "      val_acc = accuracy_score(all_preds, all_targets)\n",
    "      valid_accuracy_all.append(val_acc)\n",
    "      \n",
    "    if(epoch % 1 == 0):\n",
    "      print(f'Epoch {epoch} \\t Train loss(on avg per batch): {round(train_loss/len(train_loader), 6) } \\t Train Accuracy: {round(train_acc*100, 6)}% \\t Validation loss(on avg per batch): {round(valid_loss/len(valid_loader),6)} \\t Validation Accuracy: {round(val_acc*100,6)}%')\n",
    "\n",
    "    train_loss_all.append(train_loss/len(train_loader))\n",
    "    valid_loss_all.append(valid_loss/len(valid_loader)) \n",
    "    \n",
    "    if(val_acc*100 > max_performance):\n",
    "        max_performance = val_acc*100\n",
    "        tolerance_level = 0\n",
    "        # Save Model\n",
    "        MAX_PERFORMANCE_WEIGHTS = net.state_dict()\n",
    "        MAX_MODEL = net\n",
    "        \n",
    "    else:\n",
    "        tolerance_level+=1\n",
    "        if(tolerance_level >= 10):\n",
    "            early_stopping_activated = 1\n",
    "            print('Early Stopping activated - no improvement in validation accuracy for the past 10 epochs. Using model stage before 10 epochs for further use!')\n",
    "    \n",
    "    epoch+=1\n",
    "\n",
    "  if(not validation_process):\n",
    "      # Save Model at end\n",
    "      MAX_PERFORMANCE_WEIGHTS = net.state_dict()\n",
    "      MAX_MODEL = net\n",
    "\n",
    "  print('Best Performance on Validation data achived till now :', max_performance)\n",
    "  \n",
    "  return MAX_MODEL, MAX_PERFORMANCE_WEIGHTS, train_accuracy_all, valid_accuracy_all"
   ]
  },
  {
   "cell_type": "code",
   "execution_count": 84,
   "metadata": {
    "colab": {
     "base_uri": "https://localhost:8080/"
    },
    "id": "5BYbk0ezzBuk",
    "outputId": "7198ce69-eae7-488c-ba71-a578416b0064"
   },
   "outputs": [
    {
     "name": "stdout",
     "output_type": "stream",
     "text": [
      "low_rank_nn_q3(\n",
      "  (ReLU): ReLU()\n",
      "  (fp_output): Linear(in_features=1024, out_features=10, bias=True)\n",
      ")\n",
      "469\n",
      "Epoch 0 \t Train loss(on avg per batch): 1.499019 \t Train Accuracy: 55.895% \t Validation loss(on avg per batch): 1.128224 \t Validation Accuracy: 65.59%\n",
      "Epoch 1 \t Train loss(on avg per batch): 1.03626 \t Train Accuracy: 73.5% \t Validation loss(on avg per batch): 0.959198 \t Validation Accuracy: 81.67%\n",
      "Epoch 2 \t Train loss(on avg per batch): 0.905625 \t Train Accuracy: 83.188333% \t Validation loss(on avg per batch): 0.855965 \t Validation Accuracy: 83.28%\n",
      "Epoch 3 \t Train loss(on avg per batch): 0.808072 \t Train Accuracy: 84.576667% \t Validation loss(on avg per batch): 0.764874 \t Validation Accuracy: 84.94%\n",
      "Epoch 4 \t Train loss(on avg per batch): 0.718181 \t Train Accuracy: 86.031667% \t Validation loss(on avg per batch): 0.680066 \t Validation Accuracy: 86.43%\n",
      "Epoch 5 \t Train loss(on avg per batch): 0.634921 \t Train Accuracy: 87.931667% \t Validation loss(on avg per batch): 0.602201 \t Validation Accuracy: 88.73%\n",
      "Epoch 6 \t Train loss(on avg per batch): 0.556268 \t Train Accuracy: 90.413333% \t Validation loss(on avg per batch): 0.527302 \t Validation Accuracy: 91.2%\n",
      "Epoch 7 \t Train loss(on avg per batch): 0.481234 \t Train Accuracy: 92.461667% \t Validation loss(on avg per batch): 0.457337 \t Validation Accuracy: 92.88%\n",
      "Epoch 8 \t Train loss(on avg per batch): 0.411909 \t Train Accuracy: 93.863333% \t Validation loss(on avg per batch): 0.391785 \t Validation Accuracy: 94.02%\n",
      "Epoch 9 \t Train loss(on avg per batch): 0.348713 \t Train Accuracy: 94.78% \t Validation loss(on avg per batch): 0.332476 \t Validation Accuracy: 94.9%\n",
      "Epoch 10 \t Train loss(on avg per batch): 0.296263 \t Train Accuracy: 95.265% \t Validation loss(on avg per batch): 0.285837 \t Validation Accuracy: 95.35%\n",
      "Best Performance on Validation data achived till now : 95.35\n"
     ]
    }
   ],
   "source": [
    "\n",
    "# Set all initial parameters to random values\n",
    "bias_input = torch.rand(1)\n",
    "bias2 = torch.rand(1)\n",
    "bias3 = torch.rand(1)\n",
    "bias4 = torch.rand(1)\n",
    "bias5 = torch.rand(1)\n",
    "w1 = q1_net.fp_input.weight\n",
    "w2 = q1_net.fp1.weight\n",
    "w3 = q1_net.fp2.weight\n",
    "w4 = q1_net.fp3.weight\n",
    "w5 = q1_net.fp4.weight\n",
    "w_input_hat, w2_hat, w3_hat, w4_hat, w5_hat = get_low_rank_weights(w1, w2, w3, w4, w5) # get the weights from baseline model\n",
    "\n",
    "\n",
    "net = None\n",
    "net = low_rank_nn_q3( w_input_hat, bias_input, w2_hat, bias2, w3_hat, bias3, w4_hat, bias4, w5_hat, bias5)\n",
    "if(torch.cuda.is_available()):\n",
    "  net = net.float().to(device)\n",
    "else:\n",
    "  net = net.float()\n",
    "loss_func = nn.CrossEntropyLoss() # Here Sparse CLE is correct, but in pytorch nn.CrossEntropyLoss accepts ground truth labels directly as integers in [0, N_CLASSES] (no need to onehot encode the labels):\n",
    "optimizer = torch.optim.Adam(net.parameters(), lr = 0.001)\n",
    "print(net)\n",
    "torch.cuda.empty_cache()\n",
    "\n",
    "q3_net_baseline, q3_weights_baseline, train_accuracy_all_baseline, valid_accuracy_all_baseline = run_custom_network(net, w_input_hat, bias_input, w2_hat, bias2, w3_hat, bias3, w4_hat, bias4, w5_hat, bias5, epochs = 10, loss_criteria = loss_func, optimizer = optimizer, learning_rate = 0.001, validation_process=True)\n"
   ]
  },
  {
   "cell_type": "markdown",
   "metadata": {
    "id": "8G5PBEjTsdms"
   },
   "source": [
    "#### We see here although the accuracy is not as high as using the original matrix, this method of network compression is effective in reducing memory usage and also just a little drop in performance."
   ]
  },
  {
   "cell_type": "code",
   "execution_count": 84,
   "metadata": {
    "id": "n_U_UyIOzCRU"
   },
   "outputs": [],
   "source": []
  },
  {
   "cell_type": "code",
   "execution_count": 85,
   "metadata": {
    "id": "Bem12v59zCV_"
   },
   "outputs": [],
   "source": [
    "# torch.save(q3_weights_baseline, '/content/drive/My Drive/Projects and research stuffs/DLS Assignments/Assignment 4/Q3 Weights')\n"
   ]
  },
  {
   "cell_type": "code",
   "execution_count": null,
   "metadata": {
    "id": "jvdxGTESzCX7"
   },
   "outputs": [],
   "source": []
  },
  {
   "cell_type": "markdown",
   "metadata": {
    "id": "__Nqiwa8fx2T"
   },
   "source": [
    "## Problem 4: Speaker Verification"
   ]
  },
  {
   "cell_type": "code",
   "execution_count": 7,
   "metadata": {
    "id": "VtG-95bPzCZs"
   },
   "outputs": [],
   "source": [
    "with open(folder_path + 'hw4_trs.pkl', 'rb') as f:\n",
    "  x_train = pickle.load(f)\n",
    "\n",
    "with open(folder_path + 'hw4_tes.pkl', 'rb') as f:\n",
    "    x_test = pickle.load(f)"
   ]
  },
  {
   "cell_type": "code",
   "execution_count": 8,
   "metadata": {
    "colab": {
     "base_uri": "https://localhost:8080/"
    },
    "id": "iQhEJhyWsjZ0",
    "outputId": "dbf123d0-7ac4-45d4-ffe7-9e48e100e3b6"
   },
   "outputs": [
    {
     "name": "stdout",
     "output_type": "stream",
     "text": [
      "Training speaker audio loaded (500, 16180)\n",
      "Test speaker audio loaded (200, 22631)\n"
     ]
    }
   ],
   "source": [
    "print('Training speaker audio loaded', x_train.shape)\n",
    "print('Test speaker audio loaded', x_test.shape)"
   ]
  },
  {
   "cell_type": "code",
   "execution_count": 8,
   "metadata": {
    "id": "MR5Ss28kssR3"
   },
   "outputs": [],
   "source": []
  },
  {
   "cell_type": "code",
   "execution_count": 9,
   "metadata": {
    "colab": {
     "base_uri": "https://localhost:8080/"
    },
    "id": "NqIO4bsizCbk",
    "outputId": "b3a4277f-c03e-4aea-e617-f36a5c4ea67b"
   },
   "outputs": [
    {
     "name": "stdout",
     "output_type": "stream",
     "text": [
      "(500, 50, 513)\n",
      "(200, 50, 513)\n",
      "(500, 1)\n",
      "(200, 1)\n"
     ]
    }
   ],
   "source": [
    "\n",
    "x_train_stft = np.zeros(shape=(500,50,513)) \n",
    "# Maximum length allowed is 50 (there is 45 length audio in test, so pad there with and train with extra zeroes)\n",
    "for i in range(x_train.shape[0]):\n",
    "    x = x_train[i,:]\n",
    "    X_complex = librosa.stft(x, n_fft=1024, hop_length=512)\n",
    "    X = np.abs(X_complex).T\n",
    "    x_train_stft[i,:,:] = np.pad(X,((0,50 - X.shape[0]),(0,0)), 'constant')\n",
    "print(x_train_stft.shape)\n",
    "\n",
    "x_test_stft = np.zeros(shape=(200,50,513))\n",
    "for i in range(x_test.shape[0]):\n",
    "  x = x_test[i,:]\n",
    "  X_complex = librosa.stft(x, n_fft=1024, hop_length=512)\n",
    "  X = np.abs(X_complex).T\n",
    "  x_test_stft[i,:,:] = np.pad(X,((0,50 - X.shape[0]),(0,0)), 'constant')\n",
    "print(x_test_stft.shape)\n",
    "\n",
    "# Preprocess target data\n",
    "y_train = np.zeros((500,1))\n",
    "count=0\n",
    "for i in range(0,50): # 50 speakers in train data, take each of them\n",
    "  for j in range(0,10): # Each with 10 utterences\n",
    "    y_train[count]=i\n",
    "    count+=1\n",
    "print(y_train.shape)\n",
    "\n",
    "y_test = np.zeros((200,1))\n",
    "count=0\n",
    "for i in range(0,20): # Each of 20 speakers in test data\n",
    "  for j in range(0,10): # Each with 10 utterences\n",
    "    y_test[count]=i\n",
    "    count+=1\n",
    "print(y_test.shape)"
   ]
  },
  {
   "cell_type": "code",
   "execution_count": 10,
   "metadata": {
    "colab": {
     "base_uri": "https://localhost:8080/"
    },
    "id": "RkOTP8RJzCd5",
    "outputId": "42fce8ab-be6f-424f-c24a-7179ea55107e"
   },
   "outputs": [
    {
     "name": "stdout",
     "output_type": "stream",
     "text": [
      "(4500, 2, 50, 513)\n",
      "(4500,)\n"
     ]
    }
   ],
   "source": [
    "positive_samples = 45\n",
    "negative_samples = 45\n",
    "\n",
    "y_train = np.array(y_train)\n",
    "x_idx = np.arange(0,len(y_train)).reshape(-1,1)\n",
    "speaker_count_train = np.unique(y_train)\n",
    "train_pairs = []\n",
    "train_labels = []\n",
    "for speaker in speaker_count_train:\n",
    "  spk_idx = x_idx[np.where(y_train==speaker)] # Get all index where speaker is i\n",
    "  rest_spk_idx = x_idx[np.where(y_train!=speaker)]\n",
    "\n",
    "  pos_pairs = random.sample(list(combinations(spk_idx,2)),positive_samples) # WITHOUT REPALCEMENT\n",
    "  for pair in pos_pairs:\n",
    "    audio_stft_1 = x_train_stft[pair[0],:,:]\n",
    "    audio_stft_2 = x_train_stft[pair[1],:,:]\n",
    "    train_pairs.append( [audio_stft_1,audio_stft_2] )\n",
    "    train_labels.append(1)\n",
    "\n",
    "  neg_pairs = random.sample(list(product(spk_idx,rest_spk_idx)),negative_samples) # WITHOUT REPALCEMENT\n",
    "  for pair in neg_pairs:\n",
    "    audio_stft_1 = x_train_stft[pair[0],:,:]\n",
    "    audio_stft_2 = x_train_stft[pair[1],:,:]\n",
    "    train_pairs.append([audio_stft_1,audio_stft_2])\n",
    "    train_labels.append(0)    \n",
    "\n",
    "train_pairs, train_labels = np.array(train_pairs).astype(\"float\"), np.array(train_labels).astype(\"float\")\n",
    "    \n",
    "print(train_pairs.shape)\n",
    "print(train_labels.shape)"
   ]
  },
  {
   "cell_type": "code",
   "execution_count": 11,
   "metadata": {
    "colab": {
     "base_uri": "https://localhost:8080/"
    },
    "id": "jI_79GU2M1Ez",
    "outputId": "debedb09-d07f-4a81-8922-7c701335b52a"
   },
   "outputs": [
    {
     "data": {
      "text/plain": [
       "(2, 50, 513)"
      ]
     },
     "execution_count": 11,
     "metadata": {},
     "output_type": "execute_result"
    }
   ],
   "source": [
    "# 4500 data, each is a pair of two vectors and each of those vecotrs is 50, 513. While bassing in batches, we can pass 128, 2, 50, 513\n",
    "train_pairs[0].shape"
   ]
  },
  {
   "cell_type": "code",
   "execution_count": 12,
   "metadata": {
    "colab": {
     "base_uri": "https://localhost:8080/"
    },
    "id": "-U37tNZqzChw",
    "outputId": "dd007a59-680b-4d7d-f902-48d2b7586383"
   },
   "outputs": [
    {
     "name": "stdout",
     "output_type": "stream",
     "text": [
      "(1800, 2, 50, 513)\n",
      "(1800,)\n"
     ]
    }
   ],
   "source": [
    "positive_samples = 45\n",
    "negative_samples = 45\n",
    "\n",
    "y_test = np.array(y_test)\n",
    "x_idx = np.arange(0,len(y_test)).reshape(-1,1)\n",
    "speaker_count_test = np.unique(y_test)\n",
    "test_pairs = []\n",
    "test_labels = []\n",
    "for speaker in speaker_count_test:\n",
    "  spk_idx = x_idx[np.where(y_test==speaker)] # Get all index where speaker is i\n",
    "  rest_spk_idx = x_idx[np.where(y_test!=speaker)]\n",
    "\n",
    "  pos_pairs = random.sample(list(combinations(spk_idx,2)),positive_samples) # WITHOUT REPALCEMENT\n",
    "  for pair in pos_pairs:\n",
    "    audio_stft_1 = x_test_stft[pair[0],:,:]\n",
    "    audio_stft_2 = x_test_stft[pair[1],:,:]\n",
    "    test_pairs.append( [audio_stft_1,audio_stft_2] )\n",
    "    test_labels.append(1)\n",
    "\n",
    "  neg_pairs = random.sample(list(product(spk_idx,rest_spk_idx)),negative_samples) # WITHOUT REPALCEMENT\n",
    "  for pair in neg_pairs:\n",
    "    audio_stft_1 = x_test_stft[pair[0],:,:]\n",
    "    audio_stft_2 = x_test_stft[pair[1],:,:]\n",
    "    test_pairs.append([audio_stft_1,audio_stft_2])\n",
    "    test_labels.append(0)    \n",
    "\n",
    "test_pairs,test_labels = np.array(test_pairs).astype(\"float\"), np.array(test_labels).astype(\"float\")\n",
    "    \n",
    "print(test_pairs.shape)\n",
    "print(test_labels.shape)"
   ]
  },
  {
   "cell_type": "code",
   "execution_count": 12,
   "metadata": {
    "id": "dfVkPg1AJnjD"
   },
   "outputs": [],
   "source": []
  },
  {
   "cell_type": "code",
   "execution_count": 13,
   "metadata": {
    "id": "KaoR2cpPCeOr"
   },
   "outputs": [],
   "source": [
    "# Dataloader creation\n",
    "batch_size_train = 90 # batch size train set\n",
    "batch_size_test = 90 # batch size test set\n",
    "train_dataset = torch.utils.data.TensorDataset(torch.tensor(train_pairs), torch.tensor(train_labels) )\n",
    "valid_dataset = torch.utils.data.TensorDataset(torch.tensor(test_pairs), torch.tensor(test_labels) )\n",
    "\n",
    "train_loader = torch.utils.data.DataLoader(dataset=train_dataset, \n",
    "                                             batch_size=batch_size_train, \n",
    "                                             shuffle=True)\n",
    "valid_loader = torch.utils.data.DataLoader(dataset=valid_dataset, \n",
    "                                             batch_size=batch_size_test, \n",
    "                                             shuffle=False)\n"
   ]
  },
  {
   "cell_type": "code",
   "execution_count": 13,
   "metadata": {
    "id": "P6FrWjyOzCj8"
   },
   "outputs": [],
   "source": []
  },
  {
   "cell_type": "code",
   "execution_count": 38,
   "metadata": {
    "id": "FBpTIu3czCmL"
   },
   "outputs": [],
   "source": [
    "class siamese_q3(nn.Module):\n",
    "    \n",
    "    def __init__(self):\n",
    "        super().__init__()\n",
    "\n",
    "        # self.fp_input = nn.Linear(28*28, 1024)\n",
    "        self.gru1 = nn.GRU(input_size = 513, hidden_size = 256, num_layers = 2, bidirectional=True) # bidirectional=True sets both ways for parsing\n",
    "        self.fp1 = nn.Linear( int(512*50), 512 ) # 2 for bidirectional=True\n",
    "        self.fp2 = nn.Linear( 512, 256 )\n",
    "        self.fp_output = nn.Linear(90, 1)\n",
    "        self.ReLU = nn.ReLU()\n",
    "        \n",
    "    def forward(self, input):\n",
    "        to_save_layerop = {}\n",
    "        x1 = input[:, 0, :, :]\n",
    "        x2 = input[:, 1, :, :]\n",
    "\n",
    "        # Simaese network with two audio spectra processed parallelly\n",
    "        input1, _ = self.gru1(x1)\n",
    "        input1 = torch.flatten(input1, start_dim = 1)        \n",
    "        input1 = self.fp1(input1)\n",
    "        input1 = self.ReLU(input1)\n",
    "        input1 = self.fp2(input1)\n",
    "        input1 = self.ReLU(input1)\n",
    "\n",
    "        input2, _ = self.gru1(x2) # Since we use shared weights for gru, both inputs have same gru\n",
    "        input2 = torch.flatten(input2, start_dim = 1)        \n",
    "        input2 = self.fp1(input2)\n",
    "        input2 = self.ReLU(input2)\n",
    "        input2 = self.fp2(input2)\n",
    "        input2 = self.ReLU(input2)\n",
    "\n",
    "        # Inner product of these two vectors will be used for binary-classification\n",
    "        # inner_prod = torch.matmul(input1, input2.T)\n",
    "        inner_prod = torch.cdist(input1, input2, p = 2)\n",
    "        # print(ed.shape)\n",
    "\n",
    "        input = self.fp_output(inner_prod)\n",
    "        # to_save_layerop['fp_output_before_softmax'] = input\n",
    "\n",
    "        # MOST IMPORTANT REALIZATION...USE SOFTMAX AFTER CALCULATING CCE LOSS, THE CCE LOSS EXPECTS LOGITS AND NOT SOFTMAX OUTPUTS.\n",
    "        return input, to_save_layerop    "
   ]
  },
  {
   "cell_type": "code",
   "execution_count": 38,
   "metadata": {
    "id": "moAtWjKKzCoZ"
   },
   "outputs": [],
   "source": []
  },
  {
   "cell_type": "code",
   "execution_count": 48,
   "metadata": {
    "id": "-yHc5L1hzCqF"
   },
   "outputs": [],
   "source": [
    "def run_network(net, epochs, loss_criteria, optimizer, validation_process=True):\n",
    "    # A minor difference is that the implementation of CrossEntrypyLoss implicitly applies a softmax activation followed by a log transformation \n",
    "    # but NLLLoss does not.\n",
    "\n",
    "    # To keep best performance value\n",
    "    max_performance = float('-inf')\n",
    "    \n",
    "    # For early stopping\n",
    "    tolerance_level = 0\n",
    "    early_stopping_activated = 0\n",
    "    epoch = 0\n",
    "    MAX_MODEL = None\n",
    "    MAX_PERFORMANCE_WEIGHTS = None\n",
    "\n",
    "    train_loss_all = []\n",
    "    valid_loss_all = []\n",
    "    train_accuracy_all = []\n",
    "    valid_accuracy_all = []\n",
    "\n",
    "    print(len(train_loader))\n",
    "\n",
    "    while( epoch <= epochs and early_stopping_activated == 0 ):\n",
    "        train_loss = 0\n",
    "        valid_loss = 0\n",
    "        train_acc = 0\n",
    "        val_acc = 0\n",
    "        \n",
    "        # Training Part\n",
    "        # Always have this line to ensure proper training\n",
    "        net.train()\n",
    "        actual_labels_train = []\n",
    "        pred_labels_train = []\n",
    "        all_targets = []\n",
    "        all_preds = []\n",
    "\n",
    "        for i, (data, actual) in enumerate(train_loader):\n",
    "            # Push all variables to cuda\n",
    "            if(torch.cuda.is_available()):\n",
    "                data, actual =  data.float().to(device), actual.to(device)\n",
    "\n",
    "            output, _ = net(data.float())\n",
    "            actual = actual.reshape(-1,1)\n",
    "            loss =  loss_criteria(output, actual)\n",
    "            # Track loss\n",
    "            train_loss += loss.item()\n",
    "            train_predictions = torch.sigmoid(output)\n",
    "            train_predictions = (train_predictions>0.5).float()*1  \n",
    "            actual_labels_train.append(actual.cpu().numpy())\n",
    "            pred_labels_train.append(train_predictions.cpu().numpy())\n",
    "\n",
    "            optimizer.zero_grad() # reset gradients\n",
    "            loss.backward()\n",
    "            optimizer.step()\n",
    "\n",
    "        all_targets = np.concatenate(actual_labels_train, axis=0)\n",
    "        all_preds = np.concatenate(pred_labels_train, axis=0)\n",
    "        train_acc = accuracy_score(all_preds, all_targets)\n",
    "        train_accuracy_all.append(train_acc)\n",
    "\n",
    "\n",
    "        # Evaluation Part\n",
    "        # Always have this line to ensure proper evaluation \n",
    "        if(validation_process):\n",
    "          net.eval()\n",
    "          \n",
    "          actual_labels_all = []\n",
    "          pred_labels_all = []\n",
    "          all_targets = []\n",
    "          all_preds = []\n",
    "          # Now do validation and keep track of valid loss\n",
    "          with torch.no_grad():\n",
    "              for i, (data, labels) in enumerate(valid_loader):\n",
    "                  if(torch.cuda.is_available()):\n",
    "                      data, labels = data.float().to(device), labels.to(device)\n",
    "\n",
    "                  # FP     \n",
    "                  val_logits, _ = net.forward(data)\n",
    "                  labels = labels.reshape(-1,1)\n",
    "                  v_loss = loss_criteria(val_logits, labels)\n",
    "                  valid_loss += v_loss.item()\n",
    "                  val_predictions = torch.sigmoid(val_logits)\n",
    "                  val_predictions = (val_predictions>0.5).float()*1 \n",
    "                  actual_labels_all.append(labels.cpu().numpy())\n",
    "                  pred_labels_all.append(val_predictions.cpu().numpy())\n",
    "                  \n",
    "          all_targets = np.concatenate(actual_labels_all, axis=0)\n",
    "          all_preds = np.concatenate(pred_labels_all, axis=0)\n",
    "          val_acc = accuracy_score(all_preds, all_targets)\n",
    "          valid_accuracy_all.append(val_acc)\n",
    "          \n",
    "          if(epoch % 1 == 0):\n",
    "            print(f'Epoch {epoch} \\t Train loss(on avg per batch): {round(train_loss/len(train_loader), 6) } \\t Train Accuracy: {round(train_acc*100, 6)}% \\t Validation loss(on avg per batch): {round(valid_loss/len(valid_loader),6)} \\t Validation Accuracy: {round(val_acc*100,6)}%')\n",
    "\n",
    "          train_loss_all.append(train_loss/len(train_loader))\n",
    "          valid_loss_all.append(valid_loss/len(valid_loader)) \n",
    "          \n",
    "          if(val_acc*100 > max_performance):\n",
    "              max_performance = val_acc*100\n",
    "              MAX_PERFORMANCE_WEIGHTS = net.state_dict()\n",
    "              MAX_MODEL = net\n",
    "              \n",
    "          # else:\n",
    "          #     tolerance_level+=1\n",
    "          #     if(tolerance_level >= 10):\n",
    "          #         early_stopping_activated = 1\n",
    "          #         print('Early Stopping activated - no improvement in validation accuracy for the past 10 epochs. Using model stage before 10 epochs for further use!')\n",
    "        epoch+=1\n",
    "\n",
    "    if(not validation_process):\n",
    "        # Save Model at end\n",
    "        MAX_PERFORMANCE_WEIGHTS = net.state_dict()\n",
    "        MAX_MODEL = net\n",
    "\n",
    "    print('Best Performance on Validation data achived till now :', max_performance)\n",
    "    \n",
    "    return MAX_MODEL, MAX_PERFORMANCE_WEIGHTS, train_accuracy_all, valid_accuracy_all"
   ]
  },
  {
   "cell_type": "code",
   "execution_count": 49,
   "metadata": {
    "colab": {
     "base_uri": "https://localhost:8080/"
    },
    "id": "17lOAH7gzCsP",
    "outputId": "22d768a5-4ab0-42d9-a65e-62912dc05f07"
   },
   "outputs": [
    {
     "name": "stdout",
     "output_type": "stream",
     "text": [
      "siamese_q3(\n",
      "  (gru1): GRU(513, 256, num_layers=2, bidirectional=True)\n",
      "  (fp1): Linear(in_features=25600, out_features=512, bias=True)\n",
      "  (fp2): Linear(in_features=512, out_features=256, bias=True)\n",
      "  (fp_output): Linear(in_features=90, out_features=1, bias=True)\n",
      "  (ReLU): ReLU()\n",
      ")\n",
      "50\n",
      "Epoch 0 \t Train loss(on avg per batch): 0.715402 \t Train Accuracy: 48.711111% \t Validation loss(on avg per batch): 0.756884 \t Validation Accuracy: 52.388889%\n",
      "Epoch 1 \t Train loss(on avg per batch): 0.701141 \t Train Accuracy: 49.533333% \t Validation loss(on avg per batch): 0.689233 \t Validation Accuracy: 51.5%\n",
      "Epoch 2 \t Train loss(on avg per batch): 0.699673 \t Train Accuracy: 49.266667% \t Validation loss(on avg per batch): 0.687278 \t Validation Accuracy: 55.333333%\n",
      "Epoch 3 \t Train loss(on avg per batch): 0.694773 \t Train Accuracy: 50.088889% \t Validation loss(on avg per batch): 0.692849 \t Validation Accuracy: 52.222222%\n",
      "Epoch 4 \t Train loss(on avg per batch): 0.693772 \t Train Accuracy: 50.266667% \t Validation loss(on avg per batch): 0.694413 \t Validation Accuracy: 44.055556%\n",
      "Epoch 5 \t Train loss(on avg per batch): 0.694096 \t Train Accuracy: 50.511111% \t Validation loss(on avg per batch): 0.69113 \t Validation Accuracy: 56.277778%\n",
      "Epoch 6 \t Train loss(on avg per batch): 0.695564 \t Train Accuracy: 50.466667% \t Validation loss(on avg per batch): 0.697516 \t Validation Accuracy: 50.0%\n",
      "Epoch 7 \t Train loss(on avg per batch): 0.698461 \t Train Accuracy: 49.688889% \t Validation loss(on avg per batch): 0.688938 \t Validation Accuracy: 50.333333%\n",
      "Epoch 8 \t Train loss(on avg per batch): 0.701605 \t Train Accuracy: 48.733333% \t Validation loss(on avg per batch): 0.690989 \t Validation Accuracy: 47.111111%\n",
      "Epoch 9 \t Train loss(on avg per batch): 0.693539 \t Train Accuracy: 50.377778% \t Validation loss(on avg per batch): 0.692722 \t Validation Accuracy: 45.833333%\n",
      "Epoch 10 \t Train loss(on avg per batch): 0.693235 \t Train Accuracy: 51.222222% \t Validation loss(on avg per batch): 0.695901 \t Validation Accuracy: 48.444444%\n",
      "Epoch 11 \t Train loss(on avg per batch): 0.693548 \t Train Accuracy: 47.955556% \t Validation loss(on avg per batch): 0.690971 \t Validation Accuracy: 51.722222%\n",
      "Epoch 12 \t Train loss(on avg per batch): 0.693558 \t Train Accuracy: 50.422222% \t Validation loss(on avg per batch): 0.697086 \t Validation Accuracy: 35.333333%\n",
      "Epoch 13 \t Train loss(on avg per batch): 0.693525 \t Train Accuracy: 48.377778% \t Validation loss(on avg per batch): 0.693478 \t Validation Accuracy: 50.055556%\n",
      "Epoch 14 \t Train loss(on avg per batch): 0.693366 \t Train Accuracy: 49.755556% \t Validation loss(on avg per batch): 0.693322 \t Validation Accuracy: 47.944444%\n",
      "Epoch 15 \t Train loss(on avg per batch): 0.693322 \t Train Accuracy: 48.644444% \t Validation loss(on avg per batch): 0.693754 \t Validation Accuracy: 47.388889%\n",
      "Epoch 16 \t Train loss(on avg per batch): 0.693333 \t Train Accuracy: 49.577778% \t Validation loss(on avg per batch): 0.69341 \t Validation Accuracy: 49.333333%\n",
      "Epoch 17 \t Train loss(on avg per batch): 0.693362 \t Train Accuracy: 49.711111% \t Validation loss(on avg per batch): 0.69337 \t Validation Accuracy: 49.111111%\n",
      "Epoch 18 \t Train loss(on avg per batch): 0.693155 \t Train Accuracy: 50.422222% \t Validation loss(on avg per batch): 0.695257 \t Validation Accuracy: 49.166667%\n",
      "Epoch 19 \t Train loss(on avg per batch): 0.693731 \t Train Accuracy: 49.488889% \t Validation loss(on avg per batch): 0.693123 \t Validation Accuracy: 48.888889%\n",
      "Epoch 20 \t Train loss(on avg per batch): 0.692887 \t Train Accuracy: 51.777778% \t Validation loss(on avg per batch): 0.693003 \t Validation Accuracy: 50.055556%\n",
      "Epoch 21 \t Train loss(on avg per batch): 0.693238 \t Train Accuracy: 50.355556% \t Validation loss(on avg per batch): 0.692356 \t Validation Accuracy: 52.777778%\n",
      "Epoch 22 \t Train loss(on avg per batch): 0.693423 \t Train Accuracy: 49.977778% \t Validation loss(on avg per batch): 0.692981 \t Validation Accuracy: 50.833333%\n",
      "Epoch 23 \t Train loss(on avg per batch): 0.693915 \t Train Accuracy: 49.288889% \t Validation loss(on avg per batch): 0.699334 \t Validation Accuracy: 32.055556%\n",
      "Epoch 24 \t Train loss(on avg per batch): 0.693282 \t Train Accuracy: 50.6% \t Validation loss(on avg per batch): 0.693362 \t Validation Accuracy: 49.611111%\n",
      "Epoch 25 \t Train loss(on avg per batch): 0.693716 \t Train Accuracy: 49.911111% \t Validation loss(on avg per batch): 0.693524 \t Validation Accuracy: 49.833333%\n",
      "Epoch 26 \t Train loss(on avg per batch): 0.693928 \t Train Accuracy: 49.044444% \t Validation loss(on avg per batch): 0.692132 \t Validation Accuracy: 51.555556%\n",
      "Epoch 27 \t Train loss(on avg per batch): 0.693181 \t Train Accuracy: 49.933333% \t Validation loss(on avg per batch): 0.693642 \t Validation Accuracy: 50.888889%\n",
      "Epoch 28 \t Train loss(on avg per batch): 0.693236 \t Train Accuracy: 50.0% \t Validation loss(on avg per batch): 0.692993 \t Validation Accuracy: 50.555556%\n",
      "Epoch 29 \t Train loss(on avg per batch): 0.693239 \t Train Accuracy: 49.777778% \t Validation loss(on avg per batch): 0.693751 \t Validation Accuracy: 47.777778%\n",
      "Epoch 30 \t Train loss(on avg per batch): 0.693264 \t Train Accuracy: 51.088889% \t Validation loss(on avg per batch): 0.693842 \t Validation Accuracy: 48.777778%\n",
      "Epoch 31 \t Train loss(on avg per batch): 0.693301 \t Train Accuracy: 50.622222% \t Validation loss(on avg per batch): 0.693564 \t Validation Accuracy: 50.222222%\n",
      "Epoch 32 \t Train loss(on avg per batch): 0.693717 \t Train Accuracy: 49.466667% \t Validation loss(on avg per batch): 0.69427 \t Validation Accuracy: 48.888889%\n",
      "Epoch 33 \t Train loss(on avg per batch): 0.693882 \t Train Accuracy: 48.711111% \t Validation loss(on avg per batch): 0.693275 \t Validation Accuracy: 49.722222%\n",
      "Epoch 34 \t Train loss(on avg per batch): 0.693595 \t Train Accuracy: 49.533333% \t Validation loss(on avg per batch): 0.693741 \t Validation Accuracy: 47.888889%\n",
      "Epoch 35 \t Train loss(on avg per batch): 0.693439 \t Train Accuracy: 49.666667% \t Validation loss(on avg per batch): 0.693837 \t Validation Accuracy: 49.222222%\n",
      "Epoch 36 \t Train loss(on avg per batch): 0.693859 \t Train Accuracy: 48.644444% \t Validation loss(on avg per batch): 0.692528 \t Validation Accuracy: 50.777778%\n",
      "Epoch 37 \t Train loss(on avg per batch): 0.693996 \t Train Accuracy: 49.466667% \t Validation loss(on avg per batch): 0.69374 \t Validation Accuracy: 50.111111%\n",
      "Epoch 38 \t Train loss(on avg per batch): 0.69414 \t Train Accuracy: 49.177778% \t Validation loss(on avg per batch): 0.693571 \t Validation Accuracy: 50.444444%\n",
      "Epoch 39 \t Train loss(on avg per batch): 0.694001 \t Train Accuracy: 49.977778% \t Validation loss(on avg per batch): 0.69482 \t Validation Accuracy: 48.611111%\n",
      "Epoch 40 \t Train loss(on avg per batch): 0.693897 \t Train Accuracy: 48.844444% \t Validation loss(on avg per batch): 0.692537 \t Validation Accuracy: 51.055556%\n",
      "Epoch 41 \t Train loss(on avg per batch): 0.692778 \t Train Accuracy: 50.688889% \t Validation loss(on avg per batch): 0.693643 \t Validation Accuracy: 49.0%\n",
      "Epoch 42 \t Train loss(on avg per batch): 0.693191 \t Train Accuracy: 50.533333% \t Validation loss(on avg per batch): 0.69321 \t Validation Accuracy: 50.222222%\n",
      "Epoch 43 \t Train loss(on avg per batch): 0.693741 \t Train Accuracy: 48.622222% \t Validation loss(on avg per batch): 0.693359 \t Validation Accuracy: 50.0%\n",
      "Epoch 44 \t Train loss(on avg per batch): 0.693703 \t Train Accuracy: 48.644444% \t Validation loss(on avg per batch): 0.693297 \t Validation Accuracy: 50.166667%\n",
      "Epoch 45 \t Train loss(on avg per batch): 0.693163 \t Train Accuracy: 50.355556% \t Validation loss(on avg per batch): 0.692945 \t Validation Accuracy: 50.666667%\n",
      "Epoch 46 \t Train loss(on avg per batch): 0.693291 \t Train Accuracy: 50.0% \t Validation loss(on avg per batch): 0.693128 \t Validation Accuracy: 48.222222%\n",
      "Epoch 47 \t Train loss(on avg per batch): 0.693438 \t Train Accuracy: 49.222222% \t Validation loss(on avg per batch): 0.693206 \t Validation Accuracy: 50.0%\n",
      "Epoch 48 \t Train loss(on avg per batch): 0.693138 \t Train Accuracy: 49.844444% \t Validation loss(on avg per batch): 0.693147 \t Validation Accuracy: 50.5%\n",
      "Epoch 49 \t Train loss(on avg per batch): 0.693334 \t Train Accuracy: 49.088889% \t Validation loss(on avg per batch): 0.693742 \t Validation Accuracy: 48.166667%\n",
      "Epoch 50 \t Train loss(on avg per batch): 0.693307 \t Train Accuracy: 49.555556% \t Validation loss(on avg per batch): 0.693582 \t Validation Accuracy: 50.111111%\n",
      "Epoch 51 \t Train loss(on avg per batch): 0.693396 \t Train Accuracy: 48.844444% \t Validation loss(on avg per batch): 0.692666 \t Validation Accuracy: 51.444444%\n",
      "Epoch 52 \t Train loss(on avg per batch): 0.693328 \t Train Accuracy: 49.333333% \t Validation loss(on avg per batch): 0.693403 \t Validation Accuracy: 47.555556%\n",
      "Epoch 53 \t Train loss(on avg per batch): 0.69371 \t Train Accuracy: 47.888889% \t Validation loss(on avg per batch): 0.693449 \t Validation Accuracy: 47.222222%\n",
      "Epoch 54 \t Train loss(on avg per batch): 0.693037 \t Train Accuracy: 50.044444% \t Validation loss(on avg per batch): 0.693766 \t Validation Accuracy: 48.888889%\n",
      "Epoch 55 \t Train loss(on avg per batch): 0.693435 \t Train Accuracy: 48.622222% \t Validation loss(on avg per batch): 0.693116 \t Validation Accuracy: 51.777778%\n",
      "Epoch 56 \t Train loss(on avg per batch): 0.6933 \t Train Accuracy: 49.355556% \t Validation loss(on avg per batch): 0.693157 \t Validation Accuracy: 49.444444%\n",
      "Epoch 57 \t Train loss(on avg per batch): 0.693371 \t Train Accuracy: 48.688889% \t Validation loss(on avg per batch): 0.692896 \t Validation Accuracy: 49.777778%\n",
      "Epoch 58 \t Train loss(on avg per batch): 0.692841 \t Train Accuracy: 50.755556% \t Validation loss(on avg per batch): 0.692907 \t Validation Accuracy: 51.333333%\n",
      "Epoch 59 \t Train loss(on avg per batch): 0.69301 \t Train Accuracy: 50.622222% \t Validation loss(on avg per batch): 0.691827 \t Validation Accuracy: 52.611111%\n",
      "Epoch 60 \t Train loss(on avg per batch): 0.693329 \t Train Accuracy: 49.488889% \t Validation loss(on avg per batch): 0.691748 \t Validation Accuracy: 54.166667%\n",
      "Epoch 61 \t Train loss(on avg per batch): 0.693324 \t Train Accuracy: 49.777778% \t Validation loss(on avg per batch): 0.6929 \t Validation Accuracy: 51.333333%\n",
      "Epoch 62 \t Train loss(on avg per batch): 0.693159 \t Train Accuracy: 49.8% \t Validation loss(on avg per batch): 0.691266 \t Validation Accuracy: 53.388889%\n",
      "Epoch 63 \t Train loss(on avg per batch): 0.694 \t Train Accuracy: 49.511111% \t Validation loss(on avg per batch): 0.692687 \t Validation Accuracy: 52.666667%\n",
      "Epoch 64 \t Train loss(on avg per batch): 0.693792 \t Train Accuracy: 48.377778% \t Validation loss(on avg per batch): 0.695144 \t Validation Accuracy: 47.388889%\n",
      "Epoch 65 \t Train loss(on avg per batch): 0.69359 \t Train Accuracy: 49.777778% \t Validation loss(on avg per batch): 0.692833 \t Validation Accuracy: 52.444444%\n",
      "Epoch 66 \t Train loss(on avg per batch): 0.692833 \t Train Accuracy: 51.155556% \t Validation loss(on avg per batch): 0.693767 \t Validation Accuracy: 49.722222%\n",
      "Epoch 67 \t Train loss(on avg per batch): 0.69386 \t Train Accuracy: 49.266667% \t Validation loss(on avg per batch): 0.692319 \t Validation Accuracy: 52.222222%\n",
      "Epoch 68 \t Train loss(on avg per batch): 0.693683 \t Train Accuracy: 49.222222% \t Validation loss(on avg per batch): 0.692101 \t Validation Accuracy: 51.722222%\n",
      "Epoch 69 \t Train loss(on avg per batch): 0.693875 \t Train Accuracy: 50.066667% \t Validation loss(on avg per batch): 0.693481 \t Validation Accuracy: 49.833333%\n",
      "Epoch 70 \t Train loss(on avg per batch): 0.69361 \t Train Accuracy: 50.333333% \t Validation loss(on avg per batch): 0.697111 \t Validation Accuracy: 49.277778%\n",
      "Epoch 71 \t Train loss(on avg per batch): 0.695254 \t Train Accuracy: 49.044444% \t Validation loss(on avg per batch): 0.697184 \t Validation Accuracy: 47.611111%\n",
      "Epoch 72 \t Train loss(on avg per batch): 0.694482 \t Train Accuracy: 49.711111% \t Validation loss(on avg per batch): 0.697614 \t Validation Accuracy: 46.166667%\n",
      "Epoch 73 \t Train loss(on avg per batch): 0.694747 \t Train Accuracy: 47.955556% \t Validation loss(on avg per batch): 0.694654 \t Validation Accuracy: 46.166667%\n",
      "Epoch 74 \t Train loss(on avg per batch): 0.694089 \t Train Accuracy: 49.911111% \t Validation loss(on avg per batch): 0.694592 \t Validation Accuracy: 49.0%\n",
      "Epoch 75 \t Train loss(on avg per batch): 0.69367 \t Train Accuracy: 49.911111% \t Validation loss(on avg per batch): 0.693449 \t Validation Accuracy: 50.666667%\n",
      "Epoch 76 \t Train loss(on avg per batch): 0.693519 \t Train Accuracy: 50.0% \t Validation loss(on avg per batch): 0.692176 \t Validation Accuracy: 51.0%\n",
      "Epoch 77 \t Train loss(on avg per batch): 0.694783 \t Train Accuracy: 49.911111% \t Validation loss(on avg per batch): 0.69574 \t Validation Accuracy: 50.277778%\n",
      "Epoch 78 \t Train loss(on avg per batch): 0.694129 \t Train Accuracy: 49.755556% \t Validation loss(on avg per batch): 0.696011 \t Validation Accuracy: 50.166667%\n",
      "Epoch 79 \t Train loss(on avg per batch): 0.692948 \t Train Accuracy: 50.244444% \t Validation loss(on avg per batch): 0.694697 \t Validation Accuracy: 48.666667%\n",
      "Epoch 80 \t Train loss(on avg per batch): 0.695882 \t Train Accuracy: 48.844444% \t Validation loss(on avg per batch): 0.691315 \t Validation Accuracy: 53.5%\n",
      "Epoch 81 \t Train loss(on avg per batch): 0.692785 \t Train Accuracy: 50.711111% \t Validation loss(on avg per batch): 0.691862 \t Validation Accuracy: 53.111111%\n",
      "Epoch 82 \t Train loss(on avg per batch): 0.69377 \t Train Accuracy: 50.088889% \t Validation loss(on avg per batch): 0.694278 \t Validation Accuracy: 49.333333%\n",
      "Epoch 83 \t Train loss(on avg per batch): 0.693844 \t Train Accuracy: 48.888889% \t Validation loss(on avg per batch): 0.693705 \t Validation Accuracy: 51.5%\n",
      "Epoch 84 \t Train loss(on avg per batch): 0.694115 \t Train Accuracy: 48.955556% \t Validation loss(on avg per batch): 0.695166 \t Validation Accuracy: 46.833333%\n",
      "Epoch 85 \t Train loss(on avg per batch): 0.693245 \t Train Accuracy: 50.088889% \t Validation loss(on avg per batch): 0.693834 \t Validation Accuracy: 48.833333%\n",
      "Epoch 86 \t Train loss(on avg per batch): 0.693196 \t Train Accuracy: 50.155556% \t Validation loss(on avg per batch): 0.692829 \t Validation Accuracy: 51.833333%\n",
      "Epoch 87 \t Train loss(on avg per batch): 0.693138 \t Train Accuracy: 50.288889% \t Validation loss(on avg per batch): 0.694335 \t Validation Accuracy: 47.611111%\n",
      "Epoch 88 \t Train loss(on avg per batch): 0.693654 \t Train Accuracy: 49.866667% \t Validation loss(on avg per batch): 0.693642 \t Validation Accuracy: 48.388889%\n",
      "Epoch 89 \t Train loss(on avg per batch): 0.693349 \t Train Accuracy: 50.511111% \t Validation loss(on avg per batch): 0.694287 \t Validation Accuracy: 48.444444%\n",
      "Epoch 90 \t Train loss(on avg per batch): 0.692861 \t Train Accuracy: 50.644444% \t Validation loss(on avg per batch): 0.694164 \t Validation Accuracy: 47.5%\n",
      "Epoch 91 \t Train loss(on avg per batch): 0.693391 \t Train Accuracy: 49.4% \t Validation loss(on avg per batch): 0.693638 \t Validation Accuracy: 48.777778%\n",
      "Epoch 92 \t Train loss(on avg per batch): 0.693342 \t Train Accuracy: 49.6% \t Validation loss(on avg per batch): 0.693635 \t Validation Accuracy: 48.444444%\n",
      "Epoch 93 \t Train loss(on avg per batch): 0.69351 \t Train Accuracy: 49.866667% \t Validation loss(on avg per batch): 0.692923 \t Validation Accuracy: 51.388889%\n",
      "Epoch 94 \t Train loss(on avg per batch): 0.693244 \t Train Accuracy: 49.644444% \t Validation loss(on avg per batch): 0.693257 \t Validation Accuracy: 49.0%\n",
      "Epoch 95 \t Train loss(on avg per batch): 0.693258 \t Train Accuracy: 49.888889% \t Validation loss(on avg per batch): 0.693151 \t Validation Accuracy: 50.111111%\n",
      "Epoch 96 \t Train loss(on avg per batch): 0.693312 \t Train Accuracy: 48.577778% \t Validation loss(on avg per batch): 0.692917 \t Validation Accuracy: 52.333333%\n",
      "Epoch 97 \t Train loss(on avg per batch): 0.693035 \t Train Accuracy: 50.288889% \t Validation loss(on avg per batch): 0.69289 \t Validation Accuracy: 52.666667%\n",
      "Epoch 98 \t Train loss(on avg per batch): 0.693287 \t Train Accuracy: 49.222222% \t Validation loss(on avg per batch): 0.693212 \t Validation Accuracy: 48.722222%\n",
      "Epoch 99 \t Train loss(on avg per batch): 0.693158 \t Train Accuracy: 49.8% \t Validation loss(on avg per batch): 0.693319 \t Validation Accuracy: 48.833333%\n",
      "Epoch 100 \t Train loss(on avg per batch): 0.69315 \t Train Accuracy: 50.688889% \t Validation loss(on avg per batch): 0.693224 \t Validation Accuracy: 47.722222%\n",
      "Best Performance on Validation data achived till now : 56.277777777777786\n"
     ]
    }
   ],
   "source": [
    "net = None\n",
    "net = siamese_q3()\n",
    "if(torch.cuda.is_available()):\n",
    "  net = net.float().to(device)\n",
    "else:\n",
    "  net = net.float()\n",
    "# net.apply(he_weights) # ContrastiveLoss # BCEWithLogitsLoss\n",
    "loss_func = nn.BCEWithLogitsLoss() # Here Sparse CLE is correct, but in pytorch nn.CrossEntropyLoss accepts ground truth labels directly as integers in [0, N_CLASSES] (no need to onehot encode the labels):\n",
    "optimizer = torch.optim.Adam(net.parameters(), lr = 0.001)\n",
    "print(net)\n",
    "torch.cuda.empty_cache()\n",
    "\n",
    "q4_net_siamese, q4_weights_siamese, train_accuracy_all_siamese, valid_accuracy_all_siamese = run_network(net, epochs = 100, loss_criteria = loss_func, optimizer = optimizer)"
   ]
  },
  {
   "cell_type": "markdown",
   "metadata": {
    "id": "If-bt2NOADSx"
   },
   "source": [
    "## I am still not sure why the accuracy won't go up, I am not sure if the model is getting trained properly - please let me know what other techniques I can use to increase the validation accuracy. The weights are getting updated, so that is not the issue."
   ]
  },
  {
   "cell_type": "code",
   "execution_count": 49,
   "metadata": {
    "id": "OTY0ToE41J2v"
   },
   "outputs": [],
   "source": []
  },
  {
   "cell_type": "code",
   "execution_count": 50,
   "metadata": {
    "colab": {
     "base_uri": "https://localhost:8080/",
     "height": 461
    },
    "id": "Z2LKVTQJzCwI",
    "outputId": "ffac789b-1cbc-4513-aa37-02a01cc806fe"
   },
   "outputs": [
    {
     "name": "stderr",
     "output_type": "stream",
     "text": [
      "WARNING:matplotlib.legend:No handles with labels found to put in legend.\n"
     ]
    },
    {
     "data": {
      "image/png": "[encoded data removed]",
      "text/plain": [
       "<Figure size 800x480 with 1 Axes>"
      ]
     },
     "metadata": {
      "needs_background": "light"
     },
     "output_type": "display_data"
    }
   ],
   "source": [
    "figure(figsize=(10, 6), dpi=80)\n",
    "plt.plot(range(0, len(train_accuracy_all_siamese)), train_accuracy_all_siamese, color = 'red')\n",
    "plt.title('Test accuracy')\n",
    "plt.xlabel('Epochs')\n",
    "plt.ylabel('Accuracy')\n",
    "plt.legend()\n",
    "plt.show()"
   ]
  },
  {
   "cell_type": "code",
   "execution_count": 51,
   "metadata": {
    "id": "I76MX1QdzCz1"
   },
   "outputs": [],
   "source": [
    "torch.save(q4_weights_siamese, '/content/drive/My Drive/Projects and research stuffs/DLS Assignments/Assignment 4/Q4 Weights Siamese')\n"
   ]
  },
  {
   "cell_type": "code",
   "execution_count": null,
   "metadata": {
    "id": "lt9YLAWL0HMl"
   },
   "outputs": [],
   "source": []
  },
  {
   "cell_type": "code",
   "execution_count": null,
   "metadata": {
    "id": "RkvThQZY0HPx"
   },
   "outputs": [],
   "source": []
  },
  {
   "cell_type": "code",
   "execution_count": null,
   "metadata": {
    "id": "SC7B30Wd0HSX"
   },
   "outputs": [],
   "source": []
  }
 ],
 "metadata": {
  "accelerator": "GPU",
  "colab": {
   "collapsed_sections": [
    "lanENqxk7S1-",
    "5AZ3Gin98XDq",
    "Rm0eUlcPAAK-",
    "5eF5cPqhe9jk",
    "IuW6EV85zGEK"
   ],
   "provenance": []
  },
  "gpuClass": "standard",
  "kernelspec": {
   "display_name": "Python 3",
   "language": "python",
   "name": "python3"
  },
  "language_info": {
   "codemirror_mode": {
    "name": "ipython",
    "version": 3
   },
   "file_extension": ".py",
   "mimetype": "text/x-python",
   "name": "python",
   "nbconvert_exporter": "python",
   "pygments_lexer": "ipython3",
   "version": "3.7.9"
  }
 },
 "nbformat": 4,
 "nbformat_minor": 1
}
